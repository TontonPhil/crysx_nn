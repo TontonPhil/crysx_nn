{
 "cells": [
  {
   "cell_type": "markdown",
   "id": "3d64328b",
   "metadata": {},
   "source": [
    "# Simulating logic gates using `crysx_nn`"
   ]
  },
  {
   "cell_type": "code",
   "execution_count": 1,
   "id": "8425c979",
   "metadata": {},
   "outputs": [
    {
     "name": "stderr",
     "output_type": "stream",
     "text": [
      "C:\\Users\\manas\\anaconda3\\envs\\crysx_nn\\lib\\site-packages\\crysx_nn\\network.py:12: TqdmExperimentalWarning: Using `tqdm.autonotebook.tqdm` in notebook mode. Use `tqdm.tqdm` instead to force console mode (e.g. in jupyter console)\n",
      "  from tqdm.autonotebook import tqdm\n"
     ]
    }
   ],
   "source": [
    "import numpy as np\n",
    "import matplotlib.pyplot as plt\n",
    "\n",
    "\n",
    "# Import CrysX_nn related stuff\n",
    "\n",
    "# Import loss functions\n",
    "from crysx_nn.loss import MSE_loss, MSE_loss_grad\n",
    "from crysx_nn.loss import BCE_loss, BCE_loss_grad\n",
    "# Import neural network functions\n",
    "from crysx_nn.network import nn_optimize_fast\n",
    "from crysx_nn.network import visualize\n",
    "from crysx_nn.network import forward_feed"
   ]
  },
  {
   "cell_type": "markdown",
   "id": "1e04ce91",
   "metadata": {},
   "source": [
    "## Define some network parameters that we will be using later on"
   ]
  },
  {
   "cell_type": "code",
   "execution_count": 64,
   "id": "a25ad560",
   "metadata": {},
   "outputs": [],
   "source": [
    "nInputs = 2 # No. of nodes in the input layer\n",
    "neurons_per_layer = [3, 1] # Neurons per layer (excluding the input layer)\n",
    "activation_func_names = ['Tanh_offset', 'Tanh_offset']\n",
    "nLayers = len(neurons_per_layer)\n",
    "eeta = 0.5\n",
    "nEpochs=10**4\n",
    "batchSize = 4 # No. of input samples to process at a time for optimization"
   ]
  },
  {
   "cell_type": "markdown",
   "id": "0932dc0b",
   "metadata": {},
   "source": [
    "## Visualize the network"
   ]
  },
  {
   "cell_type": "code",
   "execution_count": 65,
   "id": "da6fc156",
   "metadata": {},
   "outputs": [
    {
     "data": {
      "image/png": "[encoded data removed]",
      "text/plain": [
       "<Figure size 1008x720 with 1 Axes>"
      ]
     },
     "metadata": {
      "needs_background": "light"
     },
     "output_type": "display_data"
    }
   ],
   "source": [
    "visualize(nInputs, neurons_per_layer, activation_func_names)"
   ]
  },
  {
   "cell_type": "markdown",
   "id": "c5d9a547",
   "metadata": {},
   "source": [
    "## Set the inputs (rows correspond to different set of inputs and columns represent the inputs)"
   ]
  },
  {
   "cell_type": "code",
   "execution_count": 66,
   "id": "72497675",
   "metadata": {},
   "outputs": [
    {
     "name": "stdout",
     "output_type": "stream",
     "text": [
      "[[0. 0.]\n",
      " [0. 1.]\n",
      " [1. 0.]\n",
      " [1. 1.]]\n",
      "float32\n"
     ]
    }
   ],
   "source": [
    "inputs = np.array([[0.,0.,1.,1.],[0.,1.,0.,1.]]).T.astype('float32')\n",
    "print(inputs)\n",
    "print(inputs.dtype)"
   ]
  },
  {
   "cell_type": "markdown",
   "id": "885dc2cf",
   "metadata": {},
   "source": [
    "## Outputs for different logic gates"
   ]
  },
  {
   "cell_type": "code",
   "execution_count": 67,
   "id": "b91298a9",
   "metadata": {},
   "outputs": [],
   "source": [
    "# AND function\n",
    "outputAND = np.array([0.,0.,0.,1.])\n",
    "outputAND = np.asarray([outputAND]).T\n",
    "# OR function\n",
    "outputOR = np.array([0.,1.,1.,1.])\n",
    "outputOR = np.asarray([outputOR]).T\n",
    "# NAND function\n",
    "outputNAND = np.array([1.,1.,1.,0.])\n",
    "outputNAND = np.asarray([outputNAND]).T\n",
    "# XOR function\n",
    "outputXOR = np.array([0.,1.,1.,0.])\n",
    "outputXOR = np.asarray([outputXOR]).T"
   ]
  },
  {
   "cell_type": "code",
   "execution_count": 68,
   "id": "f3262298",
   "metadata": {},
   "outputs": [
    {
     "name": "stdout",
     "output_type": "stream",
     "text": [
      "AND outputs\n",
      " [[0.]\n",
      " [0.]\n",
      " [0.]\n",
      " [1.]]\n",
      "OR outputs\n",
      " [[0.]\n",
      " [1.]\n",
      " [1.]\n",
      " [1.]]\n",
      "XOR outputs\n",
      " [[0.]\n",
      " [1.]\n",
      " [1.]\n",
      " [0.]]\n",
      "NAND outputs\n",
      " [[1.]\n",
      " [1.]\n",
      " [1.]\n",
      " [0.]]\n"
     ]
    }
   ],
   "source": [
    "print('AND outputs\\n', outputAND)\n",
    "print('OR outputs\\n', outputOR)\n",
    "print('XOR outputs\\n', outputXOR)\n",
    "print('NAND outputs\\n', outputNAND)"
   ]
  },
  {
   "cell_type": "markdown",
   "id": "9be09302",
   "metadata": {},
   "source": [
    "## Generate initial weights and biases"
   ]
  },
  {
   "cell_type": "code",
   "execution_count": 69,
   "id": "ee69acc0",
   "metadata": {},
   "outputs": [
    {
     "name": "stdout",
     "output_type": "stream",
     "text": [
      "Weights matrices: \n",
      " [array([[-0.2170162 , -0.18752952],\n",
      "       [ 0.22042384,  0.6977824 ],\n",
      "       [-0.48915785, -0.40538035]]), array([[-0.24837589, -0.18457728, -0.19099267]])]\n",
      "Biases: \n",
      " [array([0., 0., 0.]), array([0.])]\n"
     ]
    }
   ],
   "source": [
    "from crysx_nn.network import init_params\n",
    "weightsOriginal, biasesOriginal = init_params(nInputs, neurons_per_layer, method='Xavier')\n",
    "print('Weights matrices: \\n', weightsOriginal)\n",
    "print('Biases: \\n', biasesOriginal)"
   ]
  },
  {
   "cell_type": "markdown",
   "id": "96880a85",
   "metadata": {},
   "source": [
    "## You can also define your own custom initial guess and weights\n",
    "\n",
    "For example, for a neural network with 2 nodes in input layer, 3 nodes in hidden layer and 1 node in output layer use the following commented code"
   ]
  },
  {
   "cell_type": "code",
   "execution_count": 70,
   "id": "5a30e194",
   "metadata": {},
   "outputs": [],
   "source": [
    "# # Initial guesses for weights\n",
    "# w1 = 0.30\n",
    "# w2 = 0.55\n",
    "# w3 = 0.20\n",
    "# w4 = 0.45\n",
    "# w5 = 0.50\n",
    "# w6 = 0.35\n",
    "# w7 = 0.15\n",
    "# w8 = 0.40\n",
    "# w9 = 0.25\n",
    "\n",
    "# # Initial guesses for biases\n",
    "# b1 = 0.60\n",
    "# b2 = 0.05\n",
    "\n",
    "# # need to use a list instead of a numpy array, since the \n",
    "# #weight matrices at each layer are not of the same dimensions\n",
    "# weights = [] \n",
    "# # Weights for layer 1 --> 2\n",
    "# weights.append(np.array([[w1,w4],[w2, w5], [w3, w6]]))\n",
    "# # Weights for layer 2 --> 3\n",
    "# weights.append(np.array([[w7, w8, w9]]))\n",
    "# # List of biases at each layer\n",
    "# biases = []\n",
    "# biases.append(np.array([b1,b1,b1]))\n",
    "# biases.append(np.array([b2]))\n",
    "\n",
    "# weightsOriginal = weights\n",
    "# biasesOriginal = biases\n",
    "\n",
    "# print('Weights matrices: ',weights)\n",
    "# print('Biases: ',biases)"
   ]
  },
  {
   "cell_type": "markdown",
   "id": "061878d4",
   "metadata": {},
   "source": [
    "## Train neural network for AND gate\n",
    "We will use the Mean Squared Error loss function (MSE_loss)"
   ]
  },
  {
   "cell_type": "code",
   "execution_count": 71,
   "id": "f235eb69",
   "metadata": {},
   "outputs": [
    {
     "data": {
      "application/vnd.jupyter.widget-view+json": {
       "model_id": "4bc0e8564af6409da05ac1b1fcc55f54",
       "version_major": 2,
       "version_minor": 0
      },
      "text/plain": [
       "  0%|          | 0/10000 [00:00<?, ?it/s]"
      ]
     },
     "metadata": {},
     "output_type": "display_data"
    },
    {
     "name": "stdout",
     "output_type": "stream",
     "text": [
      "Average Error with initial weights and biases: 0.19453319343960523\n"
     ]
    }
   ],
   "source": [
    "\n",
    "# Run optimization\n",
    "optWeights, optBiases, errorPlot = nn_optimize_fast(inputs, outputAND, activation_func_names, nLayers, nEpochs=nEpochs, batchSize=batchSize, eeta=eeta, weights=weightsOriginal, biases=biasesOriginal, errorFunc=MSE_loss, gradErrorFunc=MSE_loss_grad,miniterEpoch=1,batchProgressBar=False,miniterBatch=100)\n",
    "\n"
   ]
  },
  {
   "cell_type": "markdown",
   "id": "8b25bc07",
   "metadata": {},
   "source": [
    "### Visualize the training loss"
   ]
  },
  {
   "cell_type": "code",
   "execution_count": 72,
   "id": "0c82e25f",
   "metadata": {},
   "outputs": [
    {
     "data": {
      "image/png": "[encoded data removed]",
      "text/plain": [
       "<Figure size 648x432 with 1 Axes>"
      ]
     },
     "metadata": {
      "needs_background": "light"
     },
     "output_type": "display_data"
    }
   ],
   "source": [
    "# Plot the error vs epochs\n",
    "plt.plot(errorPlot)\n",
    "plt.yscale('log')\n",
    "plt.show()"
   ]
  },
  {
   "cell_type": "markdown",
   "id": "7b33b211",
   "metadata": {},
   "source": [
    "### Optimized weights and biases"
   ]
  },
  {
   "cell_type": "code",
   "execution_count": 73,
   "id": "ea939b60",
   "metadata": {},
   "outputs": [
    {
     "name": "stdout",
     "output_type": "stream",
     "text": [
      "Optimized Weights:  [array([[-1.47238471, -1.24011593],\n",
      "       [ 0.84099957,  1.29333926],\n",
      "       [-1.67077068, -1.45542318]]), array([[-2.85548003,  2.69807908, -3.36143935]])]\n",
      "Optimized Biases:  [array([ 1.76886836, -1.24571708,  2.10868492]), array([0.79339517])]\n"
     ]
    }
   ],
   "source": [
    "# Optimized weights and biases\n",
    "print('Optimized Weights: ', optWeights)\n",
    "print('Optimized Biases: ', optBiases)"
   ]
  },
  {
   "cell_type": "markdown",
   "id": "605cf9f2",
   "metadata": {},
   "source": [
    "### Make predictions using the optimized weights"
   ]
  },
  {
   "cell_type": "code",
   "execution_count": 74,
   "id": "0ccc8430",
   "metadata": {},
   "outputs": [
    {
     "name": "stdout",
     "output_type": "stream",
     "text": [
      "Outputs at each layer (including input layer):\n",
      "  [array([[0., 0.],\n",
      "       [0., 1.],\n",
      "       [1., 0.],\n",
      "       [1., 1.]], dtype=float32), array([[0.97174263, 0.07646086, 0.98547668],\n",
      "       [0.74221343, 0.52379311, 0.78693083],\n",
      "       [0.64404569, 0.3080109 , 0.70595703],\n",
      "       [0.13155668, 0.85535616, 0.11557502]]), array([[3.80931387e-05],\n",
      "       [5.96459907e-03],\n",
      "       [5.62263229e-03],\n",
      "       [9.90752539e-01]])]\n",
      "Inputs at each layer :\n",
      "  [array([[ 1.76886836, -1.24571708,  2.10868492],\n",
      "       [ 0.52875243,  0.04762218,  0.65326174],\n",
      "       [ 0.29648365, -0.4047175 ,  0.43791424],\n",
      "       [-0.94363228,  0.88862175, -1.01750894]]), array([[-5.08771914],\n",
      "       [-2.55796549],\n",
      "       [-2.58765842],\n",
      "       [ 2.33705786]])]\n",
      "New Average Error with optimized weights:\n",
      " 3.817685758948311e-05\n",
      "Input:  [[0. 0.]\n",
      " [0. 1.]\n",
      " [1. 0.]\n",
      " [1. 1.]]\n",
      "Output:  [[3.80931387e-05]\n",
      " [5.96459907e-03]\n",
      " [5.62263229e-03]\n",
      " [9.90752539e-01]]\n",
      "Expected Output:  [[0.]\n",
      " [0.]\n",
      " [0.]\n",
      " [1.]]\n"
     ]
    }
   ],
   "source": [
    "# Forward feed with optimized weights\n",
    "# Perform Forward feed and get the outputs at each layers and the inputs at each layer\n",
    "a, z = forward_feed(inputs, nLayers, optWeights, optBiases, activation_func_names)\n",
    "print('Outputs at each layer (including input layer):\\n ',a)\n",
    "print('Inputs at each layer :\\n ', z)\n",
    "# New Error\n",
    "print('New Average Error with optimized weights:\\n', MSE_loss(a[nLayers],outputAND)/batchSize)\n",
    "print('Input: ',inputs)\n",
    "print('Output: ',a[nLayers])\n",
    "print('Expected Output: ',outputAND)"
   ]
  },
  {
   "cell_type": "markdown",
   "id": "dd94a3f0",
   "metadata": {},
   "source": [
    "## Train neural network for NAND gate\n",
    "We will use the Mean Squared Error loss function (MSE_loss)"
   ]
  },
  {
   "cell_type": "code",
   "execution_count": 75,
   "id": "82b7840f",
   "metadata": {},
   "outputs": [
    {
     "data": {
      "application/vnd.jupyter.widget-view+json": {
       "model_id": "056b86f09b0e41de8f25d895e6551852",
       "version_major": 2,
       "version_minor": 0
      },
      "text/plain": [
       "  0%|          | 0/10000 [00:00<?, ?it/s]"
      ]
     },
     "metadata": {},
     "output_type": "display_data"
    },
    {
     "name": "stdout",
     "output_type": "stream",
     "text": [
      "Average Error with initial weights and biases: 0.34450083861453673\n"
     ]
    }
   ],
   "source": [
    "\n",
    "# Run optimization\n",
    "optWeights, optBiases, errorPlot = nn_optimize_fast(inputs, outputNAND, activation_func_names, nLayers, nEpochs=nEpochs, batchSize=batchSize, eeta=eeta, weights=weightsOriginal, biases=biasesOriginal, errorFunc=MSE_loss, gradErrorFunc=MSE_loss_grad,miniterEpoch=1,batchProgressBar=False,miniterBatch=100)\n",
    "\n"
   ]
  },
  {
   "cell_type": "markdown",
   "id": "4ca46cf5",
   "metadata": {},
   "source": [
    "### Visualize the training loss"
   ]
  },
  {
   "cell_type": "code",
   "execution_count": 76,
   "id": "8e90e1e2",
   "metadata": {},
   "outputs": [
    {
     "data": {
      "image/png": "[encoded data removed]",
      "text/plain": [
       "<Figure size 648x432 with 1 Axes>"
      ]
     },
     "metadata": {
      "needs_background": "light"
     },
     "output_type": "display_data"
    }
   ],
   "source": [
    "# Plot the error vs epochs\n",
    "plt.plot(errorPlot)\n",
    "plt.yscale('log')\n",
    "plt.show()"
   ]
  },
  {
   "cell_type": "markdown",
   "id": "fa5cb76f",
   "metadata": {},
   "source": [
    "### Optimized weights and biases"
   ]
  },
  {
   "cell_type": "code",
   "execution_count": 77,
   "id": "770846c7",
   "metadata": {},
   "outputs": [
    {
     "name": "stdout",
     "output_type": "stream",
     "text": [
      "Optimized Weights:  [array([[-1.0502594 , -0.8801167 ],\n",
      "       [ 1.35929723,  1.55807145],\n",
      "       [-1.52553915, -1.42921527]]), array([[ 1.97853933, -3.52614732,  3.22324288]])]\n",
      "Optimized Biases:  [array([ 1.14143754, -1.9786267 ,  2.01168266]), array([-0.06201056])]\n"
     ]
    }
   ],
   "source": [
    "# Optimized weights and biases\n",
    "print('Optimized Weights: ', optWeights)\n",
    "print('Optimized Biases: ', optBiases)"
   ]
  },
  {
   "cell_type": "markdown",
   "id": "cfa71972",
   "metadata": {},
   "source": [
    "### Make predictions using the optimized weights"
   ]
  },
  {
   "cell_type": "code",
   "execution_count": 78,
   "id": "0d26c68e",
   "metadata": {},
   "outputs": [
    {
     "name": "stdout",
     "output_type": "stream",
     "text": [
      "Outputs at each layer (including input layer):\n",
      "  [array([[0., 0.],\n",
      "       [0., 1.],\n",
      "       [1., 0.],\n",
      "       [1., 1.]], dtype=float32), array([[0.90744879, 0.018757  , 0.98242187],\n",
      "       [0.62776527, 0.30130095, 0.76222823],\n",
      "       [0.54546315, 0.2246695 , 0.72557511],\n",
      "       [0.17109634, 0.86732186, 0.13168481]]), array([[0.99993671],\n",
      "       [0.99422787],\n",
      "       [0.99410298],\n",
      "       [0.00888308]])]\n",
      "Inputs at each layer :\n",
      "  [array([[ 1.14143754, -1.9786267 ,  2.01168266],\n",
      "       [ 0.26132084, -0.42055525,  0.58246738],\n",
      "       [ 0.09117814, -0.61932947,  0.48614351],\n",
      "       [-0.78893856,  0.93874198, -0.94307177]]), array([[ 4.83385694],\n",
      "       [ 2.57446289],\n",
      "       [ 2.56369679],\n",
      "       [-2.35734226]])]\n",
      "New Average Error with optimized weights:\n",
      " 3.6751340792601266e-05\n",
      "Input:  [[0. 0.]\n",
      " [0. 1.]\n",
      " [1. 0.]\n",
      " [1. 1.]]\n",
      "Output:  [[0.99993671]\n",
      " [0.99422787]\n",
      " [0.99410298]\n",
      " [0.00888308]]\n",
      "Expected Output:  [[1.]\n",
      " [1.]\n",
      " [1.]\n",
      " [0.]]\n"
     ]
    }
   ],
   "source": [
    "# Forward feed with optimized weights\n",
    "# Perform Forward feed and get the outputs at each layers and the inputs at each layer\n",
    "a, z = forward_feed(inputs, nLayers, optWeights, optBiases, activation_func_names)\n",
    "print('Outputs at each layer (including input layer):\\n ',a)\n",
    "print('Inputs at each layer :\\n ', z)\n",
    "# New Error\n",
    "print('New Average Error with optimized weights:\\n', MSE_loss(a[nLayers],outputNAND)/batchSize)\n",
    "print('Input: ',inputs)\n",
    "print('Output: ',a[nLayers])\n",
    "print('Expected Output: ',outputNAND)"
   ]
  },
  {
   "cell_type": "markdown",
   "id": "025b4361",
   "metadata": {},
   "source": [
    "## Train neural network for OR gate\n",
    "We will use the Mean Squared Error loss function (MSE_loss)"
   ]
  },
  {
   "cell_type": "code",
   "execution_count": 79,
   "id": "05f386bc",
   "metadata": {},
   "outputs": [
    {
     "data": {
      "application/vnd.jupyter.widget-view+json": {
       "model_id": "ef204c0a27bd4d36a557ba8dfb1789e8",
       "version_major": 2,
       "version_minor": 0
      },
      "text/plain": [
       "  0%|          | 0/10000 [00:00<?, ?it/s]"
      ]
     },
     "metadata": {},
     "output_type": "display_data"
    },
    {
     "name": "stdout",
     "output_type": "stream",
     "text": [
      "Average Error with initial weights and biases: 0.33323441673360193\n"
     ]
    }
   ],
   "source": [
    "\n",
    "# Run optimization\n",
    "optWeights, optBiases, errorPlot = nn_optimize_fast(inputs, outputOR, activation_func_names, nLayers, nEpochs=nEpochs, batchSize=batchSize, eeta=eeta, weights=weightsOriginal, biases=biasesOriginal, errorFunc=MSE_loss, gradErrorFunc=MSE_loss_grad,miniterEpoch=1,batchProgressBar=False,miniterBatch=100)\n",
    "\n"
   ]
  },
  {
   "cell_type": "markdown",
   "id": "708ebc97",
   "metadata": {},
   "source": [
    "### Visualize the training loss"
   ]
  },
  {
   "cell_type": "code",
   "execution_count": 80,
   "id": "268cc187",
   "metadata": {},
   "outputs": [
    {
     "data": {
      "image/png": "[encoded data removed]",
      "text/plain": [
       "<Figure size 648x432 with 1 Axes>"
      ]
     },
     "metadata": {
      "needs_background": "light"
     },
     "output_type": "display_data"
    }
   ],
   "source": [
    "# Plot the error vs epochs\n",
    "plt.plot(errorPlot)\n",
    "plt.yscale('log')\n",
    "plt.show()"
   ]
  },
  {
   "cell_type": "markdown",
   "id": "3db6437f",
   "metadata": {},
   "source": [
    "### Optimized weights and biases"
   ]
  },
  {
   "cell_type": "code",
   "execution_count": 81,
   "id": "2550afef",
   "metadata": {},
   "outputs": [
    {
     "name": "stdout",
     "output_type": "stream",
     "text": [
      "Optimized Weights:  [array([[-1.2919744 , -1.2471441 ],\n",
      "       [ 1.68563385,  1.77009197],\n",
      "       [-1.74938818, -1.69758996]]), array([[-1.9402095 ,  2.97568165, -2.7859191 ]])]\n",
      "Optimized Biases:  [array([ 0.46205132, -0.7309624 ,  0.72942029]), array([0.63398077])]\n"
     ]
    }
   ],
   "source": [
    "# Optimized weights and biases\n",
    "print('Optimized Weights: ', optWeights)\n",
    "print('Optimized Biases: ', optBiases)"
   ]
  },
  {
   "cell_type": "markdown",
   "id": "58703cea",
   "metadata": {},
   "source": [
    "### Make predictions using the optimized weights"
   ]
  },
  {
   "cell_type": "code",
   "execution_count": 82,
   "id": "bacdcc96",
   "metadata": {},
   "outputs": [
    {
     "name": "stdout",
     "output_type": "stream",
     "text": [
      "Outputs at each layer (including input layer):\n",
      "  [array([[0., 0.],\n",
      "       [0., 1.],\n",
      "       [1., 0.],\n",
      "       [1., 1.]], dtype=float32), array([[0.71587731, 0.18817311, 0.81135528],\n",
      "       [0.17218994, 0.88877205, 0.12605057],\n",
      "       [0.15978265, 0.87094531, 0.11507327],\n",
      "       [0.01545671, 0.99572006, 0.0043418 ]]), array([[0.00731275],\n",
      "       [0.99444156],\n",
      "       [0.99445931],\n",
      "       [0.99918351]])]\n",
      "Inputs at each layer :\n",
      "  [array([[ 0.46205132, -0.7309624 ,  0.72942029],\n",
      "       [-0.78509278,  1.03912956, -0.96816966],\n",
      "       [-0.82992308,  0.95467145, -1.01996788],\n",
      "       [-2.07706718,  2.72476342, -2.71755784]]), array([[-2.4553981 ],\n",
      "       [ 2.59343221],\n",
      "       [ 2.5950401 ],\n",
      "       [ 3.55484151]])]\n",
      "New Average Error with optimized weights:\n",
      " 2.8934607855121334e-05\n",
      "Input:  [[0. 0.]\n",
      " [0. 1.]\n",
      " [1. 0.]\n",
      " [1. 1.]]\n",
      "Output:  [[0.00731275]\n",
      " [0.99444156]\n",
      " [0.99445931]\n",
      " [0.99918351]]\n",
      "Expected Output:  [[0.]\n",
      " [1.]\n",
      " [1.]\n",
      " [1.]]\n"
     ]
    }
   ],
   "source": [
    "# Forward feed with optimized weights\n",
    "# Perform Forward feed and get the outputs at each layers and the inputs at each layer\n",
    "a, z = forward_feed(inputs, nLayers, optWeights, optBiases, activation_func_names)\n",
    "print('Outputs at each layer (including input layer):\\n ',a)\n",
    "print('Inputs at each layer :\\n ', z)\n",
    "# New Error\n",
    "print('New Average Error with optimized weights:\\n', MSE_loss(a[nLayers],outputOR)/batchSize)\n",
    "print('Input: ',inputs)\n",
    "print('Output: ',a[nLayers])\n",
    "print('Expected Output: ',outputOR)"
   ]
  },
  {
   "cell_type": "markdown",
   "id": "41614673",
   "metadata": {},
   "source": [
    "## Train neural network for XOR gate\n",
    "We will use the Mean Squared Error loss function (MSE_loss)"
   ]
  },
  {
   "cell_type": "code",
   "execution_count": 83,
   "id": "6f7d4d6a",
   "metadata": {},
   "outputs": [
    {
     "data": {
      "application/vnd.jupyter.widget-view+json": {
       "model_id": "b01592d5ac1d4dc6b669e9d191c6c883",
       "version_major": 2,
       "version_minor": 0
      },
      "text/plain": [
       "  0%|          | 0/10000 [00:00<?, ?it/s]"
      ]
     },
     "metadata": {},
     "output_type": "display_data"
    },
    {
     "name": "stdout",
     "output_type": "stream",
     "text": [
      "Average Error with initial weights and biases: 0.26894312080503385\n"
     ]
    }
   ],
   "source": [
    "\n",
    "# Run optimization\n",
    "optWeights, optBiases, errorPlot = nn_optimize_fast(inputs, outputXOR, activation_func_names, nLayers, nEpochs=nEpochs, batchSize=batchSize, eeta=eeta, weights=weightsOriginal, biases=biasesOriginal, errorFunc=MSE_loss, gradErrorFunc=MSE_loss_grad,miniterEpoch=1,batchProgressBar=False,miniterBatch=100)\n",
    "\n"
   ]
  },
  {
   "cell_type": "markdown",
   "id": "d5968459",
   "metadata": {},
   "source": [
    "### Visualize the training loss"
   ]
  },
  {
   "cell_type": "code",
   "execution_count": 84,
   "id": "3d179c16",
   "metadata": {},
   "outputs": [
    {
     "data": {
      "image/png": "[encoded data removed]",
      "text/plain": [
       "<Figure size 648x432 with 1 Axes>"
      ]
     },
     "metadata": {
      "needs_background": "light"
     },
     "output_type": "display_data"
    }
   ],
   "source": [
    "# Plot the error vs epochs\n",
    "plt.plot(errorPlot)\n",
    "plt.yscale('log')\n",
    "plt.show()"
   ]
  },
  {
   "cell_type": "markdown",
   "id": "25cb08b9",
   "metadata": {},
   "source": [
    "### Optimized weights and biases"
   ]
  },
  {
   "cell_type": "code",
   "execution_count": 85,
   "id": "31d4bfa6",
   "metadata": {},
   "outputs": [
    {
     "name": "stdout",
     "output_type": "stream",
     "text": [
      "Optimized Weights:  [array([[-1.52806566, -1.51593417],\n",
      "       [ 1.92531914,  1.93820211],\n",
      "       [-3.33015437, -3.33532684]]), array([[ 2.88631368, -3.91846703, -5.75891616]])]\n",
      "Optimized Biases:  [array([ 2.43701242, -3.03413282,  1.42724762]), array([0.31754992])]\n"
     ]
    }
   ],
   "source": [
    "# Optimized weights and biases\n",
    "print('Optimized Weights: ', optWeights)\n",
    "print('Optimized Biases: ', optBiases)"
   ]
  },
  {
   "cell_type": "markdown",
   "id": "f9d62182",
   "metadata": {},
   "source": [
    "### Make predictions using the optimized weights"
   ]
  },
  {
   "cell_type": "code",
   "execution_count": 86,
   "id": "58de2485",
   "metadata": {},
   "outputs": [
    {
     "name": "stdout",
     "output_type": "stream",
     "text": [
      "Outputs at each layer (including input layer):\n",
      "  [array([[0., 0.],\n",
      "       [0., 1.],\n",
      "       [1., 0.],\n",
      "       [1., 1.]], dtype=float32), array([[9.92415422e-01, 2.30983742e-03, 9.45550582e-01],\n",
      "       [8.63203553e-01, 1.00483722e-01, 2.15380988e-02],\n",
      "       [8.60313174e-01, 9.81786772e-02, 2.17571926e-02],\n",
      "       [2.28998508e-01, 8.40073744e-01, 2.81913496e-05]]), array([[0.01051012],\n",
      "       [0.98987425],\n",
      "       [0.98986277],\n",
      "       [0.00969018]])]\n",
      "Inputs at each layer :\n",
      "  [array([[ 2.43701242, -3.03413282,  1.42724762],\n",
      "       [ 0.92107825, -1.0959307 , -1.90807922],\n",
      "       [ 0.90894676, -1.10881368, -1.90290676],\n",
      "       [-0.60698741,  0.82938843, -5.23823359]]), array([[-2.27242542],\n",
      "       [ 2.29124789],\n",
      "       [ 2.29067585],\n",
      "       [-2.31345217]])]\n",
      "New Average Error with optimized weights:\n",
      " 0.00010241415749641483\n",
      "Input:  [[0. 0.]\n",
      " [0. 1.]\n",
      " [1. 0.]\n",
      " [1. 1.]]\n",
      "Output:  [[0.01051012]\n",
      " [0.98987425]\n",
      " [0.98986277]\n",
      " [0.00969018]]\n",
      "Expected Output:  [[0.]\n",
      " [1.]\n",
      " [1.]\n",
      " [0.]]\n"
     ]
    }
   ],
   "source": [
    "# Forward feed with optimized weights\n",
    "# Perform Forward feed and get the outputs at each layers and the inputs at each layer\n",
    "a, z = forward_feed(inputs, nLayers, optWeights, optBiases, activation_func_names)\n",
    "print('Outputs at each layer (including input layer):\\n ',a)\n",
    "print('Inputs at each layer :\\n ', z)\n",
    "# New Error\n",
    "print('New Average Error with optimized weights:\\n', MSE_loss(a[nLayers],outputXOR)/batchSize)\n",
    "print('Input: ',inputs)\n",
    "print('Output: ',a[nLayers])\n",
    "print('Expected Output: ',outputXOR)"
   ]
  }
 ],
 "metadata": {
  "kernelspec": {
   "display_name": "Python 3 (ipykernel)",
   "language": "python",
   "name": "python3"
  },
  "language_info": {
   "codemirror_mode": {
    "name": "ipython",
    "version": 3
   },
   "file_extension": ".py",
   "mimetype": "text/x-python",
   "name": "python",
   "nbconvert_exporter": "python",
   "pygments_lexer": "ipython3",
   "version": "3.7.11"
  }
 },
 "nbformat": 4,
 "nbformat_minor": 5
}
