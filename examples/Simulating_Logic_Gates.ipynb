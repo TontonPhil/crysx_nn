{
 "cells": [
  {
   "cell_type": "markdown",
   "id": "3d64328b",
   "metadata": {},
   "source": [
    "# Simulating logic gates using `crysx_nn`"
   ]
  },
  {
   "cell_type": "code",
   "execution_count": 1,
   "id": "8425c979",
   "metadata": {},
   "outputs": [],
   "source": [
    "import numpy as np\n",
    "import matplotlib.pyplot as plt"
   ]
  },
  {
   "cell_type": "markdown",
   "id": "1e04ce91",
   "metadata": {},
   "source": [
    "## Define some network parameters that we will be using toninitialize the model"
   ]
  },
  {
   "cell_type": "code",
   "execution_count": 2,
   "id": "a25ad560",
   "metadata": {},
   "outputs": [],
   "source": [
    "nInputs = 2 # No. of nodes in the input layer\n",
    "neurons_per_layer = [3, 1] # Neurons per layer (excluding the input layer)\n",
    "activation_func_names = ['Tanh_offset', 'Tanh_offset']\n",
    "nLayers = len(neurons_per_layer)\n",
    "nEpochs=10**4\n",
    "batchSize = 4 # No. of input samples to process at a time for optimization"
   ]
  },
  {
   "cell_type": "markdown",
   "id": "4a176812",
   "metadata": {},
   "source": [
    "## Create the neural network model"
   ]
  },
  {
   "cell_type": "code",
   "execution_count": 3,
   "id": "a827fb77",
   "metadata": {},
   "outputs": [
    {
     "name": "stderr",
     "output_type": "stream",
     "text": [
      "C:\\Users\\manas\\anaconda3\\envs\\crysx_nn\\lib\\site-packages\\crysx_nn\\network.py:12: TqdmExperimentalWarning: Using `tqdm.autonotebook.tqdm` in notebook mode. Use `tqdm.tqdm` instead to force console mode (e.g. in jupyter console)\n",
      "  from tqdm.autonotebook import tqdm\n"
     ]
    },
    {
     "name": "stdout",
     "output_type": "stream",
     "text": [
      "Note: The model will use the following device for all the computations:  CPU\n"
     ]
    }
   ],
   "source": [
    "from crysx_nn import network\n",
    "model = network.nn_model(nInputs=nInputs, neurons_per_layer=neurons_per_layer, activation_func_names=activation_func_names, batch_size=batchSize, device='CPU', init_method='Xavier') "
   ]
  },
  {
   "cell_type": "markdown",
   "id": "205fc22f",
   "metadata": {},
   "source": [
    "## Check the details of the model for confirmation"
   ]
  },
  {
   "cell_type": "code",
   "execution_count": 4,
   "id": "e6d82295",
   "metadata": {},
   "outputs": [
    {
     "name": "stdout",
     "output_type": "stream",
     "text": [
      "----------------------------------------------------------------------------------\n",
      "****Neural Network Model Details****\n",
      "----------------------------------------------------------------------------------\n",
      "Number of input nodes:  2\n",
      "Number of layers (hidden+output):  2\n",
      "Number of nodes in each layer (hidden & output):  [3, 1]\n",
      "Activation function for each layer (hidden & output):   ['Tanh_offset', 'Tanh_offset']\n",
      "Method used for weights and biases initialization:   Xavier\n",
      "Batch Size:  4\n",
      "Device:  CPU\n",
      "Optimization method:  SGD\n",
      "Learning rate:  0.5\n",
      "----------------------------------------------------------------------------------\n"
     ]
    }
   ],
   "source": [
    "model.details()"
   ]
  },
  {
   "cell_type": "markdown",
   "id": "0932dc0b",
   "metadata": {},
   "source": [
    "## Visualize the network"
   ]
  },
  {
   "cell_type": "code",
   "execution_count": 5,
   "id": "da6fc156",
   "metadata": {},
   "outputs": [
    {
     "data": {
      "image/png": "[encoded data removed]",
      "text/plain": [
       "<Figure size 1008x720 with 1 Axes>"
      ]
     },
     "metadata": {
      "needs_background": "light"
     },
     "output_type": "display_data"
    }
   ],
   "source": [
    "model.visualize()"
   ]
  },
  {
   "cell_type": "markdown",
   "id": "e922de53",
   "metadata": {},
   "source": [
    "## Initial Weights and Biases being used by the network"
   ]
  },
  {
   "cell_type": "code",
   "execution_count": 6,
   "id": "8d78df85",
   "metadata": {},
   "outputs": [
    {
     "name": "stdout",
     "output_type": "stream",
     "text": [
      "Initial Weights:\n",
      " [array([[ 0.69220674, -0.61255179],\n",
      "       [ 0.6111291 ,  0.15045302],\n",
      "       [ 0.70524644,  0.49123389]]), array([[-0.55672354,  0.32480731, -0.26968002]])]\n",
      "Initial Biases:\n",
      " [array([0., 0., 0.]), array([0.])]\n"
     ]
    }
   ],
   "source": [
    "print('Initial Weights:\\n',model.init_weights)\n",
    "print('Initial Biases:\\n',model.init_biases)"
   ]
  },
  {
   "cell_type": "markdown",
   "id": "c5d9a547",
   "metadata": {},
   "source": [
    "## Set the inputs (rows correspond to different set of inputs and columns represent the inputs)"
   ]
  },
  {
   "cell_type": "code",
   "execution_count": 7,
   "id": "72497675",
   "metadata": {},
   "outputs": [
    {
     "name": "stdout",
     "output_type": "stream",
     "text": [
      "[[0. 0.]\n",
      " [0. 1.]\n",
      " [1. 0.]\n",
      " [1. 1.]]\n",
      "float32\n"
     ]
    }
   ],
   "source": [
    "inputs = np.array([[0.,0.,1.,1.],[0.,1.,0.,1.]]).T.astype('float32')\n",
    "print(inputs)\n",
    "print(inputs.dtype)"
   ]
  },
  {
   "cell_type": "markdown",
   "id": "885dc2cf",
   "metadata": {},
   "source": [
    "## Outputs for different logic gates"
   ]
  },
  {
   "cell_type": "code",
   "execution_count": 8,
   "id": "b91298a9",
   "metadata": {},
   "outputs": [],
   "source": [
    "# AND function\n",
    "outputAND = np.array([0.,0.,0.,1.])\n",
    "outputAND = np.asarray([outputAND]).T\n",
    "# OR function\n",
    "outputOR = np.array([0.,1.,1.,1.])\n",
    "outputOR = np.asarray([outputOR]).T\n",
    "# NAND function\n",
    "outputNAND = np.array([1.,1.,1.,0.])\n",
    "outputNAND = np.asarray([outputNAND]).T\n",
    "# XOR function\n",
    "outputXOR = np.array([0.,1.,1.,0.])\n",
    "outputXOR = np.asarray([outputXOR]).T"
   ]
  },
  {
   "cell_type": "code",
   "execution_count": 9,
   "id": "f3262298",
   "metadata": {},
   "outputs": [
    {
     "name": "stdout",
     "output_type": "stream",
     "text": [
      "AND outputs\n",
      " [[0.]\n",
      " [0.]\n",
      " [0.]\n",
      " [1.]]\n",
      "OR outputs\n",
      " [[0.]\n",
      " [1.]\n",
      " [1.]\n",
      " [1.]]\n",
      "XOR outputs\n",
      " [[0.]\n",
      " [1.]\n",
      " [1.]\n",
      " [0.]]\n",
      "NAND outputs\n",
      " [[1.]\n",
      " [1.]\n",
      " [1.]\n",
      " [0.]]\n"
     ]
    }
   ],
   "source": [
    "print('AND outputs\\n', outputAND)\n",
    "print('OR outputs\\n', outputOR)\n",
    "print('XOR outputs\\n', outputXOR)\n",
    "print('NAND outputs\\n', outputNAND)"
   ]
  },
  {
   "cell_type": "markdown",
   "id": "9be09302",
   "metadata": {},
   "source": [
    "## You can also reinitialize weights and biases using some other method"
   ]
  },
  {
   "cell_type": "code",
   "execution_count": 10,
   "id": "ee69acc0",
   "metadata": {},
   "outputs": [
    {
     "name": "stdout",
     "output_type": "stream",
     "text": [
      "Initial Weights:\n",
      " [array([[-0.66735507,  1.89981375],\n",
      "       [ 1.58135381,  0.30297808],\n",
      "       [-1.02875636,  0.39637066]]), array([[ 1.14150595,  0.86579216, -1.50878406]])]\n",
      "Initial Biases:\n",
      " [array([0., 0., 0.]), array([0.])]\n"
     ]
    }
   ],
   "source": [
    "model.init_params(method='NormXavier')\n",
    "print('Initial Weights:\\n',model.init_weights)\n",
    "print('Initial Biases:\\n',model.init_biases)"
   ]
  },
  {
   "cell_type": "markdown",
   "id": "96880a85",
   "metadata": {},
   "source": [
    "## You can also define your own custom initial guess and weights\n",
    "\n",
    "For example, for a neural network with 2 nodes in input layer, 3 nodes in hidden layer and 1 node in output layer use the following commented code"
   ]
  },
  {
   "cell_type": "code",
   "execution_count": 11,
   "id": "5a30e194",
   "metadata": {},
   "outputs": [],
   "source": [
    "# # Initial guesses for weights\n",
    "# w1 = 0.30\n",
    "# w2 = 0.55\n",
    "# w3 = 0.20\n",
    "# w4 = 0.45\n",
    "# w5 = 0.50\n",
    "# w6 = 0.35\n",
    "# w7 = 0.15\n",
    "# w8 = 0.40\n",
    "# w9 = 0.25\n",
    "\n",
    "# # Initial guesses for biases\n",
    "# b1 = 0.60\n",
    "# b2 = 0.05\n",
    "\n",
    "# # need to use a list instead of a numpy array, since the \n",
    "# #weight matrices at each layer are not of the same dimensions\n",
    "# weights = [] \n",
    "# # Weights for layer 1 --> 2\n",
    "# weights.append(np.array([[w1,w4],[w2, w5], [w3, w6]]))\n",
    "# # Weights for layer 2 --> 3\n",
    "# weights.append(np.array([[w7, w8, w9]]))\n",
    "# # List of biases at each layer\n",
    "# biases = []\n",
    "# biases.append(np.array([b1,b1,b1]))\n",
    "# biases.append(np.array([b2]))\n",
    "\n",
    "# weightsOriginal = weights\n",
    "# biasesOriginal = biases\n",
    "\n",
    "# print('Weights matrices: ',weights)\n",
    "# print('Biases: ',biases)"
   ]
  },
  {
   "cell_type": "markdown",
   "id": "061878d4",
   "metadata": {},
   "source": [
    "## Train neural network for AND gate\n",
    "We will use the Mean Squared Error loss function (MSE_loss)"
   ]
  },
  {
   "cell_type": "code",
   "execution_count": 12,
   "id": "f235eb69",
   "metadata": {},
   "outputs": [
    {
     "data": {
      "application/vnd.jupyter.widget-view+json": {
       "model_id": "66a3a98e502f4f0f86360efc9084b5b6",
       "version_major": 2,
       "version_minor": 0
      },
      "text/plain": [
       "  0%|          | 0/10000 [00:00<?, ?it/s]"
      ]
     },
     "metadata": {},
     "output_type": "display_data"
    },
    {
     "name": "stdout",
     "output_type": "stream",
     "text": [
      "Average Error with initial weights and biases: 0.43383708725030273\n"
     ]
    }
   ],
   "source": [
    "\n",
    "# Run optimization\n",
    "model.optimize(inputs, outputAND, lr=0.5,nEpochs=nEpochs,loss_func_name='MSE', miniterEpoch=1, batchProgressBar=False, miniterBatch=100)\n"
   ]
  },
  {
   "cell_type": "markdown",
   "id": "8b25bc07",
   "metadata": {},
   "source": [
    "### Visualize the training loss"
   ]
  },
  {
   "cell_type": "code",
   "execution_count": 13,
   "id": "0c82e25f",
   "metadata": {},
   "outputs": [
    {
     "data": {
      "image/png": "[encoded data removed]",
      "text/plain": [
       "<Figure size 648x432 with 1 Axes>"
      ]
     },
     "metadata": {
      "needs_background": "light"
     },
     "output_type": "display_data"
    }
   ],
   "source": [
    "# Plot the error vs epochs\n",
    "plt.plot(model.errors)\n",
    "plt.yscale('log')\n",
    "plt.show()"
   ]
  },
  {
   "cell_type": "markdown",
   "id": "7b33b211",
   "metadata": {},
   "source": [
    "### Optimized weights and biases"
   ]
  },
  {
   "cell_type": "code",
   "execution_count": 14,
   "id": "ea939b60",
   "metadata": {},
   "outputs": [
    {
     "name": "stdout",
     "output_type": "stream",
     "text": [
      "Optimized Weights:  [array([[-0.77234777,  2.94809178],\n",
      "       [ 1.97016642, -0.00716646],\n",
      "       [-1.99009021, -1.28229001]]), array([[ 2.82829401,  1.79432844, -4.51437819]])]\n",
      "Optimized Biases:  [array([-0.40955495, -0.86377195,  2.29951601]), array([-1.48587213])]\n"
     ]
    }
   ],
   "source": [
    "# Optimized weights and biases\n",
    "print('Optimized Weights: ', model.weights)\n",
    "print('Optimized Biases: ', model.biases)"
   ]
  },
  {
   "cell_type": "markdown",
   "id": "605cf9f2",
   "metadata": {},
   "source": [
    "### Make predictions using the optimized weights"
   ]
  },
  {
   "cell_type": "code",
   "execution_count": 15,
   "id": "0ccc8430",
   "metadata": {},
   "outputs": [
    {
     "name": "stdout",
     "output_type": "stream",
     "text": [
      "Input:\n",
      " [[0. 0.]\n",
      " [0. 1.]\n",
      " [1. 0.]\n",
      " [1. 1.]]\n",
      "Prediction:\n",
      " [[6.51744058e-05]\n",
      " [8.16272136e-03]\n",
      " [5.94678339e-03]\n",
      " [9.90297134e-01]]\n",
      "Expected Output:\n",
      " [[0.]\n",
      " [0.]\n",
      " [0.]\n",
      " [1.]]\n",
      "New Average Error with optimized weights:\n",
      " 4.903602650103742e-05\n"
     ]
    }
   ],
   "source": [
    "predictions, error = model.predict(inputs, outputAND, loss_func_name='MSE')\n",
    "print('Input:\\n',inputs)\n",
    "print('Prediction:\\n',predictions)\n",
    "print('Expected Output:\\n',outputAND)\n",
    "print('New Average Error with optimized weights:\\n', error)\n"
   ]
  },
  {
   "cell_type": "markdown",
   "id": "dd94a3f0",
   "metadata": {},
   "source": [
    "## Train neural network for NAND gate\n",
    "We will use the Mean Squared Error loss function (MSE_loss)"
   ]
  },
  {
   "cell_type": "markdown",
   "id": "f58a6a5b",
   "metadata": {},
   "source": [
    "## You can reinitialize weights and biases or use the ones optimized for the previous gate for transfer learning"
   ]
  },
  {
   "cell_type": "code",
   "execution_count": 16,
   "id": "6c131627",
   "metadata": {},
   "outputs": [
    {
     "name": "stdout",
     "output_type": "stream",
     "text": [
      "Initial Weights:\n",
      " [array([[ 0.50378642,  0.39349568],\n",
      "       [ 0.14564292,  0.57876518],\n",
      "       [-0.03805383, -0.57339065]]), array([[ 0.44961986, -0.20733947, -0.5298311 ]])]\n",
      "Initial Biases:\n",
      " [array([0., 0., 0.]), array([0.])]\n"
     ]
    }
   ],
   "source": [
    "model.init_params()\n",
    "print('Initial Weights:\\n',model.init_weights)\n",
    "print('Initial Biases:\\n',model.init_biases)"
   ]
  },
  {
   "cell_type": "code",
   "execution_count": 17,
   "id": "82b7840f",
   "metadata": {},
   "outputs": [
    {
     "data": {
      "application/vnd.jupyter.widget-view+json": {
       "model_id": "834bf381a4444b35a50b62f622148eab",
       "version_major": 2,
       "version_minor": 0
      },
      "text/plain": [
       "  0%|          | 0/10000 [00:00<?, ?it/s]"
      ]
     },
     "metadata": {},
     "output_type": "display_data"
    },
    {
     "name": "stdout",
     "output_type": "stream",
     "text": [
      "Average Error with initial weights and biases: 0.2845484501936699\n"
     ]
    }
   ],
   "source": [
    "\n",
    "# Run optimization\n",
    "model.optimize(inputs, outputNAND, lr=0.5, nEpochs=nEpochs,loss_func_name='MSE', miniterEpoch=1, batchProgressBar=False, miniterBatch=100)\n"
   ]
  },
  {
   "cell_type": "markdown",
   "id": "4ca46cf5",
   "metadata": {},
   "source": [
    "### Visualize the training loss"
   ]
  },
  {
   "cell_type": "code",
   "execution_count": 18,
   "id": "8e90e1e2",
   "metadata": {},
   "outputs": [
    {
     "data": {
      "image/png": "[encoded data removed]",
      "text/plain": [
       "<Figure size 648x432 with 1 Axes>"
      ]
     },
     "metadata": {
      "needs_background": "light"
     },
     "output_type": "display_data"
    }
   ],
   "source": [
    "# Plot the error vs epochs\n",
    "plt.plot(model.errors)\n",
    "plt.yscale('log')\n",
    "plt.show()"
   ]
  },
  {
   "cell_type": "markdown",
   "id": "fa5cb76f",
   "metadata": {},
   "source": [
    "### Optimized weights and biases"
   ]
  },
  {
   "cell_type": "code",
   "execution_count": 19,
   "id": "770846c7",
   "metadata": {},
   "outputs": [
    {
     "name": "stdout",
     "output_type": "stream",
     "text": [
      "Optimized Weights:  [array([[ 0.30359807,  0.30298973],\n",
      "       [ 2.0312073 ,  1.94369894],\n",
      "       [-1.06903772, -1.16949897]]), array([[ 0.11924679, -4.67280626,  2.60902355]])]\n",
      "Optimized Biases:  [array([ 0.57939218, -2.884604  ,  1.52850932]), array([1.24822638])]\n"
     ]
    }
   ],
   "source": [
    "# Optimized weights and biases\n",
    "print('Optimized Weights: ', model.weights)\n",
    "print('Optimized Biases: ', model.biases)"
   ]
  },
  {
   "cell_type": "markdown",
   "id": "cfa71972",
   "metadata": {},
   "source": [
    "### Make predictions using the optimized weights"
   ]
  },
  {
   "cell_type": "code",
   "execution_count": 20,
   "id": "0d26c68e",
   "metadata": {},
   "outputs": [
    {
     "name": "stdout",
     "output_type": "stream",
     "text": [
      "Input:\n",
      " [[0. 0.]\n",
      " [0. 1.]\n",
      " [1. 0.]\n",
      " [1. 1.]]\n",
      "Prediction:\n",
      " [[0.99951582]\n",
      " [0.99311968]\n",
      " [0.99327259]\n",
      " [0.00931587]]\n",
      "Expected Output:\n",
      " [[1.]\n",
      " [1.]\n",
      " [1.]\n",
      " [0.]]\n",
      "New Average Error with optimized weights:\n",
      " 4.490416651383831e-05\n"
     ]
    }
   ],
   "source": [
    "predictions, error = model.predict(inputs, outputNAND, loss_func_name='MSE')\n",
    "print('Input:\\n',inputs)\n",
    "print('Prediction:\\n',predictions)\n",
    "print('Expected Output:\\n',outputNAND)\n",
    "print('New Average Error with optimized weights:\\n', error)\n"
   ]
  },
  {
   "cell_type": "markdown",
   "id": "025b4361",
   "metadata": {},
   "source": [
    "## Train neural network for OR gate\n",
    "We will use the Mean Squared Error loss function (MSE_loss)"
   ]
  },
  {
   "cell_type": "markdown",
   "id": "80bf74da",
   "metadata": {},
   "source": [
    "## You can reinitialize weights and biases or use the ones optimized for the previous gate for transfer learning"
   ]
  },
  {
   "cell_type": "code",
   "execution_count": 21,
   "id": "c7e526e2",
   "metadata": {},
   "outputs": [
    {
     "name": "stdout",
     "output_type": "stream",
     "text": [
      "Initial Weights:\n",
      " [array([[-0.04326879,  0.01809289],\n",
      "       [-0.6557164 ,  0.6316589 ],\n",
      "       [ 0.46775561, -0.69215264]]), array([[ 0.36981482, -0.14274204,  0.18608233]])]\n",
      "Initial Biases:\n",
      " [array([0., 0., 0.]), array([0.])]\n"
     ]
    }
   ],
   "source": [
    "model.init_params()\n",
    "print('Initial Weights:\\n',model.init_weights)\n",
    "print('Initial Biases:\\n',model.init_biases)"
   ]
  },
  {
   "cell_type": "code",
   "execution_count": 16,
   "id": "05f386bc",
   "metadata": {},
   "outputs": [
    {
     "data": {
      "application/vnd.jupyter.widget-view+json": {
       "model_id": "98cd39d944934a18a2533069a1c40571",
       "version_major": 2,
       "version_minor": 0
      },
      "text/plain": [
       "  0%|          | 0/10000 [00:00<?, ?it/s]"
      ]
     },
     "metadata": {},
     "output_type": "display_data"
    },
    {
     "name": "stdout",
     "output_type": "stream",
     "text": [
      "Average Error with initial weights and biases: 0.49299428365363374\n"
     ]
    }
   ],
   "source": [
    "\n",
    "# Run optimization\n",
    "model.optimize(inputs, outputOR, lr=0.5, nEpochs=nEpochs,loss_func_name='MSE', miniterEpoch=1, batchProgressBar=False, miniterBatch=100)\n"
   ]
  },
  {
   "cell_type": "markdown",
   "id": "708ebc97",
   "metadata": {},
   "source": [
    "### Visualize the training loss"
   ]
  },
  {
   "cell_type": "code",
   "execution_count": 17,
   "id": "268cc187",
   "metadata": {},
   "outputs": [
    {
     "data": {
      "image/png": "[encoded data removed]",
      "text/plain": [
       "<Figure size 648x432 with 1 Axes>"
      ]
     },
     "metadata": {
      "needs_background": "light"
     },
     "output_type": "display_data"
    }
   ],
   "source": [
    "# Plot the error vs epochs\n",
    "plt.plot(model.errors)\n",
    "plt.yscale('log')\n",
    "plt.show()"
   ]
  },
  {
   "cell_type": "markdown",
   "id": "3db6437f",
   "metadata": {},
   "source": [
    "### Optimized weights and biases"
   ]
  },
  {
   "cell_type": "code",
   "execution_count": 18,
   "id": "2550afef",
   "metadata": {},
   "outputs": [
    {
     "name": "stdout",
     "output_type": "stream",
     "text": [
      "Optimized Weights:  [array([[-0.14286939,  2.95968323],\n",
      "       [ 2.12429001,  0.32386454],\n",
      "       [-2.67455997, -1.94564985]]), array([[ 3.27544165,  2.46529888, -4.39303815]])]\n",
      "Optimized Biases:  [array([-0.14378777, -0.58627569,  1.12318504]), array([-0.63531316])]\n"
     ]
    }
   ],
   "source": [
    "# Optimized weights and biases\n",
    "print('Optimized Weights: ', model.weights)\n",
    "print('Optimized Biases: ', model.biases)"
   ]
  },
  {
   "cell_type": "markdown",
   "id": "58703cea",
   "metadata": {},
   "source": [
    "### Make predictions using the optimized weights"
   ]
  },
  {
   "cell_type": "code",
   "execution_count": 19,
   "id": "bacdcc96",
   "metadata": {},
   "outputs": [
    {
     "name": "stdout",
     "output_type": "stream",
     "text": [
      "Input:\n",
      " [[0. 0.]\n",
      " [0. 1.]\n",
      " [1. 0.]\n",
      " [1. 1.]]\n",
      "Prediction:\n",
      " [[0.0052569 ]\n",
      " [0.99655766]\n",
      " [0.99561933]\n",
      " [0.99995705]]\n",
      "Expected Output:\n",
      " [[0.]\n",
      " [1.]\n",
      " [1.]\n",
      " [1.]]\n",
      "New Average Error with optimized weights:\n",
      " 1.466920984474935e-05\n"
     ]
    }
   ],
   "source": [
    "predictions, error = model.predict(inputs, outputOR, loss_func_name='MSE')\n",
    "print('Input:\\n',inputs)\n",
    "print('Prediction:\\n',predictions)\n",
    "print('Expected Output:\\n',outputOR)\n",
    "print('New Average Error with optimized weights:\\n', error)\n"
   ]
  },
  {
   "cell_type": "markdown",
   "id": "41614673",
   "metadata": {},
   "source": [
    "## Train neural network for XOR gate\n",
    "We will use the Mean Squared Error loss function (MSE_loss)"
   ]
  },
  {
   "cell_type": "markdown",
   "id": "979fea04",
   "metadata": {},
   "source": [
    "## You can reinitialize weights and biases or use the ones optimized for the previous gate for transfer learning"
   ]
  },
  {
   "cell_type": "code",
   "execution_count": 27,
   "id": "fe673655",
   "metadata": {},
   "outputs": [
    {
     "name": "stdout",
     "output_type": "stream",
     "text": [
      "Initial Weights:\n",
      " [array([[-0.17229731, -0.16854108],\n",
      "       [-0.29442495,  0.07447955],\n",
      "       [ 0.19708903, -0.56571714]]), array([[ 0.54165675, -0.15567231, -0.56125877]])]\n",
      "Initial Biases:\n",
      " [array([0., 0., 0.]), array([0.])]\n"
     ]
    }
   ],
   "source": [
    "model.init_params()\n",
    "print('Initial Weights:\\n',model.init_weights)\n",
    "print('Initial Biases:\\n',model.init_biases)"
   ]
  },
  {
   "cell_type": "code",
   "execution_count": 28,
   "id": "6f7d4d6a",
   "metadata": {},
   "outputs": [
    {
     "data": {
      "application/vnd.jupyter.widget-view+json": {
       "model_id": "6dc450310eb44403b6a73ea6651cf7c0",
       "version_major": 2,
       "version_minor": 0
      },
      "text/plain": [
       "  0%|          | 0/10000 [00:00<?, ?it/s]"
      ]
     },
     "metadata": {},
     "output_type": "display_data"
    },
    {
     "name": "stdout",
     "output_type": "stream",
     "text": [
      "Average Error with initial weights and biases: 0.25384613312308213\n"
     ]
    }
   ],
   "source": [
    "\n",
    "# Run optimization\n",
    "model.optimize(inputs, outputXOR, lr=0.5, nEpochs=nEpochs,loss_func_name='MSE', miniterEpoch=1, batchProgressBar=False, miniterBatch=100)\n"
   ]
  },
  {
   "cell_type": "markdown",
   "id": "d5968459",
   "metadata": {},
   "source": [
    "### Visualize the training loss"
   ]
  },
  {
   "cell_type": "code",
   "execution_count": 29,
   "id": "3d179c16",
   "metadata": {},
   "outputs": [
    {
     "data": {
      "image/png": "[encoded data removed]",
      "text/plain": [
       "<Figure size 648x432 with 1 Axes>"
      ]
     },
     "metadata": {
      "needs_background": "light"
     },
     "output_type": "display_data"
    }
   ],
   "source": [
    "# Plot the error vs epochs\n",
    "plt.plot(model.errors)\n",
    "plt.yscale('log')\n",
    "plt.show()"
   ]
  },
  {
   "cell_type": "markdown",
   "id": "25cb08b9",
   "metadata": {},
   "source": [
    "### Optimized weights and biases"
   ]
  },
  {
   "cell_type": "code",
   "execution_count": 30,
   "id": "31d4bfa6",
   "metadata": {},
   "outputs": [
    {
     "name": "stdout",
     "output_type": "stream",
     "text": [
      "Optimized Weights:  [array([[ 2.93699173, -3.00486239],\n",
      "       [-0.38103507,  0.20153069],\n",
      "       [ 3.22585341, -3.18667768]]), array([[ 5.25995341,  0.42991524, -4.97061278]])]\n",
      "Optimized Biases:  [array([-1.57757752,  0.08901089,  1.64398716]), array([2.12724186])]\n"
     ]
    }
   ],
   "source": [
    "# Optimized weights and biases\n",
    "print('Optimized Weights: ', model.weights)\n",
    "print('Optimized Biases: ', model.biases)"
   ]
  },
  {
   "cell_type": "markdown",
   "id": "f9d62182",
   "metadata": {},
   "source": [
    "### Make predictions using the optimized weights"
   ]
  },
  {
   "cell_type": "code",
   "execution_count": 31,
   "id": "58de2485",
   "metadata": {},
   "outputs": [
    {
     "name": "stdout",
     "output_type": "stream",
     "text": [
      "Input:\n",
      " [[0. 0.]\n",
      " [0. 1.]\n",
      " [1. 0.]\n",
      " [1. 1.]]\n",
      "Prediction:\n",
      " [[0.01176525]\n",
      " [0.98753681]\n",
      " [0.98891142]\n",
      " [0.01008634]]\n",
      "Expected Output:\n",
      " [[0.]\n",
      " [1.]\n",
      " [1.]\n",
      " [0.]]\n",
      "New Average Error with optimized weights:\n",
      " 0.00012961076292238163\n"
     ]
    }
   ],
   "source": [
    "predictions, error = model.predict(inputs, outputXOR, loss_func_name='MSE')\n",
    "print('Input:\\n',inputs)\n",
    "print('Prediction:\\n',predictions)\n",
    "print('Expected Output:\\n',outputXOR)\n",
    "print('New Average Error with optimized weights:\\n', error)\n"
   ]
  },
  {
   "cell_type": "code",
   "execution_count": null,
   "id": "b4bfc803",
   "metadata": {},
   "outputs": [],
   "source": []
  }
 ],
 "metadata": {
  "kernelspec": {
   "display_name": "Python 3 (ipykernel)",
   "language": "python",
   "name": "python3"
  },
  "language_info": {
   "codemirror_mode": {
    "name": "ipython",
    "version": 3
   },
   "file_extension": ".py",
   "mimetype": "text/x-python",
   "name": "python",
   "nbconvert_exporter": "python",
   "pygments_lexer": "ipython3",
   "version": "3.7.11"
  }
 },
 "nbformat": 4,
 "nbformat_minor": 5
}
