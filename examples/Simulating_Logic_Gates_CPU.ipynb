{
 "cells": [
  {
   "cell_type": "markdown",
   "id": "3d64328b",
   "metadata": {},
   "source": [
    "# Simulating logic gates using `crysx_nn`"
   ]
  },
  {
   "cell_type": "markdown",
   "id": "564ace64",
   "metadata": {},
   "source": [
    "## Run the following for Google colab \n",
    "then restart runtime"
   ]
  },
  {
   "cell_type": "code",
   "execution_count": null,
   "id": "62868709",
   "metadata": {},
   "outputs": [],
   "source": [
    "! pip install --upgrade --no-cache-dir https://github.com/manassharma07/crysx_nn/tarball/main\n",
    "! pip install IPython==7.7.0"
   ]
  },
  {
   "cell_type": "code",
   "execution_count": 1,
   "id": "8425c979",
   "metadata": {},
   "outputs": [],
   "source": [
    "import numpy as np\n",
    "import matplotlib.pyplot as plt"
   ]
  },
  {
   "cell_type": "markdown",
   "id": "1e04ce91",
   "metadata": {},
   "source": [
    "## Define some network parameters that we will be using to initialize the model"
   ]
  },
  {
   "cell_type": "code",
   "execution_count": 2,
   "id": "a25ad560",
   "metadata": {},
   "outputs": [],
   "source": [
    "nInputs = 2 # No. of nodes in the input layer\n",
    "neurons_per_layer = [3, 1] # Neurons per layer (excluding the input layer)\n",
    "activation_func_names = ['Tanh_offset', 'Tanh_offset']\n",
    "nLayers = len(neurons_per_layer)\n",
    "nEpochs=10**4\n",
    "batchSize = 4 # No. of input samples to process at a time for optimization"
   ]
  },
  {
   "cell_type": "markdown",
   "id": "4a176812",
   "metadata": {},
   "source": [
    "## Create the neural network model"
   ]
  },
  {
   "cell_type": "code",
   "execution_count": 3,
   "id": "a827fb77",
   "metadata": {},
   "outputs": [
    {
     "name": "stderr",
     "output_type": "stream",
     "text": [
      "C:\\Users\\manas\\anaconda3\\envs\\crysx_nn\\lib\\site-packages\\crysx_nn\\network.py:13: TqdmExperimentalWarning: Using `tqdm.autonotebook.tqdm` in notebook mode. Use `tqdm.tqdm` instead to force console mode (e.g. in jupyter console)\n",
      "  from tqdm.autonotebook import tqdm\n"
     ]
    },
    {
     "name": "stdout",
     "output_type": "stream",
     "text": [
      "Note: The model will use the following device for all the computations:  CPU\n"
     ]
    }
   ],
   "source": [
    "from crysx_nn import network\n",
    "model = network.nn_model(nInputs=nInputs, neurons_per_layer=neurons_per_layer, activation_func_names=activation_func_names, batch_size=batchSize, device='CPU', init_method='Xavier') "
   ]
  },
  {
   "cell_type": "markdown",
   "id": "205fc22f",
   "metadata": {},
   "source": [
    "## Check the details of the model for confirmation"
   ]
  },
  {
   "cell_type": "code",
   "execution_count": 4,
   "id": "e6d82295",
   "metadata": {},
   "outputs": [
    {
     "name": "stdout",
     "output_type": "stream",
     "text": [
      "----------------------------------------------------------------------------------\n",
      "****Neural Network Model Details****\n",
      "----------------------------------------------------------------------------------\n",
      "Number of input nodes:  2\n",
      "Number of layers (hidden+output):  2\n",
      "Number of nodes in each layer (hidden & output):  [3, 1]\n",
      "Activation function for each layer (hidden & output):   ['Tanh_offset', 'Tanh_offset']\n",
      "Method used for weights and biases initialization:   Xavier\n",
      "Batch Size:  4\n",
      "Device:  CPU\n",
      "Optimization method:  SGD\n",
      "Learning rate:  0.5\n",
      "----------------------------------------------------------------------------------\n"
     ]
    }
   ],
   "source": [
    "model.details()"
   ]
  },
  {
   "cell_type": "markdown",
   "id": "0932dc0b",
   "metadata": {},
   "source": [
    "## Visualize the network"
   ]
  },
  {
   "cell_type": "code",
   "execution_count": 5,
   "id": "da6fc156",
   "metadata": {},
   "outputs": [
    {
     "data": {
      "image/png": "[encoded data removed]",
      "text/plain": [
       "<Figure size 1008x720 with 1 Axes>"
      ]
     },
     "metadata": {
      "needs_background": "light"
     },
     "output_type": "display_data"
    }
   ],
   "source": [
    "model.visualize()"
   ]
  },
  {
   "cell_type": "markdown",
   "id": "e922de53",
   "metadata": {},
   "source": [
    "## Initial Weights and Biases being used by the network"
   ]
  },
  {
   "cell_type": "code",
   "execution_count": 6,
   "id": "8d78df85",
   "metadata": {},
   "outputs": [
    {
     "name": "stdout",
     "output_type": "stream",
     "text": [
      "Initial Weights:\n",
      " [array([[ 0.12558332, -0.3422736 ],\n",
      "       [ 0.31851262,  0.42803845],\n",
      "       [-0.43887904,  0.6347987 ]], dtype=float32), array([[ 0.03954792, -0.37038806, -0.34789658]], dtype=float32)]\n",
      "Initial Biases:\n",
      " [array([0., 0., 0.], dtype=float32), array([0.], dtype=float32)]\n"
     ]
    }
   ],
   "source": [
    "print('Initial Weights:\\n',model.init_weights)\n",
    "print('Initial Biases:\\n',model.init_biases)"
   ]
  },
  {
   "cell_type": "markdown",
   "id": "c5d9a547",
   "metadata": {},
   "source": [
    "## Set the inputs (rows correspond to different set of inputs and columns represent the inputs)"
   ]
  },
  {
   "cell_type": "code",
   "execution_count": 7,
   "id": "72497675",
   "metadata": {},
   "outputs": [
    {
     "name": "stdout",
     "output_type": "stream",
     "text": [
      "[[0. 0.]\n",
      " [0. 1.]\n",
      " [1. 0.]\n",
      " [1. 1.]]\n",
      "float32\n"
     ]
    }
   ],
   "source": [
    "inputs = np.array([[0.,0.,1.,1.],[0.,1.,0.,1.]]).T.astype(np.float32)\n",
    "print(inputs)\n",
    "print(inputs.dtype)"
   ]
  },
  {
   "cell_type": "markdown",
   "id": "885dc2cf",
   "metadata": {},
   "source": [
    "## Outputs for different logic gates"
   ]
  },
  {
   "cell_type": "code",
   "execution_count": 8,
   "id": "b91298a9",
   "metadata": {},
   "outputs": [],
   "source": [
    "# AND function\n",
    "outputAND = np.array([0.,0.,0.,1.])\n",
    "outputAND = np.asarray([outputAND]).T.astype(np.float32)\n",
    "# OR function\n",
    "outputOR = np.array([0.,1.,1.,1.])\n",
    "outputOR = np.asarray([outputOR]).T.astype(np.float32)\n",
    "# NAND function\n",
    "outputNAND = np.array([1.,1.,1.,0.])\n",
    "outputNAND = np.asarray([outputNAND]).T.astype(np.float32)\n",
    "# XOR function\n",
    "outputXOR = np.array([0.,1.,1.,0.])\n",
    "outputXOR = np.asarray([outputXOR]).T.astype(np.float32)"
   ]
  },
  {
   "cell_type": "code",
   "execution_count": 9,
   "id": "f3262298",
   "metadata": {},
   "outputs": [
    {
     "name": "stdout",
     "output_type": "stream",
     "text": [
      "AND outputs\n",
      " [[0.]\n",
      " [0.]\n",
      " [0.]\n",
      " [1.]]\n",
      "OR outputs\n",
      " [[0.]\n",
      " [1.]\n",
      " [1.]\n",
      " [1.]]\n",
      "XOR outputs\n",
      " [[0.]\n",
      " [1.]\n",
      " [1.]\n",
      " [0.]]\n",
      "NAND outputs\n",
      " [[1.]\n",
      " [1.]\n",
      " [1.]\n",
      " [0.]]\n"
     ]
    }
   ],
   "source": [
    "print('AND outputs\\n', outputAND)\n",
    "print('OR outputs\\n', outputOR)\n",
    "print('XOR outputs\\n', outputXOR)\n",
    "print('NAND outputs\\n', outputNAND)"
   ]
  },
  {
   "cell_type": "markdown",
   "id": "9be09302",
   "metadata": {},
   "source": [
    "## You can also reinitialize weights and biases using some other method"
   ]
  },
  {
   "cell_type": "code",
   "execution_count": 10,
   "id": "ee69acc0",
   "metadata": {},
   "outputs": [
    {
     "name": "stdout",
     "output_type": "stream",
     "text": [
      "Initial Weights:\n",
      " [array([[-1.4715252 , -0.22541663],\n",
      "       [-0.8465715 ,  0.30914038],\n",
      "       [-1.5273337 ,  1.732744  ]], dtype=float32), array([[-0.43960682,  1.3403572 , -0.27631533]], dtype=float32)]\n",
      "Initial Biases:\n",
      " [array([0., 0., 0.], dtype=float32), array([0.], dtype=float32)]\n"
     ]
    }
   ],
   "source": [
    "model.init_params(method='NormXavier')\n",
    "print('Initial Weights:\\n',model.init_weights)\n",
    "print('Initial Biases:\\n',model.init_biases)"
   ]
  },
  {
   "cell_type": "markdown",
   "id": "96880a85",
   "metadata": {},
   "source": [
    "## You can also define your own custom initial guess and weights\n",
    "\n",
    "For example, for a neural network with 2 nodes in input layer, 3 nodes in hidden layer and 1 node in output layer use the following commented code"
   ]
  },
  {
   "cell_type": "code",
   "execution_count": 11,
   "id": "5a30e194",
   "metadata": {},
   "outputs": [],
   "source": [
    "# # Initial guesses for weights\n",
    "# w1 = 0.30\n",
    "# w2 = 0.55\n",
    "# w3 = 0.20\n",
    "# w4 = 0.45\n",
    "# w5 = 0.50\n",
    "# w6 = 0.35\n",
    "# w7 = 0.15\n",
    "# w8 = 0.40\n",
    "# w9 = 0.25\n",
    "\n",
    "# # Initial guesses for biases\n",
    "# b1 = 0.60\n",
    "# b2 = 0.05\n",
    "\n",
    "# # need to use a list instead of a numpy array, since the \n",
    "# #weight matrices at each layer are not of the same dimensions\n",
    "# weights = [] \n",
    "# # Weights for layer 1 --> 2\n",
    "# weights.append(np.array([[w1,w4],[w2, w5], [w3, w6]]))\n",
    "# # Weights for layer 2 --> 3\n",
    "# weights.append(np.array([[w7, w8, w9]]))\n",
    "# # List of biases at each layer\n",
    "# biases = []\n",
    "# biases.append(np.array([b1,b1,b1]))\n",
    "# biases.append(np.array([b2]))\n",
    "\n",
    "# weightsOriginal = weights\n",
    "# biasesOriginal = biases\n",
    "\n",
    "# print('Weights matrices: ',weights)\n",
    "# print('Biases: ',biases)"
   ]
  },
  {
   "cell_type": "markdown",
   "id": "061878d4",
   "metadata": {},
   "source": [
    "## Train neural network for AND gate\n",
    "We will use the Mean Squared Error loss function (MSE_loss)"
   ]
  },
  {
   "cell_type": "code",
   "execution_count": 12,
   "id": "f235eb69",
   "metadata": {},
   "outputs": [
    {
     "data": {
      "application/vnd.jupyter.widget-view+json": {
       "model_id": "580838f27b554a6e9a96ada119704e3e",
       "version_major": 2,
       "version_minor": 0
      },
      "text/plain": [
       "  0%|          | 0/10000 [00:00<?, ?it/s]"
      ]
     },
     "metadata": {},
     "output_type": "display_data"
    },
    {
     "name": "stdout",
     "output_type": "stream",
     "text": [
      "Average Error with initial weights and biases: 0.35978004336357117\n"
     ]
    }
   ],
   "source": [
    "\n",
    "# Run optimization\n",
    "model.optimize(inputs, outputAND, lr=0.5,nEpochs=nEpochs,loss_func_name='MSE', miniterEpoch=1, batchProgressBar=False, miniterBatch=100)\n"
   ]
  },
  {
   "cell_type": "markdown",
   "id": "8b25bc07",
   "metadata": {},
   "source": [
    "### Visualize the training loss"
   ]
  },
  {
   "cell_type": "code",
   "execution_count": 13,
   "id": "0c82e25f",
   "metadata": {},
   "outputs": [
    {
     "data": {
      "image/png": "[encoded data removed]",
      "text/plain": [
       "<Figure size 648x432 with 1 Axes>"
      ]
     },
     "metadata": {
      "needs_background": "light"
     },
     "output_type": "display_data"
    }
   ],
   "source": [
    "# Plot the error vs epochs\n",
    "plt.plot(model.errors)\n",
    "plt.yscale('log')\n",
    "plt.show()"
   ]
  },
  {
   "cell_type": "markdown",
   "id": "7b33b211",
   "metadata": {},
   "source": [
    "### Optimized weights and biases"
   ]
  },
  {
   "cell_type": "code",
   "execution_count": 14,
   "id": "ea939b60",
   "metadata": {},
   "outputs": [
    {
     "name": "stdout",
     "output_type": "stream",
     "text": [
      "Optimized Weights:  [array([[-1.8640071 , -1.3235682 ],\n",
      "       [-0.22410783,  2.6081183 ],\n",
      "       [-2.726411  ,  1.3149884 ]], dtype=float32), array([[-3.6229467,  3.5111527, -2.4383266]], dtype=float32)]\n",
      "Optimized Biases:  [array([ 2.1798253 , -0.7866814 , -0.19308579], dtype=float32), array([-0.5779454], dtype=float32)]\n"
     ]
    }
   ],
   "source": [
    "# Optimized weights and biases\n",
    "print('Optimized Weights: ', model.weights)\n",
    "print('Optimized Biases: ', model.biases)"
   ]
  },
  {
   "cell_type": "markdown",
   "id": "605cf9f2",
   "metadata": {},
   "source": [
    "### Make predictions using the optimized weights"
   ]
  },
  {
   "cell_type": "code",
   "execution_count": 15,
   "id": "0ccc8430",
   "metadata": {},
   "outputs": [
    {
     "name": "stdout",
     "output_type": "stream",
     "text": [
      "Input:\n",
      " [[0. 0.]\n",
      " [0. 1.]\n",
      " [1. 0.]\n",
      " [1. 1.]]\n",
      "Prediction:\n",
      " [[1.1417270e-04]\n",
      " [7.6892078e-03]\n",
      " [6.1857104e-03]\n",
      " [9.8952889e-01]]\n",
      "Expected Output:\n",
      " [[0.]\n",
      " [0.]\n",
      " [0.]\n",
      " [1.]]\n",
      "New Average Error with optimized weights:\n",
      " 5.1761004346895234e-05\n"
     ]
    }
   ],
   "source": [
    "predictions, error = model.predict(inputs, outputAND, loss_func_name='MSE')\n",
    "print('Input:\\n',inputs)\n",
    "print('Prediction:\\n',predictions)\n",
    "print('Expected Output:\\n',outputAND)\n",
    "print('New Average Error with optimized weights:\\n', error)\n"
   ]
  },
  {
   "cell_type": "markdown",
   "id": "dd94a3f0",
   "metadata": {},
   "source": [
    "## Train neural network for NAND gate\n",
    "We will use the Mean Squared Error loss function (MSE_loss)"
   ]
  },
  {
   "cell_type": "markdown",
   "id": "f58a6a5b",
   "metadata": {},
   "source": [
    "## You can reinitialize weights and biases or use the ones optimized for the previous gate for transfer learning"
   ]
  },
  {
   "cell_type": "code",
   "execution_count": 16,
   "id": "6c131627",
   "metadata": {},
   "outputs": [
    {
     "name": "stdout",
     "output_type": "stream",
     "text": [
      "Initial Weights:\n",
      " [array([[ 0.22374417,  0.03370791],\n",
      "       [-0.6893616 , -0.16177103],\n",
      "       [ 0.57168525,  0.6436501 ]], dtype=float32), array([[-0.12825671,  0.39537993,  0.09579867]], dtype=float32)]\n",
      "Initial Biases:\n",
      " [array([0., 0., 0.], dtype=float32), array([0.], dtype=float32)]\n"
     ]
    }
   ],
   "source": [
    "model.init_params()\n",
    "print('Initial Weights:\\n',model.init_weights)\n",
    "print('Initial Biases:\\n',model.init_biases)"
   ]
  },
  {
   "cell_type": "code",
   "execution_count": 17,
   "id": "82b7840f",
   "metadata": {},
   "outputs": [
    {
     "data": {
      "application/vnd.jupyter.widget-view+json": {
       "model_id": "e9b795b81e734e4ab7ca193caeacda0a",
       "version_major": 2,
       "version_minor": 0
      },
      "text/plain": [
       "  0%|          | 0/10000 [00:00<?, ?it/s]"
      ]
     },
     "metadata": {},
     "output_type": "display_data"
    },
    {
     "name": "stdout",
     "output_type": "stream",
     "text": [
      "Average Error with initial weights and biases: 0.20980484038591385\n"
     ]
    }
   ],
   "source": [
    "\n",
    "# Run optimization\n",
    "model.optimize(inputs, outputNAND, lr=0.5, nEpochs=nEpochs,loss_func_name='MSE', miniterEpoch=1, batchProgressBar=False, miniterBatch=100)\n"
   ]
  },
  {
   "cell_type": "markdown",
   "id": "4ca46cf5",
   "metadata": {},
   "source": [
    "### Visualize the training loss"
   ]
  },
  {
   "cell_type": "code",
   "execution_count": 18,
   "id": "8e90e1e2",
   "metadata": {},
   "outputs": [
    {
     "data": {
      "image/png": "[encoded data removed]",
      "text/plain": [
       "<Figure size 648x432 with 1 Axes>"
      ]
     },
     "metadata": {
      "needs_background": "light"
     },
     "output_type": "display_data"
    }
   ],
   "source": [
    "# Plot the error vs epochs\n",
    "plt.plot(model.errors)\n",
    "plt.yscale('log')\n",
    "plt.show()"
   ]
  },
  {
   "cell_type": "markdown",
   "id": "fa5cb76f",
   "metadata": {},
   "source": [
    "### Optimized weights and biases"
   ]
  },
  {
   "cell_type": "code",
   "execution_count": 19,
   "id": "770846c7",
   "metadata": {},
   "outputs": [
    {
     "name": "stdout",
     "output_type": "stream",
     "text": [
      "Optimized Weights:  [array([[ 0.7952955 ,  0.63873583],\n",
      "       [-1.9037392 , -1.8776029 ],\n",
      "       [ 0.98402137,  1.1285244 ]], dtype=float32), array([[-1.5186172,  4.540551 , -2.277531 ]], dtype=float32)]\n",
      "Optimized Biases:  [array([-0.7546348,  2.709365 , -1.3780547], dtype=float32), array([0.23853995], dtype=float32)]\n"
     ]
    }
   ],
   "source": [
    "# Optimized weights and biases\n",
    "print('Optimized Weights: ', model.weights)\n",
    "print('Optimized Biases: ', model.biases)"
   ]
  },
  {
   "cell_type": "markdown",
   "id": "cfa71972",
   "metadata": {},
   "source": [
    "### Make predictions using the optimized weights"
   ]
  },
  {
   "cell_type": "code",
   "execution_count": 20,
   "id": "0d26c68e",
   "metadata": {},
   "outputs": [
    {
     "name": "stdout",
     "output_type": "stream",
     "text": [
      "Input:\n",
      " [[0. 0.]\n",
      " [0. 1.]\n",
      " [1. 0.]\n",
      " [1. 1.]]\n",
      "Prediction:\n",
      " [[0.99983275]\n",
      " [0.99361587]\n",
      " [0.99358565]\n",
      " [0.00910786]]\n",
      "Expected Output:\n",
      " [[1.]\n",
      " [1.]\n",
      " [1.]\n",
      " [0.]]\n",
      "New Average Error with optimized weights:\n",
      " 4.1220539149122715e-05\n"
     ]
    }
   ],
   "source": [
    "predictions, error = model.predict(inputs, outputNAND, loss_func_name='MSE')\n",
    "print('Input:\\n',inputs)\n",
    "print('Prediction:\\n',predictions)\n",
    "print('Expected Output:\\n',outputNAND)\n",
    "print('New Average Error with optimized weights:\\n', error)\n"
   ]
  },
  {
   "cell_type": "markdown",
   "id": "025b4361",
   "metadata": {},
   "source": [
    "## Train neural network for OR gate\n",
    "We will use the Mean Squared Error loss function (MSE_loss)"
   ]
  },
  {
   "cell_type": "markdown",
   "id": "80bf74da",
   "metadata": {},
   "source": [
    "## You can reinitialize weights and biases or use the ones optimized for the previous gate for transfer learning"
   ]
  },
  {
   "cell_type": "code",
   "execution_count": 21,
   "id": "c7e526e2",
   "metadata": {},
   "outputs": [
    {
     "name": "stdout",
     "output_type": "stream",
     "text": [
      "Initial Weights:\n",
      " [array([[-0.65608656, -0.33429363],\n",
      "       [ 0.68275595,  0.36816308],\n",
      "       [-0.39196965,  0.44680408]], dtype=float32), array([[-0.55885863, -0.25931144, -0.15798448]], dtype=float32)]\n",
      "Initial Biases:\n",
      " [array([0., 0., 0.], dtype=float32), array([0.], dtype=float32)]\n"
     ]
    }
   ],
   "source": [
    "model.init_params()\n",
    "print('Initial Weights:\\n',model.init_weights)\n",
    "print('Initial Biases:\\n',model.init_biases)"
   ]
  },
  {
   "cell_type": "code",
   "execution_count": 22,
   "id": "05f386bc",
   "metadata": {},
   "outputs": [
    {
     "data": {
      "application/vnd.jupyter.widget-view+json": {
       "model_id": "1f074a888ab64616afa75ac747a8cf42",
       "version_major": 2,
       "version_minor": 0
      },
      "text/plain": [
       "  0%|          | 0/10000 [00:00<?, ?it/s]"
      ]
     },
     "metadata": {},
     "output_type": "display_data"
    },
    {
     "name": "stdout",
     "output_type": "stream",
     "text": [
      "Average Error with initial weights and biases: 0.3806321583688259\n"
     ]
    }
   ],
   "source": [
    "\n",
    "# Run optimization\n",
    "model.optimize(inputs, outputOR, lr=0.5, nEpochs=nEpochs,loss_func_name='MSE', miniterEpoch=1, batchProgressBar=False, miniterBatch=100)\n"
   ]
  },
  {
   "cell_type": "markdown",
   "id": "708ebc97",
   "metadata": {},
   "source": [
    "### Visualize the training loss"
   ]
  },
  {
   "cell_type": "code",
   "execution_count": 23,
   "id": "268cc187",
   "metadata": {},
   "outputs": [
    {
     "data": {
      "image/png": "[encoded data removed]",
      "text/plain": [
       "<Figure size 648x432 with 1 Axes>"
      ]
     },
     "metadata": {
      "needs_background": "light"
     },
     "output_type": "display_data"
    }
   ],
   "source": [
    "# Plot the error vs epochs\n",
    "plt.plot(model.errors)\n",
    "plt.yscale('log')\n",
    "plt.show()"
   ]
  },
  {
   "cell_type": "markdown",
   "id": "3db6437f",
   "metadata": {},
   "source": [
    "### Optimized weights and biases"
   ]
  },
  {
   "cell_type": "code",
   "execution_count": 24,
   "id": "2550afef",
   "metadata": {},
   "outputs": [
    {
     "name": "stdout",
     "output_type": "stream",
     "text": [
      "Optimized Weights:  [array([[-2.1582549 , -2.1008732 ],\n",
      "       [ 1.7301649 ,  1.6291833 ],\n",
      "       [-0.14439301,  0.66846395]], dtype=float32), array([[-3.853797 ,  2.7667978,  0.3861592]], dtype=float32)]\n",
      "Optimized Biases:  [array([ 0.99637437, -0.75817996, -0.09721419], dtype=float32), array([0.32702494], dtype=float32)]\n"
     ]
    }
   ],
   "source": [
    "# Optimized weights and biases\n",
    "print('Optimized Weights: ', model.weights)\n",
    "print('Optimized Biases: ', model.biases)"
   ]
  },
  {
   "cell_type": "markdown",
   "id": "58703cea",
   "metadata": {},
   "source": [
    "### Make predictions using the optimized weights"
   ]
  },
  {
   "cell_type": "code",
   "execution_count": 25,
   "id": "bacdcc96",
   "metadata": {},
   "outputs": [
    {
     "name": "stdout",
     "output_type": "stream",
     "text": [
      "Input:\n",
      " [[0. 0.]\n",
      " [0. 1.]\n",
      " [1. 0.]\n",
      " [1. 1.]]\n",
      "Prediction:\n",
      " [[0.00829217]\n",
      " [0.9944352 ]\n",
      " [0.99395275]\n",
      " [0.99875546]]\n",
      "Expected Output:\n",
      " [[0.]\n",
      " [1.]\n",
      " [1.]\n",
      " [1.]]\n",
      "New Average Error with optimized weights:\n",
      " 3.446131563578092e-05\n"
     ]
    }
   ],
   "source": [
    "predictions, error = model.predict(inputs, outputOR, loss_func_name='MSE')\n",
    "print('Input:\\n',inputs)\n",
    "print('Prediction:\\n',predictions)\n",
    "print('Expected Output:\\n',outputOR)\n",
    "print('New Average Error with optimized weights:\\n', error)\n"
   ]
  },
  {
   "cell_type": "markdown",
   "id": "41614673",
   "metadata": {},
   "source": [
    "## Train neural network for XOR gate\n",
    "We will use the Mean Squared Error loss function (MSE_loss)"
   ]
  },
  {
   "cell_type": "markdown",
   "id": "979fea04",
   "metadata": {},
   "source": [
    "## You can reinitialize weights and biases or use the ones optimized for the previous gate for transfer learning"
   ]
  },
  {
   "cell_type": "code",
   "execution_count": 26,
   "id": "fe673655",
   "metadata": {},
   "outputs": [
    {
     "name": "stdout",
     "output_type": "stream",
     "text": [
      "Initial Weights:\n",
      " [array([[-0.49298313, -0.60071534],\n",
      "       [-0.185411  , -0.7050665 ],\n",
      "       [ 0.6037338 ,  0.3684936 ]], dtype=float32), array([[-0.5515125 ,  0.2527432 ,  0.47769606]], dtype=float32)]\n",
      "Initial Biases:\n",
      " [array([0., 0., 0.], dtype=float32), array([0.], dtype=float32)]\n"
     ]
    }
   ],
   "source": [
    "model.init_params()\n",
    "print('Initial Weights:\\n',model.init_weights)\n",
    "print('Initial Biases:\\n',model.init_biases)"
   ]
  },
  {
   "cell_type": "code",
   "execution_count": 27,
   "id": "6f7d4d6a",
   "metadata": {},
   "outputs": [
    {
     "data": {
      "application/vnd.jupyter.widget-view+json": {
       "model_id": "03d621c11d464b809351bc88abb582ea",
       "version_major": 2,
       "version_minor": 0
      },
      "text/plain": [
       "  0%|          | 0/10000 [00:00<?, ?it/s]"
      ]
     },
     "metadata": {},
     "output_type": "display_data"
    },
    {
     "name": "stdout",
     "output_type": "stream",
     "text": [
      "Average Error with initial weights and biases: 0.25875473767518997\n"
     ]
    }
   ],
   "source": [
    "\n",
    "# Run optimization\n",
    "model.optimize(inputs, outputXOR, lr=0.5, nEpochs=nEpochs,loss_func_name='MSE', miniterEpoch=1, batchProgressBar=False, miniterBatch=100)\n"
   ]
  },
  {
   "cell_type": "markdown",
   "id": "d5968459",
   "metadata": {},
   "source": [
    "### Visualize the training loss"
   ]
  },
  {
   "cell_type": "code",
   "execution_count": 28,
   "id": "3d179c16",
   "metadata": {},
   "outputs": [
    {
     "data": {
      "image/png": "[encoded data removed]",
      "text/plain": [
       "<Figure size 648x432 with 1 Axes>"
      ]
     },
     "metadata": {
      "needs_background": "light"
     },
     "output_type": "display_data"
    }
   ],
   "source": [
    "# Plot the error vs epochs\n",
    "plt.plot(model.errors)\n",
    "plt.yscale('log')\n",
    "plt.show()"
   ]
  },
  {
   "cell_type": "markdown",
   "id": "25cb08b9",
   "metadata": {},
   "source": [
    "### Optimized weights and biases"
   ]
  },
  {
   "cell_type": "code",
   "execution_count": 29,
   "id": "31d4bfa6",
   "metadata": {},
   "outputs": [
    {
     "name": "stdout",
     "output_type": "stream",
     "text": [
      "Optimized Weights:  [array([[-3.2440624, -3.26766  ],\n",
      "       [-2.53162  , -2.5347695],\n",
      "       [ 1.0496855,  1.1414204]], dtype=float32), array([[-5.442097  ,  5.2905135 , -0.35859296]], dtype=float32)]\n",
      "Optimized Biases:  [array([1.3540428 , 3.803892  , 0.40850228], dtype=float32), array([-2.199113], dtype=float32)]\n"
     ]
    }
   ],
   "source": [
    "# Optimized weights and biases\n",
    "print('Optimized Weights: ', model.weights)\n",
    "print('Optimized Biases: ', model.biases)"
   ]
  },
  {
   "cell_type": "markdown",
   "id": "f9d62182",
   "metadata": {},
   "source": [
    "### Make predictions using the optimized weights"
   ]
  },
  {
   "cell_type": "code",
   "execution_count": 30,
   "id": "58de2485",
   "metadata": {},
   "outputs": [
    {
     "name": "stdout",
     "output_type": "stream",
     "text": [
      "Input:\n",
      " [[0. 0.]\n",
      " [0. 1.]\n",
      " [1. 0.]\n",
      " [1. 1.]]\n",
      "Prediction:\n",
      " [[0.01073083]\n",
      " [0.9889027 ]\n",
      " [0.9888967 ]\n",
      " [0.01302823]]\n",
      "Expected Output:\n",
      " [[0.]\n",
      " [1.]\n",
      " [1.]\n",
      " [0.]]\n",
      "New Average Error with optimized weights:\n",
      " 0.0001328296639258042\n"
     ]
    }
   ],
   "source": [
    "predictions, error = model.predict(inputs, outputXOR, loss_func_name='MSE')\n",
    "print('Input:\\n',inputs)\n",
    "print('Prediction:\\n',predictions)\n",
    "print('Expected Output:\\n',outputXOR)\n",
    "print('New Average Error with optimized weights:\\n', error)\n"
   ]
  }
 ],
 "metadata": {
  "kernelspec": {
   "display_name": "Python 3 (ipykernel)",
   "language": "python",
   "name": "python3"
  },
  "language_info": {
   "codemirror_mode": {
    "name": "ipython",
    "version": 3
   },
   "file_extension": ".py",
   "mimetype": "text/x-python",
   "name": "python",
   "nbconvert_exporter": "python",
   "pygments_lexer": "ipython3",
   "version": "3.7.11"
  }
 },
 "nbformat": 4,
 "nbformat_minor": 5
}
