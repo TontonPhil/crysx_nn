{
 "cells": [
  {
   "cell_type": "markdown",
   "id": "3d64328b",
   "metadata": {},
   "source": [
    "# Simulating logic gates using `crysx_nn`"
   ]
  },
  {
   "cell_type": "code",
   "execution_count": 1,
   "id": "8425c979",
   "metadata": {},
   "outputs": [],
   "source": [
    "import numpy as np\n",
    "import matplotlib.pyplot as plt"
   ]
  },
  {
   "cell_type": "markdown",
   "id": "1e04ce91",
   "metadata": {},
   "source": [
    "## Define some network parameters that we will be using to initialize the model"
   ]
  },
  {
   "cell_type": "code",
   "execution_count": 2,
   "id": "a25ad560",
   "metadata": {},
   "outputs": [],
   "source": [
    "nInputs = 2 # No. of nodes in the input layer\n",
    "neurons_per_layer = [3, 1] # Neurons per layer (excluding the input layer)\n",
    "activation_func_names = ['Tanh_offset', 'Tanh_offset']\n",
    "nLayers = len(neurons_per_layer)\n",
    "nEpochs=10**4\n",
    "batchSize = 4 # No. of input samples to process at a time for optimization"
   ]
  },
  {
   "cell_type": "markdown",
   "id": "4a176812",
   "metadata": {},
   "source": [
    "## Create the neural network model"
   ]
  },
  {
   "cell_type": "code",
   "execution_count": 3,
   "id": "a827fb77",
   "metadata": {},
   "outputs": [
    {
     "name": "stderr",
     "output_type": "stream",
     "text": [
      "C:\\Users\\manas\\anaconda3\\envs\\crysx_nn\\lib\\site-packages\\crysx_nn\\network.py:12: TqdmExperimentalWarning: Using `tqdm.autonotebook.tqdm` in notebook mode. Use `tqdm.tqdm` instead to force console mode (e.g. in jupyter console)\n",
      "  from tqdm.autonotebook import tqdm\n"
     ]
    },
    {
     "name": "stdout",
     "output_type": "stream",
     "text": [
      "Note: The model will use the following device for all the computations:  CPU\n"
     ]
    }
   ],
   "source": [
    "from crysx_nn import network\n",
    "model = network.nn_model(nInputs=nInputs, neurons_per_layer=neurons_per_layer, activation_func_names=activation_func_names, batch_size=batchSize, device='CPU', init_method='Xavier') "
   ]
  },
  {
   "cell_type": "markdown",
   "id": "205fc22f",
   "metadata": {},
   "source": [
    "## Check the details of the model for confirmation"
   ]
  },
  {
   "cell_type": "code",
   "execution_count": 4,
   "id": "e6d82295",
   "metadata": {},
   "outputs": [
    {
     "name": "stdout",
     "output_type": "stream",
     "text": [
      "----------------------------------------------------------------------------------\n",
      "****Neural Network Model Details****\n",
      "----------------------------------------------------------------------------------\n",
      "Number of input nodes:  2\n",
      "Number of layers (hidden+output):  2\n",
      "Number of nodes in each layer (hidden & output):  [3, 1]\n",
      "Activation function for each layer (hidden & output):   ['Tanh_offset', 'Tanh_offset']\n",
      "Method used for weights and biases initialization:   Xavier\n",
      "Batch Size:  4\n",
      "Device:  CPU\n",
      "Optimization method:  SGD\n",
      "Learning rate:  0.5\n",
      "----------------------------------------------------------------------------------\n"
     ]
    }
   ],
   "source": [
    "model.details()"
   ]
  },
  {
   "cell_type": "markdown",
   "id": "0932dc0b",
   "metadata": {},
   "source": [
    "## Visualize the network"
   ]
  },
  {
   "cell_type": "code",
   "execution_count": 5,
   "id": "da6fc156",
   "metadata": {},
   "outputs": [
    {
     "data": {
      "image/png": "[encoded data removed]",
      "text/plain": [
       "<Figure size 1008x720 with 1 Axes>"
      ]
     },
     "metadata": {
      "needs_background": "light"
     },
     "output_type": "display_data"
    }
   ],
   "source": [
    "model.visualize()"
   ]
  },
  {
   "cell_type": "markdown",
   "id": "e922de53",
   "metadata": {},
   "source": [
    "## Initial Weights and Biases being used by the network"
   ]
  },
  {
   "cell_type": "code",
   "execution_count": 6,
   "id": "8d78df85",
   "metadata": {},
   "outputs": [
    {
     "name": "stdout",
     "output_type": "stream",
     "text": [
      "Initial Weights:\n",
      " [array([[-0.32681894,  0.23431016],\n",
      "       [ 0.18499324,  0.69254945],\n",
      "       [ 0.3427921 , -0.00929408]]), array([[-0.17606754,  0.57458553, -0.52805504]])]\n",
      "Initial Biases:\n",
      " [array([0., 0., 0.]), array([0.])]\n"
     ]
    }
   ],
   "source": [
    "print('Initial Weights:\\n',model.init_weights)\n",
    "print('Initial Biases:\\n',model.init_biases)"
   ]
  },
  {
   "cell_type": "markdown",
   "id": "c5d9a547",
   "metadata": {},
   "source": [
    "## Set the inputs (rows correspond to different set of inputs and columns represent the inputs)"
   ]
  },
  {
   "cell_type": "code",
   "execution_count": 7,
   "id": "72497675",
   "metadata": {},
   "outputs": [
    {
     "name": "stdout",
     "output_type": "stream",
     "text": [
      "[[0. 0.]\n",
      " [0. 1.]\n",
      " [1. 0.]\n",
      " [1. 1.]]\n",
      "float32\n"
     ]
    }
   ],
   "source": [
    "inputs = np.array([[0.,0.,1.,1.],[0.,1.,0.,1.]]).T.astype('float32')\n",
    "print(inputs)\n",
    "print(inputs.dtype)"
   ]
  },
  {
   "cell_type": "markdown",
   "id": "885dc2cf",
   "metadata": {},
   "source": [
    "## Outputs for different logic gates"
   ]
  },
  {
   "cell_type": "code",
   "execution_count": 8,
   "id": "b91298a9",
   "metadata": {},
   "outputs": [],
   "source": [
    "# AND function\n",
    "outputAND = np.array([0.,0.,0.,1.])\n",
    "outputAND = np.asarray([outputAND]).T\n",
    "# OR function\n",
    "outputOR = np.array([0.,1.,1.,1.])\n",
    "outputOR = np.asarray([outputOR]).T\n",
    "# NAND function\n",
    "outputNAND = np.array([1.,1.,1.,0.])\n",
    "outputNAND = np.asarray([outputNAND]).T\n",
    "# XOR function\n",
    "outputXOR = np.array([0.,1.,1.,0.])\n",
    "outputXOR = np.asarray([outputXOR]).T"
   ]
  },
  {
   "cell_type": "code",
   "execution_count": 9,
   "id": "f3262298",
   "metadata": {},
   "outputs": [
    {
     "name": "stdout",
     "output_type": "stream",
     "text": [
      "AND outputs\n",
      " [[0.]\n",
      " [0.]\n",
      " [0.]\n",
      " [1.]]\n",
      "OR outputs\n",
      " [[0.]\n",
      " [1.]\n",
      " [1.]\n",
      " [1.]]\n",
      "XOR outputs\n",
      " [[0.]\n",
      " [1.]\n",
      " [1.]\n",
      " [0.]]\n",
      "NAND outputs\n",
      " [[1.]\n",
      " [1.]\n",
      " [1.]\n",
      " [0.]]\n"
     ]
    }
   ],
   "source": [
    "print('AND outputs\\n', outputAND)\n",
    "print('OR outputs\\n', outputOR)\n",
    "print('XOR outputs\\n', outputXOR)\n",
    "print('NAND outputs\\n', outputNAND)"
   ]
  },
  {
   "cell_type": "markdown",
   "id": "9be09302",
   "metadata": {},
   "source": [
    "## You can also reinitialize weights and biases using some other method"
   ]
  },
  {
   "cell_type": "code",
   "execution_count": 10,
   "id": "ee69acc0",
   "metadata": {},
   "outputs": [
    {
     "name": "stdout",
     "output_type": "stream",
     "text": [
      "Initial Weights:\n",
      " [array([[-1.58700787,  0.56280839],\n",
      "       [ 1.90006708,  1.71841083],\n",
      "       [ 0.30692875, -0.36964502]]), array([[ 1.44898615, -1.12652178,  0.90534757]])]\n",
      "Initial Biases:\n",
      " [array([0., 0., 0.]), array([0.])]\n"
     ]
    }
   ],
   "source": [
    "model.init_params(method='NormXavier')\n",
    "print('Initial Weights:\\n',model.init_weights)\n",
    "print('Initial Biases:\\n',model.init_biases)"
   ]
  },
  {
   "cell_type": "markdown",
   "id": "96880a85",
   "metadata": {},
   "source": [
    "## You can also define your own custom initial guess and weights\n",
    "\n",
    "For example, for a neural network with 2 nodes in input layer, 3 nodes in hidden layer and 1 node in output layer use the following commented code"
   ]
  },
  {
   "cell_type": "code",
   "execution_count": 11,
   "id": "5a30e194",
   "metadata": {},
   "outputs": [],
   "source": [
    "# # Initial guesses for weights\n",
    "# w1 = 0.30\n",
    "# w2 = 0.55\n",
    "# w3 = 0.20\n",
    "# w4 = 0.45\n",
    "# w5 = 0.50\n",
    "# w6 = 0.35\n",
    "# w7 = 0.15\n",
    "# w8 = 0.40\n",
    "# w9 = 0.25\n",
    "\n",
    "# # Initial guesses for biases\n",
    "# b1 = 0.60\n",
    "# b2 = 0.05\n",
    "\n",
    "# # need to use a list instead of a numpy array, since the \n",
    "# #weight matrices at each layer are not of the same dimensions\n",
    "# weights = [] \n",
    "# # Weights for layer 1 --> 2\n",
    "# weights.append(np.array([[w1,w4],[w2, w5], [w3, w6]]))\n",
    "# # Weights for layer 2 --> 3\n",
    "# weights.append(np.array([[w7, w8, w9]]))\n",
    "# # List of biases at each layer\n",
    "# biases = []\n",
    "# biases.append(np.array([b1,b1,b1]))\n",
    "# biases.append(np.array([b2]))\n",
    "\n",
    "# weightsOriginal = weights\n",
    "# biasesOriginal = biases\n",
    "\n",
    "# print('Weights matrices: ',weights)\n",
    "# print('Biases: ',biases)"
   ]
  },
  {
   "cell_type": "markdown",
   "id": "061878d4",
   "metadata": {},
   "source": [
    "## Train neural network for AND gate\n",
    "We will use the Mean Squared Error loss function (MSE_loss)"
   ]
  },
  {
   "cell_type": "code",
   "execution_count": 12,
   "id": "f235eb69",
   "metadata": {},
   "outputs": [
    {
     "data": {
      "application/vnd.jupyter.widget-view+json": {
       "model_id": "53dbf6333f234ef5a7435fff2600eec3",
       "version_major": 2,
       "version_minor": 0
      },
      "text/plain": [
       "  0%|          | 0/10000 [00:00<?, ?it/s]"
      ]
     },
     "metadata": {},
     "output_type": "display_data"
    },
    {
     "name": "stdout",
     "output_type": "stream",
     "text": [
      "Average Error with initial weights and biases: 0.4123073645086591\n"
     ]
    }
   ],
   "source": [
    "\n",
    "# Run optimization\n",
    "model.optimize(inputs, outputAND, lr=0.5,nEpochs=nEpochs,loss_func_name='MSE', miniterEpoch=1, batchProgressBar=False, miniterBatch=100)\n"
   ]
  },
  {
   "cell_type": "markdown",
   "id": "8b25bc07",
   "metadata": {},
   "source": [
    "### Visualize the training loss"
   ]
  },
  {
   "cell_type": "code",
   "execution_count": 13,
   "id": "0c82e25f",
   "metadata": {},
   "outputs": [
    {
     "data": {
      "image/png": "[encoded data removed]",
      "text/plain": [
       "<Figure size 648x432 with 1 Axes>"
      ]
     },
     "metadata": {
      "needs_background": "light"
     },
     "output_type": "display_data"
    }
   ],
   "source": [
    "# Plot the error vs epochs\n",
    "plt.plot(model.errors)\n",
    "plt.yscale('log')\n",
    "plt.show()"
   ]
  },
  {
   "cell_type": "markdown",
   "id": "7b33b211",
   "metadata": {},
   "source": [
    "### Optimized weights and biases"
   ]
  },
  {
   "cell_type": "code",
   "execution_count": 14,
   "id": "ea939b60",
   "metadata": {},
   "outputs": [
    {
     "name": "stdout",
     "output_type": "stream",
     "text": [
      "Optimized Weights:  [array([[-1.30173133,  0.12997917],\n",
      "       [ 1.94879623,  1.78921587],\n",
      "       [ 2.28626671,  2.28045414]]), array([[ 0.04828323, -1.75903953,  5.71603969]])]\n",
      "Optimized Biases:  [array([-1.15813531,  1.06816888, -3.34442032]), array([-1.25664169])]\n"
     ]
    }
   ],
   "source": [
    "# Optimized weights and biases\n",
    "print('Optimized Weights: ', model.weights)\n",
    "print('Optimized Biases: ', model.biases)"
   ]
  },
  {
   "cell_type": "markdown",
   "id": "605cf9f2",
   "metadata": {},
   "source": [
    "### Make predictions using the optimized weights"
   ]
  },
  {
   "cell_type": "code",
   "execution_count": 15,
   "id": "0ccc8430",
   "metadata": {},
   "outputs": [
    {
     "name": "stdout",
     "output_type": "stream",
     "text": [
      "Input:\n",
      " [[0. 0.]\n",
      " [0. 1.]\n",
      " [1. 0.]\n",
      " [1. 1.]]\n",
      "Prediction:\n",
      " [[0.00355118]\n",
      " [0.00822477]\n",
      " [0.008219  ]\n",
      " [0.98889493]]\n",
      "Expected Output:\n",
      " [[0.]\n",
      " [0.]\n",
      " [0.]\n",
      " [1.]]\n",
      "New Average Error with optimized weights:\n",
      " 6.778306442471213e-05\n"
     ]
    }
   ],
   "source": [
    "predictions, error = model.predict(inputs, outputAND, loss_func_name='MSE')\n",
    "print('Input:\\n',inputs)\n",
    "print('Prediction:\\n',predictions)\n",
    "print('Expected Output:\\n',outputAND)\n",
    "print('New Average Error with optimized weights:\\n', error)\n"
   ]
  },
  {
   "cell_type": "markdown",
   "id": "dd94a3f0",
   "metadata": {},
   "source": [
    "## Train neural network for NAND gate\n",
    "We will use the Mean Squared Error loss function (MSE_loss)"
   ]
  },
  {
   "cell_type": "markdown",
   "id": "f58a6a5b",
   "metadata": {},
   "source": [
    "## You can reinitialize weights and biases or use the ones optimized for the previous gate for transfer learning"
   ]
  },
  {
   "cell_type": "code",
   "execution_count": 16,
   "id": "6c131627",
   "metadata": {},
   "outputs": [
    {
     "name": "stdout",
     "output_type": "stream",
     "text": [
      "Initial Weights:\n",
      " [array([[ 0.5544544 ,  0.10227094],\n",
      "       [ 0.23063519, -0.61912422],\n",
      "       [ 0.28435648,  0.42493346]]), array([[ 0.01843434, -0.4972719 ,  0.43818698]])]\n",
      "Initial Biases:\n",
      " [array([0., 0., 0.]), array([0.])]\n"
     ]
    }
   ],
   "source": [
    "model.init_params()\n",
    "print('Initial Weights:\\n',model.init_weights)\n",
    "print('Initial Biases:\\n',model.init_biases)"
   ]
  },
  {
   "cell_type": "code",
   "execution_count": 17,
   "id": "82b7840f",
   "metadata": {},
   "outputs": [
    {
     "data": {
      "application/vnd.jupyter.widget-view+json": {
       "model_id": "4de25a8b5d804661a931a3a8e8308c9d",
       "version_major": 2,
       "version_minor": 0
      },
      "text/plain": [
       "  0%|          | 0/10000 [00:00<?, ?it/s]"
      ]
     },
     "metadata": {},
     "output_type": "display_data"
    },
    {
     "name": "stdout",
     "output_type": "stream",
     "text": [
      "Average Error with initial weights and biases: 0.2598893259507159\n"
     ]
    }
   ],
   "source": [
    "\n",
    "# Run optimization\n",
    "model.optimize(inputs, outputNAND, lr=0.5, nEpochs=nEpochs,loss_func_name='MSE', miniterEpoch=1, batchProgressBar=False, miniterBatch=100)\n"
   ]
  },
  {
   "cell_type": "markdown",
   "id": "4ca46cf5",
   "metadata": {},
   "source": [
    "### Visualize the training loss"
   ]
  },
  {
   "cell_type": "code",
   "execution_count": 18,
   "id": "8e90e1e2",
   "metadata": {},
   "outputs": [
    {
     "data": {
      "image/png": "[encoded data removed]",
      "text/plain": [
       "<Figure size 648x432 with 1 Axes>"
      ]
     },
     "metadata": {
      "needs_background": "light"
     },
     "output_type": "display_data"
    }
   ],
   "source": [
    "# Plot the error vs epochs\n",
    "plt.plot(model.errors)\n",
    "plt.yscale('log')\n",
    "plt.show()"
   ]
  },
  {
   "cell_type": "markdown",
   "id": "fa5cb76f",
   "metadata": {},
   "source": [
    "### Optimized weights and biases"
   ]
  },
  {
   "cell_type": "code",
   "execution_count": 19,
   "id": "770846c7",
   "metadata": {},
   "outputs": [
    {
     "name": "stdout",
     "output_type": "stream",
     "text": [
      "Optimized Weights:  [array([[ 1.98305572,  1.65565982],\n",
      "       [-0.08302074, -1.39419915],\n",
      "       [-1.33765132, -0.99211584]]), array([[-4.31647332,  1.6263261 ,  2.59264646]])]\n",
      "Optimized Biases:  [array([-2.59510343,  0.49961879,  1.55661358]), array([0.84336138])]\n"
     ]
    }
   ],
   "source": [
    "# Optimized weights and biases\n",
    "print('Optimized Weights: ', model.weights)\n",
    "print('Optimized Biases: ', model.biases)"
   ]
  },
  {
   "cell_type": "markdown",
   "id": "cfa71972",
   "metadata": {},
   "source": [
    "### Make predictions using the optimized weights"
   ]
  },
  {
   "cell_type": "code",
   "execution_count": 20,
   "id": "0d26c68e",
   "metadata": {},
   "outputs": [
    {
     "name": "stdout",
     "output_type": "stream",
     "text": [
      "Input:\n",
      " [[0. 0.]\n",
      " [0. 1.]\n",
      " [1. 0.]\n",
      " [1. 1.]]\n",
      "Prediction:\n",
      " [[0.99987422]\n",
      " [0.99280179]\n",
      " [0.99419843]\n",
      " [0.0091965 ]]\n",
      "Expected Output:\n",
      " [[1.]\n",
      " [1.]\n",
      " [1.]\n",
      " [0.]]\n",
      "New Average Error with optimized weights:\n",
      " 4.2515979408750914e-05\n"
     ]
    }
   ],
   "source": [
    "predictions, error = model.predict(inputs, outputNAND, loss_func_name='MSE')\n",
    "print('Input:\\n',inputs)\n",
    "print('Prediction:\\n',predictions)\n",
    "print('Expected Output:\\n',outputNAND)\n",
    "print('New Average Error with optimized weights:\\n', error)\n"
   ]
  },
  {
   "cell_type": "markdown",
   "id": "025b4361",
   "metadata": {},
   "source": [
    "## Train neural network for OR gate\n",
    "We will use the Mean Squared Error loss function (MSE_loss)"
   ]
  },
  {
   "cell_type": "markdown",
   "id": "80bf74da",
   "metadata": {},
   "source": [
    "## You can reinitialize weights and biases or use the ones optimized for the previous gate for transfer learning"
   ]
  },
  {
   "cell_type": "code",
   "execution_count": 21,
   "id": "c7e526e2",
   "metadata": {},
   "outputs": [
    {
     "name": "stdout",
     "output_type": "stream",
     "text": [
      "Initial Weights:\n",
      " [array([[-0.37591303, -0.22287543],\n",
      "       [-0.42742156, -0.36012844],\n",
      "       [ 0.66198168, -0.19900586]]), array([[0.07602501, 0.03063651, 0.13878514]])]\n",
      "Initial Biases:\n",
      " [array([0., 0., 0.]), array([0.])]\n"
     ]
    }
   ],
   "source": [
    "model.init_params()\n",
    "print('Initial Weights:\\n',model.init_weights)\n",
    "print('Initial Biases:\\n',model.init_biases)"
   ]
  },
  {
   "cell_type": "code",
   "execution_count": 22,
   "id": "05f386bc",
   "metadata": {},
   "outputs": [
    {
     "data": {
      "application/vnd.jupyter.widget-view+json": {
       "model_id": "15feea32b3d8490e8e8c9f2b314c0aab",
       "version_major": 2,
       "version_minor": 0
      },
      "text/plain": [
       "  0%|          | 0/10000 [00:00<?, ?it/s]"
      ]
     },
     "metadata": {},
     "output_type": "display_data"
    },
    {
     "name": "stdout",
     "output_type": "stream",
     "text": [
      "Average Error with initial weights and biases: 0.2240734620049612\n"
     ]
    }
   ],
   "source": [
    "\n",
    "# Run optimization\n",
    "model.optimize(inputs, outputOR, lr=0.5, nEpochs=nEpochs,loss_func_name='MSE', miniterEpoch=1, batchProgressBar=False, miniterBatch=100)\n"
   ]
  },
  {
   "cell_type": "markdown",
   "id": "708ebc97",
   "metadata": {},
   "source": [
    "### Visualize the training loss"
   ]
  },
  {
   "cell_type": "code",
   "execution_count": 23,
   "id": "268cc187",
   "metadata": {},
   "outputs": [
    {
     "data": {
      "image/png": "[encoded data removed]",
      "text/plain": [
       "<Figure size 648x432 with 1 Axes>"
      ]
     },
     "metadata": {
      "needs_background": "light"
     },
     "output_type": "display_data"
    }
   ],
   "source": [
    "# Plot the error vs epochs\n",
    "plt.plot(model.errors)\n",
    "plt.yscale('log')\n",
    "plt.show()"
   ]
  },
  {
   "cell_type": "markdown",
   "id": "3db6437f",
   "metadata": {},
   "source": [
    "### Optimized weights and biases"
   ]
  },
  {
   "cell_type": "code",
   "execution_count": 24,
   "id": "2550afef",
   "metadata": {},
   "outputs": [
    {
     "name": "stdout",
     "output_type": "stream",
     "text": [
      "Optimized Weights:  [array([[-1.18908175, -1.20553941],\n",
      "       [-1.61573723, -1.68705726],\n",
      "       [ 1.87259409,  1.79439275]]), array([[-1.80139497, -2.67052231,  3.20337759]])]\n",
      "Optimized Biases:  [array([ 0.42899926,  0.69776083, -0.79764888]), array([0.41510046])]\n"
     ]
    }
   ],
   "source": [
    "# Optimized weights and biases\n",
    "print('Optimized Weights: ', model.weights)\n",
    "print('Optimized Biases: ', model.biases)"
   ]
  },
  {
   "cell_type": "markdown",
   "id": "58703cea",
   "metadata": {},
   "source": [
    "### Make predictions using the optimized weights"
   ]
  },
  {
   "cell_type": "code",
   "execution_count": 25,
   "id": "bacdcc96",
   "metadata": {},
   "outputs": [
    {
     "name": "stdout",
     "output_type": "stream",
     "text": [
      "Input:\n",
      " [[0. 0.]\n",
      " [0. 1.]\n",
      " [1. 0.]\n",
      " [1. 1.]]\n",
      "Prediction:\n",
      " [[0.00739084]\n",
      " [0.99446378]\n",
      " [0.99444471]\n",
      " [0.99919032]]\n",
      "Expected Output:\n",
      " [[0.]\n",
      " [1.]\n",
      " [1.]\n",
      " [1.]]\n",
      "New Average Error with optimized weights:\n",
      " 2.9197762118319064e-05\n"
     ]
    }
   ],
   "source": [
    "predictions, error = model.predict(inputs, outputOR, loss_func_name='MSE')\n",
    "print('Input:\\n',inputs)\n",
    "print('Prediction:\\n',predictions)\n",
    "print('Expected Output:\\n',outputOR)\n",
    "print('New Average Error with optimized weights:\\n', error)\n"
   ]
  },
  {
   "cell_type": "markdown",
   "id": "41614673",
   "metadata": {},
   "source": [
    "## Train neural network for XOR gate\n",
    "We will use the Mean Squared Error loss function (MSE_loss)"
   ]
  },
  {
   "cell_type": "markdown",
   "id": "979fea04",
   "metadata": {},
   "source": [
    "## You can reinitialize weights and biases or use the ones optimized for the previous gate for transfer learning"
   ]
  },
  {
   "cell_type": "code",
   "execution_count": 26,
   "id": "fe673655",
   "metadata": {},
   "outputs": [
    {
     "name": "stdout",
     "output_type": "stream",
     "text": [
      "Initial Weights:\n",
      " [array([[ 0.17462881, -0.40239077],\n",
      "       [ 0.15340884, -0.65357221],\n",
      "       [ 0.24858958,  0.21564441]]), array([[0.36761982, 0.52180893, 0.37917714]])]\n",
      "Initial Biases:\n",
      " [array([0., 0., 0.]), array([0.])]\n"
     ]
    }
   ],
   "source": [
    "model.init_params()\n",
    "print('Initial Weights:\\n',model.init_weights)\n",
    "print('Initial Biases:\\n',model.init_biases)"
   ]
  },
  {
   "cell_type": "code",
   "execution_count": 27,
   "id": "6f7d4d6a",
   "metadata": {},
   "outputs": [
    {
     "data": {
      "application/vnd.jupyter.widget-view+json": {
       "model_id": "8ce780ff13b644bb85df0926eb8099b2",
       "version_major": 2,
       "version_minor": 0
      },
      "text/plain": [
       "  0%|          | 0/10000 [00:00<?, ?it/s]"
      ]
     },
     "metadata": {},
     "output_type": "display_data"
    },
    {
     "name": "stdout",
     "output_type": "stream",
     "text": [
      "Average Error with initial weights and biases: 0.3225678375064833\n"
     ]
    }
   ],
   "source": [
    "\n",
    "# Run optimization\n",
    "model.optimize(inputs, outputXOR, lr=0.5, nEpochs=nEpochs,loss_func_name='MSE', miniterEpoch=1, batchProgressBar=False, miniterBatch=100)\n"
   ]
  },
  {
   "cell_type": "markdown",
   "id": "d5968459",
   "metadata": {},
   "source": [
    "### Visualize the training loss"
   ]
  },
  {
   "cell_type": "code",
   "execution_count": 28,
   "id": "3d179c16",
   "metadata": {},
   "outputs": [
    {
     "data": {
      "image/png": "[encoded data removed]",
      "text/plain": [
       "<Figure size 648x432 with 1 Axes>"
      ]
     },
     "metadata": {
      "needs_background": "light"
     },
     "output_type": "display_data"
    }
   ],
   "source": [
    "# Plot the error vs epochs\n",
    "plt.plot(model.errors)\n",
    "plt.yscale('log')\n",
    "plt.show()"
   ]
  },
  {
   "cell_type": "markdown",
   "id": "25cb08b9",
   "metadata": {},
   "source": [
    "### Optimized weights and biases"
   ]
  },
  {
   "cell_type": "code",
   "execution_count": 29,
   "id": "31d4bfa6",
   "metadata": {},
   "outputs": [
    {
     "name": "stdout",
     "output_type": "stream",
     "text": [
      "Optimized Weights:  [array([[ 3.31882722, -2.14636083],\n",
      "       [ 2.62885714, -3.46634148],\n",
      "       [ 1.92013781,  2.21715959]]), array([[-4.84646823,  4.91494362,  2.62878177]])]\n",
      "Optimized Biases:  [array([ 0.74134933, -1.17355057, -0.25226961]), array([-0.08770787])]\n"
     ]
    }
   ],
   "source": [
    "# Optimized weights and biases\n",
    "print('Optimized Weights: ', model.weights)\n",
    "print('Optimized Biases: ', model.biases)"
   ]
  },
  {
   "cell_type": "markdown",
   "id": "f9d62182",
   "metadata": {},
   "source": [
    "### Make predictions using the optimized weights"
   ]
  },
  {
   "cell_type": "code",
   "execution_count": 30,
   "id": "58de2485",
   "metadata": {},
   "outputs": [
    {
     "name": "stdout",
     "output_type": "stream",
     "text": [
      "Input:\n",
      " [[0. 0.]\n",
      " [0. 1.]\n",
      " [1. 0.]\n",
      " [1. 1.]]\n",
      "Prediction:\n",
      " [[0.00528538]\n",
      " [0.9882414 ]\n",
      " [0.98937403]\n",
      " [0.01429342]]\n",
      "Expected Output:\n",
      " [[0.]\n",
      " [1.]\n",
      " [1.]\n",
      " [0.]]\n",
      "New Average Error with optimized weights:\n",
      " 0.00012085324725103081\n"
     ]
    }
   ],
   "source": [
    "predictions, error = model.predict(inputs, outputXOR, loss_func_name='MSE')\n",
    "print('Input:\\n',inputs)\n",
    "print('Prediction:\\n',predictions)\n",
    "print('Expected Output:\\n',outputXOR)\n",
    "print('New Average Error with optimized weights:\\n', error)\n"
   ]
  },
  {
   "cell_type": "code",
   "execution_count": null,
   "id": "b4bfc803",
   "metadata": {},
   "outputs": [],
   "source": []
  }
 ],
 "metadata": {
  "kernelspec": {
   "display_name": "Python 3 (ipykernel)",
   "language": "python",
   "name": "python3"
  },
  "language_info": {
   "codemirror_mode": {
    "name": "ipython",
    "version": 3
   },
   "file_extension": ".py",
   "mimetype": "text/x-python",
   "name": "python",
   "nbconvert_exporter": "python",
   "pygments_lexer": "ipython3",
   "version": "3.7.11"
  }
 },
 "nbformat": 4,
 "nbformat_minor": 5
}
