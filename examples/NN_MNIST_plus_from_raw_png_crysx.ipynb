{
 "cells": [
  {
   "cell_type": "markdown",
   "id": "4bb703b4",
   "metadata": {},
   "source": [
    "# This is a demo of how to load MNIST raw pngs manually and use CrysX for neural network machine learning"
   ]
  },
  {
   "cell_type": "markdown",
   "id": "91c925c8",
   "metadata": {},
   "source": [
    "## Run the following for Google colab \n",
    "then restart runtime"
   ]
  },
  {
   "cell_type": "code",
   "execution_count": null,
   "id": "8438aa5b",
   "metadata": {},
   "outputs": [],
   "source": [
    "! pip install --upgrade --no-cache-dir https://github.com/manassharma07/crysx_nn/tarball/main\n",
    "! pip install IPython==7.7.0"
   ]
  },
  {
   "cell_type": "code",
   "execution_count": 90,
   "id": "4d3fab4c",
   "metadata": {},
   "outputs": [],
   "source": [
    "from PIL import Image\n",
    "import matplotlib.pyplot as plt\n",
    "from crysx_nn import mnist_utils as mu\n",
    "import numpy as np"
   ]
  },
  {
   "cell_type": "markdown",
   "id": "e2973a31",
   "metadata": {},
   "source": [
    "## Download MNIST_orig and MNIST_plus dataset (May take upto 5 min)"
   ]
  },
  {
   "cell_type": "code",
   "execution_count": 3,
   "id": "afde5d15",
   "metadata": {},
   "outputs": [
    {
     "name": "stdout",
     "output_type": "stream",
     "text": [
      "Wall time: 2min 40s\n"
     ]
    }
   ],
   "source": [
    "%%time\n",
    "mu.downloadMNIST()"
   ]
  },
  {
   "cell_type": "markdown",
   "id": "aaf7de5a",
   "metadata": {},
   "source": [
    "## Load the training dataset from MNIST_plus in memory (May take upto 5 min)"
   ]
  },
  {
   "cell_type": "code",
   "execution_count": null,
   "id": "3ffade76",
   "metadata": {},
   "outputs": [],
   "source": [
    "%%time\n",
    "path = 'MNIST-PLUS-PNG/mnist_plus_png'\n",
    "trainData, trainLabels = mu.loadMNIST(path_main=path, train=True, shuffle=True)"
   ]
  },
  {
   "cell_type": "code",
   "execution_count": null,
   "id": "02b75697",
   "metadata": {},
   "outputs": [],
   "source": [
    "print('Training data shape', trainData.shape)\n",
    "print('Training labels shape',trainLabels.shape)\n",
    "print('Size of training data in memory (GB)', trainData.nbytes/1024/1024/1024)"
   ]
  },
  {
   "cell_type": "code",
   "execution_count": null,
   "id": "0065b3e8",
   "metadata": {},
   "outputs": [],
   "source": [
    "# Statistics\n",
    "print(trainData.min()) # Expected for MNIST_orig: 0.0\n",
    "print(trainData.max()) # Expected for MNIST_orig: 255.\n",
    "print(trainData.mean()) # Expected for MNIST_orig: 33.31842144\n",
    "print(trainData.std()) # Expected for MNIST_orig: 78.567489983"
   ]
  },
  {
   "cell_type": "markdown",
   "id": "a637000b",
   "metadata": {},
   "source": [
    "## Normalize within the range [0,1.0]"
   ]
  },
  {
   "cell_type": "code",
   "execution_count": null,
   "id": "a9df9b53",
   "metadata": {},
   "outputs": [],
   "source": [
    "trainData = trainData/255 # Normalize\n",
    "# Statistics\n",
    "print(trainData.min()) # Expected for MNIST_orig: 0.0\n",
    "print(trainData.max()) # Expected for MNIST_orig: 1.0\n",
    "print(trainData.mean()) # Expected for MNIST_orig: 0.1306604762738426\n",
    "print(trainData.std()) # Expected for MNIST_orig: 0.3081078038564622 \n",
    "\n",
    "trainData_mean = trainData.mean()\n",
    "trainData_std = trainData.std()\n"
   ]
  },
  {
   "cell_type": "markdown",
   "id": "902ed0fd",
   "metadata": {},
   "source": [
    "## Standardize the data so that it has mean 0 and variance 1"
   ]
  },
  {
   "cell_type": "code",
   "execution_count": null,
   "id": "015a9fe2",
   "metadata": {},
   "outputs": [],
   "source": [
    "trainData = (trainData - np.mean(trainData)) / np.std(trainData)\n",
    "# Statistics\n",
    "print(trainData.min()) # Expected for MNIST_orig: -0.42407\n",
    "print(trainData.max()) # Expected for MNIST_orig: 2.8215433\n",
    "print(trainData.mean()) # Expected for MNIST_orig: 0.0\n",
    "print(trainData.std()) # Expected for MNIST_orig: 1.0000"
   ]
  },
  {
   "cell_type": "markdown",
   "id": "9da1b0af",
   "metadata": {},
   "source": [
    "## Convert labels to one-hot vectors"
   ]
  },
  {
   "cell_type": "code",
   "execution_count": null,
   "id": "a1796640",
   "metadata": {},
   "outputs": [],
   "source": [
    "print(trainLabels)\n",
    "trainLabels = mu.one_hot_encode(trainLabels, 10)\n",
    "print(trainLabels)"
   ]
  },
  {
   "cell_type": "markdown",
   "id": "c15c8407",
   "metadata": {},
   "source": [
    "## Flatten the input numpy arrays (nSamples,28,28)->(nSamples, 784)"
   ]
  },
  {
   "cell_type": "code",
   "execution_count": null,
   "id": "70109dd7",
   "metadata": {},
   "outputs": [],
   "source": [
    "trainData = trainData.reshape(trainData.shape[0], 784)"
   ]
  },
  {
   "cell_type": "markdown",
   "id": "05f82965",
   "metadata": {},
   "source": [
    "## Let us create a NN using CrysX-NN now"
   ]
  },
  {
   "cell_type": "code",
   "execution_count": null,
   "id": "756390d9",
   "metadata": {},
   "outputs": [],
   "source": [
    "nInputs = 784 # No. of nodes in the input layer\n",
    "neurons_per_layer = [256, 10] # Neurons per layer (excluding the input layer)\n",
    "activation_func_names = ['ReLU', 'Softmax']\n",
    "nLayers = len(neurons_per_layer)\n",
    "nEpochs = 8\n",
    "batchSize = 32 # No. of input samples to process at a time for optimization"
   ]
  },
  {
   "cell_type": "code",
   "execution_count": null,
   "id": "80740bba",
   "metadata": {},
   "outputs": [],
   "source": [
    "from crysx_nn import network\n",
    "model = network.nn_model(nInputs=nInputs, neurons_per_layer=neurons_per_layer, activation_func_names=activation_func_names, batch_size=batchSize, device='CPU', init_method='Xavier') \n",
    "\n",
    "model.lr = 0.4"
   ]
  },
  {
   "cell_type": "markdown",
   "id": "97f95885",
   "metadata": {},
   "source": [
    "## Check the model details"
   ]
  },
  {
   "cell_type": "code",
   "execution_count": null,
   "id": "3010333e",
   "metadata": {},
   "outputs": [],
   "source": [
    "model.details()"
   ]
  },
  {
   "cell_type": "code",
   "execution_count": null,
   "id": "2fe5876b",
   "metadata": {},
   "outputs": [],
   "source": [
    "model.visualize()"
   ]
  },
  {
   "cell_type": "markdown",
   "id": "48d70f66",
   "metadata": {},
   "source": [
    "## Optimize/Train the network"
   ]
  },
  {
   "cell_type": "code",
   "execution_count": null,
   "id": "b6931984",
   "metadata": {},
   "outputs": [],
   "source": [
    "inputs = trainData.astype(np.float32)\n",
    "outputs = trainLabels.astype(np.float32)\n",
    "# Run optimization\n",
    "# model.optimize(inputs, outputs, lr=0.4,nEpochs=nEpochs,loss_func_name='BCE', miniterEpoch=1, batchProgressBar=True, miniterBatch=100)\n",
    "# To get accuracies at each epoch\n",
    "model.optimize(inputs, outputs, lr=0.4,nEpochs=nEpochs,loss_func_name='CCE', miniterEpoch=1, batchProgressBar=True, miniterBatch=100, get_accuracy=True)\n"
   ]
  },
  {
   "cell_type": "markdown",
   "id": "fb6156fb",
   "metadata": {},
   "source": [
    "## Error at each epoch"
   ]
  },
  {
   "cell_type": "code",
   "execution_count": null,
   "id": "2cf1d22d",
   "metadata": {},
   "outputs": [],
   "source": [
    "print(model.errors)"
   ]
  },
  {
   "cell_type": "markdown",
   "id": "c38f84ba",
   "metadata": {},
   "source": [
    "## Accuracy at each epoch"
   ]
  },
  {
   "cell_type": "code",
   "execution_count": null,
   "id": "07adf24a",
   "metadata": {},
   "outputs": [],
   "source": [
    "print(model.accuracy)"
   ]
  },
  {
   "cell_type": "markdown",
   "id": "6b0a03f5",
   "metadata": {},
   "source": [
    "## Save model weights and biases"
   ]
  },
  {
   "cell_type": "code",
   "execution_count": null,
   "id": "c434c24e",
   "metadata": {},
   "outputs": [],
   "source": [
    "# Save weights\n",
    "model.save_model_weights('NN_crysx_mnist_plus_98.11_weights')\n",
    "# Save biases\n",
    "model.save_model_biases('NN_crysx_mnist_plus_98.11_biases')"
   ]
  },
  {
   "cell_type": "markdown",
   "id": "4bd0fbdd",
   "metadata": {},
   "source": [
    "## Load model weights and biases from files"
   ]
  },
  {
   "cell_type": "code",
   "execution_count": null,
   "id": "099287ca",
   "metadata": {},
   "outputs": [],
   "source": [
    "model.load_model_weights('NN_crysx_mnist_plus_98.11_weights')\n",
    "model.load_model_biases('NN_crysx_mnist_plus_98.11_biases')"
   ]
  },
  {
   "cell_type": "code",
   "execution_count": null,
   "id": "7f7041f9",
   "metadata": {},
   "outputs": [],
   "source": [
    "from crysx_nn import loss\n",
    "### Baseline: just say it's anything at probability 1/N, what's the loss?\n",
    "N = 10\n",
    "labels = np.zeros((1, 10), dtype=np.float32)\n",
    "labels[0, 3] = 1.\n",
    "output = np.full_like(labels, 1./N)\n",
    "print(loss.BCE_loss(output, labels))"
   ]
  },
  {
   "cell_type": "markdown",
   "id": "443ff259",
   "metadata": {},
   "source": [
    "## Test data set"
   ]
  },
  {
   "cell_type": "code",
   "execution_count": null,
   "id": "9261ebc1",
   "metadata": {},
   "outputs": [],
   "source": [
    "path = 'MNIST-PLUS-PNG/mnist_plus_png'\n",
    "testData, testLabels = mu.loadMNIST(path_main=path, train=False, shuffle=True)\n",
    "\n",
    "print('Test data shape', testData.shape)\n",
    "print('Test labels shape',testLabels.shape)\n",
    "print('Size of training data in memory (GB)', testData.nbytes/1024/1024/1024)\n",
    "\n",
    "# Statistics\n",
    "print(testData.min()) # Expected for MNIST_orig: 0.0\n",
    "print(testData.max()) # Expected for MNIST_orig: 255.\n",
    "print(testData.mean()) # Expected for MNIST_orig: 33.31842144\n",
    "print(testData.std()) # Expected for MNIST_orig: 78.567489983\n",
    "\n",
    "## Normalize within the range [0,1.0]\n",
    "\n",
    "testData = testData/255 # Normalize\n",
    "# Statistics\n",
    "print(testData.min()) # Expected for MNIST_orig: 0.0\n",
    "print(testData.max()) # Expected for MNIST_orig: 1.0\n",
    "print(testData.mean()) # Expected for MNIST_orig: 0.1306604762738426\n",
    "print(testData.std()) # Expected for MNIST_orig: 0.3081078038564622 \n",
    "\n",
    "## Standardize the data so that it has mean 0 and variance 1\n",
    "# Use the mean and std of training data **********\n",
    "testData = (testData - trainData_mean) / trainData_std\n",
    "# Statistics\n",
    "print(testData.min()) # Expected for MNIST_orig: -0.42407\n",
    "print(testData.max()) # Expected for MNIST_orig: 2.8215433\n",
    "print(testData.mean()) # Expected for MNIST_orig: 0.0\n",
    "print(testData.std()) # Expected for MNIST_orig: 1.0000\n",
    "\n",
    "## Convert labels to one-hot vectors\n",
    "print(testLabels)\n",
    "testLabels = mu.one_hot_encode(testLabels, 10)\n",
    "print(testLabels)\n",
    "\n",
    "## Flatten the input numpy arrays (nSamples,28,28)->(nSamples, 784)\n",
    "testData = testData.reshape(testData.shape[0], 784)\n",
    "print(testData.shape)\n"
   ]
  },
  {
   "cell_type": "markdown",
   "id": "e72abe86",
   "metadata": {},
   "source": [
    "## Performance on Test data"
   ]
  },
  {
   "cell_type": "code",
   "execution_count": null,
   "id": "29e291aa",
   "metadata": {
    "scrolled": true
   },
   "outputs": [],
   "source": [
    "## Convert to float32 arrays\n",
    "inputs = testData.astype(np.float32)\n",
    "outputs = testLabels.astype(np.float32)\n",
    "predictions, error = model.predict(inputs, outputs, loss_func_name='CCE')\n",
    "print('Error:',error)\n",
    "# print(predictions)\n",
    "predictions, error, accuracy = model.predict(inputs, outputs, loss_func_name='CCE', get_accuracy=True)\n",
    "print('Error:',error)\n",
    "print('Accuracy %:',accuracy*100)"
   ]
  },
  {
   "cell_type": "markdown",
   "id": "56bed807",
   "metadata": {},
   "source": [
    "## Confusion matrix"
   ]
  },
  {
   "cell_type": "code",
   "execution_count": null,
   "id": "d6ad4337",
   "metadata": {},
   "outputs": [],
   "source": [
    "from crysx_nn import utils\n",
    "\n",
    "# Get the indices of the maximum probabilities for each sample in the predictions array\n",
    "pred_digit = np.argmax(predictions, axis=1)\n",
    "# Get the digit index from the one-hot encoded array\n",
    "true_digit = np.argmax(testLabels, axis=1)\n",
    "# Calculation confusion matrix\n",
    "cm = utils.compute_confusion_matrix(pred_digit, true_digit)\n",
    "print('Confusion matrix:\\n',cm)\n",
    "\n",
    "# Plot the confusion matrix\n",
    "plt.rcParams[\"figure.figsize\"] = (14,10)\n",
    "utils.plot_confusion_matrix(cm)"
   ]
  },
  {
   "cell_type": "markdown",
   "id": "fdfb79a7",
   "metadata": {},
   "source": [
    "## Interactive test"
   ]
  },
  {
   "cell_type": "code",
   "execution_count": 88,
   "id": "974f49b1",
   "metadata": {
    "scrolled": false
   },
   "outputs": [
    {
     "name": "stdout",
     "output_type": "stream",
     "text": [
      "Probabilities for all the digits:\n",
      "[[7.17646448e-07 1.78607763e-04 5.82082371e-06 6.28835313e-01\n",
      "  2.67098937e-05 3.54523342e-03 1.91294708e-05 3.66894452e-01\n",
      "  3.06669355e-11 4.94015713e-04]]\n",
      "Prediction\n",
      "3\n",
      "Top 3 predictions\n",
      "[3 7 5]\n",
      "Their probabilities (%)\n",
      "[62.88353133 36.68944519  0.35452334]\n"
     ]
    },
    {
     "data": {
      "image/png": "[encoded data removed]",
      "text/plain": [
       "<Figure size 648x432 with 1 Axes>"
      ]
     },
     "metadata": {
      "needs_background": "light"
     },
     "output_type": "display_data"
    }
   ],
   "source": [
    "from PIL import ImageTk, Image, ImageDraw\n",
    "import PIL\n",
    "from tkinter import *\n",
    "import cv2\n",
    "\n",
    "width = 200  # canvas width\n",
    "height = 200 # canvas height\n",
    "center = height//2\n",
    "white = (255, 255, 255) # canvas back\n",
    "\n",
    "def save():\n",
    "    # save image to hard drive\n",
    "    filename = \"user_input.jpg\"\n",
    "    global output_image \n",
    "    output_image.save(filename)\n",
    "    ###### Centering begin\n",
    "    # Load image as grayscale and obtain bounding box coordinates\n",
    "    image = cv2.imread('user_input.jpg', 0)\n",
    "#     print(image)\n",
    "    height, width = image.shape\n",
    "    x,y,w,h = cv2.boundingRect(image)\n",
    "\n",
    "    # Create new blank image and shift ROI to new coordinates\n",
    "    ROI = image[y:y+h, x:x+w]\n",
    "    mask = np.zeros([ROI.shape[0]+10,ROI.shape[1]+10])\n",
    "    width, height = mask.shape\n",
    "#     print(ROI.shape)\n",
    "#     print(mask.shape)\n",
    "    x = width//2 - ROI.shape[0]//2 \n",
    "    y = height//2 - ROI.shape[1]//2 \n",
    "#     print(x,y)\n",
    "    mask[y:y+h, x:x+w] = ROI\n",
    "#     print(mask)\n",
    "    # Check if centering/masking was successful\n",
    "#     plt.imshow(mask, cmap='viridis') \n",
    "    output_image = PIL.Image.fromarray(mask) # mask has values in [0-255] as expected\n",
    "# Now we need to resize, but it causes problems with default arguments as it changes the range of pixel values to be negative or positive\n",
    "    # compressed_output_image = output_image.resize((22,22))\n",
    "    # Therefore, we use the following:\n",
    "    compressed_output_image = output_image.resize((22,22), PIL.Image.BILINEAR) # PIL.Image.NEAREST or PIL.Image.BILINEAR also performs good\n",
    "\n",
    "#     # Enhance Saturation\n",
    "#     converter = PIL.ImageEnhance.Color(compressed_output_image)\n",
    "#     compressed_output_image = converter.enhance(2.5)\n",
    "    # Enhance contrast\n",
    "#     converter = PIL.ImageEnhance.Contrast(compressed_output_image)\n",
    "#     compressed_output_image = converter.enhance(3.5)\n",
    "    # normalize in the range 0-1\n",
    "    tensor_image = np.array(compressed_output_image.getdata())/255.\n",
    "    tensor_image = tensor_image.reshape(22,22)\n",
    "    # Padding\n",
    "    tensor_image = np.pad(tensor_image, (3,3), \"constant\", constant_values=(0,0))\n",
    "    # Normalization should be done after padding i guess\n",
    "    tensor_image = (tensor_image - trainData_mean) / trainData_std\n",
    "    plt.imshow(tensor_image.reshape(28,28), cmap='viridis')\n",
    "    # Debugging\n",
    "#     print(tensor_image)\n",
    "#     print(np.array(compressed_output_image.getdata())) # Get data values)\n",
    "#     print(np.array(image.getdata()))\n",
    "\n",
    "    ### Compute the predictions\n",
    "    output0 = model.predict(tensor_image.reshape(1,784))\n",
    "    print('Probabilities for all the digits:')\n",
    "    print(output0)\n",
    "    output = np.argmax(output0)\n",
    "    print('Prediction')\n",
    "    print(output)\n",
    "    print('Top 3 predictions')\n",
    "    print(output0[0].argsort()[-3:][::-1])\n",
    "    print('Their probabilities (%)')\n",
    "    ind = output0[0].argsort()[-3:][::-1]\n",
    "    print(output0[0,ind]*100)\n",
    "\n",
    "def paint(event):\n",
    "    x1, y1 = (event.x - 1), (event.y - 1)\n",
    "    x2, y2 = (event.x + 1), (event.y + 1)\n",
    "#     canvas.create_oval(x1, y1, x2, y2, fill=\"white\",width=24)\n",
    "    canvas.create_rectangle(x1, y1, x2, y2, fill=\"white\",width=12)\n",
    "    draw.line([x1, y1, x2, y2],fill=\"white\",width=4)\n",
    "\n",
    "master = Tk()\n",
    "\n",
    "# create a tkinter canvas to draw on\n",
    "canvas = Canvas(master, width=width, height=height, bg='white')\n",
    "canvas.pack()\n",
    "\n",
    "# create an empty PIL image and draw object to draw on\n",
    "output_image = PIL.Image.new(\"L\", (width, height), 0)\n",
    "draw = ImageDraw.Draw(output_image)\n",
    "canvas.pack(expand=YES, fill=BOTH)\n",
    "canvas.bind(\"<B1-Motion>\", paint)\n",
    "\n",
    "# add a button to save the image\n",
    "button=Button(text=\"save\",command=save)\n",
    "button.pack()\n",
    "\n",
    "master.mainloop()"
   ]
  },
  {
   "cell_type": "markdown",
   "id": "f7f3b1da",
   "metadata": {},
   "source": [
    "## Inference with 256 nodes; lr=0.4, 15 epochs:\n",
    "recognition of 1 has significantly improved in MNIST_PLus, but when it has both the above and bottom additional lines then it gets classified as 3 for some reason. Although, 1 with just the upper additional line is predicted correctly.\n",
    "\n",
    "\n",
    "Prediction of 7 is now massively improved when using MNIST_plus. It is amazing.\n",
    "\n",
    "Classification of 2, 3, 4, 5, 6, 7, 8, and 9 are no problem.\n",
    "\n",
    "## Inference with 512 nodes; lr=0.7, 15 epochs:\n",
    "Now 1 is predicted correctly most of the times.\n",
    "\n",
    "But 8 can be a problem sometimes.\n",
    "\n",
    "Classification of 1, 2, 3, 4, 5, 6, 7, and 9 are no problem.\n",
    "\n",
    "## Inference with 256 nodes; lr=0.4; just 5 epochs:\n",
    "It seems like earlier we were running into some overfitting issues when going to 15 epochs. Even 5 epochs seem to be causing overkill as the training accuracy surpasses testing accuracy after just 3 epochs. \n",
    "\n",
    "When using just 5 epochs there are no issues in the prediction of 1 or 8 as in the above cases.\n",
    "\n",
    "In fact, all the digits are recognized reasonably correctly except 8 which got confuesed with 5, 7 and 6 sometimes.\n",
    "(Sometimes 9 was mistaken for 4 as well)\n",
    "\n",
    "Although, the confidence of the result is not as good as what you get with CNNs.\n",
    "\n",
    "## Inference with 256 nodes; lr=0.4;  7 epochs:\n",
    "2 was predicted as 7 sometimes\n",
    "\n",
    "3 was predicted as 5 sometimes\n",
    "\n",
    "4 was predicted as 6,1,2  or 5\n",
    "\n",
    "## Inference with 256 nodes; lr=0.4;  10 epochs:\n",
    "1 was predicted correctly as long as it didnt have a too long bottom underline\n",
    "\n",
    "4 was a bit problematic.\n",
    "\n",
    "2 was a bit problematic.\n",
    "\n",
    "## Inference with 256 nodes; lr=0.4;  20 epochs:\n",
    "4 was a bit problematic.\n",
    "\n",
    "The problem with 1 underline was gone.\n",
    "\n",
    "2 was a bit problematic.\n",
    "\n",
    "## Inference with 256 nodes; lr=0.4;  30 epochs:\n",
    "4 was a bit problematic.\n",
    "\n",
    "9 was a bit problematic.\n",
    "\n",
    "8 was a bit problematic."
   ]
  },
  {
   "cell_type": "code",
   "execution_count": null,
   "id": "092854a3",
   "metadata": {},
   "outputs": [],
   "source": []
  }
 ],
 "metadata": {
  "kernelspec": {
   "display_name": "Python 3 (ipykernel)",
   "language": "python",
   "name": "python3"
  },
  "language_info": {
   "codemirror_mode": {
    "name": "ipython",
    "version": 3
   },
   "file_extension": ".py",
   "mimetype": "text/x-python",
   "name": "python",
   "nbconvert_exporter": "python",
   "pygments_lexer": "ipython3",
   "version": "3.7.11"
  }
 },
 "nbformat": 4,
 "nbformat_minor": 5
}
