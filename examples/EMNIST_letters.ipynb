{
 "cells": [
  {
   "cell_type": "code",
   "execution_count": 49,
   "id": "695ad4ef",
   "metadata": {},
   "outputs": [],
   "source": [
    "import matplotlib.pyplot as plt\n",
    "import PIL"
   ]
  },
  {
   "cell_type": "code",
   "execution_count": 50,
   "id": "0c02e811",
   "metadata": {},
   "outputs": [],
   "source": [
    "import torch, torchvision\n",
    "import numpy as np\n",
    "rng = np.random.default_rng()\n",
    "import time\n",
    "from tqdm.notebook import tqdm   ### suitable for notebooks"
   ]
  },
  {
   "cell_type": "code",
   "execution_count": 51,
   "id": "44dd2c39",
   "metadata": {},
   "outputs": [],
   "source": [
    "fname = 'EMNIST_torch'\n",
    "\n",
    "### Download and initialize datasets\n",
    "TrainDS_orig = torchvision.datasets.EMNIST(fname, train=True, download=True, split='letters', transform=torchvision.transforms.Compose([\n",
    "                    lambda img: torchvision.transforms.functional.rotate(img, -90),\n",
    "                    lambda img: torchvision.transforms.functional.hflip(img)\n",
    "                ]))\n",
    "TestDS_orig = torchvision.datasets.EMNIST(fname, train=False, split='letters', transform=torchvision.transforms.Compose([\n",
    "                    lambda img: torchvision.transforms.functional.rotate(img, -90),\n",
    "                    lambda img: torchvision.transforms.functional.hflip(img)\n",
    "                ]))"
   ]
  },
  {
   "cell_type": "markdown",
   "id": "6691d755",
   "metadata": {},
   "source": [
    "A - 1\n",
    "\n",
    "B - 2\n",
    "\n",
    ".\n",
    ".\n",
    ".\n",
    "."
   ]
  },
  {
   "cell_type": "code",
   "execution_count": 52,
   "id": "fec8337e",
   "metadata": {},
   "outputs": [
    {
     "data": {
      "image/png": "[encoded data removed]",
      "text/plain": [
       "<Figure size 1080x432 with 12 Axes>"
      ]
     },
     "metadata": {
      "needs_background": "light"
     },
     "output_type": "display_data"
    }
   ],
   "source": [
    "### Plot examples\n",
    "fig, axes = plt.subplots(nrows=2, ncols=6, figsize=(15., 6.))\n",
    "for axes_row in axes:\n",
    "    for ax in axes_row:\n",
    "        test_index = rng.integers(0, len(TestDS_orig))\n",
    "        image, orig_label = TestDS_orig[test_index]\n",
    "        ax.set_axis_off()\n",
    "        ax.imshow(image)\n",
    "#         ax.imshow(PIL.ImageOps.mirror(image.rotate(-90)))\n",
    "        ax.set_title('True: %i' % orig_label)"
   ]
  },
  {
   "cell_type": "code",
   "execution_count": 53,
   "id": "24b1a082",
   "metadata": {},
   "outputs": [
    {
     "name": "stdout",
     "output_type": "stream",
     "text": [
      "Sequential(\n",
      "  (0): Flatten(start_dim=1, end_dim=-1)\n",
      "  (1): Linear(in_features=784, out_features=400, bias=True)\n",
      "  (2): ReLU()\n",
      "  (3): Linear(in_features=400, out_features=27, bias=True)\n",
      "  (4): Softmax(dim=1)\n",
      ")\n",
      "324827 trainable parameters\n"
     ]
    }
   ],
   "source": [
    "### Define the label transform from an integer to a set of probabilities\n",
    "def target_transform(inlabel):\n",
    "    newlabel = torch.zeros(27)\n",
    "    newlabel[inlabel] = 1.\n",
    "    return newlabel\n",
    "\n",
    "def input_transform(image):\n",
    "    image = torchvision.transforms.functional.rotate(image,-90)\n",
    "    image = torchvision.transforms.functional.hflip(image)\n",
    "    tensor = torchvision.transforms.functional.to_tensor(image)\n",
    "    return tensor\n",
    "\n",
    "### Reinitialize datasets with the transforms\n",
    "TrainDS = torchvision.datasets.EMNIST(fname, train=True, download=True,\n",
    "            target_transform=target_transform, transform=torchvision.transforms.Compose([\n",
    "                    lambda img: torchvision.transforms.functional.rotate(img, -90),\n",
    "                    lambda img: torchvision.transforms.functional.hflip(img),\n",
    "                    torchvision.transforms.ToTensor(),\n",
    "                        torchvision.transforms.Normalize((0.0), (1.0))\n",
    "                ]), split='letters')\n",
    "TestDS = torchvision.datasets.EMNIST(fname, train=False,\n",
    "            target_transform=target_transform, transform=torchvision.transforms.Compose([\n",
    "                    lambda img: torchvision.transforms.functional.rotate(img, -90),\n",
    "                    lambda img: torchvision.transforms.functional.hflip(img),\n",
    "                    torchvision.transforms.ToTensor(),\n",
    "                    torchvision.transforms.Normalize((0.0), (1.0))\n",
    "                ]), split='letters')\n",
    "\n",
    "### Initialize DataLoaders as PyTorch convenience\n",
    "TrainDL = torch.utils.data.DataLoader(TrainDS, shuffle=True, batch_size=32)\n",
    "TestDL = torch.utils.data.DataLoader(TestDS, batch_size=1000)\n",
    "\n",
    "### Choose device: 'cuda' or 'cpu'\n",
    "device = 'cpu'\n",
    "# device = 'cuda'\n",
    "\n",
    "### Define the dense neuron layer\n",
    "# Network = torch.nn.Sequential(\n",
    "#     torch.nn.Flatten(),            # 28x28 -> 784\n",
    "#     torch.nn.Linear(784, 10),      # 784 -> 10\n",
    "#     torch.nn.Softmax(dim=1)\n",
    "# )\n",
    "Network = torch.nn.Sequential(\n",
    "    torch.nn.Flatten(),\n",
    "    torch.nn.Linear(784, 400),\n",
    "    torch.nn.ReLU(),\n",
    "    torch.nn.Linear(400, 27),\n",
    "    torch.nn.Softmax(dim=1)\n",
    ")\n",
    "Network.to(device=device)\n",
    "\n",
    "### Get information about model\n",
    "totpars = 0\n",
    "for par in Network.parameters():\n",
    "    newpars = 1\n",
    "    for num in par.shape:\n",
    "        newpars *= num\n",
    "    totpars += newpars\n",
    "print(Network)\n",
    "print('%i trainable parameters' % totpars)\n",
    "\n",
    "### Initialize loss function and optimizer\n",
    "crit = torch.nn.BCELoss()\n",
    "opt = torch.optim.SGD(Network.parameters(), lr=0.3)"
   ]
  },
  {
   "cell_type": "code",
   "execution_count": 54,
   "id": "de80de5d",
   "metadata": {},
   "outputs": [
    {
     "name": "stdout",
     "output_type": "stream",
     "text": [
      "tensor(0.1584)\n"
     ]
    }
   ],
   "source": [
    "### Baseline: just say it's anything at probability 1/N, what's the loss?\n",
    "N = 27\n",
    "labels = torch.zeros(1, 27, dtype=torch.float32)\n",
    "labels[0, 3] = 1.\n",
    "output = torch.full_like(labels, 1./N)\n",
    "print(crit(output, labels))"
   ]
  },
  {
   "cell_type": "code",
   "execution_count": 55,
   "id": "3cd86eb3",
   "metadata": {},
   "outputs": [
    {
     "data": {
      "application/vnd.jupyter.widget-view+json": {
       "model_id": "3104be24135c455685b59395e7a54dcd",
       "version_major": 2,
       "version_minor": 0
      },
      "text/plain": [
       "  0%|          | 0/16 [00:00<?, ?it/s]"
      ]
     },
     "metadata": {},
     "output_type": "display_data"
    },
    {
     "data": {
      "application/vnd.jupyter.widget-view+json": {
       "model_id": "",
       "version_major": 2,
       "version_minor": 0
      },
      "text/plain": [
       "  0%|          | 0/3900 [00:00<?, ?it/s]"
      ]
     },
     "metadata": {},
     "output_type": "display_data"
    },
    {
     "name": "stdout",
     "output_type": "stream",
     "text": [
      "1 0.08243802465116366\n"
     ]
    },
    {
     "data": {
      "application/vnd.jupyter.widget-view+json": {
       "model_id": "",
       "version_major": 2,
       "version_minor": 0
      },
      "text/plain": [
       "  0%|          | 0/3900 [00:00<?, ?it/s]"
      ]
     },
     "metadata": {},
     "output_type": "display_data"
    },
    {
     "name": "stdout",
     "output_type": "stream",
     "text": [
      "2 0.05355537265586929\n"
     ]
    },
    {
     "data": {
      "application/vnd.jupyter.widget-view+json": {
       "model_id": "",
       "version_major": 2,
       "version_minor": 0
      },
      "text/plain": [
       "  0%|          | 0/3900 [00:00<?, ?it/s]"
      ]
     },
     "metadata": {},
     "output_type": "display_data"
    },
    {
     "name": "stdout",
     "output_type": "stream",
     "text": [
      "3 0.04274488060759046\n"
     ]
    },
    {
     "data": {
      "application/vnd.jupyter.widget-view+json": {
       "model_id": "",
       "version_major": 2,
       "version_minor": 0
      },
      "text/plain": [
       "  0%|          | 0/3900 [00:00<?, ?it/s]"
      ]
     },
     "metadata": {},
     "output_type": "display_data"
    },
    {
     "name": "stdout",
     "output_type": "stream",
     "text": [
      "4 0.035813309307425066\n"
     ]
    },
    {
     "data": {
      "application/vnd.jupyter.widget-view+json": {
       "model_id": "",
       "version_major": 2,
       "version_minor": 0
      },
      "text/plain": [
       "  0%|          | 0/3900 [00:00<?, ?it/s]"
      ]
     },
     "metadata": {},
     "output_type": "display_data"
    },
    {
     "name": "stdout",
     "output_type": "stream",
     "text": [
      "5 0.03139870734527134\n"
     ]
    },
    {
     "data": {
      "application/vnd.jupyter.widget-view+json": {
       "model_id": "",
       "version_major": 2,
       "version_minor": 0
      },
      "text/plain": [
       "  0%|          | 0/3900 [00:00<?, ?it/s]"
      ]
     },
     "metadata": {},
     "output_type": "display_data"
    },
    {
     "name": "stdout",
     "output_type": "stream",
     "text": [
      "6 0.028415565041777415\n"
     ]
    },
    {
     "data": {
      "application/vnd.jupyter.widget-view+json": {
       "model_id": "",
       "version_major": 2,
       "version_minor": 0
      },
      "text/plain": [
       "  0%|          | 0/3900 [00:00<?, ?it/s]"
      ]
     },
     "metadata": {},
     "output_type": "display_data"
    },
    {
     "name": "stdout",
     "output_type": "stream",
     "text": [
      "7 0.02618818177555043\n"
     ]
    },
    {
     "data": {
      "application/vnd.jupyter.widget-view+json": {
       "model_id": "",
       "version_major": 2,
       "version_minor": 0
      },
      "text/plain": [
       "  0%|          | 0/3900 [00:00<?, ?it/s]"
      ]
     },
     "metadata": {},
     "output_type": "display_data"
    },
    {
     "name": "stdout",
     "output_type": "stream",
     "text": [
      "8 0.024467147057637192\n"
     ]
    },
    {
     "data": {
      "application/vnd.jupyter.widget-view+json": {
       "model_id": "",
       "version_major": 2,
       "version_minor": 0
      },
      "text/plain": [
       "  0%|          | 0/3900 [00:00<?, ?it/s]"
      ]
     },
     "metadata": {},
     "output_type": "display_data"
    },
    {
     "name": "stdout",
     "output_type": "stream",
     "text": [
      "9 0.02305618912100983\n"
     ]
    },
    {
     "data": {
      "application/vnd.jupyter.widget-view+json": {
       "model_id": "",
       "version_major": 2,
       "version_minor": 0
      },
      "text/plain": [
       "  0%|          | 0/3900 [00:00<?, ?it/s]"
      ]
     },
     "metadata": {},
     "output_type": "display_data"
    },
    {
     "name": "stdout",
     "output_type": "stream",
     "text": [
      "10 0.021945303013751236\n"
     ]
    },
    {
     "data": {
      "application/vnd.jupyter.widget-view+json": {
       "model_id": "",
       "version_major": 2,
       "version_minor": 0
      },
      "text/plain": [
       "  0%|          | 0/3900 [00:00<?, ?it/s]"
      ]
     },
     "metadata": {},
     "output_type": "display_data"
    },
    {
     "name": "stdout",
     "output_type": "stream",
     "text": [
      "11 0.020940248639836238\n"
     ]
    },
    {
     "data": {
      "application/vnd.jupyter.widget-view+json": {
       "model_id": "",
       "version_major": 2,
       "version_minor": 0
      },
      "text/plain": [
       "  0%|          | 0/3900 [00:00<?, ?it/s]"
      ]
     },
     "metadata": {},
     "output_type": "display_data"
    },
    {
     "name": "stdout",
     "output_type": "stream",
     "text": [
      "12 0.02011983825066963\n"
     ]
    },
    {
     "data": {
      "application/vnd.jupyter.widget-view+json": {
       "model_id": "",
       "version_major": 2,
       "version_minor": 0
      },
      "text/plain": [
       "  0%|          | 0/3900 [00:00<?, ?it/s]"
      ]
     },
     "metadata": {},
     "output_type": "display_data"
    },
    {
     "name": "stdout",
     "output_type": "stream",
     "text": [
      "13 0.01938832346033544\n"
     ]
    },
    {
     "data": {
      "application/vnd.jupyter.widget-view+json": {
       "model_id": "",
       "version_major": 2,
       "version_minor": 0
      },
      "text/plain": [
       "  0%|          | 0/3900 [00:00<?, ?it/s]"
      ]
     },
     "metadata": {},
     "output_type": "display_data"
    },
    {
     "name": "stdout",
     "output_type": "stream",
     "text": [
      "14 0.01873257686372082\n"
     ]
    },
    {
     "data": {
      "application/vnd.jupyter.widget-view+json": {
       "model_id": "",
       "version_major": 2,
       "version_minor": 0
      },
      "text/plain": [
       "  0%|          | 0/3900 [00:00<?, ?it/s]"
      ]
     },
     "metadata": {},
     "output_type": "display_data"
    },
    {
     "name": "stdout",
     "output_type": "stream",
     "text": [
      "15 0.01813905841903761\n"
     ]
    },
    {
     "data": {
      "application/vnd.jupyter.widget-view+json": {
       "model_id": "",
       "version_major": 2,
       "version_minor": 0
      },
      "text/plain": [
       "  0%|          | 0/3900 [00:00<?, ?it/s]"
      ]
     },
     "metadata": {},
     "output_type": "display_data"
    },
    {
     "name": "stdout",
     "output_type": "stream",
     "text": [
      "16 0.0176088950307801\n"
     ]
    }
   ],
   "source": [
    "### Set model in training mode and create the epochs axis\n",
    "Network.train()\n",
    "epochs = range(1, 17)\n",
    "\n",
    "### Train the model\n",
    "for e in tqdm(epochs):\n",
    "    tr_loss = 0.\n",
    "    samples = 0\n",
    "    ### Loop over batches\n",
    "    for inputs, labels in tqdm(TrainDL, leave=False):\n",
    "        opt.zero_grad() # zero gradient values\n",
    "        inputs = inputs.to(device=device) # move input and label tensors to the device with the model\n",
    "        labels = labels.to(device=device)\n",
    "        outputs = Network(inputs) # compute model outputs\n",
    "        loss = crit(outputs, labels) # compute batch loss\n",
    "        loss.backward() # back-propagate the gradients\n",
    "        opt.step() # update the model weights\n",
    "        tr_loss += loss.clone().cpu().item()*len(inputs) # add the batch loss to the running loss\n",
    "        samples += len(inputs) # update the number of processed samples\n",
    "    tr_loss /= samples # compute training loss\n",
    "    print(e, tr_loss)"
   ]
  },
  {
   "cell_type": "code",
   "execution_count": 56,
   "id": "3fd31a50",
   "metadata": {},
   "outputs": [
    {
     "data": {
      "application/vnd.jupyter.widget-view+json": {
       "model_id": "1f5732c3ae0f42a09217926fff2d97c2",
       "version_major": 2,
       "version_minor": 0
      },
      "text/plain": [
       "  0%|          | 0/21 [00:00<?, ?it/s]"
      ]
     },
     "metadata": {},
     "output_type": "display_data"
    },
    {
     "name": "stdout",
     "output_type": "stream",
     "text": [
      "Test loss: 0.020812, accuracy: 0.899423\n"
     ]
    }
   ],
   "source": [
    "### Set model in evaluation mode\n",
    "Network.eval()\n",
    "\n",
    "### Compute the test loss\n",
    "with torch.no_grad():\n",
    "    te_loss = 0.\n",
    "    samples = 0\n",
    "    accuracy = 0\n",
    "    ### Loop over batches\n",
    "    for inputs, labels in tqdm(TestDL):\n",
    "        inputs = inputs.to(device=device)\n",
    "        labels = labels.to(device=device)\n",
    "        outputs = Network(inputs)\n",
    "        loss = crit(outputs, labels)\n",
    "        te_loss += loss.clone().cpu().item()*len(inputs)\n",
    "        accuracy += torch.sum(torch.eq(torch.max(labels, 1)[1], torch.max(outputs, 1)[1]), dtype=int).clone().cpu().item()\n",
    "        samples += len(inputs)\n",
    "    te_loss /= samples\n",
    "    accuracy /= samples\n",
    "    print('Test loss: %f, accuracy: %f' % (te_loss, accuracy))"
   ]
  },
  {
   "cell_type": "code",
   "execution_count": 57,
   "id": "4c187532",
   "metadata": {},
   "outputs": [],
   "source": [
    "torch.save(Network, 'model_torch_EMNIST_letters_0.chk')"
   ]
  },
  {
   "cell_type": "code",
   "execution_count": 58,
   "id": "1d74b7b9",
   "metadata": {},
   "outputs": [],
   "source": [
    "Network = torch.load('model_torch_EMNIST_letters_0.chk')\n",
    "device='cpu'"
   ]
  },
  {
   "cell_type": "code",
   "execution_count": 108,
   "id": "95225038",
   "metadata": {},
   "outputs": [
    {
     "data": {
      "image/png": "[encoded data removed]",
      "text/plain": [
       "<Figure size 1080x432 with 12 Axes>"
      ]
     },
     "metadata": {
      "needs_background": "light"
     },
     "output_type": "display_data"
    }
   ],
   "source": [
    "### Draw some random images from the test dataset and compare the true labels to the network outputs\n",
    "fig, axes = plt.subplots(nrows=2, ncols=6, figsize=(15., 6.))\n",
    "### Loop over subplots\n",
    "for axes_row in axes:\n",
    "    for ax in axes_row:\n",
    "        ### Draw the images\n",
    "        test_index = rng.integers(0, len(TestDS))\n",
    "        sample, label = TestDS[test_index]\n",
    "        image, orig_label = TestDS_orig[test_index]\n",
    "        ### Compute the predictions\n",
    "        with torch.no_grad():\n",
    "            output = Network(torch.unsqueeze(sample, dim=0).to(device=device))\n",
    "            certainty, output = torch.max(output[0], 0)\n",
    "            certainty = certainty.clone().cpu().item()\n",
    "            output = output.clone().cpu().item()\n",
    "        ### Show image\n",
    "        ax.set_axis_off()\n",
    "        ax.imshow(image)\n",
    "        ax.set_title('True: %i, predicted: %i\\nat %f' % (orig_label, output, certainty))"
   ]
  },
  {
   "cell_type": "code",
   "execution_count": 115,
   "id": "d514e831",
   "metadata": {},
   "outputs": [
    {
     "name": "stdout",
     "output_type": "stream",
     "text": [
      "tensor([[0.0030, 0.0122, 0.0034, 0.0093, 0.0101, 0.0044, 0.0438, 0.0054, 0.1416,\n",
      "         0.2295, 0.0741, 0.0227, 0.1240, 0.0018, 0.0756, 0.0222, 0.0174, 0.0045,\n",
      "         0.0115, 0.0077, 0.0401, 0.0324, 0.0573, 0.0030, 0.0202, 0.0166, 0.0060]])\n",
      "9\n",
      "I\n",
      "tensor([0.2295, 0.1416, 0.1240])\n",
      "tensor([ 9,  8, 12])\n",
      "I\n",
      "H\n",
      "L\n"
     ]
    },
    {
     "data": {
      "image/png": "[encoded data removed]",
      "text/plain": [
       "<Figure size 432x288 with 1 Axes>"
      ]
     },
     "metadata": {
      "needs_background": "light"
     },
     "output_type": "display_data"
    }
   ],
   "source": [
    "from PIL import ImageTk, Image, ImageDraw\n",
    "import PIL\n",
    "from tkinter import *\n",
    "\n",
    "width = 200  # canvas width\n",
    "height = 200 # canvas height\n",
    "center = height//2\n",
    "white = (255, 255, 255) # canvas back\n",
    "\n",
    "def save():\n",
    "    # save image to hard drive\n",
    "    filename = \"user_input.jpg\"\n",
    "    output_image.save(filename)\n",
    "    compressed_output_image = output_image.resize((22,22))\n",
    "    # Enhance Saturation\n",
    "#     converter = PIL.ImageEnhance.Color(compressed_output_image)\n",
    "#     compressed_output_image = converter.enhance(2.5)\n",
    "    # Enhance contrast\n",
    "#     converter = PIL.ImageEnhance.Contrast(compressed_output_image)\n",
    "#     compressed_output_image = converter.enhance(3.5)\n",
    "    plt.imshow(compressed_output_image, cmap='viridis')\n",
    "    convert_tensor = torchvision.transforms.ToTensor()\n",
    "    tensor_image = convert_tensor(compressed_output_image)\n",
    "    convert_tensor = torchvision.transforms.Normalize((0.0), (1.0))\n",
    "    tensor_image = convert_tensor(tensor_image)\n",
    "    tensor_image = torch.nn.functional.pad(tensor_image, (3,3,3,3), \"constant\", 0)\n",
    "    # Debugging\n",
    "    # print(np.array(compressed_output_image.getdata())) # Get data values)\n",
    "    # print(np.array(image.getdata()))\n",
    "\n",
    "    ### Compute the predictions\n",
    "    with torch.no_grad():\n",
    "        output0 = Network(torch.unsqueeze(tensor_image, dim=0).to(device=device))\n",
    "        print(output0)\n",
    "        certainty, output = torch.max(output0[0], 0)\n",
    "        certainty = certainty.clone().cpu().item()\n",
    "        output = output.clone().cpu().item()\n",
    "        certainty1, output1 = torch.topk(output0[0],3)\n",
    "        certainty1 = certainty1.clone().cpu()#.item()\n",
    "        output1 = output1.clone().cpu()#.item()\n",
    "#     print(certainty)\n",
    "    print(output)\n",
    "    print(chr(ord('@')+output))\n",
    "        \n",
    "    print(certainty1)\n",
    "    print(output1)\n",
    "    for i in output1:\n",
    "        print(chr(ord('@')+i))\n",
    "\n",
    "def paint(event):\n",
    "    x1, y1 = (event.x - 1), (event.y - 1)\n",
    "    x2, y2 = (event.x + 1), (event.y + 1)\n",
    "    canvas.create_oval(x1, y1, x2, y2, fill=\"white\",width=14)\n",
    "    draw.line([x1, y1, x2, y2],fill=\"white\",width=14)\n",
    "\n",
    "master = Tk()\n",
    "\n",
    "# create a tkinter canvas to draw on\n",
    "canvas = Canvas(master, width=width, height=height, bg='white')\n",
    "canvas.pack()\n",
    "\n",
    "# create an empty PIL image and draw object to draw on\n",
    "output_image = PIL.Image.new(\"L\", (width, height), 0)\n",
    "draw = ImageDraw.Draw(output_image)\n",
    "canvas.pack(expand=YES, fill=BOTH)\n",
    "canvas.bind(\"<B1-Motion>\", paint)\n",
    "\n",
    "# add a button to save the image\n",
    "button=Button(text=\"save\",command=save)\n",
    "button.pack()\n",
    "\n",
    "master.mainloop()"
   ]
  },
  {
   "cell_type": "code",
   "execution_count": 13,
   "id": "496d6a02",
   "metadata": {
    "scrolled": true
   },
   "outputs": [],
   "source": [
    "# Debugging\n",
    "# plt.imshow(image, cmap='viridis')"
   ]
  },
  {
   "cell_type": "code",
   "execution_count": null,
   "id": "300a9967",
   "metadata": {},
   "outputs": [],
   "source": []
  },
  {
   "cell_type": "markdown",
   "id": "799a0b1c",
   "metadata": {},
   "source": [
    "# References:\n",
    "https://stackoverflow.com/questions/59535286/improve-real-life-results-of-neural-network-trained-with-mnist-dataset"
   ]
  },
  {
   "cell_type": "code",
   "execution_count": null,
   "id": "39d50641",
   "metadata": {},
   "outputs": [],
   "source": []
  }
 ],
 "metadata": {
  "kernelspec": {
   "display_name": "Python 3 (ipykernel)",
   "language": "python",
   "name": "python3"
  },
  "language_info": {
   "codemirror_mode": {
    "name": "ipython",
    "version": 3
   },
   "file_extension": ".py",
   "mimetype": "text/x-python",
   "name": "python",
   "nbconvert_exporter": "python",
   "pygments_lexer": "ipython3",
   "version": "3.7.11"
  }
 },
 "nbformat": 4,
 "nbformat_minor": 5
}
