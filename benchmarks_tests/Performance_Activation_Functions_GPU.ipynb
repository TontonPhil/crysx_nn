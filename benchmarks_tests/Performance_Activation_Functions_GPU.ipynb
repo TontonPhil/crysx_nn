{
  "cells": [
    {
      "cell_type": "markdown",
      "metadata": {
        "id": "6552ade6"
      },
      "source": [
        "# Performance as well as Validation benchmarks for activation function implementations in the different frameworks\n",
        "\n",
        "# GPU versions only\n"
      ],
      "id": "6552ade6"
    },
    {
      "cell_type": "markdown",
      "source": [
        "Run the following if using Google Colab"
      ],
      "metadata": {
        "id": "N57upmF3l9fG"
      },
      "id": "N57upmF3l9fG"
    },
    {
      "cell_type": "code",
      "execution_count": 2,
      "metadata": {
        "colab": {
          "base_uri": "https://localhost:8080/",
          "height": 1000
        },
        "id": "s1vpf81h3qfU",
        "outputId": "0b56198a-39c2-4158-d5c2-2e549c689ff0"
      },
      "outputs": [
        {
          "output_type": "stream",
          "name": "stdout",
          "text": [
            "Collecting crysx_nn\n",
            "  Downloading crysx_nn-0.1.5.tar.gz (85.8 MB)\n",
            "\u001b[K     |████████████████████████████████| 85.8 MB 72 kB/s \n",
            "\u001b[?25hCollecting numba>=0.54.1\n",
            "  Downloading numba-0.54.1-cp37-cp37m-manylinux2014_x86_64.manylinux_2_17_x86_64.whl (3.3 MB)\n",
            "\u001b[K     |████████████████████████████████| 3.3 MB 33.2 MB/s \n",
            "\u001b[?25hCollecting numpy==1.19.2\n",
            "  Downloading numpy-1.19.2-cp37-cp37m-manylinux2010_x86_64.whl (14.5 MB)\n",
            "\u001b[K     |████████████████████████████████| 14.5 MB 102 kB/s \n",
            "\u001b[?25hRequirement already satisfied: autograd in /usr/local/lib/python3.7/dist-packages (from crysx_nn) (1.3)\n",
            "Requirement already satisfied: tqdm in /usr/local/lib/python3.7/dist-packages (from crysx_nn) (4.62.3)\n",
            "Requirement already satisfied: opt_einsum in /usr/local/lib/python3.7/dist-packages (from crysx_nn) (3.3.0)\n",
            "Collecting nnv\n",
            "  Downloading nnv-0.0.5-py3-none-any.whl (4.9 kB)\n",
            "Requirement already satisfied: matplotlib in /usr/local/lib/python3.7/dist-packages (from crysx_nn) (3.2.2)\n",
            "Requirement already satisfied: numexpr in /usr/local/lib/python3.7/dist-packages (from crysx_nn) (2.7.3)\n",
            "Requirement already satisfied: tomli in /usr/local/lib/python3.7/dist-packages (from crysx_nn) (1.2.2)\n",
            "Collecting llvmlite<0.38,>=0.37.0rc1\n",
            "  Downloading llvmlite-0.37.0-cp37-cp37m-manylinux2014_x86_64.whl (26.3 MB)\n",
            "\u001b[K     |████████████████████████████████| 26.3 MB 1.7 MB/s \n",
            "\u001b[?25hRequirement already satisfied: setuptools in /usr/local/lib/python3.7/dist-packages (from numba>=0.54.1->crysx_nn) (57.4.0)\n",
            "Requirement already satisfied: future>=0.15.2 in /usr/local/lib/python3.7/dist-packages (from autograd->crysx_nn) (0.16.0)\n",
            "Requirement already satisfied: cycler>=0.10 in /usr/local/lib/python3.7/dist-packages (from matplotlib->crysx_nn) (0.11.0)\n",
            "Requirement already satisfied: pyparsing!=2.0.4,!=2.1.2,!=2.1.6,>=2.0.1 in /usr/local/lib/python3.7/dist-packages (from matplotlib->crysx_nn) (3.0.6)\n",
            "Requirement already satisfied: kiwisolver>=1.0.1 in /usr/local/lib/python3.7/dist-packages (from matplotlib->crysx_nn) (1.3.2)\n",
            "Requirement already satisfied: python-dateutil>=2.1 in /usr/local/lib/python3.7/dist-packages (from matplotlib->crysx_nn) (2.8.2)\n",
            "Requirement already satisfied: six>=1.5 in /usr/local/lib/python3.7/dist-packages (from python-dateutil>=2.1->matplotlib->crysx_nn) (1.15.0)\n",
            "Building wheels for collected packages: crysx-nn\n",
            "  Building wheel for crysx-nn (setup.py) ... \u001b[?25l\u001b[?25hdone\n",
            "  Created wheel for crysx-nn: filename=crysx_nn-0.1.5-py3-none-any.whl size=17096 sha256=228bd8f1916f3bc8ee8529da7a7e5cffee281b1c6a387c00756151cf072a9022\n",
            "  Stored in directory: /root/.cache/pip/wheels/a9/2f/4d/e40bd569d1d890cb728e6fc9fe479d5223bbc367a6ca2081f9\n",
            "Successfully built crysx-nn\n",
            "Installing collected packages: numpy, llvmlite, numba, nnv, crysx-nn\n",
            "  Attempting uninstall: numpy\n",
            "    Found existing installation: numpy 1.19.5\n",
            "    Uninstalling numpy-1.19.5:\n",
            "      Successfully uninstalled numpy-1.19.5\n",
            "  Attempting uninstall: llvmlite\n",
            "    Found existing installation: llvmlite 0.34.0\n",
            "    Uninstalling llvmlite-0.34.0:\n",
            "      Successfully uninstalled llvmlite-0.34.0\n",
            "  Attempting uninstall: numba\n",
            "    Found existing installation: numba 0.51.2\n",
            "    Uninstalling numba-0.51.2:\n",
            "      Successfully uninstalled numba-0.51.2\n",
            "\u001b[31mERROR: pip's dependency resolver does not currently take into account all the packages that are installed. This behaviour is the source of the following dependency conflicts.\n",
            "datascience 0.10.6 requires folium==0.2.1, but you have folium 0.8.3 which is incompatible.\n",
            "albumentations 0.1.12 requires imgaug<0.2.7,>=0.2.5, but you have imgaug 0.2.9 which is incompatible.\u001b[0m\n",
            "Successfully installed crysx-nn-0.1.5 llvmlite-0.37.0 nnv-0.0.5 numba-0.54.1 numpy-1.19.2\n"
          ]
        },
        {
          "output_type": "display_data",
          "data": {
            "application/vnd.colab-display-data+json": {
              "pip_warning": {
                "packages": [
                  "numpy"
                ]
              }
            }
          },
          "metadata": {}
        },
        {
          "output_type": "stream",
          "name": "stdout",
          "text": [
            "Collecting IPython==7.7.0\n",
            "  Downloading ipython-7.7.0-py3-none-any.whl (774 kB)\n",
            "\u001b[K     |████████████████████████████████| 774 kB 5.6 MB/s \n",
            "\u001b[?25hRequirement already satisfied: backcall in /usr/local/lib/python3.7/dist-packages (from IPython==7.7.0) (0.2.0)\n",
            "Requirement already satisfied: jedi>=0.10 in /usr/local/lib/python3.7/dist-packages (from IPython==7.7.0) (0.18.1)\n",
            "Requirement already satisfied: traitlets>=4.2 in /usr/local/lib/python3.7/dist-packages (from IPython==7.7.0) (5.1.1)\n",
            "Requirement already satisfied: pickleshare in /usr/local/lib/python3.7/dist-packages (from IPython==7.7.0) (0.7.5)\n",
            "Requirement already satisfied: decorator in /usr/local/lib/python3.7/dist-packages (from IPython==7.7.0) (4.4.2)\n",
            "Requirement already satisfied: pexpect in /usr/local/lib/python3.7/dist-packages (from IPython==7.7.0) (4.8.0)\n",
            "Collecting prompt-toolkit<2.1.0,>=2.0.0\n",
            "  Downloading prompt_toolkit-2.0.10-py3-none-any.whl (340 kB)\n",
            "\u001b[K     |████████████████████████████████| 340 kB 32.4 MB/s \n",
            "\u001b[?25hRequirement already satisfied: pygments in /usr/local/lib/python3.7/dist-packages (from IPython==7.7.0) (2.6.1)\n",
            "Requirement already satisfied: setuptools>=18.5 in /usr/local/lib/python3.7/dist-packages (from IPython==7.7.0) (57.4.0)\n",
            "Requirement already satisfied: parso<0.9.0,>=0.8.0 in /usr/local/lib/python3.7/dist-packages (from jedi>=0.10->IPython==7.7.0) (0.8.3)\n",
            "Requirement already satisfied: six>=1.9.0 in /usr/local/lib/python3.7/dist-packages (from prompt-toolkit<2.1.0,>=2.0.0->IPython==7.7.0) (1.15.0)\n",
            "Requirement already satisfied: wcwidth in /usr/local/lib/python3.7/dist-packages (from prompt-toolkit<2.1.0,>=2.0.0->IPython==7.7.0) (0.2.5)\n",
            "Requirement already satisfied: ptyprocess>=0.5 in /usr/local/lib/python3.7/dist-packages (from pexpect->IPython==7.7.0) (0.7.0)\n",
            "Installing collected packages: prompt-toolkit, IPython\n",
            "  Attempting uninstall: prompt-toolkit\n",
            "    Found existing installation: prompt-toolkit 1.0.18\n",
            "    Uninstalling prompt-toolkit-1.0.18:\n",
            "      Successfully uninstalled prompt-toolkit-1.0.18\n",
            "  Attempting uninstall: IPython\n",
            "    Found existing installation: ipython 5.5.0\n",
            "    Uninstalling ipython-5.5.0:\n",
            "      Successfully uninstalled ipython-5.5.0\n",
            "\u001b[31mERROR: pip's dependency resolver does not currently take into account all the packages that are installed. This behaviour is the source of the following dependency conflicts.\n",
            "jupyter-console 5.2.0 requires prompt-toolkit<2.0.0,>=1.0.0, but you have prompt-toolkit 2.0.10 which is incompatible.\n",
            "google-colab 1.0.0 requires ipython~=5.5.0, but you have ipython 7.7.0 which is incompatible.\u001b[0m\n",
            "Successfully installed IPython-7.7.0 prompt-toolkit-2.0.10\n"
          ]
        },
        {
          "output_type": "display_data",
          "data": {
            "application/vnd.colab-display-data+json": {
              "pip_warning": {
                "packages": [
                  "IPython",
                  "prompt_toolkit"
                ]
              }
            }
          },
          "metadata": {}
        }
      ],
      "source": [
        "! pip install crysx_nn\n",
        "! pip install IPython==7.7.0"
      ],
      "id": "s1vpf81h3qfU"
    },
    {
      "cell_type": "code",
      "execution_count": 1,
      "metadata": {
        "colab": {
          "base_uri": "https://localhost:8080/"
        },
        "id": "35de3f19",
        "outputId": "ef7d3e16-ce95-401c-e97f-1c42f61d0a09"
      },
      "outputs": [
        {
          "output_type": "stream",
          "name": "stdout",
          "text": [
            "blas_mkl_info:\n",
            "  NOT AVAILABLE\n",
            "blis_info:\n",
            "  NOT AVAILABLE\n",
            "openblas_info:\n",
            "    libraries = ['openblas', 'openblas']\n",
            "    library_dirs = ['/usr/local/lib']\n",
            "    language = c\n",
            "    define_macros = [('HAVE_CBLAS', None)]\n",
            "blas_opt_info:\n",
            "    libraries = ['openblas', 'openblas']\n",
            "    library_dirs = ['/usr/local/lib']\n",
            "    language = c\n",
            "    define_macros = [('HAVE_CBLAS', None)]\n",
            "lapack_mkl_info:\n",
            "  NOT AVAILABLE\n",
            "openblas_lapack_info:\n",
            "    libraries = ['openblas', 'openblas']\n",
            "    library_dirs = ['/usr/local/lib']\n",
            "    language = c\n",
            "    define_macros = [('HAVE_CBLAS', None)]\n",
            "lapack_opt_info:\n",
            "    libraries = ['openblas', 'openblas']\n",
            "    library_dirs = ['/usr/local/lib']\n",
            "    language = c\n",
            "    define_macros = [('HAVE_CBLAS', None)]\n",
            "numpy 1.19.2\n",
            "crysx_nn 0.1.5\n",
            "torch 1.10.0+cu111\n",
            "tensorflow 2.7.0\n",
            "cupy 9.4.0\n"
          ]
        }
      ],
      "source": [
        "\n",
        "\n",
        "import numpy as np\n",
        "np.show_config()\n",
        "print('numpy',np.__version__)\n",
        "import matplotlib.pyplot as plt\n",
        "\n",
        "# Import activation functions from crysx_nn\n",
        "from crysx_nn.activation import Sigmoid_cupy, Sigmoid_grad_cupy\n",
        "from crysx_nn.activation import Softmax_cupy, Softmax_grad_cupy\n",
        "from crysx_nn.activation import ReLU_cupy, ReLU_grad_cupy\n",
        "import crysx_nn\n",
        "print('crysx_nn',crysx_nn.__version__)\n",
        "\n",
        "# PyTorch\n",
        "import torch\n",
        "print('torch',torch.__version__)\n",
        "\n",
        "# Tensorflow\n",
        "import tensorflow as tf\n",
        "print('tensorflow',tf.__version__)\n",
        "\n",
        "import cupy as cp\n",
        "print('cupy',cp.__version__)"
      ],
      "id": "35de3f19"
    },
    {
      "cell_type": "markdown",
      "metadata": {
        "id": "2fa7f96f"
      },
      "source": [
        "## Ensure that evertyhing is only using GPU"
      ],
      "id": "2fa7f96f"
    },
    {
      "cell_type": "code",
      "execution_count": 2,
      "metadata": {
        "colab": {
          "base_uri": "https://localhost:8080/"
        },
        "id": "d2989c59",
        "outputId": "0302fe74-b702-43e2-e16e-50cd1eb55762"
      },
      "outputs": [
        {
          "output_type": "execute_result",
          "data": {
            "text/plain": [
              "True"
            ]
          },
          "metadata": {},
          "execution_count": 2
        }
      ],
      "source": [
        "torch.cuda.is_available()"
      ],
      "id": "d2989c59"
    },
    {
      "cell_type": "code",
      "execution_count": 3,
      "metadata": {
        "colab": {
          "base_uri": "https://localhost:8080/"
        },
        "id": "KkvwtNuL8QlZ",
        "outputId": "75422886-6019-4b3e-a243-8ca566a98fec"
      },
      "outputs": [
        {
          "output_type": "stream",
          "name": "stdout",
          "text": [
            "0\n",
            "<torch.cuda.device object at 0x7f995ecc67d0>\n",
            "1\n",
            "Tesla K80\n"
          ]
        }
      ],
      "source": [
        "print(torch.cuda.current_device())\n",
        "print(torch.cuda.device(0))\n",
        "print(torch.cuda.device_count())\n",
        "print(torch.cuda.get_device_name(0))"
      ],
      "id": "KkvwtNuL8QlZ"
    },
    {
      "cell_type": "code",
      "execution_count": 4,
      "metadata": {
        "colab": {
          "base_uri": "https://localhost:8080/"
        },
        "id": "9e8ae4f1",
        "outputId": "51eb8be5-f12b-43b3-9ef2-84bd5e2c1b58"
      },
      "outputs": [
        {
          "output_type": "stream",
          "name": "stdout",
          "text": [
            "Num GPUs Available:  1\n"
          ]
        }
      ],
      "source": [
        "print(\"Num GPUs Available: \", len(tf.config.list_physical_devices('GPU')))"
      ],
      "id": "9e8ae4f1"
    },
    {
      "cell_type": "code",
      "execution_count": 5,
      "metadata": {
        "colab": {
          "base_uri": "https://localhost:8080/"
        },
        "id": "a5fb5e5b",
        "outputId": "568ac5de-73db-4e22-8845-1f638b6631c7"
      },
      "outputs": [
        {
          "output_type": "stream",
          "name": "stdout",
          "text": [
            "WARNING:tensorflow:From <ipython-input-5-17bb7203622b>:1: is_gpu_available (from tensorflow.python.framework.test_util) is deprecated and will be removed in a future version.\n",
            "Instructions for updating:\n",
            "Use `tf.config.list_physical_devices('GPU')` instead.\n"
          ]
        },
        {
          "output_type": "execute_result",
          "data": {
            "text/plain": [
              "True"
            ]
          },
          "metadata": {},
          "execution_count": 5
        }
      ],
      "source": [
        "tf.test.is_gpu_available()"
      ],
      "id": "a5fb5e5b"
    },
    {
      "cell_type": "code",
      "execution_count": 6,
      "metadata": {
        "colab": {
          "base_uri": "https://localhost:8080/"
        },
        "id": "pSkV1Eo9ZlK4",
        "outputId": "ce459489-17f4-4264-e9ce-d76b2857f54f"
      },
      "outputs": [
        {
          "output_type": "execute_result",
          "data": {
            "text/plain": [
              "[PhysicalDevice(name='/physical_device:GPU:0', device_type='GPU')]"
            ]
          },
          "metadata": {},
          "execution_count": 6
        }
      ],
      "source": [
        "tf.config.list_physical_devices('GPU')"
      ],
      "id": "pSkV1Eo9ZlK4"
    },
    {
      "cell_type": "code",
      "execution_count": 7,
      "metadata": {
        "colab": {
          "base_uri": "https://localhost:8080/"
        },
        "id": "388538ba",
        "outputId": "02278e66-e9dd-4f9f-b24c-6dd949156ae6"
      },
      "outputs": [
        {
          "output_type": "stream",
          "name": "stdout",
          "text": [
            "True\n"
          ]
        }
      ],
      "source": [
        "print(tf.test.is_built_with_cuda())"
      ],
      "id": "388538ba"
    },
    {
      "cell_type": "code",
      "execution_count": 8,
      "metadata": {
        "id": "a3wcJQXRY8T3"
      },
      "outputs": [],
      "source": [
        "# tf.debugging.set_log_device_placement(True)"
      ],
      "id": "a3wcJQXRY8T3"
    },
    {
      "cell_type": "markdown",
      "metadata": {
        "id": "8b18d617"
      },
      "source": [
        "## Generate an input `2d array` of type `float32` for benchmark (let's say using `torch`)"
      ],
      "id": "8b18d617"
    },
    {
      "cell_type": "code",
      "execution_count": 9,
      "metadata": {
        "colab": {
          "base_uri": "https://localhost:8080/"
        },
        "id": "bb32968b",
        "outputId": "b1cc2d68-bb1e-4689-ed1f-f245265922d1"
      },
      "outputs": [
        {
          "output_type": "stream",
          "name": "stdout",
          "text": [
            "tensor([[-1.5007,  1.1622, -0.6388,  ..., -1.1875,  0.1548,  0.6877],\n",
            "        [ 0.8999, -0.4161, -0.4707,  ...,  1.4294, -0.4385, -0.5288],\n",
            "        [ 1.0881, -0.5015, -0.4802,  ..., -0.5335, -1.1469, -0.3165],\n",
            "        ...,\n",
            "        [ 0.4248, -2.2696, -0.2984,  ..., -0.3279,  0.7084, -1.2881],\n",
            "        [-0.8266, -1.5228,  0.7357,  ...,  0.0704, -0.1732, -0.9968],\n",
            "        [-0.8735,  0.2310, -0.9879,  ...,  0.6109,  0.5546,  0.2001]],\n",
            "       grad_fn=<ToCopyBackward0>)\n"
          ]
        }
      ],
      "source": [
        "X_torch = torch.randn((300,100),requires_grad=True)\n",
        "X_torch = X_torch.cuda()\n",
        "print(X_torch.cpu())"
      ],
      "id": "bb32968b"
    },
    {
      "cell_type": "markdown",
      "metadata": {
        "id": "ea839198"
      },
      "source": [
        "## Convert it to numpy for `crysx_nn`"
      ],
      "id": "ea839198"
    },
    {
      "cell_type": "code",
      "execution_count": 10,
      "metadata": {
        "colab": {
          "base_uri": "https://localhost:8080/"
        },
        "id": "5dfe4aef",
        "outputId": "9ef3ab7d-b1f4-47ff-eacc-0df969bf5fd5"
      },
      "outputs": [
        {
          "output_type": "stream",
          "name": "stdout",
          "text": [
            "float32\n"
          ]
        }
      ],
      "source": [
        "X_crysx_nn = X_torch.cpu().detach().numpy()\n",
        "X_cupy = cp.asarray(X_crysx_nn)\n",
        "print(X_crysx_nn.dtype)"
      ],
      "id": "5dfe4aef"
    },
    {
      "cell_type": "markdown",
      "metadata": {
        "id": "989ccc01"
      },
      "source": [
        "## Now finally convert it to a tensorflow tensor"
      ],
      "id": "989ccc01"
    },
    {
      "cell_type": "code",
      "execution_count": 11,
      "metadata": {
        "id": "468a51b4"
      },
      "outputs": [],
      "source": [
        "X_tf = tf.convert_to_tensor(X_crysx_nn, dtype=tf.float32)"
      ],
      "id": "468a51b4"
    },
    {
      "cell_type": "markdown",
      "metadata": {
        "id": "7116bed6"
      },
      "source": [
        "## Benchmark ReLU"
      ],
      "id": "7116bed6"
    },
    {
      "cell_type": "markdown",
      "metadata": {
        "id": "b2d54c40"
      },
      "source": [
        "### Confirm that all frameworks give the same results"
      ],
      "id": "b2d54c40"
    },
    {
      "cell_type": "code",
      "execution_count": 12,
      "metadata": {
        "colab": {
          "base_uri": "https://localhost:8080/"
        },
        "id": "470bbd47",
        "outputId": "7a4b30e0-6718-42de-e1ca-1e04988e77d3"
      },
      "outputs": [
        {
          "output_type": "stream",
          "name": "stdout",
          "text": [
            "Max abs diff b/w torch and tf 0.0\n",
            "Max abs diff b/w torch and CrysX 0.0\n"
          ]
        }
      ],
      "source": [
        "# Torch\n",
        "relu_torch_func = torch.nn.ReLU() # Get an instance of ReLU class for Pytorch\n",
        "relu_torch_value = relu_torch_func(X_torch)\n",
        "\n",
        "# CrysX\n",
        "relu_crysx_nn_value = ReLU_cupy(X_cupy)\n",
        "\n",
        "# Tensorflow\n",
        "relu_tf_value = tf.nn.relu(X_tf)#tf.keras.activations.relu(X_tf)\n",
        "\n",
        "#Diff b/w tf and torch\n",
        "print('Max abs diff b/w torch and tf', abs(relu_torch_value.cpu().detach().numpy() - relu_tf_value.numpy()).max())\n",
        "\n",
        "#Diff b/w crysx_nn and torch\n",
        "print('Max abs diff b/w torch and CrysX', abs(relu_torch_value.cpu().detach().numpy() - cp.asnumpy(relu_crysx_nn_value)).max())"
      ],
      "id": "470bbd47"
    },
    {
      "cell_type": "markdown",
      "metadata": {
        "id": "099cf5bc"
      },
      "source": [
        "### Compare performance"
      ],
      "id": "099cf5bc"
    },
    {
      "cell_type": "code",
      "execution_count": 13,
      "metadata": {
        "colab": {
          "base_uri": "https://localhost:8080/"
        },
        "id": "66bc3c9a",
        "outputId": "d1820d04-3c50-4400-c476-0acb18d1e8e8"
      },
      "outputs": [
        {
          "output_type": "stream",
          "name": "stdout",
          "text": [
            "PyTorch\n",
            "27.5 µs ± 6.59 µs per loop (mean ± std. dev. of 7 runs, 1000 loops each)\n",
            "CrysX-NN (crysx_nn)\n",
            "26.3 µs ± 3.74 µs per loop (mean ± std. dev. of 7 runs, 1000 loops each)\n",
            "Tensorflow\n",
            "68.5 µs ± 7.42 µs per loop (mean ± std. dev. of 7 runs, 1000 loops each)\n"
          ]
        }
      ],
      "source": [
        "# Torch\n",
        "print('PyTorch')\n",
        "relu_torch_func = torch.nn.ReLU() # Get an instance of ReLU class for Pytorch\n",
        "%timeit -n 1000 relu_torch_func(X_torch)\n",
        "\n",
        "# CrysX\n",
        "print('CrysX-NN (crysx_nn)')\n",
        "%timeit -n 1000 ReLU_cupy(X_cupy)\n",
        "\n",
        "# Tensorflow\n",
        "print('Tensorflow')\n",
        "%timeit -n 1000 tf.keras.activations.relu(X_tf)\n"
      ],
      "id": "66bc3c9a"
    },
    {
      "cell_type": "markdown",
      "metadata": {
        "id": "7e154ec2"
      },
      "source": [
        "### Compare performance with arrays of different sizes"
      ],
      "id": "7e154ec2"
    },
    {
      "cell_type": "code",
      "execution_count": 14,
      "metadata": {
        "colab": {
          "base_uri": "https://localhost:8080/"
        },
        "id": "bd3a77a8",
        "outputId": "e86ea358-fc5e-4a6d-cd97-c9dcfb1e67d6"
      },
      "outputs": [
        {
          "output_type": "stream",
          "name": "stdout",
          "text": [
            "26.2 µs ± 6.59 µs per loop (mean ± std. dev. of 7 runs, 500 loops each)\n",
            "25.2 µs ± 6.6 µs per loop (mean ± std. dev. of 7 runs, 500 loops each)\n",
            "41.8 µs ± 6.06 µs per loop (mean ± std. dev. of 7 runs, 500 loops each)\n",
            "28.6 µs ± 4.48 µs per loop (mean ± std. dev. of 7 runs, 500 loops each)\n",
            "36.6 µs ± 7.01 µs per loop (mean ± std. dev. of 7 runs, 500 loops each)\n",
            "48.5 µs ± 17 µs per loop (mean ± std. dev. of 7 runs, 500 loops each)\n",
            "42 µs ± 15.2 µs per loop (mean ± std. dev. of 7 runs, 500 loops each)\n",
            "113 µs ± 1.25 µs per loop (mean ± std. dev. of 7 runs, 500 loops each)\n",
            "59.8 µs ± 15.2 µs per loop (mean ± std. dev. of 7 runs, 500 loops each)\n",
            "82.3 µs ± 39.1 µs per loop (mean ± std. dev. of 7 runs, 500 loops each)\n",
            "234 µs ± 2.58 µs per loop (mean ± std. dev. of 7 runs, 500 loops each)\n",
            "The slowest run took 7.66 times longer than the fastest. This could mean that an intermediate result is being cached.\n",
            "124 µs ± 77 µs per loop (mean ± std. dev. of 7 runs, 500 loops each)\n",
            "The slowest run took 8.47 times longer than the fastest. This could mean that an intermediate result is being cached.\n",
            "142 µs ± 76.7 µs per loop (mean ± std. dev. of 7 runs, 500 loops each)\n",
            "409 µs ± 4.71 µs per loop (mean ± std. dev. of 7 runs, 500 loops each)\n",
            "The slowest run took 15.44 times longer than the fastest. This could mean that an intermediate result is being cached.\n",
            "215 µs ± 161 µs per loop (mean ± std. dev. of 7 runs, 500 loops each)\n",
            "The slowest run took 12.62 times longer than the fastest. This could mean that an intermediate result is being cached.\n",
            "220 µs ± 125 µs per loop (mean ± std. dev. of 7 runs, 500 loops each)\n",
            "633 µs ± 6.03 µs per loop (mean ± std. dev. of 7 runs, 500 loops each)\n",
            "The slowest run took 26.70 times longer than the fastest. This could mean that an intermediate result is being cached.\n",
            "332 µs ± 269 µs per loop (mean ± std. dev. of 7 runs, 500 loops each)\n"
          ]
        }
      ],
      "source": [
        "time_torch = []\n",
        "time_crysx_nn = []\n",
        "time_tf = []\n",
        "sizes = []\n",
        "\n",
        "for n_size in range(10,3000,500):\n",
        "    sizes.append(n_size*n_size)\n",
        "    # Torch input\n",
        "    X_torch = torch.randn((n_size,n_size),requires_grad=True)\n",
        "    X_torch = X_torch.cuda()\n",
        "    # CrysX-NN input\n",
        "    X_crysx_nn = X_torch.cpu().detach().numpy()\n",
        "    X_cupy = cp.asarray(X_crysx_nn)\n",
        "    # Tensorflow input\n",
        "    X_tf = tf.convert_to_tensor(X_crysx_nn, dtype=tf.float32)\n",
        "    \n",
        "    ##--Timings--\n",
        "    # Torch\n",
        "    relu_torch_func = torch.nn.ReLU() # Get an instance of ReLU class for Pytorch\n",
        "    time = %timeit -n 500 -o relu_torch_func(X_torch)\n",
        "    # For time of each run\n",
        "    time_torch.append(np.mean(time.timings)) \n",
        "    # For total time\n",
        "#     time_torch.append(np.mean(time.all_runs)) \n",
        "    # CrysX\n",
        "    time = %timeit -n 500 -o ReLU_cupy(X_cupy)\n",
        "    # For time of each run\n",
        "    time_crysx_nn.append(np.mean(time.timings))\n",
        "    # Tensorflow\n",
        "    time = %timeit -n 500 -o tf.nn.relu(X_tf)\n",
        "    # For time of each run\n",
        "    time_tf.append(np.mean(time.timings))"
      ],
      "id": "bd3a77a8"
    },
    {
      "cell_type": "markdown",
      "metadata": {
        "id": "976002e4"
      },
      "source": [
        "### Plot the results"
      ],
      "id": "976002e4"
    },
    {
      "cell_type": "code",
      "execution_count": 15,
      "metadata": {
        "colab": {
          "base_uri": "https://localhost:8080/",
          "height": 295
        },
        "id": "e2fd1e34",
        "outputId": "01e0b2ca-dab7-49c9-933d-be88e5c09cbe",
        "scrolled": true
      },
      "outputs": [
        {
          "output_type": "display_data",
          "data": {
            "image/png": "[encoded data removed]",
            "text/plain": [
              "<Figure size 432x288 with 1 Axes>"
            ]
          },
          "metadata": {
            "needs_background": "light"
          }
        }
      ],
      "source": [
        "\n",
        "plt.plot(sizes,time_torch, label='PyTorch')\n",
        "plt.plot(sizes,time_crysx_nn, label='CrysX-NN')\n",
        "plt.plot(sizes,time_tf, label='Tensorflow')\n",
        "plt.legend()\n",
        "plt.xlabel('Array sizes')\n",
        "plt.ylabel('Timings')\n",
        "plt.title('Benchmark ReLU')\n",
        "plt.show()"
      ],
      "id": "e2fd1e34"
    },
    {
      "cell_type": "markdown",
      "metadata": {
        "id": "7045b443"
      },
      "source": [
        "## Benchmark ReLU derivative (gradient) wrt input batch\n",
        "\n",
        "This is slightly tricky. \n",
        "PyTorch and Tensorflow don't explicitly come with a function that gives the gradient. \n",
        "Rather they use atuomatic differentiation.\n",
        "\n",
        "This is why, PyTorch would require the value of the output of the activation function as well, rather than just an input function. \n",
        "\n",
        "I will try to do the timings in a way that we can exclude this time from results.\n",
        "\n",
        "However, it is still not really evident if the timings can be taken as a good representative of the performance of PyTorch and Tensorflow frameworks.\n",
        "\n",
        "So take the timing results with a grain of salt."
      ],
      "id": "7045b443"
    },
    {
      "cell_type": "code",
      "execution_count": 16,
      "metadata": {
        "id": "f5282ecd"
      },
      "outputs": [],
      "source": [
        "def tf_relu_grad(x):\n",
        "    with tf.GradientTape() as g:\n",
        "        g.watch(x)\n",
        "        relu_values = tf.nn.relu(x)\n",
        "    grad = g.gradient(relu_values, x)\n",
        "    return grad#.numpy()"
      ],
      "id": "f5282ecd"
    },
    {
      "cell_type": "code",
      "execution_count": 17,
      "metadata": {
        "id": "ed465fd1"
      },
      "outputs": [],
      "source": [
        "def torch_relu_grad(relu_values, x):\n",
        "    device='cuda'\n",
        "    gradient = torch.autograd.grad(outputs=relu_values, inputs=x,\n",
        "                          grad_outputs=torch.ones(relu_values.size()).to(device),\n",
        "                          create_graph=True, retain_graph=True, only_inputs=True)[0]\n",
        "    return gradient"
      ],
      "id": "ed465fd1"
    },
    {
      "cell_type": "markdown",
      "metadata": {
        "id": "fbe0b62a"
      },
      "source": [
        "### Confirm that all frameworks give the same results"
      ],
      "id": "fbe0b62a"
    },
    {
      "cell_type": "code",
      "execution_count": 18,
      "metadata": {
        "colab": {
          "base_uri": "https://localhost:8080/"
        },
        "id": "915234f9",
        "outputId": "5acd9cfc-0459-47c7-8e47-605c562565b0"
      },
      "outputs": [
        {
          "output_type": "stream",
          "name": "stdout",
          "text": [
            "Max abs diff b/w torch and tf 0.0\n",
            "Max abs diff b/w torch and CrysX 0.0\n"
          ]
        }
      ],
      "source": [
        "# Torch input\n",
        "X_torch = torch.randn((1000,1000),requires_grad=True)\n",
        "X_torch = X_torch.cuda()\n",
        "# CrysX-NN input\n",
        "X_crysx_nn = X_torch.cpu().detach().numpy()\n",
        "X_cupy = cp.asarray(X_crysx_nn)\n",
        "# Tensorflow input\n",
        "X_tf = tf.convert_to_tensor(X_crysx_nn, dtype=tf.float32)\n",
        "\n",
        "\n",
        "# Torch\n",
        "relu_torch_func = torch.nn.ReLU() # Get an instance of ReLU class for Pytorch\n",
        "relu_torch_value = relu_torch_func(X_torch)\n",
        "gradientsTorch = torch_relu_grad(relu_torch_value, X_torch)\n",
        "# print(gradientsTorch)\n",
        "\n",
        "# CrysX\n",
        "# softmax_crysx_nn_value = Softmax(X_crysx_nn)\n",
        "gradientsCrysx = ReLU_grad_cupy(X_cupy)\n",
        "# print(gradientsCrysx)\n",
        "\n",
        "# Tensorflow\n",
        "gradientsTF = tf_relu_grad(X_tf) # requires a computation of sigmoid values again\n",
        "with tf.GradientTape() as g:\n",
        "    g.watch(X_tf)\n",
        "    relu_tf_value = tf.nn.relu(X_tf)\n",
        "gradientsTF = g.gradient(relu_tf_value, X_tf)\n",
        "del g\n",
        "# print(gradientsTF)\n",
        "\n",
        "#Diff b/w tf and torch\n",
        "print('Max abs diff b/w torch and tf', abs(gradientsTorch.cpu().detach().numpy() - gradientsTF.numpy()).max())\n",
        "\n",
        "#Diff b/w crysx_nn and torch\n",
        "print('Max abs diff b/w torch and CrysX', abs(gradientsTorch.cpu().detach().numpy() - cp.asnumpy(gradientsCrysx)).max())\n"
      ],
      "id": "915234f9"
    },
    {
      "cell_type": "markdown",
      "metadata": {
        "id": "23e53f07"
      },
      "source": [
        "### Compare performance\n",
        "\n",
        "Since, CrysX-NN also requires the calculation of softmax function, therefore we should also include this calculation time for PyTorch and Tensorflow.\n",
        "\n",
        "I would like to stress here again, that I am not really sure if the autodifferentiated implementations of softmax gradients that I have used, are a good representative of the real-world performance or not. \n",
        "\n",
        "Especially, the torch jacobian would be extreeeemely slowww due to the for loops. But tensorflow implementation isn't that fast either.\n",
        "\n",
        "So we would skip the plots of timings vs array_size for benchmarks."
      ],
      "id": "23e53f07"
    },
    {
      "cell_type": "code",
      "execution_count": 19,
      "metadata": {
        "colab": {
          "base_uri": "https://localhost:8080/"
        },
        "id": "adfb64db",
        "outputId": "37af4ae6-3811-41e7-d6cd-64d186e197d1"
      },
      "outputs": [
        {
          "output_type": "stream",
          "name": "stdout",
          "text": [
            "PyTorch gradient only\n",
            "1.29 ms ± 73.6 µs per loop (mean ± std. dev. of 7 runs, 100 loops each)\n",
            "CrysX-NN (crysx_nn) gradient only\n",
            "53.5 µs ± 6.59 µs per loop (mean ± std. dev. of 7 runs, 100 loops each)\n",
            "Tensorflow gradient+value\n",
            "436 µs ± 20.9 µs per loop (mean ± std. dev. of 7 runs, 100 loops each)\n",
            "Tensorflow value only\n",
            "70.8 µs ± 10 µs per loop (mean ± std. dev. of 7 runs, 100 loops each)\n"
          ]
        }
      ],
      "source": [
        "# Torch\n",
        "print('PyTorch gradient only')\n",
        "relu_torch_func = torch.nn.ReLU() # Get an instance of ReLU class for Pytorch\n",
        "relu_torch_value = relu_torch_func(X_torch)\n",
        "%timeit -n 100 torch_relu_grad(relu_torch_value, X_torch)\n",
        "\n",
        "# CrysX\n",
        "print('CrysX-NN (crysx_nn) gradient only')\n",
        "%timeit -n 100 ReLU_grad_cupy(X_cupy)\n",
        "\n",
        "# Tensorflow\n",
        "print('Tensorflow gradient+value')\n",
        "with tf.GradientTape(persistent=False) as g:\n",
        "    g.watch(X_tf)\n",
        "    relu_tf_value = tf.nn.relu(X_tf)\n",
        "# %timeit -n 100 g.gradient(relu_tf_value, X_tf) # Doesn't work due to multiple runs of timeit and tape not supporting it\n",
        "%timeit -n 100  tf_relu_grad(X_tf)\n",
        "\n",
        "print('Tensorflow value only')\n",
        "%timeit -n 100 tf.keras.activations.relu(X_tf)\n"
      ],
      "id": "adfb64db"
    },
    {
      "cell_type": "markdown",
      "metadata": {
        "id": "56cafce9"
      },
      "source": [
        "In the above, we see that PyTorch is again quite fast a million element array. \n",
        "CrysX-NN gives decent performance.\n",
        "\n",
        "Tensorflow is a bit tricky. Due to `%timeit` requiring multiple runs, and tape being only restricted to a single run, I had to use the other implementation of gradient using tensorflow, where the `values+gradients` are computed.\n",
        "\n",
        "Therefore, to get a good idea of the tensorflow gradient performance I have also calculated the time taken by tensorflow for just evaluating the functions."
      ],
      "id": "56cafce9"
    },
    {
      "cell_type": "markdown",
      "metadata": {
        "id": "918ee5a5"
      },
      "source": [
        "## Benchmark Sigmoid"
      ],
      "id": "918ee5a5"
    },
    {
      "cell_type": "markdown",
      "metadata": {
        "id": "16dd0075"
      },
      "source": [
        "### Confirm that all frameworks give the same results"
      ],
      "id": "16dd0075"
    },
    {
      "cell_type": "code",
      "execution_count": 20,
      "metadata": {
        "colab": {
          "base_uri": "https://localhost:8080/"
        },
        "id": "9b757401",
        "outputId": "bf043bdd-a08f-4262-9d5f-404122ae0400"
      },
      "outputs": [
        {
          "output_type": "stream",
          "name": "stdout",
          "text": [
            "Max abs diff b/w torch and tf 0.0\n",
            "Max abs diff b/w torch and CrysX 0.0\n"
          ]
        }
      ],
      "source": [
        "# Torch input\n",
        "X_torch = torch.randn((1000,1000),requires_grad=True)\n",
        "X_torch = X_torch.cuda()\n",
        "# CrysX-NN input\n",
        "X_crysx_nn = X_torch.cpu().detach().numpy()\n",
        "X_cupy = cp.asarray(X_crysx_nn)\n",
        "# Tensorflow input\n",
        "X_tf = tf.convert_to_tensor(X_crysx_nn, dtype=tf.float32)\n",
        "\n",
        "# Torch\n",
        "sigmoid_torch_func = torch.nn.Sigmoid() # Get an instance of Sigmoid class for Pytorch\n",
        "sigmoid_torch_value = sigmoid_torch_func(X_torch)\n",
        "\n",
        "# CrysX\n",
        "sigmoid_crysx_nn_value = Sigmoid_cupy(X_cupy)\n",
        "\n",
        "# Tensorflow\n",
        "sigmoid_tf_value = tf.keras.activations.sigmoid(X_tf)\n",
        "\n",
        "#Diff b/w tf and torch\n",
        "print('Max abs diff b/w torch and tf', abs(sigmoid_torch_value.cpu().detach().numpy() - sigmoid_tf_value.numpy()).max())\n",
        "\n",
        "#Diff b/w crysx_nn and torch\n",
        "print('Max abs diff b/w torch and CrysX', abs(sigmoid_torch_value.cpu().detach().numpy() - cp.asnumpy(sigmoid_crysx_nn_value)).max())\n"
      ],
      "id": "9b757401"
    },
    {
      "cell_type": "markdown",
      "metadata": {
        "id": "721632a0"
      },
      "source": [
        "### Compare performance"
      ],
      "id": "721632a0"
    },
    {
      "cell_type": "code",
      "execution_count": 21,
      "metadata": {
        "colab": {
          "base_uri": "https://localhost:8080/"
        },
        "id": "cf835656",
        "outputId": "0328d8c5-0d20-48c4-f009-9c1602e198ef"
      },
      "outputs": [
        {
          "output_type": "stream",
          "name": "stdout",
          "text": [
            "PyTorch\n",
            "The slowest run took 4.22 times longer than the fastest. This could mean that an intermediate result is being cached.\n",
            "28.7 µs ± 19 µs per loop (mean ± std. dev. of 7 runs, 100 loops each)\n",
            "CrysX-NN (crysx_nn)\n",
            "179 µs ± 54.2 µs per loop (mean ± std. dev. of 7 runs, 100 loops each)\n",
            "Tensorflow\n",
            "83.9 µs ± 19.2 µs per loop (mean ± std. dev. of 7 runs, 100 loops each)\n"
          ]
        }
      ],
      "source": [
        "# Torch\n",
        "print('PyTorch')\n",
        "sigmoid_torch_func = torch.nn.Sigmoid() # Get an instance of Sigmoid class for Pytorch\n",
        "%timeit -n 100 sigmoid_torch_func(X_torch)\n",
        "\n",
        "# CrysX\n",
        "print('CrysX-NN (crysx_nn)')\n",
        "%timeit -n 100 Sigmoid_cupy(X_cupy)\n",
        "\n",
        "# Tensorflow\n",
        "print('Tensorflow')\n",
        "%timeit -n 100 tf.keras.activations.sigmoid(X_tf)\n"
      ],
      "id": "cf835656"
    },
    {
      "cell_type": "markdown",
      "metadata": {
        "id": "a5796281"
      },
      "source": [
        "### Compare performance with arrays of different sizes"
      ],
      "id": "a5796281"
    },
    {
      "cell_type": "code",
      "execution_count": 45,
      "metadata": {
        "colab": {
          "base_uri": "https://localhost:8080/"
        },
        "id": "d7d8244d",
        "outputId": "709137bc-3535-44a2-ad22-f0e46d80f0ab"
      },
      "outputs": [
        {
          "output_type": "stream",
          "name": "stdout",
          "text": [
            "17.4 µs ± 2.51 µs per loop (mean ± std. dev. of 7 runs, 100 loops each)\n",
            "87.6 µs ± 8.62 µs per loop (mean ± std. dev. of 7 runs, 100 loops each)\n",
            "82.9 µs ± 21.1 µs per loop (mean ± std. dev. of 7 runs, 100 loops each)\n",
            "16.4 µs ± 1.1 µs per loop (mean ± std. dev. of 7 runs, 100 loops each)\n",
            "86.9 µs ± 6.71 µs per loop (mean ± std. dev. of 7 runs, 100 loops each)\n",
            "73.3 µs ± 17.8 µs per loop (mean ± std. dev. of 7 runs, 100 loops each)\n",
            "27.7 µs ± 15.1 µs per loop (mean ± std. dev. of 7 runs, 100 loops each)\n",
            "234 µs ± 93.2 µs per loop (mean ± std. dev. of 7 runs, 100 loops each)\n",
            "87.1 µs ± 18.7 µs per loop (mean ± std. dev. of 7 runs, 100 loops each)\n",
            "17.5 µs ± 1.14 µs per loop (mean ± std. dev. of 7 runs, 100 loops each)\n",
            "The slowest run took 5.85 times longer than the fastest. This could mean that an intermediate result is being cached.\n",
            "444 µs ± 155 µs per loop (mean ± std. dev. of 7 runs, 100 loops each)\n",
            "87.7 µs ± 19.5 µs per loop (mean ± std. dev. of 7 runs, 100 loops each)\n",
            "17.1 µs ± 1.49 µs per loop (mean ± std. dev. of 7 runs, 100 loops each)\n",
            "The slowest run took 9.37 times longer than the fastest. This could mean that an intermediate result is being cached.\n",
            "759 µs ± 275 µs per loop (mean ± std. dev. of 7 runs, 100 loops each)\n",
            "72.4 µs ± 7.5 µs per loop (mean ± std. dev. of 7 runs, 100 loops each)\n",
            "17.7 µs ± 1.85 µs per loop (mean ± std. dev. of 7 runs, 100 loops each)\n",
            "The slowest run took 9.25 times longer than the fastest. This could mean that an intermediate result is being cached.\n",
            "1.18 ms ± 425 µs per loop (mean ± std. dev. of 7 runs, 100 loops each)\n",
            "71.3 µs ± 6.1 µs per loop (mean ± std. dev. of 7 runs, 100 loops each)\n"
          ]
        }
      ],
      "source": [
        "time_torch = []\n",
        "time_crysx_nn = []\n",
        "time_tf = []\n",
        "sizes = []\n",
        "\n",
        "for n_size in range(10,3000,500):\n",
        "    sizes.append(n_size*n_size)\n",
        "    # Torch input\n",
        "    X_torch = torch.randn((n_size,n_size),requires_grad=True)\n",
        "    X_torch = X_torch.cuda()\n",
        "    # CrysX-NN input\n",
        "    X_crysx_nn = X_torch.cpu().detach().numpy()\n",
        "    X_cupy = cp.asarray(X_crysx_nn)\n",
        "    # Tensorflow input\n",
        "    X_tf = tf.convert_to_tensor(X_crysx_nn, dtype=tf.float32)\n",
        "    \n",
        "    ##--Timings--\n",
        "    # Torch\n",
        "    sigmoid_torch_func = torch.nn.Sigmoid() # Get an instance of Sigmoid class for Pytorch\n",
        "    time = %timeit -n 100 -o sigmoid_torch_func(X_torch)\n",
        "    # For time of each run\n",
        "    time_torch.append(np.mean(time.timings)) \n",
        "    # For total time\n",
        "#     time_torch.append(np.mean(time.all_runs)) \n",
        "    # CrysX\n",
        "    time = %timeit -n 100 -o Sigmoid_cupy(X_cupy)\n",
        "    # For time of each run\n",
        "    time_crysx_nn.append(np.mean(time.timings))\n",
        "    # Tensorflow\n",
        "    time = %timeit -n 100 -o tf.keras.activations.sigmoid(X_tf)\n",
        "    # For time of each run\n",
        "    time_tf.append(np.mean(time.timings))\n",
        "    "
      ],
      "id": "d7d8244d"
    },
    {
      "cell_type": "markdown",
      "metadata": {
        "id": "d193ae36"
      },
      "source": [
        "### Plot the results"
      ],
      "id": "d193ae36"
    },
    {
      "cell_type": "code",
      "execution_count": 46,
      "metadata": {
        "colab": {
          "base_uri": "https://localhost:8080/",
          "height": 295
        },
        "id": "4b3de13a",
        "outputId": "4ef0f9a7-eac7-4c33-d952-85cc9d350d08"
      },
      "outputs": [
        {
          "output_type": "display_data",
          "data": {
            "image/png": "[encoded data removed]",
            "text/plain": [
              "<Figure size 432x288 with 1 Axes>"
            ]
          },
          "metadata": {
            "needs_background": "light"
          }
        }
      ],
      "source": [
        "\n",
        "plt.plot(sizes,time_torch, label='PyTorch')\n",
        "plt.plot(sizes,time_crysx_nn, label='CrysX-NN')\n",
        "plt.plot(sizes,time_tf, label='Tensorflow')\n",
        "plt.legend()\n",
        "plt.xlabel('Array sizes')\n",
        "plt.ylabel('Timings')\n",
        "plt.title('Benchmark Sigmoid')\n",
        "plt.show()\n"
      ],
      "id": "4b3de13a"
    },
    {
      "cell_type": "markdown",
      "metadata": {
        "id": "d365982e"
      },
      "source": [
        "## Benchmark Sigmoid derivative (gradient) wrt input batch\n",
        "\n",
        "This is slightly tricky. \n",
        "PyTorch and Tensorflow don't explicitly come with a function that gives the gradient. \n",
        "Rather they use atuomatic differentiation.\n",
        "\n",
        "This is why, PyTorch would require the value of the output of the activation function as well, rather than just an input function. \n",
        "\n",
        "I will try to do the timings in a way that we can exclude this time from results.\n",
        "\n",
        "However, it is still not really evident if the timings can be taken as a good representative of the performance of PyTorch and Tensorflow frameworks.\n",
        "\n",
        "So take the timing results with a grain of salt."
      ],
      "id": "d365982e"
    },
    {
      "cell_type": "code",
      "execution_count": 24,
      "metadata": {
        "id": "bc6aa900"
      },
      "outputs": [],
      "source": [
        "def tf_sigmoid_grad(x):\n",
        "    with tf.GradientTape() as g:\n",
        "        g.watch(x)\n",
        "        sigmoid_values = tf.nn.sigmoid(x)\n",
        "    grad = g.gradient(sigmoid_values, x)\n",
        "    return grad#.numpy()"
      ],
      "id": "bc6aa900"
    },
    {
      "cell_type": "code",
      "execution_count": 25,
      "metadata": {
        "id": "8a893e2e"
      },
      "outputs": [],
      "source": [
        "def torch_sigmoid_grad(sigmoid_values, x):\n",
        "    device='cuda'\n",
        "    gradient = torch.autograd.grad(outputs=sigmoid_values, inputs=x,\n",
        "                          grad_outputs=torch.ones(sigmoid_values.size()).to(device),\n",
        "                          create_graph=True, retain_graph=True, only_inputs=True)[0]\n",
        "    return gradient"
      ],
      "id": "8a893e2e"
    },
    {
      "cell_type": "markdown",
      "metadata": {
        "id": "aa6678b2"
      },
      "source": [
        "### Confirm that all frameworks give the same results"
      ],
      "id": "aa6678b2"
    },
    {
      "cell_type": "code",
      "execution_count": 26,
      "metadata": {
        "colab": {
          "base_uri": "https://localhost:8080/"
        },
        "id": "47d1c8fa",
        "outputId": "dfa1a3de-22b7-4e65-e1a3-85c2d1d215e1"
      },
      "outputs": [
        {
          "output_type": "stream",
          "name": "stdout",
          "text": [
            "Max abs diff b/w torch and tf 0.0\n",
            "Max abs diff b/w torch and CrysX 8.940697e-08\n"
          ]
        }
      ],
      "source": [
        "# Torch input\n",
        "X_torch = torch.randn((1000,1000),requires_grad=True)\n",
        "X_torch = X_torch.cuda()\n",
        "# CrysX-NN input\n",
        "X_crysx_nn = X_torch.cpu().detach().numpy()\n",
        "X_cupy = cp.asarray(X_crysx_nn)\n",
        "# Tensorflow input\n",
        "X_tf = tf.convert_to_tensor(X_crysx_nn, dtype=tf.float32)\n",
        "\n",
        "\n",
        "# Torch\n",
        "sigmoid_torch_func = torch.nn.Sigmoid() # Get an instance of Sigmoid class for Pytorch\n",
        "sigmoid_torch_value = sigmoid_torch_func(X_torch)\n",
        "gradientsTorch = torch_sigmoid_grad(sigmoid_torch_value, X_torch)\n",
        "# print(gradientsTorch)\n",
        "\n",
        "# CrysX\n",
        "# softmax_crysx_nn_value = Softmax(X_crysx_nn)\n",
        "gradientsCrysx = Sigmoid_grad_cupy(X_cupy)\n",
        "# print(gradientsCrysx)\n",
        "\n",
        "# Tensorflow\n",
        "gradientsTF = tf_sigmoid_grad(X_tf) # requires a computation of sigmoid values again\n",
        "with tf.GradientTape() as g:\n",
        "    g.watch(X_tf)\n",
        "    sigmoid_tf_value = tf.nn.sigmoid(X_tf)\n",
        "gradientsTF = g.gradient(sigmoid_tf_value, X_tf)\n",
        "del g\n",
        "# print(gradientsTF)\n",
        "\n",
        "#Diff b/w tf and torch\n",
        "print('Max abs diff b/w torch and tf', abs(gradientsTorch.cpu().detach().numpy() - gradientsTF.numpy()).max())\n",
        "\n",
        "#Diff b/w crysx_nn and torch\n",
        "print('Max abs diff b/w torch and CrysX', abs(gradientsTorch.cpu().detach().numpy() - cp.asnumpy(gradientsCrysx)).max())\n"
      ],
      "id": "47d1c8fa"
    },
    {
      "cell_type": "markdown",
      "metadata": {
        "id": "db0c5e50"
      },
      "source": [
        "### Compare performance\n",
        "\n",
        "Since, CrysX-NN also requires the calculation of softmax function, therefore we should also include this calculation time for PyTorch and Tensorflow.\n",
        "\n",
        "I would like to stress here again, that I am not really sure if the autodifferentiated implementations of softmax gradients that I have used, are a good representative of the real-world performance or not. \n",
        "\n",
        "Especially, the torch jacobian would be extreeeemely slowww due to the for loops. But tensorflow implementation isn't that fast either.\n",
        "\n",
        "So we would skip the plots of timings vs array_size for benchmarks."
      ],
      "id": "db0c5e50"
    },
    {
      "cell_type": "code",
      "execution_count": 27,
      "metadata": {
        "colab": {
          "base_uri": "https://localhost:8080/"
        },
        "id": "97e0e0c4",
        "outputId": "d5155676-273b-49f7-d9f9-8b5f94fa7fa6"
      },
      "outputs": [
        {
          "output_type": "stream",
          "name": "stdout",
          "text": [
            "PyTorch gradient only\n",
            "1.32 ms ± 63.7 µs per loop (mean ± std. dev. of 7 runs, 100 loops each)\n",
            "CrysX-NN (crysx_nn) gradient only\n",
            "380 µs ± 126 µs per loop (mean ± std. dev. of 7 runs, 100 loops each)\n",
            "Tensorflow gradient+value\n",
            "565 µs ± 66.8 µs per loop (mean ± std. dev. of 7 runs, 100 loops each)\n",
            "Tensorflow value only\n",
            "75.2 µs ± 8.98 µs per loop (mean ± std. dev. of 7 runs, 100 loops each)\n"
          ]
        }
      ],
      "source": [
        "# Torch\n",
        "print('PyTorch gradient only')\n",
        "sigmoid_torch_func = torch.nn.Sigmoid() # Get an instance of Sigmoid class for Pytorch\n",
        "sigmoid_torch_value = sigmoid_torch_func(X_torch)\n",
        "%timeit -n 100 torch_sigmoid_grad(sigmoid_torch_value, X_torch)\n",
        "\n",
        "# CrysX\n",
        "print('CrysX-NN (crysx_nn) gradient only')\n",
        "%timeit -n 100 Sigmoid_grad_cupy(X_cupy)\n",
        "\n",
        "# Tensorflow\n",
        "print('Tensorflow gradient+value')\n",
        "with tf.GradientTape(persistent=False) as g:\n",
        "    g.watch(X_tf)\n",
        "    sigmoid_tf_value = tf.nn.sigmoid(X_tf)\n",
        "# %timeit -n 100 g.gradient(sigmoid_tf_value, X_tf) # Doesn't work due to multiple runs of timeit and tape not supporting it\n",
        "%timeit -n 100  tf_sigmoid_grad(X_tf)\n",
        "print('Tensorflow value only')\n",
        "%timeit -n 100 tf.keras.activations.sigmoid(X_tf)\n",
        "\n"
      ],
      "id": "97e0e0c4"
    },
    {
      "cell_type": "markdown",
      "metadata": {
        "id": "f22b3e63"
      },
      "source": [
        "In the above, we see that PyTorch is again quite fast for a million element array. \n",
        "CrysX-NN gives decent performance.\n",
        "\n",
        "Tensorflow is a bit tricky. Due to `%timeit` requiring multiple runs, and tape being only restricted to a single run, I had to use the other implementation of gradient using tensorflow, where the `values+gradients` are computed.\n",
        "\n",
        "Therefore, to get a good idea of the tensorflow gradient performance I have also calculated the time taken by tensorflow for just evaluating the functions."
      ],
      "id": "f22b3e63"
    },
    {
      "cell_type": "markdown",
      "metadata": {
        "id": "5851d1a9"
      },
      "source": [
        "## Benchmark Softmax"
      ],
      "id": "5851d1a9"
    },
    {
      "cell_type": "markdown",
      "metadata": {
        "id": "550907c0"
      },
      "source": [
        "### Confirm that all frameworks give the same results"
      ],
      "id": "550907c0"
    },
    {
      "cell_type": "code",
      "execution_count": 28,
      "metadata": {
        "colab": {
          "base_uri": "https://localhost:8080/"
        },
        "id": "492611ca",
        "outputId": "fd68b353-6fea-45fd-a3f5-a00f6228bf18"
      },
      "outputs": [
        {
          "output_type": "stream",
          "name": "stderr",
          "text": [
            "/usr/local/lib/python3.7/dist-packages/ipykernel_launcher.py:13: UserWarning: Implicit dimension choice for softmax has been deprecated. Change the call to include dim=X as an argument.\n",
            "  del sys.path[0]\n"
          ]
        },
        {
          "output_type": "stream",
          "name": "stdout",
          "text": [
            "Max abs diff b/w torch and tf 7.450581e-09\n",
            "Max abs diff b/w torch and CrysX 3.7252903e-09\n"
          ]
        }
      ],
      "source": [
        "# Torch input\n",
        "X_torch = torch.randn((1000,1000),requires_grad=True)\n",
        "X_torch = X_torch.cuda()\n",
        "# CrysX-NN input\n",
        "X_crysx_nn = X_torch.cpu().detach().numpy()\n",
        "X_cupy = cp.asarray(X_crysx_nn)\n",
        "# Tensorflow input\n",
        "X_tf = tf.convert_to_tensor(X_crysx_nn, dtype=tf.float32)\n",
        "\n",
        "\n",
        "# Torch\n",
        "softmax_torch_func = torch.nn.Softmax() # Get an instance of Softmax class for Pytorch\n",
        "softmax_torch_value = softmax_torch_func(X_torch)\n",
        "\n",
        "# CrysX\n",
        "softmax_crysx_nn_value = Softmax_cupy(X_cupy)\n",
        "\n",
        "# Tensorflow\n",
        "softmax_tf_value = tf.keras.activations.softmax(X_tf)\n",
        "\n",
        "#Diff b/w tf and torch\n",
        "print('Max abs diff b/w torch and tf', abs(softmax_torch_value.cpu().detach().numpy() - softmax_tf_value.numpy()).max())\n",
        "\n",
        "#Diff b/w crysx_nn and torch\n",
        "print('Max abs diff b/w torch and CrysX', abs(softmax_torch_value.cpu().detach().numpy() - cp.asnumpy(softmax_crysx_nn_value)).max())\n"
      ],
      "id": "492611ca"
    },
    {
      "cell_type": "markdown",
      "metadata": {
        "id": "4c2e7e63"
      },
      "source": [
        "### Compare performance"
      ],
      "id": "4c2e7e63"
    },
    {
      "cell_type": "code",
      "execution_count": 29,
      "metadata": {
        "colab": {
          "base_uri": "https://localhost:8080/"
        },
        "id": "1c4d15a3",
        "outputId": "6fdaafb2-5d49-4f18-c208-333ae8f542f6"
      },
      "outputs": [
        {
          "output_type": "stream",
          "name": "stdout",
          "text": [
            "PyTorch\n",
            "38.8 µs ± 22.5 µs per loop (mean ± std. dev. of 7 runs, 100 loops each)\n",
            "CrysX-NN (crysx_nn)\n"
          ]
        },
        {
          "output_type": "stream",
          "name": "stderr",
          "text": [
            "/usr/local/lib/python3.7/dist-packages/ipykernel_launcher.py:1: UserWarning: Implicit dimension choice for softmax has been deprecated. Change the call to include dim=X as an argument.\n",
            "  \"\"\"Entry point for launching an IPython kernel.\n"
          ]
        },
        {
          "output_type": "stream",
          "name": "stdout",
          "text": [
            "The slowest run took 12.02 times longer than the fastest. This could mean that an intermediate result is being cached.\n",
            "1.09 ms ± 610 µs per loop (mean ± std. dev. of 7 runs, 100 loops each)\n",
            "Tensorflow\n",
            "The slowest run took 33.77 times longer than the fastest. This could mean that an intermediate result is being cached.\n",
            "512 µs ± 956 µs per loop (mean ± std. dev. of 7 runs, 100 loops each)\n"
          ]
        }
      ],
      "source": [
        "# Torch\n",
        "print('PyTorch')\n",
        "softmax_torch_func = torch.nn.Softmax() # Get an instance of Softmax class for Pytorch\n",
        "%timeit -n 100 softmax_torch_func(X_torch)\n",
        "\n",
        "# CrysX\n",
        "print('CrysX-NN (crysx_nn)')\n",
        "%timeit -n 100 Softmax_cupy(X_cupy)\n",
        "\n",
        "# Tensorflow\n",
        "print('Tensorflow')\n",
        "%timeit -n 100 tf.keras.activations.softmax(X_tf)\n"
      ],
      "id": "1c4d15a3"
    },
    {
      "cell_type": "markdown",
      "metadata": {
        "id": "0f6c0a4b"
      },
      "source": [
        "### Compare performance with arrays of different sizes"
      ],
      "id": "0f6c0a4b"
    },
    {
      "cell_type": "code",
      "execution_count": 30,
      "metadata": {
        "colab": {
          "base_uri": "https://localhost:8080/"
        },
        "id": "5759d8ef",
        "outputId": "98a549f7-35c2-4680-d3ee-03b17ad25004"
      },
      "outputs": [
        {
          "output_type": "stream",
          "name": "stdout",
          "text": [
            "34 µs ± 4.65 µs per loop (mean ± std. dev. of 7 runs, 100 loops each)\n",
            "143 µs ± 23.5 µs per loop (mean ± std. dev. of 7 runs, 100 loops each)\n"
          ]
        },
        {
          "output_type": "stream",
          "name": "stderr",
          "text": [
            "/usr/local/lib/python3.7/dist-packages/ipykernel_launcher.py:1: UserWarning: Implicit dimension choice for softmax has been deprecated. Change the call to include dim=X as an argument.\n",
            "  \"\"\"Entry point for launching an IPython kernel.\n"
          ]
        },
        {
          "output_type": "stream",
          "name": "stdout",
          "text": [
            "90.3 µs ± 13.5 µs per loop (mean ± std. dev. of 7 runs, 100 loops each)\n",
            "38.9 µs ± 14.6 µs per loop (mean ± std. dev. of 7 runs, 100 loops each)\n",
            "310 µs ± 118 µs per loop (mean ± std. dev. of 7 runs, 100 loops each)\n",
            "The slowest run took 7.33 times longer than the fastest. This could mean that an intermediate result is being cached.\n",
            "173 µs ± 181 µs per loop (mean ± std. dev. of 7 runs, 100 loops each)\n",
            "40.9 µs ± 17.8 µs per loop (mean ± std. dev. of 7 runs, 100 loops each)\n",
            "The slowest run took 12.11 times longer than the fastest. This could mean that an intermediate result is being cached.\n",
            "1.11 ms ± 619 µs per loop (mean ± std. dev. of 7 runs, 100 loops each)\n",
            "The slowest run took 36.41 times longer than the fastest. This could mean that an intermediate result is being cached.\n",
            "524 µs ± 989 µs per loop (mean ± std. dev. of 7 runs, 100 loops each)\n",
            "30.5 µs ± 1.07 µs per loop (mean ± std. dev. of 7 runs, 100 loops each)\n",
            "The slowest run took 16.31 times longer than the fastest. This could mean that an intermediate result is being cached.\n",
            "2.54 ms ± 1.19 ms per loop (mean ± std. dev. of 7 runs, 100 loops each)\n",
            "The slowest run took 72.23 times longer than the fastest. This could mean that an intermediate result is being cached.\n",
            "1.13 ms ± 2.24 ms per loop (mean ± std. dev. of 7 runs, 100 loops each)\n",
            "40.4 µs ± 21.8 µs per loop (mean ± std. dev. of 7 runs, 100 loops each)\n",
            "The slowest run took 12.84 times longer than the fastest. This could mean that an intermediate result is being cached.\n",
            "4.45 ms ± 2.06 ms per loop (mean ± std. dev. of 7 runs, 100 loops each)\n",
            "The slowest run took 128.25 times longer than the fastest. This could mean that an intermediate result is being cached.\n",
            "1.95 ms ± 3.98 ms per loop (mean ± std. dev. of 7 runs, 100 loops each)\n"
          ]
        }
      ],
      "source": [
        "time_torch = []\n",
        "time_crysx_nn = []\n",
        "time_tf = []\n",
        "sizes = []\n",
        "\n",
        "for n_size in range(10,2500,500):\n",
        "    sizes.append(n_size*n_size)\n",
        "    # Torch input\n",
        "    X_torch = torch.randn((n_size,n_size),requires_grad=True)\n",
        "    X_torch = X_torch.cuda()\n",
        "    # CrysX-NN input\n",
        "    X_crysx_nn = X_torch.cpu().detach().numpy()\n",
        "    X_cupy = cp.asarray(X_crysx_nn)\n",
        "    # Tensorflow input\n",
        "    X_tf = tf.convert_to_tensor(X_crysx_nn, dtype=tf.float32)\n",
        "    \n",
        "    ##--Timings--\n",
        "    # Torch\n",
        "    softmax_torch_func = torch.nn.Softmax() # Get an instance of Sigmoid class for Pytorch\n",
        "    time = %timeit -n 100 -o softmax_torch_func(X_torch)\n",
        "    # For time of each run\n",
        "    time_torch.append(np.mean(time.timings)) \n",
        "    # For total time\n",
        "#     time_torch.append(np.mean(time.all_runs)) \n",
        "    # CrysX\n",
        "    time = %timeit -n 100 -o Softmax_cupy(X_cupy)\n",
        "    # For time of each run\n",
        "    time_crysx_nn.append(np.mean(time.timings))\n",
        "    # Tensorflow\n",
        "    time = %timeit -n 100 -o tf.keras.activations.softmax(X_tf)\n",
        "    # For time of each run\n",
        "    time_tf.append(np.mean(time.timings))\n",
        "    "
      ],
      "id": "5759d8ef"
    },
    {
      "cell_type": "markdown",
      "metadata": {
        "id": "7c96c36b"
      },
      "source": [
        "### Plot the results"
      ],
      "id": "7c96c36b"
    },
    {
      "cell_type": "code",
      "execution_count": 31,
      "metadata": {
        "colab": {
          "base_uri": "https://localhost:8080/",
          "height": 295
        },
        "id": "a947be53",
        "outputId": "5b485335-a6c5-443e-c3cd-94d5d61940f6"
      },
      "outputs": [
        {
          "output_type": "display_data",
          "data": {
            "image/png": "[encoded data removed]",
            "text/plain": [
              "<Figure size 432x288 with 1 Axes>"
            ]
          },
          "metadata": {
            "needs_background": "light"
          }
        }
      ],
      "source": [
        "\n",
        "plt.plot(sizes,time_torch, label='PyTorch')\n",
        "plt.plot(sizes,time_crysx_nn, label='CrysX-NN')\n",
        "plt.plot(sizes,time_tf, label='Tensorflow')\n",
        "plt.legend()\n",
        "plt.xlabel('Array sizes')\n",
        "plt.ylabel('Timings')\n",
        "plt.title('Benchmark Softmax')\n",
        "plt.show()\n"
      ],
      "id": "a947be53"
    },
    {
      "cell_type": "markdown",
      "metadata": {
        "id": "59a07d20"
      },
      "source": [
        "## Benchmark Softmax derivative (gradient) wrt input batch\n",
        "\n",
        "This is slightly tricky. \n",
        "PyTorch and Tensorflow don't explicitly come with a function that gives the gradient. \n",
        "Rather they use atuomatic differentiation.\n",
        "\n",
        "This is why, PyTorch would require the value of the output of the activation function as well, rather than just an input function.\n",
        "\n",
        "Therefore, it is not really evident if the timings can be taken as a good representative of the performance of PyTorch and Tensorflow frameworks.\n",
        "\n",
        "#### Update: Seems to be really problematic to get the jacobian of Softmax wrt inputs in an efficient manner using the PyTorch framework. \n",
        "\n",
        "There are ways in which you can do it, but they would be slow. (https://discuss.pytorch.org/t/how-to-compute-jacobian-matrix-in-pytorch/14968/16)\n",
        "\n",
        "So take the timing results with a grain of salt."
      ],
      "id": "59a07d20"
    },
    {
      "cell_type": "code",
      "execution_count": 32,
      "metadata": {
        "id": "1eda9eb2"
      },
      "outputs": [],
      "source": [
        "def tf_softmax_grad(z):\n",
        "#   z = tf.constant(z, dtype=tf.float32)\n",
        "    with tf.GradientTape() as g:\n",
        "        g.watch(z)\n",
        "        a = tf.nn.softmax(z) \n",
        "    jacob = g.batch_jacobian(a, z)\n",
        "    return jacob#.numpy()"
      ],
      "id": "1eda9eb2"
    },
    {
      "cell_type": "code",
      "execution_count": 33,
      "metadata": {
        "id": "2ec068cd"
      },
      "outputs": [],
      "source": [
        "# Reference: https://discuss.pytorch.org/t/how-to-compute-jacobian-matrix-in-pytorch/14968/16\n",
        "def torch_softmax_grad(wrt):\n",
        "    jacobian = []\n",
        "    softmax_func = torch.nn.Softmax() # Get an instance of Softmax class for Pytorch\n",
        "    softmax_func.eval()\n",
        "    for i in range(wrt.shape[0]):\n",
        "        jac = torch.autograd.functional.jacobian(softmax_func, wrt[i])\n",
        "        jacobian.append(jac)\n",
        "        #\n",
        "    return torch.stack(jacobian, 0)"
      ],
      "id": "2ec068cd"
    },
    {
      "cell_type": "markdown",
      "metadata": {
        "id": "a5a55fc7"
      },
      "source": [
        "### Confirm that all frameworks give the same results"
      ],
      "id": "a5a55fc7"
    },
    {
      "cell_type": "code",
      "execution_count": 34,
      "metadata": {
        "colab": {
          "base_uri": "https://localhost:8080/"
        },
        "id": "7d1a9a63",
        "outputId": "f653158d-3102-420b-dccf-cbedbbcbe392"
      },
      "outputs": [
        {
          "output_type": "stream",
          "name": "stderr",
          "text": [
            "/usr/local/lib/python3.7/dist-packages/torch/autograd/functional.py:482: UserWarning: Implicit dimension choice for softmax has been deprecated. Change the call to include dim=X as an argument.\n",
            "  outputs = func(*inputs)\n"
          ]
        },
        {
          "output_type": "stream",
          "name": "stdout",
          "text": [
            "Max abs diff b/w torch and tf 2.9802322e-08\n",
            "Max abs diff b/w torch and CrysX 2.60770320892334e-08\n"
          ]
        }
      ],
      "source": [
        "# Torch input\n",
        "X_torch = torch.randn((300,100),requires_grad=True)\n",
        "X_torch = X_torch.cuda()\n",
        "# CrysX-NN input\n",
        "X_crysx_nn = X_torch.cpu().detach().numpy()\n",
        "X_cupy = cp.asarray(X_crysx_nn)\n",
        "# Tensorflow input\n",
        "X_tf = tf.convert_to_tensor(X_crysx_nn, dtype=tf.float32)\n",
        "\n",
        "\n",
        "# Torch\n",
        "# softmax_torch_func = torch.nn.Softmax() # Get an instance of Softmax class for Pytorch\n",
        "# softmax_torch_value = softmax_torch_func(X_torch)\n",
        "device = 'cuda'\n",
        "gradientsTorch = torch_softmax_grad(X_torch)#torch.autograd.grad(outputs=softmax_torch_value, inputs=X_torch,\n",
        "#                           grad_outputs=torch.ones(softmax_torch_value.size()).to(device),\n",
        "#                           create_graph=True, retain_graph=True, only_inputs=True)[0]\n",
        "# print(gradientsTorch)\n",
        "\n",
        "# CrysX\n",
        "# softmax_crysx_nn_value = Softmax(X_crysx_nn)\n",
        "gradientsCrysx = Softmax_grad_cupy(X_cupy)\n",
        "# print(gradientsCrysx)\n",
        "\n",
        "# Tensorflow\n",
        "# softmax_tf_value = tf.nn.softmax(X_tf)\n",
        "gradientsTF = tf_softmax_grad(X_tf)\n",
        "# print(gradientsTF)\n",
        "\n",
        "#Diff b/w tf and torch\n",
        "print('Max abs diff b/w torch and tf', abs(gradientsTorch.cpu().detach().numpy() - gradientsTF.numpy()).max())\n",
        "\n",
        "#Diff b/w crysx_nn and torch\n",
        "print('Max abs diff b/w torch and CrysX', abs(gradientsTorch.cpu().detach().numpy() - cp.asnumpy(gradientsCrysx)).max())\n"
      ],
      "id": "7d1a9a63"
    },
    {
      "cell_type": "markdown",
      "metadata": {
        "id": "533e2cd0"
      },
      "source": [
        "### Compare performance\n",
        "\n",
        "Since, CrysX-NN also requires the calculation of softmax function, therefore we should also include this calculation time for PyTorch and Tensorflow.\n",
        "\n",
        "I would like to stress here again, that I am not really sure if the autodifferentiated implementations of softmax gradients that I have used, are a good representative of the real-world performance or not. \n",
        "\n",
        "Especially, the torch jacobian would be extreeeemely slowww due to the for loops. But tensorflow implementation isn't that fast either.\n",
        "\n",
        "So we would skip the plots of timings vs array_size for benchmarks."
      ],
      "id": "533e2cd0"
    },
    {
      "cell_type": "code",
      "execution_count": 35,
      "metadata": {
        "colab": {
          "base_uri": "https://localhost:8080/"
        },
        "id": "3622fa31",
        "outputId": "7a635d7e-c750-4cad-c549-a1ce28b82a97"
      },
      "outputs": [
        {
          "output_type": "stream",
          "name": "stdout",
          "text": [
            "PyTorch\n",
            "11.2 s ± 2.15 s per loop (mean ± std. dev. of 7 runs, 2 loops each)\n",
            "CrysX-NN (crysx_nn)\n",
            "746 µs ± 177 µs per loop (mean ± std. dev. of 7 runs, 2 loops each)\n",
            "Tensorflow\n",
            "WARNING:tensorflow:5 out of the last 5 calls to <function pfor.<locals>.f at 0x7f9958245170> triggered tf.function retracing. Tracing is expensive and the excessive number of tracings could be due to (1) creating @tf.function repeatedly in a loop, (2) passing tensors with different shapes, (3) passing Python objects instead of tensors. For (1), please define your @tf.function outside of the loop. For (2), @tf.function has experimental_relax_shapes=True option that relaxes argument shapes that can avoid unnecessary retracing. For (3), please refer to https://www.tensorflow.org/guide/function#controlling_retracing and https://www.tensorflow.org/api_docs/python/tf/function for  more details.\n",
            "WARNING:tensorflow:6 out of the last 6 calls to <function pfor.<locals>.f at 0x7f995ecc79e0> triggered tf.function retracing. Tracing is expensive and the excessive number of tracings could be due to (1) creating @tf.function repeatedly in a loop, (2) passing tensors with different shapes, (3) passing Python objects instead of tensors. For (1), please define your @tf.function outside of the loop. For (2), @tf.function has experimental_relax_shapes=True option that relaxes argument shapes that can avoid unnecessary retracing. For (3), please refer to https://www.tensorflow.org/guide/function#controlling_retracing and https://www.tensorflow.org/api_docs/python/tf/function for  more details.\n",
            "285 ms ± 8.45 ms per loop (mean ± std. dev. of 7 runs, 2 loops each)\n"
          ]
        }
      ],
      "source": [
        "# Torch\n",
        "print('PyTorch')\n",
        "%timeit -n 2 torch_softmax_grad(X_torch)\n",
        "\n",
        "# CrysX\n",
        "print('CrysX-NN (crysx_nn)')\n",
        "%timeit -n 2 Softmax_grad_cupy(X_cupy)\n",
        "\n",
        "# Tensorflow\n",
        "print('Tensorflow')\n",
        "%timeit -n 2 tf_softmax_grad(X_tf)\n"
      ],
      "id": "3622fa31"
    }
  ],
  "metadata": {
    "accelerator": "GPU",
    "colab": {
      "collapsed_sections": [],
      "name": "Performance_Activation_Functions_GPU_cupy.ipynb",
      "provenance": []
    },
    "kernelspec": {
      "display_name": "Python 3 (ipykernel)",
      "language": "python",
      "name": "python3"
    },
    "language_info": {
      "codemirror_mode": {
        "name": "ipython",
        "version": 3
      },
      "file_extension": ".py",
      "mimetype": "text/x-python",
      "name": "python",
      "nbconvert_exporter": "python",
      "pygments_lexer": "ipython3",
      "version": "3.7.11"
    }
  },
  "nbformat": 4,
  "nbformat_minor": 5
}