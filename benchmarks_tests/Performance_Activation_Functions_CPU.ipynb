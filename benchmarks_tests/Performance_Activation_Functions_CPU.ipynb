{
 "cells": [
  {
   "cell_type": "markdown",
   "id": "a6a3ebbe",
   "metadata": {},
   "source": [
    "# Performance as well as Validation benchmarks for activation function implementations in the different frameworks\n",
    "\n",
    "# CPU versions only\n",
    "\n",
    "Windows 11\n",
    "i7 11800H\n",
    "Nvidia 3050 Ti\n",
    "\n",
    "I used \n",
    "\n",
    "`conda install 'tensorflow=*=mkl*'`\n",
    "and \n",
    "\n",
    "`conda install pytorch torchvision torchaudio cpuonly -c pytorch`\n",
    "\n",
    "`pip install crysx_nn`"
   ]
  },
  {
   "cell_type": "markdown",
   "id": "2fe963b8",
   "metadata": {},
   "source": [
    "## Run the following for Google colab \n",
    "then restart runtime"
   ]
  },
  {
   "cell_type": "code",
   "execution_count": 1,
   "id": "2d4936f2",
   "metadata": {},
   "outputs": [],
   "source": [
    "! pip install --upgrade --no-cache-dir https://github.com/manassharma07/crysx_nn/tarball/main\n",
    "! pip install IPython==7.7.0"
   ]
  },
  {
   "cell_type": "code",
   "execution_count": 1,
   "id": "c01c604c",
   "metadata": {},
   "outputs": [
    {
     "name": "stdout",
     "output_type": "stream",
     "text": [
      "blas_mkl_info:\n",
      "    libraries = ['mkl_rt']\n",
      "    library_dirs = ['C:/Users/manas/anaconda3/envs/crysx_nn\\\\Library\\\\lib']\n",
      "    define_macros = [('SCIPY_MKL_H', None), ('HAVE_CBLAS', None)]\n",
      "    include_dirs = ['C:/Users/manas/anaconda3/envs/crysx_nn\\\\Library\\\\include']\n",
      "blas_opt_info:\n",
      "    libraries = ['mkl_rt']\n",
      "    library_dirs = ['C:/Users/manas/anaconda3/envs/crysx_nn\\\\Library\\\\lib']\n",
      "    define_macros = [('SCIPY_MKL_H', None), ('HAVE_CBLAS', None)]\n",
      "    include_dirs = ['C:/Users/manas/anaconda3/envs/crysx_nn\\\\Library\\\\include']\n",
      "lapack_mkl_info:\n",
      "    libraries = ['mkl_rt']\n",
      "    library_dirs = ['C:/Users/manas/anaconda3/envs/crysx_nn\\\\Library\\\\lib']\n",
      "    define_macros = [('SCIPY_MKL_H', None), ('HAVE_CBLAS', None)]\n",
      "    include_dirs = ['C:/Users/manas/anaconda3/envs/crysx_nn\\\\Library\\\\include']\n",
      "lapack_opt_info:\n",
      "    libraries = ['mkl_rt']\n",
      "    library_dirs = ['C:/Users/manas/anaconda3/envs/crysx_nn\\\\Library\\\\lib']\n",
      "    define_macros = [('SCIPY_MKL_H', None), ('HAVE_CBLAS', None)]\n",
      "    include_dirs = ['C:/Users/manas/anaconda3/envs/crysx_nn\\\\Library\\\\include']\n",
      "torch 1.10.1\n",
      "tensorflow 2.2.3\n"
     ]
    }
   ],
   "source": [
    "import os\n",
    "os.environ[\"CUDA_VISIBLE_DEVICES\"] = \"-1\" # Ensure that evertyhing is only using CPU¶\n",
    "\n",
    "import numpy as np\n",
    "np.show_config()\n",
    "import matplotlib.pyplot as plt\n",
    "\n",
    "# Import activation functions from crysx_nn\n",
    "from crysx_nn.activation import Sigmoid, Sigmoid_grad\n",
    "from crysx_nn.activation import Softmax, Softmax_grad\n",
    "from crysx_nn.activation import ReLU, ReLU_grad\n",
    "from crysx_nn.activation import Softplus, Softplus_grad\n",
    "from crysx_nn.activation import Identity, Identity_grad\n",
    "from crysx_nn.activation import Tanh, Tanh_grad\n",
    "\n",
    "# PyTorch\n",
    "import torch\n",
    "print('torch',torch.__version__)\n",
    "\n",
    "# Tensorflow\n",
    "import tensorflow as tf\n",
    "print('tensorflow',tf.__version__)"
   ]
  },
  {
   "cell_type": "markdown",
   "id": "ae8fc8c0",
   "metadata": {},
   "source": [
    "## Ensure that evertyhing is only using CPU"
   ]
  },
  {
   "cell_type": "code",
   "execution_count": 2,
   "id": "c26ef316",
   "metadata": {},
   "outputs": [
    {
     "data": {
      "text/plain": [
       "False"
      ]
     },
     "execution_count": 2,
     "metadata": {},
     "output_type": "execute_result"
    }
   ],
   "source": [
    "torch.cuda.is_available()"
   ]
  },
  {
   "cell_type": "code",
   "execution_count": 3,
   "id": "1c91538d",
   "metadata": {},
   "outputs": [
    {
     "name": "stdout",
     "output_type": "stream",
     "text": [
      "Num GPUs Available:  0\n"
     ]
    }
   ],
   "source": [
    "print(\"Num GPUs Available: \", len(tf.config.list_physical_devices('GPU')))"
   ]
  },
  {
   "cell_type": "code",
   "execution_count": 4,
   "id": "91ad3a7c",
   "metadata": {},
   "outputs": [
    {
     "name": "stdout",
     "output_type": "stream",
     "text": [
      "WARNING:tensorflow:From C:\\Users\\manas\\AppData\\Local\\Temp/ipykernel_2020/337460670.py:1: is_gpu_available (from tensorflow.python.framework.test_util) is deprecated and will be removed in a future version.\n",
      "Instructions for updating:\n",
      "Use `tf.config.list_physical_devices('GPU')` instead.\n"
     ]
    },
    {
     "data": {
      "text/plain": [
       "False"
      ]
     },
     "execution_count": 4,
     "metadata": {},
     "output_type": "execute_result"
    }
   ],
   "source": [
    "tf.test.is_gpu_available()"
   ]
  },
  {
   "cell_type": "code",
   "execution_count": 5,
   "id": "262d4c70",
   "metadata": {},
   "outputs": [
    {
     "name": "stdout",
     "output_type": "stream",
     "text": [
      "True\n"
     ]
    }
   ],
   "source": [
    "print(tf.test.is_built_with_cuda())"
   ]
  },
  {
   "cell_type": "markdown",
   "id": "547d9431",
   "metadata": {},
   "source": [
    "## Generate an input `2d array` of type `float32` for benchmark (let's say using `torch`)"
   ]
  },
  {
   "cell_type": "code",
   "execution_count": 6,
   "id": "3959577e",
   "metadata": {},
   "outputs": [
    {
     "name": "stdout",
     "output_type": "stream",
     "text": [
      "tensor([[0.3797, 0.2654, 0.3753,  ..., 0.0785, 0.0935, 0.5692],\n",
      "        [0.1917, 0.8281, 0.9007,  ..., 0.3170, 0.0626, 0.6644],\n",
      "        [0.2508, 0.0771, 0.3949,  ..., 0.5274, 0.7033, 0.8321],\n",
      "        ...,\n",
      "        [0.2572, 0.7558, 0.4270,  ..., 0.7637, 0.0584, 0.7156],\n",
      "        [0.6540, 0.9480, 0.8365,  ..., 0.1611, 0.1454, 0.7493],\n",
      "        [0.0525, 0.2796, 0.6720,  ..., 0.1760, 0.7497, 0.8856]],\n",
      "       requires_grad=True)\n"
     ]
    }
   ],
   "source": [
    "X_torch = torch.rand((300,100),requires_grad=True)\n",
    "print(X_torch)"
   ]
  },
  {
   "cell_type": "markdown",
   "id": "aead212c",
   "metadata": {},
   "source": [
    "## Convert it to numpy for `crysx_nn`"
   ]
  },
  {
   "cell_type": "code",
   "execution_count": 7,
   "id": "cb200f2d",
   "metadata": {},
   "outputs": [
    {
     "name": "stdout",
     "output_type": "stream",
     "text": [
      "float32\n"
     ]
    }
   ],
   "source": [
    "X_crysx_nn = X_torch.cpu().detach().numpy()\n",
    "print(X_crysx_nn.dtype)"
   ]
  },
  {
   "cell_type": "markdown",
   "id": "c8fd4dec",
   "metadata": {},
   "source": [
    "## Now finally convert it to a tensorflow tensor"
   ]
  },
  {
   "cell_type": "code",
   "execution_count": 8,
   "id": "4e1cfda4",
   "metadata": {},
   "outputs": [],
   "source": [
    "X_tf = tf.convert_to_tensor(X_crysx_nn, dtype=tf.float32)"
   ]
  },
  {
   "cell_type": "markdown",
   "id": "7f65f869",
   "metadata": {},
   "source": [
    "## Benchmark ReLU"
   ]
  },
  {
   "cell_type": "markdown",
   "id": "3d37b5e7",
   "metadata": {},
   "source": [
    "### Confirm that all frameworks give the same results"
   ]
  },
  {
   "cell_type": "code",
   "execution_count": 9,
   "id": "e46f7fc1",
   "metadata": {},
   "outputs": [
    {
     "name": "stdout",
     "output_type": "stream",
     "text": [
      "Max abs diff b/w torch and tf 0.0\n",
      "Max abs diff b/w torch and CrysX 0.0\n"
     ]
    }
   ],
   "source": [
    "# Torch\n",
    "relu_torch_func = torch.nn.ReLU() # Get an instance of ReLU class for Pytorch\n",
    "relu_torch_value = relu_torch_func(X_torch)\n",
    "\n",
    "# CrysX\n",
    "relu_crysx_nn_value = ReLU(X_crysx_nn)\n",
    "\n",
    "# Tensorflow\n",
    "relu_tf_value = tf.nn.relu(X_tf)#tf.keras.activations.relu(X_tf)\n",
    "\n",
    "#Diff b/w tf and torch\n",
    "print('Max abs diff b/w torch and tf', abs(relu_torch_value.cpu().detach().numpy() - relu_tf_value.numpy()).max())\n",
    "\n",
    "#Diff b/w crysx_nn and torch\n",
    "print('Max abs diff b/w torch and CrysX', abs(relu_torch_value.cpu().detach().numpy() - relu_crysx_nn_value).max())"
   ]
  },
  {
   "cell_type": "markdown",
   "id": "20b0850b",
   "metadata": {},
   "source": [
    "### Compare performance"
   ]
  },
  {
   "cell_type": "code",
   "execution_count": 10,
   "id": "a9f57c2e",
   "metadata": {},
   "outputs": [
    {
     "name": "stdout",
     "output_type": "stream",
     "text": [
      "PyTorch\n",
      "14.3 µs ± 1.01 µs per loop (mean ± std. dev. of 7 runs, 1000 loops each)\n",
      "CrysX-NN (crysx_nn)\n",
      "4.68 µs ± 102 ns per loop (mean ± std. dev. of 7 runs, 1000 loops each)\n",
      "Tensorflow\n",
      "6.48 µs ± 251 ns per loop (mean ± std. dev. of 7 runs, 1000 loops each)\n"
     ]
    }
   ],
   "source": [
    "# Torch\n",
    "print('PyTorch')\n",
    "relu_torch_func = torch.nn.ReLU() # Get an instance of ReLU class for Pytorch\n",
    "%timeit -n 1000 relu_torch_func(X_torch)\n",
    "\n",
    "# CrysX\n",
    "print('CrysX-NN (crysx_nn)')\n",
    "%timeit -n 1000 ReLU(X_crysx_nn)\n",
    "\n",
    "# Tensorflow\n",
    "print('Tensorflow')\n",
    "%timeit -n 1000 tf.keras.activations.relu(X_tf)\n"
   ]
  },
  {
   "cell_type": "markdown",
   "id": "54b18c9f",
   "metadata": {},
   "source": [
    "### Compare performance with arrays of different sizes"
   ]
  },
  {
   "cell_type": "code",
   "execution_count": 11,
   "id": "0cd08c11",
   "metadata": {},
   "outputs": [
    {
     "name": "stdout",
     "output_type": "stream",
     "text": [
      "5.23 µs ± 725 ns per loop (mean ± std. dev. of 7 runs, 500 loops each)\n",
      "874 ns ± 127 ns per loop (mean ± std. dev. of 7 runs, 500 loops each)\n",
      "3.8 µs ± 228 ns per loop (mean ± std. dev. of 7 runs, 500 loops each)\n",
      "26.3 µs ± 2.25 µs per loop (mean ± std. dev. of 7 runs, 500 loops each)\n",
      "41.4 µs ± 2.13 µs per loop (mean ± std. dev. of 7 runs, 500 loops each)\n",
      "42.4 µs ± 1.24 µs per loop (mean ± std. dev. of 7 runs, 500 loops each)\n",
      "648 µs ± 34.9 µs per loop (mean ± std. dev. of 7 runs, 500 loops each)\n",
      "1.24 ms ± 300 µs per loop (mean ± std. dev. of 7 runs, 500 loops each)\n",
      "923 µs ± 101 µs per loop (mean ± std. dev. of 7 runs, 500 loops each)\n",
      "1.5 ms ± 289 µs per loop (mean ± std. dev. of 7 runs, 500 loops each)\n",
      "1.96 ms ± 45.6 µs per loop (mean ± std. dev. of 7 runs, 500 loops each)\n",
      "1.2 ms ± 37.1 µs per loop (mean ± std. dev. of 7 runs, 500 loops each)\n",
      "2.75 ms ± 465 µs per loop (mean ± std. dev. of 7 runs, 500 loops each)\n",
      "3.31 ms ± 66.6 µs per loop (mean ± std. dev. of 7 runs, 500 loops each)\n",
      "2.01 ms ± 11.5 µs per loop (mean ± std. dev. of 7 runs, 500 loops each)\n",
      "4.65 ms ± 828 µs per loop (mean ± std. dev. of 7 runs, 500 loops each)\n",
      "6.25 ms ± 1.09 ms per loop (mean ± std. dev. of 7 runs, 500 loops each)\n",
      "4.68 ms ± 703 µs per loop (mean ± std. dev. of 7 runs, 500 loops each)\n"
     ]
    }
   ],
   "source": [
    "time_torch = []\n",
    "time_crysx_nn = []\n",
    "time_tf = []\n",
    "sizes = []\n",
    "\n",
    "for n_size in range(10,3000,500):\n",
    "    sizes.append(n_size*n_size)\n",
    "    # Torch input\n",
    "    X_torch = torch.rand((n_size,n_size),requires_grad=True)\n",
    "    # CrysX-NN input\n",
    "    X_crysx_nn = X_torch.cpu().detach().numpy()\n",
    "    # Tensorflow input\n",
    "    X_tf = tf.convert_to_tensor(X_crysx_nn, dtype=tf.float32)\n",
    "    \n",
    "    ##--Timings--\n",
    "    # Torch\n",
    "    relu_torch_func = torch.nn.ReLU() # Get an instance of ReLU class for Pytorch\n",
    "    time = %timeit -n 100 -o relu_torch_func(X_torch)\n",
    "    # For time of each run\n",
    "    time_torch.append(np.mean(time.timings)) \n",
    "    # For total time\n",
    "#     time_torch.append(np.mean(time.all_runs)) \n",
    "    # CrysX\n",
    "    time = %timeit -n 100 -o ReLU(X_crysx_nn)\n",
    "    # For time of each run\n",
    "    time_crysx_nn.append(np.mean(time.timings))\n",
    "    # Tensorflow\n",
    "    with tf.device(\"cpu:0\"):\n",
    "        time = %timeit -n 100 -o tf.nn.relu(X_tf)\n",
    "    # For time of each run\n",
    "    time_tf.append(np.mean(time.timings))"
   ]
  },
  {
   "cell_type": "markdown",
   "id": "dad74e22",
   "metadata": {},
   "source": [
    "### Plot the results"
   ]
  },
  {
   "cell_type": "code",
   "execution_count": 12,
   "id": "752f3dd0",
   "metadata": {
    "scrolled": true
   },
   "outputs": [
    {
     "data": {
      "image/png": "[encoded data removed]",
      "text/plain": [
       "<Figure size 432x288 with 1 Axes>"
      ]
     },
     "metadata": {
      "needs_background": "light"
     },
     "output_type": "display_data"
    }
   ],
   "source": [
    "\n",
    "plt.plot(sizes,time_torch, label='PyTorch')\n",
    "plt.plot(sizes,time_crysx_nn, label='CrysX-NN')\n",
    "plt.plot(sizes,time_tf, label='Tensorflow')\n",
    "plt.legend()\n",
    "plt.xlabel('Array sizes')\n",
    "plt.ylabel('Average Time (seconds)')\n",
    "plt.title('Benchmark ReLU (CPU)')\n",
    "plt.show()\n",
    "plt.subplots_adjust(left=0.15)\n",
    "# from google.colab import files\n",
    "# plt.savefig(\"RelU_CPU.png\")\n",
    "# files.download(\"ReLU_CPU.png\") "
   ]
  },
  {
   "cell_type": "markdown",
   "id": "40134af9",
   "metadata": {},
   "source": [
    "## Benchmark ReLU derivative (gradient) wrt input batch\n",
    "\n",
    "This is slightly tricky. \n",
    "PyTorch and Tensorflow don't explicitly come with a function that gives the gradient. \n",
    "Rather they use atuomatic differentiation.\n",
    "\n",
    "This is why, PyTorch would require the value of the output of the activation function as well, rather than just an input function. \n",
    "\n",
    "I will try to do the timings in a way that we can exclude this time from results.\n",
    "\n",
    "However, it is still not really evident if the timings can be taken as a good representative of the performance of PyTorch and Tensorflow frameworks.\n",
    "\n",
    "So take the timing results with a grain of salt."
   ]
  },
  {
   "cell_type": "code",
   "execution_count": 13,
   "id": "3bde737f",
   "metadata": {},
   "outputs": [],
   "source": [
    "def tf_relu_grad(x):\n",
    "    with tf.GradientTape() as g:\n",
    "        g.watch(x)\n",
    "        relu_values = tf.nn.relu(x)\n",
    "    grad = g.gradient(relu_values, x)\n",
    "    return grad#.numpy()"
   ]
  },
  {
   "cell_type": "code",
   "execution_count": 14,
   "id": "52716adb",
   "metadata": {},
   "outputs": [],
   "source": [
    "def torch_relu_grad(relu_values, x):\n",
    "    device='cpu'\n",
    "    gradient = torch.autograd.grad(outputs=relu_values, inputs=x,\n",
    "                          grad_outputs=torch.ones(relu_values.size()).to(device),\n",
    "                          create_graph=True, retain_graph=True, only_inputs=True)[0]\n",
    "    return gradient"
   ]
  },
  {
   "cell_type": "markdown",
   "id": "835e686d",
   "metadata": {},
   "source": [
    "### Confirm that all frameworks give the same results"
   ]
  },
  {
   "cell_type": "code",
   "execution_count": 15,
   "id": "c99d756a",
   "metadata": {},
   "outputs": [
    {
     "name": "stdout",
     "output_type": "stream",
     "text": [
      "Max abs diff b/w torch and tf 0.0\n",
      "Max abs diff b/w torch and CrysX 0.0\n"
     ]
    }
   ],
   "source": [
    "# Torch input\n",
    "X_torch = torch.rand((1000,1000),requires_grad=True)\n",
    "# CrysX-NN input\n",
    "X_crysx_nn = X_torch.cpu().detach().numpy()\n",
    "# Tensorflow input\n",
    "X_tf = tf.convert_to_tensor(X_crysx_nn, dtype=tf.float32)\n",
    "\n",
    "\n",
    "# Torch\n",
    "relu_torch_func = torch.nn.ReLU() # Get an instance of ReLU class for Pytorch\n",
    "relu_torch_value = relu_torch_func(X_torch)\n",
    "gradientsTorch = torch_relu_grad(relu_torch_value, X_torch)\n",
    "# print(gradientsTorch)\n",
    "\n",
    "# CrysX\n",
    "# softmax_crysx_nn_value = Softmax(X_crysx_nn)\n",
    "gradientsCrysx = ReLU_grad(X_crysx_nn)\n",
    "# print(gradientsCrysx)\n",
    "\n",
    "# Tensorflow\n",
    "gradientsTF = tf_relu_grad(X_tf) # requires a computation of sigmoid values again\n",
    "with tf.GradientTape() as g:\n",
    "    g.watch(X_tf)\n",
    "    relu_tf_value = tf.nn.relu(X_tf)\n",
    "gradientsTF = g.gradient(relu_tf_value, X_tf)\n",
    "del g\n",
    "# print(gradientsTF)\n",
    "\n",
    "#Diff b/w tf and torch\n",
    "print('Max abs diff b/w torch and tf', abs(gradientsTorch.cpu().detach().numpy() - gradientsTF.numpy()).max())\n",
    "\n",
    "#Diff b/w crysx_nn and torch\n",
    "print('Max abs diff b/w torch and CrysX', abs(gradientsTorch.cpu().detach().numpy() - gradientsCrysx).max())\n"
   ]
  },
  {
   "cell_type": "markdown",
   "id": "66d58a5f",
   "metadata": {},
   "source": [
    "### Compare performance\n",
    "\n",
    "I would like to stress here again, that I am not really sure if the autodifferentiated implementations of ReLU gradients that I have used, are a good representative of the real-world performance or not. \n",
    "\n",
    "\n",
    "So we would skip the plots of timings vs array_size for benchmarks."
   ]
  },
  {
   "cell_type": "code",
   "execution_count": 16,
   "id": "0d437ef1",
   "metadata": {},
   "outputs": [
    {
     "name": "stdout",
     "output_type": "stream",
     "text": [
      "PyTorch gradient only\n",
      "1.53 ms ± 232 µs per loop (mean ± std. dev. of 7 runs, 100 loops each)\n",
      "CrysX-NN (crysx_nn) gradient only\n",
      "1.43 ms ± 282 µs per loop (mean ± std. dev. of 7 runs, 100 loops each)\n",
      "Tensorflow gradient+value\n",
      "2.56 ms ± 200 µs per loop (mean ± std. dev. of 7 runs, 100 loops each)\n",
      "Tensorflow value only\n",
      "834 µs ± 43.2 µs per loop (mean ± std. dev. of 7 runs, 100 loops each)\n"
     ]
    }
   ],
   "source": [
    "# Torch\n",
    "print('PyTorch gradient only')\n",
    "relu_torch_func = torch.nn.ReLU() # Get an instance of ReLU class for Pytorch\n",
    "relu_torch_value = relu_torch_func(X_torch)\n",
    "%timeit -n 100 torch_relu_grad(relu_torch_value, X_torch)\n",
    "\n",
    "# CrysX\n",
    "print('CrysX-NN (crysx_nn) gradient only')\n",
    "%timeit -n 100 ReLU_grad(X_crysx_nn)\n",
    "\n",
    "# Tensorflow\n",
    "print('Tensorflow gradient+value')\n",
    "with tf.GradientTape(persistent=False) as g:\n",
    "    g.watch(X_tf)\n",
    "    relu_tf_value = tf.nn.relu(X_tf)\n",
    "# %timeit -n 100 g.gradient(relu_tf_value, X_tf) # Doesn't work due to multiple runs of timeit and tape not supporting it\n",
    "%timeit -n 100  tf_relu_grad(X_tf)\n",
    "\n",
    "print('Tensorflow value only')\n",
    "%timeit -n 100 tf.keras.activations.relu(X_tf)\n"
   ]
  },
  {
   "cell_type": "markdown",
   "id": "f9065bd2",
   "metadata": {},
   "source": [
    "In the above, we see that PyTorch is again quite fast a million element array. \n",
    "CrysX-NN gives decent performance.\n",
    "\n",
    "Tensorflow is a bit tricky. Due to `%timeit` requiring multiple runs, and tape being only restricted to a single run, I had to use the other implementation of gradient using tensorflow, where the `values+gradients` are computed.\n",
    "\n",
    "Therefore, to get a good idea of the tensorflow gradient performance I have also calculated the time taken by tensorflow for just evaluating the functions."
   ]
  },
  {
   "cell_type": "markdown",
   "id": "356eec6f",
   "metadata": {},
   "source": [
    "## Benchmark Sigmoid"
   ]
  },
  {
   "cell_type": "markdown",
   "id": "f8f70b72",
   "metadata": {},
   "source": [
    "### Confirm that all frameworks give the same results"
   ]
  },
  {
   "cell_type": "code",
   "execution_count": 6,
   "id": "a5784dcf",
   "metadata": {},
   "outputs": [
    {
     "name": "stdout",
     "output_type": "stream",
     "text": [
      "Max abs diff b/w torch and tf 1.1920929e-07\n",
      "Max abs diff b/w torch and CrysX 5.9604645e-08\n"
     ]
    }
   ],
   "source": [
    "# Torch input\n",
    "X_torch = torch.rand((1000,1000),requires_grad=True)\n",
    "# CrysX-NN input\n",
    "X_crysx_nn = X_torch.cpu().detach().numpy()\n",
    "# Tensorflow input\n",
    "X_tf = tf.convert_to_tensor(X_crysx_nn, dtype=tf.float32)\n",
    "\n",
    "# Torch\n",
    "sigmoid_torch_func = torch.nn.Sigmoid() # Get an instance of Sigmoid class for Pytorch\n",
    "sigmoid_torch_value = sigmoid_torch_func(X_torch)\n",
    "\n",
    "# CrysX\n",
    "sigmoid_crysx_nn_value = Sigmoid(X_crysx_nn)\n",
    "\n",
    "\n",
    "# Tensorflow\n",
    "sigmoid_tf_value = tf.keras.activations.sigmoid(X_tf)\n",
    "\n",
    "#Diff b/w tf and torch\n",
    "print('Max abs diff b/w torch and tf', abs(sigmoid_torch_value.cpu().detach().numpy() - sigmoid_tf_value.numpy()).max())\n",
    "\n",
    "#Diff b/w crysx_nn and torch\n",
    "print('Max abs diff b/w torch and CrysX', abs(sigmoid_torch_value.cpu().detach().numpy() - sigmoid_crysx_nn_value).max())\n"
   ]
  },
  {
   "cell_type": "markdown",
   "id": "e6427ae0",
   "metadata": {},
   "source": [
    "### Compare performance"
   ]
  },
  {
   "cell_type": "code",
   "execution_count": 7,
   "id": "9e036ed7",
   "metadata": {},
   "outputs": [
    {
     "name": "stdout",
     "output_type": "stream",
     "text": [
      "PyTorch\n",
      "1.52 ms ± 64.9 µs per loop (mean ± std. dev. of 7 runs, 100 loops each)\n",
      "CrysX-NN (crysx_nn)\n",
      "1.45 ms ± 99.4 µs per loop (mean ± std. dev. of 7 runs, 100 loops each)\n",
      "Tensorflow\n",
      "781 µs ± 55.1 µs per loop (mean ± std. dev. of 7 runs, 100 loops each)\n"
     ]
    }
   ],
   "source": [
    "# Torch\n",
    "print('PyTorch')\n",
    "sigmoid_torch_func = torch.nn.Sigmoid() # Get an instance of Sigmoid class for Pytorch\n",
    "%timeit -n 100 sigmoid_torch_func(X_torch)\n",
    "\n",
    "# CrysX\n",
    "print('CrysX-NN (crysx_nn)')\n",
    "%timeit -n 100 Sigmoid(X_crysx_nn)\n",
    "\n",
    "# Tensorflow\n",
    "print('Tensorflow')\n",
    "%timeit -n 100 tf.keras.activations.sigmoid(X_tf)\n"
   ]
  },
  {
   "cell_type": "markdown",
   "id": "4bc48d98",
   "metadata": {},
   "source": [
    "### Compare performance with arrays of different sizes"
   ]
  },
  {
   "cell_type": "code",
   "execution_count": 8,
   "id": "72ae0171",
   "metadata": {},
   "outputs": [
    {
     "name": "stdout",
     "output_type": "stream",
     "text": [
      "11.2 µs ± 543 ns per loop (mean ± std. dev. of 7 runs, 100 loops each)\n",
      "29.5 µs ± 4.15 µs per loop (mean ± std. dev. of 7 runs, 100 loops each)\n",
      "7.98 µs ± 1.08 µs per loop (mean ± std. dev. of 7 runs, 100 loops each)\n",
      "1.65 ms ± 24.9 µs per loop (mean ± std. dev. of 7 runs, 100 loops each)\n",
      "1.51 ms ± 275 µs per loop (mean ± std. dev. of 7 runs, 100 loops each)\n",
      "62.7 µs ± 4.43 µs per loop (mean ± std. dev. of 7 runs, 100 loops each)\n",
      "6.73 ms ± 45.6 µs per loop (mean ± std. dev. of 7 runs, 100 loops each)\n",
      "4.93 ms ± 281 µs per loop (mean ± std. dev. of 7 runs, 100 loops each)\n",
      "771 µs ± 61.1 µs per loop (mean ± std. dev. of 7 runs, 100 loops each)\n",
      "15.6 ms ± 105 µs per loop (mean ± std. dev. of 7 runs, 100 loops each)\n",
      "11.4 ms ± 518 µs per loop (mean ± std. dev. of 7 runs, 100 loops each)\n",
      "1.33 ms ± 147 µs per loop (mean ± std. dev. of 7 runs, 100 loops each)\n",
      "29.4 ms ± 1.61 ms per loop (mean ± std. dev. of 7 runs, 100 loops each)\n",
      "24.1 ms ± 2.16 ms per loop (mean ± std. dev. of 7 runs, 100 loops each)\n",
      "2.21 ms ± 205 µs per loop (mean ± std. dev. of 7 runs, 100 loops each)\n",
      "47.8 ms ± 1.31 ms per loop (mean ± std. dev. of 7 runs, 100 loops each)\n",
      "36.2 ms ± 1.32 ms per loop (mean ± std. dev. of 7 runs, 100 loops each)\n",
      "3.84 ms ± 335 µs per loop (mean ± std. dev. of 7 runs, 100 loops each)\n"
     ]
    }
   ],
   "source": [
    "time_torch = []\n",
    "time_crysx_nn = []\n",
    "time_tf = []\n",
    "sizes = []\n",
    "\n",
    "for n_size in range(10,3000,500):\n",
    "    sizes.append(n_size*n_size)\n",
    "    # Torch input\n",
    "    X_torch = 1000*torch.rand((n_size,n_size),requires_grad=True)\n",
    "    # CrysX-NN input\n",
    "    X_crysx_nn = X_torch.cpu().detach().numpy()\n",
    "    # Tensorflow input\n",
    "    X_tf = tf.convert_to_tensor(X_crysx_nn, dtype=tf.float32)\n",
    "    \n",
    "    ##--Timings--\n",
    "    # Torch\n",
    "    sigmoid_torch_func = torch.nn.Sigmoid() # Get an instance of Sigmoid class for Pytorch\n",
    "    time = %timeit -n 100 -o sigmoid_torch_func(X_torch)\n",
    "    # For time of each run\n",
    "    time_torch.append(np.mean(time.timings)) \n",
    "    # For total time\n",
    "#     time_torch.append(np.mean(time.all_runs)) \n",
    "    # CrysX\n",
    "    time = %timeit -n 100 -o Sigmoid(X_crysx_nn)\n",
    "    # For time of each run\n",
    "    time_crysx_nn.append(np.mean(time.timings))\n",
    "    # Tensorflow\n",
    "    time = %timeit -n 100 -o tf.keras.activations.sigmoid(X_tf)\n",
    "    # For time of each run\n",
    "    time_tf.append(np.mean(time.timings))\n",
    "    "
   ]
  },
  {
   "cell_type": "markdown",
   "id": "44312c98",
   "metadata": {},
   "source": [
    "### Plot the results"
   ]
  },
  {
   "cell_type": "code",
   "execution_count": 9,
   "id": "41be017b",
   "metadata": {},
   "outputs": [
    {
     "data": {
      "image/png": "[encoded data removed]",
      "text/plain": [
       "<Figure size 432x288 with 1 Axes>"
      ]
     },
     "metadata": {
      "needs_background": "light"
     },
     "output_type": "display_data"
    }
   ],
   "source": [
    "\n",
    "plt.plot(sizes,time_torch, label='PyTorch')\n",
    "plt.plot(sizes,time_crysx_nn, label='CrysX-NN')\n",
    "plt.plot(sizes,time_tf, label='Tensorflow')\n",
    "plt.legend()\n",
    "plt.xlabel('Array sizes')\n",
    "plt.ylabel('Average Time (seconds)')\n",
    "plt.title('Benchmark Sigmoid (CPU)')\n",
    "plt.show()\n",
    "plt.subplots_adjust(left=0.15)\n",
    "# plt.savefig(\"Sigmoid_CPU.png\")\n",
    "# files.download(\"Sigmoid_CPU.png\")"
   ]
  },
  {
   "cell_type": "markdown",
   "id": "f13883aa",
   "metadata": {},
   "source": [
    "## Benchmark Sigmoid derivative (gradient) wrt input batch\n",
    "\n",
    "This is slightly tricky. \n",
    "PyTorch and Tensorflow don't explicitly come with a function that gives the gradient. \n",
    "Rather they use atuomatic differentiation.\n",
    "\n",
    "This is why, PyTorch would require the value of the output of the activation function as well, rather than just an input function. \n",
    "\n",
    "I will try to do the timings in a way that we can exclude this time from results.\n",
    "\n",
    "However, it is still not really evident if the timings can be taken as a good representative of the performance of PyTorch and Tensorflow frameworks.\n",
    "\n",
    "So take the timing results with a grain of salt."
   ]
  },
  {
   "cell_type": "code",
   "execution_count": 21,
   "id": "aa8caaa0",
   "metadata": {},
   "outputs": [],
   "source": [
    "def tf_sigmoid_grad(x):\n",
    "    with tf.GradientTape() as g:\n",
    "        g.watch(x)\n",
    "        sigmoid_values = tf.nn.sigmoid(x)\n",
    "    grad = g.gradient(sigmoid_values, x)\n",
    "    return grad#.numpy()"
   ]
  },
  {
   "cell_type": "code",
   "execution_count": 22,
   "id": "3aa63754",
   "metadata": {},
   "outputs": [],
   "source": [
    "def torch_sigmoid_grad(sigmoid_values, x):\n",
    "    device='cpu'\n",
    "    gradient = torch.autograd.grad(outputs=sigmoid_values, inputs=x,\n",
    "                          grad_outputs=torch.ones(sigmoid_values.size()).to(device),\n",
    "                          create_graph=True, retain_graph=True, only_inputs=True)[0]\n",
    "    return gradient"
   ]
  },
  {
   "cell_type": "markdown",
   "id": "8d96f8e5",
   "metadata": {},
   "source": [
    "### Confirm that all frameworks give the same results"
   ]
  },
  {
   "cell_type": "code",
   "execution_count": 23,
   "id": "058c343c",
   "metadata": {},
   "outputs": [
    {
     "name": "stdout",
     "output_type": "stream",
     "text": [
      "Max abs diff b/w torch and tf 5.9604645e-08\n",
      "Max abs diff b/w torch and CrysX 4.4703484e-08\n"
     ]
    }
   ],
   "source": [
    "# Torch input\n",
    "X_torch = torch.rand((1000,1000),requires_grad=True)\n",
    "# CrysX-NN input\n",
    "X_crysx_nn = X_torch.cpu().detach().numpy()\n",
    "# Tensorflow input\n",
    "X_tf = tf.convert_to_tensor(X_crysx_nn, dtype=tf.float32)\n",
    "\n",
    "\n",
    "# Torch\n",
    "sigmoid_torch_func = torch.nn.Sigmoid() # Get an instance of Sigmoid class for Pytorch\n",
    "sigmoid_torch_value = sigmoid_torch_func(X_torch)\n",
    "gradientsTorch = torch_sigmoid_grad(sigmoid_torch_value, X_torch)\n",
    "# print(gradientsTorch)\n",
    "\n",
    "# CrysX\n",
    "# softmax_crysx_nn_value = Softmax(X_crysx_nn)\n",
    "gradientsCrysx = Sigmoid_grad(X_crysx_nn)\n",
    "# print(gradientsCrysx)\n",
    "\n",
    "# Tensorflow\n",
    "gradientsTF = tf_sigmoid_grad(X_tf) # requires a computation of sigmoid values again\n",
    "with tf.GradientTape() as g:\n",
    "    g.watch(X_tf)\n",
    "    sigmoid_tf_value = tf.nn.sigmoid(X_tf)\n",
    "gradientsTF = g.gradient(sigmoid_tf_value, X_tf)\n",
    "del g\n",
    "# print(gradientsTF)\n",
    "\n",
    "#Diff b/w tf and torch\n",
    "print('Max abs diff b/w torch and tf', abs(gradientsTorch.cpu().detach().numpy() - gradientsTF.numpy()).max())\n",
    "\n",
    "#Diff b/w crysx_nn and torch\n",
    "print('Max abs diff b/w torch and CrysX', abs(gradientsTorch.cpu().detach().numpy() - gradientsCrysx).max())\n"
   ]
  },
  {
   "cell_type": "markdown",
   "id": "0b4bd1c8",
   "metadata": {},
   "source": [
    "### Compare performance\n",
    "\n",
    "I would like to stress here again, that I am not really sure if the autodifferentiated implementations of Sigmoid gradients that I have used, are a good representative of the real-world performance or not. \n",
    "\n",
    "\n",
    "So we would skip the plots of timings vs array_size for benchmarks."
   ]
  },
  {
   "cell_type": "code",
   "execution_count": 24,
   "id": "65cb07cd",
   "metadata": {},
   "outputs": [
    {
     "name": "stdout",
     "output_type": "stream",
     "text": [
      "PyTorch gradient only\n",
      "1.97 ms ± 151 µs per loop (mean ± std. dev. of 7 runs, 100 loops each)\n",
      "CrysX-NN (crysx_nn) gradient only\n",
      "2.96 ms ± 570 µs per loop (mean ± std. dev. of 7 runs, 100 loops each)\n",
      "Tensorflow gradient+value\n",
      "3.42 ms ± 515 µs per loop (mean ± std. dev. of 7 runs, 100 loops each)\n",
      "Tensorflow value only\n",
      "1.35 ms ± 71 µs per loop (mean ± std. dev. of 7 runs, 100 loops each)\n"
     ]
    }
   ],
   "source": [
    "# Torch\n",
    "print('PyTorch gradient only')\n",
    "sigmoid_torch_func = torch.nn.Sigmoid() # Get an instance of Sigmoid class for Pytorch\n",
    "sigmoid_torch_value = sigmoid_torch_func(X_torch)\n",
    "%timeit -n 100 torch_sigmoid_grad(sigmoid_torch_value, X_torch)\n",
    "\n",
    "# CrysX\n",
    "print('CrysX-NN (crysx_nn) gradient only')\n",
    "%timeit -n 100 Sigmoid_grad(X_crysx_nn)\n",
    "\n",
    "# Tensorflow\n",
    "print('Tensorflow gradient+value')\n",
    "with tf.GradientTape(persistent=False) as g:\n",
    "    g.watch(X_tf)\n",
    "    sigmoid_tf_value = tf.nn.sigmoid(X_tf)\n",
    "# %timeit -n 100 g.gradient(sigmoid_tf_value, X_tf) # Doesn't work due to multiple runs of timeit and tape not supporting it\n",
    "%timeit -n 100  tf_sigmoid_grad(X_tf)\n",
    "print('Tensorflow value only')\n",
    "%timeit -n 100 tf.keras.activations.sigmoid(X_tf)\n",
    "\n"
   ]
  },
  {
   "cell_type": "markdown",
   "id": "23e068d9",
   "metadata": {},
   "source": [
    "In the above, we see that PyTorch is again quite fast for a million element array. \n",
    "CrysX-NN gives decent performance.\n",
    "\n",
    "Tensorflow is a bit tricky. Due to `%timeit` requiring multiple runs, and tape being only restricted to a single run, I had to use the other implementation of gradient using tensorflow, where the `values+gradients` are computed.\n",
    "\n",
    "Therefore, to get a good idea of the tensorflow gradient performance I have also calculated the time taken by tensorflow for just evaluating the functions."
   ]
  },
  {
   "cell_type": "markdown",
   "id": "471c51dc",
   "metadata": {},
   "source": [
    "## Benchmark Softmax"
   ]
  },
  {
   "cell_type": "markdown",
   "id": "bc051da5",
   "metadata": {},
   "source": [
    "### Confirm that all frameworks give the same results"
   ]
  },
  {
   "cell_type": "code",
   "execution_count": 25,
   "id": "11dea3b4",
   "metadata": {},
   "outputs": [
    {
     "name": "stderr",
     "output_type": "stream",
     "text": [
      "C:\\Users\\manas\\anaconda3\\envs\\crysx_nn\\lib\\site-packages\\ipykernel_launcher.py:11: UserWarning: Implicit dimension choice for softmax has been deprecated. Change the call to include dim=X as an argument.\n",
      "  # This is added back by InteractiveShellApp.init_path()\n"
     ]
    },
    {
     "name": "stdout",
     "output_type": "stream",
     "text": [
      "Max abs diff b/w torch and tf 2.3283064e-09\n",
      "Max abs diff b/w torch and CrysX 2.4447218e-09\n"
     ]
    }
   ],
   "source": [
    "# Torch input\n",
    "X_torch = torch.rand((1000,1000),requires_grad=True)\n",
    "# CrysX-NN input\n",
    "X_crysx_nn = X_torch.cpu().detach().numpy()\n",
    "# Tensorflow input\n",
    "X_tf = tf.convert_to_tensor(X_crysx_nn, dtype=tf.float32)\n",
    "\n",
    "\n",
    "# Torch\n",
    "softmax_torch_func = torch.nn.Softmax() # Get an instance of Softmax class for Pytorch\n",
    "softmax_torch_value = softmax_torch_func(X_torch)\n",
    "\n",
    "# CrysX\n",
    "softmax_crysx_nn_value = Softmax(X_crysx_nn)\n",
    "\n",
    "# Tensorflow\n",
    "softmax_tf_value = tf.keras.activations.softmax(X_tf)\n",
    "\n",
    "#Diff b/w tf and torch\n",
    "print('Max abs diff b/w torch and tf', abs(softmax_torch_value.cpu().detach().numpy() - softmax_tf_value.numpy()).max())\n",
    "\n",
    "#Diff b/w crysx_nn and torch\n",
    "print('Max abs diff b/w torch and CrysX', abs(softmax_torch_value.cpu().detach().numpy() - softmax_crysx_nn_value).max())\n"
   ]
  },
  {
   "cell_type": "markdown",
   "id": "8342694b",
   "metadata": {},
   "source": [
    "### Compare performance"
   ]
  },
  {
   "cell_type": "code",
   "execution_count": 26,
   "id": "ee26df34",
   "metadata": {},
   "outputs": [
    {
     "name": "stdout",
     "output_type": "stream",
     "text": [
      "PyTorch\n"
     ]
    },
    {
     "name": "stderr",
     "output_type": "stream",
     "text": [
      "C:\\Users\\manas\\anaconda3\\envs\\crysx_nn\\lib\\site-packages\\ipykernel_launcher.py:1: UserWarning: Implicit dimension choice for softmax has been deprecated. Change the call to include dim=X as an argument.\n",
      "  \"\"\"Entry point for launching an IPython kernel.\n"
     ]
    },
    {
     "name": "stdout",
     "output_type": "stream",
     "text": [
      "2.3 ms ± 119 µs per loop (mean ± std. dev. of 7 runs, 100 loops each)\n",
      "CrysX-NN (crysx_nn)\n",
      "5.24 ms ± 784 µs per loop (mean ± std. dev. of 7 runs, 100 loops each)\n",
      "Tensorflow\n",
      "1.72 ms ± 159 µs per loop (mean ± std. dev. of 7 runs, 100 loops each)\n"
     ]
    }
   ],
   "source": [
    "# Torch\n",
    "print('PyTorch')\n",
    "softmax_torch_func = torch.nn.Softmax() # Get an instance of Softmax class for Pytorch\n",
    "%timeit -n 100 softmax_torch_func(X_torch)\n",
    "\n",
    "# CrysX\n",
    "print('CrysX-NN (crysx_nn)')\n",
    "%timeit -n 100 Softmax(X_crysx_nn)\n",
    "\n",
    "# Tensorflow\n",
    "print('Tensorflow')\n",
    "%timeit -n 100 tf.keras.activations.softmax(X_tf)\n"
   ]
  },
  {
   "cell_type": "markdown",
   "id": "b04227e4",
   "metadata": {},
   "source": [
    "### Compare performance with arrays of different sizes"
   ]
  },
  {
   "cell_type": "code",
   "execution_count": 27,
   "id": "1a10ab7e",
   "metadata": {},
   "outputs": [
    {
     "name": "stdout",
     "output_type": "stream",
     "text": [
      "20.2 µs ± 3.7 µs per loop (mean ± std. dev. of 7 runs, 100 loops each)\n",
      "2.85 µs ± 691 ns per loop (mean ± std. dev. of 7 runs, 100 loops each)\n",
      "12.2 µs ± 5.9 µs per loop (mean ± std. dev. of 7 runs, 100 loops each)\n"
     ]
    },
    {
     "name": "stderr",
     "output_type": "stream",
     "text": [
      "C:\\Users\\manas\\anaconda3\\envs\\crysx_nn\\lib\\site-packages\\ipykernel_launcher.py:1: UserWarning: Implicit dimension choice for softmax has been deprecated. Change the call to include dim=X as an argument.\n",
      "  \"\"\"Entry point for launching an IPython kernel.\n"
     ]
    },
    {
     "name": "stdout",
     "output_type": "stream",
     "text": [
      "589 µs ± 28.6 µs per loop (mean ± std. dev. of 7 runs, 100 loops each)\n",
      "805 µs ± 135 µs per loop (mean ± std. dev. of 7 runs, 100 loops each)\n",
      "236 µs ± 10.8 µs per loop (mean ± std. dev. of 7 runs, 100 loops each)\n",
      "2.68 ms ± 112 µs per loop (mean ± std. dev. of 7 runs, 100 loops each)\n",
      "5.41 ms ± 1.15 ms per loop (mean ± std. dev. of 7 runs, 100 loops each)\n",
      "1.2 ms ± 35.6 µs per loop (mean ± std. dev. of 7 runs, 100 loops each)\n",
      "5 ms ± 559 µs per loop (mean ± std. dev. of 7 runs, 100 loops each)\n",
      "14.4 ms ± 1.5 ms per loop (mean ± std. dev. of 7 runs, 100 loops each)\n",
      "3.18 ms ± 332 µs per loop (mean ± std. dev. of 7 runs, 100 loops each)\n",
      "9.49 ms ± 581 µs per loop (mean ± std. dev. of 7 runs, 100 loops each)\n",
      "24.3 ms ± 4.93 ms per loop (mean ± std. dev. of 7 runs, 100 loops each)\n",
      "6.27 ms ± 732 µs per loop (mean ± std. dev. of 7 runs, 100 loops each)\n"
     ]
    }
   ],
   "source": [
    "time_torch = []\n",
    "time_crysx_nn = []\n",
    "time_tf = []\n",
    "sizes = []\n",
    "\n",
    "for n_size in range(10,2500,500):\n",
    "    sizes.append(n_size*n_size)\n",
    "    # Torch input\n",
    "    X_torch = torch.rand((n_size,n_size),requires_grad=True)\n",
    "    # CrysX-NN input\n",
    "    X_crysx_nn = X_torch.cpu().detach().numpy()\n",
    "    # Tensorflow input\n",
    "    X_tf = tf.convert_to_tensor(X_crysx_nn, dtype=tf.float32)\n",
    "    \n",
    "    ##--Timings--\n",
    "    # Torch\n",
    "    softmax_torch_func = torch.nn.Softmax() # Get an instance of Sigmoid class for Pytorch\n",
    "    time = %timeit -n 100 -o softmax_torch_func(X_torch)\n",
    "    # For time of each run\n",
    "    time_torch.append(np.mean(time.timings)) \n",
    "    # For total time\n",
    "#     time_torch.append(np.mean(time.all_runs)) \n",
    "    # CrysX\n",
    "    time = %timeit -n 100 -o Softmax(X_crysx_nn)\n",
    "    # For time of each run\n",
    "    time_crysx_nn.append(np.mean(time.timings))\n",
    "    # Tensorflow\n",
    "    time = %timeit -n 100 -o tf.keras.activations.softmax(X_tf)\n",
    "    # For time of each run\n",
    "    time_tf.append(np.mean(time.timings))\n",
    "    "
   ]
  },
  {
   "cell_type": "markdown",
   "id": "0945ea7d",
   "metadata": {},
   "source": [
    "### Plot the results"
   ]
  },
  {
   "cell_type": "code",
   "execution_count": 28,
   "id": "9f943adc",
   "metadata": {},
   "outputs": [
    {
     "data": {
      "image/png": "[encoded data removed]",
      "text/plain": [
       "<Figure size 432x288 with 1 Axes>"
      ]
     },
     "metadata": {
      "needs_background": "light"
     },
     "output_type": "display_data"
    }
   ],
   "source": [
    "\n",
    "plt.plot(sizes,time_torch, label='PyTorch')\n",
    "plt.plot(sizes,time_crysx_nn, label='CrysX-NN')\n",
    "plt.plot(sizes,time_tf, label='Tensorflow')\n",
    "plt.legend()\n",
    "plt.xlabel('Array sizes')\n",
    "plt.ylabel('Average Time (seconds)')\n",
    "plt.title('Benchmark Softmax (CPU)')\n",
    "plt.show()\n",
    "plt.subplots_adjust(left=0.15)\n",
    "# plt.savefig(\"Softmax_GPU.png\")\n",
    "# files.download(\"Softmax_GPU.png\")"
   ]
  },
  {
   "cell_type": "markdown",
   "id": "8700c331",
   "metadata": {},
   "source": [
    "## Benchmark Softmax derivative (gradient) wrt input batch\n",
    "\n",
    "This is slightly tricky. \n",
    "PyTorch and Tensorflow don't explicitly come with a function that gives the gradient. \n",
    "Rather they use atuomatic differentiation.\n",
    "\n",
    "This is why, PyTorch would require the value of the output of the activation function as well, rather than just an input function.\n",
    "\n",
    "Therefore, it is not really evident if the timings can be taken as a good representative of the performance of PyTorch and Tensorflow frameworks.\n",
    "\n",
    "#### Update: Seems to be really problematic to get the jacobian of Softmax wrt inputs in an efficient manner using the PyTorch framework. \n",
    "\n",
    "There are ways in which you can do it, but they would be slow. (https://discuss.pytorch.org/t/how-to-compute-jacobian-matrix-in-pytorch/14968/16)\n",
    "\n",
    "So take the timing results with a grain of salt."
   ]
  },
  {
   "cell_type": "code",
   "execution_count": 29,
   "id": "13b2f623",
   "metadata": {},
   "outputs": [],
   "source": [
    "def tf_softmax_grad(z):\n",
    "#   z = tf.constant(z, dtype=tf.float32)\n",
    "    with tf.GradientTape() as g:\n",
    "        g.watch(z)\n",
    "        a = tf.nn.softmax(z) \n",
    "    jacob = g.batch_jacobian(a, z)\n",
    "    return jacob#.numpy()"
   ]
  },
  {
   "cell_type": "code",
   "execution_count": 30,
   "id": "f89cf585",
   "metadata": {},
   "outputs": [],
   "source": [
    "# Reference: https://discuss.pytorch.org/t/how-to-compute-jacobian-matrix-in-pytorch/14968/16\n",
    "def torch_softmax_grad(wrt):\n",
    "    jacobian = []\n",
    "    softmax_func = torch.nn.Softmax() # Get an instance of Softmax class for Pytorch\n",
    "    softmax_func.eval()\n",
    "    for i in range(wrt.shape[0]):\n",
    "        jac = torch.autograd.functional.jacobian(softmax_func, wrt[i])\n",
    "        jacobian.append(jac)\n",
    "        #\n",
    "    return torch.stack(jacobian, 0)"
   ]
  },
  {
   "cell_type": "markdown",
   "id": "80bc503e",
   "metadata": {},
   "source": [
    "### Confirm that all frameworks give the same results"
   ]
  },
  {
   "cell_type": "code",
   "execution_count": 31,
   "id": "46646649",
   "metadata": {},
   "outputs": [
    {
     "name": "stderr",
     "output_type": "stream",
     "text": [
      "C:\\Users\\manas\\anaconda3\\envs\\crysx_nn\\lib\\site-packages\\ipykernel_launcher.py:11: UserWarning: Implicit dimension choice for softmax has been deprecated. Change the call to include dim=X as an argument.\n",
      "  # This is added back by InteractiveShellApp.init_path()\n",
      "C:\\Users\\manas\\anaconda3\\envs\\crysx_nn\\lib\\site-packages\\torch\\autograd\\functional.py:482: UserWarning: Implicit dimension choice for softmax has been deprecated. Change the call to include dim=X as an argument.\n",
      "  outputs = func(*inputs)\n"
     ]
    },
    {
     "name": "stdout",
     "output_type": "stream",
     "text": [
      "Max abs diff b/w torch and tf 6.519258e-09\n",
      "Max abs diff b/w torch and CrysX 9.313226e-09\n"
     ]
    }
   ],
   "source": [
    "# Torch input\n",
    "X_torch = torch.rand((100,100),requires_grad=True)\n",
    "# CrysX-NN input\n",
    "X_crysx_nn = X_torch.cpu().detach().numpy()\n",
    "# Tensorflow input\n",
    "X_tf = tf.convert_to_tensor(X_crysx_nn, dtype=tf.float32)\n",
    "\n",
    "\n",
    "# Torch\n",
    "# softmax_torch_func = torch.nn.Softmax() # Get an instance of Softmax class for Pytorch\n",
    "softmax_torch_value = softmax_torch_func(X_torch)\n",
    "device = 'cpu'\n",
    "gradientsTorch = torch_softmax_grad(X_torch)#torch.autograd.grad(outputs=softmax_torch_value, inputs=X_torch,\n",
    "#                           grad_outputs=torch.ones(softmax_torch_value.size()).to(device),\n",
    "#                           create_graph=True, retain_graph=True, only_inputs=True)[0]\n",
    "# print(gradientsTorch)\n",
    "\n",
    "# CrysX\n",
    "# softmax_crysx_nn_value = Softmax(X_crysx_nn)\n",
    "gradientsCrysx = Softmax_grad(X_crysx_nn)\n",
    "# print(gradientsCrysx)\n",
    "\n",
    "# Tensorflow\n",
    "# softmax_tf_value = tf.nn.softmax(X_tf)\n",
    "gradientsTF = tf_softmax_grad(X_tf)\n",
    "# print(gradientsTF)\n",
    "\n",
    "#Diff b/w tf and torch\n",
    "print('Max abs diff b/w torch and tf', abs(gradientsTorch.cpu().detach().numpy() - gradientsTF.numpy()).max())\n",
    "\n",
    "#Diff b/w crysx_nn and torch\n",
    "print('Max abs diff b/w torch and CrysX', abs(gradientsTorch.cpu().detach().numpy() - gradientsCrysx).max())\n"
   ]
  },
  {
   "cell_type": "markdown",
   "id": "d6840bff",
   "metadata": {},
   "source": [
    "### Compare performance\n",
    "\n",
    "Since, CrysX-NN also requires the calculation of softmax function, therefore we should also include this calculation time for PyTorch and Tensorflow.\n",
    "\n",
    "I would like to stress here again, that I am not really sure if the autodifferentiated implementations of softmax gradients that I have used, are a good representative of the real-world performance or not. \n",
    "\n",
    "Especially, the torch jacobian would be extreeeemely slowww due to the for loops. But tensorflow implementation isn't that fast either.\n",
    "\n",
    "So we would skip the plots of timings vs array_size for benchmarks."
   ]
  },
  {
   "cell_type": "code",
   "execution_count": 32,
   "id": "a3bc5811",
   "metadata": {},
   "outputs": [
    {
     "name": "stdout",
     "output_type": "stream",
     "text": [
      "PyTorch\n"
     ]
    },
    {
     "name": "stderr",
     "output_type": "stream",
     "text": [
      "C:\\Users\\manas\\anaconda3\\envs\\crysx_nn\\lib\\site-packages\\torch\\autograd\\functional.py:482: UserWarning: Implicit dimension choice for softmax has been deprecated. Change the call to include dim=X as an argument.\n",
      "  outputs = func(*inputs)\n"
     ]
    },
    {
     "name": "stdout",
     "output_type": "stream",
     "text": [
      "310 ms ± 12.7 ms per loop (mean ± std. dev. of 7 runs, 10 loops each)\n",
      "CrysX-NN (crysx_nn)\n",
      "3.75 ms ± 431 µs per loop (mean ± std. dev. of 7 runs, 10 loops each)\n",
      "Tensorflow\n",
      "239 ms ± 19.2 ms per loop (mean ± std. dev. of 7 runs, 10 loops each)\n"
     ]
    }
   ],
   "source": [
    "# Torch\n",
    "print('PyTorch')\n",
    "%timeit -n 10 torch_softmax_grad(X_torch)\n",
    "\n",
    "# CrysX\n",
    "print('CrysX-NN (crysx_nn)')\n",
    "%timeit -n 10 Softmax_grad(X_crysx_nn)\n",
    "\n",
    "# Tensorflow\n",
    "print('Tensorflow')\n",
    "%timeit -n 10 tf_softmax_grad(X_tf)\n"
   ]
  },
  {
   "cell_type": "markdown",
   "id": "f9e9a21b",
   "metadata": {},
   "source": [
    "## Benchmark Tanh"
   ]
  },
  {
   "cell_type": "markdown",
   "id": "dec57844",
   "metadata": {},
   "source": [
    "### Confirm that all frameworks give the same results"
   ]
  },
  {
   "cell_type": "code",
   "execution_count": 33,
   "id": "72a27005",
   "metadata": {},
   "outputs": [
    {
     "name": "stdout",
     "output_type": "stream",
     "text": [
      "Max abs diff b/w torch and tf 1.7881393e-07\n",
      "Max abs diff b/w torch and CrysX 5.9604645e-08\n"
     ]
    }
   ],
   "source": [
    "# Torch input\n",
    "X_torch = torch.rand((1000,1000),requires_grad=True)\n",
    "# CrysX-NN input\n",
    "X_crysx_nn = X_torch.cpu().detach().numpy()\n",
    "# Tensorflow input\n",
    "X_tf = tf.convert_to_tensor(X_crysx_nn, dtype=tf.float32)\n",
    "\n",
    "# Torch\n",
    "tanh_torch_func = torch.nn.Tanh() # Get an instance of ReLU class for Pytorch\n",
    "tanh_torch_value = tanh_torch_func(X_torch)\n",
    "\n",
    "# CrysX\n",
    "tanh_crysx_nn_value = Tanh(X_crysx_nn)\n",
    "\n",
    "# Tensorflow\n",
    "tanh_tf_value = tf.nn.tanh(X_tf)#tf.keras.activations.relu(X_tf)\n",
    "\n",
    "#Diff b/w tf and torch\n",
    "print('Max abs diff b/w torch and tf', abs(tanh_torch_value.cpu().detach().numpy() - tanh_tf_value.numpy()).max())\n",
    "\n",
    "#Diff b/w crysx_nn and torch\n",
    "print('Max abs diff b/w torch and CrysX', abs(tanh_torch_value.cpu().detach().numpy() - tanh_crysx_nn_value).max())"
   ]
  },
  {
   "cell_type": "markdown",
   "id": "66d80d59",
   "metadata": {},
   "source": [
    "### Compare performance"
   ]
  },
  {
   "cell_type": "code",
   "execution_count": 34,
   "id": "99ff7e27",
   "metadata": {},
   "outputs": [
    {
     "name": "stdout",
     "output_type": "stream",
     "text": [
      "PyTorch\n",
      "657 µs ± 134 µs per loop (mean ± std. dev. of 7 runs, 1000 loops each)\n",
      "CrysX-NN (crysx_nn)\n",
      "1.87 ms ± 257 µs per loop (mean ± std. dev. of 7 runs, 1000 loops each)\n",
      "Tensorflow\n",
      "979 µs ± 128 µs per loop (mean ± std. dev. of 7 runs, 1000 loops each)\n"
     ]
    }
   ],
   "source": [
    "# Torch\n",
    "print('PyTorch')\n",
    "tanh_torch_func = torch.nn.Tanh() # Get an instance of ReLU class for Pytorch\n",
    "%timeit -n 1000 tanh_torch_func(X_torch)\n",
    "\n",
    "# CrysX\n",
    "print('CrysX-NN (crysx_nn)')\n",
    "%timeit -n 1000 Tanh(X_crysx_nn)\n",
    "\n",
    "# Tensorflow\n",
    "print('Tensorflow')\n",
    "%timeit -n 1000 tf.keras.activations.tanh(X_tf)\n"
   ]
  },
  {
   "cell_type": "markdown",
   "id": "27f58c80",
   "metadata": {},
   "source": [
    "### Compare performance with arrays of different sizes"
   ]
  },
  {
   "cell_type": "code",
   "execution_count": 35,
   "id": "60dd5b22",
   "metadata": {},
   "outputs": [
    {
     "name": "stdout",
     "output_type": "stream",
     "text": [
      "5.17 µs ± 782 ns per loop (mean ± std. dev. of 7 runs, 500 loops each)\n",
      "1.29 µs ± 40.9 ns per loop (mean ± std. dev. of 7 runs, 500 loops each)\n",
      "3.97 µs ± 231 ns per loop (mean ± std. dev. of 7 runs, 500 loops each)\n",
      "37.4 µs ± 3.18 µs per loop (mean ± std. dev. of 7 runs, 500 loops each)\n",
      "376 µs ± 8.4 µs per loop (mean ± std. dev. of 7 runs, 500 loops each)\n",
      "59.7 µs ± 2.08 µs per loop (mean ± std. dev. of 7 runs, 500 loops each)\n",
      "733 µs ± 111 µs per loop (mean ± std. dev. of 7 runs, 500 loops each)\n",
      "1.91 ms ± 215 µs per loop (mean ± std. dev. of 7 runs, 500 loops each)\n",
      "922 µs ± 93.4 µs per loop (mean ± std. dev. of 7 runs, 500 loops each)\n",
      "1.39 ms ± 177 µs per loop (mean ± std. dev. of 7 runs, 500 loops each)\n",
      "3.86 ms ± 163 µs per loop (mean ± std. dev. of 7 runs, 500 loops each)\n",
      "1.54 ms ± 147 µs per loop (mean ± std. dev. of 7 runs, 500 loops each)\n",
      "2.9 ms ± 606 µs per loop (mean ± std. dev. of 7 runs, 500 loops each)\n",
      "8.02 ms ± 1.11 ms per loop (mean ± std. dev. of 7 runs, 500 loops each)\n",
      "2.93 ms ± 254 µs per loop (mean ± std. dev. of 7 runs, 500 loops each)\n",
      "5.25 ms ± 771 µs per loop (mean ± std. dev. of 7 runs, 500 loops each)\n",
      "11.6 ms ± 1.71 ms per loop (mean ± std. dev. of 7 runs, 500 loops each)\n",
      "3.78 ms ± 332 µs per loop (mean ± std. dev. of 7 runs, 500 loops each)\n"
     ]
    }
   ],
   "source": [
    "time_torch = []\n",
    "time_crysx_nn = []\n",
    "time_tf = []\n",
    "sizes = []\n",
    "\n",
    "for n_size in range(10,3000,500):\n",
    "    sizes.append(n_size*n_size)\n",
    "    # Torch input\n",
    "    X_torch = torch.rand((n_size,n_size),requires_grad=True)\n",
    "    # CrysX-NN input\n",
    "    X_crysx_nn = X_torch.cpu().detach().numpy()\n",
    "    # Tensorflow input\n",
    "    X_tf = tf.convert_to_tensor(X_crysx_nn, dtype=tf.float32)\n",
    "    \n",
    "    ##--Timings--\n",
    "    # Torch\n",
    "    tanh_torch_func = torch.nn.Tanh() # Get an instance of ReLU class for Pytorch\n",
    "    time = %timeit -n 500 -o tanh_torch_func(X_torch)\n",
    "    # For time of each run\n",
    "    time_torch.append(np.mean(time.timings)) \n",
    "    # For total time\n",
    "#     time_torch.append(np.mean(time.all_runs)) \n",
    "    # CrysX\n",
    "    time = %timeit -n 500 -o Tanh(X_crysx_nn)\n",
    "    # For time of each run\n",
    "    time_crysx_nn.append(np.mean(time.timings))\n",
    "    # Tensorflow\n",
    "    with tf.device(\"cpu:0\"):\n",
    "        time = %timeit -n 500 -o tf.nn.tanh(X_tf)\n",
    "    # For time of each run\n",
    "    time_tf.append(np.mean(time.timings))"
   ]
  },
  {
   "cell_type": "markdown",
   "id": "1b2b28e7",
   "metadata": {},
   "source": [
    "### Plot the results"
   ]
  },
  {
   "cell_type": "code",
   "execution_count": 36,
   "id": "39ba8dcd",
   "metadata": {
    "scrolled": true
   },
   "outputs": [
    {
     "data": {
      "image/png": "[encoded data removed]",
      "text/plain": [
       "<Figure size 432x288 with 1 Axes>"
      ]
     },
     "metadata": {
      "needs_background": "light"
     },
     "output_type": "display_data"
    }
   ],
   "source": [
    "\n",
    "plt.plot(sizes,time_torch, label='PyTorch')\n",
    "plt.plot(sizes,time_crysx_nn, label='CrysX-NN')\n",
    "plt.plot(sizes,time_tf, label='Tensorflow')\n",
    "plt.legend()\n",
    "plt.xlabel('Array sizes')\n",
    "plt.ylabel('Average Time (seconds)')\n",
    "plt.title('Benchmark Tanh (CPU)')\n",
    "plt.show()\n",
    "plt.subplots_adjust(left=0.15)\n",
    "# plt.savefig(\"Tanh_CPU.png\")\n",
    "# files.download(\"Tanh_CPU.png\")"
   ]
  },
  {
   "cell_type": "markdown",
   "id": "151e920a",
   "metadata": {},
   "source": [
    "## Benchmark Tanh derivative (gradient) wrt input batch\n",
    "\n",
    "This is slightly tricky. \n",
    "PyTorch and Tensorflow don't explicitly come with a function that gives the gradient. \n",
    "Rather they use atuomatic differentiation.\n",
    "\n",
    "This is why, PyTorch would require the value of the output of the activation function as well, rather than just an input function. \n",
    "\n",
    "I will try to do the timings in a way that we can exclude this time from results.\n",
    "\n",
    "However, it is still not really evident if the timings can be taken as a good representative of the performance of PyTorch and Tensorflow frameworks.\n",
    "\n",
    "So take the timing results with a grain of salt."
   ]
  },
  {
   "cell_type": "code",
   "execution_count": 37,
   "id": "7bb78329",
   "metadata": {},
   "outputs": [],
   "source": [
    "def tf_tanh_grad(x):\n",
    "    with tf.GradientTape() as g:\n",
    "        g.watch(x)\n",
    "        tanh_values = tf.nn.tanh(x)\n",
    "    grad = g.gradient(tanh_values, x)\n",
    "    return grad#.numpy()"
   ]
  },
  {
   "cell_type": "code",
   "execution_count": 38,
   "id": "a57dd408",
   "metadata": {},
   "outputs": [],
   "source": [
    "def torch_tanh_grad(tanh_values, x):\n",
    "    device='cpu'\n",
    "    gradient = torch.autograd.grad(outputs=tanh_values, inputs=x,\n",
    "                          grad_outputs=torch.ones(tanh_values.size()).to(device),\n",
    "                          create_graph=True, retain_graph=True, only_inputs=True)[0]\n",
    "    return gradient"
   ]
  },
  {
   "cell_type": "markdown",
   "id": "5823b172",
   "metadata": {},
   "source": [
    "### Confirm that all frameworks give the same results"
   ]
  },
  {
   "cell_type": "code",
   "execution_count": 39,
   "id": "07321f6c",
   "metadata": {},
   "outputs": [
    {
     "name": "stdout",
     "output_type": "stream",
     "text": [
      "Max abs diff b/w torch and tf 2.9802322e-07\n",
      "Max abs diff b/w torch and CrysX 1.1920928955078125e-07\n"
     ]
    }
   ],
   "source": [
    "# Torch input\n",
    "X_torch = torch.rand((1000,1000),requires_grad=True)\n",
    "# CrysX-NN input\n",
    "X_crysx_nn = X_torch.cpu().detach().numpy()\n",
    "# Tensorflow input\n",
    "X_tf = tf.convert_to_tensor(X_crysx_nn, dtype=tf.float32)\n",
    "\n",
    "\n",
    "# Torch\n",
    "tanh_torch_func = torch.nn.Tanh() # Get an instance of ReLU class for Pytorch\n",
    "tanh_torch_value = tanh_torch_func(X_torch)\n",
    "gradientsTorch = torch_tanh_grad(tanh_torch_value, X_torch)\n",
    "# print(gradientsTorch)\n",
    "\n",
    "# CrysX\n",
    "# softmax_crysx_nn_value = Softmax(X_crysx_nn)\n",
    "gradientsCrysx = Tanh_grad(X_crysx_nn)\n",
    "# print(gradientsCrysx)\n",
    "\n",
    "# Tensorflow\n",
    "gradientsTF = tf_tanh_grad(X_tf) # requires a computation of sigmoid values again\n",
    "with tf.GradientTape() as g:\n",
    "    g.watch(X_tf)\n",
    "    tanh_tf_value = tf.nn.tanh(X_tf)\n",
    "gradientsTF = g.gradient(tanh_tf_value, X_tf)\n",
    "del g\n",
    "# print(gradientsTF)\n",
    "\n",
    "#Diff b/w tf and torch\n",
    "print('Max abs diff b/w torch and tf', abs(gradientsTorch.cpu().detach().numpy() - gradientsTF.numpy()).max())\n",
    "\n",
    "#Diff b/w crysx_nn and torch\n",
    "print('Max abs diff b/w torch and CrysX', abs(gradientsTorch.cpu().detach().numpy() - gradientsCrysx).max())\n"
   ]
  },
  {
   "cell_type": "markdown",
   "id": "9f5a541e",
   "metadata": {},
   "source": [
    "### Compare performance\n",
    "\n",
    "I would like to stress here again, that I am not really sure if the autodifferentiated implementations of Tanh gradients that I have used, are a good representative of the real-world performance or not. \n",
    "\n",
    "\n",
    "So we would skip the plots of timings vs array_size for benchmarks."
   ]
  },
  {
   "cell_type": "code",
   "execution_count": 40,
   "id": "4e6ae972",
   "metadata": {},
   "outputs": [
    {
     "name": "stdout",
     "output_type": "stream",
     "text": [
      "PyTorch gradient only\n",
      "1.24 ms ± 114 µs per loop (mean ± std. dev. of 7 runs, 100 loops each)\n",
      "CrysX-NN (crysx_nn) gradient only\n",
      "2.37 ms ± 194 µs per loop (mean ± std. dev. of 7 runs, 100 loops each)\n",
      "Tensorflow gradient+value\n",
      "2.72 ms ± 143 µs per loop (mean ± std. dev. of 7 runs, 100 loops each)\n",
      "Tensorflow value only\n",
      "821 µs ± 19.8 µs per loop (mean ± std. dev. of 7 runs, 100 loops each)\n"
     ]
    }
   ],
   "source": [
    "# Torch\n",
    "print('PyTorch gradient only')\n",
    "tanh_torch_func = torch.nn.Tanh() # Get an instance of ReLU class for Pytorch\n",
    "tanh_torch_value = tanh_torch_func(X_torch)\n",
    "%timeit -n 100 torch_tanh_grad(tanh_torch_value, X_torch)\n",
    "\n",
    "# CrysX\n",
    "print('CrysX-NN (crysx_nn) gradient only')\n",
    "%timeit -n 100 Tanh_grad(X_crysx_nn)\n",
    "\n",
    "# Tensorflow\n",
    "print('Tensorflow gradient+value')\n",
    "with tf.GradientTape(persistent=False) as g:\n",
    "    g.watch(X_tf)\n",
    "    tanh_tf_value = tf.nn.tanh(X_tf)\n",
    "# %timeit -n 100 g.gradient(relu_tf_value, X_tf) # Doesn't work due to multiple runs of timeit and tape not supporting it\n",
    "%timeit -n 100  tf_tanh_grad(X_tf)\n",
    "\n",
    "print('Tensorflow value only')\n",
    "%timeit -n 100 tf.keras.activations.tanh(X_tf)\n"
   ]
  },
  {
   "cell_type": "markdown",
   "id": "57dea6f8",
   "metadata": {},
   "source": [
    "In the above, we see that PyTorch is again quite fast a million element array. \n",
    "CrysX-NN gives decent performance.\n",
    "\n",
    "Tensorflow is a bit tricky. Due to `%timeit` requiring multiple runs, and tape being only restricted to a single run, I had to use the other implementation of gradient using tensorflow, where the `values+gradients` are computed.\n",
    "\n",
    "Therefore, to get a good idea of the tensorflow gradient performance I have also calculated the time taken by tensorflow for just evaluating the functions."
   ]
  },
  {
   "cell_type": "markdown",
   "id": "06358ac5",
   "metadata": {},
   "source": [
    "## Benchmark Identity"
   ]
  },
  {
   "cell_type": "markdown",
   "id": "d5b6e3ca",
   "metadata": {},
   "source": [
    "### Confirm that all frameworks give the same results"
   ]
  },
  {
   "cell_type": "code",
   "execution_count": 41,
   "id": "84fd89ee",
   "metadata": {},
   "outputs": [
    {
     "name": "stdout",
     "output_type": "stream",
     "text": [
      "Max abs diff b/w torch and tf 0.0\n",
      "Max abs diff b/w torch and CrysX 0.0\n"
     ]
    }
   ],
   "source": [
    "# Torch input\n",
    "X_torch = torch.rand((1000,1000),requires_grad=True)\n",
    "# CrysX-NN input\n",
    "X_crysx_nn = X_torch.cpu().detach().numpy()\n",
    "# Tensorflow input\n",
    "X_tf = tf.convert_to_tensor(X_crysx_nn, dtype=tf.float32)\n",
    "\n",
    "# Torch\n",
    "identity_torch_func = torch.nn.Identity() # Get an instance of ReLU class for Pytorch\n",
    "identity_torch_value = identity_torch_func(X_torch)\n",
    "\n",
    "# CrysX\n",
    "identity_crysx_nn_value = Identity(X_crysx_nn)\n",
    "\n",
    "# Tensorflow\n",
    "identity_tf_value = tf.identity(X_tf)#tf.keras.activations.relu(X_tf)\n",
    "\n",
    "#Diff b/w tf and torch\n",
    "print('Max abs diff b/w torch and tf', abs(identity_torch_value.cpu().detach().numpy() - identity_tf_value.numpy()).max())\n",
    "\n",
    "#Diff b/w crysx_nn and torch\n",
    "print('Max abs diff b/w torch and CrysX', abs(identity_torch_value.cpu().detach().numpy() - identity_crysx_nn_value).max())"
   ]
  },
  {
   "cell_type": "markdown",
   "id": "074ab371",
   "metadata": {},
   "source": [
    "### Compare performance"
   ]
  },
  {
   "cell_type": "code",
   "execution_count": 42,
   "id": "943db449",
   "metadata": {},
   "outputs": [
    {
     "name": "stdout",
     "output_type": "stream",
     "text": [
      "PyTorch\n",
      "530 ns ± 3.26 ns per loop (mean ± std. dev. of 7 runs, 1000 loops each)\n",
      "CrysX-NN (crysx_nn)\n",
      "450 ns ± 16.2 ns per loop (mean ± std. dev. of 7 runs, 1000 loops each)\n",
      "Tensorflow\n",
      "5.15 µs ± 357 ns per loop (mean ± std. dev. of 7 runs, 1000 loops each)\n"
     ]
    }
   ],
   "source": [
    "# Torch\n",
    "print('PyTorch')\n",
    "identity_torch_func = torch.nn.Identity() # Get an instance of ReLU class for Pytorch\n",
    "%timeit -n 1000 identity_torch_func(X_torch)\n",
    "\n",
    "# CrysX\n",
    "print('CrysX-NN (crysx_nn)')\n",
    "%timeit -n 1000 Identity(X_crysx_nn)\n",
    "\n",
    "# Tensorflow\n",
    "print('Tensorflow')\n",
    "%timeit -n 1000 tf.identity(X_tf)\n"
   ]
  },
  {
   "cell_type": "markdown",
   "id": "a9f5c19b",
   "metadata": {},
   "source": [
    "### Compare performance with arrays of different sizes"
   ]
  },
  {
   "cell_type": "code",
   "execution_count": 43,
   "id": "b8c6b60e",
   "metadata": {},
   "outputs": [
    {
     "name": "stdout",
     "output_type": "stream",
     "text": [
      "551 ns ± 19.8 ns per loop (mean ± std. dev. of 7 runs, 500 loops each)\n",
      "474 ns ± 14.2 ns per loop (mean ± std. dev. of 7 runs, 500 loops each)\n",
      "7.23 µs ± 1.93 µs per loop (mean ± std. dev. of 7 runs, 500 loops each)\n",
      "519 ns ± 2.75 ns per loop (mean ± std. dev. of 7 runs, 500 loops each)\n",
      "438 ns ± 5.26 ns per loop (mean ± std. dev. of 7 runs, 500 loops each)\n",
      "5.22 µs ± 402 ns per loop (mean ± std. dev. of 7 runs, 500 loops each)\n",
      "542 ns ± 2.95 ns per loop (mean ± std. dev. of 7 runs, 500 loops each)\n",
      "452 ns ± 2.81 ns per loop (mean ± std. dev. of 7 runs, 500 loops each)\n",
      "5.28 µs ± 54.9 ns per loop (mean ± std. dev. of 7 runs, 500 loops each)\n",
      "656 ns ± 122 ns per loop (mean ± std. dev. of 7 runs, 500 loops each)\n",
      "485 ns ± 46.8 ns per loop (mean ± std. dev. of 7 runs, 500 loops each)\n",
      "5.4 µs ± 148 ns per loop (mean ± std. dev. of 7 runs, 500 loops each)\n",
      "558 ns ± 14.3 ns per loop (mean ± std. dev. of 7 runs, 500 loops each)\n",
      "532 ns ± 154 ns per loop (mean ± std. dev. of 7 runs, 500 loops each)\n",
      "5.34 µs ± 140 ns per loop (mean ± std. dev. of 7 runs, 500 loops each)\n",
      "556 ns ± 4.38 ns per loop (mean ± std. dev. of 7 runs, 500 loops each)\n",
      "477 ns ± 24.9 ns per loop (mean ± std. dev. of 7 runs, 500 loops each)\n",
      "5.32 µs ± 151 ns per loop (mean ± std. dev. of 7 runs, 500 loops each)\n"
     ]
    }
   ],
   "source": [
    "time_torch = []\n",
    "time_crysx_nn = []\n",
    "time_tf = []\n",
    "sizes = []\n",
    "\n",
    "for n_size in range(10,3000,500):\n",
    "    sizes.append(n_size*n_size)\n",
    "    # Torch input\n",
    "    X_torch = torch.rand((n_size,n_size),requires_grad=True)\n",
    "    # CrysX-NN input\n",
    "    X_crysx_nn = X_torch.cpu().detach().numpy()\n",
    "    # Tensorflow input\n",
    "    X_tf = tf.convert_to_tensor(X_crysx_nn, dtype=tf.float32)\n",
    "    \n",
    "    ##--Timings--\n",
    "    # Torch\n",
    "    identity_torch_func = torch.nn.Identity() # Get an instance of ReLU class for Pytorch\n",
    "    time = %timeit -n 500 -o identity_torch_func(X_torch)\n",
    "    # For time of each run\n",
    "    time_torch.append(np.mean(time.timings)) \n",
    "    # For total time\n",
    "#     time_torch.append(np.mean(time.all_runs)) \n",
    "    # CrysX\n",
    "    time = %timeit -n 500 -o Identity(X_crysx_nn)\n",
    "    # For time of each run\n",
    "    time_crysx_nn.append(np.mean(time.timings))\n",
    "    # Tensorflow\n",
    "    with tf.device(\"cpu:0\"):\n",
    "        time = %timeit -n 500 -o tf.identity(X_tf)\n",
    "    # For time of each run\n",
    "    time_tf.append(np.mean(time.timings))"
   ]
  },
  {
   "cell_type": "markdown",
   "id": "25a44760",
   "metadata": {},
   "source": [
    "### Plot the results"
   ]
  },
  {
   "cell_type": "code",
   "execution_count": 44,
   "id": "be866911",
   "metadata": {
    "scrolled": true
   },
   "outputs": [
    {
     "data": {
      "image/png": "[encoded data removed]",
      "text/plain": [
       "<Figure size 432x288 with 1 Axes>"
      ]
     },
     "metadata": {
      "needs_background": "light"
     },
     "output_type": "display_data"
    }
   ],
   "source": [
    "\n",
    "plt.plot(sizes,time_torch, label='PyTorch')\n",
    "plt.plot(sizes,time_crysx_nn, label='CrysX-NN')\n",
    "plt.plot(sizes,time_tf, label='Tensorflow')\n",
    "plt.legend()\n",
    "plt.xlabel('Array sizes')\n",
    "plt.ylabel('Average Time (seconds)')\n",
    "plt.title('Benchmark Identity (CPU)')\n",
    "plt.show()\n",
    "plt.subplots_adjust(left=0.15)\n",
    "# plt.savefig(\"Identity_CPU.png\")\n",
    "# files.download(\"Identity_CPU.png\")"
   ]
  },
  {
   "cell_type": "markdown",
   "id": "63121caa",
   "metadata": {},
   "source": [
    "## Benchmark Identity derivative (gradient) wrt input batch\n",
    "\n",
    "This is slightly tricky. \n",
    "PyTorch and Tensorflow don't explicitly come with a function that gives the gradient. \n",
    "Rather they use atuomatic differentiation.\n",
    "\n",
    "This is why, PyTorch would require the value of the output of the activation function as well, rather than just an input function. \n",
    "\n",
    "I will try to do the timings in a way that we can exclude this time from results.\n",
    "\n",
    "However, it is still not really evident if the timings can be taken as a good representative of the performance of PyTorch and Tensorflow frameworks.\n",
    "\n",
    "So take the timing results with a grain of salt."
   ]
  },
  {
   "cell_type": "code",
   "execution_count": 45,
   "id": "377372d9",
   "metadata": {},
   "outputs": [],
   "source": [
    "def tf_identity_grad(x):\n",
    "    with tf.GradientTape() as g:\n",
    "        g.watch(x)\n",
    "        identity_values = tf.identity(x)\n",
    "    grad = g.gradient(identity_values, x)\n",
    "    return grad#.numpy()"
   ]
  },
  {
   "cell_type": "code",
   "execution_count": 46,
   "id": "665b91ef",
   "metadata": {},
   "outputs": [],
   "source": [
    "def torch_identity_grad(identity_values, x):\n",
    "    device='cpu'\n",
    "    gradient = torch.autograd.grad(outputs=identity_values, inputs=x,\n",
    "                          grad_outputs=torch.ones(identity_values.size()).to(device),\n",
    "                          create_graph=True, retain_graph=True, only_inputs=True)[0]\n",
    "    return gradient"
   ]
  },
  {
   "cell_type": "markdown",
   "id": "ea77b6b9",
   "metadata": {},
   "source": [
    "### Confirm that all frameworks give the same results"
   ]
  },
  {
   "cell_type": "code",
   "execution_count": 47,
   "id": "981cbdb1",
   "metadata": {},
   "outputs": [
    {
     "name": "stdout",
     "output_type": "stream",
     "text": [
      "Max abs diff b/w torch and tf 0.0\n",
      "Max abs diff b/w torch and CrysX 0.0\n"
     ]
    }
   ],
   "source": [
    "# Torch input\n",
    "X_torch = torch.rand((1000,1000),requires_grad=True)\n",
    "# CrysX-NN input\n",
    "X_crysx_nn = X_torch.cpu().detach().numpy()\n",
    "# Tensorflow input\n",
    "X_tf = tf.convert_to_tensor(X_crysx_nn, dtype=tf.float32)\n",
    "\n",
    "\n",
    "# Torch\n",
    "identity_torch_func = torch.nn.Identity() # Get an instance of ReLU class for Pytorch\n",
    "identity_torch_value = identity_torch_func(X_torch)\n",
    "gradientsTorch = torch_identity_grad(identity_torch_value, X_torch)\n",
    "# print(gradientsTorch)\n",
    "\n",
    "# CrysX\n",
    "# softmax_crysx_nn_value = Softmax(X_crysx_nn)\n",
    "gradientsCrysx = Identity_grad(X_crysx_nn)\n",
    "# print(gradientsCrysx)\n",
    "\n",
    "# Tensorflow\n",
    "gradientsTF = tf_identity_grad(X_tf) # requires a computation of sigmoid values again\n",
    "with tf.GradientTape() as g:\n",
    "    g.watch(X_tf)\n",
    "    identity_tf_value = tf.identity(X_tf)\n",
    "gradientsTF = g.gradient(identity_tf_value, X_tf)\n",
    "del g\n",
    "# print(gradientsTF)\n",
    "\n",
    "#Diff b/w tf and torch\n",
    "print('Max abs diff b/w torch and tf', abs(gradientsTorch.cpu().detach().numpy() - gradientsTF.numpy()).max())\n",
    "\n",
    "#Diff b/w crysx_nn and torch\n",
    "print('Max abs diff b/w torch and CrysX', abs(gradientsTorch.cpu().detach().numpy() - gradientsCrysx).max())\n"
   ]
  },
  {
   "cell_type": "markdown",
   "id": "e8ff0499",
   "metadata": {},
   "source": [
    "### Compare performance\n",
    "\n",
    "I would like to stress here again, that I am not really sure if the autodifferentiated implementations of Identity gradients that I have used, are a good representative of the real-world performance or not. \n",
    "\n",
    "\n",
    "So we would skip the plots of timings vs array_size for benchmarks."
   ]
  },
  {
   "cell_type": "code",
   "execution_count": 48,
   "id": "d4a41f20",
   "metadata": {},
   "outputs": [
    {
     "name": "stdout",
     "output_type": "stream",
     "text": [
      "PyTorch gradient only\n",
      "548 µs ± 24.1 µs per loop (mean ± std. dev. of 7 runs, 100 loops each)\n",
      "CrysX-NN (crysx_nn) gradient only\n",
      "1.56 ms ± 97.8 µs per loop (mean ± std. dev. of 7 runs, 100 loops each)\n",
      "Tensorflow gradient+value\n",
      "952 µs ± 35.8 µs per loop (mean ± std. dev. of 7 runs, 100 loops each)\n",
      "Tensorflow value only\n",
      "5.69 µs ± 1.18 µs per loop (mean ± std. dev. of 7 runs, 100 loops each)\n"
     ]
    }
   ],
   "source": [
    "# Torch\n",
    "print('PyTorch gradient only')\n",
    "identity_torch_func = torch.nn.Identity() # Get an instance of ReLU class for Pytorch\n",
    "identity_torch_value = identity_torch_func(X_torch)\n",
    "%timeit -n 100 torch_identity_grad(identity_torch_value, X_torch)\n",
    "\n",
    "# CrysX\n",
    "print('CrysX-NN (crysx_nn) gradient only')\n",
    "%timeit -n 100 Identity_grad(X_crysx_nn)\n",
    "\n",
    "# Tensorflow\n",
    "print('Tensorflow gradient+value')\n",
    "with tf.GradientTape(persistent=False) as g:\n",
    "    g.watch(X_tf)\n",
    "    identity_tf_value = tf.identity(X_tf)\n",
    "# %timeit -n 100 g.gradient(relu_tf_value, X_tf) # Doesn't work due to multiple runs of timeit and tape not supporting it\n",
    "%timeit -n 100  tf_identity_grad(X_tf)\n",
    "\n",
    "print('Tensorflow value only')\n",
    "%timeit -n 100 tf.identity(X_tf)\n"
   ]
  },
  {
   "cell_type": "markdown",
   "id": "7d5e0563",
   "metadata": {},
   "source": [
    "In the above, we see that PyTorch is again quite fast a million element array. \n",
    "CrysX-NN gives decent performance.\n",
    "\n",
    "Tensorflow is a bit tricky. Due to `%timeit` requiring multiple runs, and tape being only restricted to a single run, I had to use the other implementation of gradient using tensorflow, where the `values+gradients` are computed.\n",
    "\n",
    "Therefore, to get a good idea of the tensorflow gradient performance I have also calculated the time taken by tensorflow for just evaluating the functions."
   ]
  },
  {
   "cell_type": "markdown",
   "id": "dbf02274",
   "metadata": {},
   "source": [
    "## Benchmark Softplus"
   ]
  },
  {
   "cell_type": "markdown",
   "id": "d244e5fe",
   "metadata": {},
   "source": [
    "### Confirm that all frameworks give the same results"
   ]
  },
  {
   "cell_type": "code",
   "execution_count": 49,
   "id": "9a904d20",
   "metadata": {},
   "outputs": [
    {
     "name": "stdout",
     "output_type": "stream",
     "text": [
      "Max abs diff b/w torch and tf 1.1920929e-07\n",
      "Max abs diff b/w torch and CrysX 1.1920929e-07\n"
     ]
    }
   ],
   "source": [
    "# Torch input\n",
    "X_torch = torch.rand((1000,1000),requires_grad=True)\n",
    "# CrysX-NN input\n",
    "X_crysx_nn = X_torch.cpu().detach().numpy()\n",
    "# Tensorflow input\n",
    "X_tf = tf.convert_to_tensor(X_crysx_nn, dtype=tf.float32)\n",
    "\n",
    "# Torch\n",
    "softplus_torch_func = torch.nn.Softplus() # Get an instance of ReLU class for Pytorch\n",
    "softplus_torch_value = softplus_torch_func(X_torch)\n",
    "\n",
    "# CrysX\n",
    "softplus_crysx_nn_value = Softplus(X_crysx_nn)\n",
    "\n",
    "# Tensorflow\n",
    "softplus_tf_value = tf.nn.softplus(X_tf)#tf.keras.activations.relu(X_tf)\n",
    "\n",
    "#Diff b/w tf and torch\n",
    "print('Max abs diff b/w torch and tf', abs(softplus_torch_value.cpu().detach().numpy() - softplus_tf_value.numpy()).max())\n",
    "\n",
    "#Diff b/w crysx_nn and torch\n",
    "print('Max abs diff b/w torch and CrysX', abs(softplus_torch_value.cpu().detach().numpy() - softplus_crysx_nn_value).max())"
   ]
  },
  {
   "cell_type": "markdown",
   "id": "b83ae89f",
   "metadata": {},
   "source": [
    "### Compare performance"
   ]
  },
  {
   "cell_type": "code",
   "execution_count": 50,
   "id": "6a0c151f",
   "metadata": {},
   "outputs": [
    {
     "name": "stdout",
     "output_type": "stream",
     "text": [
      "PyTorch\n",
      "3.66 ms ± 89.7 µs per loop (mean ± std. dev. of 7 runs, 1000 loops each)\n",
      "CrysX-NN (crysx_nn)\n",
      "1.89 ms ± 36.8 µs per loop (mean ± std. dev. of 7 runs, 1000 loops each)\n",
      "Tensorflow\n",
      "1.09 ms ± 78.4 µs per loop (mean ± std. dev. of 7 runs, 1000 loops each)\n"
     ]
    }
   ],
   "source": [
    "# Torch\n",
    "print('PyTorch')\n",
    "softplus_torch_func = torch.nn.Softplus() # Get an instance of ReLU class for Pytorch\n",
    "%timeit -n 1000 softplus_torch_func(X_torch)\n",
    "\n",
    "# CrysX\n",
    "print('CrysX-NN (crysx_nn)')\n",
    "%timeit -n 1000 Softplus(X_crysx_nn)\n",
    "\n",
    "# Tensorflow\n",
    "print('Tensorflow')\n",
    "%timeit -n 1000 tf.keras.activations.softplus(X_tf)\n"
   ]
  },
  {
   "cell_type": "markdown",
   "id": "faead3ef",
   "metadata": {},
   "source": [
    "### Compare performance with arrays of different sizes"
   ]
  },
  {
   "cell_type": "code",
   "execution_count": 51,
   "id": "ff448268",
   "metadata": {},
   "outputs": [
    {
     "name": "stdout",
     "output_type": "stream",
     "text": [
      "8.55 µs ± 862 ns per loop (mean ± std. dev. of 7 runs, 500 loops each)\n",
      "1.33 µs ± 31.8 ns per loop (mean ± std. dev. of 7 runs, 500 loops each)\n",
      "5.06 µs ± 1.06 µs per loop (mean ± std. dev. of 7 runs, 500 loops each)\n",
      "897 µs ± 22.5 µs per loop (mean ± std. dev. of 7 runs, 500 loops each)\n",
      "428 µs ± 49.6 µs per loop (mean ± std. dev. of 7 runs, 500 loops each)\n",
      "183 µs ± 5.04 µs per loop (mean ± std. dev. of 7 runs, 500 loops each)\n",
      "3.84 ms ± 40.8 µs per loop (mean ± std. dev. of 7 runs, 500 loops each)\n",
      "1.99 ms ± 53.1 µs per loop (mean ± std. dev. of 7 runs, 500 loops each)\n",
      "1.05 ms ± 36.6 µs per loop (mean ± std. dev. of 7 runs, 500 loops each)\n",
      "8.66 ms ± 213 µs per loop (mean ± std. dev. of 7 runs, 500 loops each)\n",
      "4.5 ms ± 88.1 µs per loop (mean ± std. dev. of 7 runs, 500 loops each)\n",
      "2.21 ms ± 211 µs per loop (mean ± std. dev. of 7 runs, 500 loops each)\n",
      "15 ms ± 136 µs per loop (mean ± std. dev. of 7 runs, 500 loops each)\n",
      "8.82 ms ± 973 µs per loop (mean ± std. dev. of 7 runs, 500 loops each)\n",
      "3.5 ms ± 128 µs per loop (mean ± std. dev. of 7 runs, 500 loops each)\n"
     ]
    }
   ],
   "source": [
    "time_torch = []\n",
    "time_crysx_nn = []\n",
    "time_tf = []\n",
    "sizes = []\n",
    "\n",
    "for n_size in range(10,2500,500):\n",
    "    sizes.append(n_size*n_size)\n",
    "    # Torch input\n",
    "    X_torch = torch.rand((n_size,n_size),requires_grad=True)\n",
    "    # CrysX-NN input\n",
    "    X_crysx_nn = X_torch.cpu().detach().numpy()\n",
    "    # Tensorflow input\n",
    "    X_tf = tf.convert_to_tensor(X_crysx_nn, dtype=tf.float32)\n",
    "    \n",
    "    ##--Timings--\n",
    "    # Torch\n",
    "    softplus_torch_func = torch.nn.Softplus() # Get an instance of ReLU class for Pytorch\n",
    "    time = %timeit -n 500 -o softplus_torch_func(X_torch)\n",
    "    # For time of each run\n",
    "    time_torch.append(np.mean(time.timings)) \n",
    "    # For total time\n",
    "#     time_torch.append(np.mean(time.all_runs)) \n",
    "    # CrysX\n",
    "    time = %timeit -n 500 -o Softplus(X_crysx_nn)\n",
    "    # For time of each run\n",
    "    time_crysx_nn.append(np.mean(time.timings))\n",
    "    # Tensorflow\n",
    "    with tf.device(\"cpu:0\"):\n",
    "        time = %timeit -n 500 -o tf.nn.softplus(X_tf)\n",
    "    # For time of each run\n",
    "    time_tf.append(np.mean(time.timings))"
   ]
  },
  {
   "cell_type": "markdown",
   "id": "7b05c6c3",
   "metadata": {},
   "source": [
    "### Plot the results"
   ]
  },
  {
   "cell_type": "code",
   "execution_count": 52,
   "id": "de98e309",
   "metadata": {
    "scrolled": true
   },
   "outputs": [
    {
     "data": {
      "image/png": "[encoded data removed]",
      "text/plain": [
       "<Figure size 432x288 with 1 Axes>"
      ]
     },
     "metadata": {
      "needs_background": "light"
     },
     "output_type": "display_data"
    }
   ],
   "source": [
    "\n",
    "plt.plot(sizes,time_torch, label='PyTorch')\n",
    "plt.plot(sizes,time_crysx_nn, label='CrysX-NN')\n",
    "plt.plot(sizes,time_tf, label='Tensorflow')\n",
    "plt.legend()\n",
    "plt.xlabel('Array sizes')\n",
    "plt.ylabel('Average Time (seconds)')\n",
    "plt.title('Benchmark Softplus (CPU)')\n",
    "plt.show()\n",
    "plt.subplots_adjust(left=0.15)\n",
    "# plt.savefig(\"Softplus_GPU.png\")\n",
    "# files.download(\"Softplus_GPU.png\")"
   ]
  },
  {
   "cell_type": "markdown",
   "id": "fada5359",
   "metadata": {},
   "source": [
    "## Benchmark Softplus derivative (gradient) wrt input batch\n",
    "\n",
    "This is slightly tricky. \n",
    "PyTorch and Tensorflow don't explicitly come with a function that gives the gradient. \n",
    "Rather they use atuomatic differentiation.\n",
    "\n",
    "This is why, PyTorch would require the value of the output of the activation function as well, rather than just an input function. \n",
    "\n",
    "I will try to do the timings in a way that we can exclude this time from results.\n",
    "\n",
    "However, it is still not really evident if the timings can be taken as a good representative of the performance of PyTorch and Tensorflow frameworks.\n",
    "\n",
    "So take the timing results with a grain of salt."
   ]
  },
  {
   "cell_type": "code",
   "execution_count": 53,
   "id": "37ac8af5",
   "metadata": {},
   "outputs": [],
   "source": [
    "def tf_softplus_grad(x):\n",
    "    with tf.GradientTape() as g:\n",
    "        g.watch(x)\n",
    "        softplus_values = tf.nn.softplus(x)\n",
    "    grad = g.gradient(softplus_values, x)\n",
    "    return grad#.numpy()"
   ]
  },
  {
   "cell_type": "code",
   "execution_count": 54,
   "id": "21454f27",
   "metadata": {},
   "outputs": [],
   "source": [
    "def torch_softplus_grad(softplus_values, x):\n",
    "    device='cpu'\n",
    "    gradient = torch.autograd.grad(outputs=softplus_values, inputs=x,\n",
    "                          grad_outputs=torch.ones(softplus_values.size()).to(device),\n",
    "                          create_graph=True, retain_graph=True, only_inputs=True)[0]\n",
    "    return gradient"
   ]
  },
  {
   "cell_type": "markdown",
   "id": "91418b18",
   "metadata": {},
   "source": [
    "### Confirm that all frameworks give the same results"
   ]
  },
  {
   "cell_type": "code",
   "execution_count": 55,
   "id": "c80bb31e",
   "metadata": {},
   "outputs": [
    {
     "name": "stdout",
     "output_type": "stream",
     "text": [
      "Max abs diff b/w torch and tf 1.1920929e-07\n",
      "Max abs diff b/w torch and CrysX 1.0873321476534414e-07\n"
     ]
    }
   ],
   "source": [
    "# Torch input\n",
    "X_torch = torch.rand((1000,1000),requires_grad=True)\n",
    "# CrysX-NN input\n",
    "X_crysx_nn = X_torch.cpu().detach().numpy()\n",
    "# Tensorflow input\n",
    "X_tf = tf.convert_to_tensor(X_crysx_nn, dtype=tf.float32)\n",
    "\n",
    "\n",
    "# Torch\n",
    "softplus_torch_func = torch.nn.Softplus() # Get an instance of ReLU class for Pytorch\n",
    "softplus_torch_value = softplus_torch_func(X_torch)\n",
    "gradientsTorch = torch_softplus_grad(softplus_torch_value, X_torch)\n",
    "# print(gradientsTorch)\n",
    "\n",
    "# CrysX\n",
    "# softmax_crysx_nn_value = Softmax(X_crysx_nn)\n",
    "gradientsCrysx = Softplus_grad(X_crysx_nn)\n",
    "# print(gradientsCrysx)\n",
    "\n",
    "# Tensorflow\n",
    "gradientsTF = tf_softplus_grad(X_tf) # requires a computation of sigmoid values again\n",
    "with tf.GradientTape() as g:\n",
    "    g.watch(X_tf)\n",
    "    softplus_tf_value = tf.nn.softplus(X_tf)\n",
    "gradientsTF = g.gradient(softplus_tf_value, X_tf)\n",
    "del g\n",
    "# print(gradientsTF)\n",
    "\n",
    "#Diff b/w tf and torch\n",
    "print('Max abs diff b/w torch and tf', abs(gradientsTorch.cpu().detach().numpy() - gradientsTF.numpy()).max())\n",
    "\n",
    "#Diff b/w crysx_nn and torch\n",
    "print('Max abs diff b/w torch and CrysX', abs(gradientsTorch.cpu().detach().numpy() - gradientsCrysx).max())\n"
   ]
  },
  {
   "cell_type": "markdown",
   "id": "80865c59",
   "metadata": {},
   "source": [
    "### Compare performance\n",
    "\n",
    "I would like to stress here again, that I am not really sure if the autodifferentiated implementations of Softplus gradients that I have used, are a good representative of the real-world performance or not. \n",
    "\n",
    "\n",
    "So we would skip the plots of timings vs array_size for benchmarks."
   ]
  },
  {
   "cell_type": "code",
   "execution_count": 56,
   "id": "dcf1375c",
   "metadata": {
    "scrolled": false
   },
   "outputs": [
    {
     "name": "stdout",
     "output_type": "stream",
     "text": [
      "PyTorch gradient only\n",
      "2.38 ms ± 105 µs per loop (mean ± std. dev. of 7 runs, 100 loops each)\n",
      "CrysX-NN (crysx_nn) gradient only\n",
      "2.01 ms ± 195 µs per loop (mean ± std. dev. of 7 runs, 100 loops each)\n",
      "Tensorflow gradient+value\n",
      "3.85 ms ± 194 µs per loop (mean ± std. dev. of 7 runs, 100 loops each)\n",
      "Tensorflow value only\n",
      "1.1 ms ± 63 µs per loop (mean ± std. dev. of 7 runs, 100 loops each)\n"
     ]
    }
   ],
   "source": [
    "# Torch\n",
    "print('PyTorch gradient only')\n",
    "softplus_torch_func = torch.nn.Softplus() # Get an instance of ReLU class for Pytorch\n",
    "softplus_torch_value = softplus_torch_func(X_torch)\n",
    "%timeit -n 100 torch_softplus_grad(softplus_torch_value, X_torch)\n",
    "\n",
    "# CrysX\n",
    "print('CrysX-NN (crysx_nn) gradient only')\n",
    "%timeit -n 100 Softplus_grad(X_crysx_nn)\n",
    "\n",
    "# Tensorflow\n",
    "print('Tensorflow gradient+value')\n",
    "with tf.GradientTape(persistent=False) as g:\n",
    "    g.watch(X_tf)\n",
    "    softplus_tf_value = tf.nn.softplus(X_tf)\n",
    "# %timeit -n 100 g.gradient(relu_tf_value, X_tf) # Doesn't work due to multiple runs of timeit and tape not supporting it\n",
    "%timeit -n 100  tf_softplus_grad(X_tf)\n",
    "\n",
    "print('Tensorflow value only')\n",
    "%timeit -n 100 tf.keras.activations.softplus(X_tf)\n"
   ]
  },
  {
   "cell_type": "markdown",
   "id": "f8bb2e8e",
   "metadata": {},
   "source": [
    "In the above, we see that PyTorch is again quite fast a million element array. \n",
    "CrysX-NN gives decent performance.\n",
    "\n",
    "Tensorflow is a bit tricky. Due to `%timeit` requiring multiple runs, and tape being only restricted to a single run, I had to use the other implementation of gradient using tensorflow, where the `values+gradients` are computed.\n",
    "\n",
    "Therefore, to get a good idea of the tensorflow gradient performance I have also calculated the time taken by tensorflow for just evaluating the functions."
   ]
  },
  {
   "cell_type": "code",
   "execution_count": null,
   "id": "d71331da",
   "metadata": {},
   "outputs": [],
   "source": []
  },
  {
   "cell_type": "code",
   "execution_count": null,
   "id": "279b46ba",
   "metadata": {},
   "outputs": [],
   "source": []
  }
 ],
 "metadata": {
  "kernelspec": {
   "display_name": "Python 3 (ipykernel)",
   "language": "python",
   "name": "python3"
  },
  "language_info": {
   "codemirror_mode": {
    "name": "ipython",
    "version": 3
   },
   "file_extension": ".py",
   "mimetype": "text/x-python",
   "name": "python",
   "nbconvert_exporter": "python",
   "pygments_lexer": "ipython3",
   "version": "3.7.11"
  }
 },
 "nbformat": 4,
 "nbformat_minor": 5
}
