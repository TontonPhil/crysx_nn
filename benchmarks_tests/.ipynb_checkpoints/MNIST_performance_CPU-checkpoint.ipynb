{
 "cells": [
  {
   "cell_type": "markdown",
   "id": "60467f66",
   "metadata": {},
   "source": [
    "# Validation/Verification & Performance comparison for MNIST digit classification with multiple hidden layers and multiple neurons"
   ]
  },
  {
   "cell_type": "markdown",
   "id": "e31443a9",
   "metadata": {},
   "source": [
    "## CPU only"
   ]
  },
  {
   "cell_type": "markdown",
   "id": "af2979b2",
   "metadata": {},
   "source": [
    "## Import stuff"
   ]
  },
  {
   "cell_type": "code",
   "execution_count": 1,
   "id": "7467675a",
   "metadata": {},
   "outputs": [
    {
     "name": "stdout",
     "output_type": "stream",
     "text": [
      "numpy 1.19.2\n"
     ]
    },
    {
     "name": "stderr",
     "output_type": "stream",
     "text": [
      "C:\\Users\\manas\\anaconda3\\envs\\crysx_nn\\lib\\site-packages\\crysx_nn\\network.py:12: TqdmExperimentalWarning: Using `tqdm.autonotebook.tqdm` in notebook mode. Use `tqdm.tqdm` instead to force console mode (e.g. in jupyter console)\n",
      "  from tqdm.autonotebook import tqdm\n"
     ]
    },
    {
     "name": "stdout",
     "output_type": "stream",
     "text": [
      "tf 2.2.3\n",
      "torch 1.10.1\n"
     ]
    }
   ],
   "source": [
    "import numpy as np\n",
    "print('numpy',np.__version__)\n",
    "\n",
    "import matplotlib.pyplot as plt\n",
    "\n",
    "\n",
    "# Import loss functions\n",
    "from crysx_nn.loss import MSE_loss, MSE_loss_grad\n",
    "from crysx_nn.loss import BCE_loss, BCE_loss_grad\n",
    "# Import activation functions\n",
    "from crysx_nn.activation import Sigmoid, Sigmoid_grad\n",
    "from crysx_nn.activation import ReLU, ReLU_grad\n",
    "from crysx_nn.activation import Softmax, Softmax_grad\n",
    "from crysx_nn.activation import Tanh_offset, Tanh_offset\n",
    "# Import neural network functions\n",
    "from crysx_nn.network import back_propagation, back_propagation_fast\n",
    "from crysx_nn.network import nn_optimize, nn_optimize_fast\n",
    "from crysx_nn.network import forward_feed\n",
    "from crysx_nn.network import visualize\n",
    "\n",
    "\n",
    "from tqdm.notebook import tqdm\n",
    "\n",
    "\n",
    "# import numpy as np\n",
    "import tensorflow as tf\n",
    "from tensorflow.keras.models import Sequential\n",
    "from tensorflow.keras.layers import Dense\n",
    "from tensorflow.keras import optimizers\n",
    "from tensorflow.keras import backend as K\n",
    "print('tf',tf.__version__)\n",
    "\n",
    "import torch, torchvision\n",
    "print('torch',torch.__version__)\n",
    "rng = np.random.default_rng()\n",
    "import time\n",
    "from timeit import default_timer as timer"
   ]
  },
  {
   "cell_type": "markdown",
   "id": "2fa7f96f",
   "metadata": {},
   "source": [
    "## Ensure that evertyhing is only using CPU"
   ]
  },
  {
   "cell_type": "code",
   "execution_count": 2,
   "id": "d2989c59",
   "metadata": {},
   "outputs": [
    {
     "data": {
      "text/plain": [
       "False"
      ]
     },
     "execution_count": 2,
     "metadata": {},
     "output_type": "execute_result"
    }
   ],
   "source": [
    "torch.cuda.is_available()"
   ]
  },
  {
   "cell_type": "code",
   "execution_count": 3,
   "id": "9e8ae4f1",
   "metadata": {},
   "outputs": [
    {
     "name": "stdout",
     "output_type": "stream",
     "text": [
      "Num GPUs Available:  0\n"
     ]
    }
   ],
   "source": [
    "print(\"Num GPUs Available: \", len(tf.config.list_physical_devices('GPU')))"
   ]
  },
  {
   "cell_type": "code",
   "execution_count": 4,
   "id": "a5fb5e5b",
   "metadata": {},
   "outputs": [
    {
     "name": "stdout",
     "output_type": "stream",
     "text": [
      "WARNING:tensorflow:From C:\\Users\\manas\\AppData\\Local\\Temp/ipykernel_27404/337460670.py:1: is_gpu_available (from tensorflow.python.framework.test_util) is deprecated and will be removed in a future version.\n",
      "Instructions for updating:\n",
      "Use `tf.config.list_physical_devices('GPU')` instead.\n"
     ]
    },
    {
     "data": {
      "text/plain": [
       "False"
      ]
     },
     "execution_count": 4,
     "metadata": {},
     "output_type": "execute_result"
    }
   ],
   "source": [
    "tf.test.is_gpu_available()"
   ]
  },
  {
   "cell_type": "code",
   "execution_count": 5,
   "id": "388538ba",
   "metadata": {},
   "outputs": [
    {
     "name": "stdout",
     "output_type": "stream",
     "text": [
      "True\n"
     ]
    }
   ],
   "source": [
    "print(tf.test.is_built_with_cuda())"
   ]
  },
  {
   "cell_type": "markdown",
   "id": "60cdd452",
   "metadata": {},
   "source": [
    "## Check if NumPy is linked with MKL or not"
   ]
  },
  {
   "cell_type": "code",
   "execution_count": 6,
   "id": "44968ef4",
   "metadata": {},
   "outputs": [
    {
     "name": "stdout",
     "output_type": "stream",
     "text": [
      "blas_mkl_info:\n",
      "    libraries = ['mkl_rt']\n",
      "    library_dirs = ['C:/Users/manas/anaconda3/envs/crysx_nn\\\\Library\\\\lib']\n",
      "    define_macros = [('SCIPY_MKL_H', None), ('HAVE_CBLAS', None)]\n",
      "    include_dirs = ['C:/Users/manas/anaconda3/envs/crysx_nn\\\\Library\\\\include']\n",
      "blas_opt_info:\n",
      "    libraries = ['mkl_rt']\n",
      "    library_dirs = ['C:/Users/manas/anaconda3/envs/crysx_nn\\\\Library\\\\lib']\n",
      "    define_macros = [('SCIPY_MKL_H', None), ('HAVE_CBLAS', None)]\n",
      "    include_dirs = ['C:/Users/manas/anaconda3/envs/crysx_nn\\\\Library\\\\include']\n",
      "lapack_mkl_info:\n",
      "    libraries = ['mkl_rt']\n",
      "    library_dirs = ['C:/Users/manas/anaconda3/envs/crysx_nn\\\\Library\\\\lib']\n",
      "    define_macros = [('SCIPY_MKL_H', None), ('HAVE_CBLAS', None)]\n",
      "    include_dirs = ['C:/Users/manas/anaconda3/envs/crysx_nn\\\\Library\\\\include']\n",
      "lapack_opt_info:\n",
      "    libraries = ['mkl_rt']\n",
      "    library_dirs = ['C:/Users/manas/anaconda3/envs/crysx_nn\\\\Library\\\\lib']\n",
      "    define_macros = [('SCIPY_MKL_H', None), ('HAVE_CBLAS', None)]\n",
      "    include_dirs = ['C:/Users/manas/anaconda3/envs/crysx_nn\\\\Library\\\\include']\n"
     ]
    }
   ],
   "source": [
    "np.show_config()"
   ]
  },
  {
   "cell_type": "markdown",
   "id": "28e592fc",
   "metadata": {},
   "source": [
    "## Start with the common stuff"
   ]
  },
  {
   "cell_type": "code",
   "execution_count": 7,
   "id": "4970ffa4",
   "metadata": {},
   "outputs": [],
   "source": [
    "nInputs = 784\n",
    "nSamples = nBatch = 32\n",
    "nOutputs = 1\n",
    "neurons_per_layer = [100,100,10]#[500,500,500,500,1]#[ 100,4,1] #[100,100,100,100,100,100,1]#[100,100,100,100,1]\n",
    "activation_func_names = ['Sigmoid','Sigmoid', 'Softmax']#['sigmoid', 'sigmoid', 'sigmoid']#['sigmoid', 'sigmoid','sigmoid', 'sigmoid', 'sigmoid', 'sigmoid', 'sigmoid']#['sigmoid', 'sigmoid', 'sigmoid', 'sigmoid', 'sigmoid']\n",
    "nLayers = len(neurons_per_layer)\n",
    "eeta = 0.5\n",
    "nEpochs=10\n",
    "nBatches = 0\n",
    "batchSize = 200#nSamples\n",
    "totSamples = 0"
   ]
  },
  {
   "cell_type": "markdown",
   "id": "48898d38",
   "metadata": {},
   "source": [
    "#### Activation function dictionary for all the frameworks"
   ]
  },
  {
   "cell_type": "code",
   "execution_count": 8,
   "id": "f66edd76",
   "metadata": {},
   "outputs": [],
   "source": [
    "# act_func_dict = {'Sigmoid':Sigmoid,'ReLU':ReLU,'ELU':ELU, 'Hardshrink' : Hardshrink,'Hardsigmoid':Hardsigmoid,\\\n",
    "#                  'Hardtanh':Hardtanh,'Hardswish':Hardswish,'LeakyReLU':LeakyReLU,'LogSigmoid':LogSigmoid,\\\n",
    "#                  'Tanh':Tanh,'Softmax':Softmax,'Softmin':Softmin,'LogSoftmax':LogSoftmax,'Mish':Mish,\\\n",
    "#                  'Swish':Swish,'Exponential':Exponential}\n",
    "\n",
    "act_func_dict_PyTorch = {'Sigmoid':torch.nn.Sigmoid(),'ReLU':torch.nn.ReLU(),'ELU':torch.nn.ELU(), 'Hardshrink' : torch.nn.Hardshrink(),'Hardsigmoid':torch.nn.Hardsigmoid(),\\\n",
    "                 'Hardtanh':torch.nn.Hardtanh(),'Hardswish':torch.nn.Hardswish(),'LeakyReLU':torch.nn.LeakyReLU(),'LogSigmoid':torch.nn.LogSigmoid(),\\\n",
    "                 'Tanh':torch.nn.Tanh(),'Softmax':torch.nn.Softmax(dim=1),'Softmin':torch.nn.Softmin(dim=1),'LogSoftmax':torch.nn.LogSoftmax()}\n",
    "act_func_dict_tensorflow = {'Sigmoid':'sigmoid','Softmax':'softmax','ReLU':'relu','LeakyReLU':'leakyrelu'}\n",
    "# act_func_dict_tensorflow = {'Sigmoid':sigmoid,'ReLU':ReLU,'ELU':ELU, 'Hardshrink' : Hardshrink,'Hardsigmoid':Hardsigmoid,\\\n",
    "#                  'Hardtanh':Hardtanh,'Hardswish':Hardswish,'LeakyReLU':LeakyReLU,'LogSigmoid':LogSigmoid,\\\n",
    "#                  'Tanh':Tanh,'Softmax':Softmax,'Softmin':Softmin,'LogSoftmax':LogSoftmax,'Mish':Mish,\\\n",
    "#                  'Swish':Swish,'Exponential':exponential}\n",
    "\n"
   ]
  },
  {
   "cell_type": "markdown",
   "id": "d1b6c7c0",
   "metadata": {},
   "source": [
    "## Visualize "
   ]
  },
  {
   "cell_type": "code",
   "execution_count": 9,
   "id": "8bd57d24",
   "metadata": {},
   "outputs": [
    {
     "data": {
      "image/png": "[encoded data removed]",
      "text/plain": [
       "<Figure size 1008x720 with 1 Axes>"
      ]
     },
     "metadata": {
      "needs_background": "light"
     },
     "output_type": "display_data"
    }
   ],
   "source": [
    "visualize(nInputs, neurons_per_layer, activation_func_names)"
   ]
  },
  {
   "cell_type": "markdown",
   "id": "5fe76494",
   "metadata": {},
   "source": [
    "## Set inputs\n",
    "\n",
    "Use torchvision to get the dataset, as well as form the input and output matrices for the learning."
   ]
  },
  {
   "cell_type": "code",
   "execution_count": 10,
   "id": "33494da5",
   "metadata": {},
   "outputs": [],
   "source": [
    "fname = 'MNIST'\n",
    "\n",
    "### Download and initialize datasets\n",
    "TrainDS_orig = torchvision.datasets.MNIST(fname, train=True, download=True)\n",
    "TestDS_orig = torchvision.datasets.MNIST(fname, train=False)"
   ]
  },
  {
   "cell_type": "markdown",
   "id": "c0f95855",
   "metadata": {},
   "source": [
    "Plot few examples of the data"
   ]
  },
  {
   "cell_type": "code",
   "execution_count": 11,
   "id": "3cce8fc7",
   "metadata": {},
   "outputs": [
    {
     "data": {
      "image/png": "[encoded data removed]",
      "text/plain": [
       "<Figure size 1080x432 with 12 Axes>"
      ]
     },
     "metadata": {
      "needs_background": "light"
     },
     "output_type": "display_data"
    }
   ],
   "source": [
    "### Plot examples\n",
    "fig, axes = plt.subplots(nrows=2, ncols=6, figsize=(15., 6.))\n",
    "for axes_row in axes:\n",
    "    for ax in axes_row:\n",
    "        test_index = rng.integers(0, len(TestDS_orig))\n",
    "        image, orig_label = TestDS_orig[test_index]\n",
    "        ax.set_axis_off()\n",
    "        ax.imshow(image)\n",
    "        ax.set_title('True: %i' % orig_label)"
   ]
  },
  {
   "cell_type": "markdown",
   "id": "8453c62c",
   "metadata": {},
   "source": [
    "Currently the dataset is such that each element of `TrainDS_orig` returns an image and the output label(the digit)"
   ]
  },
  {
   "cell_type": "code",
   "execution_count": 12,
   "id": "5dc37968",
   "metadata": {},
   "outputs": [
    {
     "name": "stdout",
     "output_type": "stream",
     "text": [
      "<PIL.Image.Image image mode=L size=28x28 at 0x16BDD89C5C8>\n",
      "5\n"
     ]
    },
    {
     "data": {
      "text/plain": [
       "<matplotlib.image.AxesImage at 0x16bddaaef48>"
      ]
     },
     "execution_count": 12,
     "metadata": {},
     "output_type": "execute_result"
    },
    {
     "data": {
      "image/png": "[encoded data removed]",
      "text/plain": [
       "<Figure size 648x432 with 1 Axes>"
      ]
     },
     "metadata": {
      "needs_background": "light"
     },
     "output_type": "display_data"
    }
   ],
   "source": [
    "image, orig_label = TrainDS_orig[0]\n",
    "print(image)\n",
    "print(orig_label)\n",
    "plt.imshow(image)"
   ]
  },
  {
   "cell_type": "markdown",
   "id": "987dd461",
   "metadata": {},
   "source": [
    "We can convert each image in the data to a 28x28 2d-array or a 784x1 1d-array manually as follows"
   ]
  },
  {
   "cell_type": "code",
   "execution_count": 13,
   "id": "fc1deea5",
   "metadata": {},
   "outputs": [
    {
     "name": "stdout",
     "output_type": "stream",
     "text": [
      "(784,)\n",
      "[[0.         0.         0.         0.         0.         0.\n",
      "  0.         0.         0.         0.         0.         0.\n",
      "  0.         0.         0.         0.         0.         0.\n",
      "  0.         0.         0.         0.         0.         0.\n",
      "  0.         0.         0.         0.        ]\n",
      " [0.         0.         0.         0.         0.         0.\n",
      "  0.         0.         0.         0.         0.         0.\n",
      "  0.         0.         0.         0.         0.         0.\n",
      "  0.         0.         0.         0.         0.         0.\n",
      "  0.         0.         0.         0.        ]\n",
      " [0.         0.         0.         0.         0.         0.\n",
      "  0.         0.         0.         0.         0.         0.\n",
      "  0.         0.         0.         0.         0.         0.\n",
      "  0.         0.         0.         0.         0.         0.\n",
      "  0.         0.         0.         0.        ]\n",
      " [0.         0.         0.         0.         0.         0.\n",
      "  0.         0.         0.         0.         0.         0.\n",
      "  0.         0.         0.         0.         0.         0.\n",
      "  0.         0.         0.         0.         0.         0.\n",
      "  0.         0.         0.         0.        ]\n",
      " [0.         0.         0.         0.         0.         0.\n",
      "  0.         0.         0.         0.         0.         0.\n",
      "  0.         0.         0.         0.         0.         0.\n",
      "  0.         0.         0.         0.         0.         0.\n",
      "  0.         0.         0.         0.        ]\n",
      " [0.         0.         0.         0.         0.         0.\n",
      "  0.         0.         0.         0.         0.         0.\n",
      "  0.01176471 0.07058824 0.07058824 0.07058824 0.49411765 0.53333333\n",
      "  0.68627451 0.10196078 0.65098039 1.         0.96862745 0.49803922\n",
      "  0.         0.         0.         0.        ]\n",
      " [0.         0.         0.         0.         0.         0.\n",
      "  0.         0.         0.11764706 0.14117647 0.36862745 0.60392157\n",
      "  0.66666667 0.99215686 0.99215686 0.99215686 0.99215686 0.99215686\n",
      "  0.88235294 0.6745098  0.99215686 0.94901961 0.76470588 0.25098039\n",
      "  0.         0.         0.         0.        ]\n",
      " [0.         0.         0.         0.         0.         0.\n",
      "  0.         0.19215686 0.93333333 0.99215686 0.99215686 0.99215686\n",
      "  0.99215686 0.99215686 0.99215686 0.99215686 0.99215686 0.98431373\n",
      "  0.36470588 0.32156863 0.32156863 0.21960784 0.15294118 0.\n",
      "  0.         0.         0.         0.        ]\n",
      " [0.         0.         0.         0.         0.         0.\n",
      "  0.         0.07058824 0.85882353 0.99215686 0.99215686 0.99215686\n",
      "  0.99215686 0.99215686 0.77647059 0.71372549 0.96862745 0.94509804\n",
      "  0.         0.         0.         0.         0.         0.\n",
      "  0.         0.         0.         0.        ]\n",
      " [0.         0.         0.         0.         0.         0.\n",
      "  0.         0.         0.31372549 0.61176471 0.41960784 0.99215686\n",
      "  0.99215686 0.80392157 0.04313725 0.         0.16862745 0.60392157\n",
      "  0.         0.         0.         0.         0.         0.\n",
      "  0.         0.         0.         0.        ]\n",
      " [0.         0.         0.         0.         0.         0.\n",
      "  0.         0.         0.         0.05490196 0.00392157 0.60392157\n",
      "  0.99215686 0.35294118 0.         0.         0.         0.\n",
      "  0.         0.         0.         0.         0.         0.\n",
      "  0.         0.         0.         0.        ]\n",
      " [0.         0.         0.         0.         0.         0.\n",
      "  0.         0.         0.         0.         0.         0.54509804\n",
      "  0.99215686 0.74509804 0.00784314 0.         0.         0.\n",
      "  0.         0.         0.         0.         0.         0.\n",
      "  0.         0.         0.         0.        ]\n",
      " [0.         0.         0.         0.         0.         0.\n",
      "  0.         0.         0.         0.         0.         0.04313725\n",
      "  0.74509804 0.99215686 0.2745098  0.         0.         0.\n",
      "  0.         0.         0.         0.         0.         0.\n",
      "  0.         0.         0.         0.        ]\n",
      " [0.         0.         0.         0.         0.         0.\n",
      "  0.         0.         0.         0.         0.         0.\n",
      "  0.1372549  0.94509804 0.88235294 0.62745098 0.42352941 0.00392157\n",
      "  0.         0.         0.         0.         0.         0.\n",
      "  0.         0.         0.         0.        ]\n",
      " [0.         0.         0.         0.         0.         0.\n",
      "  0.         0.         0.         0.         0.         0.\n",
      "  0.         0.31764706 0.94117647 0.99215686 0.99215686 0.46666667\n",
      "  0.09803922 0.         0.         0.         0.         0.\n",
      "  0.         0.         0.         0.        ]\n",
      " [0.         0.         0.         0.         0.         0.\n",
      "  0.         0.         0.         0.         0.         0.\n",
      "  0.         0.         0.17647059 0.72941176 0.99215686 0.99215686\n",
      "  0.58823529 0.10588235 0.         0.         0.         0.\n",
      "  0.         0.         0.         0.        ]\n",
      " [0.         0.         0.         0.         0.         0.\n",
      "  0.         0.         0.         0.         0.         0.\n",
      "  0.         0.         0.         0.0627451  0.36470588 0.98823529\n",
      "  0.99215686 0.73333333 0.         0.         0.         0.\n",
      "  0.         0.         0.         0.        ]\n",
      " [0.         0.         0.         0.         0.         0.\n",
      "  0.         0.         0.         0.         0.         0.\n",
      "  0.         0.         0.         0.         0.         0.97647059\n",
      "  0.99215686 0.97647059 0.25098039 0.         0.         0.\n",
      "  0.         0.         0.         0.        ]\n",
      " [0.         0.         0.         0.         0.         0.\n",
      "  0.         0.         0.         0.         0.         0.\n",
      "  0.         0.         0.18039216 0.50980392 0.71764706 0.99215686\n",
      "  0.99215686 0.81176471 0.00784314 0.         0.         0.\n",
      "  0.         0.         0.         0.        ]\n",
      " [0.         0.         0.         0.         0.         0.\n",
      "  0.         0.         0.         0.         0.         0.\n",
      "  0.15294118 0.58039216 0.89803922 0.99215686 0.99215686 0.99215686\n",
      "  0.98039216 0.71372549 0.         0.         0.         0.\n",
      "  0.         0.         0.         0.        ]\n",
      " [0.         0.         0.         0.         0.         0.\n",
      "  0.         0.         0.         0.         0.09411765 0.44705882\n",
      "  0.86666667 0.99215686 0.99215686 0.99215686 0.99215686 0.78823529\n",
      "  0.30588235 0.         0.         0.         0.         0.\n",
      "  0.         0.         0.         0.        ]\n",
      " [0.         0.         0.         0.         0.         0.\n",
      "  0.         0.         0.09019608 0.25882353 0.83529412 0.99215686\n",
      "  0.99215686 0.99215686 0.99215686 0.77647059 0.31764706 0.00784314\n",
      "  0.         0.         0.         0.         0.         0.\n",
      "  0.         0.         0.         0.        ]\n",
      " [0.         0.         0.         0.         0.         0.\n",
      "  0.07058824 0.67058824 0.85882353 0.99215686 0.99215686 0.99215686\n",
      "  0.99215686 0.76470588 0.31372549 0.03529412 0.         0.\n",
      "  0.         0.         0.         0.         0.         0.\n",
      "  0.         0.         0.         0.        ]\n",
      " [0.         0.         0.         0.         0.21568627 0.6745098\n",
      "  0.88627451 0.99215686 0.99215686 0.99215686 0.99215686 0.95686275\n",
      "  0.52156863 0.04313725 0.         0.         0.         0.\n",
      "  0.         0.         0.         0.         0.         0.\n",
      "  0.         0.         0.         0.        ]\n",
      " [0.         0.         0.         0.         0.53333333 0.99215686\n",
      "  0.99215686 0.99215686 0.83137255 0.52941176 0.51764706 0.0627451\n",
      "  0.         0.         0.         0.         0.         0.\n",
      "  0.         0.         0.         0.         0.         0.\n",
      "  0.         0.         0.         0.        ]\n",
      " [0.         0.         0.         0.         0.         0.\n",
      "  0.         0.         0.         0.         0.         0.\n",
      "  0.         0.         0.         0.         0.         0.\n",
      "  0.         0.         0.         0.         0.         0.\n",
      "  0.         0.         0.         0.        ]\n",
      " [0.         0.         0.         0.         0.         0.\n",
      "  0.         0.         0.         0.         0.         0.\n",
      "  0.         0.         0.         0.         0.         0.\n",
      "  0.         0.         0.         0.         0.         0.\n",
      "  0.         0.         0.         0.        ]\n",
      " [0.         0.         0.         0.         0.         0.\n",
      "  0.         0.         0.         0.         0.         0.\n",
      "  0.         0.         0.         0.         0.         0.\n",
      "  0.         0.         0.         0.         0.         0.\n",
      "  0.         0.         0.         0.        ]]\n",
      "(28, 28)\n"
     ]
    }
   ],
   "source": [
    "imgData = np.array(image.getdata()) # Get data values\n",
    "imgData = imgData/imgData.max() # Renormalize\n",
    "print(imgData.shape)\n",
    "imgData = np.reshape(imgData, [28,28]) # Reshape\n",
    "print(imgData)\n",
    "print(imgData.shape)"
   ]
  },
  {
   "cell_type": "markdown",
   "id": "6917d022",
   "metadata": {},
   "source": [
    "But alternatively, we can just use PyTorch to do it, because we would want to have the same order of batches and everything to keep the benchmark consistent and comparable.\n",
    "\n",
    "Also, instead of the output label being just a digit, it would be better if it is a 10x1 array with each element giving the probability of the classification being a digit in 0-9."
   ]
  },
  {
   "cell_type": "code",
   "execution_count": 14,
   "id": "80474157",
   "metadata": {},
   "outputs": [],
   "source": [
    "### Define the label transform from an integer to a set of probabilities\n",
    "def target_transform(inlabel):\n",
    "    newlabel = torch.zeros(10)\n",
    "    newlabel[inlabel] = 1.\n",
    "    return newlabel\n",
    "\n",
    "### Reinitialize datasets with the transforms\n",
    "TrainDS = torchvision.datasets.MNIST(fname, train=True, download=True,\n",
    "            target_transform=target_transform, transform=torchvision.transforms.ToTensor())\n",
    "TestDS = torchvision.datasets.MNIST(fname, train=False,\n",
    "            target_transform=target_transform, transform=torchvision.transforms.ToTensor())\n",
    "\n",
    "### Initialize DataLoaders as PyTorch convenience\n",
    "TrainDL = torch.utils.data.DataLoader(TrainDS, shuffle=True, batch_size=batchSize)\n",
    "TestDL = torch.utils.data.DataLoader(TestDS, batch_size=1000)"
   ]
  },
  {
   "cell_type": "markdown",
   "id": "f1f74148",
   "metadata": {},
   "source": [
    "The `TrainDL` dataloader object holds everything we need (as tensors). We would now use it to get the input data and the output data as numpy 2d arrays for our implementation as well as for tf.eras"
   ]
  },
  {
   "cell_type": "code",
   "execution_count": 15,
   "id": "c4dfad81",
   "metadata": {},
   "outputs": [
    {
     "name": "stdout",
     "output_type": "stream",
     "text": [
      "Total no. of batches:  300\n",
      "Total no. of training samples:  60000\n"
     ]
    }
   ],
   "source": [
    "totSamples = 0\n",
    "for inp, labels in TrainDL:\n",
    "    totSamples = totSamples+1\n",
    "nBatches = totSamples\n",
    "print('Total no. of batches: ', totSamples)\n",
    "\n",
    "totSamples = totSamples*batchSize\n",
    "print('Total no. of training samples: ', totSamples)"
   ]
  },
  {
   "cell_type": "markdown",
   "id": "1adf3fd7",
   "metadata": {},
   "source": [
    "## Actually create inputs and outputs\n",
    "\n",
    "Create total inputs matrix and the total outputs matrix, which hold all the training data "
   ]
  },
  {
   "cell_type": "code",
   "execution_count": 16,
   "id": "12176fa7",
   "metadata": {},
   "outputs": [],
   "source": [
    "inputs = np.zeros((totSamples,784))\n",
    "outputs = np.zeros((totSamples, 10))\n",
    "\n",
    "i = 0\n",
    "for inp, labels in TrainDL:\n",
    "    offset = i*batchSize\n",
    "    inputs[offset:offset + batchSize,:] = np.reshape(inp, (batchSize,784))\n",
    "    outputs[offset:offset + batchSize,:] = labels"
   ]
  },
  {
   "cell_type": "markdown",
   "id": "18342f93",
   "metadata": {},
   "source": [
    "## Set float32 precision"
   ]
  },
  {
   "cell_type": "code",
   "execution_count": 17,
   "id": "87f07cce",
   "metadata": {},
   "outputs": [
    {
     "name": "stdout",
     "output_type": "stream",
     "text": [
      "float32\n",
      "float32\n"
     ]
    }
   ],
   "source": [
    "inputs = inputs.astype('float32')\n",
    "outputs = outputs.astype('float32')\n",
    "print(inputs.dtype)\n",
    "print(outputs.dtype)"
   ]
  },
  {
   "cell_type": "markdown",
   "id": "08bfe0f2",
   "metadata": {},
   "source": [
    "# Keras implementation\n",
    "\n",
    "In the following we have to be careful and change the network nodes, and layers manually. \n",
    "\n",
    "TODO: Make the neural network be generated in a loop automatically using the parameters already defined."
   ]
  },
  {
   "cell_type": "code",
   "execution_count": 18,
   "id": "25a7144a",
   "metadata": {},
   "outputs": [],
   "source": [
    "# # define the keras model\n",
    "# model = Sequential()\n",
    "# model.add(Dense(100, input_dim=2, activation='sigmoid', use_bias=True))\n",
    "# model.add(Dense(100, activation='sigmoid', use_bias=True))\n",
    "# model.add(Dense(100, activation='sigmoid', use_bias=True))\n",
    "# model.add(Dense(100, activation='sigmoid', use_bias=True))\n",
    "# model.add(Dense(1, activation='sigmoid', use_bias=True))\n",
    "\n",
    "# model.summary()"
   ]
  },
  {
   "cell_type": "markdown",
   "id": "078e33fe",
   "metadata": {},
   "source": [
    "## Make the neural network programatically"
   ]
  },
  {
   "cell_type": "code",
   "execution_count": 19,
   "id": "610ef74f",
   "metadata": {},
   "outputs": [
    {
     "name": "stdout",
     "output_type": "stream",
     "text": [
      "Model: \"sequential\"\n",
      "_________________________________________________________________\n",
      "Layer (type)                 Output Shape              Param #   \n",
      "=================================================================\n",
      "dense (Dense)                (None, 100)               78500     \n",
      "_________________________________________________________________\n",
      "dense_1 (Dense)              (None, 100)               10100     \n",
      "_________________________________________________________________\n",
      "dense_2 (Dense)              (None, 10)                1010      \n",
      "=================================================================\n",
      "Total params: 89,610\n",
      "Trainable params: 89,610\n",
      "Non-trainable params: 0\n",
      "_________________________________________________________________\n"
     ]
    }
   ],
   "source": [
    "# define the keras model\n",
    "model = Sequential()\n",
    "# First Hidden layer\n",
    "model.add(Dense(neurons_per_layer[0], input_dim=nInputs, activation=act_func_dict_tensorflow[activation_func_names[0]], use_bias=True))\n",
    "\n",
    "if nLayers>1:\n",
    "    # Hidden layers\n",
    "    for i in range(nLayers-2):\n",
    "        model.add(Dense(neurons_per_layer[i], activation=act_func_dict_tensorflow[activation_func_names[i]], use_bias=True))\n",
    "    # Output layer\n",
    "    model.add(Dense(neurons_per_layer[nLayers-1], activation=act_func_dict_tensorflow[activation_func_names[nLayers-1]], use_bias=True))\n",
    "    \n",
    "model.summary()\n",
    "    "
   ]
  },
  {
   "cell_type": "markdown",
   "id": "4df4a6ae",
   "metadata": {},
   "source": [
    "## Check the initial weights and biases for each layer\n",
    "\n",
    "Note how the weights matrix is not 4x2 but rather 2x4"
   ]
  },
  {
   "cell_type": "code",
   "execution_count": 20,
   "id": "8f5fafa5",
   "metadata": {},
   "outputs": [
    {
     "name": "stdout",
     "output_type": "stream",
     "text": [
      "\n",
      " Weights for layer  1\n",
      "[[-0.01227359  0.07432108 -0.03567654 ... -0.07238301  0.04532672\n",
      "   0.05462146]\n",
      " [-0.00100527  0.03011825 -0.05685579 ... -0.05561437 -0.02816436\n",
      "  -0.07016293]\n",
      " [-0.0200427  -0.00382718 -0.05161117 ... -0.05854199 -0.02774218\n",
      "  -0.0275002 ]\n",
      " ...\n",
      " [ 0.04911517 -0.0043738  -0.07900902 ... -0.06785433  0.01702582\n",
      "   0.0810388 ]\n",
      " [-0.03019032  0.06552826 -0.07776789 ... -0.06098049 -0.01169794\n",
      "  -0.03444167]\n",
      " [-0.03435747 -0.03229015 -0.0515297  ...  0.06746466  0.00028711\n",
      "  -0.01445276]]\n",
      "\n",
      " Biases for layer  1\n",
      "[0. 0. 0. 0. 0. 0. 0. 0. 0. 0. 0. 0. 0. 0. 0. 0. 0. 0. 0. 0. 0. 0. 0. 0.\n",
      " 0. 0. 0. 0. 0. 0. 0. 0. 0. 0. 0. 0. 0. 0. 0. 0. 0. 0. 0. 0. 0. 0. 0. 0.\n",
      " 0. 0. 0. 0. 0. 0. 0. 0. 0. 0. 0. 0. 0. 0. 0. 0. 0. 0. 0. 0. 0. 0. 0. 0.\n",
      " 0. 0. 0. 0. 0. 0. 0. 0. 0. 0. 0. 0. 0. 0. 0. 0. 0. 0. 0. 0. 0. 0. 0. 0.\n",
      " 0. 0. 0. 0.]\n",
      "\n",
      " Weights for layer  2\n",
      "[[ 0.13111538  0.17260927  0.04140157 ... -0.03646459 -0.00423673\n",
      "   0.16993916]\n",
      " [-0.05684213 -0.12693302  0.13024095 ...  0.16002795  0.1714122\n",
      "   0.09266663]\n",
      " [ 0.03164814 -0.11537756 -0.07041024 ...  0.14690524  0.0616937\n",
      "   0.12406152]\n",
      " ...\n",
      " [ 0.04551524  0.05992614 -0.01758115 ... -0.13337241  0.1481683\n",
      "   0.04189549]\n",
      " [ 0.02038522 -0.15727356  0.07756069 ...  0.09178767  0.01395108\n",
      "   0.11436   ]\n",
      " [-0.02015938 -0.14945842  0.16168535 ...  0.07722083 -0.1017867\n",
      "   0.10732144]]\n",
      "\n",
      " Biases for layer  2\n",
      "[0. 0. 0. 0. 0. 0. 0. 0. 0. 0. 0. 0. 0. 0. 0. 0. 0. 0. 0. 0. 0. 0. 0. 0.\n",
      " 0. 0. 0. 0. 0. 0. 0. 0. 0. 0. 0. 0. 0. 0. 0. 0. 0. 0. 0. 0. 0. 0. 0. 0.\n",
      " 0. 0. 0. 0. 0. 0. 0. 0. 0. 0. 0. 0. 0. 0. 0. 0. 0. 0. 0. 0. 0. 0. 0. 0.\n",
      " 0. 0. 0. 0. 0. 0. 0. 0. 0. 0. 0. 0. 0. 0. 0. 0. 0. 0. 0. 0. 0. 0. 0. 0.\n",
      " 0. 0. 0. 0.]\n",
      "\n",
      " Weights for layer  3\n",
      "[[-0.01224978  0.17627797 -0.00173496 -0.19012038 -0.05703005  0.19824448\n",
      "   0.21055889 -0.02382134 -0.04846784 -0.14886165]\n",
      " [-0.21859257  0.05591077  0.16578081  0.05625445  0.0553692   0.22102761\n",
      "   0.20517868 -0.17797296  0.04194346  0.17114744]\n",
      " [-0.07569958  0.23166505  0.1654931  -0.18205854  0.20196787 -0.10933882\n",
      "   0.21237999  0.21976256  0.22832888  0.1006873 ]\n",
      " [-0.02169666  0.02860135  0.06647131  0.01754481  0.10733554 -0.05752395\n",
      "   0.09862116 -0.16220766  0.01386802  0.14206955]\n",
      " [-0.17685702  0.2058006   0.10380593  0.05993569 -0.0630215   0.20328048\n",
      "  -0.04947403  0.2169297  -0.05534348 -0.07072173]\n",
      " [ 0.14205372  0.16644421 -0.10973896 -0.12882333 -0.09210935  0.16791862\n",
      "   0.23171395 -0.08752267 -0.19190975 -0.06644836]\n",
      " [ 0.13682324 -0.14987914 -0.05530812 -0.22637337  0.14049807  0.09220862\n",
      "  -0.05474968  0.20097578 -0.23348849  0.02031991]\n",
      " [-0.22482517 -0.16219255 -0.20771469 -0.06098524 -0.16578922 -0.1815907\n",
      "  -0.15095371 -0.06062715 -0.10966495 -0.21493232]\n",
      " [-0.09483406  0.01755205 -0.18968801 -0.0117365  -0.03215152 -0.20014492\n",
      "  -0.01386207  0.1651609  -0.07090676  0.01321353]\n",
      " [-0.05598789  0.1657019  -0.064318   -0.20207348  0.20571068  0.05898243\n",
      "  -0.19773582 -0.19613834 -0.20628822  0.17812023]\n",
      " [-0.04060028 -0.04829177 -0.22596516 -0.05797559  0.14668497 -0.00768998\n",
      "  -0.17157787 -0.02328952 -0.16837439  0.18529627]\n",
      " [-0.07663383  0.02629805  0.05474702  0.2185449   0.02280709  0.16633892\n",
      "   0.1610508   0.15272024 -0.08013347  0.14367163]\n",
      " [ 0.02255902  0.14019677 -0.12838967  0.15945226  0.04114515  0.22222707\n",
      "   0.11696801 -0.01030272 -0.1492482   0.09936464]\n",
      " [-0.17164697  0.11635727 -0.17496103  0.02209425 -0.07190542  0.1457428\n",
      "  -0.12568945 -0.15285766  0.07996136 -0.15265658]\n",
      " [-0.1541987   0.10117441  0.10882938 -0.21876407 -0.01803252  0.17591861\n",
      "   0.10333851 -0.16090825 -0.17653947  0.19231763]\n",
      " [-0.201879   -0.00561854 -0.08609614 -0.07887889 -0.12678134  0.15152824\n",
      "   0.1883376   0.13506797 -0.04416698 -0.09296803]\n",
      " [ 0.0722996   0.18022007 -0.03930043 -0.02544583 -0.18842044 -0.07109597\n",
      "  -0.1892626  -0.22638768  0.0843302   0.22918412]\n",
      " [ 0.09726489 -0.05305336 -0.02260034 -0.00978115  0.10873339  0.0621793\n",
      "  -0.00436351  0.074058   -0.1771787   0.02748683]\n",
      " [-0.14857294  0.04296818  0.17160827 -0.15489636 -0.06290534  0.02848861\n",
      "   0.04013184 -0.21911041  0.0712105   0.08837929]\n",
      " [-0.14983058 -0.03921574 -0.152132    0.1269142   0.08326277  0.1601994\n",
      "   0.03538221 -0.10030043  0.15734935 -0.15880835]\n",
      " [ 0.00746486  0.0079013  -0.08686054 -0.18019274  0.18517834  0.15915608\n",
      "  -0.022845    0.11346012  0.17319727  0.02868822]\n",
      " [-0.02830686  0.22432908  0.10606724  0.1436243  -0.09401497 -0.0409389\n",
      "   0.18676072 -0.17081279  0.10735369  0.21142209]\n",
      " [-0.03387277 -0.11564198  0.11899742 -0.05743152  0.15469217 -0.1420623\n",
      "  -0.15670466 -0.0618462  -0.08739999 -0.13283342]\n",
      " [-0.01850204  0.0013395  -0.02182974 -0.22758324  0.02460563  0.21277553\n",
      "   0.08046177  0.12974855  0.01611972  0.21873072]\n",
      " [-0.17079285 -0.19961143 -0.2314956   0.1081976   0.22472265  0.12915292\n",
      "   0.13503912 -0.02645847  0.01571986 -0.18447183]\n",
      " [-0.2044249   0.1104188  -0.12011106  0.03280634 -0.18501519  0.1228224\n",
      "   0.1604844   0.04186285 -0.05956794  0.16375908]\n",
      " [-0.03116737 -0.18651438 -0.1840703  -0.11293024  0.06340191  0.03175199\n",
      "   0.20281714 -0.18331169 -0.0595243  -0.21865298]\n",
      " [ 0.01185165 -0.07989888  0.00959617  0.19236547 -0.0888498  -0.1278711\n",
      "  -0.11898115  0.15817541 -0.08798093  0.16232488]\n",
      " [-0.21240082 -0.10259561  0.22394654  0.05233702 -0.01981588 -0.13085017\n",
      "  -0.06911288  0.19173685 -0.23174986 -0.01529595]\n",
      " [-0.1922331  -0.02836293  0.03146195 -0.1217091  -0.22365962  0.0022234\n",
      "  -0.09197961 -0.11150114  0.04219264  0.13474903]\n",
      " [ 0.06354874 -0.20566936 -0.09958312  0.04432896 -0.03835985  0.18797344\n",
      "   0.06713042 -0.1762625   0.08039814  0.01775384]\n",
      " [ 0.15481552 -0.05333684 -0.17099169 -0.20292048 -0.20762682  0.03585857\n",
      "  -0.02314954  0.00035264 -0.04030022  0.14558122]\n",
      " [ 0.22151238  0.18975717 -0.19246262  0.08411738  0.22544518 -0.07270904\n",
      "   0.0507108   0.12381351 -0.1524941   0.23001501]\n",
      " [-0.05678871 -0.22578062  0.0654346  -0.14724329 -0.2158003  -0.08014061\n",
      "  -0.21779363 -0.02112441  0.16612175 -0.08126161]\n",
      " [-0.06644213  0.08489946  0.09733155  0.12212387  0.08390397 -0.19068578\n",
      "  -0.05355167 -0.06687912  0.20228994 -0.1188116 ]\n",
      " [-0.22082488 -0.13095152 -0.00747338  0.01870829  0.22448611  0.00601991\n",
      "  -0.1302028   0.23328409 -0.18221736  0.0386484 ]\n",
      " [ 0.14636356  0.02933621 -0.01444195 -0.11269131 -0.1968656   0.21118122\n",
      "  -0.08832644  0.11422914  0.09693298  0.21330902]\n",
      " [-0.06635705 -0.22009315  0.15509376  0.05583286  0.10675159 -0.03665818\n",
      "   0.06526557 -0.18684185 -0.1569927  -0.07620741]\n",
      " [ 0.00751035  0.10908139 -0.1175995   0.22203791  0.0833624   0.15949169\n",
      "   0.02880102 -0.21708529 -0.01524885  0.17427757]\n",
      " [-0.01773061 -0.13132688 -0.14036116 -0.14309065 -0.23276411  0.05804241\n",
      "  -0.18422611 -0.14945556  0.1629073   0.08444586]\n",
      " [-0.21723625 -0.20303123  0.22044653  0.00278324  0.18079317 -0.0717856\n",
      "   0.07153231 -0.0692987  -0.04969688  0.11469442]\n",
      " [ 0.22323349  0.02982509 -0.21520166 -0.20766446  0.09749514 -0.13957164\n",
      "  -0.13322292  0.06229979  0.19497937  0.05592513]\n",
      " [-0.14514896 -0.21989404 -0.04587293 -0.03266457  0.12041888  0.22521973\n",
      "   0.20776257  0.08986112  0.1827384   0.16058719]\n",
      " [ 0.07921606  0.20452765  0.11400914 -0.15443319  0.17096636  0.09906951\n",
      "  -0.2205919   0.01649892  0.10719559  0.13623542]\n",
      " [ 0.04579782  0.15028232  0.23292932 -0.01478194  0.03829446 -0.1935281\n",
      "   0.06020522 -0.07765922  0.22661513 -0.16633424]\n",
      " [ 0.10117102 -0.19906357 -0.11532498  0.16162705  0.0933851  -0.19027357\n",
      "   0.07286751 -0.15652564  0.22268206 -0.04151247]\n",
      " [ 0.12457654  0.1439293   0.17180187 -0.14675613 -0.19701923  0.18408924\n",
      "   0.08247235 -0.16224451  0.17877105 -0.22431695]\n",
      " [-0.0118811   0.17638028 -0.2062024  -0.14301893  0.16277045  0.14146796\n",
      "   0.11364213  0.05002719 -0.13339275  0.20082748]\n",
      " [-0.22566953 -0.17175806  0.17713386 -0.20392549  0.09469414 -0.0805531\n",
      "  -0.19826508  0.1700187   0.08980265 -0.19256273]\n",
      " [ 0.17950016 -0.20644836 -0.13366994 -0.09409682 -0.03568296  0.23005587\n",
      "   0.09941646 -0.08048862 -0.07710384 -0.1600935 ]\n",
      " [-0.01865661 -0.02206579  0.05180675 -0.13809744 -0.08656776 -0.19344525\n",
      "  -0.1829703   0.19050115 -0.17837788  0.02911988]\n",
      " [-0.02372685  0.21191287 -0.11537743 -0.17200845 -0.00673987 -0.07974526\n",
      "  -0.08365746 -0.07883613  0.17085952  0.1054602 ]\n",
      " [-0.0584431  -0.22080338 -0.07746144 -0.15622762 -0.04925159  0.10231686\n",
      "  -0.00524686 -0.19272594  0.16167292 -0.16714035]\n",
      " [ 0.14125106 -0.188538   -0.19651236 -0.15868795  0.07717285 -0.18377714\n",
      "   0.20084286 -0.16032481 -0.04019219 -0.06743902]\n",
      " [ 0.15349126  0.10019234 -0.01910709  0.00579116  0.02393487 -0.06351\n",
      "  -0.17702936  0.19604507 -0.19598432  0.13052973]\n",
      " [-0.20745371 -0.10564189  0.00158684  0.11196291  0.14071327  0.04166979\n",
      "   0.04393005 -0.0493806  -0.10048936 -0.21436998]\n",
      " [-0.02727628  0.13907477 -0.22792685 -0.04814512 -0.01032199  0.19377077\n",
      "  -0.05680604  0.03893963 -0.20488451  0.15553653]\n",
      " [-0.04737914  0.16868353 -0.01179241  0.02498829 -0.0843669  -0.1977784\n",
      "  -0.07285187 -0.12953088  0.0107463  -0.08563925]\n",
      " [-0.23256911  0.06389698 -0.09947532  0.08645484  0.07764196 -0.19587195\n",
      "  -0.13118744 -0.14699367 -0.12955144  0.20677021]\n",
      " [-0.12216152  0.06409273  0.17706951 -0.10263877 -0.01219137 -0.12715468\n",
      "  -0.0903015   0.22349468 -0.21886218  0.08656421]\n",
      " [ 0.0665172  -0.22645912 -0.00334869  0.09106496  0.21080971  0.11958075\n",
      "  -0.20416331  0.05171674 -0.06550917  0.21109909]\n",
      " [ 0.18483832 -0.00827254  0.0802696   0.08818212 -0.02508946 -0.21085118\n",
      "   0.18724549 -0.16499636 -0.22651035 -0.02164371]\n",
      " [-0.06512836  0.10790572 -0.1628358   0.10813212 -0.0365579   0.15337056\n",
      "  -0.12705685  0.05492252  0.05351725  0.05530679]\n",
      " [ 0.09094858  0.05182329 -0.17993754 -0.10407059  0.22818395  0.17559654\n",
      "  -0.12762304  0.18729326 -0.2093527   0.21673149]\n",
      " [-0.19675028 -0.09079368 -0.14880191 -0.13930029  0.0838891  -0.10482331\n",
      "   0.0948883  -0.20618019  0.01572143 -0.1360153 ]\n",
      " [-0.22446924 -0.18511012 -0.09398752 -0.21273547  0.16200209 -0.14244556\n",
      "   0.09623504 -0.0610079  -0.03121799  0.03657389]\n",
      " [-0.22373022  0.00576827  0.05317229  0.02943119 -0.04159483  0.05519298\n",
      "   0.18986619 -0.02156503  0.21205834  0.23188534]\n",
      " [-0.02986652 -0.11750273 -0.0145023   0.01575144 -0.19250694 -0.22205079\n",
      "  -0.0225427  -0.12777783  0.03631836 -0.08015914]\n",
      " [-0.14507106 -0.04411614  0.09268272 -0.04300371 -0.09299999 -0.15693012\n",
      "   0.15985519 -0.16013548  0.08151329 -0.01596788]\n",
      " [-0.22188073  0.15199864  0.17878142  0.14817354  0.20166278  0.08489227\n",
      "  -0.02921955 -0.05904981  0.00744198  0.22158712]\n",
      " [-0.19584578  0.04092816  0.03854075 -0.02504185  0.17706344  0.17055926\n",
      "  -0.07832457  0.16144091 -0.23350987  0.22628027]\n",
      " [ 0.06217334 -0.11051222  0.22641858 -0.02182463  0.04062101 -0.09824769\n",
      "  -0.08907832  0.11197239  0.18632245 -0.06732515]\n",
      " [ 0.14964265 -0.04431053 -0.14323726  0.07364729  0.12997574  0.03507936\n",
      "  -0.13578014 -0.18308713  0.20231336  0.04152551]\n",
      " [ 0.11651626  0.17094532  0.0008648   0.16307613  0.15949601  0.19196126\n",
      "   0.1737535  -0.0663792   0.11601791 -0.10527316]\n",
      " [ 0.19226262  0.20781437  0.16729432 -0.15598953  0.10085469 -0.16309172\n",
      "   0.17428064  0.1375145   0.20683798 -0.21095525]\n",
      " [ 0.18076721  0.02806515 -0.1866698  -0.03872897  0.01433949  0.2149159\n",
      "   0.07859457 -0.20052178  0.15743616 -0.11832944]\n",
      " [-0.04212894  0.02774745  0.0681386  -0.15938148  0.03634223  0.19833714\n",
      "  -0.13813996  0.04107761 -0.23188083 -0.06590079]\n",
      " [-0.06529802  0.13437411  0.13746688 -0.16807315 -0.11525075  0.19978091\n",
      "   0.09358126 -0.1437388   0.07071871 -0.18959841]\n",
      " [ 0.0263707   0.00125726  0.07886636 -0.07737596  0.1835866   0.08304366\n",
      "  -0.05058885  0.19673887 -0.01649451 -0.03735115]\n",
      " [ 0.0550693   0.02738452  0.00847895  0.06445587 -0.17378083  0.08872145\n",
      "   0.2320309  -0.04405189  0.01698643  0.150601  ]\n",
      " [-0.11883526  0.09174269 -0.0659533  -0.01757893 -0.00219044 -0.06712051\n",
      "   0.17634174  0.17491826 -0.08359097  0.02742633]\n",
      " [ 0.2036286   0.19570625 -0.13402909 -0.04684131  0.06343019 -0.12343542\n",
      "   0.18653321 -0.17529863 -0.1351031   0.19002351]\n",
      " [-0.06925856  0.11700642 -0.00698955  0.06182194 -0.18060273  0.06712997\n",
      "   0.14443633 -0.125583    0.19599661  0.19047242]\n",
      " [ 0.10588005 -0.0643675   0.14027345 -0.12273639 -0.05787142 -0.00979283\n",
      "  -0.05238256 -0.17446528  0.22883075  0.01774403]\n",
      " [-0.00067253 -0.20397839  0.10136145  0.00540961 -0.07702677  0.1307525\n",
      "   0.16746882 -0.14686164  0.22235948 -0.10585961]\n",
      " [-0.10168764 -0.04388912  0.18362463 -0.01825915 -0.21795845  0.1799142\n",
      "   0.05756015 -0.19339392 -0.03405853 -0.00489634]\n",
      " [ 0.10276729  0.08921716  0.06336227 -0.22139964  0.02102286 -0.15999873\n",
      "  -0.23113456  0.1039806   0.23045307 -0.20976047]\n",
      " [ 0.16194311  0.2024591  -0.04266562 -0.08542471 -0.0360357   0.05364192\n",
      "  -0.06394888 -0.20275204  0.15081456  0.08863854]\n",
      " [-0.23150769 -0.12703398  0.18026596 -0.09839886  0.17346802  0.09003472\n",
      "  -0.083459   -0.14614746  0.12300071  0.22309461]\n",
      " [ 0.21248335 -0.12898085  0.05429235  0.12902945 -0.14207873 -0.10945726\n",
      "   0.20360297 -0.07966211  0.16826409 -0.16204411]\n",
      " [ 0.03050572  0.00747366 -0.00448552 -0.08602086  0.06728154  0.00382245\n",
      "   0.08388171 -0.12111592 -0.07531147 -0.20426248]\n",
      " [ 0.0587455  -0.04331449  0.00641692 -0.20597461 -0.19938073 -0.09604844\n",
      "  -0.14449596 -0.13230048  0.03681254 -0.14755584]\n",
      " [ 0.19639882  0.17723027 -0.20937838  0.08094749 -0.07590711 -0.01799071\n",
      "   0.13948458 -0.04452802 -0.21043818 -0.00290273]\n",
      " [-0.10677765  0.20412844 -0.2108397   0.21902505 -0.17039862  0.03996211\n",
      "   0.04935196 -0.1349875  -0.05367979 -0.19557127]\n",
      " [-0.1531624  -0.17208841 -0.15097764 -0.08397201 -0.03505737  0.14911696\n",
      "   0.06389281  0.05065829  0.16293642  0.07433718]\n",
      " [-0.14323075  0.0047152  -0.14984272  0.22899541  0.01994485 -0.09579776\n",
      "  -0.17402744 -0.14482583 -0.22201253 -0.13442594]\n",
      " [ 0.05068669  0.17539886  0.00988238 -0.20919445  0.03047904  0.23132718\n",
      "   0.16160968 -0.05542427  0.19106653  0.05997887]\n",
      " [-0.10412766 -0.19615237 -0.19346797  0.09429234  0.15707445 -0.22093998\n",
      "  -0.12057985 -0.15246409 -0.09780812 -0.22026175]\n",
      " [ 0.08826888 -0.20490032 -0.09727046  0.06602356  0.10407057 -0.16237682\n",
      "   0.12390211 -0.06318642 -0.04156075  0.05587941]\n",
      " [ 0.15693411 -0.20663345  0.05179539  0.17747074  0.22139218 -0.13413072\n",
      "  -0.03657839  0.11347476  0.02923325  0.19373325]]\n",
      "\n",
      " Biases for layer  3\n",
      "[0. 0. 0. 0. 0. 0. 0. 0. 0. 0.]\n"
     ]
    }
   ],
   "source": [
    "for i in range(nLayers):\n",
    "    print('\\n Weights for layer ',i+1)\n",
    "    print(model.layers[i].get_weights()[0])\n",
    "    print('\\n Biases for layer ',i+1)\n",
    "    print(model.layers[i].get_weights()[1])\n",
    "# model.layers[0].get_biases()"
   ]
  },
  {
   "cell_type": "markdown",
   "id": "ac5f3fd1",
   "metadata": {},
   "source": [
    "## Save the weights generated by tf.keras and use them for our implementation as well"
   ]
  },
  {
   "cell_type": "code",
   "execution_count": 21,
   "id": "a4577d41",
   "metadata": {},
   "outputs": [
    {
     "name": "stdout",
     "output_type": "stream",
     "text": [
      "Weights matrices:  [array([[-0.01227359, -0.00100527, -0.0200427 , ...,  0.04911517,\n",
      "        -0.03019032, -0.03435747],\n",
      "       [ 0.07432108,  0.03011825, -0.00382718, ..., -0.0043738 ,\n",
      "         0.06552826, -0.03229015],\n",
      "       [-0.03567654, -0.05685579, -0.05161117, ..., -0.07900902,\n",
      "        -0.07776789, -0.0515297 ],\n",
      "       ...,\n",
      "       [-0.07238301, -0.05561437, -0.05854199, ..., -0.06785433,\n",
      "        -0.06098049,  0.06746466],\n",
      "       [ 0.04532672, -0.02816436, -0.02774218, ...,  0.01702582,\n",
      "        -0.01169794,  0.00028711],\n",
      "       [ 0.05462146, -0.07016293, -0.0275002 , ...,  0.0810388 ,\n",
      "        -0.03444167, -0.01445276]], dtype=float32), array([[ 0.13111538, -0.05684213,  0.03164814, ...,  0.04551524,\n",
      "         0.02038522, -0.02015938],\n",
      "       [ 0.17260927, -0.12693302, -0.11537756, ...,  0.05992614,\n",
      "        -0.15727356, -0.14945842],\n",
      "       [ 0.04140157,  0.13024095, -0.07041024, ..., -0.01758115,\n",
      "         0.07756069,  0.16168535],\n",
      "       ...,\n",
      "       [-0.03646459,  0.16002795,  0.14690524, ..., -0.13337241,\n",
      "         0.09178767,  0.07722083],\n",
      "       [-0.00423673,  0.1714122 ,  0.0616937 , ...,  0.1481683 ,\n",
      "         0.01395108, -0.1017867 ],\n",
      "       [ 0.16993916,  0.09266663,  0.12406152, ...,  0.04189549,\n",
      "         0.11436   ,  0.10732144]], dtype=float32), array([[-0.01224978, -0.21859257, -0.07569958, -0.02169666, -0.17685702,\n",
      "         0.14205372,  0.13682324, -0.22482517, -0.09483406, -0.05598789,\n",
      "        -0.04060028, -0.07663383,  0.02255902, -0.17164697, -0.1541987 ,\n",
      "        -0.201879  ,  0.0722996 ,  0.09726489, -0.14857294, -0.14983058,\n",
      "         0.00746486, -0.02830686, -0.03387277, -0.01850204, -0.17079285,\n",
      "        -0.2044249 , -0.03116737,  0.01185165, -0.21240082, -0.1922331 ,\n",
      "         0.06354874,  0.15481552,  0.22151238, -0.05678871, -0.06644213,\n",
      "        -0.22082488,  0.14636356, -0.06635705,  0.00751035, -0.01773061,\n",
      "        -0.21723625,  0.22323349, -0.14514896,  0.07921606,  0.04579782,\n",
      "         0.10117102,  0.12457654, -0.0118811 , -0.22566953,  0.17950016,\n",
      "        -0.01865661, -0.02372685, -0.0584431 ,  0.14125106,  0.15349126,\n",
      "        -0.20745371, -0.02727628, -0.04737914, -0.23256911, -0.12216152,\n",
      "         0.0665172 ,  0.18483832, -0.06512836,  0.09094858, -0.19675028,\n",
      "        -0.22446924, -0.22373022, -0.02986652, -0.14507106, -0.22188073,\n",
      "        -0.19584578,  0.06217334,  0.14964265,  0.11651626,  0.19226262,\n",
      "         0.18076721, -0.04212894, -0.06529802,  0.0263707 ,  0.0550693 ,\n",
      "        -0.11883526,  0.2036286 , -0.06925856,  0.10588005, -0.00067253,\n",
      "        -0.10168764,  0.10276729,  0.16194311, -0.23150769,  0.21248335,\n",
      "         0.03050572,  0.0587455 ,  0.19639882, -0.10677765, -0.1531624 ,\n",
      "        -0.14323075,  0.05068669, -0.10412766,  0.08826888,  0.15693411],\n",
      "       [ 0.17627797,  0.05591077,  0.23166505,  0.02860135,  0.2058006 ,\n",
      "         0.16644421, -0.14987914, -0.16219255,  0.01755205,  0.1657019 ,\n",
      "        -0.04829177,  0.02629805,  0.14019677,  0.11635727,  0.10117441,\n",
      "        -0.00561854,  0.18022007, -0.05305336,  0.04296818, -0.03921574,\n",
      "         0.0079013 ,  0.22432908, -0.11564198,  0.0013395 , -0.19961143,\n",
      "         0.1104188 , -0.18651438, -0.07989888, -0.10259561, -0.02836293,\n",
      "        -0.20566936, -0.05333684,  0.18975717, -0.22578062,  0.08489946,\n",
      "        -0.13095152,  0.02933621, -0.22009315,  0.10908139, -0.13132688,\n",
      "        -0.20303123,  0.02982509, -0.21989404,  0.20452765,  0.15028232,\n",
      "        -0.19906357,  0.1439293 ,  0.17638028, -0.17175806, -0.20644836,\n",
      "        -0.02206579,  0.21191287, -0.22080338, -0.188538  ,  0.10019234,\n",
      "        -0.10564189,  0.13907477,  0.16868353,  0.06389698,  0.06409273,\n",
      "        -0.22645912, -0.00827254,  0.10790572,  0.05182329, -0.09079368,\n",
      "        -0.18511012,  0.00576827, -0.11750273, -0.04411614,  0.15199864,\n",
      "         0.04092816, -0.11051222, -0.04431053,  0.17094532,  0.20781437,\n",
      "         0.02806515,  0.02774745,  0.13437411,  0.00125726,  0.02738452,\n",
      "         0.09174269,  0.19570625,  0.11700642, -0.0643675 , -0.20397839,\n",
      "        -0.04388912,  0.08921716,  0.2024591 , -0.12703398, -0.12898085,\n",
      "         0.00747366, -0.04331449,  0.17723027,  0.20412844, -0.17208841,\n",
      "         0.0047152 ,  0.17539886, -0.19615237, -0.20490032, -0.20663345],\n",
      "       [-0.00173496,  0.16578081,  0.1654931 ,  0.06647131,  0.10380593,\n",
      "        -0.10973896, -0.05530812, -0.20771469, -0.18968801, -0.064318  ,\n",
      "        -0.22596516,  0.05474702, -0.12838967, -0.17496103,  0.10882938,\n",
      "        -0.08609614, -0.03930043, -0.02260034,  0.17160827, -0.152132  ,\n",
      "        -0.08686054,  0.10606724,  0.11899742, -0.02182974, -0.2314956 ,\n",
      "        -0.12011106, -0.1840703 ,  0.00959617,  0.22394654,  0.03146195,\n",
      "        -0.09958312, -0.17099169, -0.19246262,  0.0654346 ,  0.09733155,\n",
      "        -0.00747338, -0.01444195,  0.15509376, -0.1175995 , -0.14036116,\n",
      "         0.22044653, -0.21520166, -0.04587293,  0.11400914,  0.23292932,\n",
      "        -0.11532498,  0.17180187, -0.2062024 ,  0.17713386, -0.13366994,\n",
      "         0.05180675, -0.11537743, -0.07746144, -0.19651236, -0.01910709,\n",
      "         0.00158684, -0.22792685, -0.01179241, -0.09947532,  0.17706951,\n",
      "        -0.00334869,  0.0802696 , -0.1628358 , -0.17993754, -0.14880191,\n",
      "        -0.09398752,  0.05317229, -0.0145023 ,  0.09268272,  0.17878142,\n",
      "         0.03854075,  0.22641858, -0.14323726,  0.0008648 ,  0.16729432,\n",
      "        -0.1866698 ,  0.0681386 ,  0.13746688,  0.07886636,  0.00847895,\n",
      "        -0.0659533 , -0.13402909, -0.00698955,  0.14027345,  0.10136145,\n",
      "         0.18362463,  0.06336227, -0.04266562,  0.18026596,  0.05429235,\n",
      "        -0.00448552,  0.00641692, -0.20937838, -0.2108397 , -0.15097764,\n",
      "        -0.14984272,  0.00988238, -0.19346797, -0.09727046,  0.05179539],\n",
      "       [-0.19012038,  0.05625445, -0.18205854,  0.01754481,  0.05993569,\n",
      "        -0.12882333, -0.22637337, -0.06098524, -0.0117365 , -0.20207348,\n",
      "        -0.05797559,  0.2185449 ,  0.15945226,  0.02209425, -0.21876407,\n",
      "        -0.07887889, -0.02544583, -0.00978115, -0.15489636,  0.1269142 ,\n",
      "        -0.18019274,  0.1436243 , -0.05743152, -0.22758324,  0.1081976 ,\n",
      "         0.03280634, -0.11293024,  0.19236547,  0.05233702, -0.1217091 ,\n",
      "         0.04432896, -0.20292048,  0.08411738, -0.14724329,  0.12212387,\n",
      "         0.01870829, -0.11269131,  0.05583286,  0.22203791, -0.14309065,\n",
      "         0.00278324, -0.20766446, -0.03266457, -0.15443319, -0.01478194,\n",
      "         0.16162705, -0.14675613, -0.14301893, -0.20392549, -0.09409682,\n",
      "        -0.13809744, -0.17200845, -0.15622762, -0.15868795,  0.00579116,\n",
      "         0.11196291, -0.04814512,  0.02498829,  0.08645484, -0.10263877,\n",
      "         0.09106496,  0.08818212,  0.10813212, -0.10407059, -0.13930029,\n",
      "        -0.21273547,  0.02943119,  0.01575144, -0.04300371,  0.14817354,\n",
      "        -0.02504185, -0.02182463,  0.07364729,  0.16307613, -0.15598953,\n",
      "        -0.03872897, -0.15938148, -0.16807315, -0.07737596,  0.06445587,\n",
      "        -0.01757893, -0.04684131,  0.06182194, -0.12273639,  0.00540961,\n",
      "        -0.01825915, -0.22139964, -0.08542471, -0.09839886,  0.12902945,\n",
      "        -0.08602086, -0.20597461,  0.08094749,  0.21902505, -0.08397201,\n",
      "         0.22899541, -0.20919445,  0.09429234,  0.06602356,  0.17747074],\n",
      "       [-0.05703005,  0.0553692 ,  0.20196787,  0.10733554, -0.0630215 ,\n",
      "        -0.09210935,  0.14049807, -0.16578922, -0.03215152,  0.20571068,\n",
      "         0.14668497,  0.02280709,  0.04114515, -0.07190542, -0.01803252,\n",
      "        -0.12678134, -0.18842044,  0.10873339, -0.06290534,  0.08326277,\n",
      "         0.18517834, -0.09401497,  0.15469217,  0.02460563,  0.22472265,\n",
      "        -0.18501519,  0.06340191, -0.0888498 , -0.01981588, -0.22365962,\n",
      "        -0.03835985, -0.20762682,  0.22544518, -0.2158003 ,  0.08390397,\n",
      "         0.22448611, -0.1968656 ,  0.10675159,  0.0833624 , -0.23276411,\n",
      "         0.18079317,  0.09749514,  0.12041888,  0.17096636,  0.03829446,\n",
      "         0.0933851 , -0.19701923,  0.16277045,  0.09469414, -0.03568296,\n",
      "        -0.08656776, -0.00673987, -0.04925159,  0.07717285,  0.02393487,\n",
      "         0.14071327, -0.01032199, -0.0843669 ,  0.07764196, -0.01219137,\n",
      "         0.21080971, -0.02508946, -0.0365579 ,  0.22818395,  0.0838891 ,\n",
      "         0.16200209, -0.04159483, -0.19250694, -0.09299999,  0.20166278,\n",
      "         0.17706344,  0.04062101,  0.12997574,  0.15949601,  0.10085469,\n",
      "         0.01433949,  0.03634223, -0.11525075,  0.1835866 , -0.17378083,\n",
      "        -0.00219044,  0.06343019, -0.18060273, -0.05787142, -0.07702677,\n",
      "        -0.21795845,  0.02102286, -0.0360357 ,  0.17346802, -0.14207873,\n",
      "         0.06728154, -0.19938073, -0.07590711, -0.17039862, -0.03505737,\n",
      "         0.01994485,  0.03047904,  0.15707445,  0.10407057,  0.22139218],\n",
      "       [ 0.19824448,  0.22102761, -0.10933882, -0.05752395,  0.20328048,\n",
      "         0.16791862,  0.09220862, -0.1815907 , -0.20014492,  0.05898243,\n",
      "        -0.00768998,  0.16633892,  0.22222707,  0.1457428 ,  0.17591861,\n",
      "         0.15152824, -0.07109597,  0.0621793 ,  0.02848861,  0.1601994 ,\n",
      "         0.15915608, -0.0409389 , -0.1420623 ,  0.21277553,  0.12915292,\n",
      "         0.1228224 ,  0.03175199, -0.1278711 , -0.13085017,  0.0022234 ,\n",
      "         0.18797344,  0.03585857, -0.07270904, -0.08014061, -0.19068578,\n",
      "         0.00601991,  0.21118122, -0.03665818,  0.15949169,  0.05804241,\n",
      "        -0.0717856 , -0.13957164,  0.22521973,  0.09906951, -0.1935281 ,\n",
      "        -0.19027357,  0.18408924,  0.14146796, -0.0805531 ,  0.23005587,\n",
      "        -0.19344525, -0.07974526,  0.10231686, -0.18377714, -0.06351   ,\n",
      "         0.04166979,  0.19377077, -0.1977784 , -0.19587195, -0.12715468,\n",
      "         0.11958075, -0.21085118,  0.15337056,  0.17559654, -0.10482331,\n",
      "        -0.14244556,  0.05519298, -0.22205079, -0.15693012,  0.08489227,\n",
      "         0.17055926, -0.09824769,  0.03507936,  0.19196126, -0.16309172,\n",
      "         0.2149159 ,  0.19833714,  0.19978091,  0.08304366,  0.08872145,\n",
      "        -0.06712051, -0.12343542,  0.06712997, -0.00979283,  0.1307525 ,\n",
      "         0.1799142 , -0.15999873,  0.05364192,  0.09003472, -0.10945726,\n",
      "         0.00382245, -0.09604844, -0.01799071,  0.03996211,  0.14911696,\n",
      "        -0.09579776,  0.23132718, -0.22093998, -0.16237682, -0.13413072],\n",
      "       [ 0.21055889,  0.20517868,  0.21237999,  0.09862116, -0.04947403,\n",
      "         0.23171395, -0.05474968, -0.15095371, -0.01386207, -0.19773582,\n",
      "        -0.17157787,  0.1610508 ,  0.11696801, -0.12568945,  0.10333851,\n",
      "         0.1883376 , -0.1892626 , -0.00436351,  0.04013184,  0.03538221,\n",
      "        -0.022845  ,  0.18676072, -0.15670466,  0.08046177,  0.13503912,\n",
      "         0.1604844 ,  0.20281714, -0.11898115, -0.06911288, -0.09197961,\n",
      "         0.06713042, -0.02314954,  0.0507108 , -0.21779363, -0.05355167,\n",
      "        -0.1302028 , -0.08832644,  0.06526557,  0.02880102, -0.18422611,\n",
      "         0.07153231, -0.13322292,  0.20776257, -0.2205919 ,  0.06020522,\n",
      "         0.07286751,  0.08247235,  0.11364213, -0.19826508,  0.09941646,\n",
      "        -0.1829703 , -0.08365746, -0.00524686,  0.20084286, -0.17702936,\n",
      "         0.04393005, -0.05680604, -0.07285187, -0.13118744, -0.0903015 ,\n",
      "        -0.20416331,  0.18724549, -0.12705685, -0.12762304,  0.0948883 ,\n",
      "         0.09623504,  0.18986619, -0.0225427 ,  0.15985519, -0.02921955,\n",
      "        -0.07832457, -0.08907832, -0.13578014,  0.1737535 ,  0.17428064,\n",
      "         0.07859457, -0.13813996,  0.09358126, -0.05058885,  0.2320309 ,\n",
      "         0.17634174,  0.18653321,  0.14443633, -0.05238256,  0.16746882,\n",
      "         0.05756015, -0.23113456, -0.06394888, -0.083459  ,  0.20360297,\n",
      "         0.08388171, -0.14449596,  0.13948458,  0.04935196,  0.06389281,\n",
      "        -0.17402744,  0.16160968, -0.12057985,  0.12390211, -0.03657839],\n",
      "       [-0.02382134, -0.17797296,  0.21976256, -0.16220766,  0.2169297 ,\n",
      "        -0.08752267,  0.20097578, -0.06062715,  0.1651609 , -0.19613834,\n",
      "        -0.02328952,  0.15272024, -0.01030272, -0.15285766, -0.16090825,\n",
      "         0.13506797, -0.22638768,  0.074058  , -0.21911041, -0.10030043,\n",
      "         0.11346012, -0.17081279, -0.0618462 ,  0.12974855, -0.02645847,\n",
      "         0.04186285, -0.18331169,  0.15817541,  0.19173685, -0.11150114,\n",
      "        -0.1762625 ,  0.00035264,  0.12381351, -0.02112441, -0.06687912,\n",
      "         0.23328409,  0.11422914, -0.18684185, -0.21708529, -0.14945556,\n",
      "        -0.0692987 ,  0.06229979,  0.08986112,  0.01649892, -0.07765922,\n",
      "        -0.15652564, -0.16224451,  0.05002719,  0.1700187 , -0.08048862,\n",
      "         0.19050115, -0.07883613, -0.19272594, -0.16032481,  0.19604507,\n",
      "        -0.0493806 ,  0.03893963, -0.12953088, -0.14699367,  0.22349468,\n",
      "         0.05171674, -0.16499636,  0.05492252,  0.18729326, -0.20618019,\n",
      "        -0.0610079 , -0.02156503, -0.12777783, -0.16013548, -0.05904981,\n",
      "         0.16144091,  0.11197239, -0.18308713, -0.0663792 ,  0.1375145 ,\n",
      "        -0.20052178,  0.04107761, -0.1437388 ,  0.19673887, -0.04405189,\n",
      "         0.17491826, -0.17529863, -0.125583  , -0.17446528, -0.14686164,\n",
      "        -0.19339392,  0.1039806 , -0.20275204, -0.14614746, -0.07966211,\n",
      "        -0.12111592, -0.13230048, -0.04452802, -0.1349875 ,  0.05065829,\n",
      "        -0.14482583, -0.05542427, -0.15246409, -0.06318642,  0.11347476],\n",
      "       [-0.04846784,  0.04194346,  0.22832888,  0.01386802, -0.05534348,\n",
      "        -0.19190975, -0.23348849, -0.10966495, -0.07090676, -0.20628822,\n",
      "        -0.16837439, -0.08013347, -0.1492482 ,  0.07996136, -0.17653947,\n",
      "        -0.04416698,  0.0843302 , -0.1771787 ,  0.0712105 ,  0.15734935,\n",
      "         0.17319727,  0.10735369, -0.08739999,  0.01611972,  0.01571986,\n",
      "        -0.05956794, -0.0595243 , -0.08798093, -0.23174986,  0.04219264,\n",
      "         0.08039814, -0.04030022, -0.1524941 ,  0.16612175,  0.20228994,\n",
      "        -0.18221736,  0.09693298, -0.1569927 , -0.01524885,  0.1629073 ,\n",
      "        -0.04969688,  0.19497937,  0.1827384 ,  0.10719559,  0.22661513,\n",
      "         0.22268206,  0.17877105, -0.13339275,  0.08980265, -0.07710384,\n",
      "        -0.17837788,  0.17085952,  0.16167292, -0.04019219, -0.19598432,\n",
      "        -0.10048936, -0.20488451,  0.0107463 , -0.12955144, -0.21886218,\n",
      "        -0.06550917, -0.22651035,  0.05351725, -0.2093527 ,  0.01572143,\n",
      "        -0.03121799,  0.21205834,  0.03631836,  0.08151329,  0.00744198,\n",
      "        -0.23350987,  0.18632245,  0.20231336,  0.11601791,  0.20683798,\n",
      "         0.15743616, -0.23188083,  0.07071871, -0.01649451,  0.01698643,\n",
      "        -0.08359097, -0.1351031 ,  0.19599661,  0.22883075,  0.22235948,\n",
      "        -0.03405853,  0.23045307,  0.15081456,  0.12300071,  0.16826409,\n",
      "        -0.07531147,  0.03681254, -0.21043818, -0.05367979,  0.16293642,\n",
      "        -0.22201253,  0.19106653, -0.09780812, -0.04156075,  0.02923325],\n",
      "       [-0.14886165,  0.17114744,  0.1006873 ,  0.14206955, -0.07072173,\n",
      "        -0.06644836,  0.02031991, -0.21493232,  0.01321353,  0.17812023,\n",
      "         0.18529627,  0.14367163,  0.09936464, -0.15265658,  0.19231763,\n",
      "        -0.09296803,  0.22918412,  0.02748683,  0.08837929, -0.15880835,\n",
      "         0.02868822,  0.21142209, -0.13283342,  0.21873072, -0.18447183,\n",
      "         0.16375908, -0.21865298,  0.16232488, -0.01529595,  0.13474903,\n",
      "         0.01775384,  0.14558122,  0.23001501, -0.08126161, -0.1188116 ,\n",
      "         0.0386484 ,  0.21330902, -0.07620741,  0.17427757,  0.08444586,\n",
      "         0.11469442,  0.05592513,  0.16058719,  0.13623542, -0.16633424,\n",
      "        -0.04151247, -0.22431695,  0.20082748, -0.19256273, -0.1600935 ,\n",
      "         0.02911988,  0.1054602 , -0.16714035, -0.06743902,  0.13052973,\n",
      "        -0.21436998,  0.15553653, -0.08563925,  0.20677021,  0.08656421,\n",
      "         0.21109909, -0.02164371,  0.05530679,  0.21673149, -0.1360153 ,\n",
      "         0.03657389,  0.23188534, -0.08015914, -0.01596788,  0.22158712,\n",
      "         0.22628027, -0.06732515,  0.04152551, -0.10527316, -0.21095525,\n",
      "        -0.11832944, -0.06590079, -0.18959841, -0.03735115,  0.150601  ,\n",
      "         0.02742633,  0.19002351,  0.19047242,  0.01774403, -0.10585961,\n",
      "        -0.00489634, -0.20976047,  0.08863854,  0.22309461, -0.16204411,\n",
      "        -0.20426248, -0.14755584, -0.00290273, -0.19557127,  0.07433718,\n",
      "        -0.13442594,  0.05997887, -0.22026175,  0.05587941,  0.19373325]],\n",
      "      dtype=float32)]\n",
      "Biases:  [array([0., 0., 0., 0., 0., 0., 0., 0., 0., 0., 0., 0., 0., 0., 0., 0., 0.,\n",
      "       0., 0., 0., 0., 0., 0., 0., 0., 0., 0., 0., 0., 0., 0., 0., 0., 0.,\n",
      "       0., 0., 0., 0., 0., 0., 0., 0., 0., 0., 0., 0., 0., 0., 0., 0., 0.,\n",
      "       0., 0., 0., 0., 0., 0., 0., 0., 0., 0., 0., 0., 0., 0., 0., 0., 0.,\n",
      "       0., 0., 0., 0., 0., 0., 0., 0., 0., 0., 0., 0., 0., 0., 0., 0., 0.,\n",
      "       0., 0., 0., 0., 0., 0., 0., 0., 0., 0., 0., 0., 0., 0., 0.],\n",
      "      dtype=float32), array([0., 0., 0., 0., 0., 0., 0., 0., 0., 0., 0., 0., 0., 0., 0., 0., 0.,\n",
      "       0., 0., 0., 0., 0., 0., 0., 0., 0., 0., 0., 0., 0., 0., 0., 0., 0.,\n",
      "       0., 0., 0., 0., 0., 0., 0., 0., 0., 0., 0., 0., 0., 0., 0., 0., 0.,\n",
      "       0., 0., 0., 0., 0., 0., 0., 0., 0., 0., 0., 0., 0., 0., 0., 0., 0.,\n",
      "       0., 0., 0., 0., 0., 0., 0., 0., 0., 0., 0., 0., 0., 0., 0., 0., 0.,\n",
      "       0., 0., 0., 0., 0., 0., 0., 0., 0., 0., 0., 0., 0., 0., 0.],\n",
      "      dtype=float32), array([0., 0., 0., 0., 0., 0., 0., 0., 0., 0.], dtype=float32)]\n"
     ]
    }
   ],
   "source": [
    "weightsOriginal = []\n",
    "biasesOriginal = []\n",
    "\n",
    "\n",
    "for i in range(nLayers):\n",
    "    weightsOriginal.append(model.layers[i].get_weights()[0].T)\n",
    "    biasesOriginal.append(model.layers[i].get_weights()[1].T)\n",
    "\n",
    "print('Weights matrices: ',weightsOriginal)\n",
    "print('Biases: ',biasesOriginal)"
   ]
  },
  {
   "cell_type": "markdown",
   "id": "90554d39",
   "metadata": {},
   "source": [
    "## Compile model"
   ]
  },
  {
   "cell_type": "code",
   "execution_count": 22,
   "id": "4404854e",
   "metadata": {},
   "outputs": [],
   "source": [
    "# compile the keras model\n",
    "\n",
    "# In the following manner we can't set the learning rate of the optimizer\n",
    "# model.compile(loss='mse', optimizer='sgd', metrics=['mse'])\n",
    "\n",
    "# So use the following instead\n",
    "# model.compile(loss='mse', optimizer=optimizers.SGD(learning_rate=eeta), metrics=['mse'])\n",
    "model.compile(loss='binary_crossentropy', optimizer=optimizers.SGD(learning_rate=eeta), metrics=['binary_crossentropy'])\n",
    "# model.compile(loss='categorical_crossentropy', optimizer=optimizers.SGD(learning_rate=eeta), metrics=['categorical_crossentropy'])\n",
    "\n"
   ]
  },
  {
   "cell_type": "markdown",
   "id": "4463fc12",
   "metadata": {},
   "source": [
    "## Forward feed"
   ]
  },
  {
   "cell_type": "code",
   "execution_count": 23,
   "id": "9ba4b57f",
   "metadata": {},
   "outputs": [
    {
     "name": "stdout",
     "output_type": "stream",
     "text": [
      "300/300 [==============================] - 0s 881us/step - loss: 0.1098 - binary_crossentropy: 0.1098\n"
     ]
    },
    {
     "data": {
      "text/plain": [
       "[0.10976293683052063, 0.10976293683052063]"
      ]
     },
     "execution_count": 23,
     "metadata": {},
     "output_type": "execute_result"
    }
   ],
   "source": [
    "model.evaluate(inputs, outputs, batch_size=batchSize)"
   ]
  },
  {
   "cell_type": "markdown",
   "id": "c6621335",
   "metadata": {},
   "source": [
    "## Does tf.model.evaluate change the weights and biases?"
   ]
  },
  {
   "cell_type": "code",
   "execution_count": 24,
   "id": "0640bf71",
   "metadata": {},
   "outputs": [
    {
     "name": "stdout",
     "output_type": "stream",
     "text": [
      "\n",
      " Weights for layer  1\n",
      "[[-0.01227359  0.07432108 -0.03567654 ... -0.07238301  0.04532672\n",
      "   0.05462146]\n",
      " [-0.00100527  0.03011825 -0.05685579 ... -0.05561437 -0.02816436\n",
      "  -0.07016293]\n",
      " [-0.0200427  -0.00382718 -0.05161117 ... -0.05854199 -0.02774218\n",
      "  -0.0275002 ]\n",
      " ...\n",
      " [ 0.04911517 -0.0043738  -0.07900902 ... -0.06785433  0.01702582\n",
      "   0.0810388 ]\n",
      " [-0.03019032  0.06552826 -0.07776789 ... -0.06098049 -0.01169794\n",
      "  -0.03444167]\n",
      " [-0.03435747 -0.03229015 -0.0515297  ...  0.06746466  0.00028711\n",
      "  -0.01445276]]\n",
      "\n",
      " Biases for layer  1\n",
      "[0. 0. 0. 0. 0. 0. 0. 0. 0. 0. 0. 0. 0. 0. 0. 0. 0. 0. 0. 0. 0. 0. 0. 0.\n",
      " 0. 0. 0. 0. 0. 0. 0. 0. 0. 0. 0. 0. 0. 0. 0. 0. 0. 0. 0. 0. 0. 0. 0. 0.\n",
      " 0. 0. 0. 0. 0. 0. 0. 0. 0. 0. 0. 0. 0. 0. 0. 0. 0. 0. 0. 0. 0. 0. 0. 0.\n",
      " 0. 0. 0. 0. 0. 0. 0. 0. 0. 0. 0. 0. 0. 0. 0. 0. 0. 0. 0. 0. 0. 0. 0. 0.\n",
      " 0. 0. 0. 0.]\n",
      "\n",
      " Weights for layer  2\n",
      "[[ 0.13111538  0.17260927  0.04140157 ... -0.03646459 -0.00423673\n",
      "   0.16993916]\n",
      " [-0.05684213 -0.12693302  0.13024095 ...  0.16002795  0.1714122\n",
      "   0.09266663]\n",
      " [ 0.03164814 -0.11537756 -0.07041024 ...  0.14690524  0.0616937\n",
      "   0.12406152]\n",
      " ...\n",
      " [ 0.04551524  0.05992614 -0.01758115 ... -0.13337241  0.1481683\n",
      "   0.04189549]\n",
      " [ 0.02038522 -0.15727356  0.07756069 ...  0.09178767  0.01395108\n",
      "   0.11436   ]\n",
      " [-0.02015938 -0.14945842  0.16168535 ...  0.07722083 -0.1017867\n",
      "   0.10732144]]\n",
      "\n",
      " Biases for layer  2\n",
      "[0. 0. 0. 0. 0. 0. 0. 0. 0. 0. 0. 0. 0. 0. 0. 0. 0. 0. 0. 0. 0. 0. 0. 0.\n",
      " 0. 0. 0. 0. 0. 0. 0. 0. 0. 0. 0. 0. 0. 0. 0. 0. 0. 0. 0. 0. 0. 0. 0. 0.\n",
      " 0. 0. 0. 0. 0. 0. 0. 0. 0. 0. 0. 0. 0. 0. 0. 0. 0. 0. 0. 0. 0. 0. 0. 0.\n",
      " 0. 0. 0. 0. 0. 0. 0. 0. 0. 0. 0. 0. 0. 0. 0. 0. 0. 0. 0. 0. 0. 0. 0. 0.\n",
      " 0. 0. 0. 0.]\n",
      "\n",
      " Weights for layer  3\n",
      "[[-0.01224978  0.17627797 -0.00173496 -0.19012038 -0.05703005  0.19824448\n",
      "   0.21055889 -0.02382134 -0.04846784 -0.14886165]\n",
      " [-0.21859257  0.05591077  0.16578081  0.05625445  0.0553692   0.22102761\n",
      "   0.20517868 -0.17797296  0.04194346  0.17114744]\n",
      " [-0.07569958  0.23166505  0.1654931  -0.18205854  0.20196787 -0.10933882\n",
      "   0.21237999  0.21976256  0.22832888  0.1006873 ]\n",
      " [-0.02169666  0.02860135  0.06647131  0.01754481  0.10733554 -0.05752395\n",
      "   0.09862116 -0.16220766  0.01386802  0.14206955]\n",
      " [-0.17685702  0.2058006   0.10380593  0.05993569 -0.0630215   0.20328048\n",
      "  -0.04947403  0.2169297  -0.05534348 -0.07072173]\n",
      " [ 0.14205372  0.16644421 -0.10973896 -0.12882333 -0.09210935  0.16791862\n",
      "   0.23171395 -0.08752267 -0.19190975 -0.06644836]\n",
      " [ 0.13682324 -0.14987914 -0.05530812 -0.22637337  0.14049807  0.09220862\n",
      "  -0.05474968  0.20097578 -0.23348849  0.02031991]\n",
      " [-0.22482517 -0.16219255 -0.20771469 -0.06098524 -0.16578922 -0.1815907\n",
      "  -0.15095371 -0.06062715 -0.10966495 -0.21493232]\n",
      " [-0.09483406  0.01755205 -0.18968801 -0.0117365  -0.03215152 -0.20014492\n",
      "  -0.01386207  0.1651609  -0.07090676  0.01321353]\n",
      " [-0.05598789  0.1657019  -0.064318   -0.20207348  0.20571068  0.05898243\n",
      "  -0.19773582 -0.19613834 -0.20628822  0.17812023]\n",
      " [-0.04060028 -0.04829177 -0.22596516 -0.05797559  0.14668497 -0.00768998\n",
      "  -0.17157787 -0.02328952 -0.16837439  0.18529627]\n",
      " [-0.07663383  0.02629805  0.05474702  0.2185449   0.02280709  0.16633892\n",
      "   0.1610508   0.15272024 -0.08013347  0.14367163]\n",
      " [ 0.02255902  0.14019677 -0.12838967  0.15945226  0.04114515  0.22222707\n",
      "   0.11696801 -0.01030272 -0.1492482   0.09936464]\n",
      " [-0.17164697  0.11635727 -0.17496103  0.02209425 -0.07190542  0.1457428\n",
      "  -0.12568945 -0.15285766  0.07996136 -0.15265658]\n",
      " [-0.1541987   0.10117441  0.10882938 -0.21876407 -0.01803252  0.17591861\n",
      "   0.10333851 -0.16090825 -0.17653947  0.19231763]\n",
      " [-0.201879   -0.00561854 -0.08609614 -0.07887889 -0.12678134  0.15152824\n",
      "   0.1883376   0.13506797 -0.04416698 -0.09296803]\n",
      " [ 0.0722996   0.18022007 -0.03930043 -0.02544583 -0.18842044 -0.07109597\n",
      "  -0.1892626  -0.22638768  0.0843302   0.22918412]\n",
      " [ 0.09726489 -0.05305336 -0.02260034 -0.00978115  0.10873339  0.0621793\n",
      "  -0.00436351  0.074058   -0.1771787   0.02748683]\n",
      " [-0.14857294  0.04296818  0.17160827 -0.15489636 -0.06290534  0.02848861\n",
      "   0.04013184 -0.21911041  0.0712105   0.08837929]\n",
      " [-0.14983058 -0.03921574 -0.152132    0.1269142   0.08326277  0.1601994\n",
      "   0.03538221 -0.10030043  0.15734935 -0.15880835]\n",
      " [ 0.00746486  0.0079013  -0.08686054 -0.18019274  0.18517834  0.15915608\n",
      "  -0.022845    0.11346012  0.17319727  0.02868822]\n",
      " [-0.02830686  0.22432908  0.10606724  0.1436243  -0.09401497 -0.0409389\n",
      "   0.18676072 -0.17081279  0.10735369  0.21142209]\n",
      " [-0.03387277 -0.11564198  0.11899742 -0.05743152  0.15469217 -0.1420623\n",
      "  -0.15670466 -0.0618462  -0.08739999 -0.13283342]\n",
      " [-0.01850204  0.0013395  -0.02182974 -0.22758324  0.02460563  0.21277553\n",
      "   0.08046177  0.12974855  0.01611972  0.21873072]\n",
      " [-0.17079285 -0.19961143 -0.2314956   0.1081976   0.22472265  0.12915292\n",
      "   0.13503912 -0.02645847  0.01571986 -0.18447183]\n",
      " [-0.2044249   0.1104188  -0.12011106  0.03280634 -0.18501519  0.1228224\n",
      "   0.1604844   0.04186285 -0.05956794  0.16375908]\n",
      " [-0.03116737 -0.18651438 -0.1840703  -0.11293024  0.06340191  0.03175199\n",
      "   0.20281714 -0.18331169 -0.0595243  -0.21865298]\n",
      " [ 0.01185165 -0.07989888  0.00959617  0.19236547 -0.0888498  -0.1278711\n",
      "  -0.11898115  0.15817541 -0.08798093  0.16232488]\n",
      " [-0.21240082 -0.10259561  0.22394654  0.05233702 -0.01981588 -0.13085017\n",
      "  -0.06911288  0.19173685 -0.23174986 -0.01529595]\n",
      " [-0.1922331  -0.02836293  0.03146195 -0.1217091  -0.22365962  0.0022234\n",
      "  -0.09197961 -0.11150114  0.04219264  0.13474903]\n",
      " [ 0.06354874 -0.20566936 -0.09958312  0.04432896 -0.03835985  0.18797344\n",
      "   0.06713042 -0.1762625   0.08039814  0.01775384]\n",
      " [ 0.15481552 -0.05333684 -0.17099169 -0.20292048 -0.20762682  0.03585857\n",
      "  -0.02314954  0.00035264 -0.04030022  0.14558122]\n",
      " [ 0.22151238  0.18975717 -0.19246262  0.08411738  0.22544518 -0.07270904\n",
      "   0.0507108   0.12381351 -0.1524941   0.23001501]\n",
      " [-0.05678871 -0.22578062  0.0654346  -0.14724329 -0.2158003  -0.08014061\n",
      "  -0.21779363 -0.02112441  0.16612175 -0.08126161]\n",
      " [-0.06644213  0.08489946  0.09733155  0.12212387  0.08390397 -0.19068578\n",
      "  -0.05355167 -0.06687912  0.20228994 -0.1188116 ]\n",
      " [-0.22082488 -0.13095152 -0.00747338  0.01870829  0.22448611  0.00601991\n",
      "  -0.1302028   0.23328409 -0.18221736  0.0386484 ]\n",
      " [ 0.14636356  0.02933621 -0.01444195 -0.11269131 -0.1968656   0.21118122\n",
      "  -0.08832644  0.11422914  0.09693298  0.21330902]\n",
      " [-0.06635705 -0.22009315  0.15509376  0.05583286  0.10675159 -0.03665818\n",
      "   0.06526557 -0.18684185 -0.1569927  -0.07620741]\n",
      " [ 0.00751035  0.10908139 -0.1175995   0.22203791  0.0833624   0.15949169\n",
      "   0.02880102 -0.21708529 -0.01524885  0.17427757]\n",
      " [-0.01773061 -0.13132688 -0.14036116 -0.14309065 -0.23276411  0.05804241\n",
      "  -0.18422611 -0.14945556  0.1629073   0.08444586]\n",
      " [-0.21723625 -0.20303123  0.22044653  0.00278324  0.18079317 -0.0717856\n",
      "   0.07153231 -0.0692987  -0.04969688  0.11469442]\n",
      " [ 0.22323349  0.02982509 -0.21520166 -0.20766446  0.09749514 -0.13957164\n",
      "  -0.13322292  0.06229979  0.19497937  0.05592513]\n",
      " [-0.14514896 -0.21989404 -0.04587293 -0.03266457  0.12041888  0.22521973\n",
      "   0.20776257  0.08986112  0.1827384   0.16058719]\n",
      " [ 0.07921606  0.20452765  0.11400914 -0.15443319  0.17096636  0.09906951\n",
      "  -0.2205919   0.01649892  0.10719559  0.13623542]\n",
      " [ 0.04579782  0.15028232  0.23292932 -0.01478194  0.03829446 -0.1935281\n",
      "   0.06020522 -0.07765922  0.22661513 -0.16633424]\n",
      " [ 0.10117102 -0.19906357 -0.11532498  0.16162705  0.0933851  -0.19027357\n",
      "   0.07286751 -0.15652564  0.22268206 -0.04151247]\n",
      " [ 0.12457654  0.1439293   0.17180187 -0.14675613 -0.19701923  0.18408924\n",
      "   0.08247235 -0.16224451  0.17877105 -0.22431695]\n",
      " [-0.0118811   0.17638028 -0.2062024  -0.14301893  0.16277045  0.14146796\n",
      "   0.11364213  0.05002719 -0.13339275  0.20082748]\n",
      " [-0.22566953 -0.17175806  0.17713386 -0.20392549  0.09469414 -0.0805531\n",
      "  -0.19826508  0.1700187   0.08980265 -0.19256273]\n",
      " [ 0.17950016 -0.20644836 -0.13366994 -0.09409682 -0.03568296  0.23005587\n",
      "   0.09941646 -0.08048862 -0.07710384 -0.1600935 ]\n",
      " [-0.01865661 -0.02206579  0.05180675 -0.13809744 -0.08656776 -0.19344525\n",
      "  -0.1829703   0.19050115 -0.17837788  0.02911988]\n",
      " [-0.02372685  0.21191287 -0.11537743 -0.17200845 -0.00673987 -0.07974526\n",
      "  -0.08365746 -0.07883613  0.17085952  0.1054602 ]\n",
      " [-0.0584431  -0.22080338 -0.07746144 -0.15622762 -0.04925159  0.10231686\n",
      "  -0.00524686 -0.19272594  0.16167292 -0.16714035]\n",
      " [ 0.14125106 -0.188538   -0.19651236 -0.15868795  0.07717285 -0.18377714\n",
      "   0.20084286 -0.16032481 -0.04019219 -0.06743902]\n",
      " [ 0.15349126  0.10019234 -0.01910709  0.00579116  0.02393487 -0.06351\n",
      "  -0.17702936  0.19604507 -0.19598432  0.13052973]\n",
      " [-0.20745371 -0.10564189  0.00158684  0.11196291  0.14071327  0.04166979\n",
      "   0.04393005 -0.0493806  -0.10048936 -0.21436998]\n",
      " [-0.02727628  0.13907477 -0.22792685 -0.04814512 -0.01032199  0.19377077\n",
      "  -0.05680604  0.03893963 -0.20488451  0.15553653]\n",
      " [-0.04737914  0.16868353 -0.01179241  0.02498829 -0.0843669  -0.1977784\n",
      "  -0.07285187 -0.12953088  0.0107463  -0.08563925]\n",
      " [-0.23256911  0.06389698 -0.09947532  0.08645484  0.07764196 -0.19587195\n",
      "  -0.13118744 -0.14699367 -0.12955144  0.20677021]\n",
      " [-0.12216152  0.06409273  0.17706951 -0.10263877 -0.01219137 -0.12715468\n",
      "  -0.0903015   0.22349468 -0.21886218  0.08656421]\n",
      " [ 0.0665172  -0.22645912 -0.00334869  0.09106496  0.21080971  0.11958075\n",
      "  -0.20416331  0.05171674 -0.06550917  0.21109909]\n",
      " [ 0.18483832 -0.00827254  0.0802696   0.08818212 -0.02508946 -0.21085118\n",
      "   0.18724549 -0.16499636 -0.22651035 -0.02164371]\n",
      " [-0.06512836  0.10790572 -0.1628358   0.10813212 -0.0365579   0.15337056\n",
      "  -0.12705685  0.05492252  0.05351725  0.05530679]\n",
      " [ 0.09094858  0.05182329 -0.17993754 -0.10407059  0.22818395  0.17559654\n",
      "  -0.12762304  0.18729326 -0.2093527   0.21673149]\n",
      " [-0.19675028 -0.09079368 -0.14880191 -0.13930029  0.0838891  -0.10482331\n",
      "   0.0948883  -0.20618019  0.01572143 -0.1360153 ]\n",
      " [-0.22446924 -0.18511012 -0.09398752 -0.21273547  0.16200209 -0.14244556\n",
      "   0.09623504 -0.0610079  -0.03121799  0.03657389]\n",
      " [-0.22373022  0.00576827  0.05317229  0.02943119 -0.04159483  0.05519298\n",
      "   0.18986619 -0.02156503  0.21205834  0.23188534]\n",
      " [-0.02986652 -0.11750273 -0.0145023   0.01575144 -0.19250694 -0.22205079\n",
      "  -0.0225427  -0.12777783  0.03631836 -0.08015914]\n",
      " [-0.14507106 -0.04411614  0.09268272 -0.04300371 -0.09299999 -0.15693012\n",
      "   0.15985519 -0.16013548  0.08151329 -0.01596788]\n",
      " [-0.22188073  0.15199864  0.17878142  0.14817354  0.20166278  0.08489227\n",
      "  -0.02921955 -0.05904981  0.00744198  0.22158712]\n",
      " [-0.19584578  0.04092816  0.03854075 -0.02504185  0.17706344  0.17055926\n",
      "  -0.07832457  0.16144091 -0.23350987  0.22628027]\n",
      " [ 0.06217334 -0.11051222  0.22641858 -0.02182463  0.04062101 -0.09824769\n",
      "  -0.08907832  0.11197239  0.18632245 -0.06732515]\n",
      " [ 0.14964265 -0.04431053 -0.14323726  0.07364729  0.12997574  0.03507936\n",
      "  -0.13578014 -0.18308713  0.20231336  0.04152551]\n",
      " [ 0.11651626  0.17094532  0.0008648   0.16307613  0.15949601  0.19196126\n",
      "   0.1737535  -0.0663792   0.11601791 -0.10527316]\n",
      " [ 0.19226262  0.20781437  0.16729432 -0.15598953  0.10085469 -0.16309172\n",
      "   0.17428064  0.1375145   0.20683798 -0.21095525]\n",
      " [ 0.18076721  0.02806515 -0.1866698  -0.03872897  0.01433949  0.2149159\n",
      "   0.07859457 -0.20052178  0.15743616 -0.11832944]\n",
      " [-0.04212894  0.02774745  0.0681386  -0.15938148  0.03634223  0.19833714\n",
      "  -0.13813996  0.04107761 -0.23188083 -0.06590079]\n",
      " [-0.06529802  0.13437411  0.13746688 -0.16807315 -0.11525075  0.19978091\n",
      "   0.09358126 -0.1437388   0.07071871 -0.18959841]\n",
      " [ 0.0263707   0.00125726  0.07886636 -0.07737596  0.1835866   0.08304366\n",
      "  -0.05058885  0.19673887 -0.01649451 -0.03735115]\n",
      " [ 0.0550693   0.02738452  0.00847895  0.06445587 -0.17378083  0.08872145\n",
      "   0.2320309  -0.04405189  0.01698643  0.150601  ]\n",
      " [-0.11883526  0.09174269 -0.0659533  -0.01757893 -0.00219044 -0.06712051\n",
      "   0.17634174  0.17491826 -0.08359097  0.02742633]\n",
      " [ 0.2036286   0.19570625 -0.13402909 -0.04684131  0.06343019 -0.12343542\n",
      "   0.18653321 -0.17529863 -0.1351031   0.19002351]\n",
      " [-0.06925856  0.11700642 -0.00698955  0.06182194 -0.18060273  0.06712997\n",
      "   0.14443633 -0.125583    0.19599661  0.19047242]\n",
      " [ 0.10588005 -0.0643675   0.14027345 -0.12273639 -0.05787142 -0.00979283\n",
      "  -0.05238256 -0.17446528  0.22883075  0.01774403]\n",
      " [-0.00067253 -0.20397839  0.10136145  0.00540961 -0.07702677  0.1307525\n",
      "   0.16746882 -0.14686164  0.22235948 -0.10585961]\n",
      " [-0.10168764 -0.04388912  0.18362463 -0.01825915 -0.21795845  0.1799142\n",
      "   0.05756015 -0.19339392 -0.03405853 -0.00489634]\n",
      " [ 0.10276729  0.08921716  0.06336227 -0.22139964  0.02102286 -0.15999873\n",
      "  -0.23113456  0.1039806   0.23045307 -0.20976047]\n",
      " [ 0.16194311  0.2024591  -0.04266562 -0.08542471 -0.0360357   0.05364192\n",
      "  -0.06394888 -0.20275204  0.15081456  0.08863854]\n",
      " [-0.23150769 -0.12703398  0.18026596 -0.09839886  0.17346802  0.09003472\n",
      "  -0.083459   -0.14614746  0.12300071  0.22309461]\n",
      " [ 0.21248335 -0.12898085  0.05429235  0.12902945 -0.14207873 -0.10945726\n",
      "   0.20360297 -0.07966211  0.16826409 -0.16204411]\n",
      " [ 0.03050572  0.00747366 -0.00448552 -0.08602086  0.06728154  0.00382245\n",
      "   0.08388171 -0.12111592 -0.07531147 -0.20426248]\n",
      " [ 0.0587455  -0.04331449  0.00641692 -0.20597461 -0.19938073 -0.09604844\n",
      "  -0.14449596 -0.13230048  0.03681254 -0.14755584]\n",
      " [ 0.19639882  0.17723027 -0.20937838  0.08094749 -0.07590711 -0.01799071\n",
      "   0.13948458 -0.04452802 -0.21043818 -0.00290273]\n",
      " [-0.10677765  0.20412844 -0.2108397   0.21902505 -0.17039862  0.03996211\n",
      "   0.04935196 -0.1349875  -0.05367979 -0.19557127]\n",
      " [-0.1531624  -0.17208841 -0.15097764 -0.08397201 -0.03505737  0.14911696\n",
      "   0.06389281  0.05065829  0.16293642  0.07433718]\n",
      " [-0.14323075  0.0047152  -0.14984272  0.22899541  0.01994485 -0.09579776\n",
      "  -0.17402744 -0.14482583 -0.22201253 -0.13442594]\n",
      " [ 0.05068669  0.17539886  0.00988238 -0.20919445  0.03047904  0.23132718\n",
      "   0.16160968 -0.05542427  0.19106653  0.05997887]\n",
      " [-0.10412766 -0.19615237 -0.19346797  0.09429234  0.15707445 -0.22093998\n",
      "  -0.12057985 -0.15246409 -0.09780812 -0.22026175]\n",
      " [ 0.08826888 -0.20490032 -0.09727046  0.06602356  0.10407057 -0.16237682\n",
      "   0.12390211 -0.06318642 -0.04156075  0.05587941]\n",
      " [ 0.15693411 -0.20663345  0.05179539  0.17747074  0.22139218 -0.13413072\n",
      "  -0.03657839  0.11347476  0.02923325  0.19373325]]\n",
      "\n",
      " Biases for layer  3\n",
      "[0. 0. 0. 0. 0. 0. 0. 0. 0. 0.]\n"
     ]
    }
   ],
   "source": [
    "for i in range(nLayers):\n",
    "    print('\\n Weights for layer ',i+1)\n",
    "    print(model.layers[i].get_weights()[0])\n",
    "    print('\\n Biases for layer ',i+1)\n",
    "    print(model.layers[i].get_weights()[1])\n",
    "# model.layers[0].get_biases()"
   ]
  },
  {
   "cell_type": "markdown",
   "id": "ca0b0b52",
   "metadata": {},
   "source": [
    "From the above, we can be sure that it does not change the weights and biases"
   ]
  },
  {
   "cell_type": "markdown",
   "id": "e03a0da1",
   "metadata": {},
   "source": [
    "## Fit 1 epoch  (forward feed, backpropagation, updating the weights, biases)\n",
    "\n",
    "Let us just try to see and compare the error after just 1 epoch. \n",
    "\n",
    "We should expect the model to perform forward feed, calculate loss/error,\n",
    "perform backpropagation,\n",
    "and adjust the weights and biases based on the learning rate.\n",
    "\n",
    "Note: Batch size=4 indicates that we are using all the training data(examples) and therefore this is the equivalent of my own implementation as I don't have stochastic/minibatch gradient descent implementation yet.\n",
    "\n",
    "References: https://machinelearningmastery.com/how-to-control-the-speed-and-stability-of-training-neural-networks-with-gradient-descent-batch-size/"
   ]
  },
  {
   "cell_type": "code",
   "execution_count": 25,
   "id": "99b06019",
   "metadata": {},
   "outputs": [
    {
     "name": "stdout",
     "output_type": "stream",
     "text": [
      "300/300 [==============================] - 0s 1ms/step - loss: 0.1070 - binary_crossentropy: 0.1070\n"
     ]
    },
    {
     "data": {
      "text/plain": [
       "<tensorflow.python.keras.callbacks.History at 0x16be2622ec8>"
      ]
     },
     "execution_count": 25,
     "metadata": {},
     "output_type": "execute_result"
    }
   ],
   "source": [
    "# fit the keras model on the dataset\n",
    "model.fit(inputs, outputs, epochs=1, batch_size=batchSize)"
   ]
  },
  {
   "cell_type": "markdown",
   "id": "eea5b430",
   "metadata": {},
   "source": [
    "## Now the weights and biases must have been updated"
   ]
  },
  {
   "cell_type": "code",
   "execution_count": 26,
   "id": "c8b43c66",
   "metadata": {},
   "outputs": [
    {
     "name": "stdout",
     "output_type": "stream",
     "text": [
      "\n",
      " Weights for layer  1\n",
      "[[-0.01227359  0.07432108 -0.03567654 ... -0.07238301  0.04532672\n",
      "   0.05462146]\n",
      " [-0.00100527  0.03011825 -0.05685579 ... -0.05561437 -0.02816436\n",
      "  -0.07016293]\n",
      " [-0.0200427  -0.00382718 -0.05161117 ... -0.05854199 -0.02774218\n",
      "  -0.0275002 ]\n",
      " ...\n",
      " [ 0.04911517 -0.0043738  -0.07900902 ... -0.06785433  0.01702582\n",
      "   0.0810388 ]\n",
      " [-0.03019032  0.06552826 -0.07776789 ... -0.06098049 -0.01169794\n",
      "  -0.03444167]\n",
      " [-0.03435747 -0.03229015 -0.0515297  ...  0.06746466  0.00028711\n",
      "  -0.01445276]]\n",
      "\n",
      " Biases for layer  1\n",
      "[ 5.5788219e-04  8.0601196e-04  3.4295885e-05  1.2542620e-04\n",
      "  4.9351924e-04  5.4919627e-04  1.2175153e-03 -1.4322166e-03\n",
      " -2.5662893e-04 -4.6664328e-04  1.7201124e-03 -5.3023302e-04\n",
      "  3.4885918e-04 -9.4626460e-04  1.1379567e-03  3.6135514e-04\n",
      "  1.3717219e-03  7.9312403e-04  4.0961866e-04  3.2822776e-04\n",
      " -2.5756664e-03 -6.5525022e-04  7.4434101e-05  1.3344998e-04\n",
      "  1.0023720e-03 -5.5819325e-04  6.9518894e-04 -1.0148116e-03\n",
      " -4.5187486e-04  2.9157949e-04 -2.5271490e-04  5.1014283e-04\n",
      " -1.6368316e-04 -7.6091656e-04  2.4753713e-04  8.0377424e-05\n",
      "  8.8464998e-04  1.3803325e-04 -1.2894876e-03 -4.5688482e-04\n",
      "  6.5749272e-04 -1.0291078e-03 -2.1510890e-04  1.2673068e-04\n",
      "  1.0859629e-03  3.5794795e-04 -1.3118659e-03 -6.9584238e-04\n",
      "  4.9859099e-04 -1.2541927e-03 -1.3296118e-03  4.1058549e-04\n",
      " -8.2575157e-04 -5.7858124e-04  5.6566772e-05  6.0395739e-04\n",
      "  9.8170451e-05  1.5387485e-03  4.5805304e-05 -8.5798436e-04\n",
      " -3.9969501e-04 -1.3403719e-03 -3.8457039e-04  3.8996007e-04\n",
      " -6.3929782e-04  9.1539248e-04  9.3923276e-04  6.5933308e-04\n",
      "  2.1741595e-04 -9.7900128e-04 -4.1054044e-04 -1.0245314e-03\n",
      "  2.4093776e-04 -1.9430090e-05 -1.7309571e-03  8.0304337e-04\n",
      "  2.0245005e-05  1.2234710e-03 -6.7005644e-04  5.7749666e-04\n",
      " -1.8355318e-03  1.5976616e-04  4.9008871e-04  5.0742755e-04\n",
      "  1.0620167e-03 -1.1159270e-03 -2.6825364e-04  9.4999373e-04\n",
      " -3.8696755e-05 -1.8392979e-04  1.0009879e-03 -1.0026476e-03\n",
      "  4.2966602e-04  5.0400838e-04 -1.1192610e-03 -1.3414577e-04\n",
      " -4.6102994e-04 -1.1361610e-03  4.1604908e-05  9.7943726e-04]\n",
      "\n",
      " Weights for layer  2\n",
      "[[ 0.12958722  0.16975959  0.04006359 ... -0.03561691 -0.00399579\n",
      "   0.17180543]\n",
      " [-0.0583826  -0.12977247  0.1288877  ...  0.16089803  0.17169838\n",
      "   0.09457274]\n",
      " [ 0.0301222  -0.11816306 -0.07177432 ...  0.1477741   0.06197366\n",
      "   0.12594005]\n",
      " ...\n",
      " [ 0.04400714  0.05711168 -0.01896362 ... -0.13252187  0.14843549\n",
      "   0.04375891]\n",
      " [ 0.0188833  -0.16005921  0.07622514 ...  0.09264363  0.01426057\n",
      "   0.11624158]\n",
      " [-0.02170959 -0.15230799  0.16033061 ...  0.07807564 -0.10147037\n",
      "   0.10926171]]\n",
      "\n",
      " Biases for layer  2\n",
      "[-3.0597229e-03 -5.6432313e-03 -2.6894910e-03 -3.4011062e-03\n",
      "  2.2899746e-03 -2.2143507e-03  1.4624735e-03  2.4037163e-03\n",
      "  2.4482838e-03 -6.5290369e-03 -2.7801336e-03  3.6458275e-04\n",
      " -1.9169725e-03 -2.0170854e-03 -7.9604257e-03 -1.7977360e-03\n",
      " -7.0492900e-04  1.5029281e-03 -5.2050510e-03 -2.9898770e-03\n",
      " -3.5822967e-03 -2.2944703e-03  2.5512713e-03 -4.9992641e-03\n",
      " -3.5063815e-03 -3.7692117e-03 -3.3916107e-03  6.0003544e-03\n",
      "  4.9483720e-03 -2.6859192e-03 -2.7212440e-03 -2.3110269e-04\n",
      "  6.5704877e-04  3.5128326e-03  2.5815733e-03  6.3940673e-04\n",
      "  1.4197656e-04 -3.9218547e-04 -4.3940181e-03 -1.7874537e-03\n",
      " -3.2300379e-03  6.8497832e-04 -4.7812583e-03 -1.6198853e-03\n",
      "  2.3422912e-03  7.2661345e-04  5.0582370e-04 -6.5659182e-03\n",
      "  2.3789858e-03 -6.4398817e-05  5.7242098e-03 -3.2052598e-03\n",
      " -2.7516640e-03 -1.8099543e-03  5.3351494e-03 -1.6995758e-04\n",
      " -3.0520221e-03  2.1889438e-03 -2.5685979e-03  3.4148060e-03\n",
      "  4.7711222e-04  2.6048548e-03 -7.0599643e-05 -1.9835776e-03\n",
      " -4.7688074e-03 -5.8152168e-03 -5.8324379e-03  3.1460135e-03\n",
      " -1.8712021e-03 -3.6788394e-03 -3.2580160e-03  5.1885336e-03\n",
      " -1.2268899e-03 -1.1487035e-03  3.8132407e-03 -2.3426649e-03\n",
      " -1.7769210e-04 -2.5130124e-03  1.6610875e-03 -6.7273492e-04\n",
      " -2.6933901e-04 -3.1658986e-03 -3.6953492e-03 -5.7619187e-04\n",
      " -1.4166496e-03 -1.7455121e-03  5.3231725e-03 -2.4143865e-03\n",
      " -6.5665757e-03  4.6527381e-03 -1.5333561e-04  2.3415622e-03\n",
      "  1.6963312e-03  1.1770744e-03 -3.7783580e-03  2.7286033e-03\n",
      " -6.2615857e-03  1.6831718e-03  5.3579209e-04  3.7699693e-03]\n",
      "\n",
      " Weights for layer  3\n",
      "[[ 1.04598748e-02  1.72619864e-01  1.06954863e-02 -1.69936001e-01\n",
      "  -7.35467076e-02  1.81434929e-01  1.94365174e-01  7.46989856e-04\n",
      "  -5.50512485e-02 -1.68993294e-01]\n",
      " [-1.85342029e-01  5.07761538e-02  1.84004948e-01  8.58104602e-02\n",
      "   3.11297011e-02  1.96365371e-01  1.81523368e-01 -1.42163515e-01\n",
      "   3.23189124e-02  1.41623586e-01]\n",
      " [-5.09861223e-02  2.27907687e-01  1.79126412e-01 -1.60033911e-01\n",
      "   1.83819488e-01 -1.27774015e-01  1.94726393e-01  2.46528953e-01\n",
      "   2.21190408e-01  7.86827803e-02]\n",
      " [ 2.92862928e-03  2.48356909e-02  7.99464956e-02  3.94952409e-02\n",
      "   8.93232226e-02 -7.58258551e-02  8.09001178e-02 -1.35410547e-01\n",
      "   6.72753435e-03  1.20163143e-01]\n",
      " [-1.53807685e-01  2.01876819e-01  1.16146564e-01  8.02072957e-02\n",
      "  -7.97357038e-02  1.86378300e-01 -6.57198578e-02  2.41943255e-01\n",
      "  -6.21032007e-02 -9.08513144e-02]\n",
      " [ 1.60767168e-01  1.63504556e-01 -9.94731858e-02 -1.12285323e-01\n",
      "  -1.05710432e-01  1.54076606e-01  2.18369320e-01 -6.73146322e-02\n",
      "  -1.97332725e-01 -8.30235556e-02]\n",
      " [ 1.61151245e-01 -1.53963953e-01 -4.22891006e-02 -2.05061838e-01\n",
      "   1.22863322e-01  7.44234249e-02 -7.18436986e-02  2.27302864e-01\n",
      "  -2.40573198e-01 -9.82373022e-04]\n",
      " [-2.00091884e-01 -1.66227967e-01 -1.94486782e-01 -3.91985103e-02\n",
      "  -1.83663234e-01 -1.99709952e-01 -1.68386087e-01 -3.39763798e-02\n",
      "  -1.16940491e-01 -2.36594617e-01]\n",
      " [-7.12664351e-02  1.38990153e-02 -1.77005455e-01  9.15948860e-03\n",
      "  -4.93624285e-02 -2.17581436e-01 -3.06904316e-02  1.90919340e-01\n",
      "  -7.78878331e-02 -7.58116785e-03]\n",
      " [-3.38432603e-02  1.62517279e-01 -5.18029891e-02 -1.82175741e-01\n",
      "   1.89329937e-01  4.23358344e-02 -2.13615492e-01 -1.72220290e-01\n",
      "  -2.12626457e-01  1.58074677e-01]\n",
      " [-2.58742440e-02 -5.07666506e-02 -2.17934340e-01 -4.50676642e-02\n",
      "   1.36013642e-01 -1.85370948e-02 -1.81985393e-01 -7.37484638e-03\n",
      "  -1.72600538e-01  1.72343761e-01]\n",
      " [-4.18723039e-02  2.07058229e-02  7.34939054e-02  2.49299616e-01\n",
      "  -2.42547039e-03  1.40792295e-01  1.36392757e-01  1.90276653e-01\n",
      "  -9.02976915e-02  1.13045812e-01]\n",
      " [ 4.93995659e-02  1.35875449e-01 -1.13833226e-01  1.83159694e-01\n",
      "   2.16241796e-02  2.02417761e-01  9.79491174e-02  1.87982339e-02\n",
      "  -1.57095030e-01  7.56765455e-02]\n",
      " [-1.42539382e-01  1.11788735e-01 -1.59117758e-01  4.78068925e-02\n",
      "  -9.31436568e-02  1.24338306e-01 -1.46335557e-01 -1.21552736e-01\n",
      "   7.15549067e-02 -1.78361028e-01]\n",
      " [-1.33815423e-01  9.81638879e-02  1.20329335e-01 -2.00421691e-01\n",
      "  -3.30054425e-02  1.60529524e-01  8.85298997e-02 -1.38802871e-01\n",
      "  -1.82298213e-01  1.73926443e-01]\n",
      " [-1.79072604e-01 -9.32149962e-03 -7.37333819e-02 -5.87127432e-02\n",
      "  -1.43347219e-01  1.34594962e-01  1.72085151e-01  1.59874752e-01\n",
      "  -5.07695936e-02 -1.13053039e-01]\n",
      " [ 1.00173123e-01  1.75779134e-01 -2.41434034e-02 -6.55672222e-04\n",
      "  -2.08814725e-01 -9.16948467e-02 -2.08988070e-01 -1.96128055e-01\n",
      "   7.61199817e-02  2.04473853e-01]\n",
      " [ 1.21046633e-01 -5.69577776e-02 -9.85391159e-03  1.11881029e-02\n",
      "   9.14648995e-02  4.47763279e-02 -2.11610571e-02  9.98053700e-02\n",
      "  -1.84127420e-01  6.56448770e-03]\n",
      " [-1.25986367e-01  3.95886041e-02  1.84253648e-01 -1.34649247e-01\n",
      "  -7.95519575e-02  1.16975885e-02  2.38790084e-02 -1.94793820e-01\n",
      "   6.47295788e-02  6.81343973e-02]\n",
      " [-1.31435290e-01 -4.20944169e-02 -1.42061368e-01  1.43164426e-01\n",
      "   6.98243156e-02  1.46580547e-01  2.23915633e-02 -8.04284886e-02\n",
      "   1.52016282e-01 -1.75136998e-01]\n",
      " [ 2.47823149e-02  5.27647696e-03 -7.71066099e-02 -1.64630845e-01\n",
      "   1.72404721e-01  1.46095797e-01 -3.53678353e-02  1.32422611e-01\n",
      "   1.68221384e-01  1.30499406e-02]\n",
      " [ 7.90081976e-04  2.19660640e-01  1.21880494e-01  1.69382736e-01\n",
      "  -1.15257315e-01 -6.23939782e-02  1.66104481e-01 -1.39284551e-01\n",
      "   9.88734365e-02  1.85727626e-01]\n",
      " [-1.37627367e-02 -1.19032674e-01  1.29728734e-01 -3.96642275e-02\n",
      "   1.40099183e-01 -1.56855643e-01 -1.70893312e-01 -3.99311036e-02\n",
      "  -9.33924243e-02 -1.50398910e-01]\n",
      " [-6.42259547e-04 -1.37781037e-03 -1.19157732e-02 -2.11743668e-01\n",
      "   1.15768919e-02  1.99474052e-01  6.78631738e-02  1.48828641e-01\n",
      "   1.10323764e-02  2.02770889e-01]\n",
      " [-1.55600354e-01 -2.01854110e-01 -2.23109886e-01  1.21720470e-01\n",
      "   2.13597700e-01  1.17817596e-01  1.24069057e-01 -1.00231729e-02\n",
      "   1.14052789e-02 -1.98020861e-01]\n",
      " [-1.87515348e-01  1.07773386e-01 -1.10713258e-01  4.79112081e-02\n",
      "  -1.97415292e-01  1.10093415e-01  1.48390651e-01  6.02990203e-02\n",
      "  -6.44366220e-02  1.48647368e-01]\n",
      " [-1.79502666e-02 -1.88523188e-01 -1.76744595e-01 -1.01189040e-01\n",
      "   5.36656603e-02  2.19067335e-02  1.93380907e-01 -1.68933675e-01\n",
      "  -6.33639544e-02 -2.30448768e-01]\n",
      " [ 3.15806381e-02 -8.33350196e-02  1.98793374e-02  2.09643334e-01\n",
      "  -1.03099570e-01 -1.42140567e-01 -1.32802144e-01  1.79664701e-01\n",
      "  -9.38910395e-02  1.45231888e-01]\n",
      " [-1.83316574e-01 -1.07468046e-01  2.39401534e-01  7.80555904e-02\n",
      "  -4.09327224e-02 -1.52102754e-01 -8.96584094e-02  2.23334432e-01\n",
      "  -2.40420863e-01 -4.06929627e-02]\n",
      " [-1.71947345e-01 -3.15979868e-02  4.26387489e-02 -1.03779227e-01\n",
      "  -2.38498464e-01 -1.28489099e-02 -1.06333643e-01 -8.95146430e-02\n",
      "   3.63383181e-02  1.16724603e-01]\n",
      " [ 8.34734067e-02 -2.08676517e-01 -8.85797068e-02  6.21181205e-02\n",
      "  -5.30206114e-02  1.73185483e-01  5.27925082e-02 -1.54646814e-01\n",
      "   7.46652484e-02 -5.24908646e-05]\n",
      " [ 1.77010208e-01 -5.68968281e-02 -1.58891752e-01 -1.83197692e-01\n",
      "  -2.23705515e-01  1.94024835e-02 -3.88164483e-02  2.42596343e-02\n",
      "  -4.67581712e-02  1.25876129e-01]\n",
      " [ 2.46297464e-01  1.85764700e-01 -1.79092348e-01  1.06024258e-01\n",
      "   2.07362399e-01 -9.09300223e-02  3.32499705e-02  1.50601327e-01\n",
      "  -1.59694403e-01  2.08122522e-01]\n",
      " [-3.19112241e-02 -2.29956076e-01  7.88039193e-02 -1.25265285e-01\n",
      "  -2.33907267e-01 -9.83846337e-02 -2.35395625e-01  5.97118353e-03\n",
      "   1.58745348e-01 -1.03077285e-01]\n",
      " [-3.88287827e-02  8.03131536e-02  1.12101182e-01  1.46467224e-01\n",
      "   6.40023872e-02 -2.10975841e-01 -7.30516985e-02 -3.70025858e-02\n",
      "   1.94067314e-01 -1.42913908e-01]\n",
      " [-2.03071669e-01 -1.33873716e-01  2.05625105e-03  3.44360955e-02\n",
      "   2.11594611e-01 -7.12879607e-03 -1.42882690e-01  2.52694547e-01\n",
      "  -1.87386706e-01  2.30387338e-02]\n",
      " [ 1.56048313e-01  2.77434923e-02 -9.21649672e-03 -1.04160279e-01\n",
      "  -2.03920171e-01  2.04112411e-01 -9.50799733e-02  1.24629296e-01\n",
      "   9.40956995e-02  2.04774633e-01]\n",
      " [-5.10187000e-02 -2.22603172e-01  1.63456753e-01  6.94947839e-02\n",
      "   9.55512524e-02 -4.79661226e-02  5.43406904e-02 -1.70221791e-01\n",
      "  -1.61495656e-01 -8.97444263e-02]\n",
      " [ 2.80389693e-02  1.05918922e-01 -1.06322780e-01  2.40211248e-01\n",
      "   6.84029758e-02  1.44270122e-01  1.42282397e-02 -1.94975927e-01\n",
      "  -2.11344436e-02  1.55991659e-01]\n",
      " [-3.68933170e-03 -1.33485541e-01 -1.32567585e-01 -1.30528390e-01\n",
      "  -2.43094951e-01  4.75734584e-02 -1.94260269e-01 -1.34240538e-01\n",
      "   1.58836365e-01  7.18971118e-02]\n",
      " [-1.96936265e-01 -2.06156135e-01  2.31561571e-01  2.07574368e-02\n",
      "   1.65940166e-01 -8.68372545e-02  5.71430139e-02 -4.73373644e-02\n",
      "  -5.55928238e-02  9.66587812e-02]\n",
      " [ 2.43410468e-01  2.66103726e-02 -2.04246059e-01 -1.89813331e-01\n",
      "   8.27863738e-02 -1.54507264e-01 -1.47544682e-01  8.42618197e-02\n",
      "   1.89061061e-01  3.80782783e-02]\n",
      " [-1.12619676e-01 -2.25073755e-01 -2.81258747e-02 -3.83695285e-03\n",
      "   9.67885405e-02  2.01184422e-01  1.84650004e-01  1.24923661e-01\n",
      "   1.73341602e-01  1.31775305e-01]\n",
      " [ 9.66560990e-02  2.01685056e-01  1.23546198e-01 -1.39095098e-01\n",
      "   1.58323124e-01  8.61532018e-02 -2.32864842e-01  3.53269726e-02\n",
      "   1.02066390e-01  1.20896496e-01]\n",
      " [ 6.03225380e-02  1.47802278e-01  2.40703657e-01 -1.95179973e-03\n",
      "   2.77774706e-02 -2.04021960e-01  5.00338860e-02 -6.21485785e-02\n",
      "   2.22330675e-01 -1.79027334e-01]\n",
      " [ 1.15040258e-01 -2.01365516e-01 -1.07827000e-01  1.73897699e-01\n",
      "   8.33481476e-02 -2.00474456e-01  6.31754026e-02 -1.41619712e-01\n",
      "   2.18552217e-01 -5.36945201e-02]\n",
      " [ 1.46460459e-01  1.40359133e-01  1.83742523e-01 -1.27262637e-01\n",
      "  -2.12886140e-01  1.67938903e-01  6.69797584e-02 -1.38712794e-01\n",
      "   1.72291368e-01 -2.43607506e-01]\n",
      " [ 1.09684030e-02  1.72964573e-01 -1.93375751e-01 -1.22706532e-01\n",
      "   1.45986184e-01  1.24340758e-01  9.73497182e-02  7.46980458e-02\n",
      "  -1.39892831e-01  1.80287719e-01]\n",
      " [-2.08171934e-01 -1.74711913e-01  1.86549649e-01 -1.88456252e-01\n",
      "   8.19852129e-02 -9.33555439e-02 -2.10738868e-01  1.89084023e-01\n",
      "   8.45981911e-02 -2.07867101e-01]\n",
      " [ 2.06184149e-01 -2.10814029e-01 -1.19366422e-01 -7.06202686e-02\n",
      "  -5.49692661e-02  2.10483760e-01  8.06715190e-02 -5.17705120e-02\n",
      "  -8.49041194e-02 -1.83506444e-01]\n",
      " [ 3.72672523e-03 -2.58169528e-02  6.35814518e-02 -1.18336685e-01\n",
      "  -1.02730170e-01 -2.09751323e-01 -1.98695779e-01  2.14700162e-01\n",
      "  -1.85064077e-01  9.63350199e-03]\n",
      " [ 2.42903386e-03  2.07821146e-01 -1.00910641e-01 -1.48684636e-01\n",
      "  -2.59206239e-02 -9.92448404e-02 -1.02371544e-01 -5.04134931e-02\n",
      "   1.63274661e-01  8.21620822e-02]\n",
      " [-3.09482515e-02 -2.24996865e-01 -6.23256154e-02 -1.31750211e-01\n",
      "  -6.94780126e-02  8.18824992e-02 -2.48760115e-02 -1.62858993e-01\n",
      "   1.53701901e-01 -1.91660777e-01]\n",
      " [ 1.66339293e-01 -1.92429230e-01 -1.82890221e-01 -1.36459306e-01\n",
      "   5.88128939e-02 -2.02319205e-01  1.83012918e-01 -1.33114472e-01\n",
      "  -4.75050397e-02 -8.96521583e-02]\n",
      " [ 1.72573209e-01  9.69728976e-02 -9.07967612e-03  2.24939547e-02\n",
      "   1.01355035e-02 -7.73506761e-02 -1.90413773e-01  2.16644958e-01\n",
      "  -2.01596573e-01  1.13974012e-01]\n",
      " [-1.81526482e-01 -1.09824762e-01  1.56053221e-02  1.34911522e-01\n",
      "   1.21827312e-01  2.26172842e-02  2.54902691e-02 -2.13092193e-02\n",
      "  -1.08059593e-01 -2.37204090e-01]\n",
      " [-1.17229708e-02  1.36656687e-01 -2.19349518e-01 -3.43207866e-02\n",
      "  -2.17119716e-02  1.82188928e-01 -6.79319426e-02  5.58631346e-02\n",
      "  -2.09347755e-01  1.41637236e-01]\n",
      " [-1.99850332e-02  1.63985431e-01  2.89976993e-03  4.90482189e-02\n",
      "  -1.04143173e-01 -2.17772335e-01 -9.19987932e-02 -1.00095406e-01\n",
      "   2.69438489e-03 -1.09553553e-01]\n",
      " [-2.03653738e-01  5.92797175e-02 -8.36760029e-02  1.12064071e-01\n",
      "   5.65259792e-02 -2.17207700e-01 -1.51591778e-01 -1.15836747e-01\n",
      "  -1.37929946e-01  1.81140915e-01]\n",
      " [-1.03994958e-01  6.10077865e-02  1.86731875e-01 -8.65990445e-02\n",
      "  -2.53277477e-02 -1.40413105e-01 -1.03208788e-01  2.43306473e-01\n",
      "  -2.24309295e-01  7.07180724e-02]\n",
      " [ 9.13302302e-02 -2.30517834e-01  1.00029651e-02  1.12876505e-01\n",
      "   1.92736730e-01  1.01269491e-01 -2.21597776e-01  7.87140876e-02\n",
      "  -7.27577060e-02  1.89251736e-01]\n",
      " [ 1.97433338e-01 -1.04380520e-02  8.70215967e-02  9.92763117e-02\n",
      "  -3.42646874e-02 -2.20072612e-01  1.78352565e-01 -1.51258290e-01\n",
      "  -2.30235085e-01 -3.26430164e-02]\n",
      " [-4.03445922e-02  1.03949651e-01 -1.49442717e-01  1.30043909e-01\n",
      "  -5.46226725e-02  1.35078251e-01 -1.44624114e-01  8.18705186e-02\n",
      "   4.62731160e-02  3.33948396e-02]\n",
      " [ 1.05731465e-01  4.95129488e-02 -1.71746582e-01 -9.08824876e-02\n",
      "   2.17323944e-01  1.64552823e-01 -1.38071716e-01  2.03299671e-01\n",
      "  -2.13592783e-01  2.03466088e-01]\n",
      " [-1.69101596e-01 -9.51029956e-02 -1.33619577e-01 -1.14804469e-01\n",
      "   6.36770725e-02 -1.25348613e-01  7.52766877e-02 -1.76246256e-01\n",
      "   7.71311810e-03 -1.60609320e-01]\n",
      " [-2.00428903e-01 -1.88838109e-01 -8.06199759e-02 -1.91405609e-01\n",
      "   1.44421786e-01 -1.60394818e-01  7.91390762e-02 -3.50114778e-02\n",
      "  -3.80892716e-02  1.50645180e-02]\n",
      " [-2.06375465e-01  3.15648806e-03  6.29418269e-02  4.49248590e-02\n",
      "  -5.43838330e-02  4.21822667e-02  1.77321404e-01 -2.70028459e-03\n",
      "   2.07105786e-01  2.16311321e-01]\n",
      " [-1.05999717e-02 -1.20682977e-01 -4.13009152e-03  3.27573121e-02\n",
      "  -2.06573084e-01 -2.36162528e-01 -3.62188667e-02 -1.06833577e-01\n",
      "   3.06726638e-02 -9.70679298e-02]\n",
      " [-1.31477356e-01 -4.61915284e-02  1.00143485e-01 -3.08570601e-02\n",
      "  -1.02908455e-01 -1.66962802e-01  1.50144398e-01 -1.45566747e-01\n",
      "   7.75554329e-02 -2.80526467e-02]\n",
      " [-1.92008331e-01  1.47506639e-01  1.95225894e-01  1.74814299e-01\n",
      "   1.79683626e-01  6.27629310e-02 -5.04746288e-02 -2.68330742e-02\n",
      "  -1.26931700e-03  1.94979414e-01]\n",
      " [-1.73791245e-01  3.75650823e-02  5.05751185e-02 -5.56245539e-03\n",
      "   1.60919949e-01  1.54307261e-01 -9.39358771e-02  1.85181051e-01\n",
      "  -2.39878535e-01  2.06710190e-01]\n",
      " [ 8.30934867e-02 -1.13955900e-01  2.37501040e-01 -3.37443571e-03\n",
      "   2.54078135e-02 -1.13463707e-01 -1.03827432e-01  1.34636909e-01\n",
      "   1.80057853e-01 -8.55559558e-02]\n",
      " [ 1.71646878e-01 -4.77812402e-02 -1.31357685e-01  9.31093395e-02\n",
      "   1.14022583e-01  1.89545006e-02 -1.51380166e-01 -1.59462944e-01\n",
      "   1.95910767e-01  2.21067797e-02]\n",
      " [ 1.34972587e-01  1.68001860e-01  1.08861672e-02  1.79331228e-01\n",
      "   1.46130130e-01  1.78381011e-01  1.60699770e-01 -4.65316549e-02\n",
      "   1.10640854e-01 -1.21533267e-01]\n",
      " [ 2.21921846e-01  2.02876791e-01  1.83233544e-01 -1.29775509e-01\n",
      "   7.93127865e-02 -1.84961483e-01  1.53281689e-01  1.69863909e-01\n",
      "   1.98046520e-01 -2.36977696e-01]\n",
      " [ 1.89992383e-01  2.65898444e-02 -1.81491584e-01 -3.05007994e-02\n",
      "   7.52574345e-03  2.07974792e-01  7.20150620e-02 -1.90406188e-01\n",
      "   1.54775590e-01 -1.26606345e-01]\n",
      " [-3.02766059e-02  2.58112531e-02  7.45504051e-02 -1.48960724e-01\n",
      "   2.77020670e-02  1.89677835e-01 -1.46501705e-01  5.38878553e-02\n",
      "  -2.35359356e-01 -7.63201490e-02]\n",
      " [-4.10962142e-02  1.30541384e-01  1.50675654e-01 -1.46548674e-01\n",
      "  -1.32802665e-01  1.81880221e-01  7.64701068e-02 -1.17759861e-01\n",
      "   6.36521429e-02 -2.11049289e-01]\n",
      " [ 4.73456345e-02 -2.24223011e-03  9.00963098e-02 -5.88701293e-02\n",
      "   1.68440446e-01  6.76191971e-02 -6.53959066e-02  2.19498396e-01\n",
      "  -2.27097478e-02 -5.57290018e-02]\n",
      " [ 8.79202932e-02  2.21083742e-02  2.62587946e-02  9.35500041e-02\n",
      "  -1.97646409e-01  6.44338354e-02  2.08696693e-01 -8.43422581e-03\n",
      "   7.36815715e-03  1.21640176e-01]\n",
      " [-1.04384385e-01  8.94702673e-02 -5.80558442e-02 -4.79772501e-03\n",
      "  -1.27342595e-02 -7.78283775e-02  1.66061610e-01  1.90617368e-01\n",
      "  -8.78098905e-02  1.46209672e-02]\n",
      " [ 2.23673850e-01  1.92480832e-01 -1.22946501e-01 -2.89927702e-02\n",
      "   4.88251150e-02 -1.38317928e-01  1.72201470e-01 -1.53635919e-01\n",
      "  -1.40846416e-01  1.72172710e-01]\n",
      " [-4.37331684e-02  1.12967119e-01  7.03462726e-03  8.45228359e-02\n",
      "  -1.99173436e-01  4.81478162e-02  1.26267180e-01 -9.80173722e-02\n",
      "   1.88638911e-01  1.67775318e-01]\n",
      " [ 1.21216603e-01 -6.66771084e-02  1.48682088e-01 -1.09131217e-01\n",
      "  -6.91472590e-02 -2.11290848e-02 -6.32486418e-02 -1.57878727e-01\n",
      "   2.24300429e-01  4.12503257e-03]\n",
      " [ 2.28681955e-02 -2.07596183e-01  1.14313729e-01  2.64286902e-02\n",
      "  -9.43648890e-02  1.13157965e-01  1.50660247e-01 -1.21129312e-01\n",
      "   2.15492874e-01 -1.26878545e-01]\n",
      " [-7.99127743e-02 -4.73463573e-02  1.95529878e-01  1.06464268e-03\n",
      "  -2.33864322e-01  1.63891450e-01  4.21765447e-02 -1.69950560e-01\n",
      "  -4.04460467e-02 -2.41869204e-02]\n",
      " [ 1.24597818e-01  8.55025724e-02  7.51418844e-02 -2.02138945e-01\n",
      "   5.13246050e-03 -1.76066771e-01 -2.46464759e-01  1.27767175e-01\n",
      "   2.23869205e-01 -2.28830919e-01]\n",
      " [ 1.82255045e-01  1.99384555e-01 -3.15139815e-02 -6.73269406e-02\n",
      "  -5.08531369e-02  3.85359265e-02 -7.84351528e-02 -1.80834070e-01\n",
      "   1.44917861e-01  7.05402717e-02]\n",
      " [-2.03639686e-01 -1.31259248e-01  1.95675641e-01 -7.35738650e-02\n",
      "   1.53048262e-01  6.93895593e-02 -1.03328004e-01 -1.16182655e-01\n",
      "   1.14982538e-01  1.98204517e-01]\n",
      " [ 2.43797451e-01 -1.34209469e-01  7.09939152e-02  1.56614721e-01\n",
      "  -1.64679840e-01 -1.32230029e-01  1.81535870e-01 -4.59882468e-02\n",
      "   1.59019813e-01 -1.89405441e-01]\n",
      " [ 5.68985157e-02  3.23455338e-03  9.77301877e-03 -6.27219975e-02\n",
      "   4.80951741e-02 -1.56298410e-02  6.52393475e-02 -9.25383195e-02\n",
      "  -8.30476284e-02 -2.27533937e-01]\n",
      " [ 7.52788484e-02 -4.59811762e-02  1.52116055e-02 -1.91357121e-01\n",
      "  -2.11430266e-01 -1.08123623e-01 -1.56139508e-01 -1.14396602e-01\n",
      "   3.18625346e-02 -1.62020117e-01]\n",
      " [ 2.13749126e-01  1.74422175e-01 -2.00089544e-01  9.62675214e-02\n",
      "  -8.85715857e-02 -3.08147762e-02  1.27165496e-01 -2.54727732e-02\n",
      "  -2.15621382e-01 -1.81182548e-02]\n",
      " [-8.36396366e-02  2.00238347e-01 -1.98389560e-01  2.39387065e-01\n",
      "  -1.87201574e-01  2.29405854e-02  3.31042744e-02 -1.09885082e-01\n",
      "  -6.04969822e-02 -2.15844199e-01]\n",
      " [-1.24138899e-01 -1.76500380e-01 -1.35036603e-01 -5.82388975e-02\n",
      "  -5.64226061e-02  1.27543598e-01  4.31851111e-02  8.22275132e-02\n",
      "   1.54572144e-01  4.84927744e-02]\n",
      " [-1.19810522e-01  8.06779251e-04 -1.37488961e-01  2.49506101e-01\n",
      "   3.00273299e-03 -1.12746000e-01 -1.90446898e-01 -1.19649559e-01\n",
      "  -2.28929669e-01 -1.54751271e-01]\n",
      " [ 7.25601390e-02  1.72151744e-01  2.22261287e-02 -1.89678207e-01\n",
      "   1.43631017e-02  2.15025574e-01  1.46042377e-01 -3.19675021e-02\n",
      "   1.84832752e-01  4.02544290e-02]\n",
      " [-8.41378123e-02 -1.99516729e-01 -1.82752594e-01  1.11882523e-01\n",
      "   1.42567083e-01 -2.35724285e-01 -1.34601101e-01 -1.30593404e-01\n",
      "  -1.03732258e-01 -2.37826303e-01]\n",
      " [ 1.14654385e-01 -2.09310710e-01 -8.31006765e-02  8.92527923e-02\n",
      "   8.49716440e-02 -1.81787565e-01  1.05399586e-01 -3.46659236e-02\n",
      "  -4.92477119e-02  3.26838344e-02]\n",
      " [ 1.82681516e-01 -2.10992783e-01  6.54975101e-02  2.00140551e-01\n",
      "   2.02859819e-01 -1.52986348e-01 -5.46189845e-02  1.41316533e-01\n",
      "   2.16024760e-02  1.71190619e-01]]\n",
      "\n",
      " Biases for layer  3\n",
      "[ 0.04396613 -0.00709603  0.02383036  0.03890398 -0.03201354 -0.0324145\n",
      " -0.03111445  0.04759657 -0.01287153 -0.03878698]\n"
     ]
    }
   ],
   "source": [
    "for i in range(nLayers):\n",
    "    print('\\n Weights for layer ',i+1)\n",
    "    print(model.layers[i].get_weights()[0])\n",
    "    print('\\n Biases for layer ',i+1)\n",
    "    print(model.layers[i].get_weights()[1])\n",
    "# model.layers[0].get_biases()"
   ]
  },
  {
   "cell_type": "markdown",
   "id": "828c93f2",
   "metadata": {},
   "source": [
    "## Now let us do a forward feed again and calculate the loss/error\n",
    "\n",
    "Note: Batch size=4 indicates that we are using all the training data(examples) and therefore this is the equivalent of my own implementation as I don't have stochastic/minibatch gradient descent implementation yet.\n",
    "\n",
    "References: https://machinelearningmastery.com/how-to-control-the-speed-and-stability-of-training-neural-networks-with-gradient-descent-batch-size/"
   ]
  },
  {
   "cell_type": "code",
   "execution_count": 27,
   "id": "28ad2a76",
   "metadata": {},
   "outputs": [
    {
     "name": "stdout",
     "output_type": "stream",
     "text": [
      "300/300 [==============================] - 0s 944us/step - loss: 0.1061 - binary_crossentropy: 0.1061\n",
      "[0.10611245781183243, 0.10611245781183243]\n"
     ]
    }
   ],
   "source": [
    "out = model.evaluate(inputs, outputs, batch_size=batchSize)\n",
    "print(out)"
   ]
  },
  {
   "cell_type": "markdown",
   "id": "ec99b920",
   "metadata": {},
   "source": [
    "### The above result, compares well with the result from my own implementation (when biases are updated independently)"
   ]
  },
  {
   "cell_type": "markdown",
   "id": "e8326396",
   "metadata": {},
   "source": [
    "## Now let us let the model train for 10^4 epochs\n",
    "\n",
    "Note: Batch size=4 indicates that we are using all the training data(examples) and therefore this is the equivalent of my own implementation as I don't have stochastic/minibatch gradient descent implementation yet.\n",
    "\n",
    "References: https://machinelearningmastery.com/how-to-control-the-speed-and-stability-of-training-neural-networks-with-gradient-descent-batch-size/"
   ]
  },
  {
   "cell_type": "code",
   "execution_count": null,
   "id": "0ce71100",
   "metadata": {},
   "outputs": [],
   "source": [
    "%%time\n",
    "# fit the keras model on the dataset\n",
    "# history = model.fit(tf.convert_to_tensor(inputs, dtype=tf.float32), tf.convert_to_tensor(outputs, dtype=tf.float32), epochs=nEpochs, batch_size=batchSizenSamples, verbose=0)\n",
    "history = model.fit(inputs, outputs, epochs=nEpochs, batch_size=batchSize, verbose=0)"
   ]
  },
  {
   "cell_type": "markdown",
   "id": "6b0bc271",
   "metadata": {},
   "source": [
    "Turns out that this was quite slow. At first, I thought that the problem was that it was printing at each epoch. So I set the verbose=0 (silent). But still, it was incredibly slow compared to my implementation as well as PyTorch, even though we used own for loop in both the cases."
   ]
  },
  {
   "cell_type": "code",
   "execution_count": null,
   "id": "8281b61b",
   "metadata": {},
   "outputs": [],
   "source": [
    "history.history"
   ]
  },
  {
   "cell_type": "markdown",
   "id": "6d1cf702",
   "metadata": {},
   "source": [
    "## Now also let us have a look at the predictions for the sake of the tutorial"
   ]
  },
  {
   "cell_type": "code",
   "execution_count": null,
   "id": "3e0f2c44",
   "metadata": {},
   "outputs": [],
   "source": [
    "# make probability predictions with the model\n",
    "predictions = model.predict(inputs)\n",
    "print(predictions)"
   ]
  },
  {
   "cell_type": "markdown",
   "id": "52bbf9d7",
   "metadata": {},
   "source": [
    "## We have seen how to initialize custom weights/biases, perform forward feed, train/optimize the model, and finally how to check the updated parameters.\n",
    "\n",
    "\n",
    "## Let us now see how we can see the input/output at each layer for debugging purposes."
   ]
  },
  {
   "cell_type": "code",
   "execution_count": null,
   "id": "683e9b1a",
   "metadata": {},
   "outputs": [],
   "source": [
    "\n",
    "for i in range(nLayers):\n",
    "    print('\\n Inputs for layer ',i+1)\n",
    "    print(model.layers[i].input)\n",
    "    print('\\n Outputs for layer ',i+1)\n",
    "    print(model.layers[i].output)"
   ]
  },
  {
   "cell_type": "code",
   "execution_count": null,
   "id": "1ddcb332",
   "metadata": {},
   "outputs": [],
   "source": [
    "\n",
    "for i in range(nLayers):\n",
    "    print('\\n Inputs for layer ',i+1)\n",
    "    print(model.layers[i].input)\n",
    "    print('\\n Outputs for layer ',i+1)\n",
    "    print(model.layers[i].output)"
   ]
  },
  {
   "cell_type": "markdown",
   "id": "f03f3fe5",
   "metadata": {},
   "source": [
    "## We can't really see any numbers in the above output\n",
    "## So we need to do something more"
   ]
  },
  {
   "cell_type": "code",
   "execution_count": null,
   "id": "d6733853",
   "metadata": {},
   "outputs": [],
   "source": [
    "for i in range(nLayers):\n",
    "    print('\\n Inputs for layer ',i+1)\n",
    "    func = K.function([model.get_layer(index=0).input], model.get_layer(index=i).input)\n",
    "    layerInput = func([inputs])  # input_data is a numpy array\n",
    "    print(layerInput)\n",
    "    print('\\n Outputs for layer ',i+1)\n",
    "    func = K.function([model.get_layer(index=0).input], model.get_layer(index=i).output)\n",
    "    layerOutput = func([inputs])  # input_data is a numpy array\n",
    "    print(layerOutput)\n",
    "\n",
    "\n"
   ]
  },
  {
   "cell_type": "code",
   "execution_count": null,
   "id": "83efc0b7",
   "metadata": {
    "scrolled": true
   },
   "outputs": [],
   "source": [
    "# Plot the error vs epochs\n",
    "plt.plot(history.history['loss'])\n",
    "plt.yscale('log')\n",
    "plt.show()"
   ]
  },
  {
   "cell_type": "markdown",
   "id": "f177671d",
   "metadata": {},
   "source": [
    "# My implementation"
   ]
  },
  {
   "cell_type": "markdown",
   "id": "29ed0ced",
   "metadata": {},
   "source": [
    "## Forwad feed once"
   ]
  },
  {
   "cell_type": "code",
   "execution_count": null,
   "id": "3f9fb0d1",
   "metadata": {},
   "outputs": [],
   "source": [
    "# Perform Forward feed and get the outputs at each layers and the inputs at each layer\n",
    "a, z = forward_feed(inputs, nLayers, weightsOriginal, biasesOriginal, activation_func_names)\n",
    "print('Outputs at each layer (including input layer):\\n ',a)\n",
    "print('Inputs at each layer :\\n ', z)\n",
    "\n",
    "# Error\n",
    "print('Error:\\n', MSE_loss(a[nLayers],outputs)/batchSize)"
   ]
  },
  {
   "cell_type": "markdown",
   "id": "911538f5",
   "metadata": {},
   "source": [
    "## Backpropagation"
   ]
  },
  {
   "cell_type": "code",
   "execution_count": null,
   "id": "d818b807",
   "metadata": {},
   "outputs": [],
   "source": [
    "# Get the derivative of the output cost function wrt to the output vector of the output layer\n",
    "# The input arguments should always be an array\n",
    "dc_daL = MSE_loss_grad(a[nLayers], outputs)/batchSize\n",
    "print('Gradient of the error function wrt to the predicted output of the output layer\\n',dc_daL)\n",
    "\n",
    "# Perform Back Propagation and get the derivatives wrt the weights and biases\n",
    "derWeights, derBiases, weights, biases = back_propagation(z, a, activation_func_names, nLayers, batchSize, weightsOriginal, biasesOriginal, eeta, dc_daL)\n",
    "print('Gradient of Cost (error function) wrt weights:\\n',derWeights)\n",
    "print('Gradient of Cost (error function) wrt biases:\\n',derBiases)"
   ]
  },
  {
   "cell_type": "markdown",
   "id": "343fa3ab",
   "metadata": {},
   "source": [
    "## Gradient descent (update the weights and biases)"
   ]
  },
  {
   "cell_type": "code",
   "execution_count": null,
   "id": "f335f47d",
   "metadata": {},
   "outputs": [],
   "source": [
    "newWeights = [weightsOriginal[i] - eeta*derWeights[i] for i in range(nLayers)]\n",
    "print('New Weights: ', newWeights)\n",
    "\n",
    "newBiases = [biasesOriginal[i] - eeta*derBiases[i] for i in range(nLayers)]\n",
    "# newBiases = biasesOriginal\n",
    "print('New Biases: ', newBiases)"
   ]
  },
  {
   "cell_type": "markdown",
   "id": "304aa2b5",
   "metadata": {},
   "source": [
    "## Forward feed again and check the loss/error"
   ]
  },
  {
   "cell_type": "code",
   "execution_count": null,
   "id": "c734ec4c",
   "metadata": {},
   "outputs": [],
   "source": [
    "# Perform Forward feed and get the outputs at each layers and the inputs at each layer\n",
    "a, z = forward_feed(inputs, nLayers, weightsOriginal, biasesOriginal, activation_func_names)\n",
    "print('Outputs at each layer (including input layer):\\n ',a)\n",
    "print('Inputs at each layer :\\n ', z)\n",
    "\n",
    "# New Error\n",
    "print('New Error:\\n', MSE_loss(a[nLayers],outputs)/batchSize)"
   ]
  },
  {
   "cell_type": "markdown",
   "id": "ec224438",
   "metadata": {},
   "source": [
    "## ** With np.einsum (slightly Slower than opt_einsum expression reuse)**"
   ]
  },
  {
   "cell_type": "code",
   "execution_count": null,
   "id": "ef07e705",
   "metadata": {},
   "outputs": [],
   "source": [
    "%%time\n",
    "\n",
    "# Run optimization\n",
    "optWeights, optBiases, errorPlot = nn_optimize(inputs, outputs, activation_func_names, nLayers, nEpochs=nEpochs, batchSize=batchSize, eeta=eeta, weights=weightsOriginal, biases=biasesOriginal, errorFunc=BCE_loss, gradErrorFunc=BCE_loss_grad,miniterEpoch=1,batchProgressBar=False,miniterBatch=100)\n",
    "\n"
   ]
  },
  {
   "cell_type": "code",
   "execution_count": null,
   "id": "0ac82e85",
   "metadata": {},
   "outputs": [],
   "source": [
    "print(errorPlot)"
   ]
  },
  {
   "cell_type": "code",
   "execution_count": null,
   "id": "245e168e",
   "metadata": {},
   "outputs": [],
   "source": [
    "print(errorPlot)"
   ]
  },
  {
   "cell_type": "markdown",
   "id": "97e3f47f",
   "metadata": {},
   "source": [
    "#### Test the quality of the weights by running a forward feed again"
   ]
  },
  {
   "cell_type": "code",
   "execution_count": null,
   "id": "27fbc9bb",
   "metadata": {},
   "outputs": [],
   "source": [
    "# Plot the error vs epochs\n",
    "plt.plot(errorPlot)\n",
    "plt.yscale('log')\n",
    "plt.show()"
   ]
  },
  {
   "cell_type": "code",
   "execution_count": null,
   "id": "306db008",
   "metadata": {},
   "outputs": [],
   "source": [
    "# Optimized weights and biases\n",
    "print('Optimized Weights: ', optWeights)\n",
    "print('Optimized Biases: ', optBiases)\n",
    "# Forward feed with optimized weights\n",
    "# Perform Forward feed and get the outputs at each layers and the inputs at each layer\n",
    "a, z = forward_feed(inputs, nLayers, optWeights, optBiases, activation_func_names)\n",
    "print('Outputs at each layer (including input layer):\\n ',a)\n",
    "print('Inputs at each layer :\\n ', z)\n",
    "# New Error\n",
    "print('New Average Error with optimized weights:\\n', BCE_loss(a[nLayers],outputs)/batchSize)\n",
    "print('Input: ',inputs)\n",
    "print('Output: ',a[nLayers])\n",
    "print('Expected Output: ',outputs)"
   ]
  },
  {
   "cell_type": "code",
   "execution_count": null,
   "id": "9340c2b7",
   "metadata": {},
   "outputs": [],
   "source": [
    "print('Difference b/w our weights & biases and keras results:')\n",
    "for i in range(nLayers):\n",
    "    print('\\nLayer : ',i+1)\n",
    "    print(abs(optWeights[i]-model.layers[i].get_weights()[0].T).max())\n",
    "    print(abs(optBiases[i]-model.layers[i].get_weights()[1].T).max())"
   ]
  },
  {
   "cell_type": "markdown",
   "id": "6e73a2f8",
   "metadata": {},
   "source": [
    "## ** NEW METHOD ** With opt_einsum expressions (It is faster than np.einsum but only slightly)"
   ]
  },
  {
   "cell_type": "code",
   "execution_count": null,
   "id": "4858363c",
   "metadata": {},
   "outputs": [],
   "source": [
    "%%time\n",
    "# Run optimization\n",
    "optWeights, optBiases, errorPlot = nn_optimize_fast(inputs, outputs, activation_func_names, nLayers, nEpochs=nEpochs, batchSize=batchSize, eeta=eeta, weights=weightsOriginal, biases=biasesOriginal, errorFunc=BCE_loss, gradErrorFunc=BCE_loss_grad,miniterEpoch=1,batchProgressBar=True,miniterBatch=100)\n",
    "\n"
   ]
  },
  {
   "cell_type": "code",
   "execution_count": null,
   "id": "1b80ad81",
   "metadata": {},
   "outputs": [],
   "source": [
    "# Plot the error vs epochs\n",
    "plt.plot(errorPlot)\n",
    "plt.yscale('log')\n",
    "plt.show()"
   ]
  },
  {
   "cell_type": "code",
   "execution_count": null,
   "id": "a1843176",
   "metadata": {},
   "outputs": [],
   "source": [
    "# Optimized weights and biases\n",
    "print('Optimized Weights: ', optWeights)\n",
    "print('Optimized Biases: ', optBiases)\n",
    "# Forward feed with optimized weights\n",
    "# Perform Forward feed and get the outputs at each layers and the inputs at each layer\n",
    "a, z = forward_feed(inputs, nLayers, optWeights, optBiases, activation_func_names)\n",
    "print('Outputs at each layer (including input layer):\\n ',a)\n",
    "print('Inputs at each layer :\\n ', z)\n",
    "# New Error\n",
    "print('New Average Error with optimized weights:\\n', BCE_loss(a[nLayers],outputs)/batchSize)\n",
    "print('Input: ',inputs)\n",
    "print('Output: ',a[nLayers])\n",
    "print('Expected Output: ',outputs)"
   ]
  },
  {
   "cell_type": "code",
   "execution_count": null,
   "id": "f5bccf53",
   "metadata": {},
   "outputs": [],
   "source": [
    "print('Difference b/w our weights & biases and keras results:')\n",
    "for i in range(nLayers):\n",
    "    print('\\nLayer : ',i+1)\n",
    "    print(abs(optWeights[i]-model.layers[i].get_weights()[0].T).max())\n",
    "    print(abs(optBiases[i]-model.layers[i].get_weights()[1].T).max())"
   ]
  },
  {
   "cell_type": "markdown",
   "id": "2ab565d8",
   "metadata": {},
   "source": [
    "### BCE testing"
   ]
  },
  {
   "cell_type": "code",
   "execution_count": null,
   "id": "2905e51c",
   "metadata": {},
   "outputs": [],
   "source": [
    "X = torch.tensor([[1,0],[1,0],[0,1],[0,1]],dtype=torch.float)\n",
    "softmaxTorch = torch.nn.Softmax(dim=1)\n",
    "\n",
    "\n",
    "bce_loss = torch.nn.BCELoss()\n",
    "mse_loss = torch.nn.MSELoss()\n",
    "ce_loss= torch.nn.CrossEntropyLoss()\n",
    "\n",
    "# My implementation of Softmax\n",
    "pred = Softmax(X.cpu().detach().numpy())\n",
    "print(pred)\n",
    "# PyTorch implementation of Softmax\n",
    "pred = softmaxTorch(X)\n",
    "print(pred)\n",
    "\n",
    "\n",
    "print(bce_loss(X,X)) # tensor(0.)\n",
    "print(bce_loss(pred,X)) # tensor(0.3133)\n",
    "print(bce_loss(pred,pred)) # tensor(0.5822)\n",
    "\n",
    "print(ce_loss(X,torch.argmax(X,dim=1))) # tensor(0.3133)\n",
    "\n",
    "# My implementation of cross entropy loss\n",
    "# Note these will be Nsamples*PyTorch results as I don't return the average right away\n",
    "print(binary_cross_entropy(X.cpu().detach().numpy(),X.cpu().detach().numpy())/X.shape[0])\n",
    "print(binary_cross_entropy(pred.cpu().detach().numpy(),X.cpu().detach().numpy())/X.shape[0])\n",
    "print(binary_cross_entropy(pred.cpu().detach().numpy(),pred.cpu().detach().numpy())/X.shape[0])\n",
    "\n",
    "print(binary_cross_entropy(pred.cpu().detach().numpy(),X.cpu().detach().numpy())/X.shape[0])\n",
    "print(cross_entropy_grad(pred.cpu().detach().numpy(),X.cpu().detach().numpy())/X.shape[0])\n",
    "print(errorFuncGrad(pred.cpu().detach().numpy(),X.cpu().detach().numpy())/X.shape[0])\n",
    "\n",
    "predX = torch.tensor(pred,dtype=torch.float,requires_grad=True)\n",
    "loss = bce_loss(predX,X)\n",
    "# loss = ce_loss(predX,torch.argmax(X,dim=1))\n",
    "# loss = mse_loss(predX,X)\n",
    "loss.backward()\n",
    "print('gradient',predX.grad)\n",
    "print(torch.autograd.grad(bce_loss(predX,X),predX))\n",
    "\n",
    "%timeit binary_cross_entropy(pred.cpu().detach().numpy(),pred.cpu().detach().numpy())\n",
    "%timeit binary_cross_entropy_grad(pred.cpu().detach().numpy(),X.cpu().detach().numpy())\n",
    "%timeit bce_loss(predX,X)\n",
    "\n",
    "%timeit softmaxTorch(X)\n",
    "%timeit Softmax(X.cpu().detach().numpy())\n",
    "\n",
    "%timeit cross_entropy(pred.cpu().detach().numpy(),X.cpu().detach().numpy())/X.shape[0]\n",
    "%timeit cross_entropy_grad(pred.cpu().detach().numpy(),X.cpu().detach().numpy())/X.shape[0]"
   ]
  },
  {
   "cell_type": "markdown",
   "id": "cec90f69",
   "metadata": {},
   "source": [
    "# PyTorch"
   ]
  },
  {
   "cell_type": "code",
   "execution_count": null,
   "id": "c0a23f4b",
   "metadata": {},
   "outputs": [],
   "source": [
    "### Choose device: 'cuda' or 'cpu'\n",
    "device = 'cpu'\n",
    "# device = 'cuda'"
   ]
  },
  {
   "cell_type": "markdown",
   "id": "228e2da0",
   "metadata": {},
   "source": [
    "## Generate the network programatically"
   ]
  },
  {
   "cell_type": "markdown",
   "id": "67c23f3c",
   "metadata": {},
   "source": [
    "## Method 1"
   ]
  },
  {
   "cell_type": "code",
   "execution_count": null,
   "id": "ce731137",
   "metadata": {},
   "outputs": [],
   "source": [
    "Layers = []\n",
    "# Input layer\n",
    "Layers.append(torch.nn.Linear(nInputs, neurons_per_layer[0]))\n",
    "Layers.append(torch.nn.Sigmoid())\n",
    "\n",
    "if nLayers>1:\n",
    "    # Hidden layers\n",
    "    for i in range(1,nLayers-1):\n",
    "        Layers.append(torch.nn.Linear(neurons_per_layer[i-1], neurons_per_layer[i]))\n",
    "        Layers.append(torch.nn.Sigmoid())\n",
    "    # Output layer\n",
    "    Layers.append(torch.nn.Linear(neurons_per_layer[nLayers-2], neurons_per_layer[nLayers-1]))\n",
    "    Layers.append(torch.nn.Sigmoid())"
   ]
  },
  {
   "cell_type": "code",
   "execution_count": null,
   "id": "c7750e93",
   "metadata": {},
   "outputs": [],
   "source": [
    "Network = torch.nn.Sequential(*Layers)"
   ]
  },
  {
   "cell_type": "code",
   "execution_count": null,
   "id": "002ba416",
   "metadata": {},
   "outputs": [],
   "source": [
    "print(Network)"
   ]
  },
  {
   "cell_type": "markdown",
   "id": "610feb25",
   "metadata": {},
   "source": [
    "## Method 2 (Suitable for us to modify weights for each layer to be same as keras and my implementation)"
   ]
  },
  {
   "cell_type": "code",
   "execution_count": null,
   "id": "65ed035e",
   "metadata": {},
   "outputs": [],
   "source": [
    "Network = torch.nn.Sequential()\n",
    " \n",
    "# Input layer -> 1st hidden layer\n",
    "Network.add_module(str(0),torch.nn.Linear(nInputs, neurons_per_layer[0]))\n",
    "# Activation function after first hidden layer\n",
    "Network.add_module('act0',act_func_dict_PyTorch[activation_func_names[0]])\n",
    "\n",
    "if nLayers>1:\n",
    "    # Hidden layers\n",
    "    for i in range(1,nLayers-1):\n",
    "        Network.add_module(str(i),torch.nn.Linear(neurons_per_layer[i-1], neurons_per_layer[i]))\n",
    "        Network.add_module('act'+str(i),act_func_dict_PyTorch[activation_func_names[i]])\n",
    "        \n",
    "    # Output layer\n",
    "    Network.add_module(str(nLayers-1),torch.nn.Linear(neurons_per_layer[nLayers-2], neurons_per_layer[nLayers-1]))\n",
    "    Network.add_module('act'+str(nLayers-1),act_func_dict_PyTorch[activation_func_names[nLayers-1]])"
   ]
  },
  {
   "cell_type": "code",
   "execution_count": null,
   "id": "4768d6e5",
   "metadata": {},
   "outputs": [],
   "source": [
    "# torch.nn.init.constant_(Network.weight, 2.0)\n",
    "Network.to(device=device)"
   ]
  },
  {
   "cell_type": "markdown",
   "id": "cdcd76c2",
   "metadata": {},
   "source": [
    "## initial weights and biases generated by Pytorch"
   ]
  },
  {
   "cell_type": "code",
   "execution_count": null,
   "id": "4e78ab86",
   "metadata": {},
   "outputs": [],
   "source": [
    "print(Network[0].weight)\n",
    "print(Network[0].bias)"
   ]
  },
  {
   "cell_type": "markdown",
   "id": "84842b37",
   "metadata": {},
   "source": [
    "## Change them to be the same as others\n",
    "\n",
    "## **IMPORTANT NOTE**: The returned tensor and the original array share the same memory. So any changes to the tensor change the array as well.\n",
    "\n",
    "Reference: https://pytorch.org/docs/stable/generated/torch.from_numpy.html\n",
    "\n"
   ]
  },
  {
   "cell_type": "code",
   "execution_count": null,
   "id": "f14f3678",
   "metadata": {},
   "outputs": [],
   "source": [
    "for i in range(nLayers):\n",
    "    # Weights\n",
    "#     Network._modules[str(i)].weight.data = torch.from_numpy(weightsOriginal[i]).to(dtype=torch.float32)\n",
    "    Network._modules[str(i)].weight.data = torch.tensor(weightsOriginal[i]).to(dtype=torch.float32)\n",
    "    # Biases\n",
    "#     Network._modules[str(i)].bias.data = torch.from_numpy(biasesOriginal[i]).to(dtype=torch.float32) # Convert to float32\n",
    "    Network._modules[str(i)].bias.data = torch.tensor(biasesOriginal[i]).to(dtype=torch.float32) # Convert to float32"
   ]
  },
  {
   "cell_type": "code",
   "execution_count": null,
   "id": "01038554",
   "metadata": {},
   "outputs": [],
   "source": [
    "for i in range(nLayers):\n",
    "    # Weights\n",
    "    print('Weights:\\n')\n",
    "    print(Network._modules[str(i)].weight.data)\n",
    "    # Biases\n",
    "    print('Biases:\\n')\n",
    "    print(Network._modules[str(i)].bias.data)"
   ]
  },
  {
   "cell_type": "code",
   "execution_count": null,
   "id": "40e2dfc0",
   "metadata": {
    "scrolled": true
   },
   "outputs": [],
   "source": [
    "### Get information about model\n",
    "totpars = 0\n",
    "for par in Network.parameters():\n",
    "    newpars = 1\n",
    "    for num in par.shape:\n",
    "        newpars *= num\n",
    "    totpars += newpars\n",
    "print(Network)\n",
    "print('%i trainable parameters' % totpars)\n",
    "\n",
    "### Initialize loss function and optimizer\n",
    "# crit = torch.nn.MSELoss()\n",
    "crit = torch.nn.BCELoss()\n",
    "# crit = torch.nn.CrossEntropyLoss()\n",
    "opt = torch.optim.SGD(Network.parameters(), lr=eeta)"
   ]
  },
  {
   "cell_type": "code",
   "execution_count": null,
   "id": "cd4c5005",
   "metadata": {},
   "outputs": [],
   "source": [
    "inputsTorch = torch.from_numpy(inputs)\n",
    "inputsTorch = inputsTorch.to(dtype=torch.float32) # Convert to float32\n",
    "labels = torch.from_numpy(outputs)\n",
    "labels = labels.to(dtype=torch.float32) # Convert to float32"
   ]
  },
  {
   "cell_type": "code",
   "execution_count": null,
   "id": "53255aa5",
   "metadata": {},
   "outputs": [],
   "source": [
    "print(inputsTorch)\n",
    "print(labels)"
   ]
  },
  {
   "cell_type": "code",
   "execution_count": null,
   "id": "4ffaf52f",
   "metadata": {},
   "outputs": [],
   "source": [
    "%%time\n",
    "### Set model in training mode and create the epochs axis\n",
    "Network.train()\n",
    "epochs = range(1, nEpochs+1)\n",
    "errorPlot = []\n",
    "\n",
    "### Train the model\n",
    "for e in tqdm(epochs):\n",
    "    tr_loss = 0.\n",
    "    samples = 0\n",
    "    ### Loop over batches\n",
    "    for iBatch in tqdm(range(nBatches),leave=False):\n",
    "        offset = iBatch*batchSize\n",
    "        inputsBatch = inputsTorch[offset:offset + batchSize,:]# Input vector\n",
    "#            print(x.shape)\n",
    "        labelsBatch = labels[offset:offset + batchSize,:] # Expected output\n",
    "        \n",
    "        opt.zero_grad() # zero gradient values\n",
    "        inputsBatch = inputsBatch.to(device=device) # move input and label tensors to the device with the model\n",
    "        labelsBatch = labelsBatch.to(device=device)\n",
    "        outputsTorch = Network(inputsBatch) # compute model outputs\n",
    "        loss = crit(outputsTorch, labelsBatch) # compute batch loss\n",
    "        loss.backward() # back-propagate the gradients\n",
    "        opt.step() # update the model weights\n",
    "        tr_loss += loss.clone().cpu().item()*len(inputsBatch) # add the batch loss to the running loss\n",
    "        samples += len(inputsBatch) # update the number of processed samples\n",
    "    tr_loss /= samples # compute training loss\n",
    "    errorPlot.append(tr_loss)\n",
    "    print(e, tr_loss)"
   ]
  },
  {
   "cell_type": "code",
   "execution_count": null,
   "id": "243d8fd2",
   "metadata": {},
   "outputs": [],
   "source": [
    "# Plot the error vs epochs\n",
    "plt.plot(errorPlot)\n",
    "plt.yscale('log')\n",
    "plt.show()"
   ]
  },
  {
   "cell_type": "code",
   "execution_count": null,
   "id": "26cdc57c",
   "metadata": {},
   "outputs": [],
   "source": [
    "print('Difference b/w our weights & biases and PyTorch results:')\n",
    "for i in range(nLayers):\n",
    "    print('\\nLayer : ',i+1)\n",
    "    print(abs(torch.tensor(optWeights[i]).to(dtype=torch.float32)-Network._modules[str(i)].weight.data).max())\n",
    "    print(abs(torch.tensor(optBiases[i]).to(dtype=torch.float32)-Network._modules[str(i)].bias.data).max())"
   ]
  },
  {
   "cell_type": "code",
   "execution_count": null,
   "id": "35225bf3",
   "metadata": {},
   "outputs": [],
   "source": [
    "torch.get_num_threads()"
   ]
  },
  {
   "cell_type": "code",
   "execution_count": null,
   "id": "2ce7f9a5",
   "metadata": {},
   "outputs": [],
   "source": [
    "# torch.set_num_threads(4)\n",
    "torch.get_num_threads()"
   ]
  },
  {
   "cell_type": "code",
   "execution_count": null,
   "id": "2dd20fd3",
   "metadata": {},
   "outputs": [],
   "source": []
  },
  {
   "cell_type": "code",
   "execution_count": null,
   "id": "06e72f91",
   "metadata": {},
   "outputs": [],
   "source": [
    "torch.get_num_threads()"
   ]
  },
  {
   "cell_type": "code",
   "execution_count": null,
   "id": "cf2f2ff7",
   "metadata": {},
   "outputs": [],
   "source": []
  }
 ],
 "metadata": {
  "kernelspec": {
   "display_name": "Python 3 (ipykernel)",
   "language": "python",
   "name": "python3"
  },
  "language_info": {
   "codemirror_mode": {
    "name": "ipython",
    "version": 3
   },
   "file_extension": ".py",
   "mimetype": "text/x-python",
   "name": "python",
   "nbconvert_exporter": "python",
   "pygments_lexer": "ipython3",
   "version": "3.7.11"
  }
 },
 "nbformat": 4,
 "nbformat_minor": 5
}
