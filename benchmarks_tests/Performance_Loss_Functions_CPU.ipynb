{
 "cells": [
  {
   "cell_type": "code",
   "execution_count": null,
   "id": "6ff6f29b",
   "metadata": {},
   "outputs": [],
   "source": []
  },
  {
   "cell_type": "markdown",
   "id": "601872ab",
   "metadata": {},
   "source": [
    "# This notebook serves as the validation fo the correct implementation of the loss functions and their derivatives in CrysX-NN\n",
    "\n",
    "# Plus, as a benchmark of the speed"
   ]
  },
  {
   "cell_type": "markdown",
   "id": "6bd91510",
   "metadata": {},
   "source": [
    "## Run the following for Google colab \n",
    "then restart runtime"
   ]
  },
  {
   "cell_type": "code",
   "execution_count": 1,
   "id": "a01fc197",
   "metadata": {},
   "outputs": [],
   "source": [
    "! pip install --upgrade --no-cache-dir https://github.com/manassharma07/crysx_nn/tarball/main\n",
    "! pip install IPython==7.7.0"
   ]
  },
  {
   "cell_type": "code",
   "execution_count": 1,
   "id": "5d69c1dd",
   "metadata": {},
   "outputs": [
    {
     "name": "stdout",
     "output_type": "stream",
     "text": [
      "blas_mkl_info:\n",
      "    libraries = ['mkl_rt']\n",
      "    library_dirs = ['C:/Users/manas/anaconda3/envs/crysx_nn\\\\Library\\\\lib']\n",
      "    define_macros = [('SCIPY_MKL_H', None), ('HAVE_CBLAS', None)]\n",
      "    include_dirs = ['C:/Users/manas/anaconda3/envs/crysx_nn\\\\Library\\\\include']\n",
      "blas_opt_info:\n",
      "    libraries = ['mkl_rt']\n",
      "    library_dirs = ['C:/Users/manas/anaconda3/envs/crysx_nn\\\\Library\\\\lib']\n",
      "    define_macros = [('SCIPY_MKL_H', None), ('HAVE_CBLAS', None)]\n",
      "    include_dirs = ['C:/Users/manas/anaconda3/envs/crysx_nn\\\\Library\\\\include']\n",
      "lapack_mkl_info:\n",
      "    libraries = ['mkl_rt']\n",
      "    library_dirs = ['C:/Users/manas/anaconda3/envs/crysx_nn\\\\Library\\\\lib']\n",
      "    define_macros = [('SCIPY_MKL_H', None), ('HAVE_CBLAS', None)]\n",
      "    include_dirs = ['C:/Users/manas/anaconda3/envs/crysx_nn\\\\Library\\\\include']\n",
      "lapack_opt_info:\n",
      "    libraries = ['mkl_rt']\n",
      "    library_dirs = ['C:/Users/manas/anaconda3/envs/crysx_nn\\\\Library\\\\lib']\n",
      "    define_macros = [('SCIPY_MKL_H', None), ('HAVE_CBLAS', None)]\n",
      "    include_dirs = ['C:/Users/manas/anaconda3/envs/crysx_nn\\\\Library\\\\include']\n",
      "CrysX-NN 0.1.6\n",
      "torch 1.10.1\n",
      "tensorflow 2.2.3\n"
     ]
    }
   ],
   "source": [
    "import os\n",
    "os.environ[\"CUDA_VISIBLE_DEVICES\"] = \"-1\" # Ensure that evertyhing is only using CPU¶\n",
    "\n",
    "import numpy as np\n",
    "np.show_config()\n",
    "import matplotlib.pyplot as plt\n",
    "\n",
    "# Import activation functions from crysx_nn\n",
    "from crysx_nn.loss import MSE_loss, MSE_loss_grad\n",
    "from crysx_nn.loss import BCE_loss, BCE_loss_grad\n",
    "import crysx_nn\n",
    "print('CrysX-NN',crysx_nn.__version__)\n",
    "\n",
    "# PyTorch\n",
    "import torch\n",
    "print('torch',torch.__version__)\n",
    "\n",
    "# Tensorflow\n",
    "import tensorflow as tf\n",
    "print('tensorflow',tf.__version__)"
   ]
  },
  {
   "cell_type": "markdown",
   "id": "94df39f5",
   "metadata": {},
   "source": [
    "## Ensure that evertyhing is only using CPU"
   ]
  },
  {
   "cell_type": "code",
   "execution_count": 2,
   "id": "3902b2f9",
   "metadata": {},
   "outputs": [
    {
     "data": {
      "text/plain": [
       "False"
      ]
     },
     "execution_count": 2,
     "metadata": {},
     "output_type": "execute_result"
    }
   ],
   "source": [
    "torch.cuda.is_available()"
   ]
  },
  {
   "cell_type": "code",
   "execution_count": 3,
   "id": "bac1f1ae",
   "metadata": {},
   "outputs": [
    {
     "name": "stdout",
     "output_type": "stream",
     "text": [
      "Num GPUs Available:  0\n"
     ]
    }
   ],
   "source": [
    "print(\"Num GPUs Available: \", len(tf.config.list_physical_devices('GPU')))"
   ]
  },
  {
   "cell_type": "code",
   "execution_count": 4,
   "id": "5ded2ccb",
   "metadata": {},
   "outputs": [
    {
     "name": "stdout",
     "output_type": "stream",
     "text": [
      "WARNING:tensorflow:From C:\\Users\\manas\\AppData\\Local\\Temp/ipykernel_3304/337460670.py:1: is_gpu_available (from tensorflow.python.framework.test_util) is deprecated and will be removed in a future version.\n",
      "Instructions for updating:\n",
      "Use `tf.config.list_physical_devices('GPU')` instead.\n"
     ]
    },
    {
     "data": {
      "text/plain": [
       "False"
      ]
     },
     "execution_count": 4,
     "metadata": {},
     "output_type": "execute_result"
    }
   ],
   "source": [
    "tf.test.is_gpu_available()"
   ]
  },
  {
   "cell_type": "code",
   "execution_count": 5,
   "id": "0d7578aa",
   "metadata": {},
   "outputs": [
    {
     "name": "stdout",
     "output_type": "stream",
     "text": [
      "True\n"
     ]
    }
   ],
   "source": [
    "print(tf.test.is_built_with_cuda())"
   ]
  },
  {
   "cell_type": "markdown",
   "id": "7f0dfe1a",
   "metadata": {},
   "source": [
    "## Generate an input `2d array` of type `float32` for benchmark (let's say using `torch`)"
   ]
  },
  {
   "cell_type": "code",
   "execution_count": 6,
   "id": "70257e98",
   "metadata": {},
   "outputs": [
    {
     "name": "stdout",
     "output_type": "stream",
     "text": [
      "tensor([[38.5059, 35.7248, 80.0328,  ..., 78.3342, 24.5817, 90.7023],\n",
      "        [89.8141, 91.9650,  5.4384,  ..., 63.1759,  8.8642, 83.1594],\n",
      "        [63.1715, 97.2707,  7.8426,  ..., 97.4145,  5.2493, 19.7285],\n",
      "        ...,\n",
      "        [69.2947, 22.7892, 71.0066,  ..., 31.4879, 48.5515, 47.1562],\n",
      "        [30.2867, 98.0398, 27.5981,  ..., 23.1378, 92.3739, 68.7553],\n",
      "        [56.5019, 59.2459, 17.8494,  ..., 17.3035, 21.3500, 32.5090]],\n",
      "       grad_fn=<MulBackward0>)\n",
      "tensor([[ 3.9774, 34.6025, 99.6208,  ..., 77.9619, 39.0876, 66.4946],\n",
      "        [68.5929, 99.6800, 14.5371,  ...,  2.8033, 72.6133, 92.6060],\n",
      "        [ 6.3978,  6.1658,  4.2052,  ..., 92.2008, 33.6552, 19.6252],\n",
      "        ...,\n",
      "        [23.1726, 84.8189, 35.8384,  ..., 34.9028, 78.3425, 16.4964],\n",
      "        [46.4584, 89.5371, 15.0424,  ..., 49.9390, 41.4619, 69.7346],\n",
      "        [27.9426,  0.8333,  6.1788,  ..., 87.3277,  8.2513, 21.9912]],\n",
      "       grad_fn=<MulBackward0>)\n"
     ]
    }
   ],
   "source": [
    "predictions_torch = 100*torch.rand((300,100),requires_grad=True)\n",
    "print(predictions_torch)\n",
    "targets_torch = 100*torch.rand((300,100),requires_grad=True)\n",
    "print(targets_torch)"
   ]
  },
  {
   "cell_type": "markdown",
   "id": "f7323e8d",
   "metadata": {},
   "source": [
    "## Convert it to numpy for `crysx_nn`"
   ]
  },
  {
   "cell_type": "code",
   "execution_count": 7,
   "id": "1181c736",
   "metadata": {},
   "outputs": [
    {
     "name": "stdout",
     "output_type": "stream",
     "text": [
      "float32\n",
      "float32\n"
     ]
    }
   ],
   "source": [
    "predictions_crysx_nn = predictions_torch.cpu().detach().numpy()\n",
    "print(predictions_crysx_nn.dtype)\n",
    "targets_crysx_nn = targets_torch.cpu().detach().numpy()\n",
    "print(targets_crysx_nn.dtype)"
   ]
  },
  {
   "cell_type": "markdown",
   "id": "09b21b6b",
   "metadata": {},
   "source": [
    "## Now finally convert it to a tensorflow tensor"
   ]
  },
  {
   "cell_type": "code",
   "execution_count": 8,
   "id": "8cda8c9a",
   "metadata": {},
   "outputs": [],
   "source": [
    "predictions_tf = tf.convert_to_tensor(predictions_crysx_nn, dtype=tf.float32)\n",
    "targets_tf = tf.convert_to_tensor(targets_crysx_nn, dtype=tf.float32)"
   ]
  },
  {
   "cell_type": "markdown",
   "id": "1aa1c78a",
   "metadata": {},
   "source": [
    "## Benchmark MSE_loss"
   ]
  },
  {
   "cell_type": "markdown",
   "id": "1d483612",
   "metadata": {},
   "source": [
    "### Confirm that all frameworks give the same results"
   ]
  },
  {
   "cell_type": "markdown",
   "id": "f3c92477",
   "metadata": {},
   "source": [
    "PyTorch expects predictions first then targets\n",
    "\n",
    "PyTorch - https://pytorch.org/docs/stable/generated/torch.nn.MSELoss.html\n",
    "\n",
    "TensorFlow expects targets first then predictions\n",
    "\n",
    "Tensorflow - https://www.tensorflow.org/api_docs/python/tf/keras/losses/MeanSquaredError\n",
    "\n",
    "CrysX-NN doesn't return values averaged over samples. So take care of that."
   ]
  },
  {
   "cell_type": "code",
   "execution_count": 9,
   "id": "5144e9a9",
   "metadata": {},
   "outputs": [
    {
     "name": "stdout",
     "output_type": "stream",
     "text": [
      "<class 'float'>\n",
      "Max abs diff b/w torch and tf 0.00012207031\n",
      "Max abs diff b/w torch and CrysX 8.392161203119031e-05\n"
     ]
    }
   ],
   "source": [
    "# Torch\n",
    "mse_loss_func = torch.nn.MSELoss()\n",
    "mse_torch_value = mse_loss_func(predictions_torch, targets_torch)\n",
    "\n",
    "# CrysX\n",
    "mse_crysx_nn_value = MSE_loss(predictions_crysx_nn, targets_crysx_nn)/predictions_crysx_nn.shape[0]\n",
    "print(type(mse_crysx_nn_value))\n",
    "\n",
    "# Tensorflow\n",
    "mse_tf_func = tf.keras.losses.MeanSquaredError()\n",
    "mse_tf_value = mse_tf_func(targets_tf, predictions_tf)\n",
    "\n",
    "#Diff b/w tf and torch\n",
    "print('Max abs diff b/w torch and tf', abs(mse_torch_value.cpu().detach().numpy() - mse_tf_value.numpy()).max())\n",
    "\n",
    "#Diff b/w crysx_nn and torch\n",
    "print('Max abs diff b/w torch and CrysX', abs(mse_torch_value.cpu().detach().numpy() - mse_crysx_nn_value).max())"
   ]
  },
  {
   "cell_type": "markdown",
   "id": "b3f330f1",
   "metadata": {},
   "source": [
    "### Compare performance with arrays of different sizes"
   ]
  },
  {
   "cell_type": "code",
   "execution_count": 10,
   "id": "c4af1bea",
   "metadata": {},
   "outputs": [
    {
     "name": "stdout",
     "output_type": "stream",
     "text": [
      "18.4 µs ± 535 ns per loop (mean ± std. dev. of 7 runs, 500 loops each)\n",
      "6.95 µs ± 402 ns per loop (mean ± std. dev. of 7 runs, 500 loops each)\n",
      "155 µs ± 20.4 µs per loop (mean ± std. dev. of 7 runs, 500 loops each)\n",
      "Size: (10, 10)\n",
      "Max abs diff b/w torch and tf 0.00012207031\n",
      "Max abs diff b/w torch and CrysX 0.00011098352251792676\n",
      "64.5 µs ± 3.6 µs per loop (mean ± std. dev. of 7 runs, 500 loops each)\n",
      "78 µs ± 9.95 µs per loop (mean ± std. dev. of 7 runs, 500 loops each)\n",
      "305 µs ± 11.4 µs per loop (mean ± std. dev. of 7 runs, 500 loops each)\n",
      "Size: (510, 510)\n",
      "Max abs diff b/w torch and tf 0.0\n",
      "Max abs diff b/w torch and CrysX 6.1520047211161e-05\n",
      "730 µs ± 58.7 µs per loop (mean ± std. dev. of 7 runs, 500 loops each)\n",
      "211 µs ± 36.1 µs per loop (mean ± std. dev. of 7 runs, 500 loops each)\n",
      "1.09 ms ± 26.8 µs per loop (mean ± std. dev. of 7 runs, 500 loops each)\n",
      "Size: (1010, 1010)\n",
      "Max abs diff b/w torch and tf 0.00024414062\n",
      "Max abs diff b/w torch and CrysX 7.428284948218788e-05\n",
      "2.22 ms ± 580 µs per loop (mean ± std. dev. of 7 runs, 500 loops each)\n",
      "480 µs ± 56.1 µs per loop (mean ± std. dev. of 7 runs, 500 loops each)\n",
      "1.89 ms ± 226 µs per loop (mean ± std. dev. of 7 runs, 500 loops each)\n",
      "Size: (1510, 1510)\n",
      "Max abs diff b/w torch and tf 0.00012207031\n",
      "Max abs diff b/w torch and CrysX 2.1202879906923044e-05\n",
      "3.37 ms ± 700 µs per loop (mean ± std. dev. of 7 runs, 500 loops each)\n",
      "849 µs ± 77.5 µs per loop (mean ± std. dev. of 7 runs, 500 loops each)\n",
      "3.43 ms ± 32.3 µs per loop (mean ± std. dev. of 7 runs, 500 loops each)\n",
      "Size: (2010, 2010)\n",
      "Max abs diff b/w torch and tf 0.00024414062\n",
      "Max abs diff b/w torch and CrysX 1.0207915693172254e-05\n",
      "5.02 ms ± 71.8 µs per loop (mean ± std. dev. of 7 runs, 500 loops each)\n",
      "1.57 ms ± 166 µs per loop (mean ± std. dev. of 7 runs, 500 loops each)\n",
      "5.37 ms ± 62.4 µs per loop (mean ± std. dev. of 7 runs, 500 loops each)\n",
      "Size: (2510, 2510)\n",
      "Max abs diff b/w torch and tf 0.00012207031\n",
      "Max abs diff b/w torch and CrysX 0.00017460711819694552\n"
     ]
    }
   ],
   "source": [
    "time_torch = []\n",
    "time_crysx_nn = []\n",
    "time_tf = []\n",
    "sizes = []\n",
    "\n",
    "for n_size in range(10,3000,500):\n",
    "    sizes.append(n_size*n_size)\n",
    "    # Torch input\n",
    "    predictions_torch = 100*torch.rand((n_size,n_size),requires_grad=True)\n",
    "    targets_torch = 100*torch.rand((n_size,n_size),requires_grad=True)\n",
    "    # CrysX-NN input\n",
    "    predictions_crysx_nn = predictions_torch.cpu().detach().numpy()\n",
    "    targets_crysx_nn = targets_torch.cpu().detach().numpy()\n",
    "    # Tensorflow input\n",
    "    predictions_tf = tf.convert_to_tensor(predictions_crysx_nn, dtype=tf.float32)\n",
    "    targets_tf = tf.convert_to_tensor(targets_crysx_nn, dtype=tf.float32)\n",
    "    \n",
    "    ##--Timings--\n",
    "    # Torch\n",
    "    mse_loss_func = torch.nn.MSELoss()\n",
    "    mse_torch_value = mse_loss_func(predictions_torch, targets_torch)\n",
    "    time = %timeit -n 500 -o mse_loss_func(predictions_torch, targets_torch)\n",
    "    # For time of each run\n",
    "    time_torch.append(np.mean(time.timings)) \n",
    "    # For total time\n",
    "#     time_torch.append(np.mean(time.all_runs)) \n",
    "    # CrysX\n",
    "    mse_crysx_nn_value = MSE_loss(predictions_crysx_nn, targets_crysx_nn)/predictions_crysx_nn.shape[0]\n",
    "    time = %timeit -n 500 -o MSE_loss(predictions_crysx_nn, targets_crysx_nn)/predictions_crysx_nn.shape[0]\n",
    "    # For time of each run\n",
    "    time_crysx_nn.append(np.mean(time.timings))\n",
    "    # Tensorflow\n",
    "    mse_tf_func = tf.keras.losses.MeanSquaredError()\n",
    "    mse_tf_value = mse_tf_func(targets_tf, predictions_tf)\n",
    "    time = %timeit -n 500 -o mse_tf_func(targets_tf, predictions_tf)\n",
    "    # For time of each run\n",
    "    time_tf.append(np.mean(time.timings))\n",
    "    print('Size:', predictions_crysx_nn.shape)\n",
    "    #Diff b/w tf and torch\n",
    "    print('Max abs diff b/w torch and tf', abs(mse_torch_value.cpu().detach().numpy() - mse_tf_value.numpy()).max())\n",
    "    #Diff b/w crysx_nn and torch\n",
    "    print('Max abs diff b/w torch and CrysX', abs(mse_torch_value.cpu().detach().numpy() - mse_crysx_nn_value).max())"
   ]
  },
  {
   "cell_type": "markdown",
   "id": "d50e14cf",
   "metadata": {},
   "source": [
    "### Plot the results"
   ]
  },
  {
   "cell_type": "code",
   "execution_count": 11,
   "id": "6a5e494d",
   "metadata": {
    "scrolled": true
   },
   "outputs": [
    {
     "data": {
      "image/png": "[encoded data removed]",
      "text/plain": [
       "<Figure size 432x288 with 1 Axes>"
      ]
     },
     "metadata": {
      "needs_background": "light"
     },
     "output_type": "display_data"
    }
   ],
   "source": [
    "\n",
    "plt.plot(sizes,time_torch, label='PyTorch')\n",
    "plt.plot(sizes,time_crysx_nn, label='CrysX-NN')\n",
    "plt.plot(sizes,time_tf, label='Tensorflow')\n",
    "plt.legend()\n",
    "plt.xlabel('Array sizes')\n",
    "plt.ylabel('Timings')\n",
    "plt.title('Benchmark MSE_loss')\n",
    "plt.show()"
   ]
  },
  {
   "cell_type": "markdown",
   "id": "bf1d3b7e",
   "metadata": {},
   "source": [
    "### Validate gradients"
   ]
  },
  {
   "cell_type": "code",
   "execution_count": 12,
   "id": "5ad810cb",
   "metadata": {},
   "outputs": [],
   "source": [
    "def tf_mse_grad(targets_tf, predictions_tf):\n",
    "    with tf.GradientTape() as g:\n",
    "        g.watch(predictions_tf)\n",
    "        mse_tf_func = tf.keras.losses.MeanSquaredError()\n",
    "        mse_tf_value = mse_tf_func(targets_tf, predictions_tf)\n",
    "    grad = g.gradient(mse_tf_value, predictions_tf)\n",
    "    return grad#.numpy()"
   ]
  },
  {
   "cell_type": "code",
   "execution_count": 13,
   "id": "1065f222",
   "metadata": {},
   "outputs": [
    {
     "name": "stdout",
     "output_type": "stream",
     "text": [
      "Max abs diff b/w torch and tf 4.656613e-10\n",
      "Max abs diff b/w torch and CrysX 2.3283064e-10\n"
     ]
    }
   ],
   "source": [
    "# Torch input\n",
    "predictions_torch = 10000*torch.rand((2000,3000),requires_grad=True)\n",
    "targets_torch = 10000*torch.rand((2000,3000),requires_grad=True)\n",
    "# CrysX-NN input\n",
    "predictions_crysx_nn = predictions_torch.cpu().detach().numpy()\n",
    "targets_crysx_nn = targets_torch.cpu().detach().numpy()\n",
    "# Tensorflow input\n",
    "predictions_tf = tf.convert_to_tensor(predictions_crysx_nn, dtype=tf.float32)\n",
    "targets_tf = tf.convert_to_tensor(targets_crysx_nn, dtype=tf.float32)\n",
    "\n",
    "# Torch\n",
    "mse_loss_func = torch.nn.MSELoss()\n",
    "mse_torch_value.backward()\n",
    "gradientTorch = torch.autograd.grad(mse_loss_func(predictions_torch,targets_torch),predictions_torch)[0]\n",
    "# print(gradientTorch)\n",
    "\n",
    "# CrysX\n",
    "gradientCrysX_NN = MSE_loss_grad(predictions_crysx_nn, targets_crysx_nn)/predictions_crysx_nn.shape[0]\n",
    "\n",
    "# Tensorflow\n",
    "gradientTF = tf_mse_grad(targets_tf, predictions_tf)\n",
    "\n",
    "#Diff b/w tf and torch\n",
    "print('Max abs diff b/w torch and tf', abs(gradientTorch.cpu().detach().numpy() - gradientTF.numpy()).max())\n",
    "\n",
    "#Diff b/w crysx_nn and torch\n",
    "print('Max abs diff b/w torch and CrysX', abs(gradientTorch.cpu().detach().numpy() - gradientCrysX_NN).max())"
   ]
  },
  {
   "cell_type": "markdown",
   "id": "82ed5f01",
   "metadata": {},
   "source": [
    "## Benchmark BCE_loss"
   ]
  },
  {
   "cell_type": "markdown",
   "id": "a12ecd09",
   "metadata": {},
   "source": [
    "### Confirm that all frameworks give the same results"
   ]
  },
  {
   "cell_type": "markdown",
   "id": "dcc95876",
   "metadata": {},
   "source": [
    "PyTorch expects predictions first then targets\n",
    "\n",
    "PyTorch - https://pytorch.org/docs/stable/generated/torch.nn.BCELoss.html\n",
    "\n",
    "TensorFlow expects targets first then predictions\n",
    "\n",
    "Tensorflow - https://www.tensorflow.org/api_docs/python/tf/keras/losses/BinaryCrossentropy\n",
    "\n",
    "CrysX-NN doesn't return values averaged over samples. So take care of that."
   ]
  },
  {
   "cell_type": "code",
   "execution_count": 14,
   "id": "071f7ab4",
   "metadata": {},
   "outputs": [
    {
     "name": "stdout",
     "output_type": "stream",
     "text": [
      "Max abs diff b/w torch and tf 1.66893e-06\n",
      "Max abs diff b/w torch and CrysX 7.136674584629077e-09\n"
     ]
    }
   ],
   "source": [
    "# Torch input\n",
    "predictions_torch = torch.rand((2000,3000),requires_grad=True)\n",
    "# print(predictions_torch)\n",
    "targets_torch = torch.randint(low=0,high=2, size=(2000,3000)).float()\n",
    "# print(targets_torch)\n",
    "# CrysX-NN input\n",
    "predictions_crysx_nn = predictions_torch.cpu().detach().numpy()\n",
    "targets_crysx_nn = targets_torch.cpu().detach().numpy()\n",
    "# Tensorflow input\n",
    "predictions_tf = tf.convert_to_tensor(predictions_crysx_nn, dtype=tf.float32)\n",
    "targets_tf = tf.convert_to_tensor(targets_crysx_nn, dtype=tf.float32)\n",
    "\n",
    "# Torch\n",
    "bce_loss_func = torch.nn.BCELoss()\n",
    "bce_torch_value = bce_loss_func(predictions_torch, targets_torch)\n",
    "\n",
    "# CrysX\n",
    "bce_crysx_nn_value = BCE_loss(predictions_crysx_nn, targets_crysx_nn)/predictions_crysx_nn.shape[0]\n",
    "# print(bce_crysx_nn_value)\n",
    "\n",
    "# Tensorflow\n",
    "bce_tf_func = tf.keras.losses.BinaryCrossentropy()\n",
    "bce_tf_value = bce_tf_func(targets_tf, predictions_tf)\n",
    "\n",
    "#Diff b/w tf and torch\n",
    "print('Max abs diff b/w torch and tf', abs(bce_torch_value.cpu().detach().numpy() - bce_tf_value.numpy()).max())\n",
    "\n",
    "#Diff b/w crysx_nn and torch\n",
    "print('Max abs diff b/w torch and CrysX', abs(bce_torch_value.cpu().detach().numpy() - bce_crysx_nn_value).max())"
   ]
  },
  {
   "cell_type": "markdown",
   "id": "8e9c8042",
   "metadata": {},
   "source": [
    "### Compare performance with arrays of different sizes"
   ]
  },
  {
   "cell_type": "code",
   "execution_count": 15,
   "id": "4a3fe63e",
   "metadata": {},
   "outputs": [
    {
     "name": "stdout",
     "output_type": "stream",
     "text": [
      "22.1 µs ± 1.63 µs per loop (mean ± std. dev. of 7 runs, 100 loops each)\n",
      "10.4 µs ± 1 µs per loop (mean ± std. dev. of 7 runs, 100 loops each)\n",
      "351 µs ± 46.7 µs per loop (mean ± std. dev. of 7 runs, 100 loops each)\n",
      "Size: (10, 10)\n",
      "Max abs diff b/w torch and tf 4.7683716e-07\n",
      "Max abs diff b/w torch and CrysX 2.2624234041757063e-08\n",
      "781 µs ± 18.1 µs per loop (mean ± std. dev. of 7 runs, 100 loops each)\n",
      "872 µs ± 41 µs per loop (mean ± std. dev. of 7 runs, 100 loops each)\n",
      "1.07 ms ± 9.44 µs per loop (mean ± std. dev. of 7 runs, 100 loops each)\n",
      "Size: (510, 510)\n",
      "Max abs diff b/w torch and tf 1.1920929e-06\n",
      "Max abs diff b/w torch and CrysX 9.434801673258164e-08\n",
      "3.37 ms ± 30.8 µs per loop (mean ± std. dev. of 7 runs, 100 loops each)\n",
      "4.83 ms ± 141 µs per loop (mean ± std. dev. of 7 runs, 100 loops each)\n",
      "13.3 ms ± 2.22 ms per loop (mean ± std. dev. of 7 runs, 100 loops each)\n",
      "Size: (1010, 1010)\n",
      "Max abs diff b/w torch and tf 1.4305115e-06\n",
      "Max abs diff b/w torch and CrysX 1.5482200632632726e-08\n",
      "8.29 ms ± 630 µs per loop (mean ± std. dev. of 7 runs, 100 loops each)\n",
      "11.7 ms ± 1.46 ms per loop (mean ± std. dev. of 7 runs, 100 loops each)\n",
      "24.9 ms ± 5.83 ms per loop (mean ± std. dev. of 7 runs, 100 loops each)\n",
      "Size: (1510, 1510)\n",
      "Max abs diff b/w torch and tf 1.7881393e-06\n",
      "Max abs diff b/w torch and CrysX 6.579398936779057e-08\n",
      "14.5 ms ± 768 µs per loop (mean ± std. dev. of 7 runs, 100 loops each)\n",
      "21.2 ms ± 1.01 ms per loop (mean ± std. dev. of 7 runs, 100 loops each)\n",
      "36.8 ms ± 2.56 ms per loop (mean ± std. dev. of 7 runs, 100 loops each)\n",
      "Size: (2010, 2010)\n",
      "Max abs diff b/w torch and tf 1.5497208e-06\n",
      "Max abs diff b/w torch and CrysX 1.2495545709256817e-08\n",
      "20.4 ms ± 314 µs per loop (mean ± std. dev. of 7 runs, 100 loops each)\n",
      "29.6 ms ± 1.08 ms per loop (mean ± std. dev. of 7 runs, 100 loops each)\n",
      "52.7 ms ± 2.89 ms per loop (mean ± std. dev. of 7 runs, 100 loops each)\n",
      "Size: (2510, 2510)\n",
      "Max abs diff b/w torch and tf 2.026558e-06\n",
      "Max abs diff b/w torch and CrysX 9.496114516949206e-08\n"
     ]
    }
   ],
   "source": [
    "time_torch = []\n",
    "time_crysx_nn = []\n",
    "time_tf = []\n",
    "sizes = []\n",
    "\n",
    "for n_size in range(10,3000,500):\n",
    "    sizes.append(n_size*n_size)\n",
    "    # Torch input\n",
    "    predictions_torch = torch.rand((n_size,n_size),requires_grad=True)\n",
    "    targets_torch = torch.randint(low=0,high=2, size=(n_size,n_size)).float()\n",
    "    # CrysX-NN input\n",
    "    predictions_crysx_nn = predictions_torch.cpu().detach().numpy()\n",
    "    targets_crysx_nn = targets_torch.cpu().detach().numpy()\n",
    "    # Tensorflow input\n",
    "    predictions_tf = tf.convert_to_tensor(predictions_crysx_nn, dtype=tf.float32)\n",
    "    targets_tf = tf.convert_to_tensor(targets_crysx_nn, dtype=tf.float32)\n",
    "    \n",
    "    ##--Timings--\n",
    "    # Torch\n",
    "    bce_loss_func = torch.nn.BCELoss()\n",
    "    bce_torch_value = bce_loss_func(predictions_torch, targets_torch)\n",
    "    time = %timeit -n 100 -o bce_loss_func(predictions_torch, targets_torch)\n",
    "    # For time of each run\n",
    "    time_torch.append(np.mean(time.timings)) \n",
    "    # For total time\n",
    "#     time_torch.append(np.mean(time.all_runs)) \n",
    "    # CrysX\n",
    "    bce_crysx_nn_value = BCE_loss(predictions_crysx_nn, targets_crysx_nn)/predictions_crysx_nn.shape[0]\n",
    "    time = %timeit -n 100 -o BCE_loss(predictions_crysx_nn, targets_crysx_nn)/predictions_crysx_nn.shape[0]\n",
    "    # For time of each run\n",
    "    time_crysx_nn.append(np.mean(time.timings))\n",
    "    # Tensorflow\n",
    "    bce_tf_func = tf.keras.losses.BinaryCrossentropy()\n",
    "    bce_tf_value = bce_tf_func(targets_tf, predictions_tf)\n",
    "    time = %timeit -n 100 -o bce_tf_func(targets_tf, predictions_tf)\n",
    "    # For time of each run\n",
    "    time_tf.append(np.mean(time.timings))\n",
    "    print('Size:', predictions_crysx_nn.shape)\n",
    "    #Diff b/w tf and torch\n",
    "    print('Max abs diff b/w torch and tf', abs(bce_torch_value.cpu().detach().numpy() - bce_tf_value.numpy()).max())\n",
    "    #Diff b/w crysx_nn and torch\n",
    "    print('Max abs diff b/w torch and CrysX', abs(bce_torch_value.cpu().detach().numpy() - bce_crysx_nn_value).max())"
   ]
  },
  {
   "cell_type": "markdown",
   "id": "b02a154e",
   "metadata": {},
   "source": [
    "### Plot the results"
   ]
  },
  {
   "cell_type": "code",
   "execution_count": 16,
   "id": "c5f240c1",
   "metadata": {
    "scrolled": true
   },
   "outputs": [
    {
     "data": {
      "image/png": "[encoded data removed]",
      "text/plain": [
       "<Figure size 432x288 with 1 Axes>"
      ]
     },
     "metadata": {
      "needs_background": "light"
     },
     "output_type": "display_data"
    }
   ],
   "source": [
    "\n",
    "plt.plot(sizes,time_torch, label='PyTorch')\n",
    "plt.plot(sizes,time_crysx_nn, label='CrysX-NN')\n",
    "plt.plot(sizes,time_tf, label='Tensorflow')\n",
    "plt.legend()\n",
    "plt.xlabel('Array sizes')\n",
    "plt.ylabel('Timings')\n",
    "plt.title('Benchmark BCE_loss')\n",
    "plt.show()"
   ]
  },
  {
   "cell_type": "markdown",
   "id": "60770da8",
   "metadata": {},
   "source": [
    "### Validate gradients"
   ]
  },
  {
   "cell_type": "code",
   "execution_count": 34,
   "id": "a644db21",
   "metadata": {},
   "outputs": [],
   "source": [
    "def tf_bce_grad(targets_tf, predictions_tf):\n",
    "    with tf.GradientTape() as g:\n",
    "        g.watch(predictions_tf)\n",
    "        bce_tf_func = tf.keras.losses.BinaryCrossentropy()\n",
    "        bce_tf_value = bce_tf_func(targets_tf, predictions_tf)\n",
    "    grad = g.gradient(bce_tf_value, predictions_tf)\n",
    "    return grad#.numpy()"
   ]
  },
  {
   "cell_type": "code",
   "execution_count": 35,
   "id": "d5b1e503",
   "metadata": {},
   "outputs": [
    {
     "name": "stdout",
     "output_type": "stream",
     "text": [
      "Max abs diff b/w torch and tf 2.7962027\n",
      "Max abs diff b/w torch and CrysX 2.9802322e-08\n"
     ]
    }
   ],
   "source": [
    "# Torch input\n",
    "predictions_torch = torch.rand((2000,3000),requires_grad=True)\n",
    "# print(predictions_torch)\n",
    "targets_torch = torch.randint(low=0,high=2, size=(2000,3000)).float()\n",
    "# print(targets_torch)\n",
    "# CrysX-NN input\n",
    "predictions_crysx_nn = predictions_torch.cpu().detach().numpy()\n",
    "targets_crysx_nn = targets_torch.cpu().detach().numpy()\n",
    "# Tensorflow input\n",
    "predictions_tf = tf.convert_to_tensor(predictions_crysx_nn, dtype=tf.float32)\n",
    "targets_tf = tf.convert_to_tensor(targets_crysx_nn, dtype=tf.float32)\n",
    "\n",
    "# Torch\n",
    "bce_loss_func = torch.nn.BCELoss()\n",
    "bce_torch_value = bce_loss_func(predictions_torch, targets_torch)\n",
    "bce_torch_value.backward()\n",
    "gradientTorch = torch.autograd.grad(bce_loss_func(predictions_torch,targets_torch),predictions_torch)[0]\n",
    "# print(gradientTorch)\n",
    "\n",
    "# CrysX\n",
    "gradientCrysX_NN = BCE_loss_grad(predictions_crysx_nn, targets_crysx_nn)/predictions_crysx_nn.shape[0]\n",
    "\n",
    "# Tensorflow\n",
    "gradientTF = tf_bce_grad(targets_tf, predictions_tf)\n",
    "\n",
    "#Diff b/w tf and torch\n",
    "print('Max abs diff b/w torch and tf', abs(gradientTorch.cpu().detach().numpy() - gradientTF.numpy()).max())\n",
    "\n",
    "#Diff b/w crysx_nn and torch\n",
    "print('Max abs diff b/w torch and CrysX', abs(gradientTorch.cpu().detach().numpy() - gradientCrysX_NN).max())"
   ]
  },
  {
   "cell_type": "code",
   "execution_count": null,
   "id": "0f9692cb",
   "metadata": {},
   "outputs": [],
   "source": []
  }
 ],
 "metadata": {
  "kernelspec": {
   "display_name": "Python 3 (ipykernel)",
   "language": "python",
   "name": "python3"
  },
  "language_info": {
   "codemirror_mode": {
    "name": "ipython",
    "version": 3
   },
   "file_extension": ".py",
   "mimetype": "text/x-python",
   "name": "python",
   "nbconvert_exporter": "python",
   "pygments_lexer": "ipython3",
   "version": "3.7.11"
  }
 },
 "nbformat": 4,
 "nbformat_minor": 5
}
