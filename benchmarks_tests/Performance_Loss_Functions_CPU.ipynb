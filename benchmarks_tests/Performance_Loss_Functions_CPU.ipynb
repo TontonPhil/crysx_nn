{
 "cells": [
  {
   "cell_type": "markdown",
   "id": "cc6c6ea4",
   "metadata": {},
   "source": [
    "# This notebook serves as the validation fo the correct implementation of the loss functions and their derivatives in CrysX-NN\n",
    "\n",
    "# Plus, as a benchmark of the speed"
   ]
  },
  {
   "cell_type": "markdown",
   "id": "0f1da3b7",
   "metadata": {},
   "source": [
    "## Run the following for Google colab \n",
    "then restart runtime"
   ]
  },
  {
   "cell_type": "code",
   "execution_count": 1,
   "id": "85649fc6",
   "metadata": {},
   "outputs": [],
   "source": [
    "! pip install --upgrade --no-cache-dir https://github.com/manassharma07/crysx_nn/tarball/main\n",
    "! pip install IPython==7.7.0"
   ]
  },
  {
   "cell_type": "code",
   "execution_count": 1,
   "id": "5284e96f",
   "metadata": {},
   "outputs": [
    {
     "name": "stdout",
     "output_type": "stream",
     "text": [
      "blas_mkl_info:\n",
      "    libraries = ['mkl_rt']\n",
      "    library_dirs = ['C:/Users/manas/anaconda3/envs/crysx_nn\\\\Library\\\\lib']\n",
      "    define_macros = [('SCIPY_MKL_H', None), ('HAVE_CBLAS', None)]\n",
      "    include_dirs = ['C:/Users/manas/anaconda3/envs/crysx_nn\\\\Library\\\\include']\n",
      "blas_opt_info:\n",
      "    libraries = ['mkl_rt']\n",
      "    library_dirs = ['C:/Users/manas/anaconda3/envs/crysx_nn\\\\Library\\\\lib']\n",
      "    define_macros = [('SCIPY_MKL_H', None), ('HAVE_CBLAS', None)]\n",
      "    include_dirs = ['C:/Users/manas/anaconda3/envs/crysx_nn\\\\Library\\\\include']\n",
      "lapack_mkl_info:\n",
      "    libraries = ['mkl_rt']\n",
      "    library_dirs = ['C:/Users/manas/anaconda3/envs/crysx_nn\\\\Library\\\\lib']\n",
      "    define_macros = [('SCIPY_MKL_H', None), ('HAVE_CBLAS', None)]\n",
      "    include_dirs = ['C:/Users/manas/anaconda3/envs/crysx_nn\\\\Library\\\\include']\n",
      "lapack_opt_info:\n",
      "    libraries = ['mkl_rt']\n",
      "    library_dirs = ['C:/Users/manas/anaconda3/envs/crysx_nn\\\\Library\\\\lib']\n",
      "    define_macros = [('SCIPY_MKL_H', None), ('HAVE_CBLAS', None)]\n",
      "    include_dirs = ['C:/Users/manas/anaconda3/envs/crysx_nn\\\\Library\\\\include']\n",
      "CrysX-NN 0.1.8\n",
      "torch 1.10.1\n",
      "tensorflow 2.2.3\n"
     ]
    }
   ],
   "source": [
    "import os\n",
    "os.environ[\"CUDA_VISIBLE_DEVICES\"] = \"-1\" # Ensure that evertyhing is only using CPU¶\n",
    "\n",
    "import numpy as np\n",
    "np.show_config()\n",
    "import matplotlib.pyplot as plt\n",
    "\n",
    "# Import activation functions from crysx_nn\n",
    "from crysx_nn.loss import MSE_loss, MSE_loss_grad\n",
    "from crysx_nn.loss import MAE_loss, MAE_loss_grad\n",
    "from crysx_nn.loss import BCE_loss, BCE_loss_grad\n",
    "from crysx_nn.loss import CCE_loss, CCE_loss_grad\n",
    "import crysx_nn\n",
    "print('CrysX-NN',crysx_nn.__version__)\n",
    "\n",
    "# PyTorch\n",
    "import torch\n",
    "print('torch',torch.__version__)\n",
    "\n",
    "# Tensorflow\n",
    "import tensorflow as tf\n",
    "print('tensorflow',tf.__version__)"
   ]
  },
  {
   "cell_type": "markdown",
   "id": "f7f81111",
   "metadata": {},
   "source": [
    "## Ensure that evertyhing is only using CPU"
   ]
  },
  {
   "cell_type": "code",
   "execution_count": 2,
   "id": "64db5cb7",
   "metadata": {},
   "outputs": [
    {
     "data": {
      "text/plain": [
       "False"
      ]
     },
     "execution_count": 2,
     "metadata": {},
     "output_type": "execute_result"
    }
   ],
   "source": [
    "torch.cuda.is_available()"
   ]
  },
  {
   "cell_type": "code",
   "execution_count": 3,
   "id": "8bf30fa3",
   "metadata": {},
   "outputs": [
    {
     "name": "stdout",
     "output_type": "stream",
     "text": [
      "Num GPUs Available:  0\n"
     ]
    }
   ],
   "source": [
    "print(\"Num GPUs Available: \", len(tf.config.list_physical_devices('GPU')))"
   ]
  },
  {
   "cell_type": "code",
   "execution_count": 4,
   "id": "3cb12b26",
   "metadata": {},
   "outputs": [
    {
     "name": "stdout",
     "output_type": "stream",
     "text": [
      "WARNING:tensorflow:From C:\\Users\\manas\\AppData\\Local\\Temp/ipykernel_1908/337460670.py:1: is_gpu_available (from tensorflow.python.framework.test_util) is deprecated and will be removed in a future version.\n",
      "Instructions for updating:\n",
      "Use `tf.config.list_physical_devices('GPU')` instead.\n"
     ]
    },
    {
     "data": {
      "text/plain": [
       "False"
      ]
     },
     "execution_count": 4,
     "metadata": {},
     "output_type": "execute_result"
    }
   ],
   "source": [
    "tf.test.is_gpu_available()"
   ]
  },
  {
   "cell_type": "code",
   "execution_count": 5,
   "id": "5d5c0f0b",
   "metadata": {},
   "outputs": [
    {
     "name": "stdout",
     "output_type": "stream",
     "text": [
      "True\n"
     ]
    }
   ],
   "source": [
    "print(tf.test.is_built_with_cuda())"
   ]
  },
  {
   "cell_type": "markdown",
   "id": "3e09381f",
   "metadata": {},
   "source": [
    "## Generate an input `2d array` of type `float32` for benchmark (let's say using `torch`)"
   ]
  },
  {
   "cell_type": "code",
   "execution_count": 6,
   "id": "d1ac102d",
   "metadata": {},
   "outputs": [
    {
     "name": "stdout",
     "output_type": "stream",
     "text": [
      "tensor([[83.1972, 17.1880, 41.9820,  ..., 15.7246, 69.1392,  7.0799],\n",
      "        [ 9.9883, 33.7474, 92.7511,  ..., 57.4741, 29.1286, 57.0903],\n",
      "        [20.9108, 27.5451, 71.7921,  ..., 56.5415, 92.1911, 13.6696],\n",
      "        ...,\n",
      "        [69.1654, 64.4248, 37.2427,  ..., 12.3340, 86.9739, 27.8575],\n",
      "        [69.1227, 93.3977, 91.8383,  ..., 25.1626, 92.7490, 46.3078],\n",
      "        [18.6209, 91.1575,  3.3750,  ..., 76.5981, 22.0779, 68.4674]],\n",
      "       grad_fn=<MulBackward0>)\n",
      "tensor([[92.8108, 86.5337,  2.6047,  ..., 21.3508, 37.3074, 88.9046],\n",
      "        [27.9770, 92.6821, 18.6265,  ..., 52.5068,  5.6382, 30.8994],\n",
      "        [18.7087, 85.7655,  3.0672,  ...,  9.7023, 15.3197, 92.3742],\n",
      "        ...,\n",
      "        [97.7087, 38.4542, 44.0312,  ..., 76.3329, 64.9016, 29.7674],\n",
      "        [31.1729,  8.4526, 69.8754,  ..., 78.8484, 48.7347, 84.8917],\n",
      "        [28.1440, 97.4898, 42.8598,  ..., 23.1643, 27.1135, 23.4134]],\n",
      "       grad_fn=<MulBackward0>)\n"
     ]
    }
   ],
   "source": [
    "predictions_torch = 100*torch.rand((300,100),requires_grad=True)\n",
    "print(predictions_torch)\n",
    "targets_torch = 100*torch.rand((300,100),requires_grad=True)\n",
    "print(targets_torch)"
   ]
  },
  {
   "cell_type": "markdown",
   "id": "ff1bffee",
   "metadata": {},
   "source": [
    "## Convert it to numpy for `crysx_nn`"
   ]
  },
  {
   "cell_type": "code",
   "execution_count": 7,
   "id": "def94718",
   "metadata": {},
   "outputs": [
    {
     "name": "stdout",
     "output_type": "stream",
     "text": [
      "float32\n",
      "float32\n"
     ]
    }
   ],
   "source": [
    "predictions_crysx_nn = predictions_torch.cpu().detach().numpy()\n",
    "print(predictions_crysx_nn.dtype)\n",
    "targets_crysx_nn = targets_torch.cpu().detach().numpy()\n",
    "print(targets_crysx_nn.dtype)"
   ]
  },
  {
   "cell_type": "markdown",
   "id": "c863f928",
   "metadata": {},
   "source": [
    "## Now finally convert it to a tensorflow tensor"
   ]
  },
  {
   "cell_type": "code",
   "execution_count": 8,
   "id": "4191adb6",
   "metadata": {},
   "outputs": [],
   "source": [
    "predictions_tf = tf.convert_to_tensor(predictions_crysx_nn, dtype=tf.float32)\n",
    "targets_tf = tf.convert_to_tensor(targets_crysx_nn, dtype=tf.float32)"
   ]
  },
  {
   "cell_type": "markdown",
   "id": "0bc3a32c",
   "metadata": {},
   "source": [
    "## Benchmark MSE_loss"
   ]
  },
  {
   "cell_type": "markdown",
   "id": "d753f50d",
   "metadata": {},
   "source": [
    "### Confirm that all frameworks give the same results"
   ]
  },
  {
   "cell_type": "markdown",
   "id": "2904171d",
   "metadata": {},
   "source": [
    "PyTorch expects predictions first then targets\n",
    "\n",
    "PyTorch - https://pytorch.org/docs/stable/generated/torch.nn.MSELoss.html\n",
    "\n",
    "TensorFlow expects targets first then predictions\n",
    "\n",
    "Tensorflow - https://www.tensorflow.org/api_docs/python/tf/keras/losses/MeanSquaredError\n",
    "\n",
    "CrysX-NN doesn't return values averaged over samples. So take care of that."
   ]
  },
  {
   "cell_type": "code",
   "execution_count": 9,
   "id": "5f06c8a6",
   "metadata": {},
   "outputs": [
    {
     "name": "stdout",
     "output_type": "stream",
     "text": [
      "<class 'float'>\n",
      "Max abs diff b/w torch and tf 0.0\n",
      "Max abs diff b/w torch and CrysX 6.586035487998743e-05\n"
     ]
    }
   ],
   "source": [
    "# Torch\n",
    "mse_loss_func = torch.nn.MSELoss()\n",
    "mse_torch_value = mse_loss_func(predictions_torch, targets_torch)\n",
    "\n",
    "# CrysX\n",
    "mse_crysx_nn_value = MSE_loss(predictions_crysx_nn, targets_crysx_nn)/predictions_crysx_nn.shape[0]\n",
    "print(type(mse_crysx_nn_value))\n",
    "\n",
    "# Tensorflow\n",
    "mse_tf_func = tf.keras.losses.MeanSquaredError()\n",
    "mse_tf_value = mse_tf_func(targets_tf, predictions_tf)\n",
    "\n",
    "#Diff b/w tf and torch\n",
    "print('Max abs diff b/w torch and tf', abs(mse_torch_value.cpu().detach().numpy() - mse_tf_value.numpy()).max())\n",
    "\n",
    "#Diff b/w crysx_nn and torch\n",
    "print('Max abs diff b/w torch and CrysX', abs(mse_torch_value.cpu().detach().numpy() - mse_crysx_nn_value).max())"
   ]
  },
  {
   "cell_type": "markdown",
   "id": "85aaea9f",
   "metadata": {},
   "source": [
    "### Compare performance with arrays of different sizes"
   ]
  },
  {
   "cell_type": "code",
   "execution_count": 10,
   "id": "2e0f23df",
   "metadata": {},
   "outputs": [
    {
     "name": "stdout",
     "output_type": "stream",
     "text": [
      "19 µs ± 2.98 µs per loop (mean ± std. dev. of 7 runs, 500 loops each)\n",
      "7.54 µs ± 511 ns per loop (mean ± std. dev. of 7 runs, 500 loops each)\n",
      "183 µs ± 23.6 µs per loop (mean ± std. dev. of 7 runs, 500 loops each)\n",
      "Size: (10, 10)\n",
      "Max abs diff b/w torch and tf 0.00012207031\n",
      "Max abs diff b/w torch and CrysX 9.318947786596254e-05\n",
      "73.6 µs ± 2.35 µs per loop (mean ± std. dev. of 7 runs, 500 loops each)\n",
      "74.6 µs ± 7.29 µs per loop (mean ± std. dev. of 7 runs, 500 loops each)\n",
      "346 µs ± 18.5 µs per loop (mean ± std. dev. of 7 runs, 500 loops each)\n",
      "Size: (510, 510)\n",
      "Max abs diff b/w torch and tf 0.00012207031\n",
      "Max abs diff b/w torch and CrysX 3.0520422569679795e-05\n",
      "667 µs ± 34.9 µs per loop (mean ± std. dev. of 7 runs, 500 loops each)\n",
      "237 µs ± 40.3 µs per loop (mean ± std. dev. of 7 runs, 500 loops each)\n",
      "1.17 ms ± 70.6 µs per loop (mean ± std. dev. of 7 runs, 500 loops each)\n",
      "Size: (1010, 1010)\n",
      "Max abs diff b/w torch and tf 0.00024414062\n",
      "Max abs diff b/w torch and CrysX 8.403313381677435e-05\n",
      "1.6 ms ± 160 µs per loop (mean ± std. dev. of 7 runs, 500 loops each)\n",
      "458 µs ± 58.5 µs per loop (mean ± std. dev. of 7 runs, 500 loops each)\n",
      "1.9 ms ± 66 µs per loop (mean ± std. dev. of 7 runs, 500 loops each)\n",
      "Size: (1510, 1510)\n",
      "Max abs diff b/w torch and tf 0.0\n",
      "Max abs diff b/w torch and CrysX 9.497013343207072e-05\n",
      "3.16 ms ± 260 µs per loop (mean ± std. dev. of 7 runs, 500 loops each)\n",
      "1.03 ms ± 122 µs per loop (mean ± std. dev. of 7 runs, 500 loops each)\n",
      "4.1 ms ± 392 µs per loop (mean ± std. dev. of 7 runs, 500 loops each)\n",
      "Size: (2010, 2010)\n",
      "Max abs diff b/w torch and tf 0.00024414062\n",
      "Max abs diff b/w torch and CrysX 1.464389333705185e-05\n",
      "6.21 ms ± 683 µs per loop (mean ± std. dev. of 7 runs, 500 loops each)\n",
      "1.83 ms ± 215 µs per loop (mean ± std. dev. of 7 runs, 500 loops each)\n",
      "6.42 ms ± 597 µs per loop (mean ± std. dev. of 7 runs, 500 loops each)\n",
      "Size: (2510, 2510)\n",
      "Max abs diff b/w torch and tf 0.00036621094\n",
      "Max abs diff b/w torch and CrysX 5.618171508103842e-05\n"
     ]
    }
   ],
   "source": [
    "time_torch = []\n",
    "time_crysx_nn = []\n",
    "time_tf = []\n",
    "sizes = []\n",
    "\n",
    "for n_size in range(10,3000,500):\n",
    "    sizes.append(n_size*n_size)\n",
    "    # Torch input\n",
    "    predictions_torch = 100*torch.rand((n_size,n_size),requires_grad=True)\n",
    "    targets_torch = 100*torch.rand((n_size,n_size),requires_grad=True)\n",
    "    # CrysX-NN input\n",
    "    predictions_crysx_nn = predictions_torch.cpu().detach().numpy()\n",
    "    targets_crysx_nn = targets_torch.cpu().detach().numpy()\n",
    "    # Tensorflow input\n",
    "    predictions_tf = tf.convert_to_tensor(predictions_crysx_nn, dtype=tf.float32)\n",
    "    targets_tf = tf.convert_to_tensor(targets_crysx_nn, dtype=tf.float32)\n",
    "    \n",
    "    ##--Timings--\n",
    "    # Torch\n",
    "    mse_loss_func = torch.nn.MSELoss()\n",
    "    mse_torch_value = mse_loss_func(predictions_torch, targets_torch)\n",
    "    time = %timeit -n 500 -o mse_loss_func(predictions_torch, targets_torch)\n",
    "    # For time of each run\n",
    "    time_torch.append(np.mean(time.timings)) \n",
    "    # For total time\n",
    "#     time_torch.append(np.mean(time.all_runs)) \n",
    "    # CrysX\n",
    "    mse_crysx_nn_value = MSE_loss(predictions_crysx_nn, targets_crysx_nn)/predictions_crysx_nn.shape[0]\n",
    "    time = %timeit -n 500 -o MSE_loss(predictions_crysx_nn, targets_crysx_nn)/predictions_crysx_nn.shape[0]\n",
    "    # For time of each run\n",
    "    time_crysx_nn.append(np.mean(time.timings))\n",
    "    # Tensorflow\n",
    "    mse_tf_func = tf.keras.losses.MeanSquaredError()\n",
    "    mse_tf_value = mse_tf_func(targets_tf, predictions_tf)\n",
    "    time = %timeit -n 500 -o mse_tf_func(targets_tf, predictions_tf)\n",
    "    # For time of each run\n",
    "    time_tf.append(np.mean(time.timings))\n",
    "    print('Size:', predictions_crysx_nn.shape)\n",
    "    #Diff b/w tf and torch\n",
    "    print('Max abs diff b/w torch and tf', abs(mse_torch_value.cpu().detach().numpy() - mse_tf_value.numpy()).max())\n",
    "    #Diff b/w crysx_nn and torch\n",
    "    print('Max abs diff b/w torch and CrysX', abs(mse_torch_value.cpu().detach().numpy() - mse_crysx_nn_value).max())"
   ]
  },
  {
   "cell_type": "markdown",
   "id": "ff5bfcd1",
   "metadata": {},
   "source": [
    "### Plot the results"
   ]
  },
  {
   "cell_type": "code",
   "execution_count": 11,
   "id": "51a5ca51",
   "metadata": {
    "scrolled": true
   },
   "outputs": [
    {
     "data": {
      "image/png": "[encoded data removed]",
      "text/plain": [
       "<Figure size 432x288 with 1 Axes>"
      ]
     },
     "metadata": {
      "needs_background": "light"
     },
     "output_type": "display_data"
    }
   ],
   "source": [
    "\n",
    "plt.plot(sizes,time_torch, label='PyTorch')\n",
    "plt.plot(sizes,time_crysx_nn, label='CrysX-NN')\n",
    "plt.plot(sizes,time_tf, label='Tensorflow')\n",
    "plt.legend()\n",
    "plt.xlabel('Array sizes')\n",
    "plt.ylabel('Average Time (seconds)')\n",
    "plt.title('Benchmark MSE_loss (CPU)')\n",
    "plt.show()\n",
    "plt.subplots_adjust(left=0.15)\n",
    "# from google.colab import files\n",
    "# plt.savefig(\"MSE_loss_CPU.png\", transparent=True)\n",
    "# files.download(\"MSE_loss_CPU.png\") "
   ]
  },
  {
   "cell_type": "markdown",
   "id": "0eb92839",
   "metadata": {},
   "source": [
    "### Validate gradients"
   ]
  },
  {
   "cell_type": "code",
   "execution_count": 12,
   "id": "e95b2ee0",
   "metadata": {},
   "outputs": [],
   "source": [
    "def tf_mse_grad(targets_tf, predictions_tf):\n",
    "    with tf.GradientTape() as g:\n",
    "        g.watch(predictions_tf)\n",
    "        mse_tf_func = tf.keras.losses.MeanSquaredError()\n",
    "        mse_tf_value = mse_tf_func(targets_tf, predictions_tf)\n",
    "    grad = g.gradient(mse_tf_value, predictions_tf)\n",
    "    return grad#.numpy()"
   ]
  },
  {
   "cell_type": "code",
   "execution_count": 13,
   "id": "fb4b66d4",
   "metadata": {},
   "outputs": [
    {
     "name": "stdout",
     "output_type": "stream",
     "text": [
      "Max abs diff b/w torch and tf 4.656613e-10\n",
      "Max abs diff b/w torch and CrysX 2.3283064e-10\n"
     ]
    }
   ],
   "source": [
    "# Torch input\n",
    "predictions_torch = 10000*torch.rand((2000,3000),requires_grad=True)\n",
    "targets_torch = 10000*torch.rand((2000,3000),requires_grad=True)\n",
    "# CrysX-NN input\n",
    "predictions_crysx_nn = predictions_torch.cpu().detach().numpy()\n",
    "targets_crysx_nn = targets_torch.cpu().detach().numpy()\n",
    "# Tensorflow input\n",
    "predictions_tf = tf.convert_to_tensor(predictions_crysx_nn, dtype=tf.float32)\n",
    "targets_tf = tf.convert_to_tensor(targets_crysx_nn, dtype=tf.float32)\n",
    "\n",
    "# Torch\n",
    "mse_loss_func = torch.nn.MSELoss()\n",
    "mse_torch_value = mse_loss_func(predictions_torch, targets_torch)\n",
    "mse_torch_value.backward()\n",
    "gradientTorch = torch.autograd.grad(mse_loss_func(predictions_torch,targets_torch),predictions_torch)[0]\n",
    "# print(gradientTorch)\n",
    "\n",
    "# CrysX\n",
    "gradientCrysX_NN = MSE_loss_grad(predictions_crysx_nn, targets_crysx_nn)/predictions_crysx_nn.shape[0]\n",
    "\n",
    "# Tensorflow\n",
    "gradientTF = tf_mse_grad(targets_tf, predictions_tf)\n",
    "\n",
    "#Diff b/w tf and torch\n",
    "print('Max abs diff b/w torch and tf', abs(gradientTorch.cpu().detach().numpy() - gradientTF.numpy()).max())\n",
    "\n",
    "#Diff b/w crysx_nn and torch\n",
    "print('Max abs diff b/w torch and CrysX', abs(gradientTorch.cpu().detach().numpy() - gradientCrysX_NN).max())"
   ]
  },
  {
   "cell_type": "markdown",
   "id": "caa5242f",
   "metadata": {},
   "source": [
    "## Benchmark BCE_loss"
   ]
  },
  {
   "cell_type": "markdown",
   "id": "31b6bbf0",
   "metadata": {},
   "source": [
    "### Confirm that all frameworks give the same results"
   ]
  },
  {
   "cell_type": "markdown",
   "id": "0a45c485",
   "metadata": {},
   "source": [
    "PyTorch expects predictions first then targets\n",
    "\n",
    "PyTorch - https://pytorch.org/docs/stable/generated/torch.nn.BCELoss.html\n",
    "\n",
    "TensorFlow expects targets first then predictions\n",
    "\n",
    "Tensorflow - https://www.tensorflow.org/api_docs/python/tf/keras/losses/BinaryCrossentropy\n",
    "\n",
    "CrysX-NN doesn't return values averaged over samples. So take care of that."
   ]
  },
  {
   "cell_type": "code",
   "execution_count": 14,
   "id": "a540f503",
   "metadata": {},
   "outputs": [
    {
     "name": "stdout",
     "output_type": "stream",
     "text": [
      "Max abs diff b/w torch and tf 1.579523e-05\n",
      "Max abs diff b/w torch and CrysX 1.5770820150806664e-05\n"
     ]
    }
   ],
   "source": [
    "# Torch input\n",
    "predictions_torch = torch.rand((2000,3000),requires_grad=True)\n",
    "# print(predictions_torch)\n",
    "targets_torch = torch.randint(low=0,high=2, size=(2000,3000)).float()\n",
    "# print(targets_torch)\n",
    "# CrysX-NN input\n",
    "predictions_crysx_nn = predictions_torch.cpu().detach().numpy()\n",
    "targets_crysx_nn = targets_torch.cpu().detach().numpy()\n",
    "# Tensorflow input\n",
    "predictions_tf = tf.convert_to_tensor(predictions_crysx_nn, dtype=tf.float32)\n",
    "targets_tf = tf.convert_to_tensor(targets_crysx_nn, dtype=tf.float32)\n",
    "\n",
    "# Torch\n",
    "bce_loss_func = torch.nn.BCELoss()\n",
    "bce_torch_value = bce_loss_func(predictions_torch, targets_torch)\n",
    "\n",
    "# CrysX\n",
    "bce_crysx_nn_value = BCE_loss(predictions_crysx_nn, targets_crysx_nn)/predictions_crysx_nn.shape[0]\n",
    "# print(bce_crysx_nn_value)\n",
    "\n",
    "# Tensorflow\n",
    "bce_tf_func = tf.keras.losses.BinaryCrossentropy()\n",
    "bce_tf_value = bce_tf_func(targets_tf, predictions_tf)\n",
    "\n",
    "#Diff b/w tf and torch\n",
    "print('Max abs diff b/w torch and tf', abs(bce_torch_value.cpu().detach().numpy() - bce_tf_value.numpy()).max())\n",
    "\n",
    "#Diff b/w crysx_nn and torch\n",
    "print('Max abs diff b/w torch and CrysX', abs(bce_torch_value.cpu().detach().numpy() - bce_crysx_nn_value).max())"
   ]
  },
  {
   "cell_type": "markdown",
   "id": "e9790f4c",
   "metadata": {},
   "source": [
    "### Compare performance with arrays of different sizes"
   ]
  },
  {
   "cell_type": "code",
   "execution_count": 15,
   "id": "a0dc38b5",
   "metadata": {},
   "outputs": [
    {
     "name": "stdout",
     "output_type": "stream",
     "text": [
      "23.4 µs ± 3.74 µs per loop (mean ± std. dev. of 7 runs, 100 loops each)\n",
      "21 µs ± 7.74 µs per loop (mean ± std. dev. of 7 runs, 100 loops each)\n",
      "476 µs ± 74.9 µs per loop (mean ± std. dev. of 7 runs, 100 loops each)\n",
      "Size: (10, 10)\n",
      "Max abs diff b/w torch and tf 1.6093254e-06\n",
      "Max abs diff b/w torch and CrysX 1.5459510475102078e-06\n",
      "903 µs ± 23.9 µs per loop (mean ± std. dev. of 7 runs, 100 loops each)\n",
      "1.02 ms ± 68.4 µs per loop (mean ± std. dev. of 7 runs, 100 loops each)\n",
      "1.31 ms ± 57.9 µs per loop (mean ± std. dev. of 7 runs, 100 loops each)\n",
      "Size: (510, 510)\n",
      "Max abs diff b/w torch and tf 1.1920929e-06\n",
      "Max abs diff b/w torch and CrysX 1.2227140582243834e-06\n",
      "3.57 ms ± 83.1 µs per loop (mean ± std. dev. of 7 runs, 100 loops each)\n",
      "4.7 ms ± 263 µs per loop (mean ± std. dev. of 7 runs, 100 loops each)\n",
      "12.3 ms ± 789 µs per loop (mean ± std. dev. of 7 runs, 100 loops each)\n",
      "Size: (1010, 1010)\n",
      "Max abs diff b/w torch and tf 1.7285347e-06\n",
      "Max abs diff b/w torch and CrysX 1.7487951778916155e-06\n",
      "7.96 ms ± 155 µs per loop (mean ± std. dev. of 7 runs, 100 loops each)\n",
      "10.4 ms ± 741 µs per loop (mean ± std. dev. of 7 runs, 100 loops each)\n",
      "21.1 ms ± 1.44 ms per loop (mean ± std. dev. of 7 runs, 100 loops each)\n",
      "Size: (1510, 1510)\n",
      "Max abs diff b/w torch and tf 1.4305115e-06\n",
      "Max abs diff b/w torch and CrysX 1.3790443209593661e-06\n",
      "14 ms ± 317 µs per loop (mean ± std. dev. of 7 runs, 100 loops each)\n",
      "18 ms ± 1.06 ms per loop (mean ± std. dev. of 7 runs, 100 loops each)\n",
      "35.5 ms ± 3.54 ms per loop (mean ± std. dev. of 7 runs, 100 loops each)\n",
      "Size: (2010, 2010)\n",
      "Max abs diff b/w torch and tf 1.4305115e-06\n",
      "Max abs diff b/w torch and CrysX 1.5794014031067505e-06\n",
      "22.3 ms ± 192 µs per loop (mean ± std. dev. of 7 runs, 100 loops each)\n",
      "27.2 ms ± 704 µs per loop (mean ± std. dev. of 7 runs, 100 loops each)\n",
      "59.1 ms ± 5.16 ms per loop (mean ± std. dev. of 7 runs, 100 loops each)\n",
      "Size: (2510, 2510)\n",
      "Max abs diff b/w torch and tf 1.66893e-06\n",
      "Max abs diff b/w torch and CrysX 1.76226731518625e-06\n"
     ]
    }
   ],
   "source": [
    "time_torch = []\n",
    "time_crysx_nn = []\n",
    "time_tf = []\n",
    "sizes = []\n",
    "\n",
    "for n_size in range(10,3000,500):\n",
    "    sizes.append(n_size*n_size)\n",
    "    # Torch input\n",
    "    predictions_torch = torch.rand((n_size,n_size),requires_grad=True)\n",
    "    targets_torch = torch.randint(low=0,high=2, size=(n_size,n_size)).float()\n",
    "    # CrysX-NN input\n",
    "    predictions_crysx_nn = predictions_torch.cpu().detach().numpy()\n",
    "    targets_crysx_nn = targets_torch.cpu().detach().numpy()\n",
    "    # Tensorflow input\n",
    "    predictions_tf = tf.convert_to_tensor(predictions_crysx_nn, dtype=tf.float32)\n",
    "    targets_tf = tf.convert_to_tensor(targets_crysx_nn, dtype=tf.float32)\n",
    "    \n",
    "    ##--Timings--\n",
    "    # Torch\n",
    "    bce_loss_func = torch.nn.BCELoss()\n",
    "    bce_torch_value = bce_loss_func(predictions_torch, targets_torch)\n",
    "    time = %timeit -n 100 -o bce_loss_func(predictions_torch, targets_torch)\n",
    "    # For time of each run\n",
    "    time_torch.append(np.mean(time.timings)) \n",
    "    # For total time\n",
    "#     time_torch.append(np.mean(time.all_runs)) \n",
    "    # CrysX\n",
    "    bce_crysx_nn_value = BCE_loss(predictions_crysx_nn, targets_crysx_nn)/predictions_crysx_nn.shape[0]\n",
    "    time = %timeit -n 100 -o BCE_loss(predictions_crysx_nn, targets_crysx_nn)/predictions_crysx_nn.shape[0]\n",
    "    # For time of each run\n",
    "    time_crysx_nn.append(np.mean(time.timings))\n",
    "    # Tensorflow\n",
    "    bce_tf_func = tf.keras.losses.BinaryCrossentropy()\n",
    "    bce_tf_value = bce_tf_func(targets_tf, predictions_tf)\n",
    "    time = %timeit -n 100 -o bce_tf_func(targets_tf, predictions_tf)\n",
    "    # For time of each run\n",
    "    time_tf.append(np.mean(time.timings))\n",
    "    print('Size:', predictions_crysx_nn.shape)\n",
    "    #Diff b/w tf and torch\n",
    "    print('Max abs diff b/w torch and tf', abs(bce_torch_value.cpu().detach().numpy() - bce_tf_value.numpy()).max())\n",
    "    #Diff b/w crysx_nn and torch\n",
    "    print('Max abs diff b/w torch and CrysX', abs(bce_torch_value.cpu().detach().numpy() - bce_crysx_nn_value).max())"
   ]
  },
  {
   "cell_type": "markdown",
   "id": "f8334fe8",
   "metadata": {},
   "source": [
    "### Plot the results"
   ]
  },
  {
   "cell_type": "code",
   "execution_count": 16,
   "id": "e6d9fa6d",
   "metadata": {
    "scrolled": true
   },
   "outputs": [
    {
     "data": {
      "image/png": "[encoded data removed]",
      "text/plain": [
       "<Figure size 432x288 with 1 Axes>"
      ]
     },
     "metadata": {
      "needs_background": "light"
     },
     "output_type": "display_data"
    }
   ],
   "source": [
    "\n",
    "plt.plot(sizes,time_torch, label='PyTorch')\n",
    "plt.plot(sizes,time_crysx_nn, label='CrysX-NN')\n",
    "plt.plot(sizes,time_tf, label='Tensorflow')\n",
    "plt.legend()\n",
    "plt.xlabel('Array sizes')\n",
    "plt.ylabel('Average Time (seconds)')\n",
    "plt.title('Benchmark BCE_loss (CPU)')\n",
    "plt.show()\n",
    "plt.subplots_adjust(left=0.15)\n",
    "# plt.savefig(\"BCE_loss_CPU.png\", transparent=True)\n",
    "# files.download(\"BCE_loss_CPU.png\")"
   ]
  },
  {
   "cell_type": "markdown",
   "id": "4649e73a",
   "metadata": {},
   "source": [
    "### Validate gradients"
   ]
  },
  {
   "cell_type": "code",
   "execution_count": 17,
   "id": "e3cb079e",
   "metadata": {},
   "outputs": [],
   "source": [
    "def tf_bce_grad(targets_tf, predictions_tf):\n",
    "    with tf.GradientTape() as g:\n",
    "        g.watch(predictions_tf)\n",
    "        bce_tf_func = tf.keras.losses.BinaryCrossentropy()\n",
    "        bce_tf_value = bce_tf_func(targets_tf, predictions_tf)\n",
    "    grad = g.gradient(bce_tf_value, predictions_tf)\n",
    "    return grad#.numpy()"
   ]
  },
  {
   "cell_type": "code",
   "execution_count": 18,
   "id": "a77feeb5",
   "metadata": {},
   "outputs": [
    {
     "name": "stderr",
     "output_type": "stream",
     "text": [
      "C:\\Users\\manas\\anaconda3\\envs\\crysx_nn\\lib\\site-packages\\ipykernel_launcher.py:9: UserWarning: Implicit dimension choice for softmax has been deprecated. Change the call to include dim=X as an argument.\n",
      "  if __name__ == '__main__':\n"
     ]
    },
    {
     "name": "stdout",
     "output_type": "stream",
     "text": [
      "Max abs diff b/w torch and tf 4.4319313e-07\n",
      "Max abs diff b/w torch and CrysX 1.1641532e-10\n"
     ]
    }
   ],
   "source": [
    "nSamples = 2000\n",
    "nOutputs = 3000#nClasess\n",
    "# Torch input\n",
    "predictions_torch_ = torch.rand((nSamples,nOutputs),requires_grad=True)\n",
    "# print(predictions_torch)\n",
    "# Predictions are supposed to be probabilities from 0 to 1, summing upto 1.\n",
    "# Therefore, apply a softmax on them\n",
    "m = torch.nn.Softmax()\n",
    "predictions_torch = m(predictions_torch_)\n",
    "# print(predictions_torch)\n",
    "# Generate random one hot vectors matrix\n",
    "# No. of classes\n",
    "n = nOutputs\n",
    "target_indices = torch.randint(1,n, size=(1,nSamples)).reshape(nSamples) # Get a 1D tensor index of size =nSamples=2000\n",
    "# print(target_indices)\n",
    "# print(target_indices.shape)\n",
    "# Convert the index tensor to one-hot encoded vectors matrix\n",
    "target_one_hot = torch.nn.functional.one_hot(target_indices, n) # size=(4,7,n)\n",
    "targets_torch = target_one_hot.float() # torch.randint(low=0,high=2, size=(2000,3000)).float()\n",
    "# print(targets_torch)\n",
    "# print(targets_torch.shape)\n",
    "# CrysX-NN input\n",
    "predictions_crysx_nn = predictions_torch.cpu().detach().numpy()\n",
    "targets_crysx_nn = targets_torch.cpu().detach().numpy()\n",
    "# Tensorflow input\n",
    "predictions_tf = tf.convert_to_tensor(predictions_crysx_nn, dtype=tf.float32)\n",
    "targets_tf = tf.convert_to_tensor(targets_crysx_nn, dtype=tf.float32)\n",
    "\n",
    "# Torch\n",
    "bce_loss_func = torch.nn.BCELoss()\n",
    "bce_torch_value = bce_loss_func(predictions_torch, targets_torch)\n",
    "bce_torch_value.backward()\n",
    "gradientTorch = torch.autograd.grad(bce_loss_func(predictions_torch,targets_torch),predictions_torch)[0]\n",
    "# print(gradientTorch)\n",
    "\n",
    "# CrysX\n",
    "gradientCrysX_NN = BCE_loss_grad(predictions_crysx_nn, targets_crysx_nn)/predictions_crysx_nn.shape[0]\n",
    "\n",
    "# Tensorflow\n",
    "gradientTF = tf_bce_grad(targets_tf, predictions_tf)\n",
    "\n",
    "#Diff b/w tf and torch\n",
    "print('Max abs diff b/w torch and tf', abs(gradientTorch.cpu().detach().numpy() - gradientTF.numpy()).max())\n",
    "\n",
    "#Diff b/w crysx_nn and torch\n",
    "print('Max abs diff b/w torch and CrysX', abs(gradientTorch.cpu().detach().numpy() - gradientCrysX_NN).max())"
   ]
  },
  {
   "cell_type": "markdown",
   "id": "74f52dd1",
   "metadata": {},
   "source": [
    "## Benchmark MAE_loss"
   ]
  },
  {
   "cell_type": "markdown",
   "id": "b98b8852",
   "metadata": {},
   "source": [
    "### Confirm that all frameworks give the same results"
   ]
  },
  {
   "cell_type": "markdown",
   "id": "52b60d80",
   "metadata": {},
   "source": [
    "PyTorch expects predictions first then targets\n",
    "\n",
    "PyTorch - https://pytorch.org/docs/stable/generated/torch.nn.L1Loss.html\n",
    "\n",
    "TensorFlow expects targets first then predictions\n",
    "\n",
    "Tensorflow - https://www.tensorflow.org/api_docs/python/tf/keras/losses/MeanAbsoluteError\n",
    "\n",
    "CrysX-NN doesn't return values averaged over samples. So take care of that."
   ]
  },
  {
   "cell_type": "code",
   "execution_count": 19,
   "id": "0bd24a9b",
   "metadata": {},
   "outputs": [
    {
     "name": "stdout",
     "output_type": "stream",
     "text": [
      "<class 'float'>\n",
      "Max abs diff b/w torch and tf 3.8146973e-06\n",
      "Max abs diff b/w torch and CrysX 4.055190089502503e-06\n"
     ]
    }
   ],
   "source": [
    "# Torch\n",
    "predictions_torch = 100*torch.rand((300,100),requires_grad=True)\n",
    "targets_torch = 100*torch.rand((300,100),requires_grad=True)\n",
    "# CrysX\n",
    "predictions_crysx_nn = predictions_torch.cpu().detach().numpy()\n",
    "targets_crysx_nn = targets_torch.cpu().detach().numpy()\n",
    "# TensorFlow\n",
    "predictions_tf = tf.convert_to_tensor(predictions_crysx_nn, dtype=tf.float32)\n",
    "targets_tf = tf.convert_to_tensor(targets_crysx_nn, dtype=tf.float32)\n",
    "\n",
    "# Torch\n",
    "mae_loss_func = torch.nn.L1Loss()\n",
    "mae_torch_value = mae_loss_func(predictions_torch, targets_torch)\n",
    "\n",
    "# CrysX\n",
    "mae_crysx_nn_value = MAE_loss(predictions_crysx_nn, targets_crysx_nn)/predictions_crysx_nn.shape[0]\n",
    "print(type(mae_crysx_nn_value))\n",
    "\n",
    "# Tensorflow\n",
    "mae_tf_func = tf.keras.losses.MeanAbsoluteError()\n",
    "mae_tf_value = mae_tf_func(targets_tf, predictions_tf)\n",
    "\n",
    "#Diff b/w tf and torch\n",
    "print('Max abs diff b/w torch and tf', abs(mae_torch_value.cpu().detach().numpy() - mae_tf_value.numpy()).max())\n",
    "\n",
    "#Diff b/w crysx_nn and torch\n",
    "print('Max abs diff b/w torch and CrysX', abs(mae_torch_value.cpu().detach().numpy() - mae_crysx_nn_value).max())"
   ]
  },
  {
   "cell_type": "markdown",
   "id": "5cbc657a",
   "metadata": {},
   "source": [
    "### Compare performance with arrays of different sizes"
   ]
  },
  {
   "cell_type": "code",
   "execution_count": 20,
   "id": "3f7c51cb",
   "metadata": {},
   "outputs": [
    {
     "name": "stdout",
     "output_type": "stream",
     "text": [
      "24.5 µs ± 1.53 µs per loop (mean ± std. dev. of 7 runs, 300 loops each)\n",
      "13.7 µs ± 1.82 µs per loop (mean ± std. dev. of 7 runs, 300 loops each)\n",
      "200 µs ± 47.9 µs per loop (mean ± std. dev. of 7 runs, 300 loops each)\n",
      "Size: (10, 10)\n",
      "Max abs diff b/w torch and tf 3.8146973e-06\n",
      "Max abs diff b/w torch and CrysX 9.727477987553357e-07\n",
      "181 µs ± 7.93 µs per loop (mean ± std. dev. of 7 runs, 300 loops each)\n",
      "58.2 µs ± 2.38 µs per loop (mean ± std. dev. of 7 runs, 300 loops each)\n",
      "441 µs ± 48.8 µs per loop (mean ± std. dev. of 7 runs, 300 loops each)\n",
      "Size: (510, 510)\n",
      "Max abs diff b/w torch and tf 0.0\n",
      "Max abs diff b/w torch and CrysX 6.337369384823432e-07\n",
      "1.25 ms ± 138 µs per loop (mean ± std. dev. of 7 runs, 300 loops each)\n",
      "154 µs ± 37.2 µs per loop (mean ± std. dev. of 7 runs, 300 loops each)\n",
      "2.43 ms ± 189 µs per loop (mean ± std. dev. of 7 runs, 300 loops each)\n",
      "Size: (1010, 1010)\n",
      "Max abs diff b/w torch and tf 0.0\n",
      "Max abs diff b/w torch and CrysX 8.612756019488188e-07\n",
      "3.36 ms ± 358 µs per loop (mean ± std. dev. of 7 runs, 300 loops each)\n",
      "374 µs ± 46.8 µs per loop (mean ± std. dev. of 7 runs, 300 loops each)\n",
      "4.75 ms ± 626 µs per loop (mean ± std. dev. of 7 runs, 300 loops each)\n",
      "Size: (1510, 1510)\n",
      "Max abs diff b/w torch and tf 0.0\n",
      "Max abs diff b/w torch and CrysX 2.940290499964249e-07\n",
      "5.31 ms ± 603 µs per loop (mean ± std. dev. of 7 runs, 300 loops each)\n",
      "563 µs ± 98.6 µs per loop (mean ± std. dev. of 7 runs, 300 loops each)\n",
      "7.04 ms ± 784 µs per loop (mean ± std. dev. of 7 runs, 300 loops each)\n",
      "Size: (2010, 2010)\n",
      "Max abs diff b/w torch and tf 3.8146973e-06\n",
      "Max abs diff b/w torch and CrysX 3.353525741545127e-07\n",
      "8.61 ms ± 1.16 ms per loop (mean ± std. dev. of 7 runs, 300 loops each)\n",
      "1.11 ms ± 200 µs per loop (mean ± std. dev. of 7 runs, 300 loops each)\n",
      "9.93 ms ± 796 µs per loop (mean ± std. dev. of 7 runs, 300 loops each)\n",
      "Size: (2510, 2510)\n",
      "Max abs diff b/w torch and tf 3.8146973e-06\n",
      "Max abs diff b/w torch and CrysX 4.993105164885492e-07\n"
     ]
    }
   ],
   "source": [
    "time_torch = []\n",
    "time_crysx_nn = []\n",
    "time_tf = []\n",
    "sizes = []\n",
    "\n",
    "for n_size in range(10,3000,500):\n",
    "    sizes.append(n_size*n_size)\n",
    "    # Torch input\n",
    "    predictions_torch = 100*torch.rand((n_size,n_size),requires_grad=True)\n",
    "    targets_torch = 100*torch.rand((n_size,n_size),requires_grad=True)\n",
    "    # CrysX-NN input\n",
    "    predictions_crysx_nn = predictions_torch.cpu().detach().numpy()\n",
    "    targets_crysx_nn = targets_torch.cpu().detach().numpy()\n",
    "    # Tensorflow input\n",
    "    predictions_tf = tf.convert_to_tensor(predictions_crysx_nn, dtype=tf.float32)\n",
    "    targets_tf = tf.convert_to_tensor(targets_crysx_nn, dtype=tf.float32)\n",
    "    \n",
    "    ##--Timings--\n",
    "    # Torch\n",
    "    mae_loss_func = torch.nn.L1Loss()\n",
    "    mae_torch_value = mae_loss_func(predictions_torch, targets_torch)\n",
    "    time = %timeit -n 300 -o mae_loss_func(predictions_torch, targets_torch)\n",
    "    # For time of each run\n",
    "    time_torch.append(np.mean(time.timings)) \n",
    "    # For total time\n",
    "#     time_torch.append(np.mean(time.all_runs)) \n",
    "    # CrysX\n",
    "    mae_crysx_nn_value = MAE_loss(predictions_crysx_nn, targets_crysx_nn)/predictions_crysx_nn.shape[0]\n",
    "    time = %timeit -n 300 -o MAE_loss(predictions_crysx_nn, targets_crysx_nn)/predictions_crysx_nn.shape[0]\n",
    "    # For time of each run\n",
    "    time_crysx_nn.append(np.mean(time.timings))\n",
    "    # Tensorflow\n",
    "    mae_tf_func = tf.keras.losses.MeanAbsoluteError()\n",
    "    mae_tf_value = mae_tf_func(targets_tf, predictions_tf)\n",
    "    time = %timeit -n 300 -o mae_tf_func(targets_tf, predictions_tf)\n",
    "    # For time of each run\n",
    "    time_tf.append(np.mean(time.timings))\n",
    "    print('Size:', predictions_crysx_nn.shape)\n",
    "    #Diff b/w tf and torch\n",
    "    print('Max abs diff b/w torch and tf', abs(mae_torch_value.cpu().detach().numpy() - mae_tf_value.numpy()).max())\n",
    "    #Diff b/w crysx_nn and torch\n",
    "    print('Max abs diff b/w torch and CrysX', abs(mae_torch_value.cpu().detach().numpy() - mae_crysx_nn_value).max())"
   ]
  },
  {
   "cell_type": "markdown",
   "id": "b3a9d367",
   "metadata": {},
   "source": [
    "### Plot the results"
   ]
  },
  {
   "cell_type": "code",
   "execution_count": 27,
   "id": "37190061",
   "metadata": {
    "scrolled": false
   },
   "outputs": [
    {
     "data": {
      "image/png": "[encoded data removed]",
      "text/plain": [
       "<Figure size 432x288 with 1 Axes>"
      ]
     },
     "metadata": {
      "needs_background": "light"
     },
     "output_type": "display_data"
    }
   ],
   "source": [
    "\n",
    "plt.plot(sizes,time_torch, label='PyTorch')\n",
    "plt.plot(sizes,time_crysx_nn, label='CrysX-NN')\n",
    "plt.plot(sizes,time_tf, label='Tensorflow')\n",
    "plt.legend()\n",
    "plt.xlabel('Array sizes')\n",
    "plt.ylabel('Average Time (seconds)')\n",
    "plt.title('Benchmark MAE_loss (CPU)')\n",
    "plt.show()\n",
    "plt.subplots_adjust(left=0.15)\n",
    "# plt.savefig(\"MAE_loss_CPU.png\", transparent=True)\n",
    "# files.download(\"MAE_loss_CPU.png\")"
   ]
  },
  {
   "cell_type": "markdown",
   "id": "bb147c4a",
   "metadata": {},
   "source": [
    "### Validate gradients"
   ]
  },
  {
   "cell_type": "code",
   "execution_count": 22,
   "id": "782760f7",
   "metadata": {},
   "outputs": [],
   "source": [
    "def tf_mae_grad(targets_tf, predictions_tf):\n",
    "    with tf.GradientTape() as g:\n",
    "        g.watch(predictions_tf)\n",
    "        mae_tf_func = tf.keras.losses.MeanAbsoluteError()\n",
    "        mae_tf_value = mae_tf_func(targets_tf, predictions_tf)\n",
    "    grad = g.gradient(mae_tf_value, predictions_tf)\n",
    "    return grad#.numpy()"
   ]
  },
  {
   "cell_type": "code",
   "execution_count": 23,
   "id": "8f4e7c31",
   "metadata": {},
   "outputs": [
    {
     "name": "stdout",
     "output_type": "stream",
     "text": [
      "Max abs diff b/w torch and tf 1.4210855e-14\n",
      "Max abs diff b/w torch and CrysX 4.2079286565503357e-16\n"
     ]
    }
   ],
   "source": [
    "# Torch input\n",
    "predictions_torch = 10000*torch.rand((2000,3000),requires_grad=True)\n",
    "targets_torch = 10000*torch.rand((2000,3000),requires_grad=True)\n",
    "# CrysX-NN input\n",
    "predictions_crysx_nn = predictions_torch.cpu().detach().numpy()\n",
    "targets_crysx_nn = targets_torch.cpu().detach().numpy()\n",
    "# Tensorflow input\n",
    "predictions_tf = tf.convert_to_tensor(predictions_crysx_nn, dtype=tf.float32)\n",
    "targets_tf = tf.convert_to_tensor(targets_crysx_nn, dtype=tf.float32)\n",
    "\n",
    "# Torch\n",
    "mae_loss_func = torch.nn.L1Loss()\n",
    "mae_torch_value = mae_loss_func(predictions_torch, targets_torch)\n",
    "mae_torch_value.backward()\n",
    "gradientTorch = torch.autograd.grad(mae_loss_func(predictions_torch,targets_torch),predictions_torch)[0]\n",
    "# print(gradientTorch)\n",
    "\n",
    "# CrysX\n",
    "gradientCrysX_NN = MAE_loss_grad(predictions_crysx_nn, targets_crysx_nn)/predictions_crysx_nn.shape[0]\n",
    "# print(gradientCrysX_NN)\n",
    "\n",
    "\n",
    "# Tensorflow\n",
    "gradientTF = tf_mae_grad(targets_tf, predictions_tf)\n",
    "\n",
    "#Diff b/w tf and torch\n",
    "print('Max abs diff b/w torch and tf', abs(gradientTorch.cpu().detach().numpy() - gradientTF.numpy()).max())\n",
    "\n",
    "#Diff b/w crysx_nn and torch\n",
    "print('Max abs diff b/w torch and CrysX', abs(gradientTorch.cpu().detach().numpy() - gradientCrysX_NN).max())"
   ]
  },
  {
   "cell_type": "markdown",
   "id": "60f066a3",
   "metadata": {},
   "source": [
    "## Benchmark CCE_loss"
   ]
  },
  {
   "cell_type": "markdown",
   "id": "035b2ae4",
   "metadata": {},
   "source": [
    "### Confirm that all frameworks give the same results"
   ]
  },
  {
   "cell_type": "markdown",
   "id": "ff39cc7f",
   "metadata": {},
   "source": [
    "PyTorch expects predictions first then targets\n",
    "\n",
    "PyTorch - https://pytorch.org/docs/stable/generated/torch.nn.CrossEntropyLoss.html\n",
    "\n",
    "TensorFlow expects targets first then predictions\n",
    "\n",
    "Tensorflow - https://www.tensorflow.org/api_docs/python/tf/keras/losses/CategoricalCrossentropy\n",
    "\n",
    "CrysX-NN doesn't return values averaged over samples. So take care of that.\n",
    "\n",
    "<b>Note:</b> TensorFlow and CrysX-NN expect one-hot encoded vectors.\n",
    "<b>Note:</b> Unfortunately, PyTorch computes the Cross Entropy in a weird fashion. It expects the inputs to not be probabilities. Rather it computes the probabilities from the inputs using the Softmax function and then returns the Cross Entropy Loss.https://stackoverflow.com/questions/49390842/cross-entropy-in-pytorch\n",
    "\n",
    "Unrelated but useful info some of the answers and comments for future reference: https://stackoverflow.com/questions/42081257/why-binary-crossentropy-and-categorical-crossentropy-give-different-performances"
   ]
  },
  {
   "cell_type": "code",
   "execution_count": 24,
   "id": "beb64abb",
   "metadata": {},
   "outputs": [
    {
     "name": "stderr",
     "output_type": "stream",
     "text": [
      "C:\\Users\\manas\\anaconda3\\envs\\crysx_nn\\lib\\site-packages\\ipykernel_launcher.py:9: UserWarning: Implicit dimension choice for softmax has been deprecated. Change the call to include dim=X as an argument.\n",
      "  if __name__ == '__main__':\n"
     ]
    },
    {
     "name": "stdout",
     "output_type": "stream",
     "text": [
      "Max abs diff b/w torch and tf 0.0\n",
      "Max abs diff b/w torch and CrysX 3.675983144546535e-06\n"
     ]
    }
   ],
   "source": [
    "nSamples = 2000\n",
    "nOutputs = 3000 #nClasess\n",
    "# Torch input\n",
    "predictions_torch_ = torch.rand((nSamples,nOutputs),requires_grad=True)\n",
    "# print(predictions_torch)\n",
    "# Predictions are supposed to be probabilities from 0 to 1, summing upto 1.\n",
    "# Therefore, apply a softmax on them\n",
    "m = torch.nn.Softmax()\n",
    "predictions_torch = m(predictions_torch_)\n",
    "# print(predictions_torch)\n",
    "# Generate random one hot vectors matrix\n",
    "# No. of classes\n",
    "n = nOutputs\n",
    "target_indices = torch.randint(1,n, size=(1,nSamples)).reshape(nSamples) # Get a 1D tensor index of size =nSamples=2000\n",
    "# print(target_indices)\n",
    "# print(target_indices.shape)\n",
    "\n",
    "# Convert the index tensor to one-hot encoded vectors matrix\n",
    "target_one_hot = torch.nn.functional.one_hot(target_indices, n) # size=(4,7,n)\n",
    "targets_torch = target_one_hot.float() # torch.randint(low=0,high=2, size=(2000,3000)).float()\n",
    "# print(targets_torch)\n",
    "# print(targets_torch.shape)\n",
    "\n",
    "# CrysX-NN input\n",
    "predictions_crysx_nn = predictions_torch.cpu().detach().numpy()\n",
    "targets_crysx_nn = targets_torch.cpu().detach().numpy()\n",
    "\n",
    "# Tensorflow input\n",
    "predictions_tf = tf.convert_to_tensor(predictions_crysx_nn, dtype=tf.float32)\n",
    "targets_tf = tf.convert_to_tensor(targets_crysx_nn, dtype=tf.float32)\n",
    "\n",
    "# Torch\n",
    "cce_loss_func = torch.nn.CrossEntropyLoss()\n",
    "# cce_loss_func = torch.nn.NLLLoss()\n",
    "# cce_torch_value = cce_loss_func(predictions_torch_, targets_torch) # Don't use one-hot vectors for PyTorch\n",
    "cce_torch_value = cce_loss_func(predictions_torch_, target_indices) # Use the class/target indices directly for Pytorch\n",
    "# print(cce_torch_value)\n",
    "\n",
    "# CrysX\n",
    "# Default epsilon=1e-9 (gives exactly the same answer as tensorflow)\n",
    "cce_crysx_nn_value = CCE_loss(predictions_crysx_nn, targets_crysx_nn)/predictions_crysx_nn.shape[0]\n",
    "# print(cce_crysx_nn_value)\n",
    "\n",
    "# Tensorflow\n",
    "cce_tf_func = tf.keras.losses.CategoricalCrossentropy()\n",
    "cce_tf_value = cce_tf_func(targets_tf, predictions_tf)\n",
    "# print(cce_tf_value)\n",
    "\n",
    "#Diff b/w tf and torch\n",
    "print('Max abs diff b/w torch and tf', abs(cce_torch_value.cpu().detach().numpy() - cce_tf_value.numpy()).max())\n",
    "\n",
    "#Diff b/w crysx_nn and torch\n",
    "print('Max abs diff b/w torch and CrysX', abs(cce_torch_value.cpu().detach().numpy() - cce_crysx_nn_value).max())\n"
   ]
  },
  {
   "cell_type": "markdown",
   "id": "e650c1b6",
   "metadata": {},
   "source": [
    "### Compare performance with arrays of different sizes"
   ]
  },
  {
   "cell_type": "code",
   "execution_count": 25,
   "id": "3a8fd3d1",
   "metadata": {},
   "outputs": [
    {
     "name": "stdout",
     "output_type": "stream",
     "text": [
      "15.1 µs ± 1.72 µs per loop (mean ± std. dev. of 7 runs, 100 loops each)\n",
      "74 µs ± 7.04 µs per loop (mean ± std. dev. of 7 runs, 100 loops each)\n"
     ]
    },
    {
     "name": "stderr",
     "output_type": "stream",
     "text": [
      "C:\\Users\\manas\\anaconda3\\envs\\crysx_nn\\lib\\site-packages\\ipykernel_launcher.py:13: UserWarning: Implicit dimension choice for softmax has been deprecated. Change the call to include dim=X as an argument.\n",
      "  del sys.path[0]\n"
     ]
    },
    {
     "name": "stdout",
     "output_type": "stream",
     "text": [
      "309 µs ± 32.2 µs per loop (mean ± std. dev. of 7 runs, 100 loops each)\n",
      "Size: (10, 10)\n",
      "Max abs diff b/w torch and tf 0.0\n",
      "Max abs diff b/w torch and CrysX 2.0615448281802173e-07\n",
      "2.11 ms ± 165 µs per loop (mean ± std. dev. of 7 runs, 100 loops each)\n",
      "2.48 ms ± 92 µs per loop (mean ± std. dev. of 7 runs, 100 loops each)\n",
      "814 µs ± 43.2 µs per loop (mean ± std. dev. of 7 runs, 100 loops each)\n",
      "Size: (510, 510)\n",
      "Max abs diff b/w torch and tf 0.0\n",
      "Max abs diff b/w torch and CrysX 7.620767155103181e-07\n",
      "6.24 ms ± 232 µs per loop (mean ± std. dev. of 7 runs, 100 loops each)\n",
      "11 ms ± 1.03 ms per loop (mean ± std. dev. of 7 runs, 100 loops each)\n",
      "5.4 ms ± 443 µs per loop (mean ± std. dev. of 7 runs, 100 loops each)\n",
      "Size: (1010, 1010)\n",
      "Max abs diff b/w torch and tf 4.7683716e-07\n",
      "Max abs diff b/w torch and CrysX 1.5342954062802505e-06\n",
      "9.73 ms ± 421 µs per loop (mean ± std. dev. of 7 runs, 100 loops each)\n",
      "22.3 ms ± 2.37 ms per loop (mean ± std. dev. of 7 runs, 100 loops each)\n",
      "9.17 ms ± 889 µs per loop (mean ± std. dev. of 7 runs, 100 loops each)\n",
      "Size: (1510, 1510)\n",
      "Max abs diff b/w torch and tf 0.0\n",
      "Max abs diff b/w torch and CrysX 1.997496394068321e-06\n",
      "13.9 ms ± 211 µs per loop (mean ± std. dev. of 7 runs, 100 loops each)\n",
      "38.3 ms ± 616 µs per loop (mean ± std. dev. of 7 runs, 100 loops each)\n",
      "13.9 ms ± 577 µs per loop (mean ± std. dev. of 7 runs, 100 loops each)\n",
      "Size: (2010, 2010)\n",
      "Max abs diff b/w torch and tf 9.536743e-07\n",
      "Max abs diff b/w torch and CrysX 2.471863411734887e-06\n",
      "18.2 ms ± 585 µs per loop (mean ± std. dev. of 7 runs, 100 loops each)\n",
      "56.5 ms ± 6.81 ms per loop (mean ± std. dev. of 7 runs, 100 loops each)\n",
      "21 ms ± 1.22 ms per loop (mean ± std. dev. of 7 runs, 100 loops each)\n",
      "Size: (2510, 2510)\n",
      "Max abs diff b/w torch and tf 4.7683716e-07\n",
      "Max abs diff b/w torch and CrysX 2.4782050704885705e-06\n"
     ]
    }
   ],
   "source": [
    "time_torch = []\n",
    "time_crysx_nn = []\n",
    "time_tf = []\n",
    "sizes = []\n",
    "\n",
    "for n_size in range(10,3000,500):\n",
    "    sizes.append(n_size*n_size)\n",
    "    # Torch input\n",
    "    predictions_torch_ = torch.rand((n_size,n_size),requires_grad=True)\n",
    "    # Predictions are supposed to be probabilities from 0 to 1, summing upto 1.\n",
    "    # Therefore, apply a softmax on them\n",
    "    m = torch.nn.Softmax()\n",
    "    predictions_torch = m(predictions_torch_)\n",
    "    # Generate random one hot vectors matrix\n",
    "    # No. of classes\n",
    "    n = n_size\n",
    "    target_indices = torch.randint(1,n, size=(1,n_size)).reshape(n_size) # Get a 1D tensor index of size =nSamples=2000\n",
    "    # Convert the index tensor to one-hot encoded vectors matrix\n",
    "    target_one_hot = torch.nn.functional.one_hot(target_indices, n) # size=(4,7,n)\n",
    "    targets_torch = target_one_hot.float() # torch.randint(low=0,high=2, size=(2000,3000)).float()\n",
    "    # CrysX-NN input\n",
    "    predictions_crysx_nn = predictions_torch.cpu().detach().numpy()\n",
    "    targets_crysx_nn = targets_torch.cpu().detach().numpy()\n",
    "    # Tensorflow input\n",
    "    predictions_tf = tf.convert_to_tensor(predictions_crysx_nn, dtype=tf.float32)\n",
    "    targets_tf = tf.convert_to_tensor(targets_crysx_nn, dtype=tf.float32)\n",
    "    \n",
    "    ##--Timings--\n",
    "    # Torch\n",
    "    cce_loss_func = torch.nn.CrossEntropyLoss()\n",
    "    cce_torch_value = cce_loss_func(predictions_torch_, targets_torch)\n",
    "    time = %timeit -n 100 -o cce_loss_func(predictions_torch_, target_indices)\n",
    "    # For time of each run\n",
    "    time_torch.append(np.mean(time.timings)) \n",
    "    # For total time\n",
    "#     time_torch.append(np.mean(time.all_runs)) \n",
    "    # CrysX\n",
    "    cce_crysx_nn_value = CCE_loss(predictions_crysx_nn, targets_crysx_nn)/predictions_crysx_nn.shape[0]\n",
    "    time = %timeit -n 100 -o CCE_loss(predictions_crysx_nn, targets_crysx_nn)/predictions_crysx_nn.shape[0]\n",
    "    # For time of each run\n",
    "    time_crysx_nn.append(np.mean(time.timings))\n",
    "    # Tensorflow\n",
    "    cce_tf_func = tf.keras.losses.CategoricalCrossentropy()\n",
    "    cce_tf_value = cce_tf_func(targets_tf, predictions_tf)\n",
    "    time = %timeit -n 100 -o cce_tf_func(targets_tf, predictions_tf)\n",
    "    # For time of each run\n",
    "    time_tf.append(np.mean(time.timings))\n",
    "    print('Size:', predictions_crysx_nn.shape)\n",
    "    #Diff b/w tf and torch\n",
    "    print('Max abs diff b/w torch and tf', abs(cce_torch_value.cpu().detach().numpy() - cce_tf_value.numpy()).max())\n",
    "    #Diff b/w crysx_nn and torch\n",
    "    print('Max abs diff b/w torch and CrysX', abs(cce_torch_value.cpu().detach().numpy() - cce_crysx_nn_value).max())"
   ]
  },
  {
   "cell_type": "markdown",
   "id": "305d3c1e",
   "metadata": {},
   "source": [
    "### Plot the results"
   ]
  },
  {
   "cell_type": "code",
   "execution_count": 26,
   "id": "e63806ac",
   "metadata": {
    "scrolled": true
   },
   "outputs": [
    {
     "data": {
      "image/png": "[encoded data removed]",
      "text/plain": [
       "<Figure size 432x288 with 1 Axes>"
      ]
     },
     "metadata": {
      "needs_background": "light"
     },
     "output_type": "display_data"
    }
   ],
   "source": [
    "\n",
    "plt.plot(sizes,time_torch, label='PyTorch')\n",
    "plt.plot(sizes,time_crysx_nn, label='CrysX-NN')\n",
    "plt.plot(sizes,time_tf, label='Tensorflow')\n",
    "plt.legend()\n",
    "plt.xlabel('Array sizes')\n",
    "plt.ylabel('Average Time (seconds)')\n",
    "plt.title('Benchmark CCE_loss (CPU)')\n",
    "plt.show()\n",
    "plt.subplots_adjust(left=0.15)\n",
    "# plt.savefig(\"CCE_loss_CPU.png\", transparent=True)\n",
    "# files.download(\"CCE_loss_CPU.png\")"
   ]
  },
  {
   "cell_type": "markdown",
   "id": "33b502eb",
   "metadata": {},
   "source": [
    "### Validate gradients"
   ]
  },
  {
   "cell_type": "code",
   "execution_count": null,
   "id": "ee394221",
   "metadata": {},
   "outputs": [],
   "source": []
  }
 ],
 "metadata": {
  "kernelspec": {
   "display_name": "Python 3 (ipykernel)",
   "language": "python",
   "name": "python3"
  },
  "language_info": {
   "codemirror_mode": {
    "name": "ipython",
    "version": 3
   },
   "file_extension": ".py",
   "mimetype": "text/x-python",
   "name": "python",
   "nbconvert_exporter": "python",
   "pygments_lexer": "ipython3",
   "version": "3.7.11"
  }
 },
 "nbformat": 4,
 "nbformat_minor": 5
}
