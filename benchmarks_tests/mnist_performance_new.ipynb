{
 "cells": [
  {
   "cell_type": "markdown",
   "id": "60467f66",
   "metadata": {},
   "source": [
    "# Validation/Verification & Performance comparison for LOGIC gates with multiple hidden layers and multiple neurons"
   ]
  },
  {
   "cell_type": "markdown",
   "id": "15d0b1da",
   "metadata": {},
   "source": [
    "## Set ncores for my Implementation (needs to be before importing numpy)"
   ]
  },
  {
   "cell_type": "code",
   "execution_count": null,
   "id": "02d848bc",
   "metadata": {},
   "outputs": [],
   "source": [
    "nThreads = 8"
   ]
  },
  {
   "cell_type": "markdown",
   "id": "50a1ec12",
   "metadata": {},
   "source": [
    "### For Numpy MKL"
   ]
  },
  {
   "cell_type": "code",
   "execution_count": null,
   "id": "b023d3f8",
   "metadata": {},
   "outputs": [],
   "source": [
    "! export OMP_NUM_THREADS=8 MKL_NUM_THREADS=8 NUMEXPR_NUM_THREADS=8\n",
    "! export TF_NUM_INTEROP_THREADS=8"
   ]
  },
  {
   "cell_type": "markdown",
   "id": "af2979b2",
   "metadata": {},
   "source": [
    "## Import stuff"
   ]
  },
  {
   "cell_type": "code",
   "execution_count": 43,
   "id": "7467675a",
   "metadata": {},
   "outputs": [],
   "source": [
    "import numpy as np\n",
    "# print(np.__version__)\n",
    "from autograd import numpy as anp\n",
    "from autograd import grad, elementwise_grad, jacobian\n",
    "from IPython import display\n",
    "import time\n",
    "\n",
    "import numexpr as ne\n",
    "from opt_einsum import contract, contract_expression\n",
    "from numba import vectorize,jit,njit,prange,set_num_threads,get_num_threads \n",
    "from nnv import NNV\n",
    "import matplotlib.pyplot as plt\n",
    "from operator import add\n",
    "# from numpy.core.umath_tests import inner1d\n",
    "\n",
    "\n",
    "from crysx_nn.network import visualize\n",
    "from crysx_nn.network import back_propagation, back_propagation_fast\n",
    "from crysx_nn.network import nn_optimize, nn_optimize_fast\n",
    "from crysx_nn.network import forward_feed\n",
    "from crysx_nn.network import errorFunc\n",
    "from crysx_nn.network import errorFuncGrad\n",
    "from crysx_nn.network import Softmax\n",
    "from crysx_nn.network import binary_cross_entropy, binary_cross_entropy_grad\n",
    "from crysx_nn.network import cross_entropy, cross_entropy_grad\n",
    "\n",
    "# Import loss functions\n",
    "from crysx_nn.loss import MSE_loss, MSE_loss_grad\n",
    "from crysx_nn.loss import BCE_loss, BCE_loss_grad\n",
    "# Import activation functions\n",
    "from crysx_nn.activation import Sigmoid, Sigmoid_grad\n",
    "from crysx_nn.activation import Softmax, Softmax_grad\n",
    "from crysx_nn.activation import Tanh_offset, Tanh_offset\n",
    "# Import neural network functions\n",
    "from crysx_nn.network import back_propagation, back_propagation_fast\n",
    "from crysx_nn.network import nn_optimize, nn_optimize_fast\n",
    "from crysx_nn.network import forward_feed\n",
    "\n",
    "\n",
    "from tqdm.notebook import tqdm\n",
    "\n",
    "\n",
    "# import numpy as np\n",
    "import tensorflow as tf\n",
    "from tensorflow.keras.models import Sequential\n",
    "from tensorflow.keras.layers import Dense\n",
    "from tensorflow.keras import optimizers\n",
    "from tensorflow.keras import backend as K\n",
    "from tensorflow.python.eager import context\n",
    "\n",
    "\n",
    "import torch, torchvision\n",
    "rng = np.random.default_rng()\n",
    "import time\n",
    "from timeit import default_timer as timer"
   ]
  },
  {
   "cell_type": "markdown",
   "id": "963eea51",
   "metadata": {},
   "source": [
    "## Set nthreads for my PyTorch and tensorflow"
   ]
  },
  {
   "cell_type": "markdown",
   "id": "affa973c",
   "metadata": {},
   "source": [
    "### For tensorflow"
   ]
  },
  {
   "cell_type": "code",
   "execution_count": null,
   "id": "ce134f25",
   "metadata": {},
   "outputs": [],
   "source": [
    "_ = tf.Variable([1])\n",
    "\n",
    "context._context = None\n",
    "context._create_context()\n",
    "\n",
    "tf.config.threading.set_intra_op_parallelism_threads(nThreads)\n",
    "tf.config.threading.set_inter_op_parallelism_threads(nThreads)\n",
    "print(tf.config.threading.get_inter_op_parallelism_threads())\n",
    "print(tf.config.threading.get_intra_op_parallelism_threads())"
   ]
  },
  {
   "cell_type": "markdown",
   "id": "179d28c4",
   "metadata": {},
   "source": [
    "### For PyTorch"
   ]
  },
  {
   "cell_type": "code",
   "execution_count": null,
   "id": "9928788b",
   "metadata": {},
   "outputs": [],
   "source": [
    "torch.set_num_threads(nThreads)\n",
    "print(torch.get_num_threads())"
   ]
  },
  {
   "cell_type": "markdown",
   "id": "60cdd452",
   "metadata": {},
   "source": [
    "## Check if NumPy is linked with MKL or not"
   ]
  },
  {
   "cell_type": "code",
   "execution_count": null,
   "id": "44968ef4",
   "metadata": {},
   "outputs": [],
   "source": [
    "np.show_config()"
   ]
  },
  {
   "cell_type": "markdown",
   "id": "28e592fc",
   "metadata": {},
   "source": [
    "## Start with the common stuff"
   ]
  },
  {
   "cell_type": "code",
   "execution_count": 44,
   "id": "4970ffa4",
   "metadata": {},
   "outputs": [],
   "source": [
    "nInputs = 784\n",
    "nSamples = nBatch = 32\n",
    "nOutputs = 1\n",
    "neurons_per_layer = [100,100,10]#[500,500,500,500,1]#[ 100,4,1] #[100,100,100,100,100,100,1]#[100,100,100,100,1]\n",
    "activation_func_names = ['Sigmoid','Sigmoid', 'Softmax']#['sigmoid', 'sigmoid', 'sigmoid']#['sigmoid', 'sigmoid','sigmoid', 'sigmoid', 'sigmoid', 'sigmoid', 'sigmoid']#['sigmoid', 'sigmoid', 'sigmoid', 'sigmoid', 'sigmoid']\n",
    "nLayers = len(neurons_per_layer)\n",
    "eeta = 0.5\n",
    "nEpochs=10\n",
    "nBatches = 0\n",
    "batchSize = 200#nSamples\n",
    "totSamples = 0"
   ]
  },
  {
   "cell_type": "markdown",
   "id": "48898d38",
   "metadata": {},
   "source": [
    "#### Activation function dictionary for all the frameworks"
   ]
  },
  {
   "cell_type": "code",
   "execution_count": 45,
   "id": "f66edd76",
   "metadata": {},
   "outputs": [],
   "source": [
    "# act_func_dict = {'Sigmoid':Sigmoid,'ReLU':ReLU,'ELU':ELU, 'Hardshrink' : Hardshrink,'Hardsigmoid':Hardsigmoid,\\\n",
    "#                  'Hardtanh':Hardtanh,'Hardswish':Hardswish,'LeakyReLU':LeakyReLU,'LogSigmoid':LogSigmoid,\\\n",
    "#                  'Tanh':Tanh,'Softmax':Softmax,'Softmin':Softmin,'LogSoftmax':LogSoftmax,'Mish':Mish,\\\n",
    "#                  'Swish':Swish,'Exponential':Exponential}\n",
    "\n",
    "act_func_dict_PyTorch = {'Sigmoid':torch.nn.Sigmoid(),'ReLU':torch.nn.ReLU(),'ELU':torch.nn.ELU(), 'Hardshrink' : torch.nn.Hardshrink(),'Hardsigmoid':torch.nn.Hardsigmoid(),\\\n",
    "                 'Hardtanh':torch.nn.Hardtanh(),'Hardswish':torch.nn.Hardswish(),'LeakyReLU':torch.nn.LeakyReLU(),'LogSigmoid':torch.nn.LogSigmoid(),\\\n",
    "                 'Tanh':torch.nn.Tanh(),'Softmax':torch.nn.Softmax(dim=1),'Softmin':torch.nn.Softmin(dim=1),'LogSoftmax':torch.nn.LogSoftmax()}\n",
    "act_func_dict_tensorflow = {'Sigmoid':'sigmoid','Softmax':'softmax','ReLU':'relu','LeakyReLU':'leakyrelu'}\n",
    "# act_func_dict_tensorflow = {'Sigmoid':sigmoid,'ReLU':ReLU,'ELU':ELU, 'Hardshrink' : Hardshrink,'Hardsigmoid':Hardsigmoid,\\\n",
    "#                  'Hardtanh':Hardtanh,'Hardswish':Hardswish,'LeakyReLU':LeakyReLU,'LogSigmoid':LogSigmoid,\\\n",
    "#                  'Tanh':Tanh,'Softmax':Softmax,'Softmin':Softmin,'LogSoftmax':LogSoftmax,'Mish':Mish,\\\n",
    "#                  'Swish':Swish,'Exponential':exponential}\n",
    "\n"
   ]
  },
  {
   "cell_type": "markdown",
   "id": "d1b6c7c0",
   "metadata": {},
   "source": [
    "## Visualize "
   ]
  },
  {
   "cell_type": "code",
   "execution_count": 46,
   "id": "8bd57d24",
   "metadata": {},
   "outputs": [
    {
     "data": {
      "image/png": "[encoded data removed]",
      "text/plain": [
       "<Figure size 1008x720 with 1 Axes>"
      ]
     },
     "metadata": {
      "needs_background": "light"
     },
     "output_type": "display_data"
    }
   ],
   "source": [
    "visualize(nInputs, neurons_per_layer, activation_func_names)"
   ]
  },
  {
   "cell_type": "markdown",
   "id": "5fe76494",
   "metadata": {},
   "source": [
    "## Set inputs\n",
    "\n",
    "Use torchvision to get the dataset, as well as form the input and output matrices for the learning."
   ]
  },
  {
   "cell_type": "code",
   "execution_count": 47,
   "id": "33494da5",
   "metadata": {},
   "outputs": [],
   "source": [
    "fname = 'MNIST'\n",
    "\n",
    "### Download and initialize datasets\n",
    "TrainDS_orig = torchvision.datasets.MNIST(fname, train=True, download=True)\n",
    "TestDS_orig = torchvision.datasets.MNIST(fname, train=False)"
   ]
  },
  {
   "cell_type": "markdown",
   "id": "c0f95855",
   "metadata": {},
   "source": [
    "Plot few examples of the data"
   ]
  },
  {
   "cell_type": "code",
   "execution_count": 48,
   "id": "3cce8fc7",
   "metadata": {},
   "outputs": [
    {
     "data": {
      "image/png": "[encoded data removed]",
      "text/plain": [
       "<Figure size 1080x432 with 12 Axes>"
      ]
     },
     "metadata": {
      "needs_background": "light"
     },
     "output_type": "display_data"
    }
   ],
   "source": [
    "### Plot examples\n",
    "fig, axes = plt.subplots(nrows=2, ncols=6, figsize=(15., 6.))\n",
    "for axes_row in axes:\n",
    "    for ax in axes_row:\n",
    "        test_index = rng.integers(0, len(TestDS_orig))\n",
    "        image, orig_label = TestDS_orig[test_index]\n",
    "        ax.set_axis_off()\n",
    "        ax.imshow(image)\n",
    "        ax.set_title('True: %i' % orig_label)"
   ]
  },
  {
   "cell_type": "markdown",
   "id": "8453c62c",
   "metadata": {},
   "source": [
    "Currently the dataset is such that each element of `TrainDS_orig` returns an image and the output label(the digit)"
   ]
  },
  {
   "cell_type": "code",
   "execution_count": 49,
   "id": "5dc37968",
   "metadata": {},
   "outputs": [
    {
     "name": "stdout",
     "output_type": "stream",
     "text": [
      "<PIL.Image.Image image mode=L size=28x28 at 0x165C7AD50>\n",
      "5\n"
     ]
    },
    {
     "data": {
      "text/plain": [
       "<matplotlib.image.AxesImage at 0x165cc16d0>"
      ]
     },
     "execution_count": 49,
     "metadata": {},
     "output_type": "execute_result"
    },
    {
     "data": {
      "image/png": "[encoded data removed]",
      "text/plain": [
       "<Figure size 648x432 with 1 Axes>"
      ]
     },
     "metadata": {
      "needs_background": "light"
     },
     "output_type": "display_data"
    }
   ],
   "source": [
    "image, orig_label = TrainDS_orig[0]\n",
    "print(image)\n",
    "print(orig_label)\n",
    "plt.imshow(image)"
   ]
  },
  {
   "cell_type": "markdown",
   "id": "987dd461",
   "metadata": {},
   "source": [
    "We can convert each image in the data to a 28x28 2d-array or a 784x1 1d-array manually as follows"
   ]
  },
  {
   "cell_type": "code",
   "execution_count": 50,
   "id": "fc1deea5",
   "metadata": {},
   "outputs": [
    {
     "name": "stdout",
     "output_type": "stream",
     "text": [
      "(784,)\n",
      "[[0.         0.         0.         0.         0.         0.\n",
      "  0.         0.         0.         0.         0.         0.\n",
      "  0.         0.         0.         0.         0.         0.\n",
      "  0.         0.         0.         0.         0.         0.\n",
      "  0.         0.         0.         0.        ]\n",
      " [0.         0.         0.         0.         0.         0.\n",
      "  0.         0.         0.         0.         0.         0.\n",
      "  0.         0.         0.         0.         0.         0.\n",
      "  0.         0.         0.         0.         0.         0.\n",
      "  0.         0.         0.         0.        ]\n",
      " [0.         0.         0.         0.         0.         0.\n",
      "  0.         0.         0.         0.         0.         0.\n",
      "  0.         0.         0.         0.         0.         0.\n",
      "  0.         0.         0.         0.         0.         0.\n",
      "  0.         0.         0.         0.        ]\n",
      " [0.         0.         0.         0.         0.         0.\n",
      "  0.         0.         0.         0.         0.         0.\n",
      "  0.         0.         0.         0.         0.         0.\n",
      "  0.         0.         0.         0.         0.         0.\n",
      "  0.         0.         0.         0.        ]\n",
      " [0.         0.         0.         0.         0.         0.\n",
      "  0.         0.         0.         0.         0.         0.\n",
      "  0.         0.         0.         0.         0.         0.\n",
      "  0.         0.         0.         0.         0.         0.\n",
      "  0.         0.         0.         0.        ]\n",
      " [0.         0.         0.         0.         0.         0.\n",
      "  0.         0.         0.         0.         0.         0.\n",
      "  0.01176471 0.07058824 0.07058824 0.07058824 0.49411765 0.53333333\n",
      "  0.68627451 0.10196078 0.65098039 1.         0.96862745 0.49803922\n",
      "  0.         0.         0.         0.        ]\n",
      " [0.         0.         0.         0.         0.         0.\n",
      "  0.         0.         0.11764706 0.14117647 0.36862745 0.60392157\n",
      "  0.66666667 0.99215686 0.99215686 0.99215686 0.99215686 0.99215686\n",
      "  0.88235294 0.6745098  0.99215686 0.94901961 0.76470588 0.25098039\n",
      "  0.         0.         0.         0.        ]\n",
      " [0.         0.         0.         0.         0.         0.\n",
      "  0.         0.19215686 0.93333333 0.99215686 0.99215686 0.99215686\n",
      "  0.99215686 0.99215686 0.99215686 0.99215686 0.99215686 0.98431373\n",
      "  0.36470588 0.32156863 0.32156863 0.21960784 0.15294118 0.\n",
      "  0.         0.         0.         0.        ]\n",
      " [0.         0.         0.         0.         0.         0.\n",
      "  0.         0.07058824 0.85882353 0.99215686 0.99215686 0.99215686\n",
      "  0.99215686 0.99215686 0.77647059 0.71372549 0.96862745 0.94509804\n",
      "  0.         0.         0.         0.         0.         0.\n",
      "  0.         0.         0.         0.        ]\n",
      " [0.         0.         0.         0.         0.         0.\n",
      "  0.         0.         0.31372549 0.61176471 0.41960784 0.99215686\n",
      "  0.99215686 0.80392157 0.04313725 0.         0.16862745 0.60392157\n",
      "  0.         0.         0.         0.         0.         0.\n",
      "  0.         0.         0.         0.        ]\n",
      " [0.         0.         0.         0.         0.         0.\n",
      "  0.         0.         0.         0.05490196 0.00392157 0.60392157\n",
      "  0.99215686 0.35294118 0.         0.         0.         0.\n",
      "  0.         0.         0.         0.         0.         0.\n",
      "  0.         0.         0.         0.        ]\n",
      " [0.         0.         0.         0.         0.         0.\n",
      "  0.         0.         0.         0.         0.         0.54509804\n",
      "  0.99215686 0.74509804 0.00784314 0.         0.         0.\n",
      "  0.         0.         0.         0.         0.         0.\n",
      "  0.         0.         0.         0.        ]\n",
      " [0.         0.         0.         0.         0.         0.\n",
      "  0.         0.         0.         0.         0.         0.04313725\n",
      "  0.74509804 0.99215686 0.2745098  0.         0.         0.\n",
      "  0.         0.         0.         0.         0.         0.\n",
      "  0.         0.         0.         0.        ]\n",
      " [0.         0.         0.         0.         0.         0.\n",
      "  0.         0.         0.         0.         0.         0.\n",
      "  0.1372549  0.94509804 0.88235294 0.62745098 0.42352941 0.00392157\n",
      "  0.         0.         0.         0.         0.         0.\n",
      "  0.         0.         0.         0.        ]\n",
      " [0.         0.         0.         0.         0.         0.\n",
      "  0.         0.         0.         0.         0.         0.\n",
      "  0.         0.31764706 0.94117647 0.99215686 0.99215686 0.46666667\n",
      "  0.09803922 0.         0.         0.         0.         0.\n",
      "  0.         0.         0.         0.        ]\n",
      " [0.         0.         0.         0.         0.         0.\n",
      "  0.         0.         0.         0.         0.         0.\n",
      "  0.         0.         0.17647059 0.72941176 0.99215686 0.99215686\n",
      "  0.58823529 0.10588235 0.         0.         0.         0.\n",
      "  0.         0.         0.         0.        ]\n",
      " [0.         0.         0.         0.         0.         0.\n",
      "  0.         0.         0.         0.         0.         0.\n",
      "  0.         0.         0.         0.0627451  0.36470588 0.98823529\n",
      "  0.99215686 0.73333333 0.         0.         0.         0.\n",
      "  0.         0.         0.         0.        ]\n",
      " [0.         0.         0.         0.         0.         0.\n",
      "  0.         0.         0.         0.         0.         0.\n",
      "  0.         0.         0.         0.         0.         0.97647059\n",
      "  0.99215686 0.97647059 0.25098039 0.         0.         0.\n",
      "  0.         0.         0.         0.        ]\n",
      " [0.         0.         0.         0.         0.         0.\n",
      "  0.         0.         0.         0.         0.         0.\n",
      "  0.         0.         0.18039216 0.50980392 0.71764706 0.99215686\n",
      "  0.99215686 0.81176471 0.00784314 0.         0.         0.\n",
      "  0.         0.         0.         0.        ]\n",
      " [0.         0.         0.         0.         0.         0.\n",
      "  0.         0.         0.         0.         0.         0.\n",
      "  0.15294118 0.58039216 0.89803922 0.99215686 0.99215686 0.99215686\n",
      "  0.98039216 0.71372549 0.         0.         0.         0.\n",
      "  0.         0.         0.         0.        ]\n",
      " [0.         0.         0.         0.         0.         0.\n",
      "  0.         0.         0.         0.         0.09411765 0.44705882\n",
      "  0.86666667 0.99215686 0.99215686 0.99215686 0.99215686 0.78823529\n",
      "  0.30588235 0.         0.         0.         0.         0.\n",
      "  0.         0.         0.         0.        ]\n",
      " [0.         0.         0.         0.         0.         0.\n",
      "  0.         0.         0.09019608 0.25882353 0.83529412 0.99215686\n",
      "  0.99215686 0.99215686 0.99215686 0.77647059 0.31764706 0.00784314\n",
      "  0.         0.         0.         0.         0.         0.\n",
      "  0.         0.         0.         0.        ]\n",
      " [0.         0.         0.         0.         0.         0.\n",
      "  0.07058824 0.67058824 0.85882353 0.99215686 0.99215686 0.99215686\n",
      "  0.99215686 0.76470588 0.31372549 0.03529412 0.         0.\n",
      "  0.         0.         0.         0.         0.         0.\n",
      "  0.         0.         0.         0.        ]\n",
      " [0.         0.         0.         0.         0.21568627 0.6745098\n",
      "  0.88627451 0.99215686 0.99215686 0.99215686 0.99215686 0.95686275\n",
      "  0.52156863 0.04313725 0.         0.         0.         0.\n",
      "  0.         0.         0.         0.         0.         0.\n",
      "  0.         0.         0.         0.        ]\n",
      " [0.         0.         0.         0.         0.53333333 0.99215686\n",
      "  0.99215686 0.99215686 0.83137255 0.52941176 0.51764706 0.0627451\n",
      "  0.         0.         0.         0.         0.         0.\n",
      "  0.         0.         0.         0.         0.         0.\n",
      "  0.         0.         0.         0.        ]\n",
      " [0.         0.         0.         0.         0.         0.\n",
      "  0.         0.         0.         0.         0.         0.\n",
      "  0.         0.         0.         0.         0.         0.\n",
      "  0.         0.         0.         0.         0.         0.\n",
      "  0.         0.         0.         0.        ]\n",
      " [0.         0.         0.         0.         0.         0.\n",
      "  0.         0.         0.         0.         0.         0.\n",
      "  0.         0.         0.         0.         0.         0.\n",
      "  0.         0.         0.         0.         0.         0.\n",
      "  0.         0.         0.         0.        ]\n",
      " [0.         0.         0.         0.         0.         0.\n",
      "  0.         0.         0.         0.         0.         0.\n",
      "  0.         0.         0.         0.         0.         0.\n",
      "  0.         0.         0.         0.         0.         0.\n",
      "  0.         0.         0.         0.        ]]\n",
      "(28, 28)\n"
     ]
    }
   ],
   "source": [
    "imgData = np.array(image.getdata()) # Get data values\n",
    "imgData = imgData/imgData.max() # Renormalize\n",
    "print(imgData.shape)\n",
    "imgData = np.reshape(imgData, [28,28]) # Reshape\n",
    "print(imgData)\n",
    "print(imgData.shape)"
   ]
  },
  {
   "cell_type": "markdown",
   "id": "6917d022",
   "metadata": {},
   "source": [
    "But alternatively, we can just use PyTorch to do it, because we would want to have the same order of batches and everything to keep the benchmark consistent and comparable.\n",
    "\n",
    "Also, instead of the output label being just a digit, it would be better if it is a 10x1 array with each element giving the probability of the classification being a digit in 0-9."
   ]
  },
  {
   "cell_type": "code",
   "execution_count": 51,
   "id": "80474157",
   "metadata": {},
   "outputs": [],
   "source": [
    "### Define the label transform from an integer to a set of probabilities\n",
    "def target_transform(inlabel):\n",
    "    newlabel = torch.zeros(10)\n",
    "    newlabel[inlabel] = 1.\n",
    "    return newlabel\n",
    "\n",
    "### Reinitialize datasets with the transforms\n",
    "TrainDS = torchvision.datasets.MNIST(fname, train=True, download=True,\n",
    "            target_transform=target_transform, transform=torchvision.transforms.ToTensor())\n",
    "TestDS = torchvision.datasets.MNIST(fname, train=False,\n",
    "            target_transform=target_transform, transform=torchvision.transforms.ToTensor())\n",
    "\n",
    "### Initialize DataLoaders as PyTorch convenience\n",
    "TrainDL = torch.utils.data.DataLoader(TrainDS, shuffle=True, batch_size=batchSize)\n",
    "TestDL = torch.utils.data.DataLoader(TestDS, batch_size=1000)"
   ]
  },
  {
   "cell_type": "markdown",
   "id": "f1f74148",
   "metadata": {},
   "source": [
    "The `TrainDL` dataloader object holds everything we need (as tensors). We would now use it to get the input data and the output data as numpy 2d arrays for our implementation as well as for tf.eras"
   ]
  },
  {
   "cell_type": "code",
   "execution_count": 52,
   "id": "c4dfad81",
   "metadata": {},
   "outputs": [
    {
     "name": "stdout",
     "output_type": "stream",
     "text": [
      "Total no. of batches:  300\n",
      "Total no. of training samples:  60000\n"
     ]
    }
   ],
   "source": [
    "totSamples = 0\n",
    "for inp, labels in TrainDL:\n",
    "    totSamples = totSamples+1\n",
    "nBatches = totSamples\n",
    "print('Total no. of batches: ', totSamples)\n",
    "\n",
    "totSamples = totSamples*batchSize\n",
    "print('Total no. of training samples: ', totSamples)"
   ]
  },
  {
   "cell_type": "markdown",
   "id": "1adf3fd7",
   "metadata": {},
   "source": [
    "## Actually create inputs and outputs\n",
    "\n",
    "Create total inputs matrix and the total outputs matrix, which hold all the training data "
   ]
  },
  {
   "cell_type": "code",
   "execution_count": 53,
   "id": "12176fa7",
   "metadata": {},
   "outputs": [],
   "source": [
    "inputs = np.zeros((totSamples,784))\n",
    "outputs = np.zeros((totSamples, 10))\n",
    "\n",
    "i = 0\n",
    "for inp, labels in TrainDL:\n",
    "    offset = i*batchSize\n",
    "    inputs[offset:offset + batchSize,:] = np.reshape(inp, (batchSize,784))\n",
    "    outputs[offset:offset + batchSize,:] = labels"
   ]
  },
  {
   "cell_type": "markdown",
   "id": "18342f93",
   "metadata": {},
   "source": [
    "## Set float32 precision"
   ]
  },
  {
   "cell_type": "code",
   "execution_count": 54,
   "id": "87f07cce",
   "metadata": {},
   "outputs": [
    {
     "name": "stdout",
     "output_type": "stream",
     "text": [
      "float32\n",
      "float32\n"
     ]
    }
   ],
   "source": [
    "inputs = inputs.astype('float32')\n",
    "outputs = outputs.astype('float32')\n",
    "print(inputs.dtype)\n",
    "print(outputs.dtype)"
   ]
  },
  {
   "cell_type": "markdown",
   "id": "08bfe0f2",
   "metadata": {},
   "source": [
    "# Keras implementation\n",
    "\n",
    "In the following we have to be careful and change the network nodes, and layers manually. \n",
    "\n",
    "TODO: Make the neural network be generated in a loop automatically using the parameters already defined."
   ]
  },
  {
   "cell_type": "code",
   "execution_count": 55,
   "id": "25a7144a",
   "metadata": {},
   "outputs": [],
   "source": [
    "# # define the keras model\n",
    "# model = Sequential()\n",
    "# model.add(Dense(100, input_dim=2, activation='sigmoid', use_bias=True))\n",
    "# model.add(Dense(100, activation='sigmoid', use_bias=True))\n",
    "# model.add(Dense(100, activation='sigmoid', use_bias=True))\n",
    "# model.add(Dense(100, activation='sigmoid', use_bias=True))\n",
    "# model.add(Dense(1, activation='sigmoid', use_bias=True))\n",
    "\n",
    "# model.summary()"
   ]
  },
  {
   "cell_type": "markdown",
   "id": "078e33fe",
   "metadata": {},
   "source": [
    "## Make the neural network programatically"
   ]
  },
  {
   "cell_type": "code",
   "execution_count": 56,
   "id": "610ef74f",
   "metadata": {},
   "outputs": [
    {
     "name": "stdout",
     "output_type": "stream",
     "text": [
      "Model: \"sequential_1\"\n",
      "_________________________________________________________________\n",
      "Layer (type)                 Output Shape              Param #   \n",
      "=================================================================\n",
      "dense_3 (Dense)              (None, 100)               78500     \n",
      "_________________________________________________________________\n",
      "dense_4 (Dense)              (None, 100)               10100     \n",
      "_________________________________________________________________\n",
      "dense_5 (Dense)              (None, 10)                1010      \n",
      "=================================================================\n",
      "Total params: 89,610\n",
      "Trainable params: 89,610\n",
      "Non-trainable params: 0\n",
      "_________________________________________________________________\n"
     ]
    }
   ],
   "source": [
    "# define the keras model\n",
    "model = Sequential()\n",
    "# First Hidden layer\n",
    "model.add(Dense(neurons_per_layer[0], input_dim=nInputs, activation=act_func_dict_tensorflow[activation_func_names[0]], use_bias=True))\n",
    "\n",
    "if nLayers>1:\n",
    "    # Hidden layers\n",
    "    for i in range(nLayers-2):\n",
    "        model.add(Dense(neurons_per_layer[i], activation=act_func_dict_tensorflow[activation_func_names[i]], use_bias=True))\n",
    "    # Output layer\n",
    "    model.add(Dense(neurons_per_layer[nLayers-1], activation=act_func_dict_tensorflow[activation_func_names[nLayers-1]], use_bias=True))\n",
    "    \n",
    "model.summary()\n",
    "    "
   ]
  },
  {
   "cell_type": "markdown",
   "id": "4df4a6ae",
   "metadata": {},
   "source": [
    "## Check the initial weights and biases for each layer\n",
    "\n",
    "Note how the weights matrix is not 4x2 but rather 2x4"
   ]
  },
  {
   "cell_type": "code",
   "execution_count": 57,
   "id": "8f5fafa5",
   "metadata": {},
   "outputs": [
    {
     "name": "stdout",
     "output_type": "stream",
     "text": [
      "\n",
      " Weights for layer  1\n",
      "[[ 0.02373199  0.01219483 -0.04453482 ...  0.04521132  0.03843577\n",
      "   0.04478885]\n",
      " [ 0.06501773 -0.03852237  0.04081501 ...  0.02471351 -0.01651178\n",
      "   0.06722353]\n",
      " [ 0.00963667 -0.02522662  0.06168392 ...  0.08199292  0.0672223\n",
      "   0.05125107]\n",
      " ...\n",
      " [ 0.07136649  0.00839791 -0.07521024 ...  0.01401173 -0.04010017\n",
      "  -0.0422526 ]\n",
      " [ 0.07366648  0.02882931 -0.07783584 ...  0.01705167 -0.05228949\n",
      "  -0.00634421]\n",
      " [ 0.06072327 -0.02697099 -0.04626021 ...  0.02460935 -0.05804866\n",
      "   0.02303252]]\n",
      "\n",
      " Biases for layer  1\n",
      "[0. 0. 0. 0. 0. 0. 0. 0. 0. 0. 0. 0. 0. 0. 0. 0. 0. 0. 0. 0. 0. 0. 0. 0.\n",
      " 0. 0. 0. 0. 0. 0. 0. 0. 0. 0. 0. 0. 0. 0. 0. 0. 0. 0. 0. 0. 0. 0. 0. 0.\n",
      " 0. 0. 0. 0. 0. 0. 0. 0. 0. 0. 0. 0. 0. 0. 0. 0. 0. 0. 0. 0. 0. 0. 0. 0.\n",
      " 0. 0. 0. 0. 0. 0. 0. 0. 0. 0. 0. 0. 0. 0. 0. 0. 0. 0. 0. 0. 0. 0. 0. 0.\n",
      " 0. 0. 0. 0.]\n",
      "\n",
      " Weights for layer  2\n",
      "[[-0.13236034  0.16266948  0.13431847 ... -0.01370731 -0.12683037\n",
      "  -0.05927103]\n",
      " [-0.03969631  0.05986288  0.02847014 ...  0.12832546  0.13328585\n",
      "  -0.06163655]\n",
      " [ 0.14031598 -0.14260533 -0.15956958 ... -0.0959399   0.03351982\n",
      "  -0.07693399]\n",
      " ...\n",
      " [ 0.04056644 -0.17086087 -0.0367202  ...  0.02274269 -0.05538522\n",
      "   0.07570958]\n",
      " [ 0.1555244   0.03715459  0.02116843 ... -0.06134786 -0.15599947\n",
      "  -0.1715391 ]\n",
      " [ 0.12560728 -0.10226717  0.0084427  ...  0.07655981 -0.04217973\n",
      "   0.05580223]]\n",
      "\n",
      " Biases for layer  2\n",
      "[0. 0. 0. 0. 0. 0. 0. 0. 0. 0. 0. 0. 0. 0. 0. 0. 0. 0. 0. 0. 0. 0. 0. 0.\n",
      " 0. 0. 0. 0. 0. 0. 0. 0. 0. 0. 0. 0. 0. 0. 0. 0. 0. 0. 0. 0. 0. 0. 0. 0.\n",
      " 0. 0. 0. 0. 0. 0. 0. 0. 0. 0. 0. 0. 0. 0. 0. 0. 0. 0. 0. 0. 0. 0. 0. 0.\n",
      " 0. 0. 0. 0. 0. 0. 0. 0. 0. 0. 0. 0. 0. 0. 0. 0. 0. 0. 0. 0. 0. 0. 0. 0.\n",
      " 0. 0. 0. 0.]\n",
      "\n",
      " Weights for layer  3\n",
      "[[ 0.19895509  0.13040054 -0.09114388 -0.17790213 -0.20900369  0.11719325\n",
      "   0.01947331 -0.05241312 -0.0202429  -0.17753318]\n",
      " [-0.05034024 -0.17485033 -0.14253984  0.06392059  0.14943656 -0.12684894\n",
      "   0.19228873  0.0515236   0.15839306 -0.19495207]\n",
      " [-0.11828668 -0.12960538 -0.21385159 -0.07928704  0.23237416 -0.12445375\n",
      "  -0.13463125  0.10669452 -0.14599133 -0.10364249]\n",
      " [-0.09381552  0.15262914 -0.20966041  0.0515061   0.15066144  0.17034164\n",
      "  -0.21831882 -0.06686425 -0.01983736 -0.19023125]\n",
      " [-0.12782778 -0.19979301 -0.02676378  0.02766356  0.13671127  0.17497367\n",
      "  -0.00979072 -0.01517785 -0.07469317  0.01193495]\n",
      " [-0.1185784  -0.04260881 -0.06753424  0.1690217   0.16696808  0.22957349\n",
      "   0.16590625 -0.14825216 -0.04095337  0.00718367]\n",
      " [-0.21241736  0.20215973  0.03469783  0.05065379  0.1049889  -0.10858555\n",
      "  -0.02907127  0.07641411  0.1023286  -0.00348645]\n",
      " [-0.18947046 -0.1816372  -0.1103714  -0.03566208  0.05067784 -0.15383138\n",
      "  -0.22948797  0.06547737 -0.02404836  0.1748206 ]\n",
      " [ 0.05257934  0.0706366  -0.0353673  -0.2303838   0.02910885  0.20341584\n",
      "  -0.17997825  0.16112    -0.10112888  0.01476012]\n",
      " [-0.227772    0.13546482  0.07693973  0.06181151 -0.11438378 -0.14597824\n",
      "  -0.05284077  0.14136562  0.21431944  0.00973928]\n",
      " [ 0.03644118  0.08650881  0.11174783 -0.133477    0.2240307   0.1887173\n",
      "   0.07024023  0.06083494 -0.17979038  0.2104348 ]\n",
      " [-0.02542984 -0.19859606 -0.13255094 -0.14591521  0.13460234  0.026301\n",
      "   0.01214409 -0.01306608 -0.0184468   0.14985976]\n",
      " [-0.1800425   0.1172286  -0.09965122 -0.18975133  0.16559935  0.22295439\n",
      "   0.11312023 -0.17093801 -0.2237609  -0.06376007]\n",
      " [-0.18955404 -0.03382806 -0.11979534 -0.07899588  0.02584484  0.18360686\n",
      "  -0.10186043  0.13904136  0.18588156 -0.04091874]\n",
      " [ 0.05549237 -0.10120365 -0.12534618  0.12131926 -0.10634115  0.1275639\n",
      "   0.2192592  -0.1692598  -0.10244353 -0.002214  ]\n",
      " [ 0.17344028  0.06255537 -0.1156534   0.179723    0.22440359  0.09690624\n",
      "   0.20092064 -0.11501332  0.15307817  0.20659259]\n",
      " [-0.05954511  0.21983513  0.20773166  0.10804024  0.08909029 -0.05177556\n",
      "   0.13646036  0.19269007 -0.15563917 -0.0642895 ]\n",
      " [ 0.14158961 -0.16330984  0.11343929  0.228863    0.04059738 -0.00964233\n",
      "  -0.06219755  0.09525731  0.1502544  -0.15811804]\n",
      " [-0.1887452   0.03738016  0.1563066  -0.21586612  0.08361241  0.03088674\n",
      "  -0.10059838 -0.21378103 -0.10966022 -0.02543658]\n",
      " [ 0.17201135 -0.13195848 -0.22513382 -0.07960433  0.15516648 -0.02106355\n",
      "   0.07744658 -0.21790934  0.19712627  0.20023373]\n",
      " [-0.01601353 -0.06521094  0.11181152  0.17970183  0.0262695   0.06105143\n",
      "   0.0996553   0.0024021   0.0091898  -0.03561513]\n",
      " [ 0.2203317  -0.22481793 -0.09753823  0.04207426 -0.17656602  0.06889418\n",
      "   0.22038671  0.04938138  0.02420345 -0.04303718]\n",
      " [-0.04880294 -0.1500399  -0.1870677   0.05081409 -0.00148617  0.18127376\n",
      "  -0.17446262  0.17157114 -0.13037297  0.16576838]\n",
      " [-0.08320938  0.09848022 -0.10690677 -0.21784592 -0.16618171  0.16270608\n",
      "   0.00478564 -0.06865095  0.2113291   0.16700336]\n",
      " [-0.18244638 -0.17639302 -0.17245458  0.02244911  0.05125454 -0.16706318\n",
      "   0.12232623  0.17041749  0.02932835 -0.11564627]\n",
      " [ 0.2158924  -0.13894002  0.15364528  0.04426998 -0.14279988  0.12857616\n",
      "   0.17548093  0.09342024  0.00369337  0.0820826 ]\n",
      " [ 0.0051948   0.16272739  0.08519691 -0.10930336 -0.07755314  0.02598584\n",
      "  -0.08620745  0.17744401  0.09148264 -0.15789375]\n",
      " [ 0.05779552  0.05070129 -0.09728812  0.07408288 -0.11397935 -0.12056387\n",
      "   0.1230894   0.13446876  0.08816692  0.07685822]\n",
      " [-0.15205038  0.20050699  0.08813283 -0.21386962 -0.17784488  0.15449744\n",
      "  -0.09879015 -0.10025889  0.16069704 -0.21764028]\n",
      " [-0.16961521  0.21176428  0.11857033 -0.06778342 -0.20124927  0.1151596\n",
      "  -0.11404968 -0.07712939 -0.06521182 -0.014319  ]\n",
      " [ 0.22244084 -0.0731574   0.07679793  0.03966376 -0.14446023  0.1555435\n",
      "   0.16100201 -0.00327374 -0.19390291 -0.20576753]\n",
      " [-0.00593871  0.02862749  0.00164025 -0.19842489 -0.06947872 -0.14703119\n",
      "  -0.03764594  0.04528502  0.138836   -0.17854704]\n",
      " [-0.00214517 -0.08354208  0.20435908  0.10275826 -0.2091386   0.21110621\n",
      "   0.22152358  0.07600886  0.14005917 -0.12708452]\n",
      " [-0.00624475  0.19254825 -0.06510819  0.08175296  0.08800754  0.12735131\n",
      "   0.16440755 -0.04932848  0.05253547 -0.08350271]\n",
      " [ 0.04070079 -0.05220893  0.22543651 -0.13590504 -0.14654276 -0.16751003\n",
      "   0.01644424  0.17716962  0.14250934  0.13985634]\n",
      " [ 0.05037725  0.05801508  0.19578665 -0.09665695  0.09277302  0.1260393\n",
      "   0.12285945  0.15146875 -0.05937028  0.03158054]\n",
      " [-0.2184155   0.12990603  0.11955139 -0.19446068  0.17426473 -0.1332796\n",
      "  -0.07897338 -0.08402051 -0.09386893 -0.05583437]\n",
      " [-0.04766001 -0.01171021  0.20196083 -0.10752474  0.14299467  0.18411458\n",
      "  -0.05436257  0.04477286 -0.2186934  -0.0579796 ]\n",
      " [-0.10008165  0.07733181 -0.03145677  0.22780117 -0.03610742 -0.08460517\n",
      "  -0.1877697   0.00664756 -0.22577044 -0.03166112]\n",
      " [-0.05596212 -0.01204671 -0.10079594  0.05617303  0.03623393 -0.02190235\n",
      "  -0.16390964 -0.05605949 -0.04889342  0.02089995]\n",
      " [-0.03562677  0.10503423 -0.05792052 -0.0757689  -0.05395548  0.03005818\n",
      "  -0.05045873 -0.0257729   0.06375477  0.08761954]\n",
      " [-0.08334045 -0.00874734  0.13111618  0.04773128 -0.0076156   0.06895426\n",
      "   0.13388956  0.12490934  0.21757206  0.12359095]\n",
      " [ 0.02615646 -0.06895058  0.03005323 -0.1728605  -0.04418635  0.22615856\n",
      "   0.22426438  0.09116381  0.02194449 -0.03753786]\n",
      " [ 0.05496672  0.10138959  0.15245247  0.1555137   0.1135388   0.02331296\n",
      "  -0.01004514  0.19625682  0.18929672 -0.06708026]\n",
      " [ 0.06296825  0.0764395  -0.16265957  0.19130889 -0.23053792 -0.11136299\n",
      "  -0.09984037 -0.14431551  0.10352978 -0.01974589]\n",
      " [-0.00441223 -0.06852973  0.2278336  -0.21682419  0.08327705 -0.12819728\n",
      "   0.0302622   0.20006642  0.08085585 -0.18617244]\n",
      " [ 0.12012666  0.04340208  0.20155764 -0.03374599 -0.19193274  0.15695184\n",
      "  -0.1736119   0.06916329 -0.18574536 -0.07091974]\n",
      " [-0.17432931 -0.1100402  -0.03614986 -0.21409702 -0.11188162  0.11662471\n",
      "  -0.14130302 -0.09113     0.04308853 -0.05289204]\n",
      " [-0.19146606 -0.06277332  0.10326406  0.10824287 -0.09911846  0.12563577\n",
      "  -0.10282809 -0.11139257  0.14308426 -0.16254336]\n",
      " [-0.22129712  0.21840164  0.2275961   0.16340256  0.22938189  0.14640933\n",
      "   0.0793533  -0.23238453  0.07067639  0.1491071 ]\n",
      " [ 0.16695455  0.07827741  0.03205574  0.04840633 -0.09396647  0.22956833\n",
      "  -0.15385443  0.06582156 -0.13237515 -0.06983119]\n",
      " [ 0.16234213  0.02636909  0.21569434  0.08164382 -0.18504325  0.21087757\n",
      "   0.09589955  0.22780019 -0.17819674  0.22693694]\n",
      " [-0.01058915  0.12545499  0.02920729 -0.06118324 -0.14976043  0.07999143\n",
      "   0.00859499 -0.15904438 -0.16082305  0.17275193]\n",
      " [ 0.14524174 -0.06718226 -0.08945189  0.07070529 -0.01118596  0.1739558\n",
      "   0.13368014 -0.22082175  0.13013381 -0.1569392 ]\n",
      " [-0.05753826 -0.02750207  0.08568358 -0.17186992  0.18483576 -0.03991857\n",
      "   0.05117607 -0.1528434  -0.02499229  0.01251021]\n",
      " [-0.10886118  0.19959712  0.06937364 -0.09299108 -0.08397034 -0.22662416\n",
      "  -0.07286829 -0.12860332  0.12981436  0.20593551]\n",
      " [-0.06132819 -0.23227957  0.0518249  -0.03442408  0.1204876  -0.13634855\n",
      "  -0.00023955 -0.00366692  0.23224458  0.17890626]\n",
      " [-0.13240433  0.155707   -0.02672759 -0.17293885 -0.05714859  0.15345234\n",
      "  -0.18186373  0.02883416  0.16081092  0.11245471]\n",
      " [ 0.02908704  0.12591898  0.04541406  0.15674269  0.04445073  0.03594276\n",
      "   0.15187162  0.02235082  0.16782954 -0.05300659]\n",
      " [ 0.18005341 -0.14546272 -0.14487746 -0.01987918 -0.19268668 -0.20260777\n",
      "   0.09031454  0.22133482 -0.01909305  0.21594152]\n",
      " [ 0.22204456 -0.16499513  0.09739241 -0.21797359  0.03818801 -0.22357793\n",
      "   0.08981824 -0.1058625   0.10523874  0.09553137]\n",
      " [ 0.09033462  0.04886475  0.1761474  -0.01298323  0.15243185  0.12527841\n",
      "  -0.21469595  0.17726299 -0.02865048  0.16481656]\n",
      " [-0.08999409  0.0445762   0.01820764  0.14788252  0.06732291  0.00997192\n",
      "   0.16272238  0.05685887 -0.16517587  0.04356444]\n",
      " [ 0.03716043 -0.13861266  0.07266715  0.22343338 -0.04549311  0.14207557\n",
      "  -0.15539512 -0.23171495  0.06072876  0.07673165]\n",
      " [-0.15644774  0.08823979  0.22928196 -0.02755953 -0.23277748  0.05674997\n",
      "   0.00457504 -0.19284226  0.1618604  -0.04047377]\n",
      " [ 0.23268294 -0.01432645 -0.08687229  0.02484757  0.13022429  0.18061632\n",
      "  -0.13373692  0.00754666  0.11927617  0.01969549]\n",
      " [-0.01321532  0.18529344  0.09170052 -0.13302982  0.14888215 -0.01136588\n",
      "   0.03150257  0.16208053  0.08401293 -0.06597206]\n",
      " [-0.22012043  0.19272634 -0.05115448 -0.02189389 -0.10265753  0.17793548\n",
      "  -0.0448198  -0.04785055  0.15718797 -0.0603431 ]\n",
      " [ 0.10241157 -0.227505   -0.14041744 -0.19547616  0.0311549   0.02840826\n",
      "   0.0415993   0.02578354 -0.04039988 -0.01644558]\n",
      " [ 0.17360264  0.05321395 -0.18061437  0.16081187  0.09030935 -0.08377884\n",
      "  -0.03244084 -0.04627858  0.12375805 -0.13582474]\n",
      " [-0.20297298  0.21057478  0.13565513  0.03766605  0.07360548  0.23257178\n",
      "  -0.03403386 -0.0750628   0.01561679 -0.0618864 ]\n",
      " [-0.02900334  0.22074369  0.20492706 -0.10605094  0.05125409 -0.02025293\n",
      "  -0.05917811 -0.12207193  0.09878454 -0.16140905]\n",
      " [-0.1401437   0.04994789  0.08159983  0.0652191   0.01731038 -0.16603994\n",
      "  -0.04846735  0.09042695 -0.15813944 -0.04099558]\n",
      " [-0.15400478  0.16188699 -0.11135331 -0.05212854  0.13410687  0.09684315\n",
      "   0.09305522  0.148915    0.2131213   0.12998426]\n",
      " [ 0.03521958 -0.11739648 -0.08888935  0.23102427  0.19446185 -0.1504696\n",
      "  -0.1407884   0.09036744 -0.18973863 -0.03458963]\n",
      " [ 0.20427456  0.03839326  0.0632475  -0.14068556  0.09495762  0.14195612\n",
      "  -0.00356574 -0.04495461  0.04168236 -0.10359979]\n",
      " [ 0.15521532  0.03281552  0.02904865  0.00713956  0.1471039   0.14122435\n",
      "  -0.19739972  0.12914595 -0.19765893  0.05799797]\n",
      " [ 0.13136563 -0.19287935 -0.0403623  -0.1635108   0.035478   -0.21752463\n",
      "  -0.17373373  0.16822267 -0.22989479  0.1432415 ]\n",
      " [ 0.01560989 -0.06470372 -0.10517661 -0.06360878 -0.08993918  0.01120228\n",
      "   0.01654753 -0.14467944  0.14551395  0.03831619]\n",
      " [ 0.11810771 -0.1959459  -0.05643691 -0.02169716 -0.0830979   0.17306063\n",
      "  -0.1029581  -0.10705194  0.06039822  0.13196632]\n",
      " [ 0.05546844 -0.18604615 -0.00622013  0.04566884  0.11873007 -0.231301\n",
      "  -0.14677829 -0.10138088  0.20696777  0.05914888]\n",
      " [ 0.15044689 -0.02671361 -0.11638022 -0.04803692 -0.1043148  -0.1211055\n",
      "   0.21869007 -0.04133491 -0.03215848  0.1501154 ]\n",
      " [ 0.13920519  0.1924625   0.00791889  0.01706749  0.04793859 -0.07858494\n",
      "   0.21117765  0.1175288   0.16930678 -0.14379442]\n",
      " [-0.17961042 -0.22728562  0.1752744   0.11520186 -0.09718582  0.0206275\n",
      "   0.09978324  0.06524953  0.1024127  -0.1743002 ]\n",
      " [ 0.16842279  0.02565318 -0.18347195  0.22658888  0.10559589 -0.07683362\n",
      "   0.01158704 -0.20439312 -0.18321887  0.18438786]\n",
      " [ 0.12882969 -0.16941956 -0.08129267 -0.03883342 -0.23011324  0.21471116\n",
      "   0.05503479  0.08982581 -0.04594436 -0.00631163]\n",
      " [ 0.01555917 -0.10708429  0.08336759 -0.17574671 -0.18162212  0.00073166\n",
      "  -0.11659282 -0.14145492 -0.10756639 -0.07396579]\n",
      " [-0.01140213 -0.13735211  0.01507913 -0.0322087  -0.10862893 -0.18700227\n",
      "  -0.08569705 -0.00974034  0.12701365  0.1374858 ]\n",
      " [ 0.14925972  0.09496298  0.11136544  0.01657894 -0.10397765 -0.07386389\n",
      "  -0.22700253 -0.18575019 -0.06560923  0.09876859]\n",
      " [ 0.21950904 -0.22376558 -0.12379803 -0.06442063 -0.1015348   0.06363049\n",
      "   0.09937644 -0.07277246  0.1935857  -0.18462369]\n",
      " [ 0.1692538   0.13423371  0.12489492  0.14664459 -0.06166072 -0.01476374\n",
      "  -0.08485079  0.06094408  0.04912668  0.09815964]\n",
      " [ 0.13582417  0.09732693  0.15620211 -0.22224417  0.20727023  0.20206591\n",
      "   0.22719055 -0.02561989 -0.13175517 -0.01397321]\n",
      " [ 0.20360208 -0.02223991 -0.03344686 -0.18661277 -0.09116998  0.21354905\n",
      "   0.00042079  0.07533279 -0.19994825 -0.13090035]\n",
      " [ 0.05642879 -0.02920814 -0.13952932  0.0522874  -0.16638881  0.22426784\n",
      "   0.00326177  0.22075778  0.17421961  0.17320943]\n",
      " [ 0.05254441 -0.04252474  0.12558767 -0.04241453 -0.01163755 -0.0406284\n",
      "   0.15361354 -0.17416956  0.21541676 -0.02706324]\n",
      " [-0.07214709 -0.14165655 -0.15931377  0.08022887 -0.09066048  0.13232109\n",
      "   0.01963419 -0.08418694  0.02315471 -0.1254125 ]\n",
      " [-0.12713225 -0.03214288 -0.21426268 -0.2277675   0.0574019   0.16448334\n",
      "  -0.10352522 -0.15025656 -0.19046506 -0.16523868]\n",
      " [ 0.13391131  0.18859491  0.0084701   0.09099415 -0.16322353  0.02854362\n",
      "   0.10946432  0.02722999 -0.21076782 -0.05856004]\n",
      " [ 0.05203369 -0.11183006 -0.20202038 -0.04546031  0.16598138  0.0893358\n",
      "   0.2170789  -0.0392046   0.03485441  0.10635102]\n",
      " [-0.19445154 -0.01543349 -0.22291866  0.15278888  0.10176042  0.09830475\n",
      "  -0.20842849  0.15313846  0.10150975 -0.192338  ]]\n",
      "\n",
      " Biases for layer  3\n",
      "[0. 0. 0. 0. 0. 0. 0. 0. 0. 0.]\n"
     ]
    }
   ],
   "source": [
    "for i in range(nLayers):\n",
    "    print('\\n Weights for layer ',i+1)\n",
    "    print(model.layers[i].get_weights()[0])\n",
    "    print('\\n Biases for layer ',i+1)\n",
    "    print(model.layers[i].get_weights()[1])\n",
    "# model.layers[0].get_biases()"
   ]
  },
  {
   "cell_type": "markdown",
   "id": "ac5f3fd1",
   "metadata": {},
   "source": [
    "## Save the weights generated by tf.keras and use them for our implementation as well"
   ]
  },
  {
   "cell_type": "code",
   "execution_count": 58,
   "id": "a4577d41",
   "metadata": {},
   "outputs": [
    {
     "name": "stdout",
     "output_type": "stream",
     "text": [
      "Weights matrices:  [array([[ 0.02373199,  0.06501773,  0.00963667, ...,  0.07136649,\n",
      "         0.07366648,  0.06072327],\n",
      "       [ 0.01219483, -0.03852237, -0.02522662, ...,  0.00839791,\n",
      "         0.02882931, -0.02697099],\n",
      "       [-0.04453482,  0.04081501,  0.06168392, ..., -0.07521024,\n",
      "        -0.07783584, -0.04626021],\n",
      "       ...,\n",
      "       [ 0.04521132,  0.02471351,  0.08199292, ...,  0.01401173,\n",
      "         0.01705167,  0.02460935],\n",
      "       [ 0.03843577, -0.01651178,  0.0672223 , ..., -0.04010017,\n",
      "        -0.05228949, -0.05804866],\n",
      "       [ 0.04478885,  0.06722353,  0.05125107, ..., -0.0422526 ,\n",
      "        -0.00634421,  0.02303252]], dtype=float32), array([[-0.13236034, -0.03969631,  0.14031598, ...,  0.04056644,\n",
      "         0.1555244 ,  0.12560728],\n",
      "       [ 0.16266948,  0.05986288, -0.14260533, ..., -0.17086087,\n",
      "         0.03715459, -0.10226717],\n",
      "       [ 0.13431847,  0.02847014, -0.15956958, ..., -0.0367202 ,\n",
      "         0.02116843,  0.0084427 ],\n",
      "       ...,\n",
      "       [-0.01370731,  0.12832546, -0.0959399 , ...,  0.02274269,\n",
      "        -0.06134786,  0.07655981],\n",
      "       [-0.12683037,  0.13328585,  0.03351982, ..., -0.05538522,\n",
      "        -0.15599947, -0.04217973],\n",
      "       [-0.05927103, -0.06163655, -0.07693399, ...,  0.07570958,\n",
      "        -0.1715391 ,  0.05580223]], dtype=float32), array([[ 0.19895509, -0.05034024, -0.11828668, -0.09381552, -0.12782778,\n",
      "        -0.1185784 , -0.21241736, -0.18947046,  0.05257934, -0.227772  ,\n",
      "         0.03644118, -0.02542984, -0.1800425 , -0.18955404,  0.05549237,\n",
      "         0.17344028, -0.05954511,  0.14158961, -0.1887452 ,  0.17201135,\n",
      "        -0.01601353,  0.2203317 , -0.04880294, -0.08320938, -0.18244638,\n",
      "         0.2158924 ,  0.0051948 ,  0.05779552, -0.15205038, -0.16961521,\n",
      "         0.22244084, -0.00593871, -0.00214517, -0.00624475,  0.04070079,\n",
      "         0.05037725, -0.2184155 , -0.04766001, -0.10008165, -0.05596212,\n",
      "        -0.03562677, -0.08334045,  0.02615646,  0.05496672,  0.06296825,\n",
      "        -0.00441223,  0.12012666, -0.17432931, -0.19146606, -0.22129712,\n",
      "         0.16695455,  0.16234213, -0.01058915,  0.14524174, -0.05753826,\n",
      "        -0.10886118, -0.06132819, -0.13240433,  0.02908704,  0.18005341,\n",
      "         0.22204456,  0.09033462, -0.08999409,  0.03716043, -0.15644774,\n",
      "         0.23268294, -0.01321532, -0.22012043,  0.10241157,  0.17360264,\n",
      "        -0.20297298, -0.02900334, -0.1401437 , -0.15400478,  0.03521958,\n",
      "         0.20427456,  0.15521532,  0.13136563,  0.01560989,  0.11810771,\n",
      "         0.05546844,  0.15044689,  0.13920519, -0.17961042,  0.16842279,\n",
      "         0.12882969,  0.01555917, -0.01140213,  0.14925972,  0.21950904,\n",
      "         0.1692538 ,  0.13582417,  0.20360208,  0.05642879,  0.05254441,\n",
      "        -0.07214709, -0.12713225,  0.13391131,  0.05203369, -0.19445154],\n",
      "       [ 0.13040054, -0.17485033, -0.12960538,  0.15262914, -0.19979301,\n",
      "        -0.04260881,  0.20215973, -0.1816372 ,  0.0706366 ,  0.13546482,\n",
      "         0.08650881, -0.19859606,  0.1172286 , -0.03382806, -0.10120365,\n",
      "         0.06255537,  0.21983513, -0.16330984,  0.03738016, -0.13195848,\n",
      "        -0.06521094, -0.22481793, -0.1500399 ,  0.09848022, -0.17639302,\n",
      "        -0.13894002,  0.16272739,  0.05070129,  0.20050699,  0.21176428,\n",
      "        -0.0731574 ,  0.02862749, -0.08354208,  0.19254825, -0.05220893,\n",
      "         0.05801508,  0.12990603, -0.01171021,  0.07733181, -0.01204671,\n",
      "         0.10503423, -0.00874734, -0.06895058,  0.10138959,  0.0764395 ,\n",
      "        -0.06852973,  0.04340208, -0.1100402 , -0.06277332,  0.21840164,\n",
      "         0.07827741,  0.02636909,  0.12545499, -0.06718226, -0.02750207,\n",
      "         0.19959712, -0.23227957,  0.155707  ,  0.12591898, -0.14546272,\n",
      "        -0.16499513,  0.04886475,  0.0445762 , -0.13861266,  0.08823979,\n",
      "        -0.01432645,  0.18529344,  0.19272634, -0.227505  ,  0.05321395,\n",
      "         0.21057478,  0.22074369,  0.04994789,  0.16188699, -0.11739648,\n",
      "         0.03839326,  0.03281552, -0.19287935, -0.06470372, -0.1959459 ,\n",
      "        -0.18604615, -0.02671361,  0.1924625 , -0.22728562,  0.02565318,\n",
      "        -0.16941956, -0.10708429, -0.13735211,  0.09496298, -0.22376558,\n",
      "         0.13423371,  0.09732693, -0.02223991, -0.02920814, -0.04252474,\n",
      "        -0.14165655, -0.03214288,  0.18859491, -0.11183006, -0.01543349],\n",
      "       [-0.09114388, -0.14253984, -0.21385159, -0.20966041, -0.02676378,\n",
      "        -0.06753424,  0.03469783, -0.1103714 , -0.0353673 ,  0.07693973,\n",
      "         0.11174783, -0.13255094, -0.09965122, -0.11979534, -0.12534618,\n",
      "        -0.1156534 ,  0.20773166,  0.11343929,  0.1563066 , -0.22513382,\n",
      "         0.11181152, -0.09753823, -0.1870677 , -0.10690677, -0.17245458,\n",
      "         0.15364528,  0.08519691, -0.09728812,  0.08813283,  0.11857033,\n",
      "         0.07679793,  0.00164025,  0.20435908, -0.06510819,  0.22543651,\n",
      "         0.19578665,  0.11955139,  0.20196083, -0.03145677, -0.10079594,\n",
      "        -0.05792052,  0.13111618,  0.03005323,  0.15245247, -0.16265957,\n",
      "         0.2278336 ,  0.20155764, -0.03614986,  0.10326406,  0.2275961 ,\n",
      "         0.03205574,  0.21569434,  0.02920729, -0.08945189,  0.08568358,\n",
      "         0.06937364,  0.0518249 , -0.02672759,  0.04541406, -0.14487746,\n",
      "         0.09739241,  0.1761474 ,  0.01820764,  0.07266715,  0.22928196,\n",
      "        -0.08687229,  0.09170052, -0.05115448, -0.14041744, -0.18061437,\n",
      "         0.13565513,  0.20492706,  0.08159983, -0.11135331, -0.08888935,\n",
      "         0.0632475 ,  0.02904865, -0.0403623 , -0.10517661, -0.05643691,\n",
      "        -0.00622013, -0.11638022,  0.00791889,  0.1752744 , -0.18347195,\n",
      "        -0.08129267,  0.08336759,  0.01507913,  0.11136544, -0.12379803,\n",
      "         0.12489492,  0.15620211, -0.03344686, -0.13952932,  0.12558767,\n",
      "        -0.15931377, -0.21426268,  0.0084701 , -0.20202038, -0.22291866],\n",
      "       [-0.17790213,  0.06392059, -0.07928704,  0.0515061 ,  0.02766356,\n",
      "         0.1690217 ,  0.05065379, -0.03566208, -0.2303838 ,  0.06181151,\n",
      "        -0.133477  , -0.14591521, -0.18975133, -0.07899588,  0.12131926,\n",
      "         0.179723  ,  0.10804024,  0.228863  , -0.21586612, -0.07960433,\n",
      "         0.17970183,  0.04207426,  0.05081409, -0.21784592,  0.02244911,\n",
      "         0.04426998, -0.10930336,  0.07408288, -0.21386962, -0.06778342,\n",
      "         0.03966376, -0.19842489,  0.10275826,  0.08175296, -0.13590504,\n",
      "        -0.09665695, -0.19446068, -0.10752474,  0.22780117,  0.05617303,\n",
      "        -0.0757689 ,  0.04773128, -0.1728605 ,  0.1555137 ,  0.19130889,\n",
      "        -0.21682419, -0.03374599, -0.21409702,  0.10824287,  0.16340256,\n",
      "         0.04840633,  0.08164382, -0.06118324,  0.07070529, -0.17186992,\n",
      "        -0.09299108, -0.03442408, -0.17293885,  0.15674269, -0.01987918,\n",
      "        -0.21797359, -0.01298323,  0.14788252,  0.22343338, -0.02755953,\n",
      "         0.02484757, -0.13302982, -0.02189389, -0.19547616,  0.16081187,\n",
      "         0.03766605, -0.10605094,  0.0652191 , -0.05212854,  0.23102427,\n",
      "        -0.14068556,  0.00713956, -0.1635108 , -0.06360878, -0.02169716,\n",
      "         0.04566884, -0.04803692,  0.01706749,  0.11520186,  0.22658888,\n",
      "        -0.03883342, -0.17574671, -0.0322087 ,  0.01657894, -0.06442063,\n",
      "         0.14664459, -0.22224417, -0.18661277,  0.0522874 , -0.04241453,\n",
      "         0.08022887, -0.2277675 ,  0.09099415, -0.04546031,  0.15278888],\n",
      "       [-0.20900369,  0.14943656,  0.23237416,  0.15066144,  0.13671127,\n",
      "         0.16696808,  0.1049889 ,  0.05067784,  0.02910885, -0.11438378,\n",
      "         0.2240307 ,  0.13460234,  0.16559935,  0.02584484, -0.10634115,\n",
      "         0.22440359,  0.08909029,  0.04059738,  0.08361241,  0.15516648,\n",
      "         0.0262695 , -0.17656602, -0.00148617, -0.16618171,  0.05125454,\n",
      "        -0.14279988, -0.07755314, -0.11397935, -0.17784488, -0.20124927,\n",
      "        -0.14446023, -0.06947872, -0.2091386 ,  0.08800754, -0.14654276,\n",
      "         0.09277302,  0.17426473,  0.14299467, -0.03610742,  0.03623393,\n",
      "        -0.05395548, -0.0076156 , -0.04418635,  0.1135388 , -0.23053792,\n",
      "         0.08327705, -0.19193274, -0.11188162, -0.09911846,  0.22938189,\n",
      "        -0.09396647, -0.18504325, -0.14976043, -0.01118596,  0.18483576,\n",
      "        -0.08397034,  0.1204876 , -0.05714859,  0.04445073, -0.19268668,\n",
      "         0.03818801,  0.15243185,  0.06732291, -0.04549311, -0.23277748,\n",
      "         0.13022429,  0.14888215, -0.10265753,  0.0311549 ,  0.09030935,\n",
      "         0.07360548,  0.05125409,  0.01731038,  0.13410687,  0.19446185,\n",
      "         0.09495762,  0.1471039 ,  0.035478  , -0.08993918, -0.0830979 ,\n",
      "         0.11873007, -0.1043148 ,  0.04793859, -0.09718582,  0.10559589,\n",
      "        -0.23011324, -0.18162212, -0.10862893, -0.10397765, -0.1015348 ,\n",
      "        -0.06166072,  0.20727023, -0.09116998, -0.16638881, -0.01163755,\n",
      "        -0.09066048,  0.0574019 , -0.16322353,  0.16598138,  0.10176042],\n",
      "       [ 0.11719325, -0.12684894, -0.12445375,  0.17034164,  0.17497367,\n",
      "         0.22957349, -0.10858555, -0.15383138,  0.20341584, -0.14597824,\n",
      "         0.1887173 ,  0.026301  ,  0.22295439,  0.18360686,  0.1275639 ,\n",
      "         0.09690624, -0.05177556, -0.00964233,  0.03088674, -0.02106355,\n",
      "         0.06105143,  0.06889418,  0.18127376,  0.16270608, -0.16706318,\n",
      "         0.12857616,  0.02598584, -0.12056387,  0.15449744,  0.1151596 ,\n",
      "         0.1555435 , -0.14703119,  0.21110621,  0.12735131, -0.16751003,\n",
      "         0.1260393 , -0.1332796 ,  0.18411458, -0.08460517, -0.02190235,\n",
      "         0.03005818,  0.06895426,  0.22615856,  0.02331296, -0.11136299,\n",
      "        -0.12819728,  0.15695184,  0.11662471,  0.12563577,  0.14640933,\n",
      "         0.22956833,  0.21087757,  0.07999143,  0.1739558 , -0.03991857,\n",
      "        -0.22662416, -0.13634855,  0.15345234,  0.03594276, -0.20260777,\n",
      "        -0.22357793,  0.12527841,  0.00997192,  0.14207557,  0.05674997,\n",
      "         0.18061632, -0.01136588,  0.17793548,  0.02840826, -0.08377884,\n",
      "         0.23257178, -0.02025293, -0.16603994,  0.09684315, -0.1504696 ,\n",
      "         0.14195612,  0.14122435, -0.21752463,  0.01120228,  0.17306063,\n",
      "        -0.231301  , -0.1211055 , -0.07858494,  0.0206275 , -0.07683362,\n",
      "         0.21471116,  0.00073166, -0.18700227, -0.07386389,  0.06363049,\n",
      "        -0.01476374,  0.20206591,  0.21354905,  0.22426784, -0.0406284 ,\n",
      "         0.13232109,  0.16448334,  0.02854362,  0.0893358 ,  0.09830475],\n",
      "       [ 0.01947331,  0.19228873, -0.13463125, -0.21831882, -0.00979072,\n",
      "         0.16590625, -0.02907127, -0.22948797, -0.17997825, -0.05284077,\n",
      "         0.07024023,  0.01214409,  0.11312023, -0.10186043,  0.2192592 ,\n",
      "         0.20092064,  0.13646036, -0.06219755, -0.10059838,  0.07744658,\n",
      "         0.0996553 ,  0.22038671, -0.17446262,  0.00478564,  0.12232623,\n",
      "         0.17548093, -0.08620745,  0.1230894 , -0.09879015, -0.11404968,\n",
      "         0.16100201, -0.03764594,  0.22152358,  0.16440755,  0.01644424,\n",
      "         0.12285945, -0.07897338, -0.05436257, -0.1877697 , -0.16390964,\n",
      "        -0.05045873,  0.13388956,  0.22426438, -0.01004514, -0.09984037,\n",
      "         0.0302622 , -0.1736119 , -0.14130302, -0.10282809,  0.0793533 ,\n",
      "        -0.15385443,  0.09589955,  0.00859499,  0.13368014,  0.05117607,\n",
      "        -0.07286829, -0.00023955, -0.18186373,  0.15187162,  0.09031454,\n",
      "         0.08981824, -0.21469595,  0.16272238, -0.15539512,  0.00457504,\n",
      "        -0.13373692,  0.03150257, -0.0448198 ,  0.0415993 , -0.03244084,\n",
      "        -0.03403386, -0.05917811, -0.04846735,  0.09305522, -0.1407884 ,\n",
      "        -0.00356574, -0.19739972, -0.17373373,  0.01654753, -0.1029581 ,\n",
      "        -0.14677829,  0.21869007,  0.21117765,  0.09978324,  0.01158704,\n",
      "         0.05503479, -0.11659282, -0.08569705, -0.22700253,  0.09937644,\n",
      "        -0.08485079,  0.22719055,  0.00042079,  0.00326177,  0.15361354,\n",
      "         0.01963419, -0.10352522,  0.10946432,  0.2170789 , -0.20842849],\n",
      "       [-0.05241312,  0.0515236 ,  0.10669452, -0.06686425, -0.01517785,\n",
      "        -0.14825216,  0.07641411,  0.06547737,  0.16112   ,  0.14136562,\n",
      "         0.06083494, -0.01306608, -0.17093801,  0.13904136, -0.1692598 ,\n",
      "        -0.11501332,  0.19269007,  0.09525731, -0.21378103, -0.21790934,\n",
      "         0.0024021 ,  0.04938138,  0.17157114, -0.06865095,  0.17041749,\n",
      "         0.09342024,  0.17744401,  0.13446876, -0.10025889, -0.07712939,\n",
      "        -0.00327374,  0.04528502,  0.07600886, -0.04932848,  0.17716962,\n",
      "         0.15146875, -0.08402051,  0.04477286,  0.00664756, -0.05605949,\n",
      "        -0.0257729 ,  0.12490934,  0.09116381,  0.19625682, -0.14431551,\n",
      "         0.20006642,  0.06916329, -0.09113   , -0.11139257, -0.23238453,\n",
      "         0.06582156,  0.22780019, -0.15904438, -0.22082175, -0.1528434 ,\n",
      "        -0.12860332, -0.00366692,  0.02883416,  0.02235082,  0.22133482,\n",
      "        -0.1058625 ,  0.17726299,  0.05685887, -0.23171495, -0.19284226,\n",
      "         0.00754666,  0.16208053, -0.04785055,  0.02578354, -0.04627858,\n",
      "        -0.0750628 , -0.12207193,  0.09042695,  0.148915  ,  0.09036744,\n",
      "        -0.04495461,  0.12914595,  0.16822267, -0.14467944, -0.10705194,\n",
      "        -0.10138088, -0.04133491,  0.1175288 ,  0.06524953, -0.20439312,\n",
      "         0.08982581, -0.14145492, -0.00974034, -0.18575019, -0.07277246,\n",
      "         0.06094408, -0.02561989,  0.07533279,  0.22075778, -0.17416956,\n",
      "        -0.08418694, -0.15025656,  0.02722999, -0.0392046 ,  0.15313846],\n",
      "       [-0.0202429 ,  0.15839306, -0.14599133, -0.01983736, -0.07469317,\n",
      "        -0.04095337,  0.1023286 , -0.02404836, -0.10112888,  0.21431944,\n",
      "        -0.17979038, -0.0184468 , -0.2237609 ,  0.18588156, -0.10244353,\n",
      "         0.15307817, -0.15563917,  0.1502544 , -0.10966022,  0.19712627,\n",
      "         0.0091898 ,  0.02420345, -0.13037297,  0.2113291 ,  0.02932835,\n",
      "         0.00369337,  0.09148264,  0.08816692,  0.16069704, -0.06521182,\n",
      "        -0.19390291,  0.138836  ,  0.14005917,  0.05253547,  0.14250934,\n",
      "        -0.05937028, -0.09386893, -0.2186934 , -0.22577044, -0.04889342,\n",
      "         0.06375477,  0.21757206,  0.02194449,  0.18929672,  0.10352978,\n",
      "         0.08085585, -0.18574536,  0.04308853,  0.14308426,  0.07067639,\n",
      "        -0.13237515, -0.17819674, -0.16082305,  0.13013381, -0.02499229,\n",
      "         0.12981436,  0.23224458,  0.16081092,  0.16782954, -0.01909305,\n",
      "         0.10523874, -0.02865048, -0.16517587,  0.06072876,  0.1618604 ,\n",
      "         0.11927617,  0.08401293,  0.15718797, -0.04039988,  0.12375805,\n",
      "         0.01561679,  0.09878454, -0.15813944,  0.2131213 , -0.18973863,\n",
      "         0.04168236, -0.19765893, -0.22989479,  0.14551395,  0.06039822,\n",
      "         0.20696777, -0.03215848,  0.16930678,  0.1024127 , -0.18321887,\n",
      "        -0.04594436, -0.10756639,  0.12701365, -0.06560923,  0.1935857 ,\n",
      "         0.04912668, -0.13175517, -0.19994825,  0.17421961,  0.21541676,\n",
      "         0.02315471, -0.19046506, -0.21076782,  0.03485441,  0.10150975],\n",
      "       [-0.17753318, -0.19495207, -0.10364249, -0.19023125,  0.01193495,\n",
      "         0.00718367, -0.00348645,  0.1748206 ,  0.01476012,  0.00973928,\n",
      "         0.2104348 ,  0.14985976, -0.06376007, -0.04091874, -0.002214  ,\n",
      "         0.20659259, -0.0642895 , -0.15811804, -0.02543658,  0.20023373,\n",
      "        -0.03561513, -0.04303718,  0.16576838,  0.16700336, -0.11564627,\n",
      "         0.0820826 , -0.15789375,  0.07685822, -0.21764028, -0.014319  ,\n",
      "        -0.20576753, -0.17854704, -0.12708452, -0.08350271,  0.13985634,\n",
      "         0.03158054, -0.05583437, -0.0579796 , -0.03166112,  0.02089995,\n",
      "         0.08761954,  0.12359095, -0.03753786, -0.06708026, -0.01974589,\n",
      "        -0.18617244, -0.07091974, -0.05289204, -0.16254336,  0.1491071 ,\n",
      "        -0.06983119,  0.22693694,  0.17275193, -0.1569392 ,  0.01251021,\n",
      "         0.20593551,  0.17890626,  0.11245471, -0.05300659,  0.21594152,\n",
      "         0.09553137,  0.16481656,  0.04356444,  0.07673165, -0.04047377,\n",
      "         0.01969549, -0.06597206, -0.0603431 , -0.01644558, -0.13582474,\n",
      "        -0.0618864 , -0.16140905, -0.04099558,  0.12998426, -0.03458963,\n",
      "        -0.10359979,  0.05799797,  0.1432415 ,  0.03831619,  0.13196632,\n",
      "         0.05914888,  0.1501154 , -0.14379442, -0.1743002 ,  0.18438786,\n",
      "        -0.00631163, -0.07396579,  0.1374858 ,  0.09876859, -0.18462369,\n",
      "         0.09815964, -0.01397321, -0.13090035,  0.17320943, -0.02706324,\n",
      "        -0.1254125 , -0.16523868, -0.05856004,  0.10635102, -0.192338  ]],\n",
      "      dtype=float32)]\n",
      "Biases:  [array([0., 0., 0., 0., 0., 0., 0., 0., 0., 0., 0., 0., 0., 0., 0., 0., 0.,\n",
      "       0., 0., 0., 0., 0., 0., 0., 0., 0., 0., 0., 0., 0., 0., 0., 0., 0.,\n",
      "       0., 0., 0., 0., 0., 0., 0., 0., 0., 0., 0., 0., 0., 0., 0., 0., 0.,\n",
      "       0., 0., 0., 0., 0., 0., 0., 0., 0., 0., 0., 0., 0., 0., 0., 0., 0.,\n",
      "       0., 0., 0., 0., 0., 0., 0., 0., 0., 0., 0., 0., 0., 0., 0., 0., 0.,\n",
      "       0., 0., 0., 0., 0., 0., 0., 0., 0., 0., 0., 0., 0., 0., 0.],\n",
      "      dtype=float32), array([0., 0., 0., 0., 0., 0., 0., 0., 0., 0., 0., 0., 0., 0., 0., 0., 0.,\n",
      "       0., 0., 0., 0., 0., 0., 0., 0., 0., 0., 0., 0., 0., 0., 0., 0., 0.,\n",
      "       0., 0., 0., 0., 0., 0., 0., 0., 0., 0., 0., 0., 0., 0., 0., 0., 0.,\n",
      "       0., 0., 0., 0., 0., 0., 0., 0., 0., 0., 0., 0., 0., 0., 0., 0., 0.,\n",
      "       0., 0., 0., 0., 0., 0., 0., 0., 0., 0., 0., 0., 0., 0., 0., 0., 0.,\n",
      "       0., 0., 0., 0., 0., 0., 0., 0., 0., 0., 0., 0., 0., 0., 0.],\n",
      "      dtype=float32), array([0., 0., 0., 0., 0., 0., 0., 0., 0., 0.], dtype=float32)]\n"
     ]
    }
   ],
   "source": [
    "weightsOriginal = []\n",
    "biasesOriginal = []\n",
    "\n",
    "\n",
    "for i in range(nLayers):\n",
    "    weightsOriginal.append(model.layers[i].get_weights()[0].T)\n",
    "    biasesOriginal.append(model.layers[i].get_weights()[1].T)\n",
    "\n",
    "print('Weights matrices: ',weightsOriginal)\n",
    "print('Biases: ',biasesOriginal)"
   ]
  },
  {
   "cell_type": "markdown",
   "id": "90554d39",
   "metadata": {},
   "source": [
    "## Compile model"
   ]
  },
  {
   "cell_type": "code",
   "execution_count": 59,
   "id": "4404854e",
   "metadata": {},
   "outputs": [],
   "source": [
    "# compile the keras model\n",
    "\n",
    "# In the following manner we can't set the learning rate of the optimizer\n",
    "# model.compile(loss='mse', optimizer='sgd', metrics=['mse'])\n",
    "\n",
    "# So use the following instead\n",
    "# model.compile(loss='mse', optimizer=optimizers.SGD(learning_rate=eeta), metrics=['mse'])\n",
    "model.compile(loss='binary_crossentropy', optimizer=optimizers.SGD(learning_rate=eeta), metrics=['binary_crossentropy'])\n",
    "# model.compile(loss='categorical_crossentropy', optimizer=optimizers.SGD(learning_rate=eeta), metrics=['categorical_crossentropy'])\n",
    "\n"
   ]
  },
  {
   "cell_type": "markdown",
   "id": "4463fc12",
   "metadata": {},
   "source": [
    "## Forward feed"
   ]
  },
  {
   "cell_type": "code",
   "execution_count": null,
   "id": "9ba4b57f",
   "metadata": {},
   "outputs": [],
   "source": [
    "model.evaluate(inputs, outputs, batch_size=batchSize)"
   ]
  },
  {
   "cell_type": "markdown",
   "id": "c6621335",
   "metadata": {},
   "source": [
    "## Does tf.model.evaluate change the weights and biases?"
   ]
  },
  {
   "cell_type": "code",
   "execution_count": null,
   "id": "0640bf71",
   "metadata": {},
   "outputs": [],
   "source": [
    "for i in range(nLayers):\n",
    "    print('\\n Weights for layer ',i+1)\n",
    "    print(model.layers[i].get_weights()[0])\n",
    "    print('\\n Biases for layer ',i+1)\n",
    "    print(model.layers[i].get_weights()[1])\n",
    "# model.layers[0].get_biases()"
   ]
  },
  {
   "cell_type": "markdown",
   "id": "ca0b0b52",
   "metadata": {},
   "source": [
    "From the above, we can be sure that it does not change the weights and biases"
   ]
  },
  {
   "cell_type": "markdown",
   "id": "e03a0da1",
   "metadata": {},
   "source": [
    "## Fit 1 epoch  (forward feed, backpropagation, updating the weights, biases)\n",
    "\n",
    "Let us just try to see and compare the error after just 1 epoch. \n",
    "\n",
    "We should expect the model to perform forward feed, calculate loss/error,\n",
    "perform backpropagation,\n",
    "and adjust the weights and biases based on the learning rate.\n",
    "\n",
    "Note: Batch size=4 indicates that we are using all the training data(examples) and therefore this is the equivalent of my own implementation as I don't have stochastic/minibatch gradient descent implementation yet.\n",
    "\n",
    "References: https://machinelearningmastery.com/how-to-control-the-speed-and-stability-of-training-neural-networks-with-gradient-descent-batch-size/"
   ]
  },
  {
   "cell_type": "code",
   "execution_count": null,
   "id": "99b06019",
   "metadata": {},
   "outputs": [],
   "source": [
    "# fit the keras model on the dataset\n",
    "model.fit(inputs, outputs, epochs=1, batch_size=batchSize)"
   ]
  },
  {
   "cell_type": "markdown",
   "id": "eea5b430",
   "metadata": {},
   "source": [
    "## Now the weights and biases must have been updated"
   ]
  },
  {
   "cell_type": "code",
   "execution_count": null,
   "id": "c8b43c66",
   "metadata": {},
   "outputs": [],
   "source": [
    "for i in range(nLayers):\n",
    "    print('\\n Weights for layer ',i+1)\n",
    "    print(model.layers[i].get_weights()[0])\n",
    "    print('\\n Biases for layer ',i+1)\n",
    "    print(model.layers[i].get_weights()[1])\n",
    "# model.layers[0].get_biases()"
   ]
  },
  {
   "cell_type": "markdown",
   "id": "828c93f2",
   "metadata": {},
   "source": [
    "## Now let us do a forward feed again and calculate the loss/error\n",
    "\n",
    "Note: Batch size=4 indicates that we are using all the training data(examples) and therefore this is the equivalent of my own implementation as I don't have stochastic/minibatch gradient descent implementation yet.\n",
    "\n",
    "References: https://machinelearningmastery.com/how-to-control-the-speed-and-stability-of-training-neural-networks-with-gradient-descent-batch-size/"
   ]
  },
  {
   "cell_type": "code",
   "execution_count": null,
   "id": "28ad2a76",
   "metadata": {},
   "outputs": [],
   "source": [
    "out = model.evaluate(inputs, outputs, batch_size=batchSize)\n",
    "print(out)"
   ]
  },
  {
   "cell_type": "markdown",
   "id": "ec99b920",
   "metadata": {},
   "source": [
    "### The above result, compares well with the result from my own implementation (when biases are updated independently)"
   ]
  },
  {
   "cell_type": "markdown",
   "id": "e8326396",
   "metadata": {},
   "source": [
    "## Now let us let the model train for 10^4 epochs\n",
    "\n",
    "Note: Batch size=4 indicates that we are using all the training data(examples) and therefore this is the equivalent of my own implementation as I don't have stochastic/minibatch gradient descent implementation yet.\n",
    "\n",
    "References: https://machinelearningmastery.com/how-to-control-the-speed-and-stability-of-training-neural-networks-with-gradient-descent-batch-size/"
   ]
  },
  {
   "cell_type": "code",
   "execution_count": null,
   "id": "0ce71100",
   "metadata": {},
   "outputs": [],
   "source": [
    "%%time\n",
    "# fit the keras model on the dataset\n",
    "# history = model.fit(tf.convert_to_tensor(inputs, dtype=tf.float32), tf.convert_to_tensor(outputs, dtype=tf.float32), epochs=nEpochs, batch_size=batchSizenSamples, verbose=0)\n",
    "history = model.fit(inputs, outputs, epochs=nEpochs, batch_size=batchSize, verbose=0)"
   ]
  },
  {
   "cell_type": "markdown",
   "id": "6b0bc271",
   "metadata": {},
   "source": [
    "Turns out that this was quite slow. At first, I thought that the problem was that it was printing at each epoch. So I set the verbose=0 (silent). But still, it was incredibly slow compared to my implementation as well as PyTorch, even though we used own for loop in both the cases."
   ]
  },
  {
   "cell_type": "code",
   "execution_count": null,
   "id": "8281b61b",
   "metadata": {},
   "outputs": [],
   "source": [
    "history.history"
   ]
  },
  {
   "cell_type": "markdown",
   "id": "6d1cf702",
   "metadata": {},
   "source": [
    "## Now also let us have a look at the predictions for the sake of the tutorial"
   ]
  },
  {
   "cell_type": "code",
   "execution_count": null,
   "id": "3e0f2c44",
   "metadata": {},
   "outputs": [],
   "source": [
    "# make probability predictions with the model\n",
    "predictions = model.predict(inputs)\n",
    "print(predictions)"
   ]
  },
  {
   "cell_type": "markdown",
   "id": "52bbf9d7",
   "metadata": {},
   "source": [
    "## We have seen how to initialize custom weights/biases, perform forward feed, train/optimize the model, and finally how to check the updated parameters.\n",
    "\n",
    "\n",
    "## Let us now see how we can see the input/output at each layer for debugging purposes."
   ]
  },
  {
   "cell_type": "code",
   "execution_count": null,
   "id": "683e9b1a",
   "metadata": {},
   "outputs": [],
   "source": [
    "\n",
    "for i in range(nLayers):\n",
    "    print('\\n Inputs for layer ',i+1)\n",
    "    print(model.layers[i].input)\n",
    "    print('\\n Outputs for layer ',i+1)\n",
    "    print(model.layers[i].output)"
   ]
  },
  {
   "cell_type": "code",
   "execution_count": null,
   "id": "1ddcb332",
   "metadata": {},
   "outputs": [],
   "source": [
    "\n",
    "for i in range(nLayers):\n",
    "    print('\\n Inputs for layer ',i+1)\n",
    "    print(model.layers[i].input)\n",
    "    print('\\n Outputs for layer ',i+1)\n",
    "    print(model.layers[i].output)"
   ]
  },
  {
   "cell_type": "markdown",
   "id": "f03f3fe5",
   "metadata": {},
   "source": [
    "## We can't really see any numbers in the above output\n",
    "## So we need to do something more"
   ]
  },
  {
   "cell_type": "code",
   "execution_count": null,
   "id": "d6733853",
   "metadata": {},
   "outputs": [],
   "source": [
    "for i in range(nLayers):\n",
    "    print('\\n Inputs for layer ',i+1)\n",
    "    func = K.function([model.get_layer(index=0).input], model.get_layer(index=i).input)\n",
    "    layerInput = func([inputs])  # input_data is a numpy array\n",
    "    print(layerInput)\n",
    "    print('\\n Outputs for layer ',i+1)\n",
    "    func = K.function([model.get_layer(index=0).input], model.get_layer(index=i).output)\n",
    "    layerOutput = func([inputs])  # input_data is a numpy array\n",
    "    print(layerOutput)\n",
    "\n",
    "\n"
   ]
  },
  {
   "cell_type": "code",
   "execution_count": null,
   "id": "83efc0b7",
   "metadata": {
    "scrolled": true
   },
   "outputs": [],
   "source": [
    "# Plot the error vs epochs\n",
    "plt.plot(history.history['loss'])\n",
    "plt.yscale('log')\n",
    "plt.show()"
   ]
  },
  {
   "cell_type": "markdown",
   "id": "f177671d",
   "metadata": {},
   "source": [
    "# My implementation"
   ]
  },
  {
   "cell_type": "markdown",
   "id": "29ed0ced",
   "metadata": {},
   "source": [
    "## Forwad feed once"
   ]
  },
  {
   "cell_type": "code",
   "execution_count": 60,
   "id": "3f9fb0d1",
   "metadata": {},
   "outputs": [
    {
     "name": "stdout",
     "output_type": "stream",
     "text": [
      "Outputs at each layer (including input layer):\n",
      "  [array([[0., 0., 0., ..., 0., 0., 0.],\n",
      "       [0., 0., 0., ..., 0., 0., 0.],\n",
      "       [0., 0., 0., ..., 0., 0., 0.],\n",
      "       ...,\n",
      "       [0., 0., 0., ..., 0., 0., 0.],\n",
      "       [0., 0., 0., ..., 0., 0., 0.],\n",
      "       [0., 0., 0., ..., 0., 0., 0.]], dtype=float32), array([[0.59737927, 0.51493526, 0.5715538 , ..., 0.57426196, 0.5196451 ,\n",
      "        0.59547544],\n",
      "       [0.3897064 , 0.2739032 , 0.34660405, ..., 0.55187386, 0.6153531 ,\n",
      "        0.56694853],\n",
      "       [0.5638481 , 0.48385248, 0.48561582, ..., 0.51501065, 0.43951854,\n",
      "        0.47644496],\n",
      "       ...,\n",
      "       [0.5       , 0.5       , 0.5       , ..., 0.5       , 0.5       ,\n",
      "        0.5       ],\n",
      "       [0.5       , 0.5       , 0.5       , ..., 0.5       , 0.5       ,\n",
      "        0.5       ],\n",
      "       [0.5       , 0.5       , 0.5       , ..., 0.5       , 0.5       ,\n",
      "        0.5       ]], dtype=float32), array([[0.37839353, 0.27438453, 0.55589855, ..., 0.6417211 , 0.52883667,\n",
      "        0.5629738 ],\n",
      "       [0.41852596, 0.2949695 , 0.53291553, ..., 0.62299514, 0.51088834,\n",
      "        0.5967149 ],\n",
      "       [0.36213565, 0.30265868, 0.5205629 , ..., 0.63458097, 0.53177357,\n",
      "        0.57263416],\n",
      "       ...,\n",
      "       [0.3617152 , 0.28159115, 0.5166927 , ..., 0.62934697, 0.50414246,\n",
      "        0.6051082 ],\n",
      "       [0.3617152 , 0.28159115, 0.5166927 , ..., 0.62934697, 0.50414246,\n",
      "        0.6051082 ],\n",
      "       [0.3617152 , 0.28159115, 0.5166927 , ..., 0.62934697, 0.50414246,\n",
      "        0.6051082 ]], dtype=float32), array([[0.0685917 , 0.05652285, 0.07347356, ..., 0.05197209, 0.13910003,\n",
      "        0.04309582],\n",
      "       [0.06814306, 0.05838039, 0.07142772, ..., 0.05307436, 0.14155015,\n",
      "        0.0438197 ],\n",
      "       [0.06576223, 0.05522798, 0.07350251, ..., 0.05260267, 0.139411  ,\n",
      "        0.04272178],\n",
      "       ...,\n",
      "       [0.06625819, 0.05752541, 0.07385302, ..., 0.0522991 , 0.13903654,\n",
      "        0.04211418],\n",
      "       [0.06625819, 0.05752541, 0.07385302, ..., 0.0522991 , 0.13903654,\n",
      "        0.04211418],\n",
      "       [0.06625819, 0.05752541, 0.07385302, ..., 0.0522991 , 0.13903654,\n",
      "        0.04211418]], dtype=float32)]\n",
      "Inputs at each layer :\n",
      "  [array([[ 0.3945572 ,  0.05975872,  0.28819343, ...,  0.29926145,\n",
      "         0.07862079,  0.38664764],\n",
      "       [-0.44854653, -0.9749087 , -0.6340003 , ...,  0.20824471,\n",
      "         0.46987057,  0.2694119 ],\n",
      "       [ 0.25679418, -0.0646126 , -0.05755253, ...,  0.06006079,\n",
      "        -0.24311635, -0.09429005],\n",
      "       ...,\n",
      "       [ 0.        ,  0.        ,  0.        , ...,  0.        ,\n",
      "         0.        ,  0.        ],\n",
      "       [ 0.        ,  0.        ,  0.        , ...,  0.        ,\n",
      "         0.        ,  0.        ],\n",
      "       [ 0.        ,  0.        ,  0.        , ...,  0.        ,\n",
      "         0.        ,  0.        ]], dtype=float32), array([[-0.49637237, -0.9724898 ,  0.22453266, ...,  0.5828422 ,\n",
      "         0.11547479,  0.25323996],\n",
      "       [-0.32882735, -0.8713691 ,  0.13185275, ...,  0.5022805 ,\n",
      "         0.04356027,  0.39179572],\n",
      "       [-0.56610686, -0.83466935,  0.08229794, ...,  0.55192006,\n",
      "         0.12726574,  0.29260656],\n",
      "       ...,\n",
      "       [-0.56792736, -0.9365826 ,  0.0667957 , ...,  0.52941626,\n",
      "         0.01657013,  0.42679554],\n",
      "       [-0.56792736, -0.9365826 ,  0.0667957 , ...,  0.52941626,\n",
      "         0.01657013,  0.42679554],\n",
      "       [-0.56792736, -0.9365826 ,  0.0667957 , ...,  0.52941626,\n",
      "         0.01657013,  0.42679554]], dtype=float32), array([[ 0.25272718,  0.05920043,  0.32148126, ..., -0.02473766,\n",
      "         0.95974886, -0.2120184 ],\n",
      "       [ 0.22284034,  0.06821117,  0.26991695, ..., -0.02707515,\n",
      "         0.953885  , -0.21868566],\n",
      "       [ 0.21352507,  0.03894911,  0.32479894, ..., -0.00975378,\n",
      "         0.9649057 , -0.21781178],\n",
      "       ...,\n",
      "       [ 0.22266924,  0.08133677,  0.33118695, ..., -0.01391075,\n",
      "         0.9638468 , -0.2305055 ],\n",
      "       [ 0.22266924,  0.08133677,  0.33118695, ..., -0.01391075,\n",
      "         0.9638468 , -0.2305055 ],\n",
      "       [ 0.22266924,  0.08133677,  0.33118695, ..., -0.01391075,\n",
      "         0.9638468 , -0.2305055 ]], dtype=float32)]\n",
      "Error:\n",
      " 6.9597763671875\n"
     ]
    }
   ],
   "source": [
    "# Perform Forward feed and get the outputs at each layers and the inputs at each layer\n",
    "a, z = forward_feed(inputs, nLayers, weightsOriginal, biasesOriginal, activation_func_names)\n",
    "print('Outputs at each layer (including input layer):\\n ',a)\n",
    "print('Inputs at each layer :\\n ', z)\n",
    "\n",
    "# Error\n",
    "print('Error:\\n', MSE_loss(a[nLayers],outputs)/batchSize)"
   ]
  },
  {
   "cell_type": "markdown",
   "id": "911538f5",
   "metadata": {},
   "source": [
    "## Backpropagation"
   ]
  },
  {
   "cell_type": "code",
   "execution_count": 61,
   "id": "d818b807",
   "metadata": {},
   "outputs": [
    {
     "name": "stdout",
     "output_type": "stream",
     "text": [
      "Gradient of the error function wrt to the predicted output of the output layer\n",
      " [[ 6.8591697e-05  5.6522847e-05 -9.2652644e-04 ...  5.1972089e-05\n",
      "   1.3910003e-04  4.3095817e-05]\n",
      " [ 6.8143061e-05  5.8380392e-05  7.1427719e-05 ...  5.3074360e-05\n",
      "   1.4155015e-04  4.3819695e-05]\n",
      " [ 6.5762229e-05  5.5227978e-05  7.3502510e-05 ...  5.2602674e-05\n",
      "   1.3941100e-04  4.2721778e-05]\n",
      " ...\n",
      " [ 6.6258188e-05  5.7525405e-05  7.3853022e-05 ...  5.2299099e-05\n",
      "   1.3903654e-04  4.2114178e-05]\n",
      " [ 6.6258188e-05  5.7525405e-05  7.3853022e-05 ...  5.2299099e-05\n",
      "   1.3903654e-04  4.2114178e-05]\n",
      " [ 6.6258188e-05  5.7525405e-05  7.3853022e-05 ...  5.2299099e-05\n",
      "   1.3903654e-04  4.2114178e-05]]\n",
      "Gradient of Cost (error function) wrt weights:\n",
      " [array([[0., 0., 0., ..., 0., 0., 0.],\n",
      "       [0., 0., 0., ..., 0., 0., 0.],\n",
      "       [0., 0., 0., ..., 0., 0., 0.],\n",
      "       ...,\n",
      "       [0., 0., 0., ..., 0., 0., 0.],\n",
      "       [0., 0., 0., ..., 0., 0., 0.],\n",
      "       [0., 0., 0., ..., 0., 0., 0.]], dtype=float32), array([[ 0.08677772,  0.086673  ,  0.0866896 , ...,  0.08669501,\n",
      "         0.08671596,  0.08670305],\n",
      "       [-0.07098851, -0.07088818, -0.0709031 , ..., -0.0709095 ,\n",
      "        -0.07094055, -0.07090724],\n",
      "       [-0.03446006, -0.03441571, -0.0344163 , ..., -0.03442576,\n",
      "        -0.03442125, -0.03442824],\n",
      "       ...,\n",
      "       [ 0.0137457 ,  0.01372278,  0.01373343, ...,  0.0137146 ,\n",
      "         0.0137361 ,  0.01373744],\n",
      "       [ 0.04540382,  0.04535067,  0.04537122, ...,  0.04536336,\n",
      "         0.04537831,  0.04536506],\n",
      "       [ 0.09019324,  0.0900857 ,  0.09009574, ...,  0.09012305,\n",
      "         0.09013596,  0.09009515]], dtype=float32), array([[-0.23444258, -0.1824779 , -0.33490202, -0.32773903, -0.40045354,\n",
      "        -0.35108352, -0.3545233 , -0.38963234, -0.22460115, -0.22632082,\n",
      "        -0.2710791 , -0.25840065, -0.24204314, -0.36650994, -0.34096506,\n",
      "        -0.35469833, -0.3307094 , -0.26379186, -0.3545184 , -0.41795346,\n",
      "        -0.25137064, -0.43930215, -0.18689762, -0.37732667, -0.2268321 ,\n",
      "        -0.32893214, -0.3804224 , -0.36482424, -0.46306294, -0.28272673,\n",
      "        -0.30093616, -0.24694782, -0.2763974 , -0.28678426, -0.26911378,\n",
      "        -0.23784587, -0.3106327 , -0.38791338, -0.2206257 , -0.3551374 ,\n",
      "        -0.2682649 , -0.35888013, -0.40957648, -0.42895594, -0.32124746,\n",
      "        -0.41791663, -0.25864023, -0.29091159, -0.3541078 , -0.3883452 ,\n",
      "        -0.33625785, -0.32535458, -0.42781165, -0.40091905, -0.32014087,\n",
      "        -0.31639653, -0.27059186, -0.29687807, -0.3318831 , -0.35590246,\n",
      "        -0.4689373 , -0.25922924, -0.14124754, -0.34099433, -0.33663818,\n",
      "        -0.30915594, -0.30227572, -0.3647231 , -0.32772657, -0.34517956,\n",
      "        -0.32718313, -0.37314305, -0.37429854, -0.38971344, -0.37895903,\n",
      "        -0.32048726, -0.3455721 , -0.37909183, -0.30402875, -0.17311363,\n",
      "        -0.18358599, -0.22782184, -0.34701785, -0.31294587, -0.207562  ,\n",
      "        -0.37013763, -0.34705   , -0.3808588 , -0.3374205 , -0.39915672,\n",
      "        -0.27695072, -0.40463692, -0.3057449 , -0.23265107, -0.35578346,\n",
      "        -0.27712056, -0.38795638, -0.40782654, -0.32704437, -0.39208522],\n",
      "       [-0.21464348, -0.16715531, -0.30653825, -0.29988322, -0.36655387,\n",
      "        -0.32145455, -0.3243947 , -0.35608667, -0.20564535, -0.2072114 ,\n",
      "        -0.24793015, -0.23631626, -0.2215304 , -0.33558682, -0.31189337,\n",
      "        -0.32489142, -0.30243188, -0.24143174, -0.32441226, -0.38235378,\n",
      "        -0.23003146, -0.4019065 , -0.17109542, -0.34521455, -0.20745312,\n",
      "        -0.3010817 , -0.3481568 , -0.33430725, -0.42378113, -0.2587245 ,\n",
      "        -0.2754103 , -0.22620282, -0.2530547 , -0.26230672, -0.24612252,\n",
      "        -0.21754102, -0.28438985, -0.35472304, -0.20193812, -0.3248734 ,\n",
      "        -0.24526905, -0.3284239 , -0.3751285 , -0.39216307, -0.29400316,\n",
      "        -0.38232306, -0.23684882, -0.2663608 , -0.32392725, -0.35576656,\n",
      "        -0.30768445, -0.29762176, -0.3917323 , -0.36683708, -0.29318795,\n",
      "        -0.28968266, -0.24764708, -0.2718935 , -0.3034564 , -0.32560545,\n",
      "        -0.42930436, -0.23701261, -0.12926005, -0.31191862, -0.30781484,\n",
      "        -0.2825896 , -0.27663347, -0.33384296, -0.2997806 , -0.3159241 ,\n",
      "        -0.29937962, -0.341482  , -0.34280872, -0.3564369 , -0.3468482 ,\n",
      "        -0.2933056 , -0.3164221 , -0.3469946 , -0.27826583, -0.15829135,\n",
      "        -0.1681508 , -0.20839347, -0.3177089 , -0.28625137, -0.18987754,\n",
      "        -0.3386681 , -0.31780773, -0.34876773, -0.30871025, -0.36504152,\n",
      "        -0.25316694, -0.3703555 , -0.27965   , -0.21295688, -0.32550377,\n",
      "        -0.25330162, -0.35476136, -0.37337816, -0.29891068, -0.35899153],\n",
      "       [-0.24934131, -0.19393682, -0.35574993, -0.34845716, -0.42538357,\n",
      "        -0.37344217, -0.37698415, -0.4134064 , -0.23864377, -0.24040559,\n",
      "        -0.28790027, -0.2744753 , -0.2571646 , -0.38952282, -0.36230978,\n",
      "        -0.3771648 , -0.35147527, -0.28040907, -0.37697527, -0.44368476,\n",
      "        -0.26722616, -0.46644884, -0.19862558, -0.4005084 , -0.24061212,\n",
      "        -0.34969607, -0.40399092, -0.38783112, -0.4916457 , -0.3004523 ,\n",
      "        -0.3198611 , -0.2625677 , -0.29375312, -0.30460677, -0.2859408 ,\n",
      "        -0.25278467, -0.33009523, -0.41230032, -0.23422657, -0.37710667,\n",
      "        -0.28495622, -0.3808668 , -0.4356548 , -0.45567656, -0.3413246 ,\n",
      "        -0.44367734, -0.27510765, -0.30914637, -0.37657362, -0.4128201 ,\n",
      "        -0.3574267 , -0.34553844, -0.45451283, -0.42590758, -0.34020215,\n",
      "        -0.3360096 , -0.28755927, -0.3157043 , -0.3522418 , -0.378417  ,\n",
      "        -0.49871022, -0.27524635, -0.15012026, -0.36226574, -0.35751513,\n",
      "        -0.32821503, -0.321558  , -0.38771406, -0.34805837, -0.36649758,\n",
      "        -0.3478931 , -0.3963266 , -0.39808786, -0.4141482 , -0.40222162,\n",
      "        -0.34020463, -0.36697364, -0.40263182, -0.3230482 , -0.18386298,\n",
      "        -0.19509208, -0.24204022, -0.36870515, -0.33248815, -0.22066233,\n",
      "        -0.39323136, -0.36878103, -0.4045262 , -0.3581187 , -0.42402977,\n",
      "        -0.29393446, -0.43040565, -0.32477042, -0.24742076, -0.3776458 ,\n",
      "        -0.29423416, -0.41236058, -0.4338536 , -0.34725973, -0.4165105 ],\n",
      "       [-0.09973884, -0.07773787, -0.14253749, -0.13944791, -0.17041808,\n",
      "        -0.14938308, -0.15098614, -0.16564745, -0.09563415, -0.09639011,\n",
      "        -0.11532243, -0.10995654, -0.10289861, -0.1558921 , -0.14510454,\n",
      "        -0.15107985, -0.14071342, -0.11219433, -0.15100186, -0.17785162,\n",
      "        -0.10711825, -0.18682581, -0.07958003, -0.16040294, -0.09643323,\n",
      "        -0.14001393, -0.161831  , -0.15527268, -0.1969059 , -0.12034651,\n",
      "        -0.12814836, -0.10507245, -0.11757918, -0.12204959, -0.11445075,\n",
      "        -0.1011584 , -0.13225935, -0.16504478, -0.09386966, -0.15106036,\n",
      "        -0.11403134, -0.15277857, -0.17433754, -0.18237284, -0.13675223,\n",
      "        -0.17783812, -0.11007766, -0.12382139, -0.15074559, -0.16535464,\n",
      "        -0.14305769, -0.13852909, -0.1821547 , -0.17073563, -0.13627864,\n",
      "        -0.13457547, -0.11498132, -0.12642805, -0.14121774, -0.15145361,\n",
      "        -0.1996047 , -0.11029591, -0.06011462, -0.14493002, -0.143141  ,\n",
      "        -0.13141644, -0.12872437, -0.15521963, -0.13946049, -0.14673156,\n",
      "        -0.13935286, -0.158753  , -0.15924072, -0.16570273, -0.16118446,\n",
      "        -0.13635193, -0.14699031, -0.16127002, -0.12932405, -0.07361107,\n",
      "        -0.07820487, -0.09697602, -0.14760824, -0.13319951, -0.0883719 ,\n",
      "        -0.15743005, -0.14780565, -0.1621004 , -0.1435555 , -0.1698568 ,\n",
      "        -0.11768164, -0.17230847, -0.13005258, -0.09912047, -0.15118223,\n",
      "        -0.11790519, -0.16511442, -0.1735154 , -0.13909337, -0.16690667],\n",
      "       [-0.21101128, -0.1642484 , -0.30143508, -0.294935  , -0.35995734,\n",
      "        -0.3159475 , -0.3189079 , -0.35037312, -0.20204079, -0.20372489,\n",
      "        -0.24398518, -0.23241375, -0.21744066, -0.32959485, -0.30678505,\n",
      "        -0.31939754, -0.29746   , -0.23709415, -0.31888658, -0.3755957 ,\n",
      "        -0.22614667, -0.39500397, -0.16812833, -0.33924   , -0.2038097 ,\n",
      "        -0.29601684, -0.34201977, -0.32837605, -0.41656533, -0.25456816,\n",
      "        -0.2707483 , -0.2223402 , -0.24857014, -0.2577465 , -0.2421843 ,\n",
      "        -0.21391447, -0.27959162, -0.34871235, -0.19845484, -0.31930846,\n",
      "        -0.2413241 , -0.3225132 , -0.36845377, -0.38573143, -0.28896296,\n",
      "        -0.3755877 , -0.23267595, -0.26176438, -0.31841445, -0.34972873,\n",
      "        -0.3023072 , -0.2926043 , -0.38488877, -0.36100814, -0.2879882 ,\n",
      "        -0.28437927, -0.24314275, -0.26724318, -0.29851276, -0.3201087 ,\n",
      "        -0.42197767, -0.23324291, -0.12701952, -0.3064719 , -0.30274245,\n",
      "        -0.27787516, -0.27190968, -0.32785046, -0.29486153, -0.31042662,\n",
      "        -0.2943573 , -0.3355237 , -0.33671874, -0.35042313, -0.3408627 ,\n",
      "        -0.28797108, -0.31094736, -0.34101206, -0.27360305, -0.1555687 ,\n",
      "        -0.16532333, -0.20476873, -0.3123036 , -0.28149223, -0.18678762,\n",
      "        -0.33270347, -0.3123468 , -0.3427801 , -0.3033916 , -0.35922143,\n",
      "        -0.24877214, -0.36430767, -0.2750978 , -0.20929208, -0.32001212,\n",
      "        -0.24926138, -0.3487679 , -0.36700457, -0.29395804, -0.35267836],\n",
      "       [ 1.8744421 ,  1.4592446 ,  2.678794  ,  2.6211967 ,  3.2028334 ,\n",
      "         2.8077826 ,  2.8332155 ,  3.1144462 ,  1.7956197 ,  1.8093612 ,\n",
      "         2.1676643 ,  2.0662146 ,  1.9325689 ,  2.9311702 ,  2.7268593 ,\n",
      "         2.8365703 ,  2.6454797 ,  2.1090977 ,  2.8332472 ,  3.3429081 ,\n",
      "         2.010468  ,  3.5079947 ,  1.494871  ,  3.0174928 ,  1.8111113 ,\n",
      "         2.6313403 ,  3.0423696 ,  2.9176707 ,  3.7037084 ,  2.2605753 ,\n",
      "         2.4071057 ,  1.974239  ,  2.210853  ,  2.2937648 ,  2.1518028 ,\n",
      "         1.9026283 ,  2.484722  ,  3.1023977 ,  1.7646602 ,  2.8365867 ,\n",
      "         2.1453571 ,  2.8699872 ,  3.2756948 ,  3.42939   ,  2.569606  ,\n",
      "         3.337157  ,  2.0688164 ,  2.3260512 ,  2.832278  ,  3.104468  ,\n",
      "         2.6889596 ,  2.6026068 ,  3.4218667 ,  3.205061  ,  2.5602481 ,\n",
      "         2.5308754 ,  2.161057  ,  2.3748698 ,  2.6511807 ,  2.8467193 ,\n",
      "         3.7506633 ,  2.0725262 ,  1.1298236 ,  2.7269046 ,  2.690126  ,\n",
      "         2.4697876 ,  2.417463  ,  2.9169343 ,  2.6186233 ,  2.7600741 ,\n",
      "         2.6171196 ,  2.9841583 ,  2.9935265 ,  3.1169589 ,  3.028836  ,\n",
      "         2.5609303 ,  2.7615645 ,  3.031804  ,  2.431904  ,  1.3827407 ,\n",
      "         1.4683156 ,  1.8220894 ,  2.7750247 ,  2.503085  ,  1.659392  ,\n",
      "         2.9605174 ,  2.775914  ,  3.0467765 ,  2.698339  ,  3.1905775 ,\n",
      "         2.212328  ,  3.2363794 ,  2.4446268 ,  1.8603653 ,  2.8452876 ,\n",
      "         2.215732  ,  3.1034124 ,  3.2616003 ,  2.6134958 ,  3.1354978 ],\n",
      "       [-0.22153953, -0.17251898, -0.31648105, -0.30942363, -0.37783024,\n",
      "        -0.33190578, -0.33482298, -0.36782944, -0.21210088, -0.21366814,\n",
      "        -0.25587013, -0.24403253, -0.22860213, -0.34620273, -0.32184982,\n",
      "        -0.3350457 , -0.31230542, -0.24920987, -0.33486405, -0.3946972 ,\n",
      "        -0.2376744 , -0.41467193, -0.17668062, -0.35601205, -0.21390866,\n",
      "        -0.31089956, -0.35929707, -0.34492713, -0.43754426, -0.26723602,\n",
      "        -0.28424177, -0.23332673, -0.26110244, -0.2708485 , -0.2540443 ,\n",
      "        -0.22450466, -0.29329363, -0.36643755, -0.20832677, -0.33498797,\n",
      "        -0.25318754, -0.33857667, -0.3867613 , -0.40458393, -0.3033458 ,\n",
      "        -0.39469966, -0.24429572, -0.27464822, -0.33441067, -0.36692214,\n",
      "        -0.31769103, -0.30741948, -0.40411907, -0.37893966, -0.30232117,\n",
      "        -0.2986754 , -0.2554895 , -0.28062162, -0.3130453 , -0.33618185,\n",
      "        -0.44335508, -0.24485949, -0.13350365, -0.321874  , -0.31808302,\n",
      "        -0.29157177, -0.28585318, -0.3445465 , -0.3093258 , -0.32564306,\n",
      "        -0.30920675, -0.35218698, -0.3539196 , -0.3681799 , -0.3576147 ,\n",
      "        -0.30264583, -0.32651454, -0.3577841 , -0.2871734 , -0.16350986,\n",
      "        -0.17346342, -0.21524687, -0.32775772, -0.29562265, -0.19597976,\n",
      "        -0.34980687, -0.32786828, -0.3595672 , -0.31840983, -0.37715444,\n",
      "        -0.26121786, -0.38256487, -0.28858596, -0.21992171, -0.33602175,\n",
      "        -0.26171035, -0.3664865 , -0.38563845, -0.30875102, -0.370216  ],\n",
      "       [-0.20126602, -0.15654916, -0.28727084, -0.2809894 , -0.3434595 ,\n",
      "        -0.3011902 , -0.30413327, -0.3339937 , -0.1925766 , -0.19405887,\n",
      "        -0.2325511 , -0.22162658, -0.20744814, -0.3143161 , -0.29234073,\n",
      "        -0.30423278, -0.2836572 , -0.22623971, -0.3041163 , -0.35800743,\n",
      "        -0.21557523, -0.37625867, -0.16039316, -0.32337245, -0.1941613 ,\n",
      "        -0.28203547, -0.32615298, -0.31305122, -0.3971177 , -0.24243549,\n",
      "        -0.25826088, -0.21192752, -0.23709284, -0.24603447, -0.23075594,\n",
      "        -0.20403099, -0.26651928, -0.33269444, -0.18904258, -0.3041588 ,\n",
      "        -0.22992623, -0.30770928, -0.3512831 , -0.36739144, -0.2754672 ,\n",
      "        -0.3579766 , -0.22192065, -0.24948888, -0.30360785, -0.33289078,\n",
      "        -0.28820422, -0.27907985, -0.36690634, -0.34368023, -0.27468684,\n",
      "        -0.27121088, -0.231807  , -0.2548229 , -0.28443494, -0.30528557,\n",
      "        -0.4025424 , -0.22206905, -0.12118803, -0.29228246, -0.2886706 ,\n",
      "        -0.2648155 , -0.25940648, -0.3129323 , -0.28088748, -0.2958857 ,\n",
      "        -0.2807962 , -0.3200082 , -0.32099858, -0.3340451 , -0.324939  ,\n",
      "        -0.2747159 , -0.29630587, -0.32510802, -0.2606149 , -0.14842725,\n",
      "        -0.15748164, -0.1952463 , -0.29761738, -0.26838055, -0.17799492,\n",
      "        -0.31732264, -0.29775155, -0.32676888, -0.28924865, -0.3422227 ,\n",
      "        -0.23727891, -0.34712967, -0.262037  , -0.19957428, -0.30487353,\n",
      "        -0.23732863, -0.33274767, -0.35007784, -0.28025734, -0.3363052 ],\n",
      "       [-0.27253193, -0.21207456, -0.38923272, -0.38071382, -0.4648752 ,\n",
      "        -0.4080172 , -0.41167223, -0.45231602, -0.2610157 , -0.2628929 ,\n",
      "        -0.31475684, -0.30029467, -0.28077543, -0.4255622 , -0.39632013,\n",
      "        -0.4125168 , -0.3842609 , -0.30634665, -0.4123883 , -0.48579356,\n",
      "        -0.29230157, -0.5098249 , -0.21724238, -0.4380554 , -0.26341286,\n",
      "        -0.38242036, -0.44164333, -0.42394924, -0.5378944 , -0.32883468,\n",
      "        -0.3497825 , -0.28706706, -0.3212305 , -0.33311063, -0.31274575,\n",
      "        -0.27635348, -0.36116278, -0.450351  , -0.25634688, -0.4124559 ,\n",
      "        -0.31160071, -0.4165601 , -0.4758771 , -0.4983739 , -0.37340063,\n",
      "        -0.48491764, -0.30053058, -0.33797106, -0.41127712, -0.4517054 ,\n",
      "        -0.39098662, -0.37835544, -0.497096  , -0.46620375, -0.37194836,\n",
      "        -0.3677058 , -0.3143819 , -0.34510323, -0.38561052, -0.4134288 ,\n",
      "        -0.5450906 , -0.30104   , -0.16418144, -0.39625484, -0.39134958,\n",
      "        -0.35910597, -0.35153535, -0.4236411 , -0.3807835 , -0.40060404,\n",
      "        -0.38055223, -0.43300983, -0.43488833, -0.45234433, -0.43982488,\n",
      "        -0.37222874, -0.4016447 , -0.44019115, -0.35347125, -0.20107542,\n",
      "        -0.2136083 , -0.26460254, -0.4035493 , -0.363417  , -0.24128215,\n",
      "        -0.43027908, -0.40356827, -0.44289288, -0.39167085, -0.46345183,\n",
      "        -0.3216815 , -0.47026634, -0.35516742, -0.2706334 , -0.41297126,\n",
      "        -0.3217653 , -0.45055056, -0.47383687, -0.37957883, -0.45571873],\n",
      "       [-0.1709884 , -0.13314062, -0.24414551, -0.23923463, -0.29198545,\n",
      "        -0.2562485 , -0.25844884, -0.28410205, -0.16379295, -0.16519567,\n",
      "        -0.19767329, -0.18849848, -0.1763053 , -0.26724043, -0.24855843,\n",
      "        -0.2589681 , -0.241224  , -0.19230184, -0.258449  , -0.30484426,\n",
      "        -0.18339826, -0.3199924 , -0.13637133, -0.27518228, -0.16528724,\n",
      "        -0.24012735, -0.2771894 , -0.26623175, -0.3377129 , -0.20638892,\n",
      "        -0.21958184, -0.18022485, -0.20169316, -0.209125  , -0.19633596,\n",
      "        -0.17342962, -0.22674516, -0.28290883, -0.16084214, -0.25893268,\n",
      "        -0.19566558, -0.26170057, -0.2986094 , -0.31271544, -0.23423932,\n",
      "        -0.3045243 , -0.18863189, -0.21201351, -0.25826806, -0.2833536 ,\n",
      "        -0.24547702, -0.23742245, -0.3121835 , -0.29248056, -0.2334219 ,\n",
      "        -0.23065718, -0.19735825, -0.21649922, -0.2420495 , -0.25978112,\n",
      "        -0.34245694, -0.18910736, -0.10308163, -0.24845625, -0.24564841,\n",
      "        -0.22520234, -0.22067338, -0.26608792, -0.23877989, -0.25178847,\n",
      "        -0.23857771, -0.27178165, -0.27324554, -0.2841288 , -0.27621534,\n",
      "        -0.23382664, -0.25197396, -0.2763609 , -0.22166817, -0.12608935,\n",
      "        -0.13401388, -0.16614358, -0.25304538, -0.22809473, -0.15135609,\n",
      "        -0.26985723, -0.2530865 , -0.27779835, -0.24590397, -0.29123157,\n",
      "        -0.20192535, -0.29505253, -0.22270155, -0.16979963, -0.25917155,\n",
      "        -0.20195276, -0.28297272, -0.2976871 , -0.23851144, -0.28593516]],\n",
      "      dtype=float32)]\n",
      "Gradient of Cost (error function) wrt biases:\n",
      " [array([-6.16924046e-03,  5.31655475e-02, -4.26950306e-02, -6.57409132e-02,\n",
      "        9.84650254e-02, -8.59614983e-02, -4.20200787e-02, -2.99430247e-02,\n",
      "       -1.41852945e-02, -2.19198107e-03,  3.62877324e-02, -2.90692225e-02,\n",
      "       -3.61031555e-02, -5.20700887e-02,  5.12359217e-02, -9.02808551e-03,\n",
      "        4.58156988e-02,  1.03576714e-02, -3.82995009e-02, -8.69716331e-03,\n",
      "        7.49034733e-02,  7.95651525e-02, -3.77487391e-02, -1.44602843e-02,\n",
      "        1.68706737e-02,  6.27590194e-02, -2.98266187e-02,  4.78119366e-02,\n",
      "       -5.27238287e-02, -2.27159597e-02,  8.03232193e-02,  4.24589328e-02,\n",
      "       -1.60134546e-02,  1.11356284e-03, -1.23957247e-02, -4.20050025e-02,\n",
      "       -2.99466844e-03, -1.06751220e-02, -6.92353100e-02, -5.36185503e-02,\n",
      "        4.31137420e-02, -3.74541618e-02, -7.31945643e-03,  8.49554092e-02,\n",
      "        1.30734900e-02,  2.71516033e-02,  9.47315060e-03, -3.43160592e-02,\n",
      "       -2.91694049e-03, -1.06299551e-04, -6.74817190e-02,  4.26185690e-02,\n",
      "        1.56054035e-01, -2.06636474e-03, -2.99154520e-02,  5.20881265e-02,\n",
      "       -2.11887527e-02, -2.70329416e-02,  1.37023292e-02, -2.55102273e-02,\n",
      "        1.05075687e-02, -1.63120348e-02, -3.89470044e-03, -3.93303409e-02,\n",
      "       -3.43361916e-03, -6.16683476e-02,  3.06249838e-02, -3.15318964e-02,\n",
      "       -3.86794470e-02, -1.78345311e-02, -7.62594398e-04,  1.45316601e-03,\n",
      "       -7.10043311e-02,  2.49408409e-02,  6.67862147e-02,  1.05563700e-02,\n",
      "       -4.17701378e-02,  1.04875773e-01,  1.02324925e-01, -5.31842634e-02,\n",
      "       -3.81210856e-02, -4.57016751e-03,  1.41216606e-01, -2.42430717e-02,\n",
      "        6.63392991e-02,  1.66952256e-02,  6.29568249e-02,  2.01237109e-02,\n",
      "        2.27042288e-03,  6.59375712e-02, -7.21370801e-02, -2.02881303e-02,\n",
      "       -6.14546649e-02,  1.99546143e-02,  3.70554021e-03,  1.53672323e-02,\n",
      "       -1.17067829e-01,  3.54051180e-02, -5.80414496e-02, -1.19066220e-02],\n",
      "      dtype=float32), array([ 0.1734301 , -0.14185971, -0.06886181,  0.29301333,  0.26101312,\n",
      "        0.2986054 , -0.18440406, -0.11299013,  0.25811276, -0.20560959,\n",
      "        0.1681471 ,  0.06392296,  0.33965048,  0.25750944,  0.20913723,\n",
      "       -0.00497748, -0.1570189 , -0.06347919,  0.10864121, -0.05160613,\n",
      "        0.04067241,  0.07558789,  0.2476768 ,  0.21095769, -0.15853004,\n",
      "        0.09331138,  0.002756  , -0.20474173,  0.20024167,  0.19778195,\n",
      "        0.21715209, -0.16596703,  0.21387851,  0.11039815, -0.28604615,\n",
      "        0.06838277, -0.14087129,  0.24044873, -0.03219567,  0.03003747,\n",
      "        0.03993739, -0.013861  ,  0.24691123, -0.09027522, -0.09922899,\n",
      "       -0.19930728,  0.22374602,  0.26279667,  0.21388298,  0.09468305,\n",
      "        0.31094754,  0.18771334,  0.12426343,  0.21545848, -0.05155179,\n",
      "       -0.31836566, -0.21456558,  0.2010805 , -0.05359396, -0.27956694,\n",
      "       -0.2708953 ,  0.07957033, -0.00620785,  0.21216118,  0.08243395,\n",
      "        0.18689759, -0.10327681,  0.25013888,  0.08670702, -0.13312452,\n",
      "        0.2862261 , -0.06184983, -0.18684685,  0.03762922, -0.15885682,\n",
      "        0.14125238,  0.1680318 , -0.22528043,  0.04269235,  0.20448513,\n",
      "       -0.2518909 , -0.16244867, -0.22506036,  0.04249208, -0.0790645 ,\n",
      "        0.3146855 ,  0.10457831, -0.22340614, -0.07776318,  0.09554579,\n",
      "       -0.10323009,  0.16779321,  0.32053885,  0.22638431, -0.10756972,\n",
      "        0.25298986,  0.36057383,  0.02746601,  0.09074441,  0.18025571],\n",
      "      dtype=float32), array([-0.6483475 , -0.5935437 , -0.68891364, -0.27597278, -0.5829442 ,\n",
      "        5.18055   , -0.6118503 , -0.5559482 , -0.75344586, -0.47310615],\n",
      "      dtype=float32)]\n"
     ]
    }
   ],
   "source": [
    "# Get the derivative of the output cost function wrt to the output vector of the output layer\n",
    "# The input arguments should always be an array\n",
    "dc_daL = MSE_loss_grad(a[nLayers], outputs)/batchSize\n",
    "print('Gradient of the error function wrt to the predicted output of the output layer\\n',dc_daL)\n",
    "\n",
    "# Perform Back Propagation and get the derivatives wrt the weights and biases\n",
    "derWeights, derBiases, weights, biases = back_propagation(z, a, activation_func_names, nLayers, batchSize, weightsOriginal, biasesOriginal, eeta, dc_daL)\n",
    "print('Gradient of Cost (error function) wrt weights:\\n',derWeights)\n",
    "print('Gradient of Cost (error function) wrt biases:\\n',derBiases)"
   ]
  },
  {
   "cell_type": "markdown",
   "id": "343fa3ab",
   "metadata": {},
   "source": [
    "## Gradient descent (update the weights and biases)"
   ]
  },
  {
   "cell_type": "code",
   "execution_count": 62,
   "id": "f335f47d",
   "metadata": {},
   "outputs": [
    {
     "name": "stdout",
     "output_type": "stream",
     "text": [
      "New Weights:  [array([[ 0.02373199,  0.06501773,  0.00963667, ...,  0.07136649,\n",
      "         0.07366648,  0.06072327],\n",
      "       [ 0.01219483, -0.03852237, -0.02522662, ...,  0.00839791,\n",
      "         0.02882931, -0.02697099],\n",
      "       [-0.04453482,  0.04081501,  0.06168392, ..., -0.07521024,\n",
      "        -0.07783584, -0.04626021],\n",
      "       ...,\n",
      "       [ 0.04521132,  0.02471351,  0.08199292, ...,  0.01401173,\n",
      "         0.01705167,  0.02460935],\n",
      "       [ 0.03843577, -0.01651178,  0.0672223 , ..., -0.04010017,\n",
      "        -0.05228949, -0.05804866],\n",
      "       [ 0.04478885,  0.06722353,  0.05125107, ..., -0.0422526 ,\n",
      "        -0.00634421,  0.02303252]], dtype=float32), array([[-0.1757492 , -0.0830328 ,  0.09697118, ..., -0.00278106,\n",
      "         0.11216642,  0.08225575],\n",
      "       [ 0.19816373,  0.09530698, -0.10715379, ..., -0.13540612,\n",
      "         0.07262486, -0.06681354],\n",
      "       [ 0.1515485 ,  0.045678  , -0.14236143, ..., -0.01950732,\n",
      "         0.03837905,  0.02565682],\n",
      "       ...,\n",
      "       [-0.02058016,  0.12146407, -0.10280662, ...,  0.01588539,\n",
      "        -0.06821591,  0.06969109],\n",
      "       [-0.14953227,  0.11061051,  0.01083421, ..., -0.07806691,\n",
      "        -0.17868862, -0.06486227],\n",
      "       [-0.10436765, -0.1066794 , -0.12198186, ...,  0.03064806,\n",
      "        -0.21660708,  0.01075465]], dtype=float32), array([[ 3.16176385e-01,  4.08987179e-02,  4.91643324e-02,\n",
      "         7.00539947e-02,  7.23989904e-02,  5.69633543e-02,\n",
      "        -3.51557136e-02,  5.34571707e-03,  1.64879918e-01,\n",
      "        -1.14611588e-01,  1.71980724e-01,  1.03770480e-01,\n",
      "        -5.90209365e-02, -6.29906356e-03,  2.25974903e-01,\n",
      "         3.50789428e-01,  1.05809584e-01,  2.73485541e-01,\n",
      "        -1.14859939e-02,  3.80988061e-01,  1.09671786e-01,\n",
      "         4.39982772e-01,  4.46458682e-02,  1.05453953e-01,\n",
      "        -6.90303221e-02,  3.80358458e-01,  1.95406005e-01,\n",
      "         2.40207642e-01,  7.94810951e-02, -2.82518417e-02,\n",
      "         3.72908920e-01,  1.17535204e-01,  1.36053532e-01,\n",
      "         1.37147382e-01,  1.75257683e-01,  1.69300184e-01,\n",
      "        -6.30991459e-02,  1.46296680e-01,  1.02311969e-02,\n",
      "         1.21606588e-01,  9.85056758e-02,  9.60996151e-02,\n",
      "         2.30944693e-01,  2.69444704e-01,  2.23591983e-01,\n",
      "         2.04546079e-01,  2.49446779e-01, -2.88735181e-02,\n",
      "        -1.44121647e-02, -2.71245092e-02,  3.35083485e-01,\n",
      "         3.25019419e-01,  2.03316674e-01,  3.45701277e-01,\n",
      "         1.02532178e-01,  4.93370891e-02,  7.39677399e-02,\n",
      "         1.60347074e-02,  1.95028588e-01,  3.58004630e-01,\n",
      "         4.56513226e-01,  2.19949245e-01, -1.93703175e-02,\n",
      "         2.07657591e-01,  1.18713528e-02,  3.87260914e-01,\n",
      "         1.37922540e-01, -3.77588868e-02,  2.66274869e-01,\n",
      "         3.46192420e-01, -3.93814147e-02,  1.57568187e-01,\n",
      "         4.70055640e-02,  4.08519357e-02,  2.24699095e-01,\n",
      "         3.64518195e-01,  3.28001380e-01,  3.20911527e-01,\n",
      "         1.67624265e-01,  2.04664528e-01,  1.47261441e-01,\n",
      "         2.64357805e-01,  3.12714100e-01, -2.31374800e-02,\n",
      "         2.72203803e-01,  3.13898504e-01,  1.89084172e-01,\n",
      "         1.79027274e-01,  3.17969978e-01,  4.19087410e-01,\n",
      "         3.07729155e-01,  3.38142633e-01,  3.56474519e-01,\n",
      "         1.72754318e-01,  2.30436146e-01,  6.64131939e-02,\n",
      "         6.68459386e-02,  3.37824583e-01,  2.15555876e-01,\n",
      "         1.59107149e-03],\n",
      "       [ 2.37722278e-01, -9.12726745e-02,  2.36637443e-02,\n",
      "         3.02570760e-01, -1.65160745e-02,  1.18118465e-01,\n",
      "         3.64357084e-01, -3.59386206e-03,  1.73459277e-01,\n",
      "         2.39070520e-01,  2.10473895e-01, -8.04379284e-02,\n",
      "         2.27993786e-01,  1.33965343e-01,  5.47430366e-02,\n",
      "         2.25001082e-01,  3.71051073e-01, -4.25939709e-02,\n",
      "         1.99586287e-01,  5.92184067e-02,  4.98047918e-02,\n",
      "        -2.38646865e-02, -6.44921884e-02,  2.71087497e-01,\n",
      "        -7.26664588e-02,  1.16008222e-02,  3.36805791e-01,\n",
      "         2.17854917e-01,  4.12397563e-01,  3.41126531e-01,\n",
      "         6.45477474e-02,  1.41728893e-01,  4.29852754e-02,\n",
      "         3.23701620e-01,  7.08523318e-02,  1.66785598e-01,\n",
      "         2.72100955e-01,  1.65651307e-01,  1.78300872e-01,\n",
      "         1.50389984e-01,  2.27668762e-01,  1.55464604e-01,\n",
      "         1.18613675e-01,  2.97471106e-01,  2.23441079e-01,\n",
      "         1.22631803e-01,  1.61826491e-01,  2.31401920e-02,\n",
      "         9.91903096e-02,  3.96284938e-01,  2.32119635e-01,\n",
      "         1.75179973e-01,  3.21321130e-01,  1.16236284e-01,\n",
      "         1.19091898e-01,  3.44438434e-01, -1.08456030e-01,\n",
      "         2.91653752e-01,  2.77647197e-01,  1.73400044e-02,\n",
      "         4.96570468e-02,  1.67371064e-01,  1.09206222e-01,\n",
      "         1.73466504e-02,  2.42147207e-01,  1.26968354e-01,\n",
      "         3.23610187e-01,  3.59647810e-01, -7.76146948e-02,\n",
      "         2.11176008e-01,  3.60264599e-01,  3.91484678e-01,\n",
      "         2.21352249e-01,  3.40105444e-01,  5.60276136e-02,\n",
      "         1.85046062e-01,  1.91026568e-01, -1.93820447e-02,\n",
      "         7.44291991e-02, -1.16800226e-01, -1.01970755e-01,\n",
      "         7.74831250e-02,  3.51316959e-01, -8.41599405e-02,\n",
      "         1.20591953e-01, -8.55028629e-05,  5.18195778e-02,\n",
      "         3.70317549e-02,  2.49318108e-01, -4.12448198e-02,\n",
      "         2.60817170e-01,  2.82504678e-01,  1.17585093e-01,\n",
      "         7.72702992e-02,  1.20227143e-01, -1.50057375e-02,\n",
      "         1.45237803e-01,  3.75283986e-01,  3.76252756e-02,\n",
      "         1.64062276e-01],\n",
      "       [ 3.35267782e-02, -4.55714315e-02, -3.59766185e-02,\n",
      "        -3.54318321e-02,  1.85928002e-01,  1.19186848e-01,\n",
      "         2.23189905e-01,  9.63317975e-02,  8.39545876e-02,\n",
      "         1.97142527e-01,  2.55697966e-01,  4.68671322e-03,\n",
      "         2.89310813e-02,  7.49660656e-02,  5.58087081e-02,\n",
      "         7.29290098e-02,  3.83469284e-01,  2.53643811e-01,\n",
      "         3.44794214e-01, -3.29144299e-03,  2.45424598e-01,\n",
      "         1.35686189e-01, -8.77549127e-02,  9.33474302e-02,\n",
      "        -5.21485209e-02,  3.28493297e-01,  2.87192374e-01,\n",
      "         9.66274440e-02,  3.33955675e-01,  2.68796474e-01,\n",
      "         2.36728489e-01,  1.32924095e-01,  3.51235628e-01,\n",
      "         8.71951878e-02,  3.68406892e-01,  3.22178990e-01,\n",
      "         2.84599006e-01,  4.08110976e-01,  8.56565163e-02,\n",
      "         8.77573937e-02,  8.45575929e-02,  3.21549594e-01,\n",
      "         2.47880623e-01,  3.80290747e-01,  8.00272822e-03,\n",
      "         4.49672282e-01,  3.39111447e-01,  1.18423328e-01,\n",
      "         2.91550875e-01,  4.34006155e-01,  2.10769087e-01,\n",
      "         3.88463557e-01,  2.56463706e-01,  1.23501897e-01,\n",
      "         2.55784661e-01,  2.37378433e-01,  1.95604533e-01,\n",
      "         1.31124556e-01,  2.21534967e-01,  4.43310291e-02,\n",
      "         3.46747518e-01,  3.13770592e-01,  9.32677686e-02,\n",
      "         2.53800035e-01,  4.08039510e-01,  7.72352219e-02,\n",
      "         2.52479523e-01,  1.42702550e-01,  3.36117446e-02,\n",
      "         2.63442099e-03,  3.09601665e-01,  4.03090358e-01,\n",
      "         2.80643761e-01,  9.57207978e-02,  1.12221465e-01,\n",
      "         2.33349815e-01,  2.12535471e-01,  1.60953611e-01,\n",
      "         5.63474894e-02,  3.54945809e-02,  9.13259089e-02,\n",
      "         4.63988632e-03,  1.92271471e-01,  3.41518462e-01,\n",
      "        -7.31407851e-02,  1.15323007e-01,  2.67758101e-01,\n",
      "         2.17342228e-01,  2.90424794e-01,  8.82168561e-02,\n",
      "         2.71862149e-01,  3.71404946e-01,  1.28938347e-01,\n",
      "        -1.58189386e-02,  3.14410567e-01, -1.21966898e-02,\n",
      "        -8.08238983e-03,  2.25396901e-01, -2.83905119e-02,\n",
      "        -1.46634132e-02],\n",
      "       [-1.28032714e-01,  1.02789521e-01, -8.01829249e-03,\n",
      "         1.21230058e-01,  1.12872601e-01,  2.43713230e-01,\n",
      "         1.26146853e-01,  4.71616387e-02, -1.82566717e-01,\n",
      "         1.10006556e-01, -7.58157894e-02, -9.09369439e-02,\n",
      "        -1.38302028e-01, -1.04983151e-03,  1.93871528e-01,\n",
      "         2.55262911e-01,  1.78396955e-01,  2.84960151e-01,\n",
      "        -1.40365183e-01,  9.32148099e-03,  2.33260959e-01,\n",
      "         1.35487169e-01,  9.06041116e-02, -1.37644440e-01,\n",
      "         7.06657171e-02,  1.14276946e-01, -2.83878520e-02,\n",
      "         1.51719213e-01, -1.15416668e-01, -7.61016086e-03,\n",
      "         1.03737943e-01, -1.45888671e-01,  1.61547855e-01,\n",
      "         1.42777756e-01, -7.86796659e-02, -4.60777469e-02,\n",
      "        -1.28331006e-01, -2.50023454e-02,  2.74736017e-01,\n",
      "         1.31703198e-01, -1.87532306e-02,  1.24120563e-01,\n",
      "        -8.56917351e-02,  2.46700123e-01,  2.59685010e-01,\n",
      "        -1.27905130e-01,  2.12928429e-02, -1.52186334e-01,\n",
      "         1.83615655e-01,  2.46079877e-01,  1.19935177e-01,\n",
      "         1.50908366e-01,  2.98941061e-02,  1.56073108e-01,\n",
      "        -1.03730597e-01, -2.57033482e-02,  2.30665803e-02,\n",
      "        -1.09724827e-01,  2.27351561e-01,  5.58476299e-02,\n",
      "        -1.18171237e-01,  4.21647206e-02,  1.77939832e-01,\n",
      "         2.95898378e-01,  4.40109670e-02,  9.05557871e-02,\n",
      "        -6.86676353e-02,  5.57159260e-02, -1.25745922e-01,\n",
      "         2.34177649e-01,  1.07342482e-01, -2.66744420e-02,\n",
      "         1.44839466e-01,  3.07228267e-02,  3.11616480e-01,\n",
      "        -7.25095943e-02,  8.06347206e-02, -8.28757882e-02,\n",
      "         1.05324388e-03,  1.51083693e-02,  8.47712755e-02,\n",
      "         4.51091677e-04,  9.08716097e-02,  1.81801617e-01,\n",
      "         2.70774841e-01,  3.98816019e-02, -1.01843886e-01,\n",
      "         4.88415062e-02,  8.83566961e-02,  2.05077752e-02,\n",
      "         2.05485418e-01, -1.36089936e-01, -1.21586479e-01,\n",
      "         1.01847634e-01,  3.31765860e-02,  1.39181465e-01,\n",
      "        -1.45210296e-01,  1.77751839e-01,  2.40863711e-02,\n",
      "         2.36242205e-01],\n",
      "       [-1.03498049e-01,  2.31560767e-01,  3.83091688e-01,\n",
      "         2.98128933e-01,  3.16689938e-01,  3.24941814e-01,\n",
      "         2.64442861e-01,  2.25864395e-01,  1.30129248e-01,\n",
      "        -1.25213340e-02,  3.46023291e-01,  2.50809222e-01,\n",
      "         2.74319679e-01,  1.90642267e-01,  4.70513701e-02,\n",
      "         3.84102345e-01,  2.37820283e-01,  1.59144461e-01,\n",
      "         2.43055701e-01,  3.42964321e-01,  1.39342830e-01,\n",
      "         2.09359676e-02,  8.25779960e-02,  3.43829393e-03,\n",
      "         1.53159380e-01,  5.20853698e-03,  9.34567451e-02,\n",
      "         5.02086729e-02,  3.04377824e-02, -7.39651918e-02,\n",
      "        -9.08608735e-03,  4.16913778e-02, -8.48535299e-02,\n",
      "         2.16880783e-01, -2.54506096e-02,  1.99730247e-01,\n",
      "         3.14060539e-01,  3.17350864e-01,  6.31200001e-02,\n",
      "         1.95888162e-01,  6.67065680e-02,  1.53641000e-01,\n",
      "         1.40040532e-01,  3.06404531e-01, -8.60564411e-02,\n",
      "         2.71070898e-01, -7.55947605e-02,  1.90005675e-02,\n",
      "         6.00887686e-02,  4.04246271e-01,  5.71871251e-02,\n",
      "        -3.87410969e-02,  4.26839590e-02,  1.69318110e-01,\n",
      "         3.28829855e-01,  5.82192987e-02,  2.42058977e-01,\n",
      "         7.64729977e-02,  1.93707108e-01, -3.26323211e-02,\n",
      "         2.49176845e-01,  2.69053310e-01,  1.30832672e-01,\n",
      "         1.07742846e-01, -8.14062506e-02,  2.69161880e-01,\n",
      "         2.84837008e-01,  6.12677038e-02,  1.78585663e-01,\n",
      "         2.45522663e-01,  2.20784128e-01,  2.19015941e-01,\n",
      "         1.85669750e-01,  3.09318423e-01,  3.64893198e-01,\n",
      "         2.38943160e-01,  3.02577585e-01,  2.05984026e-01,\n",
      "         4.68623489e-02, -5.31355292e-03,  2.01391727e-01,\n",
      "        -1.93043798e-03,  2.04090387e-01,  4.35602963e-02,\n",
      "         1.98989689e-01, -6.37615025e-02, -2.54487246e-02,\n",
      "         6.27611279e-02,  4.77181524e-02,  7.80759156e-02,\n",
      "         6.27253503e-02,  3.89424086e-01,  4.63789105e-02,\n",
      "        -6.17427677e-02,  1.48368508e-01,  3.39702070e-02,\n",
      "         2.31785849e-01,  2.02787519e-02,  3.12960386e-01,\n",
      "         2.78099597e-01],\n",
      "       [-8.20027828e-01, -8.56471241e-01, -1.46385074e+00,\n",
      "        -1.14025676e+00, -1.42644310e+00, -1.17431784e+00,\n",
      "        -1.52519333e+00, -1.71105444e+00, -6.94393992e-01,\n",
      "        -1.05065882e+00, -8.95114839e-01, -1.00680625e+00,\n",
      "        -7.43330061e-01, -1.28197825e+00, -1.23586583e+00,\n",
      "        -1.32137895e+00, -1.37451541e+00, -1.06419122e+00,\n",
      "        -1.38573682e+00, -1.69251764e+00, -9.44182575e-01,\n",
      "        -1.68510318e+00, -5.66161752e-01, -1.34604025e+00,\n",
      "        -1.07261884e+00, -1.18709397e+00, -1.49519897e+00,\n",
      "        -1.57939923e+00, -1.69735670e+00, -1.01512802e+00,\n",
      "        -1.04800940e+00, -1.13415074e+00, -8.94320369e-01,\n",
      "        -1.01953113e+00, -1.24341142e+00, -8.25274825e-01,\n",
      "        -1.37564051e+00, -1.36708426e+00, -9.66935277e-01,\n",
      "        -1.44019568e+00, -1.04262042e+00, -1.36603940e+00,\n",
      "        -1.41168880e+00, -1.69138205e+00, -1.39616609e+00,\n",
      "        -1.79677582e+00, -8.77456367e-01, -1.04640090e+00,\n",
      "        -1.29050326e+00, -1.40582466e+00, -1.11491144e+00,\n",
      "        -1.09042585e+00, -1.63094187e+00, -1.42857468e+00,\n",
      "        -1.32004261e+00, -1.49206185e+00, -1.21687698e+00,\n",
      "        -1.03398252e+00, -1.28964758e+00, -1.62596738e+00,\n",
      "        -2.09890962e+00, -9.10984695e-01, -5.54939866e-01,\n",
      "        -1.22137678e+00, -1.28831303e+00, -1.05427742e+00,\n",
      "        -1.22009742e+00, -1.28053164e+00, -1.28090334e+00,\n",
      "        -1.46381593e+00, -1.07598805e+00, -1.51233208e+00,\n",
      "        -1.66280317e+00, -1.46163630e+00, -1.66488767e+00,\n",
      "        -1.13850904e+00, -1.23955786e+00, -1.73342669e+00,\n",
      "        -1.20474982e+00, -5.18309712e-01, -9.65458810e-01,\n",
      "        -1.03215027e+00, -1.46609724e+00, -1.23091495e+00,\n",
      "        -9.06529605e-01, -1.26554751e+00, -1.38722527e+00,\n",
      "        -1.71039057e+00, -1.42303336e+00, -1.53165829e+00,\n",
      "        -1.12092769e+00, -1.41612375e+00, -1.00876439e+00,\n",
      "        -7.05914795e-01, -1.46327221e+00, -9.75544930e-01,\n",
      "        -1.38722289e+00, -1.60225654e+00, -1.21741211e+00,\n",
      "        -1.46944416e+00],\n",
      "       [ 1.30243078e-01,  2.78548211e-01,  2.36092806e-02,\n",
      "        -6.36070073e-02,  1.79124400e-01,  3.31859142e-01,\n",
      "         1.38340220e-01, -4.55732495e-02, -7.39278123e-02,\n",
      "         5.39932996e-02,  1.98175296e-01,  1.34160355e-01,\n",
      "         2.27421284e-01,  7.12409317e-02,  3.80184114e-01,\n",
      "         3.68443489e-01,  2.92613089e-01,  6.24073818e-02,\n",
      "         6.68336451e-02,  2.74795175e-01,  2.18492508e-01,\n",
      "         4.27722692e-01, -8.61223042e-02,  1.82791665e-01,\n",
      "         2.29280561e-01,  3.30930710e-01,  9.34410840e-02,\n",
      "         2.95552969e-01,  1.19981974e-01,  1.95683315e-02,\n",
      "         3.03122878e-01,  7.90174305e-02,  3.52074802e-01,\n",
      "         2.99831808e-01,  1.43466383e-01,  2.35111773e-01,\n",
      "         6.76734298e-02,  1.28856212e-01, -8.36063102e-02,\n",
      "         3.58434021e-03,  7.61350393e-02,  3.03177893e-01,\n",
      "         4.17645037e-01,  1.92246825e-01,  5.18325269e-02,\n",
      "         2.27612033e-01, -5.14640361e-02, -3.97890806e-03,\n",
      "         6.43772483e-02,  2.62814373e-01,  4.99108434e-03,\n",
      "         2.49609292e-01,  2.10654527e-01,  3.23149979e-01,\n",
      "         2.02336654e-01,  7.64694065e-02,  1.27505198e-01,\n",
      "        -4.15529162e-02,  3.08394253e-01,  2.58405447e-01,\n",
      "         3.11495781e-01, -9.22662020e-02,  2.29474202e-01,\n",
      "         5.54187596e-03,  1.63616553e-01,  1.20489597e-02,\n",
      "         1.74429163e-01,  1.27453446e-01,  1.96262211e-01,\n",
      "         1.30380690e-01,  1.20569512e-01,  1.16915375e-01,\n",
      "         1.28492445e-01,  2.77145147e-01,  3.80189419e-02,\n",
      "         1.47757173e-01, -3.41424495e-02,  5.15832007e-03,\n",
      "         1.60134226e-01, -2.12031677e-02, -6.00465760e-02,\n",
      "         3.26313496e-01,  3.75056505e-01,  2.47594565e-01,\n",
      "         1.09576918e-01,  2.29938224e-01,  4.73413244e-02,\n",
      "         9.40865427e-02, -6.77976161e-02,  2.87953675e-01,\n",
      "         4.57581431e-02,  4.18473005e-01,  1.44713774e-01,\n",
      "         1.13222629e-01,  3.21624398e-01,  1.50489360e-01,\n",
      "         7.97180235e-02,  3.02283525e-01,  3.71454418e-01,\n",
      "        -2.33204812e-02],\n",
      "       [ 4.82198894e-02,  1.29798174e-01,  2.50329942e-01,\n",
      "         7.36304522e-02,  1.56551898e-01,  2.34293938e-03,\n",
      "         2.28480741e-01,  2.32474223e-01,  2.57408291e-01,\n",
      "         2.38395050e-01,  1.77110493e-01,  9.77472067e-02,\n",
      "        -6.72139451e-02,  2.96199411e-01, -2.30894387e-02,\n",
      "         3.71030644e-02,  3.34518671e-01,  2.08377168e-01,\n",
      "        -6.17228746e-02, -3.89056206e-02,  1.10189714e-01,\n",
      "         2.37510711e-01,  2.51767725e-01,  9.30352807e-02,\n",
      "         2.67498136e-01,  2.34437972e-01,  3.40520501e-01,\n",
      "         2.90994376e-01,  9.82999653e-02,  4.40883487e-02,\n",
      "         1.25856698e-01,  1.51248783e-01,  1.94555283e-01,\n",
      "         7.36887604e-02,  2.92547584e-01,  2.53484249e-01,\n",
      "         4.92391288e-02,  2.11120084e-01,  1.01168849e-01,\n",
      "         9.60199088e-02,  8.91902149e-02,  2.78763980e-01,\n",
      "         2.66805351e-01,  3.79952550e-01, -6.58191741e-03,\n",
      "         3.79054725e-01,  1.80123627e-01,  3.36144343e-02,\n",
      "         4.04113606e-02, -6.59391433e-02,  2.09923670e-01,\n",
      "         3.67340118e-01,  2.44087875e-02, -4.89816368e-02,\n",
      "        -1.54999793e-02,  7.00211525e-03,  1.12236574e-01,\n",
      "         1.56245619e-01,  1.64568290e-01,  3.73977602e-01,\n",
      "         9.54087079e-02,  2.88297534e-01,  1.17452882e-01,\n",
      "        -8.55737180e-02, -4.85069603e-02,  1.39954418e-01,\n",
      "         2.91783750e-01,  1.08615607e-01,  1.66227281e-01,\n",
      "         1.01664275e-01,  6.53353035e-02,  3.79321650e-02,\n",
      "         2.50926256e-01,  3.15937549e-01,  2.52836943e-01,\n",
      "         9.24033374e-02,  2.77298868e-01,  3.30776691e-01,\n",
      "        -1.43719912e-02, -3.28383148e-02, -2.26400644e-02,\n",
      "         5.62882349e-02,  2.66337484e-01,  1.99439809e-01,\n",
      "        -1.15395658e-01,  2.48487130e-01,  7.42085278e-03,\n",
      "         1.53644100e-01, -4.11258638e-02,  9.83388871e-02,\n",
      "         1.79583535e-01,  1.47944942e-01,  2.06351295e-01,\n",
      "         3.20544928e-01, -2.17327923e-02,  3.44773754e-02,\n",
      "         1.61172748e-02,  2.02268913e-01,  1.00924075e-01,\n",
      "         3.21291059e-01],\n",
      "       [ 1.16023064e-01,  2.64430344e-01,  4.86250371e-02,\n",
      "         1.70519546e-01,  1.57744423e-01,  1.63055226e-01,\n",
      "         3.08164716e-01,  2.02109650e-01,  2.93789804e-02,\n",
      "         3.45765889e-01, -2.24119574e-02,  1.31700531e-01,\n",
      "        -8.33731890e-02,  3.98662657e-01,  9.57165360e-02,\n",
      "         3.59336555e-01,  3.64912748e-02,  3.03427726e-01,\n",
      "         9.65339243e-02,  4.40023065e-01,  1.55340582e-01,\n",
      "         2.79115885e-01, -2.17517838e-02,  4.30356801e-01,\n",
      "         1.61034778e-01,  1.94903553e-01,  3.12304318e-01,\n",
      "         3.00141543e-01,  4.29644257e-01,  9.92055237e-02,\n",
      "        -1.90116614e-02,  2.82369524e-01,  3.00674438e-01,\n",
      "         2.19090790e-01,  2.98882216e-01,  7.88064599e-02,\n",
      "         8.67124647e-02,  6.48209453e-03, -9.75970030e-02,\n",
      "         1.57334521e-01,  2.19555125e-01,  4.25852120e-01,\n",
      "         2.59883046e-01,  4.38483655e-01,  2.90230095e-01,\n",
      "         3.23314667e-01, -3.54800671e-02,  2.12074056e-01,\n",
      "         3.48722816e-01,  2.96529084e-01,  6.31181598e-02,\n",
      "         1.09809786e-02,  8.77249539e-02,  3.63235682e-01,\n",
      "         1.60981894e-01,  3.13667238e-01,  3.89435530e-01,\n",
      "         3.33362520e-01,  3.60634804e-01,  1.87621355e-01,\n",
      "         3.77784044e-01,  1.21869519e-01, -8.30851495e-02,\n",
      "         2.58856177e-01,  3.57535183e-01,  2.98829138e-01,\n",
      "         2.59780586e-01,  3.69008511e-01,  1.49991870e-01,\n",
      "         3.24060082e-01,  2.05892906e-01,  3.15289438e-01,\n",
      "         5.93047291e-02,  4.39293444e-01,  3.01738083e-02,\n",
      "         2.27796733e-01,  3.16342711e-03, -9.79921222e-03,\n",
      "         3.22249591e-01,  1.60935938e-01,  3.13771904e-01,\n",
      "         1.00142792e-01,  3.71081442e-01,  2.84121215e-01,\n",
      "        -6.25777915e-02,  1.69195175e-01,  9.42177474e-02,\n",
      "         3.48460078e-01,  1.30226195e-01,  4.25311625e-01,\n",
      "         2.09967434e-01,  1.03377998e-01, -2.23645419e-02,\n",
      "         3.09536308e-01,  4.21902388e-01,  1.84037358e-01,\n",
      "         3.48102152e-02,  2.61506140e-02,  2.24643826e-01,\n",
      "         3.29369128e-01],\n",
      "       [-9.20389816e-02, -1.28381759e-01,  1.84302628e-02,\n",
      "        -7.06139356e-02,  1.57927677e-01,  1.35307923e-01,\n",
      "         1.25737965e-01,  3.16871643e-01,  9.66565982e-02,\n",
      "         9.23371166e-02,  3.09271455e-01,  2.44109005e-01,\n",
      "         2.43925750e-02,  9.27014798e-02,  1.22065216e-01,\n",
      "         3.36076647e-01,  5.63225076e-02, -6.19671196e-02,\n",
      "         1.03787914e-01,  3.52655858e-01,  5.60839996e-02,\n",
      "         1.16959020e-01,  2.33954042e-01,  3.04594517e-01,\n",
      "        -3.30026448e-02,  2.02146277e-01, -1.92990452e-02,\n",
      "         2.09974095e-01, -4.87838238e-02,  8.88754576e-02,\n",
      "        -9.59766060e-02, -8.84346142e-02, -2.62379423e-02,\n",
      "         2.10597888e-02,  2.38024324e-01,  1.18295349e-01,\n",
      "         5.75382113e-02,  8.34748149e-02,  4.87599447e-02,\n",
      "         1.50366291e-01,  1.85452342e-01,  2.54441231e-01,\n",
      "         1.11766845e-01,  8.92774612e-02,  9.73737761e-02,\n",
      "        -3.39102894e-02,  2.33962089e-02,  5.31147122e-02,\n",
      "        -3.34093273e-02,  2.90783882e-01,  5.29073179e-02,\n",
      "         3.45648170e-01,  3.28843683e-01, -1.06989145e-02,\n",
      "         1.29221171e-01,  3.21264088e-01,  2.77585387e-01,\n",
      "         2.20704317e-01,  6.80181608e-02,  3.45832080e-01,\n",
      "         2.66759843e-01,  2.59370238e-01,  9.51052532e-02,\n",
      "         2.00959772e-01,  8.23504329e-02,  1.32296652e-01,\n",
      "         4.43646312e-02,  7.27008581e-02,  1.02944367e-01,\n",
      "        -9.93050635e-03,  5.74024543e-02, -2.55182236e-02,\n",
      "         9.56271887e-02,  2.72048652e-01,  1.03518039e-01,\n",
      "         1.33135319e-02,  1.83984950e-01,  2.81421959e-01,\n",
      "         1.49150282e-01,  1.95010990e-01,  1.26155823e-01,\n",
      "         2.33187199e-01, -1.72717273e-02, -6.02528304e-02,\n",
      "         2.60065913e-01,  1.28616989e-01,  5.25774658e-02,\n",
      "         2.76384979e-01,  2.21720576e-01, -3.90079021e-02,\n",
      "         1.99122310e-01,  1.33553058e-01, -1.95495784e-02,\n",
      "         2.58109242e-01,  1.02522537e-01, -2.44361162e-02,\n",
      "        -2.37523168e-02,  9.02835131e-02,  2.25606740e-01,\n",
      "        -4.93704230e-02]], dtype=float32)]\n",
      "New Biases:  [array([ 3.0846202e-03, -2.6582774e-02,  2.1347515e-02,  3.2870457e-02,\n",
      "       -4.9232513e-02,  4.2980749e-02,  2.1010039e-02,  1.4971512e-02,\n",
      "        7.0926473e-03,  1.0959905e-03, -1.8143866e-02,  1.4534611e-02,\n",
      "        1.8051578e-02,  2.6035044e-02, -2.5617961e-02,  4.5140428e-03,\n",
      "       -2.2907849e-02, -5.1788357e-03,  1.9149750e-02,  4.3485817e-03,\n",
      "       -3.7451737e-02, -3.9782576e-02,  1.8874370e-02,  7.2301421e-03,\n",
      "       -8.4353369e-03, -3.1379510e-02,  1.4913309e-02, -2.3905968e-02,\n",
      "        2.6361914e-02,  1.1357980e-02, -4.0161610e-02, -2.1229466e-02,\n",
      "        8.0067273e-03, -5.5678142e-04,  6.1978623e-03,  2.1002501e-02,\n",
      "        1.4973342e-03,  5.3375610e-03,  3.4617655e-02,  2.6809275e-02,\n",
      "       -2.1556871e-02,  1.8727081e-02,  3.6597282e-03, -4.2477705e-02,\n",
      "       -6.5367450e-03, -1.3575802e-02, -4.7365753e-03,  1.7158030e-02,\n",
      "        1.4584702e-03,  5.3149775e-05,  3.3740859e-02, -2.1309284e-02,\n",
      "       -7.8027017e-02,  1.0331824e-03,  1.4957726e-02, -2.6044063e-02,\n",
      "        1.0594376e-02,  1.3516471e-02, -6.8511646e-03,  1.2755114e-02,\n",
      "       -5.2537844e-03,  8.1560174e-03,  1.9473502e-03,  1.9665170e-02,\n",
      "        1.7168096e-03,  3.0834174e-02, -1.5312492e-02,  1.5765948e-02,\n",
      "        1.9339724e-02,  8.9172656e-03,  3.8129720e-04, -7.2658301e-04,\n",
      "        3.5502166e-02, -1.2470420e-02, -3.3393107e-02, -5.2781850e-03,\n",
      "        2.0885069e-02, -5.2437887e-02, -5.1162463e-02,  2.6592132e-02,\n",
      "        1.9060543e-02,  2.2850838e-03, -7.0608303e-02,  1.2121536e-02,\n",
      "       -3.3169650e-02, -8.3476128e-03, -3.1478412e-02, -1.0061855e-02,\n",
      "       -1.1352114e-03, -3.2968786e-02,  3.6068540e-02,  1.0144065e-02,\n",
      "        3.0727332e-02, -9.9773072e-03, -1.8527701e-03, -7.6836161e-03,\n",
      "        5.8533914e-02, -1.7702559e-02,  2.9020725e-02,  5.9533110e-03],\n",
      "      dtype=float32), array([-0.08671505,  0.07092986,  0.03443091, -0.14650667, -0.13050656,\n",
      "       -0.1493027 ,  0.09220203,  0.05649507, -0.12905638,  0.10280479,\n",
      "       -0.08407355, -0.03196148, -0.16982524, -0.12875472, -0.10456862,\n",
      "        0.00248874,  0.07850945,  0.0317396 , -0.05432061,  0.02580306,\n",
      "       -0.0203362 , -0.03779395, -0.1238384 , -0.10547885,  0.07926502,\n",
      "       -0.04665569, -0.001378  ,  0.10237087, -0.10012084, -0.09889098,\n",
      "       -0.10857604,  0.08298352, -0.10693926, -0.05519908,  0.14302307,\n",
      "       -0.03419138,  0.07043564, -0.12022436,  0.01609784, -0.01501873,\n",
      "       -0.0199687 ,  0.0069305 , -0.12345561,  0.04513761,  0.0496145 ,\n",
      "        0.09965364, -0.11187301, -0.13139834, -0.10694149, -0.04734153,\n",
      "       -0.15547377, -0.09385667, -0.06213171, -0.10772924,  0.0257759 ,\n",
      "        0.15918283,  0.10728279, -0.10054025,  0.02679698,  0.13978347,\n",
      "        0.13544765, -0.03978517,  0.00310393, -0.10608059, -0.04121697,\n",
      "       -0.0934488 ,  0.05163841, -0.12506944, -0.04335351,  0.06656226,\n",
      "       -0.14311305,  0.03092491,  0.09342343, -0.01881461,  0.07942841,\n",
      "       -0.07062619, -0.0840159 ,  0.11264022, -0.02134617, -0.10224257,\n",
      "        0.12594545,  0.08122434,  0.11253018, -0.02124604,  0.03953225,\n",
      "       -0.15734275, -0.05228915,  0.11170307,  0.03888159, -0.0477729 ,\n",
      "        0.05161504, -0.08389661, -0.16026942, -0.11319216,  0.05378486,\n",
      "       -0.12649493, -0.18028691, -0.01373301, -0.04537221, -0.09012786],\n",
      "      dtype=float32), array([ 0.32417375,  0.29677185,  0.34445682,  0.13798639,  0.2914721 ,\n",
      "       -2.590275  ,  0.30592516,  0.2779741 ,  0.37672293,  0.23655307],\n",
      "      dtype=float32)]\n"
     ]
    }
   ],
   "source": [
    "newWeights = [weightsOriginal[i] - eeta*derWeights[i] for i in range(nLayers)]\n",
    "print('New Weights: ', newWeights)\n",
    "\n",
    "newBiases = [biasesOriginal[i] - eeta*derBiases[i] for i in range(nLayers)]\n",
    "# newBiases = biasesOriginal\n",
    "print('New Biases: ', newBiases)"
   ]
  },
  {
   "cell_type": "markdown",
   "id": "304aa2b5",
   "metadata": {},
   "source": [
    "## Forward feed again and check the loss/error"
   ]
  },
  {
   "cell_type": "code",
   "execution_count": 63,
   "id": "c734ec4c",
   "metadata": {},
   "outputs": [
    {
     "name": "stdout",
     "output_type": "stream",
     "text": [
      "Outputs at each layer (including input layer):\n",
      "  [array([[0., 0., 0., ..., 0., 0., 0.],\n",
      "       [0., 0., 0., ..., 0., 0., 0.],\n",
      "       [0., 0., 0., ..., 0., 0., 0.],\n",
      "       ...,\n",
      "       [0., 0., 0., ..., 0., 0., 0.],\n",
      "       [0., 0., 0., ..., 0., 0., 0.],\n",
      "       [0., 0., 0., ..., 0., 0., 0.]], dtype=float32), array([[0.59737927, 0.51493526, 0.5715538 , ..., 0.57426196, 0.5196451 ,\n",
      "        0.59547544],\n",
      "       [0.3897064 , 0.2739032 , 0.34660405, ..., 0.55187386, 0.6153531 ,\n",
      "        0.56694853],\n",
      "       [0.5638481 , 0.48385248, 0.48561582, ..., 0.51501065, 0.43951854,\n",
      "        0.47644496],\n",
      "       ...,\n",
      "       [0.5       , 0.5       , 0.5       , ..., 0.5       , 0.5       ,\n",
      "        0.5       ],\n",
      "       [0.5       , 0.5       , 0.5       , ..., 0.5       , 0.5       ,\n",
      "        0.5       ],\n",
      "       [0.5       , 0.5       , 0.5       , ..., 0.5       , 0.5       ,\n",
      "        0.5       ]], dtype=float32), array([[0.37839353, 0.27438453, 0.55589855, ..., 0.6417211 , 0.52883667,\n",
      "        0.5629738 ],\n",
      "       [0.41852596, 0.2949695 , 0.53291553, ..., 0.62299514, 0.51088834,\n",
      "        0.5967149 ],\n",
      "       [0.36213565, 0.30265868, 0.5205629 , ..., 0.63458097, 0.53177357,\n",
      "        0.57263416],\n",
      "       ...,\n",
      "       [0.3617152 , 0.28159115, 0.5166927 , ..., 0.62934697, 0.50414246,\n",
      "        0.6051082 ],\n",
      "       [0.3617152 , 0.28159115, 0.5166927 , ..., 0.62934697, 0.50414246,\n",
      "        0.6051082 ],\n",
      "       [0.3617152 , 0.28159115, 0.5166927 , ..., 0.62934697, 0.50414246,\n",
      "        0.6051082 ]], dtype=float32), array([[0.0685917 , 0.05652285, 0.07347356, ..., 0.05197209, 0.13910003,\n",
      "        0.04309582],\n",
      "       [0.06814306, 0.05838039, 0.07142772, ..., 0.05307436, 0.14155015,\n",
      "        0.0438197 ],\n",
      "       [0.06576223, 0.05522798, 0.07350251, ..., 0.05260267, 0.139411  ,\n",
      "        0.04272178],\n",
      "       ...,\n",
      "       [0.06625819, 0.05752541, 0.07385302, ..., 0.0522991 , 0.13903654,\n",
      "        0.04211418],\n",
      "       [0.06625819, 0.05752541, 0.07385302, ..., 0.0522991 , 0.13903654,\n",
      "        0.04211418],\n",
      "       [0.06625819, 0.05752541, 0.07385302, ..., 0.0522991 , 0.13903654,\n",
      "        0.04211418]], dtype=float32)]\n",
      "Inputs at each layer :\n",
      "  [array([[ 0.3945572 ,  0.05975872,  0.28819343, ...,  0.29926145,\n",
      "         0.07862079,  0.38664764],\n",
      "       [-0.44854653, -0.9749087 , -0.6340003 , ...,  0.20824471,\n",
      "         0.46987057,  0.2694119 ],\n",
      "       [ 0.25679418, -0.0646126 , -0.05755253, ...,  0.06006079,\n",
      "        -0.24311635, -0.09429005],\n",
      "       ...,\n",
      "       [ 0.        ,  0.        ,  0.        , ...,  0.        ,\n",
      "         0.        ,  0.        ],\n",
      "       [ 0.        ,  0.        ,  0.        , ...,  0.        ,\n",
      "         0.        ,  0.        ],\n",
      "       [ 0.        ,  0.        ,  0.        , ...,  0.        ,\n",
      "         0.        ,  0.        ]], dtype=float32), array([[-0.49637237, -0.9724898 ,  0.22453266, ...,  0.5828422 ,\n",
      "         0.11547479,  0.25323996],\n",
      "       [-0.32882735, -0.8713691 ,  0.13185275, ...,  0.5022805 ,\n",
      "         0.04356027,  0.39179572],\n",
      "       [-0.56610686, -0.83466935,  0.08229794, ...,  0.55192006,\n",
      "         0.12726574,  0.29260656],\n",
      "       ...,\n",
      "       [-0.56792736, -0.9365826 ,  0.0667957 , ...,  0.52941626,\n",
      "         0.01657013,  0.42679554],\n",
      "       [-0.56792736, -0.9365826 ,  0.0667957 , ...,  0.52941626,\n",
      "         0.01657013,  0.42679554],\n",
      "       [-0.56792736, -0.9365826 ,  0.0667957 , ...,  0.52941626,\n",
      "         0.01657013,  0.42679554]], dtype=float32), array([[ 0.25272718,  0.05920043,  0.32148126, ..., -0.02473766,\n",
      "         0.95974886, -0.2120184 ],\n",
      "       [ 0.22284034,  0.06821117,  0.26991695, ..., -0.02707515,\n",
      "         0.953885  , -0.21868566],\n",
      "       [ 0.21352507,  0.03894911,  0.32479894, ..., -0.00975378,\n",
      "         0.9649057 , -0.21781178],\n",
      "       ...,\n",
      "       [ 0.22266924,  0.08133677,  0.33118695, ..., -0.01391075,\n",
      "         0.9638468 , -0.2305055 ],\n",
      "       [ 0.22266924,  0.08133677,  0.33118695, ..., -0.01391075,\n",
      "         0.9638468 , -0.2305055 ],\n",
      "       [ 0.22266924,  0.08133677,  0.33118695, ..., -0.01391075,\n",
      "         0.9638468 , -0.2305055 ]], dtype=float32)]\n",
      "New Error:\n",
      " 6.9597763671875\n"
     ]
    }
   ],
   "source": [
    "# Perform Forward feed and get the outputs at each layers and the inputs at each layer\n",
    "a, z = forward_feed(inputs, nLayers, weightsOriginal, biasesOriginal, activation_func_names)\n",
    "print('Outputs at each layer (including input layer):\\n ',a)\n",
    "print('Inputs at each layer :\\n ', z)\n",
    "\n",
    "# New Error\n",
    "print('New Error:\\n', MSE_loss(a[nLayers],outputs)/batchSize)"
   ]
  },
  {
   "cell_type": "markdown",
   "id": "ec224438",
   "metadata": {},
   "source": [
    "## ** With np.einsum (slightly Slower than opt_einsum expression reuse)**"
   ]
  },
  {
   "cell_type": "code",
   "execution_count": 64,
   "id": "ef07e705",
   "metadata": {},
   "outputs": [
    {
     "data": {
      "application/vnd.jupyter.widget-view+json": {
       "model_id": "1db6dcd37f71427081cdf21c0d2e9857",
       "version_major": 2,
       "version_minor": 0
      },
      "text/plain": [
       "  0%|          | 0/10 [00:00<?, ?it/s]"
      ]
     },
     "metadata": {},
     "output_type": "display_data"
    },
    {
     "data": {
      "application/vnd.jupyter.widget-view+json": {
       "model_id": "",
       "version_major": 2,
       "version_minor": 0
      },
      "text/plain": [
       "  0%|          | 0/300 [00:00<?, ?it/s]"
      ]
     },
     "metadata": {},
     "output_type": "display_data"
    },
    {
     "name": "stdout",
     "output_type": "stream",
     "text": [
      "Average Error with initial weights and biases: 0.10642440133471608\n"
     ]
    },
    {
     "data": {
      "application/vnd.jupyter.widget-view+json": {
       "model_id": "",
       "version_major": 2,
       "version_minor": 0
      },
      "text/plain": [
       "  0%|          | 0/300 [00:00<?, ?it/s]"
      ]
     },
     "metadata": {},
     "output_type": "display_data"
    },
    {
     "data": {
      "application/vnd.jupyter.widget-view+json": {
       "model_id": "",
       "version_major": 2,
       "version_minor": 0
      },
      "text/plain": [
       "  0%|          | 0/300 [00:00<?, ?it/s]"
      ]
     },
     "metadata": {},
     "output_type": "display_data"
    },
    {
     "data": {
      "application/vnd.jupyter.widget-view+json": {
       "model_id": "",
       "version_major": 2,
       "version_minor": 0
      },
      "text/plain": [
       "  0%|          | 0/300 [00:00<?, ?it/s]"
      ]
     },
     "metadata": {},
     "output_type": "display_data"
    },
    {
     "data": {
      "application/vnd.jupyter.widget-view+json": {
       "model_id": "",
       "version_major": 2,
       "version_minor": 0
      },
      "text/plain": [
       "  0%|          | 0/300 [00:00<?, ?it/s]"
      ]
     },
     "metadata": {},
     "output_type": "display_data"
    },
    {
     "data": {
      "application/vnd.jupyter.widget-view+json": {
       "model_id": "",
       "version_major": 2,
       "version_minor": 0
      },
      "text/plain": [
       "  0%|          | 0/300 [00:00<?, ?it/s]"
      ]
     },
     "metadata": {},
     "output_type": "display_data"
    },
    {
     "data": {
      "application/vnd.jupyter.widget-view+json": {
       "model_id": "",
       "version_major": 2,
       "version_minor": 0
      },
      "text/plain": [
       "  0%|          | 0/300 [00:00<?, ?it/s]"
      ]
     },
     "metadata": {},
     "output_type": "display_data"
    },
    {
     "data": {
      "application/vnd.jupyter.widget-view+json": {
       "model_id": "",
       "version_major": 2,
       "version_minor": 0
      },
      "text/plain": [
       "  0%|          | 0/300 [00:00<?, ?it/s]"
      ]
     },
     "metadata": {},
     "output_type": "display_data"
    },
    {
     "data": {
      "application/vnd.jupyter.widget-view+json": {
       "model_id": "",
       "version_major": 2,
       "version_minor": 0
      },
      "text/plain": [
       "  0%|          | 0/300 [00:00<?, ?it/s]"
      ]
     },
     "metadata": {},
     "output_type": "display_data"
    },
    {
     "data": {
      "application/vnd.jupyter.widget-view+json": {
       "model_id": "",
       "version_major": 2,
       "version_minor": 0
      },
      "text/plain": [
       "  0%|          | 0/300 [00:00<?, ?it/s]"
      ]
     },
     "metadata": {},
     "output_type": "display_data"
    },
    {
     "name": "stdout",
     "output_type": "stream",
     "text": [
      "CPU times: user 36.5 s, sys: 250 ms, total: 36.7 s\n",
      "Wall time: 37.1 s\n"
     ]
    }
   ],
   "source": [
    "%%time\n",
    "\n",
    "# Run optimization\n",
    "optWeights, optBiases, errorPlot = nn_optimize(inputs, outputs, activation_func_names, nLayers, nEpochs=nEpochs, batchSize=batchSize, eeta=eeta, weights=weightsOriginal, biases=biasesOriginal, errorFunc=BCE_loss, gradErrorFunc=BCE_loss_grad,miniterEpoch=1,batchProgressBar=False,miniterBatch=100)\n",
    "\n"
   ]
  },
  {
   "cell_type": "code",
   "execution_count": 27,
   "id": "0ac82e85",
   "metadata": {},
   "outputs": [
    {
     "name": "stdout",
     "output_type": "stream",
     "text": [
      "[0.10635930548497226, 0.10609313408120993, 0.1060928574133171, 0.10609262277781348, 0.10609238897446846, 0.10609215444700211, 0.10609191988768929, 0.10609168587471657, 0.10609145239627758, 0.106091218405255]\n"
     ]
    }
   ],
   "source": [
    "print(errorPlot)"
   ]
  },
  {
   "cell_type": "code",
   "execution_count": null,
   "id": "245e168e",
   "metadata": {},
   "outputs": [],
   "source": [
    "print(errorPlot)"
   ]
  },
  {
   "cell_type": "markdown",
   "id": "97e3f47f",
   "metadata": {},
   "source": [
    "#### Test the quality of the weights by running a forward feed again"
   ]
  },
  {
   "cell_type": "code",
   "execution_count": null,
   "id": "27fbc9bb",
   "metadata": {},
   "outputs": [],
   "source": [
    "# Plot the error vs epochs\n",
    "plt.plot(errorPlot)\n",
    "plt.yscale('log')\n",
    "plt.show()"
   ]
  },
  {
   "cell_type": "code",
   "execution_count": null,
   "id": "306db008",
   "metadata": {},
   "outputs": [],
   "source": [
    "# Optimized weights and biases\n",
    "print('Optimized Weights: ', optWeights)\n",
    "print('Optimized Biases: ', optBiases)\n",
    "# Forward feed with optimized weights\n",
    "# Perform Forward feed and get the outputs at each layers and the inputs at each layer\n",
    "a, z = forward_feed(inputs, nLayers, optWeights, optBiases, activation_func_names)\n",
    "print('Outputs at each layer (including input layer):\\n ',a)\n",
    "print('Inputs at each layer :\\n ', z)\n",
    "# New Error\n",
    "print('New Average Error with optimized weights:\\n', BCE_loss(a[nLayers],outputs)/batchSize)\n",
    "print('Input: ',inputs)\n",
    "print('Output: ',a[nLayers])\n",
    "print('Expected Output: ',outputs)"
   ]
  },
  {
   "cell_type": "code",
   "execution_count": null,
   "id": "9340c2b7",
   "metadata": {},
   "outputs": [],
   "source": [
    "print('Difference b/w our weights & biases and keras results:')\n",
    "for i in range(nLayers):\n",
    "    print('\\nLayer : ',i+1)\n",
    "    print(abs(optWeights[i]-model.layers[i].get_weights()[0].T).max())\n",
    "    print(abs(optBiases[i]-model.layers[i].get_weights()[1].T).max())"
   ]
  },
  {
   "cell_type": "markdown",
   "id": "6e73a2f8",
   "metadata": {},
   "source": [
    "## ** NEW METHOD ** With opt_einsum expressions (It is faster than np.einsum but only slightly)"
   ]
  },
  {
   "cell_type": "code",
   "execution_count": null,
   "id": "4858363c",
   "metadata": {},
   "outputs": [],
   "source": [
    "%%time\n",
    "# Run optimization\n",
    "optWeights, optBiases, errorPlot = nn_optimize_fast(inputs, outputs, activation_func_names, nLayers, nEpochs=nEpochs, batchSize=batchSize, eeta=eeta, weights=weightsOriginal, biases=biasesOriginal, errorFunc=BCE_loss, gradErrorFunc=BCE_loss_grad,miniterEpoch=1,batchProgressBar=True,miniterBatch=100)\n",
    "\n"
   ]
  },
  {
   "cell_type": "code",
   "execution_count": null,
   "id": "1b80ad81",
   "metadata": {},
   "outputs": [],
   "source": [
    "# Plot the error vs epochs\n",
    "plt.plot(errorPlot)\n",
    "plt.yscale('log')\n",
    "plt.show()"
   ]
  },
  {
   "cell_type": "code",
   "execution_count": null,
   "id": "a1843176",
   "metadata": {},
   "outputs": [],
   "source": [
    "# Optimized weights and biases\n",
    "print('Optimized Weights: ', optWeights)\n",
    "print('Optimized Biases: ', optBiases)\n",
    "# Forward feed with optimized weights\n",
    "# Perform Forward feed and get the outputs at each layers and the inputs at each layer\n",
    "a, z = forward_feed(inputs, nLayers, optWeights, optBiases, activation_func_names)\n",
    "print('Outputs at each layer (including input layer):\\n ',a)\n",
    "print('Inputs at each layer :\\n ', z)\n",
    "# New Error\n",
    "print('New Average Error with optimized weights:\\n', BCE_loss(a[nLayers],outputs)/batchSize)\n",
    "print('Input: ',inputs)\n",
    "print('Output: ',a[nLayers])\n",
    "print('Expected Output: ',outputs)"
   ]
  },
  {
   "cell_type": "code",
   "execution_count": null,
   "id": "f5bccf53",
   "metadata": {},
   "outputs": [],
   "source": [
    "print('Difference b/w our weights & biases and keras results:')\n",
    "for i in range(nLayers):\n",
    "    print('\\nLayer : ',i+1)\n",
    "    print(abs(optWeights[i]-model.layers[i].get_weights()[0].T).max())\n",
    "    print(abs(optBiases[i]-model.layers[i].get_weights()[1].T).max())"
   ]
  },
  {
   "cell_type": "markdown",
   "id": "2ab565d8",
   "metadata": {},
   "source": [
    "### BCE testing"
   ]
  },
  {
   "cell_type": "code",
   "execution_count": null,
   "id": "2905e51c",
   "metadata": {},
   "outputs": [],
   "source": [
    "X = torch.tensor([[1,0],[1,0],[0,1],[0,1]],dtype=torch.float)\n",
    "softmaxTorch = torch.nn.Softmax(dim=1)\n",
    "\n",
    "\n",
    "bce_loss = torch.nn.BCELoss()\n",
    "mse_loss = torch.nn.MSELoss()\n",
    "ce_loss= torch.nn.CrossEntropyLoss()\n",
    "\n",
    "# My implementation of Softmax\n",
    "pred = Softmax(X.cpu().detach().numpy())\n",
    "print(pred)\n",
    "# PyTorch implementation of Softmax\n",
    "pred = softmaxTorch(X)\n",
    "print(pred)\n",
    "\n",
    "\n",
    "print(bce_loss(X,X)) # tensor(0.)\n",
    "print(bce_loss(pred,X)) # tensor(0.3133)\n",
    "print(bce_loss(pred,pred)) # tensor(0.5822)\n",
    "\n",
    "print(ce_loss(X,torch.argmax(X,dim=1))) # tensor(0.3133)\n",
    "\n",
    "# My implementation of cross entropy loss\n",
    "# Note these will be Nsamples*PyTorch results as I don't return the average right away\n",
    "print(binary_cross_entropy(X.cpu().detach().numpy(),X.cpu().detach().numpy())/X.shape[0])\n",
    "print(binary_cross_entropy(pred.cpu().detach().numpy(),X.cpu().detach().numpy())/X.shape[0])\n",
    "print(binary_cross_entropy(pred.cpu().detach().numpy(),pred.cpu().detach().numpy())/X.shape[0])\n",
    "\n",
    "print(binary_cross_entropy(pred.cpu().detach().numpy(),X.cpu().detach().numpy())/X.shape[0])\n",
    "print(cross_entropy_grad(pred.cpu().detach().numpy(),X.cpu().detach().numpy())/X.shape[0])\n",
    "print(errorFuncGrad(pred.cpu().detach().numpy(),X.cpu().detach().numpy())/X.shape[0])\n",
    "\n",
    "predX = torch.tensor(pred,dtype=torch.float,requires_grad=True)\n",
    "loss = bce_loss(predX,X)\n",
    "# loss = ce_loss(predX,torch.argmax(X,dim=1))\n",
    "# loss = mse_loss(predX,X)\n",
    "loss.backward()\n",
    "print('gradient',predX.grad)\n",
    "print(torch.autograd.grad(bce_loss(predX,X),predX))\n",
    "\n",
    "%timeit binary_cross_entropy(pred.cpu().detach().numpy(),pred.cpu().detach().numpy())\n",
    "%timeit binary_cross_entropy_grad(pred.cpu().detach().numpy(),X.cpu().detach().numpy())\n",
    "%timeit bce_loss(predX,X)\n",
    "\n",
    "%timeit softmaxTorch(X)\n",
    "%timeit Softmax(X.cpu().detach().numpy())\n",
    "\n",
    "%timeit cross_entropy(pred.cpu().detach().numpy(),X.cpu().detach().numpy())/X.shape[0]\n",
    "%timeit cross_entropy_grad(pred.cpu().detach().numpy(),X.cpu().detach().numpy())/X.shape[0]"
   ]
  },
  {
   "cell_type": "markdown",
   "id": "cec90f69",
   "metadata": {},
   "source": [
    "# PyTorch"
   ]
  },
  {
   "cell_type": "code",
   "execution_count": 28,
   "id": "c0a23f4b",
   "metadata": {},
   "outputs": [],
   "source": [
    "### Choose device: 'cuda' or 'cpu'\n",
    "device = 'cpu'\n",
    "# device = 'cuda'"
   ]
  },
  {
   "cell_type": "markdown",
   "id": "228e2da0",
   "metadata": {},
   "source": [
    "## Generate the network programatically"
   ]
  },
  {
   "cell_type": "markdown",
   "id": "67c23f3c",
   "metadata": {},
   "source": [
    "## Method 1"
   ]
  },
  {
   "cell_type": "code",
   "execution_count": 29,
   "id": "ce731137",
   "metadata": {},
   "outputs": [],
   "source": [
    "Layers = []\n",
    "# Input layer\n",
    "Layers.append(torch.nn.Linear(nInputs, neurons_per_layer[0]))\n",
    "Layers.append(torch.nn.Sigmoid())\n",
    "\n",
    "if nLayers>1:\n",
    "    # Hidden layers\n",
    "    for i in range(1,nLayers-1):\n",
    "        Layers.append(torch.nn.Linear(neurons_per_layer[i-1], neurons_per_layer[i]))\n",
    "        Layers.append(torch.nn.Sigmoid())\n",
    "    # Output layer\n",
    "    Layers.append(torch.nn.Linear(neurons_per_layer[nLayers-2], neurons_per_layer[nLayers-1]))\n",
    "    Layers.append(torch.nn.Sigmoid())"
   ]
  },
  {
   "cell_type": "code",
   "execution_count": 30,
   "id": "c7750e93",
   "metadata": {},
   "outputs": [],
   "source": [
    "Network = torch.nn.Sequential(*Layers)"
   ]
  },
  {
   "cell_type": "code",
   "execution_count": 31,
   "id": "002ba416",
   "metadata": {},
   "outputs": [
    {
     "name": "stdout",
     "output_type": "stream",
     "text": [
      "Sequential(\n",
      "  (0): Linear(in_features=784, out_features=100, bias=True)\n",
      "  (1): Sigmoid()\n",
      "  (2): Linear(in_features=100, out_features=100, bias=True)\n",
      "  (3): Sigmoid()\n",
      "  (4): Linear(in_features=100, out_features=10, bias=True)\n",
      "  (5): Sigmoid()\n",
      ")\n"
     ]
    }
   ],
   "source": [
    "print(Network)"
   ]
  },
  {
   "cell_type": "markdown",
   "id": "610feb25",
   "metadata": {},
   "source": [
    "## Method 2 (Suitable for us to modify weights for each layer to be same as keras and my implementation)"
   ]
  },
  {
   "cell_type": "code",
   "execution_count": 32,
   "id": "65ed035e",
   "metadata": {},
   "outputs": [],
   "source": [
    "Network = torch.nn.Sequential()\n",
    " \n",
    "# Input layer -> 1st hidden layer\n",
    "Network.add_module(str(0),torch.nn.Linear(nInputs, neurons_per_layer[0]))\n",
    "# Activation function after first hidden layer\n",
    "Network.add_module('act0',act_func_dict_PyTorch[activation_func_names[0]])\n",
    "\n",
    "if nLayers>1:\n",
    "    # Hidden layers\n",
    "    for i in range(1,nLayers-1):\n",
    "        Network.add_module(str(i),torch.nn.Linear(neurons_per_layer[i-1], neurons_per_layer[i]))\n",
    "        Network.add_module('act'+str(i),act_func_dict_PyTorch[activation_func_names[i]])\n",
    "        \n",
    "    # Output layer\n",
    "    Network.add_module(str(nLayers-1),torch.nn.Linear(neurons_per_layer[nLayers-2], neurons_per_layer[nLayers-1]))\n",
    "    Network.add_module('act'+str(nLayers-1),act_func_dict_PyTorch[activation_func_names[nLayers-1]])"
   ]
  },
  {
   "cell_type": "code",
   "execution_count": 33,
   "id": "4768d6e5",
   "metadata": {},
   "outputs": [
    {
     "data": {
      "text/plain": [
       "Sequential(\n",
       "  (0): Linear(in_features=784, out_features=100, bias=True)\n",
       "  (act0): Sigmoid()\n",
       "  (1): Linear(in_features=100, out_features=100, bias=True)\n",
       "  (act1): Sigmoid()\n",
       "  (2): Linear(in_features=100, out_features=10, bias=True)\n",
       "  (act2): Softmax(dim=1)\n",
       ")"
      ]
     },
     "execution_count": 33,
     "metadata": {},
     "output_type": "execute_result"
    }
   ],
   "source": [
    "# torch.nn.init.constant_(Network.weight, 2.0)\n",
    "Network.to(device=device)"
   ]
  },
  {
   "cell_type": "markdown",
   "id": "cdcd76c2",
   "metadata": {},
   "source": [
    "## initial weights and biases generated by Pytorch"
   ]
  },
  {
   "cell_type": "code",
   "execution_count": 34,
   "id": "4e78ab86",
   "metadata": {},
   "outputs": [
    {
     "name": "stdout",
     "output_type": "stream",
     "text": [
      "Parameter containing:\n",
      "tensor([[-0.0167,  0.0184,  0.0003,  ...,  0.0288,  0.0266,  0.0126],\n",
      "        [-0.0323, -0.0214,  0.0013,  ...,  0.0018, -0.0335,  0.0084],\n",
      "        [-0.0030, -0.0233,  0.0252,  ..., -0.0248, -0.0025,  0.0214],\n",
      "        ...,\n",
      "        [ 0.0186, -0.0039, -0.0345,  ..., -0.0239, -0.0199, -0.0116],\n",
      "        [ 0.0243, -0.0253, -0.0003,  ..., -0.0174,  0.0290, -0.0073],\n",
      "        [-0.0009, -0.0181,  0.0265,  ...,  0.0051,  0.0234,  0.0088]],\n",
      "       requires_grad=True)\n",
      "Parameter containing:\n",
      "tensor([ 0.0238, -0.0051,  0.0241,  0.0180, -0.0248, -0.0161,  0.0239,  0.0143,\n",
      "         0.0166,  0.0290,  0.0253,  0.0074,  0.0247, -0.0052, -0.0044, -0.0304,\n",
      "         0.0082, -0.0122, -0.0116, -0.0007, -0.0137,  0.0257,  0.0275, -0.0004,\n",
      "        -0.0178, -0.0057,  0.0208, -0.0251,  0.0112,  0.0051, -0.0115, -0.0357,\n",
      "        -0.0234,  0.0201,  0.0089, -0.0342,  0.0173,  0.0188,  0.0155, -0.0142,\n",
      "         0.0077, -0.0265,  0.0210,  0.0267, -0.0315,  0.0236,  0.0278, -0.0056,\n",
      "         0.0033, -0.0015, -0.0060, -0.0212, -0.0173, -0.0251, -0.0354,  0.0178,\n",
      "         0.0084,  0.0308,  0.0318, -0.0280, -0.0047,  0.0302, -0.0166,  0.0236,\n",
      "        -0.0171, -0.0119,  0.0310, -0.0014,  0.0126,  0.0024, -0.0174,  0.0070,\n",
      "         0.0032, -0.0266,  0.0069, -0.0300, -0.0063,  0.0014, -0.0126, -0.0224,\n",
      "         0.0226,  0.0081,  0.0077, -0.0063, -0.0263,  0.0039,  0.0050,  0.0075,\n",
      "        -0.0332, -0.0119, -0.0086, -0.0091, -0.0237,  0.0158, -0.0357,  0.0327,\n",
      "         0.0239, -0.0080,  0.0351,  0.0258], requires_grad=True)\n"
     ]
    }
   ],
   "source": [
    "print(Network[0].weight)\n",
    "print(Network[0].bias)"
   ]
  },
  {
   "cell_type": "markdown",
   "id": "84842b37",
   "metadata": {},
   "source": [
    "## Change them to be the same as others\n",
    "\n",
    "## **IMPORTANT NOTE**: The returned tensor and the original array share the same memory. So any changes to the tensor change the array as well.\n",
    "\n",
    "Reference: https://pytorch.org/docs/stable/generated/torch.from_numpy.html\n",
    "\n"
   ]
  },
  {
   "cell_type": "code",
   "execution_count": 35,
   "id": "f14f3678",
   "metadata": {},
   "outputs": [],
   "source": [
    "for i in range(nLayers):\n",
    "    # Weights\n",
    "#     Network._modules[str(i)].weight.data = torch.from_numpy(weightsOriginal[i]).to(dtype=torch.float32)\n",
    "    Network._modules[str(i)].weight.data = torch.tensor(weightsOriginal[i]).to(dtype=torch.float32)\n",
    "    # Biases\n",
    "#     Network._modules[str(i)].bias.data = torch.from_numpy(biasesOriginal[i]).to(dtype=torch.float32) # Convert to float32\n",
    "    Network._modules[str(i)].bias.data = torch.tensor(biasesOriginal[i]).to(dtype=torch.float32) # Convert to float32"
   ]
  },
  {
   "cell_type": "code",
   "execution_count": 36,
   "id": "01038554",
   "metadata": {},
   "outputs": [
    {
     "name": "stdout",
     "output_type": "stream",
     "text": [
      "Weights:\n",
      "\n",
      "tensor([[-0.0539, -0.0110, -0.0279,  ...,  0.0556, -0.0588, -0.0006],\n",
      "        [ 0.0576,  0.0121, -0.0433,  ..., -0.0143, -0.0546, -0.0044],\n",
      "        [ 0.0421,  0.0289,  0.0641,  ..., -0.0393, -0.0777, -0.0225],\n",
      "        ...,\n",
      "        [ 0.0244, -0.0543,  0.0509,  ..., -0.0227,  0.0670, -0.0355],\n",
      "        [ 0.0770, -0.0615,  0.0198,  ..., -0.0731, -0.0422,  0.0237],\n",
      "        [-0.0549, -0.0550, -0.0592,  ...,  0.0425, -0.0734,  0.0144]])\n",
      "Biases:\n",
      "\n",
      "tensor([0., 0., 0., 0., 0., 0., 0., 0., 0., 0., 0., 0., 0., 0., 0., 0., 0., 0., 0., 0., 0., 0., 0., 0.,\n",
      "        0., 0., 0., 0., 0., 0., 0., 0., 0., 0., 0., 0., 0., 0., 0., 0., 0., 0., 0., 0., 0., 0., 0., 0.,\n",
      "        0., 0., 0., 0., 0., 0., 0., 0., 0., 0., 0., 0., 0., 0., 0., 0., 0., 0., 0., 0., 0., 0., 0., 0.,\n",
      "        0., 0., 0., 0., 0., 0., 0., 0., 0., 0., 0., 0., 0., 0., 0., 0., 0., 0., 0., 0., 0., 0., 0., 0.,\n",
      "        0., 0., 0., 0.])\n",
      "Weights:\n",
      "\n",
      "tensor([[ 0.1298, -0.1190,  0.1597,  ...,  0.0124,  0.0977, -0.1515],\n",
      "        [ 0.1496,  0.0299, -0.0249,  ..., -0.0984, -0.1371,  0.1262],\n",
      "        [-0.0545,  0.1139,  0.0414,  ..., -0.1347,  0.0336,  0.1026],\n",
      "        ...,\n",
      "        [-0.0288, -0.0478, -0.0994,  ..., -0.1094,  0.0819, -0.0619],\n",
      "        [ 0.0716, -0.0851,  0.1461,  ...,  0.0883,  0.1715, -0.0130],\n",
      "        [-0.0294, -0.1476,  0.0044,  ...,  0.0282,  0.1188,  0.1110]])\n",
      "Biases:\n",
      "\n",
      "tensor([0., 0., 0., 0., 0., 0., 0., 0., 0., 0., 0., 0., 0., 0., 0., 0., 0., 0., 0., 0., 0., 0., 0., 0.,\n",
      "        0., 0., 0., 0., 0., 0., 0., 0., 0., 0., 0., 0., 0., 0., 0., 0., 0., 0., 0., 0., 0., 0., 0., 0.,\n",
      "        0., 0., 0., 0., 0., 0., 0., 0., 0., 0., 0., 0., 0., 0., 0., 0., 0., 0., 0., 0., 0., 0., 0., 0.,\n",
      "        0., 0., 0., 0., 0., 0., 0., 0., 0., 0., 0., 0., 0., 0., 0., 0., 0., 0., 0., 0., 0., 0., 0., 0.,\n",
      "        0., 0., 0., 0.])\n",
      "Weights:\n",
      "\n",
      "tensor([[-1.7484e-01,  1.7176e-01,  1.2381e-01,  3.7331e-02,  2.1758e-01,\n",
      "          6.2748e-02, -7.5439e-04,  2.2776e-01,  1.5387e-01, -2.2204e-01,\n",
      "          8.4575e-03,  1.3077e-01,  1.3011e-01, -1.3141e-01,  1.8229e-01,\n",
      "         -1.0046e-02,  2.2845e-01,  2.1223e-01,  1.4792e-01, -2.2014e-01,\n",
      "         -1.1746e-01, -6.7665e-02,  1.8924e-01,  1.3413e-01, -1.0139e-01,\n",
      "          6.8568e-02, -1.0189e-01,  2.1062e-01, -2.2070e-01,  1.3772e-01,\n",
      "          1.0074e-01,  2.4847e-02, -9.7549e-02,  2.3080e-01, -1.3841e-01,\n",
      "         -1.5439e-01,  1.8703e-01,  9.9159e-02,  2.3225e-01, -2.9890e-02,\n",
      "          2.0429e-01,  1.7621e-01,  1.1871e-01,  7.8721e-02, -3.2023e-02,\n",
      "         -1.8667e-01,  1.8037e-02,  2.1711e-01, -2.0035e-01,  9.1999e-03,\n",
      "          8.0761e-02,  8.4011e-02, -1.5243e-01,  1.1941e-02, -1.6809e-01,\n",
      "          2.2510e-01,  2.4032e-02, -1.9824e-01,  1.9027e-01,  1.4472e-01,\n",
      "          2.3084e-01, -4.0217e-02,  1.7404e-01, -6.2291e-02, -8.7448e-02,\n",
      "         -4.6148e-02,  1.6753e-01,  1.9060e-01,  1.3932e-01,  1.3590e-01,\n",
      "         -1.9707e-04, -2.1140e-01,  7.4130e-02, -1.9144e-01,  1.6306e-01,\n",
      "         -1.5937e-01, -9.4562e-02, -1.7868e-02, -1.5223e-01, -2.1448e-01,\n",
      "          2.9519e-02,  2.2921e-01,  7.8869e-02,  1.0815e-01,  2.2883e-01,\n",
      "         -2.1746e-03,  1.0262e-01,  1.6155e-01,  1.8900e-01,  9.3901e-02,\n",
      "         -1.2511e-01,  1.8704e-01, -1.0907e-01, -7.1006e-02, -8.2339e-02,\n",
      "          1.7815e-01,  1.1347e-01, -5.2841e-02, -2.5823e-02,  1.0896e-01],\n",
      "        [ 4.9804e-02, -7.3732e-02,  8.5451e-02, -2.2911e-02,  1.4605e-01,\n",
      "         -7.7907e-02, -6.2985e-02, -7.9628e-02,  1.8990e-01, -1.7302e-01,\n",
      "         -1.2126e-01, -2.1023e-01, -1.1533e-01,  1.0073e-01,  7.7639e-02,\n",
      "          1.4230e-01, -3.0873e-02, -1.0110e-01, -6.8670e-02, -2.2072e-01,\n",
      "         -1.4114e-01, -2.1484e-02,  1.9332e-01, -1.7697e-01,  1.0639e-01,\n",
      "          3.9020e-02,  1.5009e-01,  1.3394e-01,  8.5198e-02, -1.7333e-01,\n",
      "          2.1321e-01, -8.2438e-02, -1.8429e-01,  1.3890e-01,  1.8641e-01,\n",
      "          1.2804e-02,  3.2513e-02,  9.0133e-02,  1.8847e-01,  1.7486e-01,\n",
      "         -2.0865e-01,  2.0602e-01, -1.4584e-01, -5.3400e-02, -1.0252e-01,\n",
      "          1.9620e-01,  9.8067e-02, -1.4811e-01, -6.6265e-02, -2.0682e-01,\n",
      "          1.7277e-01, -7.7501e-02,  1.4544e-01, -1.0217e-03,  2.1734e-01,\n",
      "         -1.3273e-01, -2.0010e-01, -9.6119e-02, -2.2057e-01, -2.8983e-02,\n",
      "          1.4334e-01,  1.9043e-01, -1.0426e-01,  7.1283e-02, -1.0494e-01,\n",
      "          4.1973e-02, -6.5006e-02,  1.4526e-01, -1.0780e-01,  1.5513e-01,\n",
      "          1.4588e-01, -1.7175e-02, -4.9478e-02,  1.3102e-01,  2.3410e-02,\n",
      "          1.7467e-01, -1.7677e-01,  3.2570e-02,  1.6491e-01,  1.8732e-01,\n",
      "          1.7890e-01, -9.6226e-02, -1.7396e-03,  9.9822e-03, -2.1690e-02,\n",
      "         -2.0497e-02,  6.8967e-03,  5.6009e-02,  4.3759e-02, -2.0078e-01,\n",
      "         -2.2510e-02,  5.0785e-02,  1.9240e-01, -1.9991e-01, -4.9341e-02,\n",
      "          2.3230e-01,  5.1296e-02, -1.7161e-01, -1.4114e-01,  6.1959e-02],\n",
      "        [ 1.0053e-01, -6.6786e-02,  1.9445e-01, -3.4446e-02,  6.4313e-02,\n",
      "          7.9415e-03, -3.3811e-03, -9.9129e-02,  8.4502e-02,  1.1388e-01,\n",
      "         -1.2148e-01,  3.3950e-02, -5.1018e-02,  1.9667e-01,  1.1524e-01,\n",
      "          1.8942e-01, -1.7178e-04,  1.9222e-01,  5.7113e-02,  2.0975e-01,\n",
      "         -2.2135e-01,  3.7251e-02,  3.7361e-02, -1.1923e-01, -8.2763e-03,\n",
      "         -1.2239e-01,  1.5676e-01,  1.0482e-01,  9.8370e-02,  2.1976e-02,\n",
      "          1.5215e-02, -2.6700e-02, -1.9231e-01,  1.7245e-01, -1.0192e-01,\n",
      "          7.3911e-02,  3.6993e-02,  1.7313e-01, -1.8158e-01, -1.0646e-01,\n",
      "          2.0635e-01, -1.4141e-01,  1.1733e-01, -7.2280e-02, -1.8928e-01,\n",
      "          6.1841e-02, -2.0074e-01,  2.1870e-01, -8.9255e-02,  1.0402e-01,\n",
      "          2.4427e-02,  1.8162e-01,  1.3732e-01, -1.6770e-01,  1.6897e-01,\n",
      "          1.9305e-01,  1.7877e-01,  2.2880e-02, -5.8923e-02,  1.4170e-01,\n",
      "          1.5018e-01, -5.7914e-02,  1.2771e-01, -1.7654e-01, -8.2156e-02,\n",
      "         -8.1743e-02,  2.0599e-01,  2.4537e-02, -5.0167e-03,  1.1202e-03,\n",
      "          1.0533e-02,  9.2917e-02,  4.2459e-02,  2.0530e-01,  1.4466e-01,\n",
      "         -1.0843e-01, -1.6499e-01, -1.5332e-01, -1.2563e-01, -1.9675e-01,\n",
      "         -1.9590e-01,  1.8788e-03,  1.1669e-01,  1.7257e-01, -1.8418e-01,\n",
      "         -1.9658e-01,  5.5531e-02,  1.1724e-01, -1.2143e-02, -1.5119e-01,\n",
      "         -8.1801e-02, -1.6530e-01,  1.2083e-01, -4.4668e-02,  1.4349e-01,\n",
      "         -1.0138e-01,  2.2221e-01, -1.5335e-01,  1.6670e-01,  1.7158e-01],\n",
      "        [ 2.1564e-01, -1.6526e-01,  1.0468e-01, -6.4657e-02, -6.1203e-02,\n",
      "          6.4373e-02, -2.7564e-02,  1.5372e-02,  4.2471e-02, -2.0836e-01,\n",
      "          2.0995e-01, -1.1153e-01,  1.1439e-01, -1.2221e-01, -1.3199e-01,\n",
      "         -2.1616e-01, -1.7765e-01, -1.4360e-01, -2.0797e-01, -1.1353e-01,\n",
      "          2.3078e-01,  1.3204e-01, -1.6325e-01, -1.4181e-01, -1.2107e-01,\n",
      "          1.2268e-01, -1.8651e-01, -1.6907e-01,  1.6627e-01, -1.3987e-01,\n",
      "         -9.3855e-03,  8.2855e-02,  1.7052e-01, -1.2042e-01, -6.3854e-02,\n",
      "          1.2322e-01, -2.2893e-01,  2.4769e-02, -1.4345e-01,  2.0146e-01,\n",
      "          1.7123e-02,  2.0769e-01,  2.2381e-01, -1.6737e-01,  1.3012e-01,\n",
      "          1.3434e-01, -9.3296e-02,  1.3250e-01, -1.8849e-01,  2.1423e-01,\n",
      "          2.2470e-02,  8.1661e-02,  4.7607e-03,  1.3036e-01, -9.0542e-02,\n",
      "         -2.4414e-02,  6.6552e-04,  1.1959e-01,  6.4961e-02,  1.4635e-01,\n",
      "          4.0312e-02,  1.7014e-01, -1.3578e-01,  4.8755e-02,  1.5011e-01,\n",
      "         -1.4984e-01, -2.6957e-02, -4.9766e-02, -1.1092e-01,  1.5437e-01,\n",
      "         -9.2039e-02, -1.2145e-02,  1.1890e-01, -3.2523e-03, -1.3148e-01,\n",
      "         -6.6732e-02,  5.2127e-03,  3.3012e-03, -7.7706e-02, -9.2567e-03,\n",
      "          1.4779e-01, -1.0051e-01, -1.3684e-01,  1.5440e-01, -2.2982e-01,\n",
      "         -1.8249e-01, -1.9001e-01,  1.3688e-01, -1.8092e-01, -8.0293e-02,\n",
      "          4.7547e-04,  8.7261e-02, -2.1845e-01,  3.1817e-02,  1.4908e-01,\n",
      "          2.0066e-01, -2.1156e-01,  4.6859e-02,  1.6919e-01,  1.7419e-01],\n",
      "        [ 8.7479e-02, -4.9892e-03, -1.5386e-02, -4.5049e-02, -1.6256e-01,\n",
      "         -1.0981e-01, -8.7255e-02,  1.2934e-01,  2.2686e-02,  2.2460e-02,\n",
      "          2.2841e-01, -1.1465e-01, -2.1891e-02,  6.3329e-02,  6.0582e-02,\n",
      "          3.9213e-02, -1.5792e-01,  1.9754e-01,  7.3234e-02, -1.6823e-01,\n",
      "          1.3860e-01, -1.9745e-01,  9.8026e-02, -7.3072e-02,  1.3028e-01,\n",
      "          1.3327e-01, -2.2167e-01,  1.5569e-01, -7.8630e-02, -2.2972e-01,\n",
      "          4.1685e-03, -1.7752e-01,  2.2930e-01,  1.6849e-01,  1.1900e-01,\n",
      "         -1.1777e-01,  2.1852e-01,  1.4710e-01,  2.2607e-01, -1.0870e-01,\n",
      "         -1.3118e-01,  1.1348e-01, -5.5456e-02,  1.5328e-01, -1.2429e-01,\n",
      "         -2.0665e-01,  2.4964e-02,  1.9854e-01,  4.6597e-02, -7.8642e-03,\n",
      "          5.5804e-02, -1.9354e-01, -8.1698e-02,  3.5992e-02,  1.8402e-01,\n",
      "          6.2009e-02,  6.2683e-02, -4.0092e-02, -1.0244e-01,  1.6509e-01,\n",
      "          1.0692e-01, -2.0338e-01,  2.0719e-01,  2.3107e-01,  2.2523e-01,\n",
      "          8.0703e-03, -1.5612e-01, -1.9175e-01, -1.3386e-01,  1.5522e-01,\n",
      "         -4.0981e-02, -3.9955e-02,  1.1970e-01, -2.1854e-01, -1.5535e-01,\n",
      "         -1.9106e-01,  7.5292e-02, -2.1692e-01, -1.1742e-01,  1.6598e-01,\n",
      "         -3.7488e-02, -1.4460e-01,  1.4131e-01,  1.9023e-01,  6.3688e-02,\n",
      "         -7.0482e-02,  1.4472e-01, -5.8843e-02, -6.0554e-03, -2.0151e-01,\n",
      "         -2.0775e-01, -2.2049e-01,  1.0412e-01, -2.2989e-01, -3.3813e-02,\n",
      "         -7.7002e-02, -1.3391e-01, -1.2014e-01,  7.1789e-02, -2.3859e-02],\n",
      "        [-7.5873e-02,  1.0951e-01,  1.4214e-01,  1.1851e-01, -1.2677e-01,\n",
      "          1.1748e-01,  6.4228e-02,  1.1890e-01, -9.9876e-02, -3.0590e-02,\n",
      "         -1.5176e-01,  1.9827e-01,  1.8967e-01, -1.1102e-01, -1.9982e-01,\n",
      "         -1.0759e-01,  1.4417e-02, -9.7576e-02,  1.1536e-01, -8.9129e-02,\n",
      "         -1.1811e-01,  5.6609e-02, -2.2790e-01,  1.0792e-01, -1.2459e-01,\n",
      "         -1.0249e-01,  1.4208e-01, -1.6355e-01,  5.7803e-02, -1.7612e-03,\n",
      "         -3.0407e-02,  7.9614e-02, -1.5980e-01,  7.5073e-02,  2.2787e-01,\n",
      "          6.3305e-02, -1.1242e-01,  1.7114e-01, -9.1787e-02, -3.8688e-02,\n",
      "          1.4726e-01, -1.1527e-01, -1.0920e-02,  1.8744e-01,  4.5824e-02,\n",
      "         -4.3374e-02,  1.6640e-01,  1.9770e-01, -1.4879e-01, -2.3175e-01,\n",
      "          1.6887e-01,  3.4956e-02,  1.7077e-01,  5.4241e-02,  2.2211e-01,\n",
      "         -1.6455e-01,  4.6013e-02,  9.4787e-02,  1.4892e-01, -6.3854e-02,\n",
      "          2.2456e-01,  3.0076e-02,  1.6063e-02,  1.5792e-01, -1.2481e-01,\n",
      "         -2.2282e-01,  1.2410e-01, -9.2633e-02, -1.2529e-01, -4.6176e-02,\n",
      "          6.9891e-02, -1.1253e-01,  2.2696e-01, -7.6053e-02,  1.0456e-01,\n",
      "          1.3539e-01,  1.3023e-01, -6.0286e-02, -3.9108e-02,  2.3173e-01,\n",
      "          2.0509e-02,  1.9736e-01,  9.6864e-02, -8.3867e-03, -1.9862e-01,\n",
      "         -1.1253e-01, -3.9478e-02,  5.3111e-02, -3.8394e-02, -1.5619e-01,\n",
      "         -7.2248e-02,  5.7351e-02, -8.5330e-02,  1.2353e-01, -1.8700e-01,\n",
      "         -4.3044e-02, -8.0041e-02,  1.6428e-02, -1.5119e-01,  8.7700e-02],\n",
      "        [-1.6264e-01, -9.9377e-02, -2.0076e-01, -6.5937e-02,  1.8971e-01,\n",
      "          1.9325e-01, -1.3265e-01, -1.1935e-01, -4.4669e-02,  1.6930e-01,\n",
      "          2.2619e-01, -1.7064e-01, -2.1281e-01, -6.2428e-02, -1.5779e-01,\n",
      "          8.5246e-02,  2.2585e-01,  1.4501e-01, -1.4032e-01, -6.2610e-03,\n",
      "         -3.8608e-02,  7.9145e-02,  2.0543e-03,  4.9661e-02, -7.4568e-03,\n",
      "         -9.3316e-02,  4.1282e-02, -1.2418e-01, -1.1800e-01, -6.5054e-02,\n",
      "         -1.1368e-01,  1.0203e-01,  7.5497e-02,  1.3635e-01, -2.0028e-01,\n",
      "         -2.1464e-01, -7.0642e-02,  6.9562e-02,  5.8171e-03, -1.9786e-03,\n",
      "         -6.7654e-02,  1.3515e-01,  1.8062e-01, -9.7533e-02,  1.6230e-01,\n",
      "          7.8117e-02,  1.6230e-01, -2.1820e-01,  1.4281e-01, -2.1674e-01,\n",
      "          1.3514e-02, -3.3054e-02,  1.6378e-01,  2.5247e-02,  1.3737e-01,\n",
      "         -4.2100e-02,  1.5313e-01,  1.4046e-01,  4.6841e-02, -3.4021e-02,\n",
      "          5.3280e-02,  2.3313e-01,  7.5988e-02, -7.3365e-02,  1.3495e-01,\n",
      "         -2.2149e-01,  1.5105e-01,  1.3869e-01, -4.6819e-02, -7.0190e-02,\n",
      "          1.2879e-01,  2.2554e-01,  1.2437e-01, -2.4764e-02,  1.0006e-01,\n",
      "          1.7561e-01,  1.6304e-01, -2.2971e-01, -1.6576e-01, -6.5609e-03,\n",
      "          4.4296e-02, -1.1420e-01,  7.0131e-02, -6.3529e-02,  7.0187e-02,\n",
      "          1.3016e-02, -1.2409e-01, -1.0206e-02,  1.3348e-01,  5.4477e-03,\n",
      "         -1.3940e-01,  7.7125e-02,  1.7751e-01,  1.6893e-01,  1.5857e-01,\n",
      "         -1.1304e-01, -1.5332e-01,  1.4915e-01,  1.9042e-01, -1.8780e-01],\n",
      "        [-1.4519e-01, -2.0004e-01,  5.5504e-02,  5.1899e-02, -6.9755e-02,\n",
      "         -2.3176e-01,  2.5905e-02, -5.6270e-02,  2.0819e-01,  9.6229e-02,\n",
      "          2.1359e-01, -1.3803e-01,  1.6005e-01, -1.5165e-01, -1.4082e-01,\n",
      "         -2.2553e-01, -6.0209e-02, -2.1863e-03, -2.3220e-01,  6.9506e-02,\n",
      "         -7.5391e-02,  1.9586e-01,  2.3344e-01, -1.5070e-01, -1.3263e-01,\n",
      "          2.1131e-02,  7.1169e-02, -2.3233e-01,  1.5034e-02,  2.5203e-02,\n",
      "         -1.3668e-01, -1.4989e-02,  1.7697e-01, -1.4223e-01, -2.2850e-01,\n",
      "          5.5359e-02, -1.7009e-01, -2.2125e-01,  4.1312e-02, -4.3281e-03,\n",
      "         -2.6391e-02, -1.9022e-01, -1.9632e-01,  5.2977e-02,  1.3341e-01,\n",
      "          8.6841e-02, -1.9694e-01,  1.3069e-01,  7.1337e-02,  1.5787e-01,\n",
      "          2.6999e-02,  5.8348e-02,  1.2684e-01, -6.1511e-02,  2.2933e-01,\n",
      "          1.8143e-02, -1.1796e-01,  1.8777e-01, -9.5408e-02,  2.0605e-01,\n",
      "          8.1594e-02,  1.0910e-01, -1.4200e-01, -3.1218e-02, -2.1375e-01,\n",
      "          1.6246e-01,  3.4962e-02,  1.2815e-01,  1.5608e-01,  1.8396e-01,\n",
      "         -1.6968e-01, -4.7393e-02, -6.0617e-02, -1.0663e-01, -2.3157e-01,\n",
      "          1.3439e-01,  1.8026e-01,  2.0862e-01,  8.4547e-02,  2.3330e-01,\n",
      "         -1.0438e-01, -1.6830e-01,  2.6939e-02, -2.2899e-01, -2.6046e-02,\n",
      "          1.8509e-01, -1.1632e-01,  5.9523e-02,  5.1105e-02,  4.6363e-02,\n",
      "          1.1003e-01, -2.1679e-01,  2.5460e-02,  1.3207e-01, -1.5939e-01,\n",
      "         -7.7701e-03, -4.1301e-02,  1.2754e-01, -9.1856e-02,  4.4149e-02],\n",
      "        [-1.2419e-01,  1.0494e-01,  4.0621e-02, -7.7966e-02,  5.6695e-03,\n",
      "          9.9989e-02, -1.4698e-01, -2.4807e-02, -3.4257e-02,  1.6618e-01,\n",
      "         -1.7850e-02, -3.8558e-02,  3.5850e-02,  7.3668e-02,  7.0624e-02,\n",
      "          1.8032e-01, -5.9681e-02, -5.7115e-02,  1.5589e-01,  3.8911e-03,\n",
      "         -1.5014e-01,  1.8549e-01, -4.3461e-02,  1.8286e-01, -8.6457e-02,\n",
      "         -1.0209e-02, -1.6522e-01,  4.5228e-02,  2.1489e-02,  4.2209e-02,\n",
      "         -1.0766e-01, -2.2537e-01, -6.8304e-02,  6.0248e-02,  6.0349e-02,\n",
      "          5.1797e-03,  1.9907e-01,  8.0018e-02,  5.2293e-02,  1.9822e-01,\n",
      "          2.3395e-02,  1.1099e-02,  1.6201e-02, -1.5181e-02,  4.6392e-02,\n",
      "         -4.4292e-02, -2.0394e-01,  2.0857e-01,  1.5270e-01,  1.2357e-01,\n",
      "          1.4753e-01, -9.0446e-02,  1.4944e-01,  1.8366e-01, -6.5756e-02,\n",
      "          7.4090e-02, -3.7813e-02,  1.8242e-01,  1.6012e-01, -3.3807e-02,\n",
      "         -2.0611e-01, -4.1015e-02,  4.7424e-02, -1.8014e-02, -1.7000e-01,\n",
      "         -3.0875e-02, -1.0080e-01, -2.2380e-01,  1.5724e-01, -1.0897e-01,\n",
      "          1.5762e-01,  1.1276e-01, -1.2801e-01,  1.1264e-01, -9.4293e-02,\n",
      "          1.5552e-01, -2.5056e-02,  1.8610e-01, -1.3324e-01, -1.1611e-01,\n",
      "          1.2400e-01,  1.8233e-01,  6.2644e-02, -3.1257e-02, -2.0253e-01,\n",
      "         -2.2538e-01,  9.0739e-03, -8.7224e-02, -2.1499e-02,  7.2335e-02,\n",
      "         -5.6997e-02,  2.0243e-01,  8.2422e-02, -1.8356e-01, -1.0789e-01,\n",
      "         -6.4749e-02,  2.3216e-01,  1.2533e-01,  8.5683e-02, -2.3020e-01],\n",
      "        [-2.2888e-01,  1.0956e-01, -5.2187e-02, -1.4716e-01, -6.2978e-02,\n",
      "         -2.5887e-02,  1.0651e-01,  1.2370e-01,  1.4445e-01, -2.2304e-01,\n",
      "          1.8319e-01, -1.7269e-01, -4.5159e-02, -1.4450e-01,  3.5690e-02,\n",
      "          8.4621e-02,  1.3263e-01, -8.7169e-03,  4.0495e-02,  2.2159e-01,\n",
      "         -2.1705e-01,  1.8630e-01,  5.1433e-02,  2.1257e-01, -1.1018e-01,\n",
      "          1.0015e-01,  2.2553e-01,  1.5826e-01, -1.3034e-02, -1.3036e-01,\n",
      "          2.2807e-01, -2.4066e-03, -3.3218e-02,  1.9781e-01,  1.3229e-01,\n",
      "          1.0542e-01, -2.0788e-01, -5.4831e-02,  1.5448e-01,  4.6712e-02,\n",
      "          3.6426e-02, -1.8161e-01,  4.8433e-02,  2.7804e-02,  4.8570e-03,\n",
      "         -1.4642e-01, -1.9847e-01,  1.8580e-01, -5.5260e-02, -1.7429e-01,\n",
      "          2.1163e-01, -1.9288e-01, -1.3452e-01,  1.7604e-01, -2.9559e-02,\n",
      "          1.6638e-01,  6.1829e-03,  1.1932e-01,  1.5488e-02,  1.5210e-01,\n",
      "         -1.2692e-01,  8.5409e-02, -2.3351e-01, -9.9800e-02,  1.6053e-01,\n",
      "          4.4008e-02, -3.0712e-02,  2.2747e-01,  1.3203e-01, -1.7542e-02,\n",
      "         -2.3196e-01, -1.2149e-01, -9.0866e-02,  3.6586e-02,  5.0891e-02,\n",
      "         -8.3810e-02,  2.2089e-01, -7.9146e-03, -2.2316e-01, -4.3898e-03,\n",
      "         -2.1315e-01,  1.5217e-01,  1.0822e-01, -1.8150e-01,  3.9290e-02,\n",
      "         -3.1378e-02, -3.4535e-03,  1.8653e-01, -1.9048e-01,  1.9396e-01,\n",
      "         -1.8707e-01, -2.1789e-01, -5.7614e-03,  4.4100e-02, -2.1477e-01,\n",
      "         -3.2584e-02, -1.7704e-01,  7.7158e-02,  6.7396e-02,  7.2762e-02]])\n",
      "Biases:\n",
      "\n",
      "tensor([0., 0., 0., 0., 0., 0., 0., 0., 0., 0.])\n"
     ]
    }
   ],
   "source": [
    "for i in range(nLayers):\n",
    "    # Weights\n",
    "    print('Weights:\\n')\n",
    "    print(Network._modules[str(i)].weight.data)\n",
    "    # Biases\n",
    "    print('Biases:\\n')\n",
    "    print(Network._modules[str(i)].bias.data)"
   ]
  },
  {
   "cell_type": "code",
   "execution_count": 37,
   "id": "40e2dfc0",
   "metadata": {
    "scrolled": true
   },
   "outputs": [
    {
     "name": "stdout",
     "output_type": "stream",
     "text": [
      "Sequential(\n",
      "  (0): Linear(in_features=784, out_features=100, bias=True)\n",
      "  (act0): Sigmoid()\n",
      "  (1): Linear(in_features=100, out_features=100, bias=True)\n",
      "  (act1): Sigmoid()\n",
      "  (2): Linear(in_features=100, out_features=10, bias=True)\n",
      "  (act2): Softmax(dim=1)\n",
      ")\n",
      "89610 trainable parameters\n"
     ]
    }
   ],
   "source": [
    "### Get information about model\n",
    "totpars = 0\n",
    "for par in Network.parameters():\n",
    "    newpars = 1\n",
    "    for num in par.shape:\n",
    "        newpars *= num\n",
    "    totpars += newpars\n",
    "print(Network)\n",
    "print('%i trainable parameters' % totpars)\n",
    "\n",
    "### Initialize loss function and optimizer\n",
    "# crit = torch.nn.MSELoss()\n",
    "crit = torch.nn.BCELoss()\n",
    "# crit = torch.nn.CrossEntropyLoss()\n",
    "opt = torch.optim.SGD(Network.parameters(), lr=eeta)"
   ]
  },
  {
   "cell_type": "code",
   "execution_count": 38,
   "id": "cd4c5005",
   "metadata": {},
   "outputs": [],
   "source": [
    "inputsTorch = torch.from_numpy(inputs)\n",
    "inputsTorch = inputsTorch.to(dtype=torch.float32) # Convert to float32\n",
    "labels = torch.from_numpy(outputs)\n",
    "labels = labels.to(dtype=torch.float32) # Convert to float32"
   ]
  },
  {
   "cell_type": "code",
   "execution_count": 39,
   "id": "53255aa5",
   "metadata": {},
   "outputs": [
    {
     "name": "stdout",
     "output_type": "stream",
     "text": [
      "tensor([[0., 0., 0.,  ..., 0., 0., 0.],\n",
      "        [0., 0., 0.,  ..., 0., 0., 0.],\n",
      "        [0., 0., 0.,  ..., 0., 0., 0.],\n",
      "        ...,\n",
      "        [0., 0., 0.,  ..., 0., 0., 0.],\n",
      "        [0., 0., 0.,  ..., 0., 0., 0.],\n",
      "        [0., 0., 0.,  ..., 0., 0., 0.]])\n",
      "tensor([[0., 0., 1.,  ..., 0., 0., 0.],\n",
      "        [0., 0., 0.,  ..., 0., 0., 0.],\n",
      "        [0., 0., 0.,  ..., 1., 0., 0.],\n",
      "        ...,\n",
      "        [0., 0., 0.,  ..., 0., 0., 0.],\n",
      "        [0., 0., 0.,  ..., 0., 0., 0.],\n",
      "        [0., 0., 0.,  ..., 0., 0., 0.]])\n"
     ]
    }
   ],
   "source": [
    "print(inputsTorch)\n",
    "print(labels)"
   ]
  },
  {
   "cell_type": "code",
   "execution_count": 40,
   "id": "4ffaf52f",
   "metadata": {},
   "outputs": [
    {
     "data": {
      "application/vnd.jupyter.widget-view+json": {
       "model_id": "21b85d4532d24a24ba71ffd054acb851",
       "version_major": 2,
       "version_minor": 0
      },
      "text/plain": [
       "  0%|          | 0/10 [00:00<?, ?it/s]"
      ]
     },
     "metadata": {},
     "output_type": "display_data"
    },
    {
     "data": {
      "application/vnd.jupyter.widget-view+json": {
       "model_id": "",
       "version_major": 2,
       "version_minor": 0
      },
      "text/plain": [
       "  0%|          | 0/300 [00:00<?, ?it/s]"
      ]
     },
     "metadata": {},
     "output_type": "display_data"
    },
    {
     "name": "stdout",
     "output_type": "stream",
     "text": [
      "1 0.10635930456221104\n"
     ]
    },
    {
     "data": {
      "application/vnd.jupyter.widget-view+json": {
       "model_id": "",
       "version_major": 2,
       "version_minor": 0
      },
      "text/plain": [
       "  0%|          | 0/300 [00:00<?, ?it/s]"
      ]
     },
     "metadata": {},
     "output_type": "display_data"
    },
    {
     "name": "stdout",
     "output_type": "stream",
     "text": [
      "2 0.1060931357741356\n"
     ]
    },
    {
     "data": {
      "application/vnd.jupyter.widget-view+json": {
       "model_id": "",
       "version_major": 2,
       "version_minor": 0
      },
      "text/plain": [
       "  0%|          | 0/300 [00:00<?, ?it/s]"
      ]
     },
     "metadata": {},
     "output_type": "display_data"
    },
    {
     "name": "stdout",
     "output_type": "stream",
     "text": [
      "3 0.10609285985430082\n"
     ]
    },
    {
     "data": {
      "application/vnd.jupyter.widget-view+json": {
       "model_id": "",
       "version_major": 2,
       "version_minor": 0
      },
      "text/plain": [
       "  0%|          | 0/300 [00:00<?, ?it/s]"
      ]
     },
     "metadata": {},
     "output_type": "display_data"
    },
    {
     "name": "stdout",
     "output_type": "stream",
     "text": [
      "4 0.10609262585639953\n"
     ]
    },
    {
     "data": {
      "application/vnd.jupyter.widget-view+json": {
       "model_id": "",
       "version_major": 2,
       "version_minor": 0
      },
      "text/plain": [
       "  0%|          | 0/300 [00:00<?, ?it/s]"
      ]
     },
     "metadata": {},
     "output_type": "display_data"
    },
    {
     "name": "stdout",
     "output_type": "stream",
     "text": [
      "5 0.10609239081541698\n"
     ]
    },
    {
     "data": {
      "application/vnd.jupyter.widget-view+json": {
       "model_id": "",
       "version_major": 2,
       "version_minor": 0
      },
      "text/plain": [
       "  0%|          | 0/300 [00:00<?, ?it/s]"
      ]
     },
     "metadata": {},
     "output_type": "display_data"
    },
    {
     "name": "stdout",
     "output_type": "stream",
     "text": [
      "6 0.10609215535223485\n"
     ]
    },
    {
     "data": {
      "application/vnd.jupyter.widget-view+json": {
       "model_id": "",
       "version_major": 2,
       "version_minor": 0
      },
      "text/plain": [
       "  0%|          | 0/300 [00:00<?, ?it/s]"
      ]
     },
     "metadata": {},
     "output_type": "display_data"
    },
    {
     "name": "stdout",
     "output_type": "stream",
     "text": [
      "7 0.10609192244708537\n"
     ]
    },
    {
     "data": {
      "application/vnd.jupyter.widget-view+json": {
       "model_id": "",
       "version_major": 2,
       "version_minor": 0
      },
      "text/plain": [
       "  0%|          | 0/300 [00:00<?, ?it/s]"
      ]
     },
     "metadata": {},
     "output_type": "display_data"
    },
    {
     "name": "stdout",
     "output_type": "stream",
     "text": [
      "8 0.1060916885236899\n"
     ]
    },
    {
     "data": {
      "application/vnd.jupyter.widget-view+json": {
       "model_id": "",
       "version_major": 2,
       "version_minor": 0
      },
      "text/plain": [
       "  0%|          | 0/300 [00:00<?, ?it/s]"
      ]
     },
     "metadata": {},
     "output_type": "display_data"
    },
    {
     "name": "stdout",
     "output_type": "stream",
     "text": [
      "9 0.10609145388007164\n"
     ]
    },
    {
     "data": {
      "application/vnd.jupyter.widget-view+json": {
       "model_id": "",
       "version_major": 2,
       "version_minor": 0
      },
      "text/plain": [
       "  0%|          | 0/300 [00:00<?, ?it/s]"
      ]
     },
     "metadata": {},
     "output_type": "display_data"
    },
    {
     "name": "stdout",
     "output_type": "stream",
     "text": [
      "10 0.10609122097492218\n",
      "CPU times: user 11.1 s, sys: 556 ms, total: 11.6 s\n",
      "Wall time: 13.1 s\n"
     ]
    }
   ],
   "source": [
    "%%time\n",
    "### Set model in training mode and create the epochs axis\n",
    "Network.train()\n",
    "epochs = range(1, nEpochs+1)\n",
    "errorPlot = []\n",
    "\n",
    "### Train the model\n",
    "for e in tqdm(epochs):\n",
    "    tr_loss = 0.\n",
    "    samples = 0\n",
    "    ### Loop over batches\n",
    "    for iBatch in tqdm(range(nBatches),leave=False):\n",
    "        offset = iBatch*batchSize\n",
    "        inputsBatch = inputsTorch[offset:offset + batchSize,:]# Input vector\n",
    "#            print(x.shape)\n",
    "        labelsBatch = labels[offset:offset + batchSize,:] # Expected output\n",
    "        \n",
    "        opt.zero_grad() # zero gradient values\n",
    "        inputsBatch = inputsBatch.to(device=device) # move input and label tensors to the device with the model\n",
    "        labelsBatch = labelsBatch.to(device=device)\n",
    "        outputsTorch = Network(inputsBatch) # compute model outputs\n",
    "        loss = crit(outputsTorch, labelsBatch) # compute batch loss\n",
    "        loss.backward() # back-propagate the gradients\n",
    "        opt.step() # update the model weights\n",
    "        tr_loss += loss.clone().cpu().item()*len(inputsBatch) # add the batch loss to the running loss\n",
    "        samples += len(inputsBatch) # update the number of processed samples\n",
    "    tr_loss /= samples # compute training loss\n",
    "    errorPlot.append(tr_loss)\n",
    "    print(e, tr_loss)"
   ]
  },
  {
   "cell_type": "code",
   "execution_count": 41,
   "id": "243d8fd2",
   "metadata": {},
   "outputs": [
    {
     "data": {
      "image/png": "[encoded data removed]",
      "text/plain": [
       "<Figure size 648x432 with 1 Axes>"
      ]
     },
     "metadata": {
      "needs_background": "light"
     },
     "output_type": "display_data"
    }
   ],
   "source": [
    "# Plot the error vs epochs\n",
    "plt.plot(errorPlot)\n",
    "plt.yscale('log')\n",
    "plt.show()"
   ]
  },
  {
   "cell_type": "code",
   "execution_count": 42,
   "id": "26cdc57c",
   "metadata": {},
   "outputs": [
    {
     "name": "stdout",
     "output_type": "stream",
     "text": [
      "Difference b/w our weights & biases and PyTorch results:\n",
      "\n",
      "Layer :  1\n",
      "tensor(1.1176e-08)\n",
      "tensor(2.6776e-09)\n",
      "\n",
      "Layer :  2\n",
      "tensor(1.4901e-07)\n",
      "tensor(2.4214e-08)\n",
      "\n",
      "Layer :  3\n",
      "tensor(4.3213e-07)\n",
      "tensor(1.4156e-07)\n"
     ]
    }
   ],
   "source": [
    "print('Difference b/w our weights & biases and PyTorch results:')\n",
    "for i in range(nLayers):\n",
    "    print('\\nLayer : ',i+1)\n",
    "    print(abs(torch.tensor(optWeights[i]).to(dtype=torch.float32)-Network._modules[str(i)].weight.data).max())\n",
    "    print(abs(torch.tensor(optBiases[i]).to(dtype=torch.float32)-Network._modules[str(i)].bias.data).max())"
   ]
  },
  {
   "cell_type": "code",
   "execution_count": null,
   "id": "35225bf3",
   "metadata": {},
   "outputs": [],
   "source": [
    "torch.get_num_threads()"
   ]
  },
  {
   "cell_type": "code",
   "execution_count": null,
   "id": "2ce7f9a5",
   "metadata": {},
   "outputs": [],
   "source": [
    "torch.set_num_threads(4)\n",
    "torch.get_num_threads()"
   ]
  },
  {
   "cell_type": "code",
   "execution_count": null,
   "id": "2dd20fd3",
   "metadata": {},
   "outputs": [],
   "source": []
  },
  {
   "cell_type": "code",
   "execution_count": null,
   "id": "06e72f91",
   "metadata": {},
   "outputs": [],
   "source": [
    "torch.get_num_threads()"
   ]
  },
  {
   "cell_type": "code",
   "execution_count": null,
   "id": "32a220b8",
   "metadata": {},
   "outputs": [],
   "source": [
    "if hasattr(__builtins__,'__IPYTHON__'):\n",
    "    from tqdm.notebook import tqdm\n",
    "else:\n",
    "    from tqdm import tqdm\n",
    "\n",
    "for i in tqdm(range(10000000)):\n",
    "    a=5\n",
    "    "
   ]
  },
  {
   "cell_type": "code",
   "execution_count": null,
   "id": "67504dff",
   "metadata": {},
   "outputs": [],
   "source": [
    "import crysx_nn.crysx_nn"
   ]
  },
  {
   "cell_type": "code",
   "execution_count": 2,
   "id": "4d511491",
   "metadata": {},
   "outputs": [
    {
     "data": {
      "application/vnd.jupyter.widget-view+json": {
       "model_id": "611ffb1fd6254152bd919d9e16737552",
       "version_major": 2,
       "version_minor": 0
      },
      "text/plain": [
       "  0%|          | 0/10000000 [00:00<?, ?it/s]"
      ]
     },
     "metadata": {},
     "output_type": "display_data"
    }
   ],
   "source": [
    "for i in tqdm(range(10000000)):\n",
    "    a=5\n",
    "    "
   ]
  },
  {
   "cell_type": "code",
   "execution_count": null,
   "id": "cf2f2ff7",
   "metadata": {},
   "outputs": [],
   "source": []
  }
 ],
 "metadata": {
  "kernelspec": {
   "display_name": "Python 3 (ipykernel)",
   "language": "python",
   "name": "python3"
  },
  "language_info": {
   "codemirror_mode": {
    "name": "ipython",
    "version": 3
   },
   "file_extension": ".py",
   "mimetype": "text/x-python",
   "name": "python",
   "nbconvert_exporter": "python",
   "pygments_lexer": "ipython3",
   "version": "3.7.11"
  }
 },
 "nbformat": 4,
 "nbformat_minor": 5
}
