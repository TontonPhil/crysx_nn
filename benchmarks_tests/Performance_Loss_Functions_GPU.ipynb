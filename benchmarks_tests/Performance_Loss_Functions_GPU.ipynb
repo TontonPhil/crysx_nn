{
 "cells": [
  {
   "cell_type": "markdown",
   "id": "cc6c6ea4",
   "metadata": {},
   "source": [
    "# This notebook serves as the validation fo the correct implementation of the loss functions and their derivatives in CrysX-NN\n",
    "\n",
    "# Plus, as a benchmark of the speed"
   ]
  },
  {
   "cell_type": "markdown",
   "id": "0f1da3b7",
   "metadata": {},
   "source": [
    "## Run the following for Google colab \n",
    "then restart runtime"
   ]
  },
  {
   "cell_type": "code",
   "execution_count": 1,
   "id": "85649fc6",
   "metadata": {},
   "outputs": [],
   "source": [
    "! pip install --upgrade --no-cache-dir https://github.com/manassharma07/crysx_nn/tarball/main\n",
    "! pip install IPython==7.7.0"
   ]
  },
  {
   "cell_type": "code",
   "execution_count": 1,
   "id": "5284e96f",
   "metadata": {},
   "outputs": [
    {
     "name": "stdout",
     "output_type": "stream",
     "text": [
      "blas_mkl_info:\n",
      "    libraries = ['mkl_rt']\n",
      "    library_dirs = ['C:/Users/manas/anaconda3/envs/crysx_nn\\\\Library\\\\lib']\n",
      "    define_macros = [('SCIPY_MKL_H', None), ('HAVE_CBLAS', None)]\n",
      "    include_dirs = ['C:/Users/manas/anaconda3/envs/crysx_nn\\\\Library\\\\include']\n",
      "blas_opt_info:\n",
      "    libraries = ['mkl_rt']\n",
      "    library_dirs = ['C:/Users/manas/anaconda3/envs/crysx_nn\\\\Library\\\\lib']\n",
      "    define_macros = [('SCIPY_MKL_H', None), ('HAVE_CBLAS', None)]\n",
      "    include_dirs = ['C:/Users/manas/anaconda3/envs/crysx_nn\\\\Library\\\\include']\n",
      "lapack_mkl_info:\n",
      "    libraries = ['mkl_rt']\n",
      "    library_dirs = ['C:/Users/manas/anaconda3/envs/crysx_nn\\\\Library\\\\lib']\n",
      "    define_macros = [('SCIPY_MKL_H', None), ('HAVE_CBLAS', None)]\n",
      "    include_dirs = ['C:/Users/manas/anaconda3/envs/crysx_nn\\\\Library\\\\include']\n",
      "lapack_opt_info:\n",
      "    libraries = ['mkl_rt']\n",
      "    library_dirs = ['C:/Users/manas/anaconda3/envs/crysx_nn\\\\Library\\\\lib']\n",
      "    define_macros = [('SCIPY_MKL_H', None), ('HAVE_CBLAS', None)]\n",
      "    include_dirs = ['C:/Users/manas/anaconda3/envs/crysx_nn\\\\Library\\\\include']\n",
      "CrysX-NN 0.1.8\n",
      "torch 1.10.1\n",
      "tensorflow 2.2.3\n"
     ]
    }
   ],
   "source": [
    "import numpy as np\n",
    "import cupy as cp\n",
    "np.show_config()\n",
    "import matplotlib.pyplot as plt\n",
    "\n",
    "# Import activation functions from crysx_nn\n",
    "from crysx_nn.loss import MSE_loss_cupy, MSE_loss_grad_cupy\n",
    "from crysx_nn.loss import MAE_loss_cupy, MAE_loss_grad_cupy\n",
    "from crysx_nn.loss import BCE_loss_cupy, BCE_loss_grad_cupy\n",
    "from crysx_nn.loss import CCE_loss_cupy, CCE_loss_grad_cupy\n",
    "import crysx_nn\n",
    "print('CrysX-NN',crysx_nn.__version__)\n",
    "\n",
    "# PyTorch\n",
    "import torch\n",
    "print('torch',torch.__version__)\n",
    "\n",
    "# Tensorflow\n",
    "import tensorflow as tf\n",
    "print('tensorflow',tf.__version__)"
   ]
  },
  {
   "cell_type": "markdown",
   "id": "f7f81111",
   "metadata": {},
   "source": [
    "## Ensure that evertyhing is only using GPU"
   ]
  },
  {
   "cell_type": "code",
   "execution_count": 2,
   "id": "64db5cb7",
   "metadata": {},
   "outputs": [
    {
     "data": {
      "text/plain": [
       "False"
      ]
     },
     "execution_count": 2,
     "metadata": {},
     "output_type": "execute_result"
    }
   ],
   "source": [
    "torch.cuda.is_available()"
   ]
  },
  {
   "cell_type": "code",
   "execution_count": 3,
   "id": "8bf30fa3",
   "metadata": {},
   "outputs": [
    {
     "name": "stdout",
     "output_type": "stream",
     "text": [
      "Num GPUs Available:  0\n"
     ]
    }
   ],
   "source": [
    "print(\"Num GPUs Available: \", len(tf.config.list_physical_devices('GPU')))"
   ]
  },
  {
   "cell_type": "code",
   "execution_count": 4,
   "id": "3cb12b26",
   "metadata": {},
   "outputs": [
    {
     "name": "stdout",
     "output_type": "stream",
     "text": [
      "WARNING:tensorflow:From C:\\Users\\manas\\AppData\\Local\\Temp/ipykernel_26484/337460670.py:1: is_gpu_available (from tensorflow.python.framework.test_util) is deprecated and will be removed in a future version.\n",
      "Instructions for updating:\n",
      "Use `tf.config.list_physical_devices('GPU')` instead.\n"
     ]
    },
    {
     "data": {
      "text/plain": [
       "False"
      ]
     },
     "execution_count": 4,
     "metadata": {},
     "output_type": "execute_result"
    }
   ],
   "source": [
    "tf.test.is_gpu_available()"
   ]
  },
  {
   "cell_type": "code",
   "execution_count": 5,
   "id": "5d5c0f0b",
   "metadata": {},
   "outputs": [
    {
     "name": "stdout",
     "output_type": "stream",
     "text": [
      "True\n"
     ]
    }
   ],
   "source": [
    "print(tf.test.is_built_with_cuda())"
   ]
  },
  {
   "cell_type": "markdown",
   "id": "3e09381f",
   "metadata": {},
   "source": [
    "## Generate an input `2d array` of type `float32` for benchmark (let's say using `torch`)"
   ]
  },
  {
   "cell_type": "code",
   "execution_count": 6,
   "id": "d1ac102d",
   "metadata": {},
   "outputs": [
    {
     "name": "stdout",
     "output_type": "stream",
     "text": [
      "tensor([[29.2258, 87.6187, 19.6881,  ..., 49.0369, 71.7834, 10.4351],\n",
      "        [48.7328, 66.5361, 27.8479,  ..., 16.8160, 92.2850, 92.9464],\n",
      "        [94.1699, 98.8675, 44.8733,  ..., 54.0138,  2.8368, 39.5612],\n",
      "        ...,\n",
      "        [61.4717, 52.8253,  3.1129,  ..., 42.8266, 92.7233, 53.6993],\n",
      "        [14.9089, 32.6019, 80.5383,  ..., 84.4834, 33.6072, 75.6791],\n",
      "        [32.9999, 27.5597, 56.3838,  ..., 89.6906, 23.4592, 23.4126]],\n",
      "       grad_fn=<MulBackward0>)\n",
      "tensor([[62.7448,  9.9137, 66.7026,  ...,  8.0842, 29.7010, 57.1587],\n",
      "        [13.9500, 93.6650, 62.5951,  ..., 45.7053, 26.2858, 77.5905],\n",
      "        [ 4.6311, 59.5940, 21.1559,  ..., 38.3698, 45.2280,  7.6491],\n",
      "        ...,\n",
      "        [40.1032, 52.9378, 38.1149,  ..., 77.3309, 14.2676, 46.8648],\n",
      "        [58.5428,  9.2976, 39.9114,  ..., 24.8336, 71.9753, 32.2934],\n",
      "        [84.2658, 11.3994, 23.2578,  ..., 10.1903, 70.4625, 40.7174]],\n",
      "       grad_fn=<MulBackward0>)\n"
     ]
    }
   ],
   "source": [
    "predictions_torch = 100*torch.rand((300,100),requires_grad=True)\n",
    "predictions_torch = predictions_torch.cuda()\n",
    "print(predictions_torch)\n",
    "targets_torch = 100*torch.rand((300,100),requires_grad=True)\n",
    "targets_torch = targets_torch.cuda()\n",
    "print(targets_torch)"
   ]
  },
  {
   "cell_type": "markdown",
   "id": "ff1bffee",
   "metadata": {},
   "source": [
    "## Convert it to numpy for `crysx_nn`"
   ]
  },
  {
   "cell_type": "code",
   "execution_count": 7,
   "id": "def94718",
   "metadata": {},
   "outputs": [
    {
     "name": "stdout",
     "output_type": "stream",
     "text": [
      "float32\n",
      "float32\n"
     ]
    }
   ],
   "source": [
    "predictions_crysx_nn = predictions_torch.cpu().detach().numpy()\n",
    "predictions_cupy = cp.asarray(predictions_crysx_nn)\n",
    "print(predictions_crysx_nn.dtype)\n",
    "targets_crysx_nn = targets_torch.cpu().detach().numpy()\n",
    "targets_cupy = cp.asarray(targets_crysx_nn)\n",
    "print(targets_crysx_nn.dtype)"
   ]
  },
  {
   "cell_type": "markdown",
   "id": "c863f928",
   "metadata": {},
   "source": [
    "## Now finally convert it to a tensorflow tensor"
   ]
  },
  {
   "cell_type": "code",
   "execution_count": 8,
   "id": "4191adb6",
   "metadata": {},
   "outputs": [],
   "source": [
    "predictions_tf = tf.convert_to_tensor(predictions_crysx_nn, dtype=tf.float32)\n",
    "targets_tf = tf.convert_to_tensor(targets_crysx_nn, dtype=tf.float32)"
   ]
  },
  {
   "cell_type": "markdown",
   "id": "0bc3a32c",
   "metadata": {},
   "source": [
    "## Benchmark MSE_loss"
   ]
  },
  {
   "cell_type": "markdown",
   "id": "d753f50d",
   "metadata": {},
   "source": [
    "### Confirm that all frameworks give the same results"
   ]
  },
  {
   "cell_type": "markdown",
   "id": "2904171d",
   "metadata": {},
   "source": [
    "PyTorch expects predictions first then targets\n",
    "\n",
    "PyTorch - https://pytorch.org/docs/stable/generated/torch.nn.MSELoss.html\n",
    "\n",
    "TensorFlow expects targets first then predictions\n",
    "\n",
    "Tensorflow - https://www.tensorflow.org/api_docs/python/tf/keras/losses/MeanSquaredError\n",
    "\n",
    "CrysX-NN doesn't return values averaged over samples. So take care of that."
   ]
  },
  {
   "cell_type": "code",
   "execution_count": 9,
   "id": "5f06c8a6",
   "metadata": {},
   "outputs": [
    {
     "name": "stdout",
     "output_type": "stream",
     "text": [
      "<class 'float'>\n",
      "Max abs diff b/w torch and tf 0.00012207031\n",
      "Max abs diff b/w torch and CrysX 5.8591345350578194e-05\n"
     ]
    }
   ],
   "source": [
    "# Torch\n",
    "mse_loss_func = torch.nn.MSELoss()\n",
    "mse_torch_value = mse_loss_func(predictions_torch, targets_torch)\n",
    "\n",
    "# CrysX\n",
    "mse_crysx_nn_value = MSE_loss_cupy(predictions_cupy, targets_cupy)/predictions_cupy.shape[0]\n",
    "print(type(mse_crysx_nn_value))\n",
    "\n",
    "# Tensorflow\n",
    "mse_tf_func = tf.keras.losses.MeanSquaredError()\n",
    "mse_tf_value = mse_tf_func(targets_tf, predictions_tf)\n",
    "\n",
    "#Diff b/w tf and torch\n",
    "print('Max abs diff b/w torch and tf', abs(mse_torch_value.cpu().detach().numpy() - mse_tf_value.numpy()).max())\n",
    "\n",
    "#Diff b/w crysx_nn and torch\n",
    "print('Max abs diff b/w torch and CrysX', abs(mse_torch_value.cpu().detach().numpy() - cp.asnumpy(mse_crysx_nn_value)).max())"
   ]
  },
  {
   "cell_type": "markdown",
   "id": "85aaea9f",
   "metadata": {},
   "source": [
    "### Compare performance with arrays of different sizes"
   ]
  },
  {
   "cell_type": "code",
   "execution_count": 10,
   "id": "2e0f23df",
   "metadata": {},
   "outputs": [
    {
     "name": "stdout",
     "output_type": "stream",
     "text": [
      "18 µs ± 1.55 µs per loop (mean ± std. dev. of 7 runs, 500 loops each)\n",
      "8.95 µs ± 851 ns per loop (mean ± std. dev. of 7 runs, 500 loops each)\n",
      "160 µs ± 20.3 µs per loop (mean ± std. dev. of 7 runs, 500 loops each)\n",
      "Size: (10, 10)\n",
      "Max abs diff b/w torch and tf 0.00012207031\n",
      "Max abs diff b/w torch and CrysX 1.0936111266346416e-05\n",
      "74.8 µs ± 1.21 µs per loop (mean ± std. dev. of 7 runs, 500 loops each)\n",
      "85.8 µs ± 11.5 µs per loop (mean ± std. dev. of 7 runs, 500 loops each)\n",
      "322 µs ± 9.56 µs per loop (mean ± std. dev. of 7 runs, 500 loops each)\n",
      "Size: (510, 510)\n",
      "Max abs diff b/w torch and tf 0.00012207031\n",
      "Max abs diff b/w torch and CrysX 0.00012443146670193528\n",
      "704 µs ± 36.9 µs per loop (mean ± std. dev. of 7 runs, 500 loops each)\n",
      "242 µs ± 49.9 µs per loop (mean ± std. dev. of 7 runs, 500 loops each)\n",
      "1.12 ms ± 29.3 µs per loop (mean ± std. dev. of 7 runs, 500 loops each)\n",
      "Size: (1010, 1010)\n",
      "Max abs diff b/w torch and tf 0.0\n",
      "Max abs diff b/w torch and CrysX 8.844012882036623e-05\n",
      "1.63 ms ± 99.9 µs per loop (mean ± std. dev. of 7 runs, 500 loops each)\n",
      "525 µs ± 56.9 µs per loop (mean ± std. dev. of 7 runs, 500 loops each)\n",
      "2.21 ms ± 326 µs per loop (mean ± std. dev. of 7 runs, 500 loops each)\n",
      "Size: (1510, 1510)\n",
      "Max abs diff b/w torch and tf 0.00012207031\n",
      "Max abs diff b/w torch and CrysX 1.367612981084676e-05\n",
      "3.08 ms ± 91.7 µs per loop (mean ± std. dev. of 7 runs, 500 loops each)\n",
      "1.1 ms ± 151 µs per loop (mean ± std. dev. of 7 runs, 500 loops each)\n",
      "3.34 ms ± 53.1 µs per loop (mean ± std. dev. of 7 runs, 500 loops each)\n",
      "Size: (2010, 2010)\n",
      "Max abs diff b/w torch and tf 0.00024414062\n",
      "Max abs diff b/w torch and CrysX 8.007828910194803e-05\n",
      "5.87 ms ± 800 µs per loop (mean ± std. dev. of 7 runs, 500 loops each)\n",
      "2 ms ± 329 µs per loop (mean ± std. dev. of 7 runs, 500 loops each)\n",
      "6.52 ms ± 592 µs per loop (mean ± std. dev. of 7 runs, 500 loops each)\n",
      "Size: (2510, 2510)\n",
      "Max abs diff b/w torch and tf 0.00024414062\n",
      "Max abs diff b/w torch and CrysX 7.005797215242637e-05\n"
     ]
    }
   ],
   "source": [
    "time_torch = []\n",
    "time_crysx_nn = []\n",
    "time_tf = []\n",
    "sizes = []\n",
    "\n",
    "for n_size in range(10,3000,500):\n",
    "    sizes.append(n_size*n_size)\n",
    "    # Torch input\n",
    "    predictions_torch = 100*torch.rand((n_size,n_size),requires_grad=True)\n",
    "    targets_torch = 100*torch.rand((n_size,n_size),requires_grad=True)\n",
    "    # CrysX-NN input\n",
    "    predictions_crysx_nn = predictions_torch.cpu().detach().numpy()\n",
    "    predictions_cupy = cp.asarray(predictions_crysx_nn)\n",
    "    targets_crysx_nn = targets_torch.cpu().detach().numpy()\n",
    "    targets_cupy = cp.asarray(targets_crysx_nn)\n",
    "    # Tensorflow input\n",
    "    predictions_tf = tf.convert_to_tensor(predictions_crysx_nn, dtype=tf.float32)\n",
    "    targets_tf = tf.convert_to_tensor(targets_crysx_nn, dtype=tf.float32)\n",
    "    \n",
    "    ##--Timings--\n",
    "    # Torch\n",
    "    mse_loss_func = torch.nn.MSELoss()\n",
    "    mse_torch_value = mse_loss_func(predictions_torch, targets_torch)\n",
    "    time = %timeit -n 500 -o mse_loss_func(predictions_torch, targets_torch)\n",
    "    # For time of each run\n",
    "    time_torch.append(np.mean(time.timings)) \n",
    "    # For total time\n",
    "#     time_torch.append(np.mean(time.all_runs)) \n",
    "    # CrysX\n",
    "    mse_crysx_nn_value = MSE_loss_cupy(predictions_cupy, targets_cupy)/predictions_cupy.shape[0]\n",
    "    time = %timeit -n 500 -o MSE_loss_cupy(predictions_cupy, targets_cupy)/predictions_cupy.shape[0]\n",
    "    # For time of each run\n",
    "    time_crysx_nn.append(np.mean(time.timings))\n",
    "    # Tensorflow\n",
    "    mse_tf_func = tf.keras.losses.MeanSquaredError()\n",
    "    mse_tf_value = mse_tf_func(targets_tf, predictions_tf)\n",
    "    time = %timeit -n 500 -o mse_tf_func(targets_tf, predictions_tf)\n",
    "    # For time of each run\n",
    "    time_tf.append(np.mean(time.timings))\n",
    "    print('Size:', predictions_crysx_nn.shape)\n",
    "    #Diff b/w tf and torch\n",
    "    print('Max abs diff b/w torch and tf', abs(mse_torch_value.cpu().detach().numpy() - mse_tf_value.numpy()).max())\n",
    "    #Diff b/w crysx_nn and torch\n",
    "    print('Max abs diff b/w torch and CrysX', abs(mse_torch_value.cpu().detach().numpy() - cp.asnumpy(mse_crysx_nn_value)).max())"
   ]
  },
  {
   "cell_type": "markdown",
   "id": "ff5bfcd1",
   "metadata": {},
   "source": [
    "### Plot the results"
   ]
  },
  {
   "cell_type": "code",
   "execution_count": 11,
   "id": "51a5ca51",
   "metadata": {
    "scrolled": true
   },
   "outputs": [
    {
     "data": {
      "image/png": "[encoded data removed]",
      "text/plain": [
       "<Figure size 432x288 with 1 Axes>"
      ]
     },
     "metadata": {
      "needs_background": "light"
     },
     "output_type": "display_data"
    }
   ],
   "source": [
    "\n",
    "plt.plot(sizes,time_torch, label='PyTorch')\n",
    "plt.plot(sizes,time_crysx_nn, label='CrysX-NN')\n",
    "plt.plot(sizes,time_tf, label='Tensorflow')\n",
    "plt.legend()\n",
    "plt.xlabel('Array sizes')\n",
    "plt.ylabel('Average Time (seconds)')\n",
    "plt.title('Benchmark MSE_loss (GPU)')\n",
    "# plt.show()\n",
    "plt.subplots_adjust(left=0.15)\n",
    "from google.colab import files\n",
    "plt.savefig(\"MSE_loss_GPU.png\", transparent=True)\n",
    "files.download(\"MSE_loss_GPU.png\")"
   ]
  },
  {
   "cell_type": "markdown",
   "id": "0eb92839",
   "metadata": {},
   "source": [
    "### Validate gradients"
   ]
  },
  {
   "cell_type": "code",
   "execution_count": 12,
   "id": "e95b2ee0",
   "metadata": {},
   "outputs": [],
   "source": [
    "def tf_mse_grad(targets_tf, predictions_tf):\n",
    "    with tf.GradientTape() as g:\n",
    "        g.watch(predictions_tf)\n",
    "        mse_tf_func = tf.keras.losses.MeanSquaredError()\n",
    "        mse_tf_value = mse_tf_func(targets_tf, predictions_tf)\n",
    "    grad = g.gradient(mse_tf_value, predictions_tf)\n",
    "    return grad#.numpy()"
   ]
  },
  {
   "cell_type": "code",
   "execution_count": 13,
   "id": "fb4b66d4",
   "metadata": {},
   "outputs": [
    {
     "name": "stdout",
     "output_type": "stream",
     "text": [
      "Max abs diff b/w torch and tf 4.656613e-10\n",
      "Max abs diff b/w torch and CrysX 2.3283064e-10\n"
     ]
    }
   ],
   "source": [
    "# Torch input\n",
    "predictions_torch = 10000*torch.rand((2000,3000),requires_grad=True)\n",
    "targets_torch = 10000*torch.rand((2000,3000),requires_grad=True)\n",
    "# CrysX-NN input\n",
    "predictions_crysx_nn = predictions_torch.cpu().detach().numpy()\n",
    "predictions_cupy = cp.asarray(predictions_crysx_nn)\n",
    "targets_crysx_nn = targets_torch.cpu().detach().numpy()\n",
    "targets_cupy = cp.asarray(targets_crysx_nn)\n",
    "# Tensorflow input\n",
    "predictions_tf = tf.convert_to_tensor(predictions_crysx_nn, dtype=tf.float32)\n",
    "targets_tf = tf.convert_to_tensor(targets_crysx_nn, dtype=tf.float32)\n",
    "\n",
    "# Torch\n",
    "mse_loss_func = torch.nn.MSELoss()\n",
    "mse_torch_value = mse_loss_func(predictions_torch, targets_torch)\n",
    "mse_torch_value.backward()\n",
    "gradientTorch = torch.autograd.grad(mse_loss_func(predictions_torch,targets_torch),predictions_torch)[0]\n",
    "# print(gradientTorch)\n",
    "\n",
    "# CrysX\n",
    "gradientCrysX_NN = MSE_loss_grad_cupy(predictions_cupy, targets_cupy)/predictions_cupy.shape[0]\n",
    "\n",
    "# Tensorflow\n",
    "gradientTF = tf_mse_grad(targets_tf, predictions_tf)\n",
    "\n",
    "#Diff b/w tf and torch\n",
    "print('Max abs diff b/w torch and tf', abs(gradientTorch.cpu().detach().numpy() - gradientTF.numpy()).max())\n",
    "\n",
    "#Diff b/w crysx_nn and torch\n",
    "print('Max abs diff b/w torch and CrysX', abs(gradientTorch.cpu().detach().numpy() - cp.asnumpy(gradientCrysX_NN)).max())"
   ]
  },
  {
   "cell_type": "markdown",
   "id": "caa5242f",
   "metadata": {},
   "source": [
    "## Benchmark BCE_loss"
   ]
  },
  {
   "cell_type": "markdown",
   "id": "31b6bbf0",
   "metadata": {},
   "source": [
    "### Confirm that all frameworks give the same results"
   ]
  },
  {
   "cell_type": "markdown",
   "id": "0a45c485",
   "metadata": {},
   "source": [
    "PyTorch expects predictions first then targets\n",
    "\n",
    "PyTorch - https://pytorch.org/docs/stable/generated/torch.nn.BCELoss.html\n",
    "\n",
    "TensorFlow expects targets first then predictions\n",
    "\n",
    "Tensorflow - https://www.tensorflow.org/api_docs/python/tf/keras/losses/BinaryCrossentropy\n",
    "\n",
    "CrysX-NN doesn't return values averaged over samples. So take care of that."
   ]
  },
  {
   "cell_type": "code",
   "execution_count": 14,
   "id": "a540f503",
   "metadata": {},
   "outputs": [
    {
     "name": "stdout",
     "output_type": "stream",
     "text": [
      "Max abs diff b/w torch and tf 1.847744e-06\n",
      "Max abs diff b/w torch and CrysX 1.7121086205440506e-06\n"
     ]
    }
   ],
   "source": [
    "# Torch input\n",
    "predictions_torch = torch.rand((2000,3000),requires_grad=True)\n",
    "# print(predictions_torch)\n",
    "targets_torch = torch.randint(low=0,high=2, size=(2000,3000)).float()\n",
    "# print(targets_torch)\n",
    "# CrysX-NN input\n",
    "predictions_crysx_nn = predictions_torch.cpu().detach().numpy()\n",
    "predictions_cupy = cp.asarray(predictions_crysx_nn)\n",
    "targets_crysx_nn = targets_torch.cpu().detach().numpy()\n",
    "targets_cupy = cp.asarray(targets_crysx_nn)\n",
    "# Tensorflow input\n",
    "predictions_tf = tf.convert_to_tensor(predictions_crysx_nn, dtype=tf.float32)\n",
    "targets_tf = tf.convert_to_tensor(targets_crysx_nn, dtype=tf.float32)\n",
    "\n",
    "# Torch\n",
    "bce_loss_func = torch.nn.BCELoss()\n",
    "bce_torch_value = bce_loss_func(predictions_torch, targets_torch)\n",
    "\n",
    "# CrysX\n",
    "bce_crysx_nn_value = BCE_loss_cupy(predictions_cupy, targets_cupy)/predictions_cupy.shape[0]\n",
    "# print(bce_crysx_nn_value)\n",
    "\n",
    "# Tensorflow\n",
    "bce_tf_func = tf.keras.losses.BinaryCrossentropy()\n",
    "bce_tf_value = bce_tf_func(targets_tf, predictions_tf)\n",
    "\n",
    "#Diff b/w tf and torch\n",
    "print('Max abs diff b/w torch and tf', abs(bce_torch_value.cpu().detach().numpy() - bce_tf_value.numpy()).max())\n",
    "\n",
    "#Diff b/w crysx_nn and torch\n",
    "print('Max abs diff b/w torch and CrysX', abs(bce_torch_value.cpu().detach().numpy() - cp.asnumpy(bce_crysx_nn_value)).max())"
   ]
  },
  {
   "cell_type": "markdown",
   "id": "e9790f4c",
   "metadata": {},
   "source": [
    "### Compare performance with arrays of different sizes"
   ]
  },
  {
   "cell_type": "code",
   "execution_count": 15,
   "id": "a0dc38b5",
   "metadata": {},
   "outputs": [
    {
     "name": "stdout",
     "output_type": "stream",
     "text": [
      "25 µs ± 3.88 µs per loop (mean ± std. dev. of 7 runs, 100 loops each)\n",
      "10.3 µs ± 2.76 µs per loop (mean ± std. dev. of 7 runs, 100 loops each)\n",
      "364 µs ± 67.9 µs per loop (mean ± std. dev. of 7 runs, 100 loops each)\n",
      "Size: (10, 10)\n",
      "Max abs diff b/w torch and tf 1.0728836e-06\n",
      "Max abs diff b/w torch and CrysX 1.0268600559859564e-06\n",
      "875 µs ± 24.6 µs per loop (mean ± std. dev. of 7 runs, 100 loops each)\n",
      "862 µs ± 23.8 µs per loop (mean ± std. dev. of 7 runs, 100 loops each)\n",
      "1.17 ms ± 30.7 µs per loop (mean ± std. dev. of 7 runs, 100 loops each)\n",
      "Size: (510, 510)\n",
      "Max abs diff b/w torch and tf 1.4901161e-06\n",
      "Max abs diff b/w torch and CrysX 1.496214937279916e-06\n",
      "3.67 ms ± 47.7 µs per loop (mean ± std. dev. of 7 runs, 100 loops each)\n",
      "4.02 ms ± 58.3 µs per loop (mean ± std. dev. of 7 runs, 100 loops each)\n",
      "12 ms ± 877 µs per loop (mean ± std. dev. of 7 runs, 100 loops each)\n",
      "Size: (1010, 1010)\n",
      "Max abs diff b/w torch and tf 1.5497208e-06\n",
      "Max abs diff b/w torch and CrysX 1.4853874583664606e-06\n",
      "7.89 ms ± 198 µs per loop (mean ± std. dev. of 7 runs, 100 loops each)\n",
      "10.1 ms ± 281 µs per loop (mean ± std. dev. of 7 runs, 100 loops each)\n",
      "23.5 ms ± 3.16 ms per loop (mean ± std. dev. of 7 runs, 100 loops each)\n",
      "Size: (1510, 1510)\n",
      "Max abs diff b/w torch and tf 1.5497208e-06\n",
      "Max abs diff b/w torch and CrysX 1.511425117284304e-06\n",
      "14.1 ms ± 485 µs per loop (mean ± std. dev. of 7 runs, 100 loops each)\n",
      "17.4 ms ± 569 µs per loop (mean ± std. dev. of 7 runs, 100 loops each)\n",
      "31.9 ms ± 578 µs per loop (mean ± std. dev. of 7 runs, 100 loops each)\n",
      "Size: (2010, 2010)\n",
      "Max abs diff b/w torch and tf 1.5497208e-06\n",
      "Max abs diff b/w torch and CrysX 1.6913695630726977e-06\n",
      "20.8 ms ± 345 µs per loop (mean ± std. dev. of 7 runs, 100 loops each)\n",
      "29.6 ms ± 2.48 ms per loop (mean ± std. dev. of 7 runs, 100 loops each)\n",
      "57.7 ms ± 7.38 ms per loop (mean ± std. dev. of 7 runs, 100 loops each)\n",
      "Size: (2510, 2510)\n",
      "Max abs diff b/w torch and tf 1.7881393e-06\n",
      "Max abs diff b/w torch and CrysX 1.573907691732046e-06\n"
     ]
    }
   ],
   "source": [
    "time_torch = []\n",
    "time_crysx_nn = []\n",
    "time_tf = []\n",
    "sizes = []\n",
    "\n",
    "for n_size in range(10,3000,500):\n",
    "    sizes.append(n_size*n_size)\n",
    "    # Torch input\n",
    "    predictions_torch = torch.rand((n_size,n_size),requires_grad=True)\n",
    "    targets_torch = torch.randint(low=0,high=2, size=(n_size,n_size)).float()\n",
    "    # CrysX-NN input\n",
    "    predictions_crysx_nn = predictions_torch.cpu().detach().numpy()\n",
    "    predictions_cupy = cp.asarray(predictions_crysx_nn)\n",
    "    targets_crysx_nn = targets_torch.cpu().detach().numpy()\n",
    "    targets_cupy = cp.asarray(targets_crysx_nn)\n",
    "    # Tensorflow input\n",
    "    predictions_tf = tf.convert_to_tensor(predictions_crysx_nn, dtype=tf.float32)\n",
    "    targets_tf = tf.convert_to_tensor(targets_crysx_nn, dtype=tf.float32)\n",
    "    \n",
    "    ##--Timings--\n",
    "    # Torch\n",
    "    bce_loss_func = torch.nn.BCELoss()\n",
    "    bce_torch_value = bce_loss_func(predictions_torch, targets_torch)\n",
    "    time = %timeit -n 100 -o bce_loss_func(predictions_torch, targets_torch)\n",
    "    # For time of each run\n",
    "    time_torch.append(np.mean(time.timings)) \n",
    "    # For total time\n",
    "#     time_torch.append(np.mean(time.all_runs)) \n",
    "    # CrysX\n",
    "    bce_crysx_nn_value = BCE_loss_cupy(predictions_cupy, targets_cupy)/predictions_cupy.shape[0]\n",
    "    time = %timeit -n 100 -o BCE_loss_cupy(predictions_cupy, targets_cupy)/predictions_cupy.shape[0]\n",
    "    # For time of each run\n",
    "    time_crysx_nn.append(np.mean(time.timings))\n",
    "    # Tensorflow\n",
    "    bce_tf_func = tf.keras.losses.BinaryCrossentropy()\n",
    "    bce_tf_value = bce_tf_func(targets_tf, predictions_tf)\n",
    "    time = %timeit -n 100 -o bce_tf_func(targets_tf, predictions_tf)\n",
    "    # For time of each run\n",
    "    time_tf.append(np.mean(time.timings))\n",
    "    print('Size:', predictions_crysx_nn.shape)\n",
    "    #Diff b/w tf and torch\n",
    "    print('Max abs diff b/w torch and tf', abs(bce_torch_value.cpu().detach().numpy() - bce_tf_value.numpy()).max())\n",
    "    #Diff b/w crysx_nn and torch\n",
    "    print('Max abs diff b/w torch and CrysX', abs(bce_torch_value.cpu().detach().numpy() - cp.asnumpy(bce_crysx_nn_value)).max())"
   ]
  },
  {
   "cell_type": "markdown",
   "id": "f8334fe8",
   "metadata": {},
   "source": [
    "### Plot the results"
   ]
  },
  {
   "cell_type": "code",
   "execution_count": 16,
   "id": "e6d9fa6d",
   "metadata": {
    "scrolled": true
   },
   "outputs": [
    {
     "data": {
      "image/png": "[encoded data removed]",
      "text/plain": [
       "<Figure size 432x288 with 1 Axes>"
      ]
     },
     "metadata": {
      "needs_background": "light"
     },
     "output_type": "display_data"
    }
   ],
   "source": [
    "\n",
    "plt.plot(sizes,time_torch, label='PyTorch')\n",
    "plt.plot(sizes,time_crysx_nn, label='CrysX-NN')\n",
    "plt.plot(sizes,time_tf, label='Tensorflow')\n",
    "plt.legend()\n",
    "plt.xlabel('Array sizes')\n",
    "plt.ylabel('Average Time (seconds)')\n",
    "plt.title('Benchmark BCE_loss (GPU)')\n",
    "# plt.show()\n",
    "plt.subplots_adjust(left=0.15)\n",
    "plt.savefig(\"BCE_loss_GPU.png\", transparent=True)\n",
    "files.download(\"BCE_loss_GPU.png\")"
   ]
  },
  {
   "cell_type": "markdown",
   "id": "4649e73a",
   "metadata": {},
   "source": [
    "### Validate gradients"
   ]
  },
  {
   "cell_type": "code",
   "execution_count": 17,
   "id": "e3cb079e",
   "metadata": {},
   "outputs": [],
   "source": [
    "def tf_bce_grad(targets_tf, predictions_tf):\n",
    "    with tf.GradientTape() as g:\n",
    "        g.watch(predictions_tf)\n",
    "        bce_tf_func = tf.keras.losses.BinaryCrossentropy()\n",
    "        bce_tf_value = bce_tf_func(targets_tf, predictions_tf)\n",
    "    grad = g.gradient(bce_tf_value, predictions_tf)\n",
    "    return grad#.numpy()"
   ]
  },
  {
   "cell_type": "code",
   "execution_count": 18,
   "id": "a77feeb5",
   "metadata": {},
   "outputs": [
    {
     "name": "stderr",
     "output_type": "stream",
     "text": [
      "C:\\Users\\manas\\anaconda3\\envs\\crysx_nn\\lib\\site-packages\\ipykernel_launcher.py:9: UserWarning: Implicit dimension choice for softmax has been deprecated. Change the call to include dim=X as an argument.\n",
      "  if __name__ == '__main__':\n"
     ]
    },
    {
     "name": "stdout",
     "output_type": "stream",
     "text": [
      "Max abs diff b/w torch and tf 4.490139e-07\n",
      "Max abs diff b/w torch and CrysX 1.1641532e-10\n"
     ]
    }
   ],
   "source": [
    "nSamples = 2000\n",
    "nOutputs = 3000#nClasess\n",
    "# Torch input\n",
    "predictions_torch_ = torch.rand((nSamples,nOutputs),requires_grad=True)\n",
    "# print(predictions_torch)\n",
    "# Predictions are supposed to be probabilities from 0 to 1, summing upto 1.\n",
    "# Therefore, apply a softmax on them\n",
    "m = torch.nn.Softmax()\n",
    "predictions_torch = m(predictions_torch_)\n",
    "# print(predictions_torch)\n",
    "# Generate random one hot vectors matrix\n",
    "# No. of classes\n",
    "n = nOutputs\n",
    "target_indices = torch.randint(1,n, size=(1,nSamples)).reshape(nSamples) # Get a 1D tensor index of size =nSamples=2000\n",
    "# print(target_indices)\n",
    "# print(target_indices.shape)\n",
    "# Convert the index tensor to one-hot encoded vectors matrix\n",
    "target_one_hot = torch.nn.functional.one_hot(target_indices, n) # size=(4,7,n)\n",
    "targets_torch = target_one_hot.float() # torch.randint(low=0,high=2, size=(2000,3000)).float()\n",
    "# print(targets_torch)\n",
    "# print(targets_torch.shape)\n",
    "# CrysX-NN input\n",
    "predictions_crysx_nn = predictions_torch.cpu().detach().numpy()\n",
    "predictions_cupy = cp.asarray(predictions_crysx_nn)\n",
    "targets_crysx_nn = targets_torch.cpu().detach().numpy()\n",
    "targets_cupy = cp.asarray(targets_crysx_nn)\n",
    "# Tensorflow input\n",
    "predictions_tf = tf.convert_to_tensor(predictions_crysx_nn, dtype=tf.float32)\n",
    "targets_tf = tf.convert_to_tensor(targets_crysx_nn, dtype=tf.float32)\n",
    "\n",
    "# Torch\n",
    "bce_loss_func = torch.nn.BCELoss()\n",
    "bce_torch_value = bce_loss_func(predictions_torch, targets_torch)\n",
    "bce_torch_value.backward()\n",
    "gradientTorch = torch.autograd.grad(bce_loss_func(predictions_torch,targets_torch),predictions_torch)[0]\n",
    "# print(gradientTorch)\n",
    "\n",
    "# CrysX\n",
    "gradientCrysX_NN = BCE_loss_grad_cupy(predictions_cupy, targets_cupy)/predictions_cupy.shape[0]\n",
    "\n",
    "# Tensorflow\n",
    "gradientTF = tf_bce_grad(targets_tf, predictions_tf)\n",
    "\n",
    "#Diff b/w tf and torch\n",
    "print('Max abs diff b/w torch and tf', abs(gradientTorch.cpu().detach().numpy() - gradientTF.numpy()).max())\n",
    "\n",
    "#Diff b/w crysx_nn and torch\n",
    "print('Max abs diff b/w torch and CrysX', abs(gradientTorch.cpu().detach().numpy() - cp.asnumpy(gradientCrysX_NN)).max())"
   ]
  },
  {
   "cell_type": "markdown",
   "id": "74f52dd1",
   "metadata": {},
   "source": [
    "## Benchmark MAE_loss"
   ]
  },
  {
   "cell_type": "markdown",
   "id": "b98b8852",
   "metadata": {},
   "source": [
    "### Confirm that all frameworks give the same results"
   ]
  },
  {
   "cell_type": "markdown",
   "id": "52b60d80",
   "metadata": {},
   "source": [
    "PyTorch expects predictions first then targets\n",
    "\n",
    "PyTorch - https://pytorch.org/docs/stable/generated/torch.nn.L1Loss.html\n",
    "\n",
    "TensorFlow expects targets first then predictions\n",
    "\n",
    "Tensorflow - https://www.tensorflow.org/api_docs/python/tf/keras/losses/MeanAbsoluteError\n",
    "\n",
    "CrysX-NN doesn't return values averaged over samples. So take care of that."
   ]
  },
  {
   "cell_type": "code",
   "execution_count": 19,
   "id": "0bd24a9b",
   "metadata": {},
   "outputs": [
    {
     "name": "stdout",
     "output_type": "stream",
     "text": [
      "<class 'float'>\n",
      "Max abs diff b/w torch and tf 3.8146973e-06\n",
      "Max abs diff b/w torch and CrysX 9.815693147174898e-08\n"
     ]
    }
   ],
   "source": [
    "# Torch\n",
    "predictions_torch = 100*torch.rand((300,100),requires_grad=True)\n",
    "targets_torch = 100*torch.rand((300,100),requires_grad=True)\n",
    "# CrysX\n",
    "predictions_crysx_nn = predictions_torch.cpu().detach().numpy()\n",
    "predictions_cupy = cp.asarray(predictions_crysx_nn)\n",
    "targets_crysx_nn = targets_torch.cpu().detach().numpy()\n",
    "targets_cupy = cp.asarray(targets_crysx_nn)\n",
    "# TensorFlow\n",
    "predictions_tf = tf.convert_to_tensor(predictions_crysx_nn, dtype=tf.float32)\n",
    "targets_tf = tf.convert_to_tensor(targets_crysx_nn, dtype=tf.float32)\n",
    "\n",
    "# Torch\n",
    "mae_loss_func = torch.nn.L1Loss()\n",
    "mae_torch_value = mae_loss_func(predictions_torch, targets_torch)\n",
    "\n",
    "# CrysX\n",
    "mae_crysx_nn_value = MAE_loss_cupy(predictions_cupy, targets_cupy)/predictions_cupy.shape[0]\n",
    "print(type(mae_crysx_nn_value))\n",
    "\n",
    "# Tensorflow\n",
    "mae_tf_func = tf.keras.losses.MeanAbsoluteError()\n",
    "mae_tf_value = mae_tf_func(targets_tf, predictions_tf)\n",
    "\n",
    "#Diff b/w tf and torch\n",
    "print('Max abs diff b/w torch and tf', abs(mae_torch_value.cpu().detach().numpy() - mae_tf_value.numpy()).max())\n",
    "\n",
    "#Diff b/w crysx_nn and torch\n",
    "print('Max abs diff b/w torch and CrysX', abs(mae_torch_value.cpu().detach().numpy() - cp.asnumpy(mae_crysx_nn_value)).max())"
   ]
  },
  {
   "cell_type": "markdown",
   "id": "5cbc657a",
   "metadata": {},
   "source": [
    "### Compare performance with arrays of different sizes"
   ]
  },
  {
   "cell_type": "code",
   "execution_count": 20,
   "id": "3f7c51cb",
   "metadata": {},
   "outputs": [
    {
     "name": "stdout",
     "output_type": "stream",
     "text": [
      "23.5 µs ± 1.61 µs per loop (mean ± std. dev. of 7 runs, 300 loops each)\n",
      "8.14 µs ± 1.04 µs per loop (mean ± std. dev. of 7 runs, 300 loops each)\n",
      "183 µs ± 31.7 µs per loop (mean ± std. dev. of 7 runs, 300 loops each)\n",
      "Size: (10, 10)\n",
      "Max abs diff b/w torch and tf 3.8146973e-06\n",
      "Max abs diff b/w torch and CrysX 2.1600723272285904e-06\n",
      "192 µs ± 2.55 µs per loop (mean ± std. dev. of 7 runs, 300 loops each)\n",
      "58 µs ± 1.63 µs per loop (mean ± std. dev. of 7 runs, 300 loops each)\n",
      "402 µs ± 39.4 µs per loop (mean ± std. dev. of 7 runs, 300 loops each)\n",
      "Size: (510, 510)\n",
      "Max abs diff b/w torch and tf 3.8146973e-06\n",
      "Max abs diff b/w torch and CrysX 3.334936025112256e-07\n",
      "1.33 ms ± 125 µs per loop (mean ± std. dev. of 7 runs, 300 loops each)\n",
      "150 µs ± 28.2 µs per loop (mean ± std. dev. of 7 runs, 300 loops each)\n",
      "2.26 ms ± 202 µs per loop (mean ± std. dev. of 7 runs, 300 loops each)\n",
      "Size: (1010, 1010)\n",
      "Max abs diff b/w torch and tf 0.0\n",
      "Max abs diff b/w torch and CrysX 1.8503593182117584e-06\n",
      "2.55 ms ± 273 µs per loop (mean ± std. dev. of 7 runs, 300 loops each)\n",
      "369 µs ± 71.8 µs per loop (mean ± std. dev. of 7 runs, 300 loops each)\n",
      "4.31 ms ± 409 µs per loop (mean ± std. dev. of 7 runs, 300 loops each)\n",
      "Size: (1510, 1510)\n",
      "Max abs diff b/w torch and tf 0.0\n",
      "Max abs diff b/w torch and CrysX 1.5486929925145887e-06\n",
      "5.71 ms ± 532 µs per loop (mean ± std. dev. of 7 runs, 300 loops each)\n",
      "681 µs ± 202 µs per loop (mean ± std. dev. of 7 runs, 300 loops each)\n",
      "6.34 ms ± 665 µs per loop (mean ± std. dev. of 7 runs, 300 loops each)\n",
      "Size: (2010, 2010)\n",
      "Max abs diff b/w torch and tf 3.8146973e-06\n",
      "Max abs diff b/w torch and CrysX 2.5702165515895103e-06\n",
      "9.56 ms ± 1.03 ms per loop (mean ± std. dev. of 7 runs, 300 loops each)\n",
      "1.4 ms ± 293 µs per loop (mean ± std. dev. of 7 runs, 300 loops each)\n",
      "10.5 ms ± 791 µs per loop (mean ± std. dev. of 7 runs, 300 loops each)\n",
      "Size: (2510, 2510)\n",
      "Max abs diff b/w torch and tf 3.8146973e-06\n",
      "Max abs diff b/w torch and CrysX 3.6682054513903495e-06\n"
     ]
    }
   ],
   "source": [
    "time_torch = []\n",
    "time_crysx_nn = []\n",
    "time_tf = []\n",
    "sizes = []\n",
    "\n",
    "for n_size in range(10,3000,500):\n",
    "    sizes.append(n_size*n_size)\n",
    "    # Torch input\n",
    "    predictions_torch = 100*torch.rand((n_size,n_size),requires_grad=True)\n",
    "    targets_torch = 100*torch.rand((n_size,n_size),requires_grad=True)\n",
    "    # CrysX-NN input\n",
    "    predictions_crysx_nn = predictions_torch.cpu().detach().numpy()\n",
    "    predictions_cupy = cp.asarray(predictions_crysx_nn)\n",
    "    targets_crysx_nn = targets_torch.cpu().detach().numpy()\n",
    "    targets_cupy = cp.asarray(targets_crysx_nn)\n",
    "    # Tensorflow input\n",
    "    predictions_tf = tf.convert_to_tensor(predictions_crysx_nn, dtype=tf.float32)\n",
    "    targets_tf = tf.convert_to_tensor(targets_crysx_nn, dtype=tf.float32)\n",
    "    \n",
    "    ##--Timings--\n",
    "    # Torch\n",
    "    mae_loss_func = torch.nn.L1Loss()\n",
    "    mae_torch_value = mae_loss_func(predictions_torch, targets_torch)\n",
    "    time = %timeit -n 300 -o mae_loss_func(predictions_torch, targets_torch)\n",
    "    # For time of each run\n",
    "    time_torch.append(np.mean(time.timings)) \n",
    "    # For total time\n",
    "#     time_torch.append(np.mean(time.all_runs)) \n",
    "    # CrysX\n",
    "    mae_crysx_nn_value = MAE_loss_cupy(predictions_cupy, targets_cupy)/predictions_cupy.shape[0]\n",
    "    time = %timeit -n 300 -o MAE_loss_cupy(predictions_cupy, targets_cupy)/predictions_cupy.shape[0]\n",
    "    # For time of each run\n",
    "    time_crysx_nn.append(np.mean(time.timings))\n",
    "    # Tensorflow\n",
    "    mae_tf_func = tf.keras.losses.MeanAbsoluteError()\n",
    "    mae_tf_value = mae_tf_func(targets_tf, predictions_tf)\n",
    "    time = %timeit -n 300 -o mae_tf_func(targets_tf, predictions_tf)\n",
    "    # For time of each run\n",
    "    time_tf.append(np.mean(time.timings))\n",
    "    print('Size:', predictions_crysx_nn.shape)\n",
    "    #Diff b/w tf and torch\n",
    "    print('Max abs diff b/w torch and tf', abs(mae_torch_value.cpu().detach().numpy() - mae_tf_value.numpy()).max())\n",
    "    #Diff b/w crysx_nn and torch\n",
    "    print('Max abs diff b/w torch and CrysX', abs(mae_torch_value.cpu().detach().numpy() - cp.asnumpy(mae_crysx_nn_value)).max())"
   ]
  },
  {
   "cell_type": "markdown",
   "id": "b3a9d367",
   "metadata": {},
   "source": [
    "### Plot the results"
   ]
  },
  {
   "cell_type": "code",
   "execution_count": 21,
   "id": "37190061",
   "metadata": {
    "scrolled": false
   },
   "outputs": [
    {
     "data": {
      "image/png": "[encoded data removed]",
      "text/plain": [
       "<Figure size 432x288 with 1 Axes>"
      ]
     },
     "metadata": {
      "needs_background": "light"
     },
     "output_type": "display_data"
    }
   ],
   "source": [
    "\n",
    "plt.plot(sizes,time_torch, label='PyTorch')\n",
    "plt.plot(sizes,time_crysx_nn, label='CrysX-NN')\n",
    "plt.plot(sizes,time_tf, label='Tensorflow')\n",
    "plt.legend()\n",
    "plt.xlabel('Array sizes')\n",
    "plt.ylabel('Average Time (seconds)')\n",
    "plt.title('Benchmark MAE_loss (GPU)')\n",
    "# plt.show()\n",
    "plt.subplots_adjust(left=0.15)\n",
    "plt.savefig(\"MAE_loss_GPU.png\", transparent=True)\n",
    "files.download(\"MAE_loss_GPU.png\")"
   ]
  },
  {
   "cell_type": "markdown",
   "id": "bb147c4a",
   "metadata": {},
   "source": [
    "### Validate gradients"
   ]
  },
  {
   "cell_type": "code",
   "execution_count": 22,
   "id": "782760f7",
   "metadata": {},
   "outputs": [],
   "source": [
    "def tf_mae_grad(targets_tf, predictions_tf):\n",
    "    with tf.GradientTape() as g:\n",
    "        g.watch(predictions_tf)\n",
    "        mae_tf_func = tf.keras.losses.MeanAbsoluteError()\n",
    "        mae_tf_value = mae_tf_func(targets_tf, predictions_tf)\n",
    "    grad = g.gradient(mae_tf_value, predictions_tf)\n",
    "    return grad#.numpy()"
   ]
  },
  {
   "cell_type": "code",
   "execution_count": 23,
   "id": "8f4e7c31",
   "metadata": {},
   "outputs": [
    {
     "name": "stdout",
     "output_type": "stream",
     "text": [
      "Max abs diff b/w torch and tf 1.4210855e-14\n",
      "Max abs diff b/w torch and CrysX 4.2079286565503357e-16\n"
     ]
    }
   ],
   "source": [
    "# Torch input\n",
    "predictions_torch = 10000*torch.rand((2000,3000),requires_grad=True)\n",
    "targets_torch = 10000*torch.rand((2000,3000),requires_grad=True)\n",
    "# CrysX-NN input\n",
    "predictions_crysx_nn = predictions_torch.cpu().detach().numpy()\n",
    "predictions_cupy = cp.asarray(predictions_crysx_nn)\n",
    "targets_crysx_nn = targets_torch.cpu().detach().numpy()\n",
    "targets_cupy = cp.asarray(targets_crysx_nn)\n",
    "# Tensorflow input\n",
    "predictions_tf = tf.convert_to_tensor(predictions_crysx_nn, dtype=tf.float32)\n",
    "targets_tf = tf.convert_to_tensor(targets_crysx_nn, dtype=tf.float32)\n",
    "\n",
    "# Torch\n",
    "mae_loss_func = torch.nn.L1Loss()\n",
    "mae_torch_value = mae_loss_func(predictions_torch, targets_torch)\n",
    "mae_torch_value.backward()\n",
    "gradientTorch = torch.autograd.grad(mae_loss_func(predictions_torch,targets_torch),predictions_torch)[0]\n",
    "# print(gradientTorch)\n",
    "\n",
    "# CrysX\n",
    "gradientCrysX_NN = MAE_loss_grad_cupy(predictions_crysx_nn, targets_crysx_nn)/predictions_crysx_nn.shape[0]\n",
    "# print(gradientCrysX_NN)\n",
    "\n",
    "\n",
    "# Tensorflow\n",
    "gradientTF = tf_mae_grad(targets_tf, predictions_tf)\n",
    "\n",
    "#Diff b/w tf and torch\n",
    "print('Max abs diff b/w torch and tf', abs(gradientTorch.cpu().detach().numpy() - gradientTF.numpy()).max())\n",
    "\n",
    "#Diff b/w crysx_nn and torch\n",
    "print('Max abs diff b/w torch and CrysX', abs(gradientTorch.cpu().detach().numpy() - cp.asnumpy(gradientCrysX_NN)).max())"
   ]
  },
  {
   "cell_type": "markdown",
   "id": "60f066a3",
   "metadata": {},
   "source": [
    "## Benchmark CCE_loss"
   ]
  },
  {
   "cell_type": "markdown",
   "id": "035b2ae4",
   "metadata": {},
   "source": [
    "### Confirm that all frameworks give the same results"
   ]
  },
  {
   "cell_type": "markdown",
   "id": "ff39cc7f",
   "metadata": {},
   "source": [
    "PyTorch expects predictions first then targets\n",
    "\n",
    "PyTorch - https://pytorch.org/docs/stable/generated/torch.nn.CrossEntropyLoss.html\n",
    "\n",
    "TensorFlow expects targets first then predictions\n",
    "\n",
    "Tensorflow - https://www.tensorflow.org/api_docs/python/tf/keras/losses/CategoricalCrossentropy\n",
    "\n",
    "CrysX-NN doesn't return values averaged over samples. So take care of that.\n",
    "\n",
    "<b>Note:</b> TensorFlow and CrysX-NN expect one-hot encoded vectors.\n",
    "<b>Note:</b> Unfortunately, PyTorch computes the Cross Entropy in a weird fashion. It expects the inputs to not be probabilities. Rather it computes the probabilities from the inputs using the Softmax function and then returns the Cross Entropy Loss.https://stackoverflow.com/questions/49390842/cross-entropy-in-pytorch\n",
    "\n",
    "Unrelated but useful info some of the answers and comments for future reference: https://stackoverflow.com/questions/42081257/why-binary-crossentropy-and-categorical-crossentropy-give-different-performances"
   ]
  },
  {
   "cell_type": "code",
   "execution_count": 24,
   "id": "beb64abb",
   "metadata": {},
   "outputs": [
    {
     "name": "stderr",
     "output_type": "stream",
     "text": [
      "C:\\Users\\manas\\anaconda3\\envs\\crysx_nn\\lib\\site-packages\\ipykernel_launcher.py:9: UserWarning: Implicit dimension choice for softmax has been deprecated. Change the call to include dim=X as an argument.\n",
      "  if __name__ == '__main__':\n"
     ]
    },
    {
     "name": "stdout",
     "output_type": "stream",
     "text": [
      "Max abs diff b/w torch and tf 0.0\n",
      "Max abs diff b/w torch and CrysX 2.909796011252297e-06\n"
     ]
    }
   ],
   "source": [
    "nSamples = 2000\n",
    "nOutputs = 3000 #nClasess\n",
    "# Torch input\n",
    "predictions_torch_ = torch.rand((nSamples,nOutputs),requires_grad=True)\n",
    "# print(predictions_torch)\n",
    "# Predictions are supposed to be probabilities from 0 to 1, summing upto 1.\n",
    "# Therefore, apply a softmax on them\n",
    "m = torch.nn.Softmax()\n",
    "predictions_torch = m(predictions_torch_)\n",
    "# print(predictions_torch)\n",
    "# Generate random one hot vectors matrix\n",
    "# No. of classes\n",
    "n = nOutputs\n",
    "target_indices = torch.randint(1,n, size=(1,nSamples)).reshape(nSamples) # Get a 1D tensor index of size =nSamples=2000\n",
    "# print(target_indices)\n",
    "# print(target_indices.shape)\n",
    "\n",
    "# Convert the index tensor to one-hot encoded vectors matrix\n",
    "target_one_hot = torch.nn.functional.one_hot(target_indices, n) # size=(4,7,n)\n",
    "targets_torch = target_one_hot.float() # torch.randint(low=0,high=2, size=(2000,3000)).float()\n",
    "# print(targets_torch)\n",
    "# print(targets_torch.shape)\n",
    "\n",
    "# CrysX-NN input\n",
    "predictions_crysx_nn = predictions_torch.cpu().detach().numpy()\n",
    "predictions_cupy = cp.asarray(predictions_crysx_nn)\n",
    "targets_crysx_nn = targets_torch.cpu().detach().numpy()\n",
    "\n",
    "# Tensorflow input\n",
    "predictions_tf = tf.convert_to_tensor(predictions_crysx_nn, dtype=tf.float32)\n",
    "targets_tf = tf.convert_to_tensor(targets_crysx_nn, dtype=tf.float32)\n",
    "\n",
    "# Torch\n",
    "cce_loss_func = torch.nn.CrossEntropyLoss()\n",
    "# cce_loss_func = torch.nn.NLLLoss()\n",
    "# cce_torch_value = cce_loss_func(predictions_torch_, targets_torch) # Don't use one-hot vectors for PyTorch\n",
    "cce_torch_value = cce_loss_func(predictions_torch_, target_indices) # Use the class/target indices directly for Pytorch\n",
    "# print(cce_torch_value)\n",
    "\n",
    "# CrysX\n",
    "# Default epsilon=1e-9 (gives exactly the same answer as tensorflow)\n",
    "cce_crysx_nn_value = CCE_loss_cupy(predictions_cupy, targets_cupy)/predictions_cupy.shape[0]\n",
    "# print(cce_crysx_nn_value)\n",
    "\n",
    "# Tensorflow\n",
    "cce_tf_func = tf.keras.losses.CategoricalCrossentropy()\n",
    "cce_tf_value = cce_tf_func(targets_tf, predictions_tf)\n",
    "# print(cce_tf_value)\n",
    "\n",
    "#Diff b/w tf and torch\n",
    "print('Max abs diff b/w torch and tf', abs(cce_torch_value.cpu().detach().numpy() - cce_tf_value.numpy()).max())\n",
    "\n",
    "#Diff b/w crysx_nn and torch\n",
    "print('Max abs diff b/w torch and CrysX', abs(cce_torch_value.cpu().detach().numpy() - cp.asnumpy(cce_crysx_nn_value)).max())\n"
   ]
  },
  {
   "cell_type": "markdown",
   "id": "e650c1b6",
   "metadata": {},
   "source": [
    "### Compare performance with arrays of different sizes"
   ]
  },
  {
   "cell_type": "code",
   "execution_count": 25,
   "id": "3a8fd3d1",
   "metadata": {},
   "outputs": [
    {
     "name": "stdout",
     "output_type": "stream",
     "text": [
      "16 µs ± 1.22 µs per loop (mean ± std. dev. of 7 runs, 100 loops each)\n",
      "8.14 µs ± 2.03 µs per loop (mean ± std. dev. of 7 runs, 100 loops each)\n",
      "351 µs ± 58 µs per loop (mean ± std. dev. of 7 runs, 100 loops each)\n",
      "Size: (10, 10)\n",
      "Max abs diff b/w torch and tf 4.7683716e-07\n",
      "Max abs diff b/w torch and CrysX 4.065944689823908e-07\n",
      "805 µs ± 14.6 µs per loop (mean ± std. dev. of 7 runs, 100 loops each)\n",
      "867 µs ± 41.9 µs per loop (mean ± std. dev. of 7 runs, 100 loops each)\n",
      "1.12 ms ± 85.3 µs per loop (mean ± std. dev. of 7 runs, 100 loops each)\n",
      "Size: (510, 510)\n",
      "Max abs diff b/w torch and tf 1.4305115e-06\n",
      "Max abs diff b/w torch and CrysX 1.4453722541052372e-06\n",
      "3.46 ms ± 154 µs per loop (mean ± std. dev. of 7 runs, 100 loops each)\n",
      "4.34 ms ± 108 µs per loop (mean ± std. dev. of 7 runs, 100 loops each)\n",
      "10.9 ms ± 130 µs per loop (mean ± std. dev. of 7 runs, 100 loops each)\n",
      "Size: (1010, 1010)\n",
      "Max abs diff b/w torch and tf 1.7881393e-06\n",
      "Max abs diff b/w torch and CrysX 1.8270767787598174e-06\n",
      "7.51 ms ± 105 µs per loop (mean ± std. dev. of 7 runs, 100 loops each)\n",
      "9.39 ms ± 170 µs per loop (mean ± std. dev. of 7 runs, 100 loops each)\n",
      "18 ms ± 190 µs per loop (mean ± std. dev. of 7 runs, 100 loops each)\n",
      "Size: (1510, 1510)\n",
      "Max abs diff b/w torch and tf 2.026558e-06\n",
      "Max abs diff b/w torch and CrysX 2.133639253720787e-06\n",
      "13.4 ms ± 256 µs per loop (mean ± std. dev. of 7 runs, 100 loops each)\n",
      "16.5 ms ± 198 µs per loop (mean ± std. dev. of 7 runs, 100 loops each)\n",
      "30.3 ms ± 400 µs per loop (mean ± std. dev. of 7 runs, 100 loops each)\n",
      "Size: (2010, 2010)\n",
      "Max abs diff b/w torch and tf 2.2649765e-05\n",
      "Max abs diff b/w torch and CrysX 2.2641986281102255e-05\n",
      "21.7 ms ± 924 µs per loop (mean ± std. dev. of 7 runs, 100 loops each)\n",
      "25.5 ms ± 354 µs per loop (mean ± std. dev. of 7 runs, 100 loops each)\n",
      "53.8 ms ± 5.11 ms per loop (mean ± std. dev. of 7 runs, 100 loops each)\n",
      "Size: (2510, 2510)\n",
      "Max abs diff b/w torch and tf 2.1457672e-06\n",
      "Max abs diff b/w torch and CrysX 1.910111763203659e-06\n"
     ]
    }
   ],
   "source": [
    "time_torch = []\n",
    "time_crysx_nn = []\n",
    "time_tf = []\n",
    "sizes = []\n",
    "\n",
    "for n_size in range(10,3000,500):\n",
    "    sizes.append(n_size*n_size)\n",
    "    # Torch input\n",
    "    predictions_torch_ = torch.rand((n_size,n_size),requires_grad=True)\n",
    "    # Predictions are supposed to be probabilities from 0 to 1, summing upto 1.\n",
    "    # Therefore, apply a softmax on them\n",
    "    m = torch.nn.Softmax()\n",
    "    predictions_torch = m(predictions_torch_)\n",
    "    # Generate random one hot vectors matrix\n",
    "    # No. of classes\n",
    "    n = n_size\n",
    "    target_indices = torch.randint(1,n, size=(1,n_size)).reshape(n_size) # Get a 1D tensor index of size =nSamples=2000\n",
    "    # Convert the index tensor to one-hot encoded vectors matrix\n",
    "    target_one_hot = torch.nn.functional.one_hot(target_indices, n) # size=(4,7,n)\n",
    "    targets_torch = target_one_hot.float() # torch.randint(low=0,high=2, size=(2000,3000)).float()\n",
    "    # CrysX-NN input\n",
    "    predictions_crysx_nn = predictions_torch.cpu().detach().numpy()\n",
    "    predictions_cupy = cp.asarray(predictions_crysx_nn)\n",
    "    targets_crysx_nn = targets_torch.cpu().detach().numpy()\n",
    "    # Tensorflow input\n",
    "    predictions_tf = tf.convert_to_tensor(predictions_crysx_nn, dtype=tf.float32)\n",
    "    targets_tf = tf.convert_to_tensor(targets_crysx_nn, dtype=tf.float32)\n",
    "    \n",
    "    ##--Timings--\n",
    "    # Torch\n",
    "    cce_loss_func = torch.nn.BCELoss()\n",
    "    cce_torch_value = bce_loss_func(predictions_torch_, target_indices)\n",
    "    time = %timeit -n 100 -o bce_loss_func(predictions_torch_, target_indices)\n",
    "    # For time of each run\n",
    "    time_torch.append(np.mean(time.timings)) \n",
    "    # For total time\n",
    "#     time_torch.append(np.mean(time.all_runs)) \n",
    "    # CrysX\n",
    "    cce_crysx_nn_value = CCE_loss(predictions_cupy, targets_cupy)/predictions_cupy.shape[0]\n",
    "    time = %timeit -n 100 -o CCE_loss(predictions_cupy, targets_cupy)/predictions_cupy.shape[0]\n",
    "    # For time of each run\n",
    "    time_crysx_nn.append(np.mean(time.timings))\n",
    "    # Tensorflow\n",
    "    cce_tf_func = tf.keras.losses.CategoricalCrossentropy()\n",
    "    cce_tf_value = bce_tf_func(targets_tf, predictions_tf)\n",
    "    time = %timeit -n 100 -o bce_tf_func(targets_tf, predictions_tf)\n",
    "    # For time of each run\n",
    "    time_tf.append(np.mean(time.timings))\n",
    "    print('Size:', predictions_crysx_nn.shape)\n",
    "    #Diff b/w tf and torch\n",
    "    print('Max abs diff b/w torch and tf', abs(cce_torch_value.cpu().detach().numpy() - cce_tf_value.numpy()).max())\n",
    "    #Diff b/w crysx_nn and torch\n",
    "    print('Max abs diff b/w torch and CrysX', abs(cce_torch_value.cpu().detach().numpy() - cp.asnumpy(cce_crysx_nn_value)).max())"
   ]
  },
  {
   "cell_type": "markdown",
   "id": "305d3c1e",
   "metadata": {},
   "source": [
    "### Plot the results"
   ]
  },
  {
   "cell_type": "code",
   "execution_count": 26,
   "id": "e63806ac",
   "metadata": {
    "scrolled": true
   },
   "outputs": [
    {
     "data": {
      "image/png": "[encoded data removed]",
      "text/plain": [
       "<Figure size 432x288 with 1 Axes>"
      ]
     },
     "metadata": {
      "needs_background": "light"
     },
     "output_type": "display_data"
    }
   ],
   "source": [
    "\n",
    "plt.plot(sizes,time_torch, label='PyTorch')\n",
    "plt.plot(sizes,time_crysx_nn, label='CrysX-NN')\n",
    "plt.plot(sizes,time_tf, label='Tensorflow')\n",
    "plt.legend()\n",
    "plt.xlabel('Array sizes')\n",
    "plt.ylabel('Average Time (seconds)')\n",
    "plt.title('Benchmark CCE_loss (GPU)')\n",
    "# plt.show()\n",
    "plt.subplots_adjust(left=0.15)\n",
    "plt.savefig(\"CCE_loss_GPU.png\", transparent=True)\n",
    "files.download(\"CCE_loss_GPU.png\")"
   ]
  },
  {
   "cell_type": "markdown",
   "id": "33b502eb",
   "metadata": {},
   "source": [
    "### Validate gradients"
   ]
  },
  {
   "cell_type": "code",
   "execution_count": 27,
   "id": "e4d3a415",
   "metadata": {},
   "outputs": [],
   "source": [
    "def tf_bce_grad(targets_tf, predictions_tf):\n",
    "    with tf.GradientTape() as g:\n",
    "        g.watch(predictions_tf)\n",
    "        bce_tf_func = tf.keras.losses.BinaryCrossentropy()\n",
    "        bce_tf_value = bce_tf_func(targets_tf, predictions_tf)\n",
    "    grad = g.gradient(bce_tf_value, predictions_tf)\n",
    "    return grad#.numpy()"
   ]
  },
  {
   "cell_type": "code",
   "execution_count": 28,
   "id": "4dc40d99",
   "metadata": {},
   "outputs": [
    {
     "name": "stderr",
     "output_type": "stream",
     "text": [
      "C:\\Users\\manas\\anaconda3\\envs\\crysx_nn\\lib\\site-packages\\crysx_nn\\loss.py:154: RuntimeWarning: divide by zero encountered in true_divide\n",
      "  return -(np.nan_to_num(np.divide(targets,predictions,dtype=targets.dtype))-np.nan_to_num(np.divide(1.-targets,1.-predictions,dtype=targets.dtype)))/predictions.shape[1]\n"
     ]
    },
    {
     "name": "stdout",
     "output_type": "stream",
     "text": [
      "Max abs diff b/w torch and tf 166666.67\n",
      "Max abs diff b/w torch and CrysX 5.6713723e+31\n"
     ]
    }
   ],
   "source": [
    "# Torch input\n",
    "predictions_torch = torch.rand((2000,3000),requires_grad=True)\n",
    "# print(predictions_torch)\n",
    "targets_torch = torch.randint(low=0,high=2, size=(2000,3000)).float()\n",
    "# print(targets_torch)\n",
    "# CrysX-NN input\n",
    "predictions_crysx_nn = predictions_torch.cpu().detach().numpy()\n",
    "predictions_cupy = cp.asarray(predictions_crysx_nn)\n",
    "targets_crysx_nn = targets_torch.cpu().detach().numpy()\n",
    "# Tensorflow input\n",
    "predictions_tf = tf.convert_to_tensor(predictions_crysx_nn, dtype=tf.float32)\n",
    "targets_tf = tf.convert_to_tensor(targets_crysx_nn, dtype=tf.float32)\n",
    "\n",
    "# Torch\n",
    "bce_loss_func = torch.nn.BCELoss()\n",
    "bce_torch_value = bce_loss_func(predictions_torch, targets_torch)\n",
    "bce_torch_value.backward()\n",
    "gradientTorch = torch.autograd.grad(bce_loss_func(predictions_torch,targets_torch),predictions_torch)[0]\n",
    "# print(gradientTorch)\n",
    "\n",
    "# CrysX\n",
    "gradientCrysX_NN = BCE_loss_grad(predictions_crysx_nn, targets_crysx_nn)/predictions_crysx_nn.shape[0]\n",
    "\n",
    "# Tensorflow\n",
    "gradientTF = tf_bce_grad(targets_tf, predictions_tf)\n",
    "\n",
    "#Diff b/w tf and torch\n",
    "print('Max abs diff b/w torch and tf', abs(gradientTorch.cpu().detach().numpy() - gradientTF.numpy()).max())\n",
    "\n",
    "#Diff b/w crysx_nn and torch\n",
    "print('Max abs diff b/w torch and CrysX', abs(gradientTorch.cpu().detach().numpy() - cp.asnumpy(gradientCrysX_NN)).max())"
   ]
  }
 ],
 "metadata": {
  "kernelspec": {
   "display_name": "Python 3 (ipykernel)",
   "language": "python",
   "name": "python3"
  },
  "language_info": {
   "codemirror_mode": {
    "name": "ipython",
    "version": 3
   },
   "file_extension": ".py",
   "mimetype": "text/x-python",
   "name": "python",
   "nbconvert_exporter": "python",
   "pygments_lexer": "ipython3",
   "version": "3.7.11"
  }
 },
 "nbformat": 4,
 "nbformat_minor": 5
}
